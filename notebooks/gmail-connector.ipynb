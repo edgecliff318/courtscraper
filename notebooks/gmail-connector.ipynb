{
    "cells": [
        {
            "cell_type": "code",
            "execution_count": 1,
            "metadata": {},
            "outputs": [],
            "source": [
                "import sys\n",
                "import os\n",
                "from langchain.prompts import PromptTemplate\n",
                "from langchain_core.messages import HumanMessage\n",
                "from langchain_openai import AzureChatOpenAI\n",
                "from langchain.chains import LLMChain\n",
                "\n",
                "from langchain_core.output_parsers import JsonOutputParser\n",
                "\n",
                "import plotly \n",
                "import plotly.graph_objs as go\n"
            ]
        },
        {
            "cell_type": "markdown",
            "metadata": {},
            "source": [
                "Use cases: \n",
                "\n",
                "Communication with the Court\n",
                "1. Casenet: \n",
                "- Receipts (Confirmation of Filing)\n",
                "- Returned (Rejected) Notice\n",
                "- E-Notice (another party files something on the case on Casenet)\n",
                "\n",
                "2. TylerTech : IL Cook County\n",
                "- Only one mail sent \n",
                "\n",
                "3. Direct Email from the Court\n",
                "\n",
                "4. Direct Email to the Court with a response \n",
                "\n",
                "Communication with the Prosecutor \n",
                "- Acceptance \n",
                "- Rejection \n",
                "- Request for more information\n",
                "\n",
                "Communication with the Client\n",
                "- Initial marketing email\n",
                "\n",
                "\n",
                "Next Steps: \n",
                "- Card should have the following information \n",
                "    - Case Number\n",
                "    - Court Date / Court Time \n",
                "    - Court/Court Location\n",
                "    - Charges \n",
                "- Rank the cases by next court date / court time \n",
                "- Refresh the open cases every day from Casenet to update the court date / time \n",
                "    - A case is closed if we have anything expect disposed \n",
                "- Analyze all the emails and update the status and mark them as new when new update based on detemerministic rules\n",
                "- Level#2: Analyze the text inside the emails \n",
                "- Level#3: Analyze the last paid invoices \n",
                "- Suggestion from the beginning should contain the appropriate action "
            ]
        },
        {
            "cell_type": "code",
            "execution_count": 2,
            "metadata": {},
            "outputs": [],
            "source": [
                "OPENAI_API_VERSION = \"2024-02-15-preview\"\n",
                "AZURE_OPENAI_KEY = \"d7878ff58933461a8fd46e35e018c714\"\n",
                "AZURE_OPENAI_ENDPOINT = \"https://fublo.openai.azure.com/\"\n",
                "AZURE_OPENAI_CHATGPT_DEPLOYMENT = \"gpt-35-turbo-16k\"\n",
                "\n",
                "os.environ[\"AZURE_OPENAI_API_KEY\"] = AZURE_OPENAI_KEY\n",
                "os.environ[\"AZURE_OPENAI_ENDPOINT\"] = AZURE_OPENAI_ENDPOINT\n",
                "os.environ[\"OPENAI_API_VERSION\"] = OPENAI_API_VERSION\n",
                "os.environ[\"AZURE_OPENAI_CHATGPT_DEPLOYMENT\"] = AZURE_OPENAI_CHATGPT_DEPLOYMENT"
            ]
        },
        {
            "cell_type": "code",
            "execution_count": 3,
            "metadata": {},
            "outputs": [],
            "source": [
                "llm = AzureChatOpenAI(\n",
                "    azure_deployment=AZURE_OPENAI_CHATGPT_DEPLOYMENT,\n",
                ")"
            ]
        },
        {
            "cell_type": "code",
            "execution_count": 4,
            "metadata": {},
            "outputs": [],
            "source": [
                "sys.path.append(\"..\")\n",
                "os.environ[\"ROOT_PATH\"] = \"/Users/aennassiri/Projects/Personal/ticket-washer\"\n",
                "os.environ[\"GOOGLE_APPLICATION_CREDENTIALS\"] = (\n",
                "    \"/Users/aennassiri/Projects/Personal/ticket-washer/configuration/fubloo-app-1f213ca274de.json\"\n",
                ")"
            ]
        },
        {
            "cell_type": "code",
            "execution_count": 5,
            "metadata": {},
            "outputs": [],
            "source": [
                "from src.services.emails import GmailConnector\n"
            ]
        },
        {
            "cell_type": "code",
            "execution_count": 6,
            "metadata": {},
            "outputs": [],
            "source": [
                "user_id = \"ayoub@tickettakedown.com\""
            ]
        },
        {
            "cell_type": "code",
            "execution_count": 7,
            "metadata": {},
            "outputs": [],
            "source": [
                "gmail_connector = GmailConnector(user_id=user_id)\n"
            ]
        },
        {
            "cell_type": "code",
            "execution_count": 8,
            "metadata": {},
            "outputs": [
                {
                    "name": "stdout",
                    "output_type": "stream",
                    "text": [
                        "Got the first 20 emails\n",
                        "Got the first 40 emails\n",
                        "Got the first 60 emails\n",
                        "Got the first 80 emails\n",
                        "Got the first 100 emails\n",
                        "Got the first 120 emails\n",
                        "Got the first 140 emails\n",
                        "Got the first 160 emails\n",
                        "Got the first 180 emails\n",
                        "Got the first 200 emails\n",
                        "Got the first 220 emails\n",
                        "Got the first 240 emails\n",
                        "Got the first 260 emails\n",
                        "Got the first 280 emails\n",
                        "Got the first 300 emails\n",
                        "Got the first 320 emails\n",
                        "Got the first 340 emails\n",
                        "Got the first 360 emails\n",
                        "Got the first 380 emails\n",
                        "Got the first 400 emails\n",
                        "Got the first 420 emails\n",
                        "Got the first 440 emails\n",
                        "Got the first 460 emails\n",
                        "Got the first 480 emails\n",
                        "Got the first 500 emails\n",
                        "Got the first 520 emails\n",
                        "Got the first 540 emails\n",
                        "Got the first 560 emails\n",
                        "Got the first 580 emails\n",
                        "Got the first 600 emails\n",
                        "Got the first 620 emails\n",
                        "Got the first 640 emails\n",
                        "Got the first 660 emails\n",
                        "Got the first 680 emails\n",
                        "Got the first 700 emails\n",
                        "Got the first 720 emails\n",
                        "Got the first 740 emails\n",
                        "Got the first 760 emails\n",
                        "Got the first 780 emails\n",
                        "Got the first 800 emails\n",
                        "Got the first 820 emails\n",
                        "Got the first 840 emails\n",
                        "Got the first 860 emails\n",
                        "Got the first 880 emails\n",
                        "Got the first 900 emails\n",
                        "Got the first 920 emails\n",
                        "Got the first 940 emails\n",
                        "Got the first 960 emails\n",
                        "Got the first 980 emails\n",
                        "Got the first 1000 emails\n",
                        "Got the first 1020 emails\n",
                        "Got the first 1040 emails\n",
                        "Got the first 1060 emails\n",
                        "Got the first 1080 emails\n",
                        "Got the first 1100 emails\n",
                        "Got the first 1120 emails\n",
                        "Got the first 1140 emails\n",
                        "Got the first 1160 emails\n",
                        "Got the first 1180 emails\n",
                        "Got the first 1200 emails\n",
                        "Got the first 1220 emails\n",
                        "Got the first 1240 emails\n",
                        "Got the first 1260 emails\n",
                        "Got the first 1280 emails\n",
                        "Got the first 1300 emails\n",
                        "Got the first 1320 emails\n",
                        "Got the first 1340 emails\n",
                        "Got the first 1360 emails\n",
                        "Got the first 1380 emails\n",
                        "Got the first 1400 emails\n",
                        "Got the first 1420 emails\n",
                        "Got the first 1440 emails\n",
                        "Got the first 1460 emails\n",
                        "Got the first 1480 emails\n",
                        "Got the first 1500 emails\n",
                        "Got the first 1520 emails\n",
                        "Got the first 1540 emails\n",
                        "Got the first 1560 emails\n",
                        "Got the first 1580 emails\n",
                        "Got the first 1600 emails\n",
                        "Got the first 1620 emails\n",
                        "Got the first 1640 emails\n",
                        "Got the first 1660 emails\n",
                        "Got the first 1680 emails\n",
                        "Got the first 1700 emails\n",
                        "Got the first 1720 emails\n",
                        "Got the first 1740 emails\n",
                        "Got the first 1760 emails\n",
                        "Got the first 1780 emails\n",
                        "Got the first 1800 emails\n",
                        "Got the first 1820 emails\n",
                        "Got the first 1840 emails\n",
                        "Got the first 1860 emails\n",
                        "Got the first 1880 emails\n",
                        "Got the first 1900 emails\n",
                        "Got the first 1920 emails\n",
                        "Got the first 1940 emails\n",
                        "Got the first 1960 emails\n",
                        "Got the first 1980 emails\n",
                        "Got the first 2000 emails\n",
                        "Got the first 2020 emails\n",
                        "Got the first 2040 emails\n",
                        "Got the first 2060 emails\n",
                        "Got the first 2080 emails\n",
                        "Got the first 2100 emails\n",
                        "Got the first 2120 emails\n",
                        "Got the first 2140 emails\n",
                        "Got the first 2160 emails\n",
                        "Got the first 2180 emails\n",
                        "Got the first 2200 emails\n",
                        "Got the first 2220 emails\n",
                        "Got the first 2240 emails\n",
                        "Got the first 2260 emails\n",
                        "Got the first 2280 emails\n",
                        "Got the first 2300 emails\n",
                        "Got the first 2320 emails\n",
                        "Got the first 2340 emails\n",
                        "Got the first 2360 emails\n",
                        "Got the first 2380 emails\n",
                        "Got the first 2400 emails\n",
                        "Got the first 2420 emails\n",
                        "Got the first 2440 emails\n",
                        "Got the first 2460 emails\n",
                        "Got the first 2480 emails\n",
                        "Got the first 2500 emails\n",
                        "Got the first 2520 emails\n",
                        "Got the first 2540 emails\n",
                        "Got the first 2560 emails\n",
                        "Got the first 2580 emails\n",
                        "Got the first 2600 emails\n",
                        "Got the first 2620 emails\n",
                        "Got the first 2640 emails\n",
                        "Got the first 2660 emails\n",
                        "Got the first 2680 emails\n",
                        "Got the first 2700 emails\n",
                        "Got the first 2720 emails\n",
                        "Got the first 2740 emails\n",
                        "Got the first 2760 emails\n",
                        "Got the first 2780 emails\n",
                        "Got the first 2800 emails\n",
                        "Got the first 2820 emails\n",
                        "Got the first 2840 emails\n",
                        "Got the first 2860 emails\n",
                        "Got the first 2880 emails\n",
                        "Got the first 2900 emails\n",
                        "Got the first 2920 emails\n",
                        "Got the first 2940 emails\n",
                        "Got the first 2960 emails\n",
                        "Got the first 2980 emails\n",
                        "Got the first 3000 emails\n",
                        "Got the first 3020 emails\n",
                        "Got the first 3040 emails\n",
                        "Got the first 3060 emails\n",
                        "Got the first 3080 emails\n",
                        "Got the first 3100 emails\n",
                        "Got the first 3120 emails\n",
                        "Got the first 3140 emails\n",
                        "Got the first 3160 emails\n",
                        "Got the first 3180 emails\n",
                        "Got the first 3200 emails\n",
                        "Got the first 3220 emails\n",
                        "Got the first 3240 emails\n",
                        "Got the first 3260 emails\n",
                        "Got the first 3280 emails\n",
                        "Got the first 3300 emails\n",
                        "Got the first 3320 emails\n",
                        "Got the first 3340 emails\n",
                        "Got the first 3360 emails\n",
                        "Got the first 3380 emails\n",
                        "Got the first 3400 emails\n",
                        "Got the first 3420 emails\n",
                        "Got the first 3440 emails\n",
                        "Got the first 3460 emails\n",
                        "Got the first 3480 emails\n",
                        "Got the first 3500 emails\n",
                        "Got the first 3520 emails\n",
                        "Got the first 3540 emails\n",
                        "Got the first 3560 emails\n",
                        "Got the first 3580 emails\n",
                        "Got the first 3600 emails\n",
                        "Got the first 3620 emails\n",
                        "Got the first 3640 emails\n",
                        "Got the first 3660 emails\n",
                        "Got the first 3680 emails\n",
                        "Got the first 3700 emails\n",
                        "Got the first 3720 emails\n",
                        "Got the first 3740 emails\n",
                        "Got the first 3760 emails\n",
                        "Got the first 3780 emails\n",
                        "Got the first 3800 emails\n",
                        "Got the first 3820 emails\n",
                        "Got the first 3840 emails\n",
                        "Got the first 3860 emails\n",
                        "Got the first 3880 emails\n",
                        "Got the first 3900 emails\n",
                        "Got the first 3920 emails\n",
                        "Got the first 3940 emails\n",
                        "Got the first 3960 emails\n",
                        "Got the first 3980 emails\n",
                        "Got the first 4000 emails\n",
                        "Got the first 4020 emails\n",
                        "Got the first 4040 emails\n",
                        "Got the first 4060 emails\n",
                        "Got the first 4080 emails\n",
                        "Got the first 4100 emails\n",
                        "Got the first 4120 emails\n",
                        "Got the first 4140 emails\n",
                        "Got the first 4160 emails\n",
                        "Got the first 4180 emails\n",
                        "Got the first 4200 emails\n",
                        "Got the first 4220 emails\n",
                        "Got the first 4240 emails\n",
                        "Got the first 4260 emails\n",
                        "Got the first 4280 emails\n",
                        "Got the first 4300 emails\n",
                        "Got the first 4320 emails\n",
                        "Got the first 4340 emails\n",
                        "Got the first 4360 emails\n",
                        "Got the first 4380 emails\n",
                        "Got the first 4400 emails\n",
                        "Got the first 4420 emails\n",
                        "Got the first 4440 emails\n",
                        "Got the first 4460 emails\n",
                        "Got the first 4480 emails\n",
                        "Got the first 4500 emails\n",
                        "Got the first 4520 emails\n",
                        "Got the first 4540 emails\n",
                        "Got the first 4560 emails\n",
                        "Got the first 4580 emails\n",
                        "Got the first 4600 emails\n",
                        "Got the first 4620 emails\n",
                        "Got the first 4640 emails\n",
                        "Got the first 4660 emails\n",
                        "Got the first 4680 emails\n",
                        "Got the first 4700 emails\n",
                        "Got the first 4720 emails\n",
                        "Got the first 4740 emails\n",
                        "Got the first 4760 emails\n",
                        "Got the first 4780 emails\n",
                        "Got the first 4800 emails\n",
                        "Got the first 4820 emails\n",
                        "Got the first 4840 emails\n",
                        "Got the first 4860 emails\n",
                        "Got the first 4880 emails\n",
                        "Got the first 4900 emails\n",
                        "Got the first 4920 emails\n",
                        "Got the first 4940 emails\n",
                        "Got the first 4960 emails\n",
                        "Got the first 4980 emails\n",
                        "Got the first 5000 emails\n",
                        "Got the first 5020 emails\n",
                        "Got the first 5040 emails\n",
                        "Got the first 5060 emails\n",
                        "Got the first 5080 emails\n",
                        "Got the first 5100 emails\n",
                        "Got the first 5120 emails\n",
                        "Got the first 5140 emails\n",
                        "Got the first 5160 emails\n",
                        "Got the first 5180 emails\n",
                        "Got the first 5200 emails\n",
                        "Got the first 5220 emails\n",
                        "Got the first 5240 emails\n",
                        "Got the first 5260 emails\n",
                        "Got the first 5280 emails\n",
                        "Got the first 5300 emails\n",
                        "Got the first 5320 emails\n",
                        "Got the first 5340 emails\n",
                        "Got the first 5360 emails\n",
                        "Got the first 5380 emails\n",
                        "Got the first 5400 emails\n",
                        "Got the first 5420 emails\n",
                        "Got the first 5440 emails\n",
                        "Got the first 5460 emails\n",
                        "Got the first 5480 emails\n",
                        "Got the first 5500 emails\n",
                        "Got the first 5520 emails\n",
                        "Got the first 5540 emails\n",
                        "Got the first 5560 emails\n",
                        "Got the first 5580 emails\n",
                        "Got the first 5600 emails\n",
                        "Got the first 5620 emails\n",
                        "Got the first 5640 emails\n",
                        "Got the first 5660 emails\n",
                        "Got the first 5680 emails\n",
                        "Got the first 5700 emails\n",
                        "Got the first 5720 emails\n",
                        "Got the first 5740 emails\n",
                        "Got the first 5760 emails\n",
                        "Got the first 5780 emails\n",
                        "Got the first 5800 emails\n",
                        "Got the first 5820 emails\n",
                        "Got the first 5840 emails\n",
                        "Got the first 5860 emails\n",
                        "Got the first 5880 emails\n",
                        "Got the first 5900 emails\n",
                        "Got the first 5920 emails\n",
                        "Got the first 5940 emails\n",
                        "Got the first 5960 emails\n",
                        "Got the first 5980 emails\n",
                        "Got the first 6000 emails\n",
                        "Got the first 6020 emails\n",
                        "Got the first 6040 emails\n",
                        "Got the first 6060 emails\n",
                        "Got the first 6080 emails\n",
                        "Got the first 6100 emails\n",
                        "Got the first 6120 emails\n",
                        "Got the first 6140 emails\n",
                        "Got the first 6160 emails\n",
                        "Got the first 6180 emails\n",
                        "Got the first 6200 emails\n",
                        "Got the first 6220 emails\n",
                        "Got the first 6240 emails\n",
                        "Got the first 6260 emails\n",
                        "Got the first 6280 emails\n",
                        "Got the first 6300 emails\n",
                        "Got the first 6320 emails\n",
                        "Got the first 6340 emails\n",
                        "Got the first 6360 emails\n",
                        "Got the first 6380 emails\n",
                        "Got the first 6400 emails\n",
                        "Got the first 6420 emails\n",
                        "Got the first 6440 emails\n",
                        "Got the first 6460 emails\n",
                        "Got the first 6480 emails\n",
                        "Got the first 6500 emails\n",
                        "Got the first 6520 emails\n",
                        "Got the first 6540 emails\n",
                        "Got the first 6560 emails\n",
                        "Got the first 6580 emails\n",
                        "Got the first 6600 emails\n",
                        "Got the first 6620 emails\n",
                        "Got the first 6640 emails\n",
                        "Got the first 6660 emails\n",
                        "Got the first 6680 emails\n",
                        "Got the first 6700 emails\n",
                        "Got the first 6720 emails\n",
                        "Got the first 6740 emails\n",
                        "Got the first 6760 emails\n",
                        "Got the first 6780 emails\n",
                        "Got the first 6800 emails\n",
                        "Got the first 6820 emails\n",
                        "Got the first 6840 emails\n",
                        "Got the first 6860 emails\n",
                        "Got the first 6880 emails\n",
                        "Got the first 6900 emails\n",
                        "Got the first 6920 emails\n",
                        "Got the first 6940 emails\n",
                        "Got the first 6960 emails\n",
                        "Got the first 6980 emails\n",
                        "Got the first 7000 emails\n",
                        "Got the first 7020 emails\n",
                        "Got the first 7040 emails\n",
                        "Got the first 7060 emails\n",
                        "Got the first 7080 emails\n",
                        "Got the first 7100 emails\n",
                        "Got the first 7120 emails\n",
                        "Got the first 7140 emails\n",
                        "Got the first 7160 emails\n",
                        "Got the first 7180 emails\n",
                        "Got the first 7200 emails\n",
                        "Got the first 7220 emails\n",
                        "Got the first 7240 emails\n",
                        "Got the first 7260 emails\n",
                        "Got the first 7280 emails\n",
                        "Got the first 7300 emails\n",
                        "Got the first 7320 emails\n",
                        "Got the first 7340 emails\n",
                        "Got the first 7360 emails\n",
                        "Got the first 7380 emails\n",
                        "Got the first 7400 emails\n",
                        "Got the first 7420 emails\n",
                        "Got the first 7440 emails\n",
                        "Got the first 7460 emails\n",
                        "Got the first 7480 emails\n",
                        "Got the first 7500 emails\n",
                        "Got the first 7520 emails\n",
                        "Got the first 7540 emails\n",
                        "Got the first 7560 emails\n",
                        "Got the first 7580 emails\n",
                        "Got the first 7600 emails\n",
                        "Got the first 7620 emails\n",
                        "Got the first 7640 emails\n",
                        "Got the first 7660 emails\n",
                        "Got the first 7680 emails\n",
                        "Got the first 7700 emails\n",
                        "Got the first 7720 emails\n",
                        "Got the first 7740 emails\n",
                        "Got the first 7760 emails\n",
                        "Got the first 7780 emails\n",
                        "Got the first 7800 emails\n",
                        "Got the first 7820 emails\n",
                        "Got the first 7840 emails\n",
                        "Got the first 7860 emails\n",
                        "Got the first 7880 emails\n",
                        "Got the first 7900 emails\n",
                        "Got the first 7920 emails\n",
                        "Got the first 7940 emails\n",
                        "Got the first 7960 emails\n",
                        "Got the first 7980 emails\n",
                        "Got the first 8000 emails\n",
                        "Got the first 8020 emails\n",
                        "Got the first 8040 emails\n",
                        "Got the first 8060 emails\n",
                        "Got the first 8080 emails\n",
                        "Got the first 8100 emails\n",
                        "Got the first 8120 emails\n",
                        "Got the first 8140 emails\n",
                        "Got the first 8160 emails\n",
                        "Got the first 8180 emails\n",
                        "Got the first 8200 emails\n",
                        "Got the first 8220 emails\n",
                        "Got the first 8240 emails\n",
                        "Got the first 8260 emails\n",
                        "Got the first 8280 emails\n",
                        "Got the first 8300 emails\n",
                        "Got the first 8320 emails\n",
                        "Got the first 8340 emails\n",
                        "Got the first 8360 emails\n",
                        "Got the first 8380 emails\n",
                        "Got the first 8400 emails\n",
                        "Got the first 8420 emails\n",
                        "Got the first 8440 emails\n",
                        "Got the first 8460 emails\n",
                        "Got the first 8480 emails\n",
                        "Got the first 8500 emails\n",
                        "Got the first 8520 emails\n",
                        "Got the first 8540 emails\n",
                        "Got the first 8560 emails\n",
                        "Got the first 8580 emails\n",
                        "Got the first 8600 emails\n",
                        "Got the first 8620 emails\n",
                        "Got the first 8640 emails\n",
                        "Got the first 8660 emails\n",
                        "Got the first 8680 emails\n",
                        "Got the first 8700 emails\n",
                        "Got the first 8720 emails\n",
                        "Got the first 8740 emails\n",
                        "Got the first 8760 emails\n",
                        "Got the first 8780 emails\n",
                        "Got the first 8800 emails\n",
                        "Got the first 8820 emails\n",
                        "Got the first 8840 emails\n",
                        "Got the first 8860 emails\n",
                        "Got the first 8880 emails\n",
                        "Got the first 8900 emails\n",
                        "Got the first 8920 emails\n",
                        "Got the first 8940 emails\n",
                        "Got the first 8960 emails\n",
                        "Got the first 8980 emails\n",
                        "Got the first 9000 emails\n",
                        "Got the first 9020 emails\n",
                        "Got the first 9040 emails\n",
                        "Got the first 9060 emails\n",
                        "Got the first 9080 emails\n",
                        "Got the first 9100 emails\n",
                        "Got the first 9120 emails\n",
                        "Got the first 9140 emails\n",
                        "Got the first 9160 emails\n",
                        "Got the first 9180 emails\n",
                        "Got the first 9200 emails\n",
                        "Got the first 9220 emails\n",
                        "Got the first 9240 emails\n",
                        "Got the first 9260 emails\n",
                        "Got the first 9280 emails\n",
                        "Got the first 9300 emails\n",
                        "Got the first 9320 emails\n",
                        "Got the first 9340 emails\n",
                        "Got the first 9360 emails\n",
                        "Got the first 9380 emails\n",
                        "Got the first 9400 emails\n",
                        "Got the first 9420 emails\n",
                        "Got the first 9440 emails\n",
                        "Got the first 9460 emails\n",
                        "Got the first 9480 emails\n",
                        "Got the first 9500 emails\n",
                        "Got the first 9520 emails\n",
                        "Got the first 9540 emails\n",
                        "Got the first 9560 emails\n",
                        "Got the first 9580 emails\n",
                        "Got the first 9600 emails\n",
                        "Got the first 9620 emails\n",
                        "Got the first 9640 emails\n",
                        "Got the first 9660 emails\n",
                        "Got the first 9680 emails\n",
                        "Got the first 9700 emails\n",
                        "Got the first 9720 emails\n",
                        "Got the first 9740 emails\n",
                        "Got the first 9760 emails\n",
                        "Got the first 9780 emails\n",
                        "Got the first 9800 emails\n",
                        "Got the first 9820 emails\n",
                        "Got the first 9840 emails\n",
                        "Got the first 9860 emails\n",
                        "Got the first 9880 emails\n",
                        "Got the first 9900 emails\n",
                        "Got the first 9920 emails\n",
                        "Got the first 9940 emails\n",
                        "Got the first 9960 emails\n",
                        "Got the first 9980 emails\n",
                        "Got the first 10000 emails\n",
                        "Got the first 10020 emails\n",
                        "Got the first 10040 emails\n",
                        "Got the first 10060 emails\n",
                        "Got the first 10080 emails\n",
                        "Got the first 10100 emails\n",
                        "Got the first 10120 emails\n",
                        "Got the first 10140 emails\n",
                        "Got the first 10160 emails\n",
                        "Got the first 10180 emails\n",
                        "Got the first 10200 emails\n",
                        "Got the first 10220 emails\n",
                        "Got the first 10240 emails\n",
                        "Got the first 10260 emails\n",
                        "Got the first 10280 emails\n",
                        "Got the first 10300 emails\n",
                        "Got the first 10320 emails\n",
                        "Got the first 10340 emails\n",
                        "Got the first 10360 emails\n",
                        "Got the first 10380 emails\n",
                        "Got the first 10400 emails\n",
                        "Got the first 10420 emails\n",
                        "Got the first 10440 emails\n",
                        "Got the first 10460 emails\n",
                        "Got the first 10480 emails\n",
                        "Got the first 10500 emails\n",
                        "Got the first 10520 emails\n",
                        "Got the first 10540 emails\n",
                        "Got the first 10560 emails\n",
                        "Got the first 10580 emails\n",
                        "Got the first 10600 emails\n",
                        "Got the first 10620 emails\n",
                        "Got the first 10640 emails\n",
                        "Got the first 10660 emails\n",
                        "Got the first 10680 emails\n",
                        "Got the first 10700 emails\n",
                        "Got the first 10720 emails\n",
                        "Got the first 10740 emails\n",
                        "Got the first 10760 emails\n",
                        "Got the first 10780 emails\n",
                        "Got the first 10800 emails\n",
                        "Got the first 10820 emails\n",
                        "Got the first 10840 emails\n",
                        "Got the first 10860 emails\n",
                        "Got the first 10880 emails\n",
                        "Got the first 10900 emails\n",
                        "Got the first 10920 emails\n",
                        "Got the first 10940 emails\n",
                        "Got the first 10960 emails\n",
                        "Got the first 10980 emails\n",
                        "Got the first 11000 emails\n",
                        "Got the first 11020 emails\n",
                        "Got the first 11040 emails\n",
                        "Got the first 11060 emails\n",
                        "Got the first 11080 emails\n",
                        "Got the first 11100 emails\n",
                        "Got the first 11120 emails\n",
                        "Got the first 11140 emails\n",
                        "Got the first 11160 emails\n",
                        "Got the first 11180 emails\n",
                        "Got the first 11200 emails\n",
                        "Got the first 11220 emails\n",
                        "Got the first 11240 emails\n",
                        "Got the first 11260 emails\n",
                        "Got the first 11280 emails\n",
                        "Got the first 11300 emails\n",
                        "Got the first 11320 emails\n",
                        "Got the first 11340 emails\n",
                        "Got the first 11360 emails\n",
                        "Got the first 11380 emails\n",
                        "Got the first 11400 emails\n",
                        "Got the first 11420 emails\n",
                        "Got the first 11440 emails\n",
                        "Got the first 11460 emails\n",
                        "Got the first 11480 emails\n",
                        "Got the first 11500 emails\n",
                        "Got the first 11520 emails\n",
                        "Got the first 11540 emails\n",
                        "Got the first 11560 emails\n",
                        "Got the first 11580 emails\n",
                        "Got the first 11600 emails\n",
                        "Got the first 11620 emails\n",
                        "Got the first 11640 emails\n",
                        "Got the first 11660 emails\n",
                        "Got the first 11680 emails\n",
                        "Got the first 11700 emails\n",
                        "Got the first 11720 emails\n",
                        "Got the first 11740 emails\n",
                        "Got the first 11760 emails\n",
                        "Got the first 11780 emails\n",
                        "Got the first 11800 emails\n",
                        "Got the first 11820 emails\n",
                        "Got the first 11840 emails\n",
                        "Got the first 11860 emails\n",
                        "Got the first 11880 emails\n",
                        "Got the first 11900 emails\n",
                        "Got the first 11920 emails\n",
                        "Got the first 11940 emails\n",
                        "Got the first 11960 emails\n",
                        "Got the first 11980 emails\n",
                        "Got the first 12000 emails\n",
                        "Got the first 12020 emails\n",
                        "Got the first 12040 emails\n",
                        "Got the first 12060 emails\n",
                        "Got the first 12080 emails\n",
                        "Got the first 12100 emails\n",
                        "Got the first 12120 emails\n",
                        "Got the first 12140 emails\n",
                        "Got the first 12160 emails\n",
                        "Got the first 12180 emails\n",
                        "Got the first 12200 emails\n",
                        "Got the first 12220 emails\n",
                        "Got the first 12240 emails\n",
                        "Got the first 12260 emails\n",
                        "Got the first 12280 emails\n",
                        "Got the first 12300 emails\n",
                        "Got the first 12320 emails\n",
                        "Got the first 12340 emails\n",
                        "Got the first 12360 emails\n",
                        "Got the first 12380 emails\n",
                        "Got the first 12400 emails\n",
                        "Got the first 12420 emails\n",
                        "Got the first 12440 emails\n",
                        "Got the first 12460 emails\n",
                        "Got the first 12480 emails\n",
                        "Got the first 12500 emails\n",
                        "Got the first 12520 emails\n",
                        "Got the first 12540 emails\n",
                        "Got the first 12560 emails\n",
                        "Got the first 12580 emails\n",
                        "Got the first 12600 emails\n",
                        "Got the first 12620 emails\n",
                        "Got the first 12640 emails\n",
                        "Got the first 12660 emails\n",
                        "Got the first 12680 emails\n",
                        "Got the first 12700 emails\n",
                        "Got the first 12720 emails\n",
                        "Got the first 12740 emails\n",
                        "Got the first 12760 emails\n",
                        "Got the first 12780 emails\n",
                        "Got the first 12800 emails\n",
                        "Got the first 12820 emails\n",
                        "Got the first 12840 emails\n",
                        "Got the first 12860 emails\n",
                        "Got the first 12880 emails\n",
                        "Got the first 12900 emails\n",
                        "Got the first 12920 emails\n",
                        "Got the first 12940 emails\n",
                        "Got the first 12960 emails\n",
                        "Got the first 12980 emails\n",
                        "Got the first 13000 emails\n",
                        "Got the first 13020 emails\n",
                        "Got the first 13040 emails\n",
                        "Got the first 13060 emails\n",
                        "Got the first 13080 emails\n",
                        "Got the first 13100 emails\n",
                        "Got the first 13120 emails\n",
                        "Got the first 13140 emails\n",
                        "Got the first 13160 emails\n",
                        "Got the first 13180 emails\n",
                        "Got the first 13200 emails\n",
                        "Got the first 13220 emails\n",
                        "Got the first 13240 emails\n",
                        "Got the first 13260 emails\n",
                        "Got the first 13280 emails\n",
                        "Got the first 13300 emails\n",
                        "Got the first 13320 emails\n",
                        "Got the first 13340 emails\n",
                        "Got the first 13360 emails\n",
                        "Got the first 13380 emails\n",
                        "Got the first 13400 emails\n",
                        "Got the first 13420 emails\n",
                        "Got the first 13440 emails\n",
                        "Got the first 13460 emails\n",
                        "Got the first 13480 emails\n",
                        "Got the first 13500 emails\n",
                        "Got the first 13520 emails\n",
                        "Got the first 13540 emails\n",
                        "Got the first 13560 emails\n",
                        "Got the first 13580 emails\n",
                        "Got the first 13600 emails\n",
                        "Got the first 13620 emails\n",
                        "Got the first 13640 emails\n",
                        "Got the first 13660 emails\n",
                        "Got the first 13680 emails\n",
                        "Got the first 13700 emails\n",
                        "Got the first 13720 emails\n",
                        "Got the first 13740 emails\n",
                        "Got the first 13760 emails\n",
                        "Got the first 13780 emails\n",
                        "Got the first 13800 emails\n",
                        "Got the first 13820 emails\n",
                        "Got the first 13840 emails\n",
                        "Got the first 13860 emails\n",
                        "Got the first 13880 emails\n",
                        "Got the first 13900 emails\n",
                        "Got the first 13920 emails\n",
                        "Got the first 13940 emails\n",
                        "Got the first 13960 emails\n",
                        "Got the first 13980 emails\n",
                        "Got the first 14000 emails\n",
                        "Got the first 14020 emails\n",
                        "Got the first 14040 emails\n",
                        "Got the first 14060 emails\n",
                        "Got the first 14080 emails\n",
                        "Got the first 14100 emails\n",
                        "Got the first 14120 emails\n",
                        "Got the first 14140 emails\n",
                        "Got the first 14160 emails\n",
                        "Got the first 14180 emails\n",
                        "Got the first 14200 emails\n",
                        "Got the first 14220 emails\n",
                        "Got the first 14240 emails\n",
                        "Got the first 14260 emails\n",
                        "Got the first 14280 emails\n",
                        "Got the first 14300 emails\n",
                        "Got the first 14320 emails\n",
                        "Got the first 14340 emails\n",
                        "Got the first 14360 emails\n",
                        "Got the first 14380 emails\n",
                        "Got the first 14400 emails\n",
                        "Got the first 14420 emails\n",
                        "Got the first 14440 emails\n",
                        "Got the first 14460 emails\n",
                        "Got the first 14480 emails\n",
                        "Got the first 14500 emails\n",
                        "Got the first 14520 emails\n",
                        "Got the first 14540 emails\n",
                        "Got the first 14560 emails\n",
                        "Got the first 14580 emails\n",
                        "Got the first 14600 emails\n",
                        "Got the first 14620 emails\n",
                        "Got the first 14640 emails\n",
                        "Got the first 14660 emails\n",
                        "Got the first 14680 emails\n",
                        "Got the first 14700 emails\n",
                        "Got the first 14720 emails\n",
                        "Got the first 14740 emails\n",
                        "Got the first 14760 emails\n",
                        "Got the first 14780 emails\n",
                        "Got the first 14800 emails\n",
                        "Got the first 14820 emails\n",
                        "Got the first 14840 emails\n",
                        "Got the first 14860 emails\n",
                        "Got the first 14880 emails\n",
                        "Got the first 14900 emails\n",
                        "Got the first 14920 emails\n",
                        "Got the first 14940 emails\n",
                        "Got the first 14960 emails\n",
                        "Got the first 14980 emails\n",
                        "Got the first 15000 emails\n",
                        "Got the first 15020 emails\n",
                        "Got the first 15040 emails\n",
                        "Got the first 15060 emails\n",
                        "Got the first 15080 emails\n",
                        "Got the first 15100 emails\n",
                        "Got the first 15120 emails\n",
                        "Got the first 15140 emails\n",
                        "Got the first 15160 emails\n",
                        "Got the first 15180 emails\n",
                        "Got the first 15200 emails\n",
                        "Got the first 15220 emails\n",
                        "Got the first 15240 emails\n",
                        "Got the first 15260 emails\n",
                        "Got the first 15280 emails\n",
                        "Got the first 15300 emails\n",
                        "Got the first 15320 emails\n",
                        "Got the first 15340 emails\n",
                        "Got the first 15360 emails\n",
                        "Got the first 15380 emails\n",
                        "Got the first 15400 emails\n",
                        "Got the first 15420 emails\n",
                        "Got the first 15440 emails\n",
                        "Got the first 15460 emails\n",
                        "Got the first 15480 emails\n",
                        "Got the first 15500 emails\n",
                        "Got the first 15520 emails\n",
                        "Got the first 15540 emails\n",
                        "Got the first 15560 emails\n",
                        "Got the first 15580 emails\n",
                        "Got the first 15600 emails\n",
                        "Got the first 15620 emails\n",
                        "Got the first 15640 emails\n",
                        "Got the first 15660 emails\n",
                        "Got the first 15680 emails\n",
                        "Got the first 15700 emails\n",
                        "Got the first 15720 emails\n",
                        "Got the first 15740 emails\n",
                        "Got the first 15760 emails\n",
                        "Got the first 15780 emails\n",
                        "Got the first 15800 emails\n",
                        "Got the first 15820 emails\n",
                        "Got the first 15840 emails\n",
                        "Got the first 15860 emails\n",
                        "Got the first 15880 emails\n",
                        "Got the first 15900 emails\n",
                        "Got the first 15920 emails\n",
                        "Got the first 15940 emails\n",
                        "Got the first 15960 emails\n",
                        "Got the first 15980 emails\n",
                        "Got the first 16000 emails\n",
                        "Got the first 16020 emails\n",
                        "Got the first 16040 emails\n",
                        "Got the first 16060 emails\n",
                        "Got the first 16080 emails\n",
                        "Got the first 16100 emails\n",
                        "Got the first 16120 emails\n",
                        "Got the first 16140 emails\n",
                        "Got the first 16160 emails\n",
                        "Got the first 16180 emails\n",
                        "Got the first 16200 emails\n",
                        "Got the first 16220 emails\n",
                        "Got the first 16240 emails\n",
                        "Got the first 16260 emails\n",
                        "Got the first 16280 emails\n",
                        "Got the first 16300 emails\n",
                        "Got the first 16320 emails\n",
                        "Got the first 16340 emails\n",
                        "Got the first 16360 emails\n",
                        "Got the first 16380 emails\n",
                        "Got the first 16400 emails\n",
                        "Got the first 16420 emails\n",
                        "Got the first 16440 emails\n",
                        "Got the first 16460 emails\n",
                        "Got the first 16480 emails\n",
                        "Got the first 16500 emails\n",
                        "Got the first 16520 emails\n",
                        "Got the first 16540 emails\n",
                        "Got the first 16560 emails\n",
                        "Got the first 16580 emails\n",
                        "Got the first 16600 emails\n",
                        "Got the first 16620 emails\n",
                        "Got the first 16640 emails\n",
                        "Got the first 16660 emails\n",
                        "Got the first 16680 emails\n",
                        "Got the first 16700 emails\n",
                        "Got the first 16720 emails\n",
                        "Got the first 16740 emails\n",
                        "Got the first 16760 emails\n",
                        "Got the first 16780 emails\n",
                        "Got the first 16800 emails\n",
                        "Got the first 16820 emails\n",
                        "Got the first 16840 emails\n",
                        "Got the first 16860 emails\n",
                        "Got the first 16880 emails\n",
                        "Got the first 16900 emails\n",
                        "Got the first 16920 emails\n",
                        "Got the first 16940 emails\n",
                        "Got the first 16960 emails\n",
                        "Got the first 16980 emails\n",
                        "Got the first 17000 emails\n",
                        "Got the first 17020 emails\n",
                        "Got the first 17040 emails\n",
                        "Got the first 17060 emails\n",
                        "Got the first 17080 emails\n",
                        "Got the first 17100 emails\n",
                        "Got the first 17120 emails\n",
                        "Got the first 17140 emails\n",
                        "Got the first 17160 emails\n",
                        "Got the first 17180 emails\n",
                        "Got the first 17200 emails\n",
                        "Got the first 17220 emails\n",
                        "Got the first 17240 emails\n",
                        "Got the first 17260 emails\n",
                        "Got the first 17280 emails\n",
                        "Got the first 17300 emails\n",
                        "Got the first 17320 emails\n",
                        "Got the first 17340 emails\n",
                        "Got the first 17360 emails\n",
                        "Got the first 17380 emails\n",
                        "Got the first 17400 emails\n",
                        "Got the first 17420 emails\n",
                        "Got the first 17440 emails\n",
                        "Got the first 17460 emails\n",
                        "Got the first 17480 emails\n",
                        "Got the first 17500 emails\n",
                        "Got the first 17520 emails\n",
                        "Got the first 17540 emails\n",
                        "Got the first 17560 emails\n",
                        "Got the first 17580 emails\n",
                        "Got the first 17600 emails\n",
                        "Got the first 17620 emails\n",
                        "Got the first 17640 emails\n",
                        "Got the first 17660 emails\n",
                        "Got the first 17680 emails\n",
                        "Got the first 17700 emails\n",
                        "Got the first 17720 emails\n",
                        "Got the first 17740 emails\n",
                        "Got the first 17760 emails\n",
                        "Got the first 17780 emails\n",
                        "Got the first 17800 emails\n",
                        "Got the first 17820 emails\n",
                        "Got the first 17840 emails\n",
                        "Got the first 17860 emails\n",
                        "Got the first 17880 emails\n",
                        "Got the first 17900 emails\n",
                        "Got the first 17920 emails\n",
                        "Got the first 17940 emails\n",
                        "Got the first 17960 emails\n",
                        "Got the first 17980 emails\n",
                        "Got the first 18000 emails\n",
                        "Got the first 18020 emails\n",
                        "Got the first 18040 emails\n",
                        "Got the first 18060 emails\n",
                        "Got the first 18080 emails\n",
                        "Got the first 18100 emails\n",
                        "Got the first 18120 emails\n",
                        "Got the first 18140 emails\n",
                        "Got the first 18160 emails\n",
                        "Got the first 18180 emails\n",
                        "Got the first 18200 emails\n",
                        "Got the first 18220 emails\n",
                        "Got the first 18240 emails\n",
                        "Got the first 18260 emails\n",
                        "Got the first 18280 emails\n",
                        "Got the first 18300 emails\n",
                        "Got the first 18320 emails\n",
                        "Got the first 18340 emails\n",
                        "Got the first 18360 emails\n",
                        "Got the first 18380 emails\n",
                        "Got the first 18400 emails\n",
                        "Got the first 18420 emails\n",
                        "Got the first 18440 emails\n",
                        "Got the first 18460 emails\n",
                        "Got the first 18480 emails\n",
                        "Got the first 18500 emails\n",
                        "Got the first 18520 emails\n",
                        "Got the first 18540 emails\n",
                        "Got the first 18560 emails\n",
                        "Got the first 18580 emails\n",
                        "Got the first 18600 emails\n",
                        "Got the first 18620 emails\n",
                        "Got the first 18640 emails\n",
                        "Got the first 18660 emails\n",
                        "Got the first 18680 emails\n",
                        "Got the first 18700 emails\n",
                        "Got the first 18720 emails\n",
                        "Got the first 18740 emails\n",
                        "Got the first 18760 emails\n",
                        "Got the first 18780 emails\n",
                        "Got the first 18800 emails\n",
                        "Got the first 18820 emails\n",
                        "Got the first 18840 emails\n",
                        "Got the first 18860 emails\n",
                        "Got the first 18880 emails\n",
                        "Got the first 18900 emails\n",
                        "Got the first 18920 emails\n",
                        "Got the first 18940 emails\n",
                        "Got the first 18960 emails\n",
                        "Got the first 18980 emails\n",
                        "Got the first 19000 emails\n",
                        "Got the first 19020 emails\n",
                        "Got the first 19040 emails\n",
                        "Got the first 19060 emails\n",
                        "Got the first 19080 emails\n",
                        "Got the first 19100 emails\n",
                        "Got the first 19120 emails\n",
                        "Got the first 19140 emails\n",
                        "Got the first 19160 emails\n",
                        "Got the first 19180 emails\n",
                        "Got the first 19200 emails\n",
                        "Got the first 19220 emails\n",
                        "Got the first 19240 emails\n",
                        "Got the first 19260 emails\n",
                        "Got the first 19280 emails\n",
                        "Got the first 19300 emails\n",
                        "Got the first 19320 emails\n",
                        "Got the first 19340 emails\n",
                        "Got the first 19360 emails\n",
                        "Got the first 19380 emails\n",
                        "Got the first 19400 emails\n",
                        "Got the first 19420 emails\n",
                        "Got the first 19440 emails\n",
                        "Got the first 19460 emails\n",
                        "Got the first 19480 emails\n",
                        "Got the first 19500 emails\n",
                        "Got the first 19520 emails\n",
                        "Got the first 19540 emails\n",
                        "Got the first 19560 emails\n",
                        "Got the first 19580 emails\n",
                        "Got the first 19600 emails\n",
                        "Got the first 19620 emails\n",
                        "Got the first 19640 emails\n",
                        "Got the first 19660 emails\n",
                        "Got the first 19680 emails\n",
                        "Got the first 19700 emails\n",
                        "Got the first 19720 emails\n",
                        "Got the first 19740 emails\n",
                        "Got the first 19760 emails\n",
                        "Got the first 19780 emails\n",
                        "Got the first 19800 emails\n",
                        "Got the first 19820 emails\n",
                        "Got the first 19840 emails\n",
                        "Got the first 19860 emails\n",
                        "Got the first 19880 emails\n",
                        "Got the first 19900 emails\n",
                        "Got the first 19920 emails\n",
                        "Got the first 19940 emails\n",
                        "Got the first 19960 emails\n",
                        "Got the first 19980 emails\n",
                        "Got the first 20000 emails\n"
                    ]
                }
            ],
            "source": [
                "emails = gmail_connector.get_inbox_emails(total_results=20000)"
            ]
        },
        {
            "cell_type": "code",
            "execution_count": 10,
            "metadata": {},
            "outputs": [],
            "source": [
                "len(emails)\n",
                "\n",
                "email = emails[34]"
            ]
        },
        {
            "cell_type": "code",
            "execution_count": 11,
            "metadata": {},
            "outputs": [
                {
                    "name": "stdout",
                    "output_type": "stream",
                    "text": [
                        "Found total of 20000 emails\n"
                    ]
                }
            ],
            "source": [
                "print(f\"Found total of {len(emails)} emails\")"
            ]
        },
        {
            "cell_type": "code",
            "execution_count": 12,
            "metadata": {},
            "outputs": [
                {
                    "data": {
                        "text/plain": [
                            "{'id': '18ebf8c5411dbe4c',\n",
                            " 'snippet': 'Thank you for using the Missouri Judiciary Pay By Web system to make a payment. Below is a copy of the information pertaining to this transaction. Payments typically will be receipted by the court',\n",
                            " 'payload': {'partId': '',\n",
                            "  'mimeType': 'multipart/mixed',\n",
                            "  'filename': '',\n",
                            "  'headers': [{'name': 'Delivered-To',\n",
                            "    'value': 'meyerattorneyservices@gmail.com'},\n",
                            "   {'name': 'Received',\n",
                            "    'value': 'by 2002:a17:907:54f:b0:a51:aaa7:9f75 with SMTP id wk15csp1903075ejb;        Mon, 8 Apr 2024 14:10:29 -0700 (PDT)'},\n",
                            "   {'name': 'X-Google-Smtp-Source',\n",
                            "    'value': 'AGHT+IHf3jGTJAceyrkWbHWnwuQhj1nUKKICW8RHWiEJXo3qzmQV8HQGWHKxsYUVj0V7jLMJLd4F'},\n",
                            "   {'name': 'X-Received',\n",
                            "    'value': 'by 2002:a6b:770d:0:b0:7d5:c016:3ae6 with SMTP id n13-20020a6b770d000000b007d5c0163ae6mr10395598iom.2.1712610628687;        Mon, 08 Apr 2024 14:10:28 -0700 (PDT)'},\n",
                            "   {'name': 'ARC-Seal',\n",
                            "    'value': 'i=1; a=rsa-sha256; t=1712610628; cv=none;        d=google.com; s=arc-20160816;        b=nWpg35Mi7HhJksd/vyEugmdvqPcZyghoBy0wNjKfh4gzDKeV6nl+SOfL8K09pnQvOv         lkXQlsSowRJSTI6aDS8sEJ0Ad/669rCMq4mIrQCF5HorDfkl4CeRlDgEAMYB4EyYp3Gc         r4Hlb0ViO83pK/U8UzmPSsf+1JTHPdzR/edUD/Lt2gVZuWIe/Bzh770dK4gmJKVuVXUH         QnHhh2iQE5vhj8BJL6apTdVbVP9eq5sQfccXwaCts0i9Hg86HgQDZ6Q9MN3Ee2S6HDWf         1s8b+Ig09gPR74J4RVyXRWyzlTgGAgaHtm1YQ6RD2eI0IrXQlfDao5UU0z77atB7Nekk         VGlA=='},\n",
                            "   {'name': 'ARC-Message-Signature',\n",
                            "    'value': 'i=1; a=rsa-sha256; c=relaxed/relaxed; d=google.com; s=arc-20160816;        h=mime-version:subject:message-id:cc:to:from:date:dkim-signature;        bh=aRJZRueA5RjJ7VPHJ0qukV8FzuAZ+AORkcUXPGdsBwE=;        fh=+8aCzHfS1BfYmU2FuxV7cSq8ci7d7Brfa1Z6TAw5KNU=;        b=xMLdL7ikmjq+jAnccf1uaW4hdhFfPTvNxO0pVMNUNvzYH4Z0FCOiyx509PU7VSfWlr         3UjHk9IFBXXVM7zKgFIp4DA8bKNPe5obyHU35kaXHRt/pF49WcLKZveF7+G7G5bOTYFW         ZqMSaY+rmt2XHBb8vo4wn/s6u4tjNof/ycHUQT7gLEzT7xpwXu4a3m0PDc+ec6/rOQMr         F85ayzno/283j0sdHQtIPYpQo96yxFgKBagefon4DUYl6I/8IyL8HTzN6pqTng5G1eJU         DwgJiXcG4dUQHonco3jX6rDN5KxQEvkqGNk4uplknjmHN2E4kB7pWRYT/2QWVIe11zi/         S6Eg==;        dara=google.com'},\n",
                            "   {'name': 'ARC-Authentication-Results',\n",
                            "    'value': 'i=1; mx.google.com;       dkim=pass header.i=@courts.mo.gov header.s=ppsFeb2020 header.b=FTKFNdsc;       spf=pass (google.com: domain of mocourts.paybyweb@courts.mo.gov designates 38.100.250.145 as permitted sender) smtp.mailfrom=mocourts.paybyweb@courts.mo.gov;       dmarc=pass (p=REJECT sp=REJECT dis=NONE) header.from=courts.mo.gov'},\n",
                            "   {'name': 'Return-Path', 'value': '<mocourts.paybyweb@courts.mo.gov>'},\n",
                            "   {'name': 'Received',\n",
                            "    'value': 'from mail2.courts.mo.gov (mail2.courts.mo.gov. [38.100.250.145])        by mx.google.com with ESMTPS id k15-20020a056638370f00b0047edad88d48si3387138jav.32.2024.04.08.14.10.28        for <meyerattorneyservices@gmail.com>        (version=TLS1_2 cipher=ECDHE-RSA-AES128-GCM-SHA256 bits=128/128);        Mon, 08 Apr 2024 14:10:28 -0700 (PDT)'},\n",
                            "   {'name': 'Received-SPF',\n",
                            "    'value': 'pass (google.com: domain of mocourts.paybyweb@courts.mo.gov designates 38.100.250.145 as permitted sender) client-ip=38.100.250.145;'},\n",
                            "   {'name': 'Authentication-Results',\n",
                            "    'value': 'mx.google.com;       dkim=pass header.i=@courts.mo.gov header.s=ppsFeb2020 header.b=FTKFNdsc;       spf=pass (google.com: domain of mocourts.paybyweb@courts.mo.gov designates 38.100.250.145 as permitted sender) smtp.mailfrom=mocourts.paybyweb@courts.mo.gov;       dmarc=pass (p=REJECT sp=REJECT dis=NONE) header.from=courts.mo.gov'},\n",
                            "   {'name': 'Received',\n",
                            "    'value': 'from pps.filterd (smpsa0002.courts.state.mo.us [127.0.0.1]) by smpsa0002.courts.state.mo.us (8.17.1.19/8.17.1.19) with ESMTP id 438KmgG9003365 for <meyerattorneyservices@gmail.com>; Mon, 8 Apr 2024 16:10:27 -0500'},\n",
                            "   {'name': 'DKIM-Signature',\n",
                            "    'value': 'v=1; a=rsa-sha256; c=relaxed/relaxed; d=courts.mo.gov; h=date : from : to : cc : message-id : subject : mime-version : content-type; s=ppsFeb2020; bh=aRJZRueA5RjJ7VPHJ0qukV8FzuAZ+AORkcUXPGdsBwE=; b=FTKFNdsct02SZ7fJ4p8ZU5RyGmf9d5HIfbYjkS/SJDc3l7eoe62BpEJ8iGZ08Qw004YK CgvPjZUO4Hp9vyi7dDJcvlShL3NTyOJjOWbo3vu04LL4bBJT4YSsp9YA20owUPsjFWdH mhU4d+s63eZM0B64lUJDq4oKUyZGwnHUnXu5XN0Ee6/PwYDSMuQAnMgBR21WBsJXarUw Jg9ZD/IbqgyRqLa5eNSCHz+I74T4eC09+4WmdKotPk+APQTnoUXn217HWT3NklwpGSuP cemz+p+1sBohA9IhTNxfNM1vRJuS0A2QWHPOODt/Goib9yio3qtR3jR35Nl1/5XwTk3I 9w=='},\n",
                            "   {'name': 'Received',\n",
                            "    'value': 'from smpln0005.courts.state.mo.us (SMPLN0005.courts.state.mo.us [10.98.24.205]) by smpsa0002.courts.state.mo.us (PPS) with ESMTP id 3xb1839p9a-20 for <meyerattorneyservices@gmail.com>; Mon, 08 Apr 2024 16:10:26 -0500'},\n",
                            "   {'name': 'Received',\n",
                            "    'value': 'from SMPAS0036.courts.state.mo.us ([10.98.24.105])          by SMPLN0005.courts.state.mo.us (HCL Domino Release 11.0.1FP3)          with ESMTP id 2024040816101103-1191294 ;          Mon, 8 Apr 2024 16:10:11 -0500'},\n",
                            "   {'name': 'Date', 'value': 'Mon, 8 Apr 2024 16:10:11 -0500 (CDT)'},\n",
                            "   {'name': 'From',\n",
                            "    'value': 'Missouri Courts Pay By Web System <mocourts.paybyweb@courts.mo.gov>'},\n",
                            "   {'name': 'To',\n",
                            "    'value': 'Missouri Courts Pay By Web System <mocourts.paybyweb@courts.mo.gov>'},\n",
                            "   {'name': 'Cc', 'value': 'meyerattorneyservices@gmail.com'},\n",
                            "   {'name': 'Message-ID',\n",
                            "    'value': '<662071077.859751.1712610611043@SMPAS0036>'},\n",
                            "   {'name': 'Subject',\n",
                            "    'value': 'Pay By Web Payment Confirmation - PBW851343 - 211320723 - CITY OF ST. LOUIS V EDWIN VONDER SHUMAN, St Louis City Municipal Court'},\n",
                            "   {'name': 'MIME-Version', 'value': '1.0'},\n",
                            "   {'name': 'X-MIMETrack',\n",
                            "    'value': 'Itemize by SMTP Server on SMPLN0005/OSCA/Courts/Judicial(Release 11.0.1FP3|March 31, 2021) at 04/08/2024 04:10:11 PM, Serialize by Router on SMPLN0005/OSCA/Courts/Judicial(Release 11.0.1FP3|March 31, 2021) at 04/08/2024 04:10:26 PM, Serialize complete at 04/08/2024 04:10:26 PM'},\n",
                            "   {'name': 'X-TNEFEvaluated', 'value': '1'},\n",
                            "   {'name': 'Content-Type',\n",
                            "    'value': 'multipart/mixed; boundary=\"----=_Part_859748_-563049989.1712610611043\"'},\n",
                            "   {'name': 'X-Proofpoint-ORIG-GUID',\n",
                            "    'value': 'gXSJiNvWaC7jhhJB19qDZRBRAC5T8aky'},\n",
                            "   {'name': 'X-Proofpoint-GUID', 'value': 'gXSJiNvWaC7jhhJB19qDZRBRAC5T8aky'},\n",
                            "   {'name': 'X-Proofpoint-Virus-Version',\n",
                            "    'value': 'vendor=baseguard engine=ICAP:2.0.272,Aquarius:18.0.1011,Hydra:6.0.619,FMLib:17.11.176.26 definitions=2024-04-08_17,2024-04-05_02,2023-05-22_02'},\n",
                            "   {'name': 'X-Proofpoint-Spam-Reason', 'value': 'orgsafe'}],\n",
                            "  'body': {'size': 0},\n",
                            "  'parts': [{'partId': '0',\n",
                            "    'mimeType': 'multipart/related',\n",
                            "    'filename': '',\n",
                            "    'headers': [{'name': 'Content-Type',\n",
                            "      'value': 'multipart/related; boundary=\"----=_Part_859749_2112873638.1712610611043\"'}],\n",
                            "    'body': {'size': 0},\n",
                            "    'parts': [{'partId': '0.0',\n",
                            "      'mimeType': 'multipart/alternative',\n",
                            "      'filename': '',\n",
                            "      'headers': [{'name': 'Content-Type',\n",
                            "        'value': 'multipart/alternative; boundary=\"----=_Part_859750_9909596.1712610611043\"'}],\n",
                            "      'body': {'size': 0},\n",
                            "      'parts': [{'partId': '0.0.0',\n",
                            "        'mimeType': 'text/plain',\n",
                            "        'filename': '',\n",
                            "        'headers': [{'name': 'Content-Transfer-Encoding', 'value': '7bit'},\n",
                            "         {'name': 'Content-Type', 'value': 'text/plain; charset=us-ascii'}],\n",
                            "        'body': {'size': 2851,\n",
                            "         'data': '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-VU5JVEVEIFNUQVRFUw0KUGhvbmUgTnVtYmVyOiAgICAgICAgICAgICAgICAgICAgICAgICg4MTYpIDUxOC04ODM4ICAgICAgICAgICAgICAgICAgICAgICAgICAgICAgICAgICAgDQoJCQkJCQ0KQWNjb3VudCBUeXBlOiAgICAgICAgICAgICAgICAgICAgICAgIENoZWNraW5nDQpDaGVjayBUeXBlOiAgICAgICAgICAgICAgICAgICAgICAgICAgQnVzaW5lc3MJDQpBY2NvdW50IE51bWJlcjogICAgICAgICAgICAgICAgICAgICAgKioqKjYxMDUNCgkNCkUtbWFpbDogICAgICAgICAgICAgICAgICAgICAgICAgICAgICAgbWV5ZXJhdHRvcm5leXNlcnZpY2VzQGdtYWlsLmNvbQ0KCQ0KQW55IG92ZXJwYXltZW50cyB3aWxsIGJlIGhlbGQgb24gZGVwb3NpdCBieSB0aGUgY291cnQuDQoNClRvIG1ha2UgYWRkaXRpb25hbCBwYXltZW50cywgcGxlYXNlIHZpc2l0IHRoZSBQYXkgQnkgV2ViIHdlYnNpdGUgYXQgaHR0cHM6Ly93d3cuY291cnRzLm1vLmdvdi9wYncuDQoJDQpJZiB5b3UgaGF2ZSBhbnkgcXVlc3Rpb25zIG9yIHByb2JsZW1zLCBwbGVhc2UgY29udGFjdCB0aGUgT2ZmaWNlIG9mDQpTdGF0ZSBDb3VydHMgQWRtaW5pc3RyYXRvciBIZWxwIERlc2sgYXQgKDg4OCkgNTQxLTQ4OTQgb3INCnZpYSBlLW1haWwgYXQgb3NjYS5oZWxwLmRlc2tAY291cnRzLm1vLmdvdi4gDQoNClRoZSBIZWxwIERlc2sgaXMgYXZhaWxhYmxlIDc6MzAgYS5tLi01IHAubS4gTW9uZGF5IHRocm91Z2ggRnJpZGF5LCBleGNsdWRpbmcgc3RhdGUgaG9saWRheXMuDQoJDQpUaGlzIGUtbWFpbCBpcyBhdXRvIGdlbmVyYXRlZC4gUGxlYXNlIGRvIG5vdCByZXNwb25kLg=='}},\n",
                            "       {'partId': '0.0.1',\n",
                            "        'mimeType': 'text/html',\n",
                            "        'filename': '',\n",
                            "        'headers': [{'name': 'Content-Transfer-Encoding', 'value': '7bit'},\n",
                            "         {'name': 'Content-Type', 'value': 'text/html; charset=us-ascii'}],\n",
                            "        'body': {'size': 9707,\n",
                            "         'data': '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'}}]}]}]},\n",
                            " 'internalDate': '1712610611000'}"
                        ]
                    },
                    "execution_count": 12,
                    "metadata": {},
                    "output_type": "execute_result"
                }
            ],
            "source": [
                "email"
            ]
        },
        {
            "cell_type": "code",
            "execution_count": 13,
            "metadata": {},
            "outputs": [
                {
                    "data": {
                        "text/plain": [
                            "'2024-04-08'"
                        ]
                    },
                    "execution_count": 13,
                    "metadata": {},
                    "output_type": "execute_result"
                }
            ],
            "source": [
                "gmail_connector.get_timestamp(email).strftime(\"%Y-%m-%d\")"
            ]
        },
        {
            "cell_type": "code",
            "execution_count": 14,
            "metadata": {},
            "outputs": [
                {
                    "data": {
                        "text/plain": [
                            "'Thank you for using the Missouri Judiciary Pay By Web system to make a payment. Below is a copy of the information pertaining to this transaction. Payments typically will be receipted by the court'"
                        ]
                    },
                    "execution_count": 14,
                    "metadata": {},
                    "output_type": "execute_result"
                }
            ],
            "source": [
                " # Subject\n",
                "gmail_connector.get_snippet(email)\n"
            ]
        },
        {
            "cell_type": "code",
            "execution_count": 15,
            "metadata": {},
            "outputs": [
                {
                    "data": {
                        "text/plain": [
                            "'Pay By Web Payment Confirmation - PBW851343 - 211320723 - CITY OF ST. LOUIS V EDWIN VONDER SHUMAN, St Louis City Municipal Court'"
                        ]
                    },
                    "execution_count": 15,
                    "metadata": {},
                    "output_type": "execute_result"
                }
            ],
            "source": [
                "gmail_connector.get_email_subject(email)   # Subject"
            ]
        },
        {
            "cell_type": "code",
            "execution_count": 16,
            "metadata": {},
            "outputs": [
                {
                    "data": {
                        "text/plain": [
                            "'Missouri Courts Pay By Web System'"
                        ]
                    },
                    "execution_count": 16,
                    "metadata": {},
                    "output_type": "execute_result"
                }
            ],
            "source": [
                "      # Sender\n",
                "gmail_connector.render_email_sender(gmail_connector.get_sender(email))"
            ]
        },
        {
            "cell_type": "code",
            "execution_count": 85,
            "metadata": {},
            "outputs": [],
            "source": [
                "import re\n",
                "\n",
                "def extract_number_from_string(s):\n",
                "    output = None\n",
                "    match = re.search(r'\\b\\d+\\b', s)\n",
                "    if match:\n",
                "        output = match.group(0)\n",
                "    # Format 2316-CR04348\n",
                "    match = re.search(r'\\b\\w{4}-\\w{2}\\w{5}\\b', s)\n",
                "    if match:\n",
                "        output = match.group(0)\n",
                "\n",
                "    if output is not None and len(output) < 5:\n",
                "        output = None\n",
                "    return output"
            ]
        },
        {
            "cell_type": "code",
            "execution_count": 87,
            "metadata": {},
            "outputs": [
                {
                    "data": {
                        "text/plain": [
                            "['704258650',\n",
                            " '210900213',\n",
                            " '2416-CV09157',\n",
                            " '2316-CR04348',\n",
                            " '24CT-CR00287',\n",
                            " None]"
                        ]
                    },
                    "execution_count": 87,
                    "metadata": {},
                    "output_type": "execute_result"
                }
            ],
            "source": [
                "import re\n",
                "\n",
                "# The text strings to search\n",
                "texts = [\n",
                "    \"Receipt of Submission - 704258650 - ST V GARRETT JACOB GARING, Randolph County - Circuit Court - Huntsville\",\n",
                "    \"eNotice - 210900213 - KANSAS CITY V JACKSON FLYNN CONROE, Kansas City Municipal Court\",\n",
                "    \"eNotice - 2416-CV09157 - TERENCE TENSLEY V DIRECTOR OF REVENUE, Jackson County - Independence - Civil\",\n",
                "    \"eNotice - 2316-CR04348 - ST V SEAN F MOLBY, Jackson County - Independence - Criminal/Traffic\",\n",
                "    \"eNotice - 24CT-CR00287-01 - ST V AMANDA MICHELLE RIDDLE, Christian County - Circuit Court\",\n",
                "    \"77% OFF is still available!\",\n",
                "]\n",
                "\n",
                "# Regular expression to extract numbers\n",
                "pattern = r'\\b\\d+\\b'\n",
                "\n",
                "# Extracting numbers\n",
                "extracted_numbers = [extract_number_from_string(text) for text in texts]\n",
                "extracted_numbers"
            ]
        },
        {
            "cell_type": "code",
            "execution_count": 88,
            "metadata": {},
            "outputs": [
                {
                    "data": {
                        "text/plain": [
                            "'\\nDate : 2023-03-28 \\n\\n\\nSubject: Re: 704006187 - ST V JENNIFER ELSIE SAWYER, Dunklin County - Circuit Court \\n\\n\\nBody: I can definitely understand that. The lying part probably put it over the top. Is there any other resolution we can come to on this one? May SIS or DIP? Thank you for your time and I understand either \\n\\n\\nSender: Shawn-Anthony Meyer \\n\\n\\n'"
                        ]
                    },
                    "execution_count": 88,
                    "metadata": {},
                    "output_type": "execute_result"
                }
            ],
            "source": [
                "email_template = f\"\"\"\n",
                "Date : {gmail_connector.get_timestamp(email).strftime(\"%Y-%m-%d\")} \\n\n",
                "\n",
                "Subject: {gmail_connector.get_email_subject(email)} \\n\n",
                "\n",
                "Body: {gmail_connector.get_snippet(email)} \\n\n",
                "\n",
                "Sender: {gmail_connector.render_email_sender(gmail_connector.get_sender(email))} \\n\n",
                "\n",
                "\"\"\"\n",
                "email_template"
            ]
        },
        {
            "cell_type": "code",
            "execution_count": 22,
            "metadata": {},
            "outputs": [
                {
                    "data": {
                        "text/plain": [
                            "'Thank you for using the Missouri Judiciary Pay By Web system to make a payment. Below is a copy of the information pertaining to this transaction. Payments typically will be receipted by the court'"
                        ]
                    },
                    "execution_count": 22,
                    "metadata": {},
                    "output_type": "execute_result"
                }
            ],
            "source": [
                "gmail_connector.get_snippet(email)"
            ]
        },
        {
            "cell_type": "code",
            "execution_count": 23,
            "metadata": {},
            "outputs": [
                {
                    "data": {
                        "text/plain": [
                            "'211320723'"
                        ]
                    },
                    "execution_count": 23,
                    "metadata": {},
                    "output_type": "execute_result"
                }
            ],
            "source": [
                "extract_number_from_string(gmail_connector.get_email_subject(email))"
            ]
        },
        {
            "cell_type": "code",
            "execution_count": 132,
            "metadata": {},
            "outputs": [],
            "source": [
                "from src.services.cases import get_single_case, patch_case\n"
            ]
        },
        {
            "cell_type": "code",
            "execution_count": 25,
            "metadata": {},
            "outputs": [
                {
                    "data": {
                        "text/plain": [
                            "Case(case_id='240065833', court_id='SMPDB0001_CT06', flag='pending', urgent=None, participants=['Sid5dOG03tMxIdQ6UlyK', 'GC7nwDYpbsyqFc0kdCgE'], related_cases=None, protection_order=False, parties=[{'other_attorneylist': [], 'pred_code': 'Z^', 'desc': 'Defendant', 'pty_seqno': 2, 'birth_date': '11/29/1976', 'lit_ind': 'Y', 'mid_initial': 'A', 'pidm': 90241667, 'addr_line1': '4722 N MULBERRY CT', 'addr_city': 'KANSAS CITY', 'birth_datecode': 'Y', 'desc_code': 'DFT', 'formatted_partyaddress': '4722 N MULBERRY CT\\nKANSAS CITY, MO 64116', 'last_name': 'DICKEMANN', 'addr_statcode': 'MO', 'co_attorneylist': [], 'formatted_telephone': '', 'attorney_list': [], 'addr_atyp': 'MA', 'formatted_birthdate': '1976', 'prosecuting_atty': False, 'criminal_ind': 'Y', 'sort_seq': 4, 'addr_seqno': 2, 'assoc': 0, 'addr_zip': '64116', 'first_name': 'DEREK', 'party_type': 'party', 'formatted_partyname': 'DICKEMANN, DEREK A', 'criminal_case': True, 'start_date': '02/28/2024'}, {'addr_statcode': 'KS', 'other_attorneylist': [], 'start_date': '02/28/2024', 'pred_code': 'Z^', 'co_attorneylist': [], 'desc': 'Municipal Prosecuting Attorney', 'pty_seqno': 1, 'formatted_telephone': '', 'attorney_list': [], 'addr_atyp': 'MA', 'sort_seq': 8, 'prosecuting_atty': False, 'criminal_ind': 'Y', 'addr_seqno': 3, 'assoc': 0, 'addr_zip': '66046', 'first_name': 'COLLIN', 'mid_initial': 'SPENCER', 'addr_line1': '1501 W 25TH COURT', 'formatted_partyname': 'VANOSTRAN, COLLIN SPENCER', 'criminal_case': True, 'party_type': 'attorney', 'pidm': 90280772, 'addr_city': 'LAWRENCE', 'desc_code': 'MPA', 'formatted_partyaddress': '1501 W 25TH COURT\\nLAWRENCE, KS 66046', 'last_name': 'VANOSTRAN'}], disposed=False, legal_fileaccepted=False, paper_accepted=False, confidential=False, display_judgenotes=False, case_notecount=0, display_legalfileviewer=False, display_fileviewer=True, can_userseepublicdocuments=False, can_userseecasedocuments=True, can_userseeenoticehistory=False, can_selectdocket=True, can_seeecflinks=True, can_seelegalfilelinks=True, is_ticket=False, address_a_type='MA', address_city='KANSAS CITY', address_line_1='4722 N MULBERRY CT', address_seq_no=2, address_state_code='MO', address_zip='64116', birth_date='11/29/1976', birth_date_code='Y', criminal_case=True, criminal_ind='Y', description='Defendant', description_code='DFT', first_name='DEREK', year_of_birth='1976', formatted_party_address='4722 N MULBERRY CT\\nKANSAS CITY, MO 64116', formatted_party_name='DICKEMANN, DEREK A', formatted_telephone='', last_name='DICKEMANN', lit_ind='Y', middle_name='A', party_type='party', pidm=90241667, pred_code='Z^', prosecuting_atty=False, pty_seq_no=2, sort_seq=4, age=47, case_desc='CITY OF RIVERSIDE V DEREK A DICKEMANN', court_desc='6th Judicial Circuit', location='Riverside Municipal', filing_date=datetime.datetime(2024, 2, 28, 0, 0, tzinfo=datetime.timezone.utc), case_date=datetime.datetime(2024, 2, 28, 0, 0, tzinfo=datetime.timezone.utc), formatted_filingdate='02/28/2024', case_type='Municipal/ Ordinance - see Charges', case_security='2', case_typecode='O5', vine_code='382', locn_code='RX', court_code='SMPDB0001_CT06', vine_display='N', vine_id='240065833', dockets=[{'filing_partytypecode': 'MPA', 'confidential': False, 'filing_date': '02/28/2024', 'pred_code': 'ZFILE', 'docket_code': 'FREDI', 'document_id': 0, 'filing_partyfullname': 'COLLIN SPENCER VANOSTRAN', 'hrng_outcome': 'N', 'associated_docketinfodetails': [], 'sequence_number': 4, 'can_seecasedocuments': False, 'display_sortseq': '8', 'filing_partymidinitial': 'SPENCER', 'behalf_ofpartiesnames': '', 'document': [], 'associated_docketscheduledinfo': [], 'whichone': 4, 'filing_partyfirstname': 'COLLIN', 'event_desc': 'Municipal Prosecuting Attorney', 'docket_desc': 'CRIFS/Unredacted Document', 'dtyp_predcode': 'Z^', 'filing_partylastname': 'VANOSTRAN'}, {'filing_partytypecode': 'MPA', 'confidential': False, 'filing_date': '02/28/2024', 'pred_code': 'ZFILE', 'docket_code': 'FREDI', 'document_id': 0, 'filing_partyfullname': 'COLLIN SPENCER VANOSTRAN', 'hrng_outcome': 'N', 'associated_docketinfodetails': [], 'sequence_number': 3, 'can_seecasedocuments': False, 'display_sortseq': '8', 'filing_partymidinitial': 'SPENCER', 'behalf_ofpartiesnames': '', 'document': [], 'associated_docketscheduledinfo': [], 'whichone': 3, 'filing_partyfirstname': 'COLLIN', 'event_desc': 'Municipal Prosecuting Attorney', 'docket_desc': 'CRIFS/Unredacted Document', 'dtyp_predcode': 'Z^', 'filing_partylastname': 'VANOSTRAN'}, {'filing_date': '02/28/2024', 'pred_code': 'ZHESC', 'docket_code': 'SCIR', 'document_id': 0, 'filing_partyfullname': '', 'hrng_outcome': 'N', 'associated_docketinfodetails': [], 'sequence_number': 2, 'can_seecasedocuments': False, 'behalf_ofpartiesnames': '', 'document': [], 'associated_docketscheduledinfo': [{'associated_name': 'MARK M FERGUSON', 'assoc_filingpartymidinitial': 'M', 'associated_date': '04/17/2024', 'assoc_filingpartylastname': 'FERGUSON', 'associated_description': 'Initial Appearance', 'document_id': 0, 'assoc_dockseq': 2, 'main_dockseq': 0, 'associated_time': '4:30 PM', 'associated_text': 'Riverside Municipal', 'assoc_filingpartyfirstname': 'MARK', 'assoc_dtyppredcode': 'C'}], 'whichone': 2, 'docket_desc': 'Initial Appearance', 'dtyp_predcode': 'Z^', 'confidential': False}, {'filing_date': '02/28/2024', 'pred_code': 'ZFICA', 'docket_code': 'AUTT', 'document_id': 0, 'filing_partyfullname': '', 'hrng_outcome': 'N', 'associated_docketinfodetails': [], 'sequence_number': 1, 'can_seecasedocuments': True, 'behalf_ofpartiesnames': '', 'document': [], 'associated_docketscheduledinfo': [], 'whichone': 1, 'docket_desc': 'Information Filed by Citation', 'dtyp_predcode': 'Z^', 'confidential': False}], documents=[{'document_extension': 'PDF', 'file_path': '240065833 REDACTED?courtCode=SMPDB0001_CT06&di=2290848.pdf', 'document_id': 2290848, 'document_title': '240065833 REDACTED', 'docket_seq': 1, 'document_securitylevel': 1, 'record_id': 1925167, 'docket_desc': 'Information Filed by Citation'}], charges=[{'charge_description': 'Exceeded Posted Speed Limit (6-10 Mph Over)', 'charge_filingdate': '02/26/2024', 'charge_codeleveldescription': 'Ordinance', 'charge_pidm': '90241667', 'ticket_number': '240065833', 'charge_predcode': 'ZMUN', 'charge_code': 'ORD304.0-406N202154.0', 'sub_case': '240065833', 'charge_number': '1', 'charge_codelevel': 'OR', 'case_id': '240065833', 'ncic_code': '99', 'boundover': False}], judge={'formatted_name': 'FERGUSON, MARK M', 'middle_initials': 'M', 'first_name': 'MARK', 'last_name': 'FERGUSON'}, court_type='C', ticket_searchresult={'ooc_eligible': 'Y', 'na_ind': 'Y'}, fine={'default_courtcost': 35.5, 'total_amount': '96.00', 'total_vbfineamount': 60.5}, plea_andpayind='Y', ticket={'case-id': '240065833', 'ticket-posted-speed-limit': None, 'client-birthdate': 'February 26, 2024', 'client-name': None, 'court-time': 'February 26, 2024', 'ticket-speed': None, 'court-type': 'MISSOURI CIRCUIT', 'offense': None, 'court-phone': None, 'client-driver-license': None, 'court-city': None, 'court-jurisdiction': None, 'state': 'MISSOURI', 'current-date': 'March 03, 2024'}, ticket_img='240065833.png', status='rec_proposal', case_status=None, events=[{'date': DatetimeWithNanoseconds(2024, 3, 15, 16, 12, 34, 979625, tzinfo=datetime.timezone.utc), 'template': 'MO_Entry of Appearance', 'case_id': '240065833', 'document': 'cases/240065833/MO_Entry of Appearance.pdf'}, {'date': DatetimeWithNanoseconds(2024, 3, 15, 16, 18, 39, 886869, tzinfo=datetime.timezone.utc), 'template': 'rfr_prosecutor', 'subject': 'Request for Recommendation - DEREK A DICKEMANN - 240065833', 'case_id': '240065833', 'email': 'cvanostran@riversidemo.gov', 'details': {'labelIds': ['SENT'], 'threadId': '18e42e88d5c6de7c', 'id': '18e42e88d5c6de7c'}, 'body': 'Dear Collin,\\n\\nI hope this email finds you well!\\n\\nI am reaching out on behalf of my client, DEREK A DICKEMANN, who has sought my representation in a criminal matter presently overseen by your office. The details pertaining to the case are as follows:\\n\\n- Case #: 240065833\\n- Charge: Exceeded Posted Speed Limit (6-10 Mph Over)\\n\\nIn line with pursuing a resolution that upholds the principles of justice and fairness, I am reaching out to kindly request your recommendation regarding this matter. I have attached a copy of the citation(s) for your reference.\\n\\nShould you require any further information or documentation to facilitate your recommendation, please do not hesitate to let me know. I am eager to provide any assistance necessary to expedite this process.\\n\\nThank you for your attention to this matter. I look forward to hearing from you soon.\\n\\nBest regards,\\n\\nShawn A. Meyer\\nAttorney at Law #72934\\nPh: 816.518.8838\\nFx: 816.873.5315\\n322 Southwest Boulevard STE #100\\nKansas City, Missouri 64108'}, {'date': DatetimeWithNanoseconds(2024, 4, 2, 18, 50, 1, 405641, tzinfo=datetime.timezone.utc), 'template': 'received_offer_to_amend_nmv_customer', 'subject': 'Great news! Ticket No. 240065833 - Exceeded Posted Speed Limit (6-10 Mph Over)', 'case_id': '240065833', 'email': 'cvanostran@riversidemo.gov', 'details': {'success': True, 'time_trackable_item_id': 162165440, 'message': {'id': 21606247}}, 'body': 'Hey Derek,\\n\\nGreat news! We have been working diligently on your case and have secured a favorable plea offer through negotiations with the prosecutor. Below are the details:\\n\\nThe prosecutor has agreed to amend your ticket to a lesser charge of \"failed to register,\" which is categorized as a non-moving violation. The total settlement amount for this adjustment is $235 inclusive of fine, court costs, and processing fee.\\n\\nThis implies that:\\n\\n- No points will be added to your license\\n- Your insurance premiums will remain unaffected\\n- The offense will not appear on your public driving record\\n\\n<strong>Next Steps:</strong>\\n\\nIf you are in agreement, we can proceed with this offer by submitting the agreement to the court. You\\'ll receive an email invoice for the amount due. You can also click to access the invoice here: {{invoice}}\\n\\nOnce you\\'ve paid the invoice, we\\'ll handle everything on your behalf, including accepting the offer and making the payment to the court. This way, you won\\'t have to appear in court.\\ufeff\\u200b\\ufeff\\n\\nYour court date is scheduled for 04/17/2024. You will NOT have to attend. Please try to settle your invoice at least <strong>two weeks</strong> before the court date.\\n\\nAs always, feel free to reach out with any questions/concerns.\\n\\nCheers!'}], court_date=None, court_time=None, court_link=None, arrest_date=None, arrest_time=None, where_held=None, gender=None, release_info=None, source=None, custom=None, raw=None, email='derekdickemann@hotmail.com', phone='+18167287811')"
                        ]
                    },
                    "execution_count": 25,
                    "metadata": {},
                    "output_type": "execute_result"
                }
            ],
            "source": [
                "get_single_case(\"240065833\")"
            ]
        },
        {
            "cell_type": "code",
            "execution_count": 26,
            "metadata": {},
            "outputs": [],
            "source": [
                "case_statuses = {\n",
                "    \"filed\": {\n",
                "        \"name\": \"Case Filed\",\n",
                "        \"owner\": \"Client\",\n",
                "        \"mandatory\": True,\n",
                "        \"short_description\": \"Case Filed on Casenet\",\n",
                "        \"internal_status\": \"Case Filed\",\n",
                "        \"client_status\": \"\",\n",
                "        \"next_case_status\": \"\",\n",
                "    },\n",
                "    \"paid\": {\n",
                "        \"name\": \"Case Payment\",\n",
                "        \"owner\": \"Client\",\n",
                "        \"mandatory\": True,\n",
                "        \"flag\": \"todo\",\n",
                "        \"short_description\": \"Client Paid\",\n",
                "        \"internal_status\": \"Payment Received\",\n",
                "        \"client_status\": \"\",\n",
                "        \"next_case_status\": \"REVIEW\",\n",
                "        \"color\": \"pending\",\n",
                "    },\n",
                "    \"review\": {\n",
                "        \"name\": \"Case Review and Consultation\",\n",
                "        \"owner\": \"Lawyer\",\n",
                "        \"mandatory\": True,\n",
                "        \"flag\": \"todo\",\n",
                "        \"short_description\": \"Case Under Review\",\n",
                "        \"internal_status\": \"Under Review\",\n",
                "        \"client_status\": \"\",\n",
                "        \"next_case_status\": \"REJECTED, EOA\",\n",
                "        \"color\": \"orange\",\n",
                "    },\n",
                "    \"rejected\": {\n",
                "        \"name\": \"Case Rejected\",\n",
                "        \"owner\": \"Lawyer\",\n",
                "        \"mandatory\": False,\n",
                "        \"flag\": \"pending\",\n",
                "        \"short_description\": \"Case Rejected\",\n",
                "        \"internal_status\": \"Case cannot be handled by our attorneys\",\n",
                "        \"client_status\": \"\",\n",
                "        \"next_case_status\": \"REFUND\",\n",
                "        \"color\": \"red\",\n",
                "    },\n",
                "    \"refund\": {\n",
                "        \"name\": \"Case Refund\",\n",
                "        \"owner\": \"Lawyer\",\n",
                "        \"mandatory\": False,\n",
                "        \"flag\": \"closed\",\n",
                "        \"short_description\": \"Case Refunded\",\n",
                "        \"internal_status\": \"We initiated a full refund. It should be reflected in your account within 5-10 business days. We apologize for any inconvenience.\",\n",
                "        \"client_status\": \"\",\n",
                "        \"next_case_status\": \"CLOSURE\",\n",
                "        \"color\": \"red\",\n",
                "    },\n",
                "    \"sign_engagement_letter\": {\n",
                "        \"name\": \"Sign Engagement Letter\",\n",
                "        \"owner\": \"Client, Lawyer\",\n",
                "        \"mandatory\": True,\n",
                "        \"flag\": \"pending\",\n",
                "        \"short_description\": \"Engagement Letter Sign-Off\",\n",
                "        \"internal_status\": \"Case Accepted\",\n",
                "        \"client_status\": \"Our Attorneys have accepted your case\",\n",
                "        \"next_case_status\": \"EOA\",\n",
                "        \"color\": \"orange\",\n",
                "    },\n",
                "    \"warrant_status\": {\n",
                "        \"name\": \"Warrant Status\",\n",
                "        \"owner\": \"Lawyer\",\n",
                "        \"mandatory\": False,\n",
                "        \"flag\": \"pending\",\n",
                "        \"short_description\": \"Recall Warrant\",\n",
                "        \"internal_status\": \"Warrant\",\n",
                "        \"client_status\": \"\",\n",
                "        \"next_case_status\": \"REV_INT\",\n",
                "        \"color\": \"orange\",\n",
                "    },\n",
                "    \"eoa\": {\n",
                "        \"name\": \"Entry of Appearance\",\n",
                "        \"owner\": \"Lawyer\",\n",
                "        \"mandatory\": True,\n",
                "        \"flag\": \"todo\",\n",
                "        \"short_description\": \"EOA\",\n",
                "        \"internal_status\": \"Our Attorneys are Working on the Case\",\n",
                "        \"client_status\": \"\",\n",
                "        \"next_case_status\": \"REV_INT, CLIENT_REQUEST\",\n",
                "        \"color\": \"green\",\n",
                "    },\n",
                "    \"court_response\": {\n",
                "        \"name\": \"Court Response\",\n",
                "        \"owner\": \"Lawyer\",\n",
                "        \"mandatory\": False,\n",
                "        \"flag\": \"pending\",\n",
                "        \"short_description\": \"Court Response\",\n",
                "        \"internal_status\": \"Our Attorneys are Working on the Case\",\n",
                "        \"client_status\": \"\",\n",
                "        \"next_case_status\": \"REV_INT\",\n",
                "        \"color\": \"orange\",\n",
                "    },\n",
                "    \"case_update\": {\n",
                "        \"name\": \"Case Update\",\n",
                "        \"owner\": \"Lawyer\",\n",
                "        \"mandatory\": False,\n",
                "        \"flag\": \"pending\",\n",
                "        \"short_description\": \"Case Update\",\n",
                "        \"internal_status\": \"Our Attorneys are Working on the Case\",\n",
                "        \"client_status\": \"\",\n",
                "        \"next_case_status\": \"REV_INT\",\n",
                "        \"color\": \"orange\",\n",
                "    },\n",
                "    \"court_returned_for_filing\": {\n",
                "        \"name\": \"Court Returned for Filing\",\n",
                "        \"owner\": \"Lawyer\",\n",
                "        \"mandatory\": False,\n",
                "        \"flag\": \"pending\",\n",
                "        \"short_description\": \"Court Returned for Filing\",\n",
                "        \"internal_status\": \"Our Attorneys are Working on the Case\",\n",
                "        \"client_status\": \"\",\n",
                "        \"next_case_status\": \"REV_INT\",\n",
                "        \"color\": \"orange\",\n",
                "    },\n",
                "    \"client_request\": {\n",
                "        \"name\": \"Documentation Request from the Customer\",\n",
                "        \"owner\": \"Client\",\n",
                "        \"mandatory\": True,\n",
                "        \"flag\": \"pending\",\n",
                "        \"short_description\": \"Client Intake Form\",\n",
                "        \"internal_status\": \"Our Attorneys have requested more information from you on your case\",\n",
                "        \"client_status\": \"\",\n",
                "        \"next_case_status\": \"REV_INT\",\n",
                "        \"color\": \"orange\",\n",
                "    },\n",
                "    \"rev_int\": {\n",
                "        \"name\": \"Case Documentation & Information Gathering\",\n",
                "        \"owner\": \"Lawyer\",\n",
                "        \"mandatory\": True,\n",
                "        \"flag\": \"todo\",\n",
                "        \"short_description\": \"Internal Review\",\n",
                "        \"internal_status\": \"Our Attorneys are gathering documentation to back your case\",\n",
                "        \"client_status\": \"\",\n",
                "        \"next_case_status\": \"DEFENSE_REV\",\n",
                "        \"color\": \"orange\",\n",
                "    },\n",
                "    \"defense_dev\": {\n",
                "        \"name\": \"Case Legal Strategy Development\",\n",
                "        \"owner\": \"Lawyer\",\n",
                "        \"mandatory\": True,\n",
                "        \"flag\": \"pending\",\n",
                "        \"short_description\": \"Review with the Client\",\n",
                "        \"internal_status\": \"Our attorneys are elaborating a strategy to defend your cause\",\n",
                "        \"client_status\": \"\",\n",
                "        \"next_case_status\": \"REC_REQUEST\",\n",
                "        \"color\": \"orange\",\n",
                "    },\n",
                "    \"rec_request\": {\n",
                "        \"name\": \"Case Request for Recommendation\",\n",
                "        \"owner\": \"Lawyer\",\n",
                "        \"mandatory\": True,\n",
                "        \"flag\": \"todo\",\n",
                "        \"short_description\": \"RFR Filing\",\n",
                "        \"internal_status\": \"Attorney has initiated negotiations with the Prosecutor\",\n",
                "        \"client_status\": \"\",\n",
                "        \"next_case_status\": \"REC_RECEIVED, REC_DELAYED, REC_REJECT\",\n",
                "    },\n",
                "    \"rec_received\": {\n",
                "        \"name\": \"Case Request for Recommendation\",\n",
                "        \"owner\": \"Prosecutor\",\n",
                "        \"mandatory\": False,\n",
                "        \"flag\": \"todo\",\n",
                "        \"short_description\": \"Recommendation Received\",\n",
                "        \"internal_status\": \"Attorney has negotiated a favorable plea offer\",\n",
                "        \"client_status\": \"\",\n",
                "        \"next_case_status\": \"REC_REVIEW\",\n",
                "    },\n",
                "    \"rec_reject\": {\n",
                "        \"name\": \"Case Request for Recommendation\",\n",
                "        \"owner\": \"Prosecutor\",\n",
                "        \"mandatory\": False,\n",
                "        \"flag\": \"todo\",\n",
                "        \"short_description\": \"Recommendation Rejected\",\n",
                "        \"internal_status\": \"Case cannot be handled by our attorneys\",\n",
                "        \"client_status\": \"\",\n",
                "        \"next_case_status\": \"REFUND\",\n",
                "    },\n",
                "    \"rec_delay\": {\n",
                "        \"name\": \"Case Request for Recommendation\",\n",
                "        \"owner\": \"Prosecutor\",\n",
                "        \"mandatory\": False,\n",
                "        \"flag\": \"todo\",\n",
                "        \"short_description\": \"Recommendation Delayed\",\n",
                "        \"internal_status\": \"The Prosecutor has delayed providing a plea offer. Please provide the information requested\",\n",
                "        \"client_status\": \"\",\n",
                "        \"next_case_status\": \"CLIENT_REQUEST, REC_RECEIVED, REC_REVIEW\",\n",
                "    },\n",
                "    \"rec_review\": {\n",
                "        \"name\": \"Case Plea Negotiation with the Prosecutor (if applicable)\",\n",
                "        \"owner\": \"Lawyer\",\n",
                "        \"mandatory\": False,\n",
                "        \"flag\": \"todo\",\n",
                "        \"short_description\": \"Recommendation Review\",\n",
                "        \"internal_status\": \"The Attorney has initiated further negotiations with the prosecutor\",\n",
                "        \"client_status\": \"\",\n",
                "        \"next_case_status\": \"REC_REVIEW, REC_PROPOSAL\",\n",
                "    },\n",
                "    \"rec_proposal\": {\n",
                "        \"name\": \"Case Recommendation Proposal\",\n",
                "        \"owner\": \"Client\",\n",
                "        \"mandatory\": True,\n",
                "        \"flag\": \"pending\",\n",
                "        \"short_description\": \"Recommendation Proposed to Client\",\n",
                "        \"internal_status\": \"Attorney has negotiated a favorable plea offer and would like you to review and accept the plea offer\",\n",
                "        \"client_status\": \"\",\n",
                "        \"next_case_status\": \"SIG_REQUIRED\",\n",
                "    },\n",
                "    \"sig_required\": {\n",
                "        \"name\": \"Case pending Signature and Payment\",\n",
                "        \"owner\": \"Client\",\n",
                "        \"mandatory\": True,\n",
                "        \"flag\": \"pending\",\n",
                "        \"short_description\": \"Recommendation pending Signature\",\n",
                "        \"internal_status\": \"Client signature and payment are required to accept the Prosecutor's Plea Offer\",\n",
                "        \"client_status\": \"\",\n",
                "        \"next_case_status\": \"SUB\",\n",
                "    },\n",
                "    \"sub\": {\n",
                "        \"name\": \"Case Recommendation and Payment Submission to Court\",\n",
                "        \"owner\": \"Lawyer\",\n",
                "        \"mandatory\": True,\n",
                "        \"flag\": \"todo\",\n",
                "        \"short_description\": \"Recommendation to Submit to Court\",\n",
                "        \"internal_status\": \"Attorney is submitting the signed plea and payment to the court for approval\",\n",
                "        \"client_status\": \"\",\n",
                "        \"next_case_status\": \"SUB_REVIEW\",\n",
                "    },\n",
                "    \"sub_review\": {\n",
                "        \"name\": \"Case Recommendation and Payment Review by the Court\",\n",
                "        \"owner\": \"Court\",\n",
                "        \"mandatory\": True,\n",
                "        \"flag\": \"pending\",\n",
                "        \"short_description\": \"Recommendation Submission under Review by the Court\",\n",
                "        \"internal_status\": \"Plea Offer is pending Court Approval\",\n",
                "        \"client_status\": \"\",\n",
                "        \"next_case_status\": \"APPEAR, CLOSE\",\n",
                "    },\n",
                "    \"appear\": {\n",
                "        \"name\": \"Court Representation (if applicable)\",\n",
                "        \"owner\": \"Lawyer\",\n",
                "        \"mandatory\": False,\n",
                "        \"flag\": \"pending\",\n",
                "        \"short_description\": \"Court Appearance Required\",\n",
                "        \"internal_status\": \"Court is requiring an appearance to approve the plea\",\n",
                "        \"client_status\": \"\",\n",
                "        \"next_case_status\": \"CLOSE\",\n",
                "    },\n",
                "    \"close\": {\n",
                "        \"name\": \"Case Closure\",\n",
                "        \"owner\": \"Lawyer\",\n",
                "        \"mandatory\": True,\n",
                "        \"flag\": \"pending\",\n",
                "        \"short_description\": \"Close Case on Portal\",\n",
                "        \"internal_status\": \"Congratulations! Case closed\",\n",
                "        \"client_status\": \"\",\n",
                "        \"next_case_status\": \"CLIENT_REVIEW\",\n",
                "    },\n",
                "    \"client_review\": {\n",
                "        \"name\": \"Case Feedback\",\n",
                "        \"owner\": \"Client\",\n",
                "        \"mandatory\": False,\n",
                "        \"flag\": \"closed\",\n",
                "        \"short_description\": \"Client Submits Review\",\n",
                "        \"internal_status\": \"Please provide us with a review and feedback from your experience\",\n",
                "        \"client_status\": \"\",\n",
                "        \"next_case_status\": \"CLIENT_FEEDBACK\",\n",
                "    },\n",
                "    \"closed\": {\n",
                "        \"name\": \"Case Closed\",\n",
                "        \"owner\": \"Lawyer\",\n",
                "        \"mandatory\": True,\n",
                "        \"flag\": \"closed\",\n",
                "        \"short_description\": \"Case Closed\",\n",
                "        \"internal_status\": \"Case closed\",\n",
                "        \"client_status\": \"\",\n",
                "        \"next_case_status\": \"\",\n",
                "    },\n",
                "}"
            ]
        },
        {
            "cell_type": "code",
            "execution_count": 59,
            "metadata": {},
            "outputs": [],
            "source": [
                "\"\"\"\n",
                "Information received from the court\t2113\t=> Update the case\t=> Update the case status to court_response\n",
                "Reply on a request for recommendation\t286\t=> Update the case\t=> Update the case status to rec_received\n",
                "Returned for Filing \t\t\t\t\t168\t=> Update the case \t=> Update the case status to court_returned_for_filing\n",
                "Update the case \t\t\t\t\t\t565 => Update the case\t=> Update the case status to case_update\n",
                "\"\"\"\n",
                "\n",
                "rules = [\n",
                "    {\n",
                "        # Sender shouldnt be meyerattorneyservices@gmail.com\n",
                "        \"regex\": r\"meyerattorneyservices\",\n",
                "        \"case_status\": None,\n",
                "        \"scope\": \"sender\",\n",
                "    },\n",
                "    {\n",
                "        # Sender shouldnt be Shawn-Anthony Meyer\n",
                "        \"regex\": r\"shawn-anthony meyer\",\n",
                "        \"case_status\": None,\n",
                "        \"scope\": \"sender\",\n",
                "    },\n",
                "    {\n",
                "        \"regex\": r\"returned for filing\",\n",
                "        \"case_status\": \"court_returned_for_filing\",\n",
                "        \"scope\": \"subject\",\n",
                "    },\n",
                "    {\n",
                "        \"regex\": r\"request for recommendation\",\n",
                "        \"case_status\": \"rec_received\",\n",
                "        \"scope\": \"subject\",\n",
                "    },\n",
                "    {\n",
                "        \"regex\": r\"enotice\",\n",
                "        \"case_status\": \"court_response\",\n",
                "        \"scope\": \"subject\",\n",
                "    },\n",
                "]"
            ]
        },
        {
            "cell_type": "code",
            "execution_count": 89,
            "metadata": {},
            "outputs": [],
            "source": [
                "def get_action_from_rules(email_dict, rules):\n",
                "    action = None\n",
                "    for rule in rules:\n",
                "        if rule[\"scope\"] == \"subject\":\n",
                "            match = re.search(rule[\"regex\"], email_dict[\"subject\"], re.IGNORECASE)\n",
                "            if match:\n",
                "                action = rule[\"case_status\"]\n",
                "                break\n",
                "        elif rule[\"scope\"] == \"body\":\n",
                "            match = re.search(rule[\"regex\"], email_dict[\"body\"], re.IGNORECASE)\n",
                "            if match:\n",
                "                action = rule[\"case_status\"]\n",
                "                break\n",
                "        elif rule[\"scope\"] == \"sender\":\n",
                "            match = re.search(rule[\"regex\"], email_dict[\"sender\"], re.IGNORECASE)\n",
                "            if match:\n",
                "                break\n",
                "    return action"
            ]
        },
        {
            "cell_type": "code",
            "execution_count": 107,
            "metadata": {},
            "outputs": [],
            "source": [
                "emails_list = []\n",
                "\n",
                "for email in emails:\n",
                "    case_number = extract_number_from_string(gmail_connector.get_email_subject(email))\n",
                "    subject = gmail_connector.get_email_subject(email)\n",
                "    if case_number is None:\n",
                "        case_number = extract_number_from_string(gmail_connector.get_snippet(email))\n",
                "    sender = gmail_connector.render_email_sender(gmail_connector.get_sender(email))\n",
                "    timestamp = gmail_connector.get_timestamp(email).strftime(\"%Y-%m-%d\")\n",
                "    email_dict = {\n",
                "        \"case_number\": case_number,\n",
                "        \"subject\": subject,\n",
                "        \"sender\": sender,\n",
                "        \"timestamp\": timestamp,\n",
                "    }\n",
                "\n",
                "    action = get_action_from_rules(email_dict, rules)\n",
                "    \n",
                "    if action:\n",
                "        email_dict[\"action\"] = action\n",
                "\n",
                "    emails_list += [email_dict]"
            ]
        },
        {
            "cell_type": "code",
            "execution_count": 108,
            "metadata": {},
            "outputs": [],
            "source": [
                "import pandas as pd \n",
                "# Change the backend for pandas to plotly\n",
                "pd.options.plotting.backend = \"plotly\"\n",
                "\n",
                "emails_df = pd.DataFrame(emails_list)\n",
                "emails_df[\"timestamp\"] = pd.to_datetime(emails_df[\"timestamp\"])"
            ]
        },
        {
            "cell_type": "code",
            "execution_count": 109,
            "metadata": {},
            "outputs": [
                {
                    "name": "stderr",
                    "output_type": "stream",
                    "text": [
                        "/Users/aennassiri/Projects/Personal/ticket-washer/venv/lib/python3.11/site-packages/_plotly_utils/basevalidators.py:105: FutureWarning:\n",
                        "\n",
                        "The behavior of DatetimeProperties.to_pydatetime is deprecated, in a future version this will return a Series containing python datetime objects instead of an ndarray. To retain the old behavior, call `np.array` on the result\n",
                        "\n"
                    ]
                },
                {
                    "data": {
                        "application/vnd.plotly.v1+json": {
                            "config": {
                                "plotlyServerURL": "https://plot.ly"
                            },
                            "data": [
                                {
                                    "hovertemplate": "variable=count<br>timestamp=%{x}<br>value=%{y}<extra></extra>",
                                    "legendgroup": "count",
                                    "line": {
                                        "color": "#636efa",
                                        "dash": "solid"
                                    },
                                    "marker": {
                                        "symbol": "circle"
                                    },
                                    "mode": "lines",
                                    "name": "count",
                                    "orientation": "v",
                                    "showlegend": true,
                                    "type": "scatter",
                                    "x": [
                                        "2023-03-28T00:00:00",
                                        "2023-03-29T00:00:00",
                                        "2023-03-30T00:00:00",
                                        "2023-03-31T00:00:00",
                                        "2023-04-01T00:00:00",
                                        "2023-04-02T00:00:00",
                                        "2023-04-03T00:00:00",
                                        "2023-04-04T00:00:00",
                                        "2023-04-05T00:00:00",
                                        "2023-04-06T00:00:00",
                                        "2023-04-07T00:00:00",
                                        "2023-04-08T00:00:00",
                                        "2023-04-09T00:00:00",
                                        "2023-04-10T00:00:00",
                                        "2023-04-11T00:00:00",
                                        "2023-04-12T00:00:00",
                                        "2023-04-13T00:00:00",
                                        "2023-04-14T00:00:00",
                                        "2023-04-15T00:00:00",
                                        "2023-04-16T00:00:00",
                                        "2023-04-17T00:00:00",
                                        "2023-04-18T00:00:00",
                                        "2023-04-19T00:00:00",
                                        "2023-04-20T00:00:00",
                                        "2023-04-21T00:00:00",
                                        "2023-04-22T00:00:00",
                                        "2023-04-23T00:00:00",
                                        "2023-04-24T00:00:00",
                                        "2023-04-25T00:00:00",
                                        "2023-04-26T00:00:00",
                                        "2023-04-27T00:00:00",
                                        "2023-04-28T00:00:00",
                                        "2023-04-29T00:00:00",
                                        "2023-04-30T00:00:00",
                                        "2023-05-01T00:00:00",
                                        "2023-05-02T00:00:00",
                                        "2023-05-03T00:00:00",
                                        "2023-05-04T00:00:00",
                                        "2023-05-05T00:00:00",
                                        "2023-05-06T00:00:00",
                                        "2023-05-07T00:00:00",
                                        "2023-05-08T00:00:00",
                                        "2023-05-09T00:00:00",
                                        "2023-05-10T00:00:00",
                                        "2023-05-11T00:00:00",
                                        "2023-05-12T00:00:00",
                                        "2023-05-13T00:00:00",
                                        "2023-05-14T00:00:00",
                                        "2023-05-15T00:00:00",
                                        "2023-05-16T00:00:00",
                                        "2023-05-17T00:00:00",
                                        "2023-05-18T00:00:00",
                                        "2023-05-19T00:00:00",
                                        "2023-05-20T00:00:00",
                                        "2023-05-21T00:00:00",
                                        "2023-05-22T00:00:00",
                                        "2023-05-23T00:00:00",
                                        "2023-05-24T00:00:00",
                                        "2023-05-25T00:00:00",
                                        "2023-05-26T00:00:00",
                                        "2023-05-27T00:00:00",
                                        "2023-05-28T00:00:00",
                                        "2023-05-29T00:00:00",
                                        "2023-05-30T00:00:00",
                                        "2023-05-31T00:00:00",
                                        "2023-06-01T00:00:00",
                                        "2023-06-02T00:00:00",
                                        "2023-06-03T00:00:00",
                                        "2023-06-04T00:00:00",
                                        "2023-06-05T00:00:00",
                                        "2023-06-06T00:00:00",
                                        "2023-06-07T00:00:00",
                                        "2023-06-08T00:00:00",
                                        "2023-06-09T00:00:00",
                                        "2023-06-10T00:00:00",
                                        "2023-06-11T00:00:00",
                                        "2023-06-12T00:00:00",
                                        "2023-06-13T00:00:00",
                                        "2023-06-14T00:00:00",
                                        "2023-06-15T00:00:00",
                                        "2023-06-16T00:00:00",
                                        "2023-06-17T00:00:00",
                                        "2023-06-18T00:00:00",
                                        "2023-06-19T00:00:00",
                                        "2023-06-20T00:00:00",
                                        "2023-06-21T00:00:00",
                                        "2023-06-22T00:00:00",
                                        "2023-06-23T00:00:00",
                                        "2023-06-24T00:00:00",
                                        "2023-06-25T00:00:00",
                                        "2023-06-26T00:00:00",
                                        "2023-06-27T00:00:00",
                                        "2023-06-28T00:00:00",
                                        "2023-06-29T00:00:00",
                                        "2023-06-30T00:00:00",
                                        "2023-07-01T00:00:00",
                                        "2023-07-02T00:00:00",
                                        "2023-07-03T00:00:00",
                                        "2023-07-04T00:00:00",
                                        "2023-07-05T00:00:00",
                                        "2023-07-06T00:00:00",
                                        "2023-07-07T00:00:00",
                                        "2023-07-08T00:00:00",
                                        "2023-07-09T00:00:00",
                                        "2023-07-10T00:00:00",
                                        "2023-07-11T00:00:00",
                                        "2023-07-12T00:00:00",
                                        "2023-07-13T00:00:00",
                                        "2023-07-14T00:00:00",
                                        "2023-07-15T00:00:00",
                                        "2023-07-16T00:00:00",
                                        "2023-07-17T00:00:00",
                                        "2023-07-18T00:00:00",
                                        "2023-07-19T00:00:00",
                                        "2023-07-20T00:00:00",
                                        "2023-07-21T00:00:00",
                                        "2023-07-22T00:00:00",
                                        "2023-07-23T00:00:00",
                                        "2023-07-24T00:00:00",
                                        "2023-07-25T00:00:00",
                                        "2023-07-26T00:00:00",
                                        "2023-07-27T00:00:00",
                                        "2023-07-28T00:00:00",
                                        "2023-07-29T00:00:00",
                                        "2023-07-30T00:00:00",
                                        "2023-07-31T00:00:00",
                                        "2023-08-01T00:00:00",
                                        "2023-08-02T00:00:00",
                                        "2023-08-03T00:00:00",
                                        "2023-08-04T00:00:00",
                                        "2023-08-05T00:00:00",
                                        "2023-08-06T00:00:00",
                                        "2023-08-07T00:00:00",
                                        "2023-08-08T00:00:00",
                                        "2023-08-09T00:00:00",
                                        "2023-08-10T00:00:00",
                                        "2023-08-11T00:00:00",
                                        "2023-08-12T00:00:00",
                                        "2023-08-13T00:00:00",
                                        "2023-08-14T00:00:00",
                                        "2023-08-15T00:00:00",
                                        "2023-08-16T00:00:00",
                                        "2023-08-17T00:00:00",
                                        "2023-08-18T00:00:00",
                                        "2023-08-19T00:00:00",
                                        "2023-08-20T00:00:00",
                                        "2023-08-21T00:00:00",
                                        "2023-08-22T00:00:00",
                                        "2023-08-23T00:00:00",
                                        "2023-08-24T00:00:00",
                                        "2023-08-25T00:00:00",
                                        "2023-08-26T00:00:00",
                                        "2023-08-27T00:00:00",
                                        "2023-08-28T00:00:00",
                                        "2023-08-29T00:00:00",
                                        "2023-08-30T00:00:00",
                                        "2023-08-31T00:00:00",
                                        "2023-09-01T00:00:00",
                                        "2023-09-02T00:00:00",
                                        "2023-09-03T00:00:00",
                                        "2023-09-04T00:00:00",
                                        "2023-09-05T00:00:00",
                                        "2023-09-06T00:00:00",
                                        "2023-09-07T00:00:00",
                                        "2023-09-08T00:00:00",
                                        "2023-09-09T00:00:00",
                                        "2023-09-10T00:00:00",
                                        "2023-09-11T00:00:00",
                                        "2023-09-12T00:00:00",
                                        "2023-09-13T00:00:00",
                                        "2023-09-14T00:00:00",
                                        "2023-09-15T00:00:00",
                                        "2023-09-16T00:00:00",
                                        "2023-09-17T00:00:00",
                                        "2023-09-18T00:00:00",
                                        "2023-09-19T00:00:00",
                                        "2023-09-20T00:00:00",
                                        "2023-09-21T00:00:00",
                                        "2023-09-22T00:00:00",
                                        "2023-09-23T00:00:00",
                                        "2023-09-24T00:00:00",
                                        "2023-09-25T00:00:00",
                                        "2023-09-26T00:00:00",
                                        "2023-09-27T00:00:00",
                                        "2023-09-28T00:00:00",
                                        "2023-09-29T00:00:00",
                                        "2023-09-30T00:00:00",
                                        "2023-10-01T00:00:00",
                                        "2023-10-02T00:00:00",
                                        "2023-10-03T00:00:00",
                                        "2023-10-04T00:00:00",
                                        "2023-10-05T00:00:00",
                                        "2023-10-06T00:00:00",
                                        "2023-10-07T00:00:00",
                                        "2023-10-08T00:00:00",
                                        "2023-10-09T00:00:00",
                                        "2023-10-10T00:00:00",
                                        "2023-10-11T00:00:00",
                                        "2023-10-12T00:00:00",
                                        "2023-10-13T00:00:00",
                                        "2023-10-14T00:00:00",
                                        "2023-10-15T00:00:00",
                                        "2023-10-16T00:00:00",
                                        "2023-10-17T00:00:00",
                                        "2023-10-18T00:00:00",
                                        "2023-10-19T00:00:00",
                                        "2023-10-20T00:00:00",
                                        "2023-10-21T00:00:00",
                                        "2023-10-23T00:00:00",
                                        "2023-10-24T00:00:00",
                                        "2023-10-25T00:00:00",
                                        "2023-10-26T00:00:00",
                                        "2023-10-27T00:00:00",
                                        "2023-10-28T00:00:00",
                                        "2023-10-29T00:00:00",
                                        "2023-10-30T00:00:00",
                                        "2023-10-31T00:00:00",
                                        "2023-11-01T00:00:00",
                                        "2023-11-02T00:00:00",
                                        "2023-11-03T00:00:00",
                                        "2023-11-04T00:00:00",
                                        "2023-11-05T00:00:00",
                                        "2023-11-06T00:00:00",
                                        "2023-11-07T00:00:00",
                                        "2023-11-08T00:00:00",
                                        "2023-11-09T00:00:00",
                                        "2023-11-10T00:00:00",
                                        "2023-11-11T00:00:00",
                                        "2023-11-12T00:00:00",
                                        "2023-11-13T00:00:00",
                                        "2023-11-14T00:00:00",
                                        "2023-11-15T00:00:00",
                                        "2023-11-16T00:00:00",
                                        "2023-11-17T00:00:00",
                                        "2023-11-18T00:00:00",
                                        "2023-11-19T00:00:00",
                                        "2023-11-20T00:00:00",
                                        "2023-11-21T00:00:00",
                                        "2023-11-22T00:00:00",
                                        "2023-11-23T00:00:00",
                                        "2023-11-24T00:00:00",
                                        "2023-11-25T00:00:00",
                                        "2023-11-26T00:00:00",
                                        "2023-11-27T00:00:00",
                                        "2023-11-28T00:00:00",
                                        "2023-11-29T00:00:00",
                                        "2023-11-30T00:00:00",
                                        "2023-12-01T00:00:00",
                                        "2023-12-02T00:00:00",
                                        "2023-12-03T00:00:00",
                                        "2023-12-04T00:00:00",
                                        "2023-12-05T00:00:00",
                                        "2023-12-06T00:00:00",
                                        "2023-12-07T00:00:00",
                                        "2023-12-08T00:00:00",
                                        "2023-12-09T00:00:00",
                                        "2023-12-10T00:00:00",
                                        "2023-12-11T00:00:00",
                                        "2023-12-12T00:00:00",
                                        "2023-12-13T00:00:00",
                                        "2023-12-14T00:00:00",
                                        "2023-12-15T00:00:00",
                                        "2023-12-16T00:00:00",
                                        "2023-12-17T00:00:00",
                                        "2023-12-18T00:00:00",
                                        "2023-12-19T00:00:00",
                                        "2023-12-20T00:00:00",
                                        "2023-12-21T00:00:00",
                                        "2023-12-22T00:00:00",
                                        "2023-12-23T00:00:00",
                                        "2023-12-24T00:00:00",
                                        "2023-12-25T00:00:00",
                                        "2023-12-26T00:00:00",
                                        "2023-12-27T00:00:00",
                                        "2023-12-28T00:00:00",
                                        "2023-12-29T00:00:00",
                                        "2023-12-30T00:00:00",
                                        "2023-12-31T00:00:00",
                                        "2024-01-01T00:00:00",
                                        "2024-01-02T00:00:00",
                                        "2024-01-03T00:00:00",
                                        "2024-01-04T00:00:00",
                                        "2024-01-05T00:00:00",
                                        "2024-01-06T00:00:00",
                                        "2024-01-07T00:00:00",
                                        "2024-01-08T00:00:00",
                                        "2024-01-09T00:00:00",
                                        "2024-01-10T00:00:00",
                                        "2024-01-11T00:00:00",
                                        "2024-01-12T00:00:00",
                                        "2024-01-13T00:00:00",
                                        "2024-01-14T00:00:00",
                                        "2024-01-15T00:00:00",
                                        "2024-01-16T00:00:00",
                                        "2024-01-17T00:00:00",
                                        "2024-01-18T00:00:00",
                                        "2024-01-19T00:00:00",
                                        "2024-01-20T00:00:00",
                                        "2024-01-21T00:00:00",
                                        "2024-01-22T00:00:00",
                                        "2024-01-23T00:00:00",
                                        "2024-01-24T00:00:00",
                                        "2024-01-25T00:00:00",
                                        "2024-01-26T00:00:00",
                                        "2024-01-27T00:00:00",
                                        "2024-01-28T00:00:00",
                                        "2024-01-29T00:00:00",
                                        "2024-01-30T00:00:00",
                                        "2024-01-31T00:00:00",
                                        "2024-02-01T00:00:00",
                                        "2024-02-02T00:00:00",
                                        "2024-02-03T00:00:00",
                                        "2024-02-04T00:00:00",
                                        "2024-02-05T00:00:00",
                                        "2024-02-06T00:00:00",
                                        "2024-02-07T00:00:00",
                                        "2024-02-08T00:00:00",
                                        "2024-02-09T00:00:00",
                                        "2024-02-10T00:00:00",
                                        "2024-02-11T00:00:00",
                                        "2024-02-12T00:00:00",
                                        "2024-02-13T00:00:00",
                                        "2024-02-14T00:00:00",
                                        "2024-02-15T00:00:00",
                                        "2024-02-16T00:00:00",
                                        "2024-02-17T00:00:00",
                                        "2024-02-18T00:00:00",
                                        "2024-02-19T00:00:00",
                                        "2024-02-20T00:00:00",
                                        "2024-02-21T00:00:00",
                                        "2024-02-22T00:00:00",
                                        "2024-02-23T00:00:00",
                                        "2024-02-24T00:00:00",
                                        "2024-02-25T00:00:00",
                                        "2024-02-26T00:00:00",
                                        "2024-02-27T00:00:00",
                                        "2024-02-28T00:00:00",
                                        "2024-02-29T00:00:00",
                                        "2024-03-01T00:00:00",
                                        "2024-03-02T00:00:00",
                                        "2024-03-03T00:00:00",
                                        "2024-03-04T00:00:00",
                                        "2024-03-05T00:00:00",
                                        "2024-03-06T00:00:00",
                                        "2024-03-07T00:00:00",
                                        "2024-03-08T00:00:00",
                                        "2024-03-09T00:00:00",
                                        "2024-03-10T00:00:00",
                                        "2024-03-11T00:00:00",
                                        "2024-03-12T00:00:00",
                                        "2024-03-13T00:00:00",
                                        "2024-03-14T00:00:00",
                                        "2024-03-15T00:00:00",
                                        "2024-03-16T00:00:00",
                                        "2024-03-17T00:00:00",
                                        "2024-03-18T00:00:00",
                                        "2024-03-19T00:00:00",
                                        "2024-03-20T00:00:00",
                                        "2024-03-21T00:00:00",
                                        "2024-03-22T00:00:00",
                                        "2024-03-23T00:00:00",
                                        "2024-03-24T00:00:00",
                                        "2024-03-25T00:00:00",
                                        "2024-03-26T00:00:00",
                                        "2024-03-27T00:00:00",
                                        "2024-03-28T00:00:00",
                                        "2024-03-29T00:00:00",
                                        "2024-03-30T00:00:00",
                                        "2024-03-31T00:00:00",
                                        "2024-04-01T00:00:00",
                                        "2024-04-02T00:00:00",
                                        "2024-04-03T00:00:00",
                                        "2024-04-04T00:00:00",
                                        "2024-04-05T00:00:00",
                                        "2024-04-06T00:00:00",
                                        "2024-04-07T00:00:00",
                                        "2024-04-08T00:00:00",
                                        "2024-04-09T00:00:00",
                                        "2024-04-15T00:00:00"
                                    ],
                                    "xaxis": "x",
                                    "y": [
                                        80,
                                        60,
                                        32,
                                        32,
                                        12,
                                        2,
                                        25,
                                        41,
                                        32,
                                        62,
                                        20,
                                        7,
                                        2,
                                        22,
                                        71,
                                        49,
                                        38,
                                        49,
                                        12,
                                        6,
                                        11,
                                        5,
                                        69,
                                        21,
                                        22,
                                        7,
                                        3,
                                        14,
                                        12,
                                        18,
                                        35,
                                        23,
                                        4,
                                        1,
                                        13,
                                        39,
                                        57,
                                        31,
                                        16,
                                        6,
                                        8,
                                        19,
                                        30,
                                        17,
                                        15,
                                        13,
                                        3,
                                        6,
                                        11,
                                        15,
                                        20,
                                        6,
                                        20,
                                        3,
                                        3,
                                        42,
                                        23,
                                        40,
                                        24,
                                        27,
                                        11,
                                        2,
                                        12,
                                        36,
                                        48,
                                        44,
                                        38,
                                        9,
                                        3,
                                        33,
                                        30,
                                        36,
                                        33,
                                        48,
                                        8,
                                        5,
                                        44,
                                        48,
                                        35,
                                        17,
                                        10,
                                        4,
                                        4,
                                        10,
                                        39,
                                        71,
                                        19,
                                        20,
                                        2,
                                        5,
                                        24,
                                        20,
                                        25,
                                        12,
                                        15,
                                        10,
                                        7,
                                        14,
                                        6,
                                        8,
                                        17,
                                        35,
                                        5,
                                        12,
                                        68,
                                        83,
                                        32,
                                        40,
                                        62,
                                        8,
                                        1,
                                        47,
                                        38,
                                        28,
                                        67,
                                        70,
                                        3,
                                        30,
                                        101,
                                        79,
                                        67,
                                        26,
                                        50,
                                        12,
                                        2,
                                        45,
                                        73,
                                        80,
                                        25,
                                        58,
                                        7,
                                        2,
                                        24,
                                        79,
                                        30,
                                        33,
                                        98,
                                        28,
                                        9,
                                        104,
                                        74,
                                        59,
                                        48,
                                        25,
                                        7,
                                        4,
                                        66,
                                        90,
                                        55,
                                        24,
                                        35,
                                        3,
                                        3,
                                        37,
                                        55,
                                        57,
                                        28,
                                        48,
                                        2,
                                        3,
                                        5,
                                        52,
                                        119,
                                        72,
                                        39,
                                        23,
                                        12,
                                        57,
                                        75,
                                        55,
                                        39,
                                        26,
                                        9,
                                        10,
                                        48,
                                        72,
                                        42,
                                        100,
                                        49,
                                        4,
                                        2,
                                        113,
                                        55,
                                        66,
                                        59,
                                        101,
                                        7,
                                        2,
                                        91,
                                        70,
                                        99,
                                        65,
                                        23,
                                        6,
                                        4,
                                        58,
                                        80,
                                        57,
                                        48,
                                        37,
                                        10,
                                        2,
                                        52,
                                        85,
                                        63,
                                        48,
                                        35,
                                        2,
                                        72,
                                        121,
                                        53,
                                        72,
                                        26,
                                        7,
                                        3,
                                        34,
                                        106,
                                        101,
                                        60,
                                        56,
                                        8,
                                        4,
                                        33,
                                        61,
                                        50,
                                        65,
                                        34,
                                        2,
                                        6,
                                        69,
                                        52,
                                        51,
                                        29,
                                        32,
                                        9,
                                        1,
                                        60,
                                        57,
                                        59,
                                        10,
                                        3,
                                        3,
                                        1,
                                        46,
                                        58,
                                        87,
                                        123,
                                        147,
                                        17,
                                        10,
                                        100,
                                        50,
                                        65,
                                        69,
                                        69,
                                        28,
                                        2,
                                        69,
                                        61,
                                        36,
                                        23,
                                        43,
                                        21,
                                        11,
                                        80,
                                        103,
                                        88,
                                        123,
                                        63,
                                        8,
                                        21,
                                        4,
                                        55,
                                        59,
                                        11,
                                        7,
                                        11,
                                        3,
                                        4,
                                        61,
                                        97,
                                        254,
                                        109,
                                        21,
                                        7,
                                        60,
                                        88,
                                        88,
                                        64,
                                        79,
                                        1,
                                        1,
                                        28,
                                        69,
                                        51,
                                        61,
                                        65,
                                        15,
                                        4,
                                        61,
                                        183,
                                        145,
                                        108,
                                        106,
                                        11,
                                        1,
                                        96,
                                        97,
                                        192,
                                        97,
                                        134,
                                        21,
                                        10,
                                        136,
                                        72,
                                        68,
                                        91,
                                        84,
                                        10,
                                        3,
                                        92,
                                        164,
                                        79,
                                        76,
                                        104,
                                        15,
                                        4,
                                        48,
                                        147,
                                        101,
                                        99,
                                        86,
                                        20,
                                        2,
                                        166,
                                        75,
                                        83,
                                        80,
                                        178,
                                        31,
                                        8,
                                        136,
                                        101,
                                        159,
                                        194,
                                        237,
                                        21,
                                        76,
                                        361,
                                        185,
                                        192,
                                        107,
                                        141,
                                        13,
                                        45,
                                        204,
                                        213,
                                        187,
                                        226,
                                        183,
                                        16,
                                        14,
                                        220,
                                        195,
                                        193,
                                        210,
                                        160,
                                        6,
                                        55,
                                        247,
                                        350,
                                        205,
                                        118,
                                        115,
                                        15,
                                        12,
                                        151,
                                        24,
                                        1
                                    ],
                                    "yaxis": "y"
                                }
                            ],
                            "layout": {
                                "legend": {
                                    "title": {
                                        "text": "variable"
                                    },
                                    "tracegroupgap": 0
                                },
                                "margin": {
                                    "t": 60
                                },
                                "template": {
                                    "data": {
                                        "bar": [
                                            {
                                                "error_x": {
                                                    "color": "#2a3f5f"
                                                },
                                                "error_y": {
                                                    "color": "#2a3f5f"
                                                },
                                                "marker": {
                                                    "line": {
                                                        "color": "#E5ECF6",
                                                        "width": 0.5
                                                    },
                                                    "pattern": {
                                                        "fillmode": "overlay",
                                                        "size": 10,
                                                        "solidity": 0.2
                                                    }
                                                },
                                                "type": "bar"
                                            }
                                        ],
                                        "barpolar": [
                                            {
                                                "marker": {
                                                    "line": {
                                                        "color": "#E5ECF6",
                                                        "width": 0.5
                                                    },
                                                    "pattern": {
                                                        "fillmode": "overlay",
                                                        "size": 10,
                                                        "solidity": 0.2
                                                    }
                                                },
                                                "type": "barpolar"
                                            }
                                        ],
                                        "carpet": [
                                            {
                                                "aaxis": {
                                                    "endlinecolor": "#2a3f5f",
                                                    "gridcolor": "white",
                                                    "linecolor": "white",
                                                    "minorgridcolor": "white",
                                                    "startlinecolor": "#2a3f5f"
                                                },
                                                "baxis": {
                                                    "endlinecolor": "#2a3f5f",
                                                    "gridcolor": "white",
                                                    "linecolor": "white",
                                                    "minorgridcolor": "white",
                                                    "startlinecolor": "#2a3f5f"
                                                },
                                                "type": "carpet"
                                            }
                                        ],
                                        "choropleth": [
                                            {
                                                "colorbar": {
                                                    "outlinewidth": 0,
                                                    "ticks": ""
                                                },
                                                "type": "choropleth"
                                            }
                                        ],
                                        "contour": [
                                            {
                                                "colorbar": {
                                                    "outlinewidth": 0,
                                                    "ticks": ""
                                                },
                                                "colorscale": [
                                                    [
                                                        0,
                                                        "#0d0887"
                                                    ],
                                                    [
                                                        0.1111111111111111,
                                                        "#46039f"
                                                    ],
                                                    [
                                                        0.2222222222222222,
                                                        "#7201a8"
                                                    ],
                                                    [
                                                        0.3333333333333333,
                                                        "#9c179e"
                                                    ],
                                                    [
                                                        0.4444444444444444,
                                                        "#bd3786"
                                                    ],
                                                    [
                                                        0.5555555555555556,
                                                        "#d8576b"
                                                    ],
                                                    [
                                                        0.6666666666666666,
                                                        "#ed7953"
                                                    ],
                                                    [
                                                        0.7777777777777778,
                                                        "#fb9f3a"
                                                    ],
                                                    [
                                                        0.8888888888888888,
                                                        "#fdca26"
                                                    ],
                                                    [
                                                        1,
                                                        "#f0f921"
                                                    ]
                                                ],
                                                "type": "contour"
                                            }
                                        ],
                                        "contourcarpet": [
                                            {
                                                "colorbar": {
                                                    "outlinewidth": 0,
                                                    "ticks": ""
                                                },
                                                "type": "contourcarpet"
                                            }
                                        ],
                                        "heatmap": [
                                            {
                                                "colorbar": {
                                                    "outlinewidth": 0,
                                                    "ticks": ""
                                                },
                                                "colorscale": [
                                                    [
                                                        0,
                                                        "#0d0887"
                                                    ],
                                                    [
                                                        0.1111111111111111,
                                                        "#46039f"
                                                    ],
                                                    [
                                                        0.2222222222222222,
                                                        "#7201a8"
                                                    ],
                                                    [
                                                        0.3333333333333333,
                                                        "#9c179e"
                                                    ],
                                                    [
                                                        0.4444444444444444,
                                                        "#bd3786"
                                                    ],
                                                    [
                                                        0.5555555555555556,
                                                        "#d8576b"
                                                    ],
                                                    [
                                                        0.6666666666666666,
                                                        "#ed7953"
                                                    ],
                                                    [
                                                        0.7777777777777778,
                                                        "#fb9f3a"
                                                    ],
                                                    [
                                                        0.8888888888888888,
                                                        "#fdca26"
                                                    ],
                                                    [
                                                        1,
                                                        "#f0f921"
                                                    ]
                                                ],
                                                "type": "heatmap"
                                            }
                                        ],
                                        "heatmapgl": [
                                            {
                                                "colorbar": {
                                                    "outlinewidth": 0,
                                                    "ticks": ""
                                                },
                                                "colorscale": [
                                                    [
                                                        0,
                                                        "#0d0887"
                                                    ],
                                                    [
                                                        0.1111111111111111,
                                                        "#46039f"
                                                    ],
                                                    [
                                                        0.2222222222222222,
                                                        "#7201a8"
                                                    ],
                                                    [
                                                        0.3333333333333333,
                                                        "#9c179e"
                                                    ],
                                                    [
                                                        0.4444444444444444,
                                                        "#bd3786"
                                                    ],
                                                    [
                                                        0.5555555555555556,
                                                        "#d8576b"
                                                    ],
                                                    [
                                                        0.6666666666666666,
                                                        "#ed7953"
                                                    ],
                                                    [
                                                        0.7777777777777778,
                                                        "#fb9f3a"
                                                    ],
                                                    [
                                                        0.8888888888888888,
                                                        "#fdca26"
                                                    ],
                                                    [
                                                        1,
                                                        "#f0f921"
                                                    ]
                                                ],
                                                "type": "heatmapgl"
                                            }
                                        ],
                                        "histogram": [
                                            {
                                                "marker": {
                                                    "pattern": {
                                                        "fillmode": "overlay",
                                                        "size": 10,
                                                        "solidity": 0.2
                                                    }
                                                },
                                                "type": "histogram"
                                            }
                                        ],
                                        "histogram2d": [
                                            {
                                                "colorbar": {
                                                    "outlinewidth": 0,
                                                    "ticks": ""
                                                },
                                                "colorscale": [
                                                    [
                                                        0,
                                                        "#0d0887"
                                                    ],
                                                    [
                                                        0.1111111111111111,
                                                        "#46039f"
                                                    ],
                                                    [
                                                        0.2222222222222222,
                                                        "#7201a8"
                                                    ],
                                                    [
                                                        0.3333333333333333,
                                                        "#9c179e"
                                                    ],
                                                    [
                                                        0.4444444444444444,
                                                        "#bd3786"
                                                    ],
                                                    [
                                                        0.5555555555555556,
                                                        "#d8576b"
                                                    ],
                                                    [
                                                        0.6666666666666666,
                                                        "#ed7953"
                                                    ],
                                                    [
                                                        0.7777777777777778,
                                                        "#fb9f3a"
                                                    ],
                                                    [
                                                        0.8888888888888888,
                                                        "#fdca26"
                                                    ],
                                                    [
                                                        1,
                                                        "#f0f921"
                                                    ]
                                                ],
                                                "type": "histogram2d"
                                            }
                                        ],
                                        "histogram2dcontour": [
                                            {
                                                "colorbar": {
                                                    "outlinewidth": 0,
                                                    "ticks": ""
                                                },
                                                "colorscale": [
                                                    [
                                                        0,
                                                        "#0d0887"
                                                    ],
                                                    [
                                                        0.1111111111111111,
                                                        "#46039f"
                                                    ],
                                                    [
                                                        0.2222222222222222,
                                                        "#7201a8"
                                                    ],
                                                    [
                                                        0.3333333333333333,
                                                        "#9c179e"
                                                    ],
                                                    [
                                                        0.4444444444444444,
                                                        "#bd3786"
                                                    ],
                                                    [
                                                        0.5555555555555556,
                                                        "#d8576b"
                                                    ],
                                                    [
                                                        0.6666666666666666,
                                                        "#ed7953"
                                                    ],
                                                    [
                                                        0.7777777777777778,
                                                        "#fb9f3a"
                                                    ],
                                                    [
                                                        0.8888888888888888,
                                                        "#fdca26"
                                                    ],
                                                    [
                                                        1,
                                                        "#f0f921"
                                                    ]
                                                ],
                                                "type": "histogram2dcontour"
                                            }
                                        ],
                                        "mesh3d": [
                                            {
                                                "colorbar": {
                                                    "outlinewidth": 0,
                                                    "ticks": ""
                                                },
                                                "type": "mesh3d"
                                            }
                                        ],
                                        "parcoords": [
                                            {
                                                "line": {
                                                    "colorbar": {
                                                        "outlinewidth": 0,
                                                        "ticks": ""
                                                    }
                                                },
                                                "type": "parcoords"
                                            }
                                        ],
                                        "pie": [
                                            {
                                                "automargin": true,
                                                "type": "pie"
                                            }
                                        ],
                                        "scatter": [
                                            {
                                                "fillpattern": {
                                                    "fillmode": "overlay",
                                                    "size": 10,
                                                    "solidity": 0.2
                                                },
                                                "type": "scatter"
                                            }
                                        ],
                                        "scatter3d": [
                                            {
                                                "line": {
                                                    "colorbar": {
                                                        "outlinewidth": 0,
                                                        "ticks": ""
                                                    }
                                                },
                                                "marker": {
                                                    "colorbar": {
                                                        "outlinewidth": 0,
                                                        "ticks": ""
                                                    }
                                                },
                                                "type": "scatter3d"
                                            }
                                        ],
                                        "scattercarpet": [
                                            {
                                                "marker": {
                                                    "colorbar": {
                                                        "outlinewidth": 0,
                                                        "ticks": ""
                                                    }
                                                },
                                                "type": "scattercarpet"
                                            }
                                        ],
                                        "scattergeo": [
                                            {
                                                "marker": {
                                                    "colorbar": {
                                                        "outlinewidth": 0,
                                                        "ticks": ""
                                                    }
                                                },
                                                "type": "scattergeo"
                                            }
                                        ],
                                        "scattergl": [
                                            {
                                                "marker": {
                                                    "colorbar": {
                                                        "outlinewidth": 0,
                                                        "ticks": ""
                                                    }
                                                },
                                                "type": "scattergl"
                                            }
                                        ],
                                        "scattermapbox": [
                                            {
                                                "marker": {
                                                    "colorbar": {
                                                        "outlinewidth": 0,
                                                        "ticks": ""
                                                    }
                                                },
                                                "type": "scattermapbox"
                                            }
                                        ],
                                        "scatterpolar": [
                                            {
                                                "marker": {
                                                    "colorbar": {
                                                        "outlinewidth": 0,
                                                        "ticks": ""
                                                    }
                                                },
                                                "type": "scatterpolar"
                                            }
                                        ],
                                        "scatterpolargl": [
                                            {
                                                "marker": {
                                                    "colorbar": {
                                                        "outlinewidth": 0,
                                                        "ticks": ""
                                                    }
                                                },
                                                "type": "scatterpolargl"
                                            }
                                        ],
                                        "scatterternary": [
                                            {
                                                "marker": {
                                                    "colorbar": {
                                                        "outlinewidth": 0,
                                                        "ticks": ""
                                                    }
                                                },
                                                "type": "scatterternary"
                                            }
                                        ],
                                        "surface": [
                                            {
                                                "colorbar": {
                                                    "outlinewidth": 0,
                                                    "ticks": ""
                                                },
                                                "colorscale": [
                                                    [
                                                        0,
                                                        "#0d0887"
                                                    ],
                                                    [
                                                        0.1111111111111111,
                                                        "#46039f"
                                                    ],
                                                    [
                                                        0.2222222222222222,
                                                        "#7201a8"
                                                    ],
                                                    [
                                                        0.3333333333333333,
                                                        "#9c179e"
                                                    ],
                                                    [
                                                        0.4444444444444444,
                                                        "#bd3786"
                                                    ],
                                                    [
                                                        0.5555555555555556,
                                                        "#d8576b"
                                                    ],
                                                    [
                                                        0.6666666666666666,
                                                        "#ed7953"
                                                    ],
                                                    [
                                                        0.7777777777777778,
                                                        "#fb9f3a"
                                                    ],
                                                    [
                                                        0.8888888888888888,
                                                        "#fdca26"
                                                    ],
                                                    [
                                                        1,
                                                        "#f0f921"
                                                    ]
                                                ],
                                                "type": "surface"
                                            }
                                        ],
                                        "table": [
                                            {
                                                "cells": {
                                                    "fill": {
                                                        "color": "#EBF0F8"
                                                    },
                                                    "line": {
                                                        "color": "white"
                                                    }
                                                },
                                                "header": {
                                                    "fill": {
                                                        "color": "#C8D4E3"
                                                    },
                                                    "line": {
                                                        "color": "white"
                                                    }
                                                },
                                                "type": "table"
                                            }
                                        ]
                                    },
                                    "layout": {
                                        "annotationdefaults": {
                                            "arrowcolor": "#2a3f5f",
                                            "arrowhead": 0,
                                            "arrowwidth": 1
                                        },
                                        "autotypenumbers": "strict",
                                        "coloraxis": {
                                            "colorbar": {
                                                "outlinewidth": 0,
                                                "ticks": ""
                                            }
                                        },
                                        "colorscale": {
                                            "diverging": [
                                                [
                                                    0,
                                                    "#8e0152"
                                                ],
                                                [
                                                    0.1,
                                                    "#c51b7d"
                                                ],
                                                [
                                                    0.2,
                                                    "#de77ae"
                                                ],
                                                [
                                                    0.3,
                                                    "#f1b6da"
                                                ],
                                                [
                                                    0.4,
                                                    "#fde0ef"
                                                ],
                                                [
                                                    0.5,
                                                    "#f7f7f7"
                                                ],
                                                [
                                                    0.6,
                                                    "#e6f5d0"
                                                ],
                                                [
                                                    0.7,
                                                    "#b8e186"
                                                ],
                                                [
                                                    0.8,
                                                    "#7fbc41"
                                                ],
                                                [
                                                    0.9,
                                                    "#4d9221"
                                                ],
                                                [
                                                    1,
                                                    "#276419"
                                                ]
                                            ],
                                            "sequential": [
                                                [
                                                    0,
                                                    "#0d0887"
                                                ],
                                                [
                                                    0.1111111111111111,
                                                    "#46039f"
                                                ],
                                                [
                                                    0.2222222222222222,
                                                    "#7201a8"
                                                ],
                                                [
                                                    0.3333333333333333,
                                                    "#9c179e"
                                                ],
                                                [
                                                    0.4444444444444444,
                                                    "#bd3786"
                                                ],
                                                [
                                                    0.5555555555555556,
                                                    "#d8576b"
                                                ],
                                                [
                                                    0.6666666666666666,
                                                    "#ed7953"
                                                ],
                                                [
                                                    0.7777777777777778,
                                                    "#fb9f3a"
                                                ],
                                                [
                                                    0.8888888888888888,
                                                    "#fdca26"
                                                ],
                                                [
                                                    1,
                                                    "#f0f921"
                                                ]
                                            ],
                                            "sequentialminus": [
                                                [
                                                    0,
                                                    "#0d0887"
                                                ],
                                                [
                                                    0.1111111111111111,
                                                    "#46039f"
                                                ],
                                                [
                                                    0.2222222222222222,
                                                    "#7201a8"
                                                ],
                                                [
                                                    0.3333333333333333,
                                                    "#9c179e"
                                                ],
                                                [
                                                    0.4444444444444444,
                                                    "#bd3786"
                                                ],
                                                [
                                                    0.5555555555555556,
                                                    "#d8576b"
                                                ],
                                                [
                                                    0.6666666666666666,
                                                    "#ed7953"
                                                ],
                                                [
                                                    0.7777777777777778,
                                                    "#fb9f3a"
                                                ],
                                                [
                                                    0.8888888888888888,
                                                    "#fdca26"
                                                ],
                                                [
                                                    1,
                                                    "#f0f921"
                                                ]
                                            ]
                                        },
                                        "colorway": [
                                            "#636efa",
                                            "#EF553B",
                                            "#00cc96",
                                            "#ab63fa",
                                            "#FFA15A",
                                            "#19d3f3",
                                            "#FF6692",
                                            "#B6E880",
                                            "#FF97FF",
                                            "#FECB52"
                                        ],
                                        "font": {
                                            "color": "#2a3f5f"
                                        },
                                        "geo": {
                                            "bgcolor": "white",
                                            "lakecolor": "white",
                                            "landcolor": "#E5ECF6",
                                            "showlakes": true,
                                            "showland": true,
                                            "subunitcolor": "white"
                                        },
                                        "hoverlabel": {
                                            "align": "left"
                                        },
                                        "hovermode": "closest",
                                        "mapbox": {
                                            "style": "light"
                                        },
                                        "paper_bgcolor": "white",
                                        "plot_bgcolor": "#E5ECF6",
                                        "polar": {
                                            "angularaxis": {
                                                "gridcolor": "white",
                                                "linecolor": "white",
                                                "ticks": ""
                                            },
                                            "bgcolor": "#E5ECF6",
                                            "radialaxis": {
                                                "gridcolor": "white",
                                                "linecolor": "white",
                                                "ticks": ""
                                            }
                                        },
                                        "scene": {
                                            "xaxis": {
                                                "backgroundcolor": "#E5ECF6",
                                                "gridcolor": "white",
                                                "gridwidth": 2,
                                                "linecolor": "white",
                                                "showbackground": true,
                                                "ticks": "",
                                                "zerolinecolor": "white"
                                            },
                                            "yaxis": {
                                                "backgroundcolor": "#E5ECF6",
                                                "gridcolor": "white",
                                                "gridwidth": 2,
                                                "linecolor": "white",
                                                "showbackground": true,
                                                "ticks": "",
                                                "zerolinecolor": "white"
                                            },
                                            "zaxis": {
                                                "backgroundcolor": "#E5ECF6",
                                                "gridcolor": "white",
                                                "gridwidth": 2,
                                                "linecolor": "white",
                                                "showbackground": true,
                                                "ticks": "",
                                                "zerolinecolor": "white"
                                            }
                                        },
                                        "shapedefaults": {
                                            "line": {
                                                "color": "#2a3f5f"
                                            }
                                        },
                                        "ternary": {
                                            "aaxis": {
                                                "gridcolor": "white",
                                                "linecolor": "white",
                                                "ticks": ""
                                            },
                                            "baxis": {
                                                "gridcolor": "white",
                                                "linecolor": "white",
                                                "ticks": ""
                                            },
                                            "bgcolor": "#E5ECF6",
                                            "caxis": {
                                                "gridcolor": "white",
                                                "linecolor": "white",
                                                "ticks": ""
                                            }
                                        },
                                        "title": {
                                            "x": 0.05
                                        },
                                        "xaxis": {
                                            "automargin": true,
                                            "gridcolor": "white",
                                            "linecolor": "white",
                                            "ticks": "",
                                            "title": {
                                                "standoff": 15
                                            },
                                            "zerolinecolor": "white",
                                            "zerolinewidth": 2
                                        },
                                        "yaxis": {
                                            "automargin": true,
                                            "gridcolor": "white",
                                            "linecolor": "white",
                                            "ticks": "",
                                            "title": {
                                                "standoff": 15
                                            },
                                            "zerolinecolor": "white",
                                            "zerolinewidth": 2
                                        }
                                    }
                                },
                                "xaxis": {
                                    "anchor": "y",
                                    "domain": [
                                        0,
                                        1
                                    ],
                                    "title": {
                                        "text": "timestamp"
                                    }
                                },
                                "yaxis": {
                                    "anchor": "x",
                                    "domain": [
                                        0,
                                        1
                                    ],
                                    "title": {
                                        "text": "value"
                                    }
                                }
                            }
                        }
                    },
                    "metadata": {},
                    "output_type": "display_data"
                }
            ],
            "source": [
                "# Plot the number of emails received per day\n",
                "emails_df[\"timestamp\"].value_counts().sort_index().plot()"
            ]
        },
        {
            "cell_type": "code",
            "execution_count": 110,
            "metadata": {},
            "outputs": [
                {
                    "data": {
                        "application/vnd.plotly.v1+json": {
                            "config": {
                                "plotlyServerURL": "https://plot.ly"
                            },
                            "data": [
                                {
                                    "alignmentgroup": "True",
                                    "hovertemplate": "variable=count<br>action=%{x}<br>value=%{y}<extra></extra>",
                                    "legendgroup": "count",
                                    "marker": {
                                        "color": "#636efa",
                                        "pattern": {
                                            "shape": ""
                                        }
                                    },
                                    "name": "count",
                                    "offsetgroup": "count",
                                    "orientation": "v",
                                    "showlegend": true,
                                    "textposition": "auto",
                                    "type": "bar",
                                    "x": [
                                        "court_response",
                                        "rec_received",
                                        "court_returned_for_filing"
                                    ],
                                    "xaxis": "x",
                                    "y": [
                                        4410,
                                        352,
                                        320
                                    ],
                                    "yaxis": "y"
                                }
                            ],
                            "layout": {
                                "barmode": "relative",
                                "legend": {
                                    "title": {
                                        "text": "variable"
                                    },
                                    "tracegroupgap": 0
                                },
                                "margin": {
                                    "t": 60
                                },
                                "template": {
                                    "data": {
                                        "bar": [
                                            {
                                                "error_x": {
                                                    "color": "#2a3f5f"
                                                },
                                                "error_y": {
                                                    "color": "#2a3f5f"
                                                },
                                                "marker": {
                                                    "line": {
                                                        "color": "#E5ECF6",
                                                        "width": 0.5
                                                    },
                                                    "pattern": {
                                                        "fillmode": "overlay",
                                                        "size": 10,
                                                        "solidity": 0.2
                                                    }
                                                },
                                                "type": "bar"
                                            }
                                        ],
                                        "barpolar": [
                                            {
                                                "marker": {
                                                    "line": {
                                                        "color": "#E5ECF6",
                                                        "width": 0.5
                                                    },
                                                    "pattern": {
                                                        "fillmode": "overlay",
                                                        "size": 10,
                                                        "solidity": 0.2
                                                    }
                                                },
                                                "type": "barpolar"
                                            }
                                        ],
                                        "carpet": [
                                            {
                                                "aaxis": {
                                                    "endlinecolor": "#2a3f5f",
                                                    "gridcolor": "white",
                                                    "linecolor": "white",
                                                    "minorgridcolor": "white",
                                                    "startlinecolor": "#2a3f5f"
                                                },
                                                "baxis": {
                                                    "endlinecolor": "#2a3f5f",
                                                    "gridcolor": "white",
                                                    "linecolor": "white",
                                                    "minorgridcolor": "white",
                                                    "startlinecolor": "#2a3f5f"
                                                },
                                                "type": "carpet"
                                            }
                                        ],
                                        "choropleth": [
                                            {
                                                "colorbar": {
                                                    "outlinewidth": 0,
                                                    "ticks": ""
                                                },
                                                "type": "choropleth"
                                            }
                                        ],
                                        "contour": [
                                            {
                                                "colorbar": {
                                                    "outlinewidth": 0,
                                                    "ticks": ""
                                                },
                                                "colorscale": [
                                                    [
                                                        0,
                                                        "#0d0887"
                                                    ],
                                                    [
                                                        0.1111111111111111,
                                                        "#46039f"
                                                    ],
                                                    [
                                                        0.2222222222222222,
                                                        "#7201a8"
                                                    ],
                                                    [
                                                        0.3333333333333333,
                                                        "#9c179e"
                                                    ],
                                                    [
                                                        0.4444444444444444,
                                                        "#bd3786"
                                                    ],
                                                    [
                                                        0.5555555555555556,
                                                        "#d8576b"
                                                    ],
                                                    [
                                                        0.6666666666666666,
                                                        "#ed7953"
                                                    ],
                                                    [
                                                        0.7777777777777778,
                                                        "#fb9f3a"
                                                    ],
                                                    [
                                                        0.8888888888888888,
                                                        "#fdca26"
                                                    ],
                                                    [
                                                        1,
                                                        "#f0f921"
                                                    ]
                                                ],
                                                "type": "contour"
                                            }
                                        ],
                                        "contourcarpet": [
                                            {
                                                "colorbar": {
                                                    "outlinewidth": 0,
                                                    "ticks": ""
                                                },
                                                "type": "contourcarpet"
                                            }
                                        ],
                                        "heatmap": [
                                            {
                                                "colorbar": {
                                                    "outlinewidth": 0,
                                                    "ticks": ""
                                                },
                                                "colorscale": [
                                                    [
                                                        0,
                                                        "#0d0887"
                                                    ],
                                                    [
                                                        0.1111111111111111,
                                                        "#46039f"
                                                    ],
                                                    [
                                                        0.2222222222222222,
                                                        "#7201a8"
                                                    ],
                                                    [
                                                        0.3333333333333333,
                                                        "#9c179e"
                                                    ],
                                                    [
                                                        0.4444444444444444,
                                                        "#bd3786"
                                                    ],
                                                    [
                                                        0.5555555555555556,
                                                        "#d8576b"
                                                    ],
                                                    [
                                                        0.6666666666666666,
                                                        "#ed7953"
                                                    ],
                                                    [
                                                        0.7777777777777778,
                                                        "#fb9f3a"
                                                    ],
                                                    [
                                                        0.8888888888888888,
                                                        "#fdca26"
                                                    ],
                                                    [
                                                        1,
                                                        "#f0f921"
                                                    ]
                                                ],
                                                "type": "heatmap"
                                            }
                                        ],
                                        "heatmapgl": [
                                            {
                                                "colorbar": {
                                                    "outlinewidth": 0,
                                                    "ticks": ""
                                                },
                                                "colorscale": [
                                                    [
                                                        0,
                                                        "#0d0887"
                                                    ],
                                                    [
                                                        0.1111111111111111,
                                                        "#46039f"
                                                    ],
                                                    [
                                                        0.2222222222222222,
                                                        "#7201a8"
                                                    ],
                                                    [
                                                        0.3333333333333333,
                                                        "#9c179e"
                                                    ],
                                                    [
                                                        0.4444444444444444,
                                                        "#bd3786"
                                                    ],
                                                    [
                                                        0.5555555555555556,
                                                        "#d8576b"
                                                    ],
                                                    [
                                                        0.6666666666666666,
                                                        "#ed7953"
                                                    ],
                                                    [
                                                        0.7777777777777778,
                                                        "#fb9f3a"
                                                    ],
                                                    [
                                                        0.8888888888888888,
                                                        "#fdca26"
                                                    ],
                                                    [
                                                        1,
                                                        "#f0f921"
                                                    ]
                                                ],
                                                "type": "heatmapgl"
                                            }
                                        ],
                                        "histogram": [
                                            {
                                                "marker": {
                                                    "pattern": {
                                                        "fillmode": "overlay",
                                                        "size": 10,
                                                        "solidity": 0.2
                                                    }
                                                },
                                                "type": "histogram"
                                            }
                                        ],
                                        "histogram2d": [
                                            {
                                                "colorbar": {
                                                    "outlinewidth": 0,
                                                    "ticks": ""
                                                },
                                                "colorscale": [
                                                    [
                                                        0,
                                                        "#0d0887"
                                                    ],
                                                    [
                                                        0.1111111111111111,
                                                        "#46039f"
                                                    ],
                                                    [
                                                        0.2222222222222222,
                                                        "#7201a8"
                                                    ],
                                                    [
                                                        0.3333333333333333,
                                                        "#9c179e"
                                                    ],
                                                    [
                                                        0.4444444444444444,
                                                        "#bd3786"
                                                    ],
                                                    [
                                                        0.5555555555555556,
                                                        "#d8576b"
                                                    ],
                                                    [
                                                        0.6666666666666666,
                                                        "#ed7953"
                                                    ],
                                                    [
                                                        0.7777777777777778,
                                                        "#fb9f3a"
                                                    ],
                                                    [
                                                        0.8888888888888888,
                                                        "#fdca26"
                                                    ],
                                                    [
                                                        1,
                                                        "#f0f921"
                                                    ]
                                                ],
                                                "type": "histogram2d"
                                            }
                                        ],
                                        "histogram2dcontour": [
                                            {
                                                "colorbar": {
                                                    "outlinewidth": 0,
                                                    "ticks": ""
                                                },
                                                "colorscale": [
                                                    [
                                                        0,
                                                        "#0d0887"
                                                    ],
                                                    [
                                                        0.1111111111111111,
                                                        "#46039f"
                                                    ],
                                                    [
                                                        0.2222222222222222,
                                                        "#7201a8"
                                                    ],
                                                    [
                                                        0.3333333333333333,
                                                        "#9c179e"
                                                    ],
                                                    [
                                                        0.4444444444444444,
                                                        "#bd3786"
                                                    ],
                                                    [
                                                        0.5555555555555556,
                                                        "#d8576b"
                                                    ],
                                                    [
                                                        0.6666666666666666,
                                                        "#ed7953"
                                                    ],
                                                    [
                                                        0.7777777777777778,
                                                        "#fb9f3a"
                                                    ],
                                                    [
                                                        0.8888888888888888,
                                                        "#fdca26"
                                                    ],
                                                    [
                                                        1,
                                                        "#f0f921"
                                                    ]
                                                ],
                                                "type": "histogram2dcontour"
                                            }
                                        ],
                                        "mesh3d": [
                                            {
                                                "colorbar": {
                                                    "outlinewidth": 0,
                                                    "ticks": ""
                                                },
                                                "type": "mesh3d"
                                            }
                                        ],
                                        "parcoords": [
                                            {
                                                "line": {
                                                    "colorbar": {
                                                        "outlinewidth": 0,
                                                        "ticks": ""
                                                    }
                                                },
                                                "type": "parcoords"
                                            }
                                        ],
                                        "pie": [
                                            {
                                                "automargin": true,
                                                "type": "pie"
                                            }
                                        ],
                                        "scatter": [
                                            {
                                                "fillpattern": {
                                                    "fillmode": "overlay",
                                                    "size": 10,
                                                    "solidity": 0.2
                                                },
                                                "type": "scatter"
                                            }
                                        ],
                                        "scatter3d": [
                                            {
                                                "line": {
                                                    "colorbar": {
                                                        "outlinewidth": 0,
                                                        "ticks": ""
                                                    }
                                                },
                                                "marker": {
                                                    "colorbar": {
                                                        "outlinewidth": 0,
                                                        "ticks": ""
                                                    }
                                                },
                                                "type": "scatter3d"
                                            }
                                        ],
                                        "scattercarpet": [
                                            {
                                                "marker": {
                                                    "colorbar": {
                                                        "outlinewidth": 0,
                                                        "ticks": ""
                                                    }
                                                },
                                                "type": "scattercarpet"
                                            }
                                        ],
                                        "scattergeo": [
                                            {
                                                "marker": {
                                                    "colorbar": {
                                                        "outlinewidth": 0,
                                                        "ticks": ""
                                                    }
                                                },
                                                "type": "scattergeo"
                                            }
                                        ],
                                        "scattergl": [
                                            {
                                                "marker": {
                                                    "colorbar": {
                                                        "outlinewidth": 0,
                                                        "ticks": ""
                                                    }
                                                },
                                                "type": "scattergl"
                                            }
                                        ],
                                        "scattermapbox": [
                                            {
                                                "marker": {
                                                    "colorbar": {
                                                        "outlinewidth": 0,
                                                        "ticks": ""
                                                    }
                                                },
                                                "type": "scattermapbox"
                                            }
                                        ],
                                        "scatterpolar": [
                                            {
                                                "marker": {
                                                    "colorbar": {
                                                        "outlinewidth": 0,
                                                        "ticks": ""
                                                    }
                                                },
                                                "type": "scatterpolar"
                                            }
                                        ],
                                        "scatterpolargl": [
                                            {
                                                "marker": {
                                                    "colorbar": {
                                                        "outlinewidth": 0,
                                                        "ticks": ""
                                                    }
                                                },
                                                "type": "scatterpolargl"
                                            }
                                        ],
                                        "scatterternary": [
                                            {
                                                "marker": {
                                                    "colorbar": {
                                                        "outlinewidth": 0,
                                                        "ticks": ""
                                                    }
                                                },
                                                "type": "scatterternary"
                                            }
                                        ],
                                        "surface": [
                                            {
                                                "colorbar": {
                                                    "outlinewidth": 0,
                                                    "ticks": ""
                                                },
                                                "colorscale": [
                                                    [
                                                        0,
                                                        "#0d0887"
                                                    ],
                                                    [
                                                        0.1111111111111111,
                                                        "#46039f"
                                                    ],
                                                    [
                                                        0.2222222222222222,
                                                        "#7201a8"
                                                    ],
                                                    [
                                                        0.3333333333333333,
                                                        "#9c179e"
                                                    ],
                                                    [
                                                        0.4444444444444444,
                                                        "#bd3786"
                                                    ],
                                                    [
                                                        0.5555555555555556,
                                                        "#d8576b"
                                                    ],
                                                    [
                                                        0.6666666666666666,
                                                        "#ed7953"
                                                    ],
                                                    [
                                                        0.7777777777777778,
                                                        "#fb9f3a"
                                                    ],
                                                    [
                                                        0.8888888888888888,
                                                        "#fdca26"
                                                    ],
                                                    [
                                                        1,
                                                        "#f0f921"
                                                    ]
                                                ],
                                                "type": "surface"
                                            }
                                        ],
                                        "table": [
                                            {
                                                "cells": {
                                                    "fill": {
                                                        "color": "#EBF0F8"
                                                    },
                                                    "line": {
                                                        "color": "white"
                                                    }
                                                },
                                                "header": {
                                                    "fill": {
                                                        "color": "#C8D4E3"
                                                    },
                                                    "line": {
                                                        "color": "white"
                                                    }
                                                },
                                                "type": "table"
                                            }
                                        ]
                                    },
                                    "layout": {
                                        "annotationdefaults": {
                                            "arrowcolor": "#2a3f5f",
                                            "arrowhead": 0,
                                            "arrowwidth": 1
                                        },
                                        "autotypenumbers": "strict",
                                        "coloraxis": {
                                            "colorbar": {
                                                "outlinewidth": 0,
                                                "ticks": ""
                                            }
                                        },
                                        "colorscale": {
                                            "diverging": [
                                                [
                                                    0,
                                                    "#8e0152"
                                                ],
                                                [
                                                    0.1,
                                                    "#c51b7d"
                                                ],
                                                [
                                                    0.2,
                                                    "#de77ae"
                                                ],
                                                [
                                                    0.3,
                                                    "#f1b6da"
                                                ],
                                                [
                                                    0.4,
                                                    "#fde0ef"
                                                ],
                                                [
                                                    0.5,
                                                    "#f7f7f7"
                                                ],
                                                [
                                                    0.6,
                                                    "#e6f5d0"
                                                ],
                                                [
                                                    0.7,
                                                    "#b8e186"
                                                ],
                                                [
                                                    0.8,
                                                    "#7fbc41"
                                                ],
                                                [
                                                    0.9,
                                                    "#4d9221"
                                                ],
                                                [
                                                    1,
                                                    "#276419"
                                                ]
                                            ],
                                            "sequential": [
                                                [
                                                    0,
                                                    "#0d0887"
                                                ],
                                                [
                                                    0.1111111111111111,
                                                    "#46039f"
                                                ],
                                                [
                                                    0.2222222222222222,
                                                    "#7201a8"
                                                ],
                                                [
                                                    0.3333333333333333,
                                                    "#9c179e"
                                                ],
                                                [
                                                    0.4444444444444444,
                                                    "#bd3786"
                                                ],
                                                [
                                                    0.5555555555555556,
                                                    "#d8576b"
                                                ],
                                                [
                                                    0.6666666666666666,
                                                    "#ed7953"
                                                ],
                                                [
                                                    0.7777777777777778,
                                                    "#fb9f3a"
                                                ],
                                                [
                                                    0.8888888888888888,
                                                    "#fdca26"
                                                ],
                                                [
                                                    1,
                                                    "#f0f921"
                                                ]
                                            ],
                                            "sequentialminus": [
                                                [
                                                    0,
                                                    "#0d0887"
                                                ],
                                                [
                                                    0.1111111111111111,
                                                    "#46039f"
                                                ],
                                                [
                                                    0.2222222222222222,
                                                    "#7201a8"
                                                ],
                                                [
                                                    0.3333333333333333,
                                                    "#9c179e"
                                                ],
                                                [
                                                    0.4444444444444444,
                                                    "#bd3786"
                                                ],
                                                [
                                                    0.5555555555555556,
                                                    "#d8576b"
                                                ],
                                                [
                                                    0.6666666666666666,
                                                    "#ed7953"
                                                ],
                                                [
                                                    0.7777777777777778,
                                                    "#fb9f3a"
                                                ],
                                                [
                                                    0.8888888888888888,
                                                    "#fdca26"
                                                ],
                                                [
                                                    1,
                                                    "#f0f921"
                                                ]
                                            ]
                                        },
                                        "colorway": [
                                            "#636efa",
                                            "#EF553B",
                                            "#00cc96",
                                            "#ab63fa",
                                            "#FFA15A",
                                            "#19d3f3",
                                            "#FF6692",
                                            "#B6E880",
                                            "#FF97FF",
                                            "#FECB52"
                                        ],
                                        "font": {
                                            "color": "#2a3f5f"
                                        },
                                        "geo": {
                                            "bgcolor": "white",
                                            "lakecolor": "white",
                                            "landcolor": "#E5ECF6",
                                            "showlakes": true,
                                            "showland": true,
                                            "subunitcolor": "white"
                                        },
                                        "hoverlabel": {
                                            "align": "left"
                                        },
                                        "hovermode": "closest",
                                        "mapbox": {
                                            "style": "light"
                                        },
                                        "paper_bgcolor": "white",
                                        "plot_bgcolor": "#E5ECF6",
                                        "polar": {
                                            "angularaxis": {
                                                "gridcolor": "white",
                                                "linecolor": "white",
                                                "ticks": ""
                                            },
                                            "bgcolor": "#E5ECF6",
                                            "radialaxis": {
                                                "gridcolor": "white",
                                                "linecolor": "white",
                                                "ticks": ""
                                            }
                                        },
                                        "scene": {
                                            "xaxis": {
                                                "backgroundcolor": "#E5ECF6",
                                                "gridcolor": "white",
                                                "gridwidth": 2,
                                                "linecolor": "white",
                                                "showbackground": true,
                                                "ticks": "",
                                                "zerolinecolor": "white"
                                            },
                                            "yaxis": {
                                                "backgroundcolor": "#E5ECF6",
                                                "gridcolor": "white",
                                                "gridwidth": 2,
                                                "linecolor": "white",
                                                "showbackground": true,
                                                "ticks": "",
                                                "zerolinecolor": "white"
                                            },
                                            "zaxis": {
                                                "backgroundcolor": "#E5ECF6",
                                                "gridcolor": "white",
                                                "gridwidth": 2,
                                                "linecolor": "white",
                                                "showbackground": true,
                                                "ticks": "",
                                                "zerolinecolor": "white"
                                            }
                                        },
                                        "shapedefaults": {
                                            "line": {
                                                "color": "#2a3f5f"
                                            }
                                        },
                                        "ternary": {
                                            "aaxis": {
                                                "gridcolor": "white",
                                                "linecolor": "white",
                                                "ticks": ""
                                            },
                                            "baxis": {
                                                "gridcolor": "white",
                                                "linecolor": "white",
                                                "ticks": ""
                                            },
                                            "bgcolor": "#E5ECF6",
                                            "caxis": {
                                                "gridcolor": "white",
                                                "linecolor": "white",
                                                "ticks": ""
                                            }
                                        },
                                        "title": {
                                            "x": 0.05
                                        },
                                        "xaxis": {
                                            "automargin": true,
                                            "gridcolor": "white",
                                            "linecolor": "white",
                                            "ticks": "",
                                            "title": {
                                                "standoff": 15
                                            },
                                            "zerolinecolor": "white",
                                            "zerolinewidth": 2
                                        },
                                        "yaxis": {
                                            "automargin": true,
                                            "gridcolor": "white",
                                            "linecolor": "white",
                                            "ticks": "",
                                            "title": {
                                                "standoff": 15
                                            },
                                            "zerolinecolor": "white",
                                            "zerolinewidth": 2
                                        }
                                    }
                                },
                                "xaxis": {
                                    "anchor": "y",
                                    "domain": [
                                        0,
                                        1
                                    ],
                                    "title": {
                                        "text": "action"
                                    }
                                },
                                "yaxis": {
                                    "anchor": "x",
                                    "domain": [
                                        0,
                                        1
                                    ],
                                    "title": {
                                        "text": "value"
                                    }
                                }
                            }
                        }
                    },
                    "metadata": {},
                    "output_type": "display_data"
                }
            ],
            "source": [
                "# Number of emails with actions \n",
                "emails_df[\"action\"].value_counts().plot(kind=\"bar\")"
            ]
        },
        {
            "cell_type": "code",
            "execution_count": 111,
            "metadata": {},
            "outputs": [],
            "source": [
                "# Focus on 2024 \n",
                "emails_df = emails_df[emails_df[\"timestamp\"].dt.year == 2024]"
            ]
        },
        {
            "cell_type": "code",
            "execution_count": 112,
            "metadata": {},
            "outputs": [],
            "source": [
                "# Sort the emails by timestamp\n",
                "emails_df = emails_df.sort_values(by=\"timestamp\", ascending=False)"
            ]
        },
        {
            "cell_type": "code",
            "execution_count": 119,
            "metadata": {},
            "outputs": [
                {
                    "data": {
                        "text/plain": [
                            "case_number\n",
                            "72934           81\n",
                            "23JE-CR03544    39\n",
                            "24SA-CR00019    37\n",
                            "704283738       32\n",
                            "23CW-CR00594    31\n",
                            "                ..\n",
                            "220210358        1\n",
                            "210466458        1\n",
                            "210258815        1\n",
                            "210258812        1\n",
                            "035361           1\n",
                            "Name: timestamp, Length: 958, dtype: int64"
                        ]
                    },
                    "execution_count": 119,
                    "metadata": {},
                    "output_type": "execute_result"
                }
            ],
            "source": [
                "# Count cases with many emails \n",
                "emails_df.groupby(\"case_number\").timestamp.count().sort_values(ascending=False)"
            ]
        },
        {
            "cell_type": "code",
            "execution_count": 123,
            "metadata": {},
            "outputs": [],
            "source": [
                "# Group the emails by case number and keep the last email\n",
                "cases_focus = emails_df.groupby(\"case_number\").first().reset_index()"
            ]
        },
        {
            "cell_type": "code",
            "execution_count": 124,
            "metadata": {},
            "outputs": [
                {
                    "data": {
                        "text/html": [
                            "<div>\n",
                            "<style scoped>\n",
                            "    .dataframe tbody tr th:only-of-type {\n",
                            "        vertical-align: middle;\n",
                            "    }\n",
                            "\n",
                            "    .dataframe tbody tr th {\n",
                            "        vertical-align: top;\n",
                            "    }\n",
                            "\n",
                            "    .dataframe thead th {\n",
                            "        text-align: right;\n",
                            "    }\n",
                            "</style>\n",
                            "<table border=\"1\" class=\"dataframe\">\n",
                            "  <thead>\n",
                            "    <tr style=\"text-align: right;\">\n",
                            "      <th></th>\n",
                            "      <th>case_number</th>\n",
                            "      <th>subject</th>\n",
                            "      <th>sender</th>\n",
                            "      <th>timestamp</th>\n",
                            "      <th>action</th>\n",
                            "    </tr>\n",
                            "  </thead>\n",
                            "  <tbody>\n",
                            "    <tr>\n",
                            "      <th>11</th>\n",
                            "      <td>23JE-CR03544</td>\n",
                            "      <td>eNotice - 23JE-CR03544 - ST V MICHAEL WAYNE GR...</td>\n",
                            "      <td>Missouri Courts eFiling System</td>\n",
                            "      <td>2024-04-09</td>\n",
                            "      <td>court_response</td>\n",
                            "    </tr>\n",
                            "    <tr>\n",
                            "      <th>451</th>\n",
                            "      <td>23JE-CR03544</td>\n",
                            "      <td>eNotice - 23JE-CR03544 - ST V MICHAEL WAYNE GR...</td>\n",
                            "      <td>Missouri Courts eFiling System</td>\n",
                            "      <td>2024-04-03</td>\n",
                            "      <td>court_response</td>\n",
                            "    </tr>\n",
                            "    <tr>\n",
                            "      <th>455</th>\n",
                            "      <td>23JE-CR03544</td>\n",
                            "      <td>RE: Motion to Recall Warrant - 23JE-CR03544 - ...</td>\n",
                            "      <td>Kara Riffe</td>\n",
                            "      <td>2024-04-03</td>\n",
                            "      <td>NaN</td>\n",
                            "    </tr>\n",
                            "    <tr>\n",
                            "      <th>522</th>\n",
                            "      <td>23JE-CR03544</td>\n",
                            "      <td>eNotice - 23JE-CR03544 - ST V MICHAEL WAYNE GR...</td>\n",
                            "      <td>Missouri Courts eFiling System</td>\n",
                            "      <td>2024-04-03</td>\n",
                            "      <td>court_response</td>\n",
                            "    </tr>\n",
                            "    <tr>\n",
                            "      <th>493</th>\n",
                            "      <td>23JE-CR03544</td>\n",
                            "      <td>Returned for Filing - 23JE-CR03544 - ST V MICH...</td>\n",
                            "      <td>Missouri Courts eFiling System</td>\n",
                            "      <td>2024-04-03</td>\n",
                            "      <td>court_returned_for_filing</td>\n",
                            "    </tr>\n",
                            "    <tr>\n",
                            "      <th>497</th>\n",
                            "      <td>23JE-CR03544</td>\n",
                            "      <td>Receipt of Submission - 23JE-CR03544 - ST V MI...</td>\n",
                            "      <td>Missouri Courts eFiling System</td>\n",
                            "      <td>2024-04-03</td>\n",
                            "      <td>NaN</td>\n",
                            "    </tr>\n",
                            "    <tr>\n",
                            "      <th>498</th>\n",
                            "      <td>23JE-CR03544</td>\n",
                            "      <td>Motion to Recall Warrant - 23JE-CR03544 - ST V...</td>\n",
                            "      <td>Shawn-Anthony Meyer</td>\n",
                            "      <td>2024-04-03</td>\n",
                            "      <td>NaN</td>\n",
                            "    </tr>\n",
                            "    <tr>\n",
                            "      <th>492</th>\n",
                            "      <td>23JE-CR03544</td>\n",
                            "      <td>Returned for Filing - 23JE-CR03544 - ST V MICH...</td>\n",
                            "      <td>Missouri Courts eFiling System</td>\n",
                            "      <td>2024-04-03</td>\n",
                            "      <td>court_returned_for_filing</td>\n",
                            "    </tr>\n",
                            "    <tr>\n",
                            "      <th>501</th>\n",
                            "      <td>23JE-CR03544</td>\n",
                            "      <td>Accepted for Filing - 23JE-CR03544 - ST V MICH...</td>\n",
                            "      <td>Missouri Courts eFiling System</td>\n",
                            "      <td>2024-04-03</td>\n",
                            "      <td>NaN</td>\n",
                            "    </tr>\n",
                            "    <tr>\n",
                            "      <th>502</th>\n",
                            "      <td>23JE-CR03544</td>\n",
                            "      <td>Receipt of Submission - 23JE-CR03544 - ST V MI...</td>\n",
                            "      <td>Missouri Courts eFiling System</td>\n",
                            "      <td>2024-04-03</td>\n",
                            "      <td>NaN</td>\n",
                            "    </tr>\n",
                            "    <tr>\n",
                            "      <th>971</th>\n",
                            "      <td>23JE-CR03544</td>\n",
                            "      <td>eNotice - 23JE-CR03544 - ST V MICHAEL WAYNE GR...</td>\n",
                            "      <td>Missouri Courts eFiling System</td>\n",
                            "      <td>2024-04-02</td>\n",
                            "      <td>court_response</td>\n",
                            "    </tr>\n",
                            "    <tr>\n",
                            "      <th>755</th>\n",
                            "      <td>23JE-CR03544</td>\n",
                            "      <td>eNotice - 23JE-CR03544 - ST V MICHAEL WAYNE GR...</td>\n",
                            "      <td>Missouri Courts eFiling System</td>\n",
                            "      <td>2024-04-02</td>\n",
                            "      <td>court_response</td>\n",
                            "    </tr>\n",
                            "    <tr>\n",
                            "      <th>1140</th>\n",
                            "      <td>23JE-CR03544</td>\n",
                            "      <td>Accepted for Filing - 23JE-CR03544 - ST V MICH...</td>\n",
                            "      <td>Missouri Courts eFiling System</td>\n",
                            "      <td>2024-04-01</td>\n",
                            "      <td>NaN</td>\n",
                            "    </tr>\n",
                            "    <tr>\n",
                            "      <th>1141</th>\n",
                            "      <td>23JE-CR03544</td>\n",
                            "      <td>Accepted for Filing - 23JE-CR03544 - ST V MICH...</td>\n",
                            "      <td>Missouri Courts eFiling System</td>\n",
                            "      <td>2024-04-01</td>\n",
                            "      <td>NaN</td>\n",
                            "    </tr>\n",
                            "    <tr>\n",
                            "      <th>1079</th>\n",
                            "      <td>23JE-CR03544</td>\n",
                            "      <td>eNotice - 23JE-CR03544 - ST V MICHAEL WAYNE GR...</td>\n",
                            "      <td>Missouri Courts eFiling System</td>\n",
                            "      <td>2024-04-01</td>\n",
                            "      <td>court_response</td>\n",
                            "    </tr>\n",
                            "    <tr>\n",
                            "      <th>1280</th>\n",
                            "      <td>23JE-CR03544</td>\n",
                            "      <td>Receipt of Submission - 23JE-CR03544 - ST V MI...</td>\n",
                            "      <td>Missouri Courts eFiling System</td>\n",
                            "      <td>2024-03-31</td>\n",
                            "      <td>NaN</td>\n",
                            "    </tr>\n",
                            "    <tr>\n",
                            "      <th>1279</th>\n",
                            "      <td>23JE-CR03544</td>\n",
                            "      <td>Receipt of Submission - 23JE-CR03544 - ST V MI...</td>\n",
                            "      <td>Missouri Courts eFiling System</td>\n",
                            "      <td>2024-03-31</td>\n",
                            "      <td>NaN</td>\n",
                            "    </tr>\n",
                            "    <tr>\n",
                            "      <th>5094</th>\n",
                            "      <td>23JE-CR03544</td>\n",
                            "      <td>eNotice - 23JE-CR03544 - ST V MICHAEL WAYNE GR...</td>\n",
                            "      <td>Missouri Courts eFiling System</td>\n",
                            "      <td>2024-03-05</td>\n",
                            "      <td>court_response</td>\n",
                            "    </tr>\n",
                            "    <tr>\n",
                            "      <th>5252</th>\n",
                            "      <td>23JE-CR03544</td>\n",
                            "      <td>Accepted for Filing - 23JE-CR03544 - ST V MICH...</td>\n",
                            "      <td>Missouri Courts eFiling System</td>\n",
                            "      <td>2024-03-04</td>\n",
                            "      <td>NaN</td>\n",
                            "    </tr>\n",
                            "    <tr>\n",
                            "      <th>5253</th>\n",
                            "      <td>23JE-CR03544</td>\n",
                            "      <td>Accepted for Filing - 23JE-CR03544 - ST V MICH...</td>\n",
                            "      <td>Missouri Courts eFiling System</td>\n",
                            "      <td>2024-03-04</td>\n",
                            "      <td>NaN</td>\n",
                            "    </tr>\n",
                            "    <tr>\n",
                            "      <th>5172</th>\n",
                            "      <td>23JE-CR03544</td>\n",
                            "      <td>eNotice - 23JE-CR03544 - ST V MICHAEL WAYNE GR...</td>\n",
                            "      <td>Missouri Courts eFiling System</td>\n",
                            "      <td>2024-03-04</td>\n",
                            "      <td>court_response</td>\n",
                            "    </tr>\n",
                            "    <tr>\n",
                            "      <th>5289</th>\n",
                            "      <td>23JE-CR03544</td>\n",
                            "      <td>Receipt of Submission - 23JE-CR03544 - ST V MI...</td>\n",
                            "      <td>Missouri Courts eFiling System</td>\n",
                            "      <td>2024-03-03</td>\n",
                            "      <td>NaN</td>\n",
                            "    </tr>\n",
                            "    <tr>\n",
                            "      <th>5288</th>\n",
                            "      <td>23JE-CR03544</td>\n",
                            "      <td>Receipt of Submission - 23JE-CR03544 - ST V MI...</td>\n",
                            "      <td>Missouri Courts eFiling System</td>\n",
                            "      <td>2024-03-03</td>\n",
                            "      <td>NaN</td>\n",
                            "    </tr>\n",
                            "    <tr>\n",
                            "      <th>7530</th>\n",
                            "      <td>23JE-CR03544</td>\n",
                            "      <td>eNotice - 23JE-CR03544 - ST V MICHAEL WAYNE GR...</td>\n",
                            "      <td>Missouri Courts eFiling System</td>\n",
                            "      <td>2024-02-02</td>\n",
                            "      <td>court_response</td>\n",
                            "    </tr>\n",
                            "    <tr>\n",
                            "      <th>7586</th>\n",
                            "      <td>23JE-CR03544</td>\n",
                            "      <td>eService - 23JE-CR03544 - ST V MICHAEL WAYNE G...</td>\n",
                            "      <td>Missouri Courts eFiling System</td>\n",
                            "      <td>2024-02-01</td>\n",
                            "      <td>NaN</td>\n",
                            "    </tr>\n",
                            "    <tr>\n",
                            "      <th>7587</th>\n",
                            "      <td>23JE-CR03544</td>\n",
                            "      <td>Discovery Information Available For Case 23JE-...</td>\n",
                            "      <td>No Reply</td>\n",
                            "      <td>2024-02-01</td>\n",
                            "      <td>NaN</td>\n",
                            "    </tr>\n",
                            "    <tr>\n",
                            "      <th>7607</th>\n",
                            "      <td>23JE-CR03544</td>\n",
                            "      <td>eNotice - 23JE-CR03544 - ST V MICHAEL WAYNE GR...</td>\n",
                            "      <td>Missouri Courts eFiling System</td>\n",
                            "      <td>2024-02-01</td>\n",
                            "      <td>court_response</td>\n",
                            "    </tr>\n",
                            "    <tr>\n",
                            "      <th>7800</th>\n",
                            "      <td>23JE-CR03544</td>\n",
                            "      <td>Accepted for Filing - 23JE-CR03544 - ST V MICH...</td>\n",
                            "      <td>Missouri Courts eFiling System</td>\n",
                            "      <td>2024-01-31</td>\n",
                            "      <td>NaN</td>\n",
                            "    </tr>\n",
                            "    <tr>\n",
                            "      <th>7805</th>\n",
                            "      <td>23JE-CR03544</td>\n",
                            "      <td>Receipt of Submission - 23JE-CR03544 - ST V MI...</td>\n",
                            "      <td>Missouri Courts eFiling System</td>\n",
                            "      <td>2024-01-31</td>\n",
                            "      <td>NaN</td>\n",
                            "    </tr>\n",
                            "    <tr>\n",
                            "      <th>7806</th>\n",
                            "      <td>23JE-CR03544</td>\n",
                            "      <td>Accepted for Filing - 23JE-CR03544 - ST V MICH...</td>\n",
                            "      <td>Missouri Courts eFiling System</td>\n",
                            "      <td>2024-01-31</td>\n",
                            "      <td>NaN</td>\n",
                            "    </tr>\n",
                            "    <tr>\n",
                            "      <th>7807</th>\n",
                            "      <td>23JE-CR03544</td>\n",
                            "      <td>Accepted for Filing - 23JE-CR03544 - ST V MICH...</td>\n",
                            "      <td>Missouri Courts eFiling System</td>\n",
                            "      <td>2024-01-31</td>\n",
                            "      <td>NaN</td>\n",
                            "    </tr>\n",
                            "    <tr>\n",
                            "      <th>7810</th>\n",
                            "      <td>23JE-CR03544</td>\n",
                            "      <td>Re: 23JE-CR03544 - ST V MICHAEL WAYNE GRIFFITH...</td>\n",
                            "      <td>Shawn-Anthony Meyer</td>\n",
                            "      <td>2024-01-31</td>\n",
                            "      <td>NaN</td>\n",
                            "    </tr>\n",
                            "    <tr>\n",
                            "      <th>7812</th>\n",
                            "      <td>23JE-CR03544</td>\n",
                            "      <td>RE: 23JE-CR03544 - ST V MICHAEL WAYNE GRIFFITH...</td>\n",
                            "      <td>Kara Riffe</td>\n",
                            "      <td>2024-01-31</td>\n",
                            "      <td>NaN</td>\n",
                            "    </tr>\n",
                            "    <tr>\n",
                            "      <th>7817</th>\n",
                            "      <td>23JE-CR03544</td>\n",
                            "      <td>Receipt of Submission - 23JE-CR03544 - ST V MI...</td>\n",
                            "      <td>Missouri Courts eFiling System</td>\n",
                            "      <td>2024-01-31</td>\n",
                            "      <td>NaN</td>\n",
                            "    </tr>\n",
                            "    <tr>\n",
                            "      <th>7818</th>\n",
                            "      <td>23JE-CR03544</td>\n",
                            "      <td>23JE-CR03544 - ST V MICHAEL WAYNE GRIFFITH, Je...</td>\n",
                            "      <td>Shawn-Anthony Meyer</td>\n",
                            "      <td>2024-01-31</td>\n",
                            "      <td>NaN</td>\n",
                            "    </tr>\n",
                            "    <tr>\n",
                            "      <th>7819</th>\n",
                            "      <td>23JE-CR03544</td>\n",
                            "      <td>Receipt of Submission - 23JE-CR03544 - ST V MI...</td>\n",
                            "      <td>Missouri Courts eFiling System</td>\n",
                            "      <td>2024-01-31</td>\n",
                            "      <td>NaN</td>\n",
                            "    </tr>\n",
                            "    <tr>\n",
                            "      <th>7831</th>\n",
                            "      <td>23JE-CR03544</td>\n",
                            "      <td>Accepted for Filing - 23JE-CR03544 - ST V MICH...</td>\n",
                            "      <td>Missouri Courts eFiling System</td>\n",
                            "      <td>2024-01-31</td>\n",
                            "      <td>NaN</td>\n",
                            "    </tr>\n",
                            "    <tr>\n",
                            "      <th>7834</th>\n",
                            "      <td>23JE-CR03544</td>\n",
                            "      <td>Receipt of Submission - 23JE-CR03544 - ST V MI...</td>\n",
                            "      <td>Missouri Courts eFiling System</td>\n",
                            "      <td>2024-01-31</td>\n",
                            "      <td>NaN</td>\n",
                            "    </tr>\n",
                            "    <tr>\n",
                            "      <th>7697</th>\n",
                            "      <td>23JE-CR03544</td>\n",
                            "      <td>eNotice - 23JE-CR03544 - ST V MICHAEL WAYNE GR...</td>\n",
                            "      <td>Missouri Courts eFiling System</td>\n",
                            "      <td>2024-01-31</td>\n",
                            "      <td>court_response</td>\n",
                            "    </tr>\n",
                            "  </tbody>\n",
                            "</table>\n",
                            "</div>"
                        ],
                        "text/plain": [
                            "       case_number                                            subject  \\\n",
                            "11    23JE-CR03544  eNotice - 23JE-CR03544 - ST V MICHAEL WAYNE GR...   \n",
                            "451   23JE-CR03544  eNotice - 23JE-CR03544 - ST V MICHAEL WAYNE GR...   \n",
                            "455   23JE-CR03544  RE: Motion to Recall Warrant - 23JE-CR03544 - ...   \n",
                            "522   23JE-CR03544  eNotice - 23JE-CR03544 - ST V MICHAEL WAYNE GR...   \n",
                            "493   23JE-CR03544  Returned for Filing - 23JE-CR03544 - ST V MICH...   \n",
                            "497   23JE-CR03544  Receipt of Submission - 23JE-CR03544 - ST V MI...   \n",
                            "498   23JE-CR03544  Motion to Recall Warrant - 23JE-CR03544 - ST V...   \n",
                            "492   23JE-CR03544  Returned for Filing - 23JE-CR03544 - ST V MICH...   \n",
                            "501   23JE-CR03544  Accepted for Filing - 23JE-CR03544 - ST V MICH...   \n",
                            "502   23JE-CR03544  Receipt of Submission - 23JE-CR03544 - ST V MI...   \n",
                            "971   23JE-CR03544  eNotice - 23JE-CR03544 - ST V MICHAEL WAYNE GR...   \n",
                            "755   23JE-CR03544  eNotice - 23JE-CR03544 - ST V MICHAEL WAYNE GR...   \n",
                            "1140  23JE-CR03544  Accepted for Filing - 23JE-CR03544 - ST V MICH...   \n",
                            "1141  23JE-CR03544  Accepted for Filing - 23JE-CR03544 - ST V MICH...   \n",
                            "1079  23JE-CR03544  eNotice - 23JE-CR03544 - ST V MICHAEL WAYNE GR...   \n",
                            "1280  23JE-CR03544  Receipt of Submission - 23JE-CR03544 - ST V MI...   \n",
                            "1279  23JE-CR03544  Receipt of Submission - 23JE-CR03544 - ST V MI...   \n",
                            "5094  23JE-CR03544  eNotice - 23JE-CR03544 - ST V MICHAEL WAYNE GR...   \n",
                            "5252  23JE-CR03544  Accepted for Filing - 23JE-CR03544 - ST V MICH...   \n",
                            "5253  23JE-CR03544  Accepted for Filing - 23JE-CR03544 - ST V MICH...   \n",
                            "5172  23JE-CR03544  eNotice - 23JE-CR03544 - ST V MICHAEL WAYNE GR...   \n",
                            "5289  23JE-CR03544  Receipt of Submission - 23JE-CR03544 - ST V MI...   \n",
                            "5288  23JE-CR03544  Receipt of Submission - 23JE-CR03544 - ST V MI...   \n",
                            "7530  23JE-CR03544  eNotice - 23JE-CR03544 - ST V MICHAEL WAYNE GR...   \n",
                            "7586  23JE-CR03544  eService - 23JE-CR03544 - ST V MICHAEL WAYNE G...   \n",
                            "7587  23JE-CR03544  Discovery Information Available For Case 23JE-...   \n",
                            "7607  23JE-CR03544  eNotice - 23JE-CR03544 - ST V MICHAEL WAYNE GR...   \n",
                            "7800  23JE-CR03544  Accepted for Filing - 23JE-CR03544 - ST V MICH...   \n",
                            "7805  23JE-CR03544  Receipt of Submission - 23JE-CR03544 - ST V MI...   \n",
                            "7806  23JE-CR03544  Accepted for Filing - 23JE-CR03544 - ST V MICH...   \n",
                            "7807  23JE-CR03544  Accepted for Filing - 23JE-CR03544 - ST V MICH...   \n",
                            "7810  23JE-CR03544  Re: 23JE-CR03544 - ST V MICHAEL WAYNE GRIFFITH...   \n",
                            "7812  23JE-CR03544  RE: 23JE-CR03544 - ST V MICHAEL WAYNE GRIFFITH...   \n",
                            "7817  23JE-CR03544  Receipt of Submission - 23JE-CR03544 - ST V MI...   \n",
                            "7818  23JE-CR03544  23JE-CR03544 - ST V MICHAEL WAYNE GRIFFITH, Je...   \n",
                            "7819  23JE-CR03544  Receipt of Submission - 23JE-CR03544 - ST V MI...   \n",
                            "7831  23JE-CR03544  Accepted for Filing - 23JE-CR03544 - ST V MICH...   \n",
                            "7834  23JE-CR03544  Receipt of Submission - 23JE-CR03544 - ST V MI...   \n",
                            "7697  23JE-CR03544  eNotice - 23JE-CR03544 - ST V MICHAEL WAYNE GR...   \n",
                            "\n",
                            "                              sender  timestamp                     action  \n",
                            "11    Missouri Courts eFiling System 2024-04-09             court_response  \n",
                            "451   Missouri Courts eFiling System 2024-04-03             court_response  \n",
                            "455                       Kara Riffe 2024-04-03                        NaN  \n",
                            "522   Missouri Courts eFiling System 2024-04-03             court_response  \n",
                            "493   Missouri Courts eFiling System 2024-04-03  court_returned_for_filing  \n",
                            "497   Missouri Courts eFiling System 2024-04-03                        NaN  \n",
                            "498              Shawn-Anthony Meyer 2024-04-03                        NaN  \n",
                            "492   Missouri Courts eFiling System 2024-04-03  court_returned_for_filing  \n",
                            "501   Missouri Courts eFiling System 2024-04-03                        NaN  \n",
                            "502   Missouri Courts eFiling System 2024-04-03                        NaN  \n",
                            "971   Missouri Courts eFiling System 2024-04-02             court_response  \n",
                            "755   Missouri Courts eFiling System 2024-04-02             court_response  \n",
                            "1140  Missouri Courts eFiling System 2024-04-01                        NaN  \n",
                            "1141  Missouri Courts eFiling System 2024-04-01                        NaN  \n",
                            "1079  Missouri Courts eFiling System 2024-04-01             court_response  \n",
                            "1280  Missouri Courts eFiling System 2024-03-31                        NaN  \n",
                            "1279  Missouri Courts eFiling System 2024-03-31                        NaN  \n",
                            "5094  Missouri Courts eFiling System 2024-03-05             court_response  \n",
                            "5252  Missouri Courts eFiling System 2024-03-04                        NaN  \n",
                            "5253  Missouri Courts eFiling System 2024-03-04                        NaN  \n",
                            "5172  Missouri Courts eFiling System 2024-03-04             court_response  \n",
                            "5289  Missouri Courts eFiling System 2024-03-03                        NaN  \n",
                            "5288  Missouri Courts eFiling System 2024-03-03                        NaN  \n",
                            "7530  Missouri Courts eFiling System 2024-02-02             court_response  \n",
                            "7586  Missouri Courts eFiling System 2024-02-01                        NaN  \n",
                            "7587                        No Reply 2024-02-01                        NaN  \n",
                            "7607  Missouri Courts eFiling System 2024-02-01             court_response  \n",
                            "7800  Missouri Courts eFiling System 2024-01-31                        NaN  \n",
                            "7805  Missouri Courts eFiling System 2024-01-31                        NaN  \n",
                            "7806  Missouri Courts eFiling System 2024-01-31                        NaN  \n",
                            "7807  Missouri Courts eFiling System 2024-01-31                        NaN  \n",
                            "7810             Shawn-Anthony Meyer 2024-01-31                        NaN  \n",
                            "7812                      Kara Riffe 2024-01-31                        NaN  \n",
                            "7817  Missouri Courts eFiling System 2024-01-31                        NaN  \n",
                            "7818             Shawn-Anthony Meyer 2024-01-31                        NaN  \n",
                            "7819  Missouri Courts eFiling System 2024-01-31                        NaN  \n",
                            "7831  Missouri Courts eFiling System 2024-01-31                        NaN  \n",
                            "7834  Missouri Courts eFiling System 2024-01-31                        NaN  \n",
                            "7697  Missouri Courts eFiling System 2024-01-31             court_response  "
                        ]
                    },
                    "execution_count": 124,
                    "metadata": {},
                    "output_type": "execute_result"
                }
            ],
            "source": [
                "# Focus on 23JE-CR03544\n",
                "emails_df[emails_df[\"case_number\"] == \"23JE-CR03544\"]\n"
            ]
        },
        {
            "cell_type": "code",
            "execution_count": 125,
            "metadata": {},
            "outputs": [
                {
                    "data": {
                        "text/html": [
                            "<div>\n",
                            "<style scoped>\n",
                            "    .dataframe tbody tr th:only-of-type {\n",
                            "        vertical-align: middle;\n",
                            "    }\n",
                            "\n",
                            "    .dataframe tbody tr th {\n",
                            "        vertical-align: top;\n",
                            "    }\n",
                            "\n",
                            "    .dataframe thead th {\n",
                            "        text-align: right;\n",
                            "    }\n",
                            "</style>\n",
                            "<table border=\"1\" class=\"dataframe\">\n",
                            "  <thead>\n",
                            "    <tr style=\"text-align: right;\">\n",
                            "      <th></th>\n",
                            "      <th>case_number</th>\n",
                            "      <th>subject</th>\n",
                            "      <th>sender</th>\n",
                            "      <th>timestamp</th>\n",
                            "      <th>action</th>\n",
                            "    </tr>\n",
                            "  </thead>\n",
                            "  <tbody>\n",
                            "    <tr>\n",
                            "      <th>614</th>\n",
                            "      <td>23JE-CR03544</td>\n",
                            "      <td>eNotice - 23JE-CR03544 - ST V MICHAEL WAYNE GR...</td>\n",
                            "      <td>Missouri Courts eFiling System</td>\n",
                            "      <td>2024-04-09</td>\n",
                            "      <td>court_response</td>\n",
                            "    </tr>\n",
                            "  </tbody>\n",
                            "</table>\n",
                            "</div>"
                        ],
                        "text/plain": [
                            "      case_number                                            subject  \\\n",
                            "614  23JE-CR03544  eNotice - 23JE-CR03544 - ST V MICHAEL WAYNE GR...   \n",
                            "\n",
                            "                             sender  timestamp          action  \n",
                            "614  Missouri Courts eFiling System 2024-04-09  court_response  "
                        ]
                    },
                    "execution_count": 125,
                    "metadata": {},
                    "output_type": "execute_result"
                }
            ],
            "source": [
                "cases_focus[cases_focus[\"case_number\"] == \"23JE-CR03544\"]"
            ]
        },
        {
            "cell_type": "code",
            "execution_count": 99,
            "metadata": {},
            "outputs": [],
            "source": [
                "emails_df.to_csv(\"emails.csv\", index=False)"
            ]
        },
        {
            "cell_type": "code",
            "execution_count": 126,
            "metadata": {},
            "outputs": [],
            "source": [
                "cases_focus.to_csv(\"cases.csv\", index=False)"
            ]
        },
        {
            "cell_type": "code",
            "execution_count": 131,
            "metadata": {},
            "outputs": [
                {
                    "name": "stdout",
                    "output_type": "stream",
                    "text": [
                        "Case 035361 not found in the DB\n",
                        "case_number                    035361\n",
                        "subject          Your single-use code\n",
                        "sender         Microsoft account team\n",
                        "timestamp         2024-03-29 00:00:00\n",
                        "action                           None\n",
                        "Name: 0, dtype: object\n",
                        "Case 068836 not found in the DB\n",
                        "case_number                              068836\n",
                        "subject        Microsoft account password reset\n",
                        "sender                   Microsoft account team\n",
                        "timestamp                   2024-03-04 00:00:00\n",
                        "action                                     None\n",
                        "Name: 1, dtype: object\n",
                        "Case 10016939490803 not found in the DB\n",
                        "case_number                                   10016939490803\n",
                        "subject        Your monthly account statement is here, Shawn\n",
                        "sender                                              Experian\n",
                        "timestamp                                2024-04-08 00:00:00\n",
                        "action                                                  None\n",
                        "Name: 2, dtype: object\n",
                        "Case 117766 not found in the DB\n",
                        "case_number                                               117766\n",
                        "subject        Personal TVR CDB 117766 Payment Processed on 0...\n",
                        "sender                                          no-reply@ark.org\n",
                        "timestamp                                    2024-03-31 00:00:00\n",
                        "action                                                      None\n",
                        "Name: 3, dtype: object\n",
                        "Case 12066866071 not found in the DB\n",
                        "case_number                                     12066866071\n",
                        "subject        Dropbox Fax - Incoming fax from +12066866071\n",
                        "sender                                          Dropbox Fax\n",
                        "timestamp                               2024-02-06 00:00:00\n",
                        "action                                                 None\n",
                        "Name: 4, dtype: object\n",
                        "Case 12400 not found in the DB\n",
                        "case_number                        12400\n",
                        "subject               Order Confirmation\n",
                        "sender         OP MUNICIPAL COURT ONLINE\n",
                        "timestamp            2024-01-03 00:00:00\n",
                        "action                              None\n",
                        "Name: 5, dtype: object\n",
                        "Case 13128967900 not found in the DB\n",
                        "case_number                                     13128967900\n",
                        "subject        Dropbox Fax - Incoming fax from +13128967900\n",
                        "sender                                          Dropbox Fax\n",
                        "timestamp                               2024-02-27 00:00:00\n",
                        "action                                                 None\n",
                        "Name: 6, dtype: object\n",
                        "Case 13143646300 not found in the DB\n",
                        "case_number                                     13143646300\n",
                        "subject        Dropbox Fax - Incoming fax from +13143646300\n",
                        "sender                                          Dropbox Fax\n",
                        "timestamp                               2024-01-11 00:00:00\n",
                        "action                                                 None\n",
                        "Name: 7, dtype: object\n",
                        "Case 13147382288 not found in the DB\n",
                        "case_number                                          13147382288\n",
                        "subject        Dropbox Fax: +13147382288 - Fax Sent Successfully\n",
                        "sender                                               Dropbox Fax\n",
                        "timestamp                                    2024-01-31 00:00:00\n",
                        "action                                                      None\n",
                        "Name: 8, dtype: object\n",
                        "Case 14024717817 not found in the DB\n",
                        "case_number                                          14024717817\n",
                        "subject        Dropbox Fax: +14024717817 - Fax Sent Successfully\n",
                        "sender                                               Dropbox Fax\n",
                        "timestamp                                    2024-04-08 00:00:00\n",
                        "action                                                      None\n",
                        "Name: 9, dtype: object\n",
                        "Updating case 140942929 from eoa to court_response\n"
                    ]
                },
                {
                    "ename": "NameError",
                    "evalue": "name 'patch_case' is not defined",
                    "output_type": "error",
                    "traceback": [
                        "\u001b[0;31m---------------------------------------------------------------------------\u001b[0m",
                        "\u001b[0;31mNameError\u001b[0m                                 Traceback (most recent call last)",
                        "Cell \u001b[0;32mIn[131], line 13\u001b[0m\n\u001b[1;32m     11\u001b[0m \u001b[38;5;28;01mif\u001b[39;00m case\u001b[38;5;241m.\u001b[39mstatus \u001b[38;5;241m!=\u001b[39m case_status \u001b[38;5;129;01mand\u001b[39;00m case\u001b[38;5;241m.\u001b[39mstatus \u001b[38;5;241m!=\u001b[39m \u001b[38;5;124m\"\u001b[39m\u001b[38;5;124mclosed\u001b[39m\u001b[38;5;124m\"\u001b[39m:\n\u001b[1;32m     12\u001b[0m     \u001b[38;5;28mprint\u001b[39m(\u001b[38;5;124mf\u001b[39m\u001b[38;5;124m\"\u001b[39m\u001b[38;5;124mUpdating case \u001b[39m\u001b[38;5;132;01m{\u001b[39;00mcase_number\u001b[38;5;132;01m}\u001b[39;00m\u001b[38;5;124m from \u001b[39m\u001b[38;5;132;01m{\u001b[39;00mcase\u001b[38;5;241m.\u001b[39mstatus\u001b[38;5;132;01m}\u001b[39;00m\u001b[38;5;124m to \u001b[39m\u001b[38;5;132;01m{\u001b[39;00mcase_status\u001b[38;5;132;01m}\u001b[39;00m\u001b[38;5;124m\"\u001b[39m)\n\u001b[0;32m---> 13\u001b[0m     \u001b[43mpatch_case\u001b[49m(case_number, {\u001b[38;5;124m\"\u001b[39m\u001b[38;5;124mstatus\u001b[39m\u001b[38;5;124m\"\u001b[39m: case_status})\n",
                        "\u001b[0;31mNameError\u001b[0m: name 'patch_case' is not defined"
                    ]
                }
            ],
            "source": [
                "# Iterate through case_focus and get the case status\n",
                "for index, row in cases_focus.iterrows():\n",
                "    case_number = row[\"case_number\"]\n",
                "    case = get_single_case(case_number)\n",
                "    if case is None:\n",
                "        print(f\"Case {case_number} not found in the DB\")\n",
                "        print(row)\n",
                "    else:\n",
                "        # Update the case status\n",
                "        case_status = row[\"action\"]\n",
                "        if case.status != case_status and case.status != \"closed\":\n",
                "            print(f\"Updating case {case_number} from {case.status} to {case_status}\")\n",
                "            patch_case(case_number, {\"status\": case_status})"
            ]
        },
        {
            "cell_type": "code",
            "execution_count": 130,
            "metadata": {},
            "outputs": [],
            "source": [
                "case.case_status"
            ]
        },
        {
            "cell_type": "code",
            "execution_count": 61,
            "metadata": {},
            "outputs": [],
            "source": [
                "emails_by_sender = emails_df.groupby(\"sender\").id.count().sort_values(ascending=False)"
            ]
        },
        {
            "cell_type": "code",
            "execution_count": 63,
            "metadata": {},
            "outputs": [],
            "source": [
                "emails_by_sender.to_csv(\"emails_by_sender.csv\")"
            ]
        },
        {
            "cell_type": "code",
            "execution_count": 22,
            "metadata": {},
            "outputs": [],
            "source": [
                "import json\n",
                "import os\n",
                "\n",
                "from langchain.callbacks import get_openai_callback\n",
                "from langchain.chat_models import AzureChatOpenAI\n",
                "from langchain.output_parsers import StructuredOutputParser, ResponseSchema\n",
                "from langchain.prompts import PromptTemplate"
            ]
        },
        {
            "cell_type": "code",
            "execution_count": 112,
            "metadata": {},
            "outputs": [],
            "source": [
                "def get_email_info_structured(text: str) -> str:\n",
                "    \"\"\"\n",
                "    This function would return the result in JSON structure only.\n",
                "    We don't have to write a custom parse to convert string to JSON LangChain already provides with the a parser\n",
                "    \"\"\"\n",
                "    response_schemas = [\n",
                "        ResponseSchema(name=\"Summary\", description=\"Summary of the email\"),\n",
                "        ResponseSchema(\n",
                "            name=\"CaseNumber\",\n",
                "            description=\"Case Number extracted from the email\",\n",
                "        ),\n",
                "        # Sentiment Analysis\n",
                "        ResponseSchema(\n",
                "            name=\"Sentiment\",\n",
                "            description=\"Sentiment of the email\",\n",
                "        ),\n",
                "        # Next Steps \n",
                "        ResponseSchema(\n",
                "            name=\"NextCaseStatus\",\n",
                "            description=\"Next Case Status\",\n",
                "        ),\n",
                "        # Next Step Owner \n",
                "        ResponseSchema(\n",
                "            name=\"NextStepOwner\",\n",
                "            description=\"Next Step Owner\",\n",
                "        )\n",
                "    ]\n",
                "    output_parser = StructuredOutputParser.from_response_schemas(\n",
                "        response_schemas\n",
                "    )\n",
                "\n",
                "    format_instructions = output_parser.get_format_instructions()\n",
                "    prompt = PromptTemplate(\n",
                "        template=f\"\"\"Get the summary of the email and extract the case number from the email and provide the sentiment of the email and the next case status and the next step owner. The current process is as follows: {case_statuses}\"\"\",\n",
                "        input_variables=[\"text\"],\n",
                "        partial_variables={\"format_instructions\": format_instructions},\n",
                "    )\n",
                "\n",
                "    chain = prompt | llm | output_parser\n",
                "    with get_openai_callback() as cb:\n",
                "        response = chain.invoke({\"filed\": text})\n",
                "        print(f\"Total Cost (USD): ${format(cb.total_cost, '.4f')}\")\n",
                "\n",
                "    return response"
            ]
        },
        {
            "cell_type": "code",
            "execution_count": 113,
            "metadata": {},
            "outputs": [],
            "source": [
                "final_body, text_body = gmail_connector.get_email_html_body(email)"
            ]
        },
        {
            "cell_type": "code",
            "execution_count": 116,
            "metadata": {},
            "outputs": [],
            "source": [
                "text_body\n",
                "\n",
                "prompt = f\"\"\"Get the summary of the email and extract the case number from the email and provide the sentiment of the email and the next case status and the next step owner. #### The email :{text_body} #### The current process is as follows: {case_statuses}\"\"\""
            ]
        },
        {
            "cell_type": "code",
            "execution_count": 108,
            "metadata": {},
            "outputs": [],
            "source": [
                "final_body, text_body = gmail_connector.get_email_html_body(email)"
            ]
        },
        {
            "cell_type": "code",
            "execution_count": 109,
            "metadata": {},
            "outputs": [
                {
                    "data": {
                        "text/plain": [
                            "\"      \\r I can amend to Defective Equipment, $200 total. I'll send you a copy of the amended ticket for filing with payment. Joe Cambiano   From: meyerattorneyservices@gmail.com <meyerattorneyservices@gmail.com> Sent: Tuesday, April 2, 2024 12:45 PM To: Joe Cambiano <joe@kcinjurylaw.com> Subject: Request for Recommendation - BRYCEN DON THORNTON - 190873126   Hello, \\r I hope this email finds you well! \\r I am reaching out on behalf of my client, BRYCEN DON THORNTON, who has sought my representation in a criminal matter presently overseen by your office. The details pertaining to the case are as follows: \\r Case #: 190873126\\r Charge: Fail To Stop At Stop Sign At Stop Line/Before Crosswalk/Point Nearest Intersection \\r I am reaching out to request your recommendation regarding this matter. I have attached a copy of the citation(s) for your reference. Should you require any further information or documentation to facilitate your recommendation, please do not hesitate to let\\r  me know.  \\r Thank you for your attention to this matter. I look forward to hearing from you soon. \\r Best regards, \\r Shawn A. Meyer\\r Attorney at Law #72934\\r Ph: 816.518.8838\\r Fx: 816.873.5315\\r 322 Southwest Boulevard STE #100\\r Kansas City, Missouri 64108    \""
                        ]
                    },
                    "execution_count": 109,
                    "metadata": {},
                    "output_type": "execute_result"
                }
            ],
            "source": [
                "text_body"
            ]
        },
        {
            "cell_type": "code",
            "execution_count": 117,
            "metadata": {},
            "outputs": [],
            "source": [
                "########################\n",
                "from langchain.prompts.chat import (\n",
                "    ChatPromptTemplate,\n",
                "    SystemMessagePromptTemplate,\n",
                "    HumanMessagePromptTemplate,\n",
                ")"
            ]
        },
        {
            "cell_type": "code",
            "execution_count": 121,
            "metadata": {},
            "outputs": [
                {
                    "name": "stdout",
                    "output_type": "stream",
                    "text": [
                        "Summary of the email:\n",
                        "\n",
                        "The prosecutor, Joe Cambiano, responded to an attorney's request for a recommendation on behalf of their client, Brycen Don Thornton. The case number is 190873126, and the charge is \"Fail To Stop At Stop Sign At Stop Line/Before Crosswalk/Point Nearest Intersection.\" The prosecutor suggested amending the charge to Defective Equipment with a total fine of $200. They will send a copy of the amended ticket for filing along with the payment.\n",
                        "\n",
                        "Case Number: 190873126\n",
                        "\n",
                        "Sentiment of the email: The email appears to be a response providing a plea offer, so the sentiment is likely neutral or slightly positive.\n",
                        "\n",
                        "Next Case Status: The next case status is not mentioned in the email.\n",
                        "\n",
                        "Next Step Owner: The next step owner is not mentioned in the email.\n"
                    ]
                }
            ],
            "source": [
                "system_message = f\"You are an an attorney that work on traffic tickets. We received a response from the prosecutor on a case. I received from the prosecutor {gmail_connector.render_email_sender(gmail_connector.get_sender(email))} regarding a traffic ticket\"\n",
                "\n",
                "system_message_prompt = SystemMessagePromptTemplate.from_template(\n",
                "    system_message\n",
                ")\n",
                "human_template = \"{text}\"\n",
                "human_message_prompt = HumanMessagePromptTemplate.from_template(human_template)\n",
                "chat_prompt = ChatPromptTemplate.from_messages(\n",
                "    [system_message_prompt, human_message_prompt]\n",
                ")\n",
                "\n",
                "chain = LLMChain(llm=llm, prompt=chat_prompt)\n",
                "result = chain.run(prompt)\n",
                "print(result)"
            ]
        },
        {
            "cell_type": "code",
            "execution_count": null,
            "metadata": {},
            "outputs": [],
            "source": []
        }
    ],
    "metadata": {
        "kernelspec": {
            "display_name": "venv",
            "language": "python",
            "name": "python3"
        },
        "language_info": {
            "codemirror_mode": {
                "name": "ipython",
                "version": 3
            },
            "file_extension": ".py",
            "mimetype": "text/x-python",
            "name": "python",
            "nbconvert_exporter": "python",
            "pygments_lexer": "ipython3",
            "version": "3.11.8"
        },
        "orig_nbformat": 4,
        "vscode": {
            "interpreter": {
                "hash": "1a9e5d6b0d4dbd8ed8ceb32b514c24b9c78cc6278424fcdbe963f0dd4f12f22e"
            }
        }
    },
    "nbformat": 4,
    "nbformat_minor": 2
}
