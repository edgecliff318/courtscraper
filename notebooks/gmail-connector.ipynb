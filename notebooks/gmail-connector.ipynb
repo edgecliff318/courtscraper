{
 "cells": [
  {
   "cell_type": "code",
   "execution_count": null,
   "metadata": {},
   "outputs": [],
   "source": [
    "import sys\n",
    "import os"
   ]
  },
  {
   "cell_type": "code",
   "execution_count": null,
   "metadata": {},
   "outputs": [],
   "source": [
    "sys.path.append(\"..\")\n",
    "os.environ[\"ROOT_PATH\"] = \"/Users/yassine-elazrak/Fubloo.com/app\"\n",
    "os.environ[\"GOOGLE_APPLICATION_CREDENTIALS\"] = \"/Users/yassine-elazrak/Fubloo.com/app/configuration/fubloo-app-1f213ca274de.json\"\n"
   ]
  },
  {
   "cell_type": "code",
   "execution_count": null,
   "metadata": {},
   "outputs": [],
   "source": [
    "from src.services.emails import GmailConnector\n"
   ]
  },
  {
   "cell_type": "code",
   "execution_count": null,
   "metadata": {},
   "outputs": [],
   "source": [
    "user_id = \"ayoub@tickettakedown.com\""
   ]
  },
  {
   "cell_type": "code",
   "execution_count": null,
   "metadata": {},
   "outputs": [],
   "source": [
    "gmail_connector = GmailConnector(user_id=user_id)\n",
    "\n"
   ]
  },
  {
   "cell_type": "code",
   "execution_count": null,
   "metadata": {},
   "outputs": [],
   "source": [
    "emails = gmail_connector.get_inbox_emails()"
   ]
  },
  {
   "cell_type": "code",
   "execution_count": null,
   "metadata": {},
   "outputs": [],
   "source": [
    "len(emails)"
   ]
  },
  {
   "cell_type": "code",
   "execution_count": null,
   "metadata": {},
   "outputs": [],
   "source": [
    "email = emails[14]"
   ]
  },
  {
   "cell_type": "code",
   "execution_count": null,
   "metadata": {},
   "outputs": [],
   "source": [
    "gmail_connector.get_timestamp(email).strftime(\"%Y-%m-%d\")"
   ]
  },
  {
   "cell_type": "code",
   "execution_count": null,
   "metadata": {},
   "outputs": [],
   "source": [
    " # Subject\n",
    "gmail_connector.get_snippet(email)\n"
   ]
  },
  {
   "cell_type": "code",
   "execution_count": null,
   "metadata": {},
   "outputs": [],
   "source": [
    "gmail_connector.get_email_subject(email)   # Subject"
   ]
  },
  {
   "cell_type": "code",
   "execution_count": null,
   "metadata": {},
   "outputs": [],
   "source": [
    "      # Sender\n",
    "gmail_connector.render_email_sender(gmail_connector.get_sender(email))"
   ]
  },
  {
   "cell_type": "code",
   "execution_count": null,
   "metadata": {},
   "outputs": [],
   "source": [
    "import re\n",
    "\n",
    "def extract_number_from_string(s):\n",
    "    match = re.search(r'\\b\\d+\\b', s)\n",
    "    if match:\n",
    "        return match.group(0)\n",
    "    return None"
   ]
  },
  {
   "cell_type": "code",
   "execution_count": null,
   "metadata": {},
   "outputs": [],
   "source": [
    "import re\n",
    "\n",
    "# The text strings to search\n",
    "texts = [\n",
    "'Receipt of Submission - 704258650 - ST V GARRETT JACOB GARING, Randolph County - Circuit Court - Huntsville',\n",
    "    'eNotice - 210900213 - KANSAS CITY V JACKSON FLYNN CONROE, Kansas City Municipal Court'\n",
    "]\n",
    "\n",
    "# Regular expression to extract numbers\n",
    "pattern = r'\\b\\d+\\b'\n",
    "\n",
    "# Extracting numbers\n",
    "extracted_numbers = [extract_number_from_string(text) for text in texts]\n",
    "extracted_numbers"
   ]
  },
  {
   "cell_type": "code",
   "execution_count": null,
   "metadata": {},
   "outputs": [],
   "source": [
    "email_template = f\"\"\"\n",
    "Date : {gmail_connector.get_timestamp(email).strftime(\"%Y-%m-%d\")} \\n\n",
    "\n",
    "Subject: {gmail_connector.get_email_subject(email)} \\n\n",
    "\n",
    "Body: {gmail_connector.get_snippet(email)} \\n\n",
    "\n",
    "Sender: {gmail_connector.render_email_sender(gmail_connector.get_sender(email))} \\n\n",
    "\n",
    "\"\"\"\n",
    "email_template"
   ]
  },
  {
   "cell_type": "code",
   "execution_count": null,
   "metadata": {},
   "outputs": [],
   "source": [
    "gmail_connector.get_snippet(email)"
   ]
  },
  {
   "cell_type": "code",
   "execution_count": null,
   "metadata": {},
   "outputs": [],
   "source": [
    "extract_number_from_string(gmail_connector.get_email_subject(email))"
   ]
  },
  {
   "cell_type": "code",
   "execution_count": null,
   "metadata": {},
   "outputs": [],
   "source": []
  },
  {
   "cell_type": "code",
   "execution_count": null,
   "metadata": {},
   "outputs": [],
   "source": [
    "from src.services.cases import get_cases, get_single_case\n"
   ]
  },
  {
   "cell_type": "code",
   "execution_count": null,
   "metadata": {},
   "outputs": [],
   "source": [
    "get_single_case(\"210900213\")"
   ]
  }
 ],
 "metadata": {
  "kernelspec": {
   "display_name": "venv",
   "language": "python",
   "name": "python3"
  },
  "language_info": {
   "codemirror_mode": {
    "name": "ipython",
    "version": 3
   },
   "file_extension": ".py",
   "mimetype": "text/x-python",
   "name": "python",
   "nbconvert_exporter": "python",
   "pygments_lexer": "ipython3",
   "version": "3.10.13"
  },
  "orig_nbformat": 4,
  "vscode": {
   "interpreter": {
    "hash": "1a9e5d6b0d4dbd8ed8ceb32b514c24b9c78cc6278424fcdbe963f0dd4f12f22e"
   }
  }
 },
 "nbformat": 4,
 "nbformat_minor": 2
}
