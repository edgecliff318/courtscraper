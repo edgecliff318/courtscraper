{
 "cells": [
  {
   "cell_type": "code",
   "execution_count": 1,
   "metadata": {},
   "outputs": [],
   "source": [
    "import sys\n",
    "import os\n",
    "from langchain.prompts import PromptTemplate\n",
    "from langchain_core.messages import HumanMessage\n",
    "from langchain_openai import AzureChatOpenAI\n",
    "from langchain.chains import LLMChain\n",
    "\n",
    "from langchain_core.output_parsers import JsonOutputParser"
   ]
  },
  {
   "cell_type": "code",
   "execution_count": 2,
   "metadata": {},
   "outputs": [],
   "source": [
    "OPENAI_API_VERSION = \"2024-02-15-preview\"\n",
    "AZURE_OPENAI_KEY = \"d7878ff58933461a8fd46e35e018c714\"\n",
    "AZURE_OPENAI_ENDPOINT = \"https://fublo.openai.azure.com/\"\n",
    "AZURE_OPENAI_CHATGPT_DEPLOYMENT = \"gpt-35-turbo-16k\"\n",
    "\n",
    "os.environ[\"AZURE_OPENAI_API_KEY\"] = AZURE_OPENAI_KEY\n",
    "os.environ[\"AZURE_OPENAI_ENDPOINT\"] = AZURE_OPENAI_ENDPOINT\n",
    "os.environ[\"OPENAI_API_VERSION\"] = OPENAI_API_VERSION\n",
    "os.environ[\"AZURE_OPENAI_CHATGPT_DEPLOYMENT\"] = AZURE_OPENAI_CHATGPT_DEPLOYMENT"
   ]
  },
  {
   "cell_type": "code",
   "execution_count": 3,
   "metadata": {},
   "outputs": [],
   "source": [
    "llm = AzureChatOpenAI(\n",
    "    azure_deployment=AZURE_OPENAI_CHATGPT_DEPLOYMENT,\n",
    ")"
   ]
  },
  {
   "cell_type": "code",
   "execution_count": 4,
   "metadata": {},
   "outputs": [],
   "source": [
    "sys.path.append(\"..\")\n",
    "os.environ[\"ROOT_PATH\"] = \"/Users/aennassiri/Projects/Personal/ticket-washer\"\n",
    "os.environ[\"GOOGLE_APPLICATION_CREDENTIALS\"] = (\n",
    "    \"/Users/aennassiri/Projects/Personal/ticket-washer/configuration/fubloo-app-1f213ca274de.json\"\n",
    ")"
   ]
  },
  {
   "cell_type": "code",
   "execution_count": 5,
   "metadata": {},
   "outputs": [],
   "source": [
    "from src.services.emails import GmailConnector\n"
   ]
  },
  {
   "cell_type": "code",
   "execution_count": 6,
   "metadata": {},
   "outputs": [],
   "source": [
    "user_id = \"ayoub@tickettakedown.com\""
   ]
  },
  {
   "cell_type": "code",
   "execution_count": 7,
   "metadata": {},
   "outputs": [],
   "source": [
    "gmail_connector = GmailConnector(user_id=user_id)\n"
   ]
  },
  {
   "cell_type": "code",
   "execution_count": 8,
   "metadata": {},
   "outputs": [
    {
     "name": "stdout",
     "output_type": "stream",
     "text": [
      "<HttpError 429 when requesting https://gmail.googleapis.com/gmail/v1/users/me/messages/18ea567a59f303c2?alt=json returned \"Resource has been exhausted (e.g. check quota).\". Details: \"[{'message': 'Resource has been exhausted (e.g. check quota).', 'domain': 'global', 'reason': 'rateLimitExceeded'}]\">\n",
      "<HttpError 429 when requesting https://gmail.googleapis.com/gmail/v1/users/me/messages/18ea55dfd0ac8a3f?alt=json returned \"Resource has been exhausted (e.g. check quota).\". Details: \"[{'message': 'Resource has been exhausted (e.g. check quota).', 'domain': 'global', 'reason': 'rateLimitExceeded'}]\">\n",
      "<HttpError 429 when requesting https://gmail.googleapis.com/gmail/v1/users/me/messages/18ea5415681f5c33?alt=json returned \"Resource has been exhausted (e.g. check quota).\". Details: \"[{'message': 'Resource has been exhausted (e.g. check quota).', 'domain': 'global', 'reason': 'rateLimitExceeded'}]\">\n",
      "<HttpError 429 when requesting https://gmail.googleapis.com/gmail/v1/users/me/messages/18ea53e7ba3c7662?alt=json returned \"Resource has been exhausted (e.g. check quota).\". Details: \"[{'message': 'Resource has been exhausted (e.g. check quota).', 'domain': 'global', 'reason': 'rateLimitExceeded'}]\">\n",
      "<HttpError 429 when requesting https://gmail.googleapis.com/gmail/v1/users/me/messages/18ea52781da77ac2?alt=json returned \"Resource has been exhausted (e.g. check quota).\". Details: \"[{'message': 'Resource has been exhausted (e.g. check quota).', 'domain': 'global', 'reason': 'rateLimitExceeded'}]\">\n",
      "<HttpError 429 when requesting https://gmail.googleapis.com/gmail/v1/users/me/messages/18ea5276dd1d103d?alt=json returned \"Resource has been exhausted (e.g. check quota).\". Details: \"[{'message': 'Resource has been exhausted (e.g. check quota).', 'domain': 'global', 'reason': 'rateLimitExceeded'}]\">\n",
      "<HttpError 429 when requesting https://gmail.googleapis.com/gmail/v1/users/me/messages/18ea51eb353b14bd?alt=json returned \"Resource has been exhausted (e.g. check quota).\". Details: \"[{'message': 'Resource has been exhausted (e.g. check quota).', 'domain': 'global', 'reason': 'rateLimitExceeded'}]\">\n",
      "<HttpError 429 when requesting https://gmail.googleapis.com/gmail/v1/users/me/messages/18ea5139f1b8e74e?alt=json returned \"Resource has been exhausted (e.g. check quota).\". Details: \"[{'message': 'Resource has been exhausted (e.g. check quota).', 'domain': 'global', 'reason': 'rateLimitExceeded'}]\">\n",
      "<HttpError 429 when requesting https://gmail.googleapis.com/gmail/v1/users/me/messages/18ea5137c40138ba?alt=json returned \"Resource has been exhausted (e.g. check quota).\". Details: \"[{'message': 'Resource has been exhausted (e.g. check quota).', 'domain': 'global', 'reason': 'rateLimitExceeded'}]\">\n",
      "<HttpError 429 when requesting https://gmail.googleapis.com/gmail/v1/users/me/messages/18ea4e1784cac4d2?alt=json returned \"Resource has been exhausted (e.g. check quota).\". Details: \"[{'message': 'Resource has been exhausted (e.g. check quota).', 'domain': 'global', 'reason': 'rateLimitExceeded'}]\">\n",
      "<HttpError 429 when requesting https://gmail.googleapis.com/gmail/v1/users/me/messages/18ea4dcd90acc310?alt=json returned \"Resource has been exhausted (e.g. check quota).\". Details: \"[{'message': 'Resource has been exhausted (e.g. check quota).', 'domain': 'global', 'reason': 'rateLimitExceeded'}]\">\n",
      "<HttpError 429 when requesting https://gmail.googleapis.com/gmail/v1/users/me/messages/18ea4dae7b6d2366?alt=json returned \"Resource has been exhausted (e.g. check quota).\". Details: \"[{'message': 'Resource has been exhausted (e.g. check quota).', 'domain': 'global', 'reason': 'rateLimitExceeded'}]\">\n",
      "<HttpError 429 when requesting https://gmail.googleapis.com/gmail/v1/users/me/messages/18ea4d32405591ec?alt=json returned \"Resource has been exhausted (e.g. check quota).\". Details: \"[{'message': 'Resource has been exhausted (e.g. check quota).', 'domain': 'global', 'reason': 'rateLimitExceeded'}]\">\n",
      "<HttpError 429 when requesting https://gmail.googleapis.com/gmail/v1/users/me/messages/18ea4d26b2cf4a7e?alt=json returned \"Resource has been exhausted (e.g. check quota).\". Details: \"[{'message': 'Resource has been exhausted (e.g. check quota).', 'domain': 'global', 'reason': 'rateLimitExceeded'}]\">\n",
      "<HttpError 429 when requesting https://gmail.googleapis.com/gmail/v1/users/me/messages/18ea4d1d8f6a8ec9?alt=json returned \"Resource has been exhausted (e.g. check quota).\". Details: \"[{'message': 'Resource has been exhausted (e.g. check quota).', 'domain': 'global', 'reason': 'rateLimitExceeded'}]\">\n",
      "<HttpError 429 when requesting https://gmail.googleapis.com/gmail/v1/users/me/messages/18ea4d125fc6cb3d?alt=json returned \"Resource has been exhausted (e.g. check quota).\". Details: \"[{'message': 'Resource has been exhausted (e.g. check quota).', 'domain': 'global', 'reason': 'rateLimitExceeded'}]\">\n",
      "Got the first 40 emails\n",
      "<HttpError 429 when requesting https://gmail.googleapis.com/gmail/v1/users/me/messages/18ea4b0605f8ab52?alt=json returned \"Resource has been exhausted (e.g. check quota).\". Details: \"[{'message': 'Resource has been exhausted (e.g. check quota).', 'domain': 'global', 'reason': 'rateLimitExceeded'}]\">\n",
      "<HttpError 429 when requesting https://gmail.googleapis.com/gmail/v1/users/me/messages/18ea4ab0dcd0a3d4?alt=json returned \"Resource has been exhausted (e.g. check quota).\". Details: \"[{'message': 'Resource has been exhausted (e.g. check quota).', 'domain': 'global', 'reason': 'rateLimitExceeded'}]\">\n",
      "<HttpError 429 when requesting https://gmail.googleapis.com/gmail/v1/users/me/messages/18ea4aad1bf72bf5?alt=json returned \"Resource has been exhausted (e.g. check quota).\". Details: \"[{'message': 'Resource has been exhausted (e.g. check quota).', 'domain': 'global', 'reason': 'rateLimitExceeded'}]\">\n",
      "<HttpError 429 when requesting https://gmail.googleapis.com/gmail/v1/users/me/messages/18ea4a94125ef796?alt=json returned \"Resource has been exhausted (e.g. check quota).\". Details: \"[{'message': 'Resource has been exhausted (e.g. check quota).', 'domain': 'global', 'reason': 'rateLimitExceeded'}]\">\n",
      "<HttpError 429 when requesting https://gmail.googleapis.com/gmail/v1/users/me/messages/18ea49f146afb09e?alt=json returned \"Resource has been exhausted (e.g. check quota).\". Details: \"[{'message': 'Resource has been exhausted (e.g. check quota).', 'domain': 'global', 'reason': 'rateLimitExceeded'}]\">\n",
      "<HttpError 429 when requesting https://gmail.googleapis.com/gmail/v1/users/me/messages/18ea49e01cd2084e?alt=json returned \"Resource has been exhausted (e.g. check quota).\". Details: \"[{'message': 'Resource has been exhausted (e.g. check quota).', 'domain': 'global', 'reason': 'rateLimitExceeded'}]\">\n",
      "<HttpError 429 when requesting https://gmail.googleapis.com/gmail/v1/users/me/messages/18ea49c75d7b7756?alt=json returned \"Resource has been exhausted (e.g. check quota).\". Details: \"[{'message': 'Resource has been exhausted (e.g. check quota).', 'domain': 'global', 'reason': 'rateLimitExceeded'}]\">\n",
      "<HttpError 429 when requesting https://gmail.googleapis.com/gmail/v1/users/me/messages/18ea4971b919791d?alt=json returned \"Resource has been exhausted (e.g. check quota).\". Details: \"[{'message': 'Resource has been exhausted (e.g. check quota).', 'domain': 'global', 'reason': 'rateLimitExceeded'}]\">\n",
      "<HttpError 429 when requesting https://gmail.googleapis.com/gmail/v1/users/me/messages/18ea4970131b6ccd?alt=json returned \"Resource has been exhausted (e.g. check quota).\". Details: \"[{'message': 'Resource has been exhausted (e.g. check quota).', 'domain': 'global', 'reason': 'rateLimitExceeded'}]\">\n",
      "<HttpError 429 when requesting https://gmail.googleapis.com/gmail/v1/users/me/messages/18ea496d90a0f8c7?alt=json returned \"Resource has been exhausted (e.g. check quota).\". Details: \"[{'message': 'Resource has been exhausted (e.g. check quota).', 'domain': 'global', 'reason': 'rateLimitExceeded'}]\">\n",
      "<HttpError 429 when requesting https://gmail.googleapis.com/gmail/v1/users/me/messages/18ea496ce0fca500?alt=json returned \"Resource has been exhausted (e.g. check quota).\". Details: \"[{'message': 'Resource has been exhausted (e.g. check quota).', 'domain': 'global', 'reason': 'rateLimitExceeded'}]\">\n",
      "Got the first 80 emails\n",
      "<HttpError 429 when requesting https://gmail.googleapis.com/gmail/v1/users/me/messages/18ea496b99fb60e8?alt=json returned \"Resource has been exhausted (e.g. check quota).\". Details: \"[{'message': 'Resource has been exhausted (e.g. check quota).', 'domain': 'global', 'reason': 'rateLimitExceeded'}]\">\n",
      "<HttpError 429 when requesting https://gmail.googleapis.com/gmail/v1/users/me/messages/18ea492498415902?alt=json returned \"Resource has been exhausted (e.g. check quota).\". Details: \"[{'message': 'Resource has been exhausted (e.g. check quota).', 'domain': 'global', 'reason': 'rateLimitExceeded'}]\">\n",
      "<HttpError 429 when requesting https://gmail.googleapis.com/gmail/v1/users/me/messages/18ea48cc4257b0a2?alt=json returned \"Resource has been exhausted (e.g. check quota).\". Details: \"[{'message': 'Resource has been exhausted (e.g. check quota).', 'domain': 'global', 'reason': 'rateLimitExceeded'}]\">\n",
      "<HttpError 429 when requesting https://gmail.googleapis.com/gmail/v1/users/me/messages/18ea47d9d8ad6ea1?alt=json returned \"Resource has been exhausted (e.g. check quota).\". Details: \"[{'message': 'Resource has been exhausted (e.g. check quota).', 'domain': 'global', 'reason': 'rateLimitExceeded'}]\">\n",
      "<HttpError 429 when requesting https://gmail.googleapis.com/gmail/v1/users/me/messages/18ea44804e8fddd7?alt=json returned \"Resource has been exhausted (e.g. check quota).\". Details: \"[{'message': 'Resource has been exhausted (e.g. check quota).', 'domain': 'global', 'reason': 'rateLimitExceeded'}]\">\n",
      "<HttpError 429 when requesting https://gmail.googleapis.com/gmail/v1/users/me/messages/18ea41daa4fdb724?alt=json returned \"Resource has been exhausted (e.g. check quota).\". Details: \"[{'message': 'Resource has been exhausted (e.g. check quota).', 'domain': 'global', 'reason': 'rateLimitExceeded'}]\">\n",
      "<HttpError 429 when requesting https://gmail.googleapis.com/gmail/v1/users/me/messages/18ea41c84c73ac1e?alt=json returned \"Resource has been exhausted (e.g. check quota).\". Details: \"[{'message': 'Resource has been exhausted (e.g. check quota).', 'domain': 'global', 'reason': 'rateLimitExceeded'}]\">\n",
      "<HttpError 429 when requesting https://gmail.googleapis.com/gmail/v1/users/me/messages/18ea40b906c6b5dd?alt=json returned \"Resource has been exhausted (e.g. check quota).\". Details: \"[{'message': 'Resource has been exhausted (e.g. check quota).', 'domain': 'global', 'reason': 'rateLimitExceeded'}]\">\n",
      "<HttpError 429 when requesting https://gmail.googleapis.com/gmail/v1/users/me/messages/18ea40b7db926586?alt=json returned \"Resource has been exhausted (e.g. check quota).\". Details: \"[{'message': 'Resource has been exhausted (e.g. check quota).', 'domain': 'global', 'reason': 'rateLimitExceeded'}]\">\n",
      "<HttpError 429 when requesting https://gmail.googleapis.com/gmail/v1/users/me/messages/18ea409c02c899c6?alt=json returned \"Resource has been exhausted (e.g. check quota).\". Details: \"[{'message': 'Resource has been exhausted (e.g. check quota).', 'domain': 'global', 'reason': 'rateLimitExceeded'}]\">\n",
      "<HttpError 429 when requesting https://gmail.googleapis.com/gmail/v1/users/me/messages/18ea409b9f865213?alt=json returned \"Resource has been exhausted (e.g. check quota).\". Details: \"[{'message': 'Resource has been exhausted (e.g. check quota).', 'domain': 'global', 'reason': 'rateLimitExceeded'}]\">\n",
      "<HttpError 429 when requesting https://gmail.googleapis.com/gmail/v1/users/me/messages/18ea1b12696a1678?alt=json returned \"Resource has been exhausted (e.g. check quota).\". Details: \"[{'message': 'Resource has been exhausted (e.g. check quota).', 'domain': 'global', 'reason': 'rateLimitExceeded'}]\">\n",
      "<HttpError 429 when requesting https://gmail.googleapis.com/gmail/v1/users/me/messages/18ea1a83f1f210e3?alt=json returned \"Resource has been exhausted (e.g. check quota).\". Details: \"[{'message': 'Resource has been exhausted (e.g. check quota).', 'domain': 'global', 'reason': 'rateLimitExceeded'}]\">\n",
      "Got the first 120 emails\n",
      "<HttpError 429 when requesting https://gmail.googleapis.com/gmail/v1/users/me/messages/18ea1007487ca9b1?alt=json returned \"Resource has been exhausted (e.g. check quota).\". Details: \"[{'message': 'Resource has been exhausted (e.g. check quota).', 'domain': 'global', 'reason': 'rateLimitExceeded'}]\">\n"
     ]
    },
    {
     "ename": "KeyboardInterrupt",
     "evalue": "",
     "output_type": "error",
     "traceback": [
      "\u001b[0;31m---------------------------------------------------------------------------\u001b[0m",
      "\u001b[0;31mKeyboardInterrupt\u001b[0m                         Traceback (most recent call last)",
      "Cell \u001b[0;32mIn[8], line 1\u001b[0m\n\u001b[0;32m----> 1\u001b[0m emails \u001b[38;5;241m=\u001b[39m \u001b[43mgmail_connector\u001b[49m\u001b[38;5;241;43m.\u001b[39;49m\u001b[43mget_inbox_emails\u001b[49m\u001b[43m(\u001b[49m\u001b[43m)\u001b[49m\n",
      "File \u001b[0;32m~/Projects/Personal/ticket-washer/src/services/emails.py:85\u001b[0m, in \u001b[0;36mGmailConnector.get_inbox_emails\u001b[0;34m(self, total_results)\u001b[0m\n\u001b[1;32m     83\u001b[0m batch\u001b[38;5;241m.\u001b[39mexecute()\n\u001b[1;32m     84\u001b[0m total \u001b[38;5;241m+\u001b[39m\u001b[38;5;241m=\u001b[39m \u001b[38;5;28mlen\u001b[39m(emails\u001b[38;5;241m.\u001b[39mget(\u001b[38;5;124m\"\u001b[39m\u001b[38;5;124mmessages\u001b[39m\u001b[38;5;124m\"\u001b[39m, []))\n\u001b[0;32m---> 85\u001b[0m sleep(\u001b[38;5;241m1\u001b[39m)\n\u001b[1;32m     86\u001b[0m \u001b[38;5;28mprint\u001b[39m(\u001b[38;5;124mf\u001b[39m\u001b[38;5;124m\"\u001b[39m\u001b[38;5;124mGot the first \u001b[39m\u001b[38;5;132;01m{\u001b[39;00mtotal\u001b[38;5;132;01m}\u001b[39;00m\u001b[38;5;124m emails\u001b[39m\u001b[38;5;124m\"\u001b[39m)\n\u001b[1;32m     87\u001b[0m next_page_token \u001b[38;5;241m=\u001b[39m emails\u001b[38;5;241m.\u001b[39mget(\u001b[38;5;124m\"\u001b[39m\u001b[38;5;124mnextPageToken\u001b[39m\u001b[38;5;124m\"\u001b[39m)\n",
      "\u001b[0;31mKeyboardInterrupt\u001b[0m: "
     ]
    }
   ],
   "source": [
    "emails = gmail_connector.get_inbox_emails()"
   ]
  },
  {
   "cell_type": "code",
   "execution_count": 10,
   "metadata": {},
   "outputs": [],
   "source": [
    "len(emails)\n",
    "\n",
    "email = emails[0]"
   ]
  },
  {
   "cell_type": "code",
   "execution_count": 11,
   "metadata": {},
   "outputs": [
    {
     "name": "stdout",
     "output_type": "stream",
     "text": [
      "Found total of 727 emails\n"
     ]
    }
   ],
   "source": [
    "print(f\"Found total of {len(emails)} emails\")"
   ]
  },
  {
   "cell_type": "code",
   "execution_count": 10,
   "metadata": {},
   "outputs": [
    {
     "data": {
      "text/plain": [
       "'2024-04-15'"
      ]
     },
     "execution_count": 10,
     "metadata": {},
     "output_type": "execute_result"
    }
   ],
   "source": [
    "gmail_connector.get_timestamp(email).strftime(\"%Y-%m-%d\")"
   ]
  },
  {
   "cell_type": "code",
   "execution_count": 11,
   "metadata": {},
   "outputs": [
    {
     "data": {
      "text/plain": [
       "'Thank you Collin! This sounds great and we are ready to post payment on this one. Have a great rest of your week! Shawn A. Meyer Attorney At Law #72934 Ph: 816.518.8838 Fx:816.873.5315 322 Southwest'"
      ]
     },
     "execution_count": 11,
     "metadata": {},
     "output_type": "execute_result"
    }
   ],
   "source": [
    " # Subject\n",
    "gmail_connector.get_snippet(email)\n"
   ]
  },
  {
   "cell_type": "code",
   "execution_count": 12,
   "metadata": {},
   "outputs": [
    {
     "data": {
      "text/plain": [
       "'Re: Request for Recommendation - DEREK A DICKEMANN - 240065833'"
      ]
     },
     "execution_count": 12,
     "metadata": {},
     "output_type": "execute_result"
    }
   ],
   "source": [
    "gmail_connector.get_email_subject(email)   # Subject"
   ]
  },
  {
   "cell_type": "code",
   "execution_count": 13,
   "metadata": {},
   "outputs": [
    {
     "data": {
      "text/plain": [
       "'Shawn-Anthony Meyer'"
      ]
     },
     "execution_count": 13,
     "metadata": {},
     "output_type": "execute_result"
    }
   ],
   "source": [
    "      # Sender\n",
    "gmail_connector.render_email_sender(gmail_connector.get_sender(email))"
   ]
  },
  {
   "cell_type": "code",
   "execution_count": 14,
   "metadata": {},
   "outputs": [],
   "source": [
    "import re\n",
    "\n",
    "def extract_number_from_string(s):\n",
    "    match = re.search(r'\\b\\d+\\b', s)\n",
    "    if match:\n",
    "        return match.group(0)\n",
    "    return None"
   ]
  },
  {
   "cell_type": "code",
   "execution_count": 15,
   "metadata": {},
   "outputs": [
    {
     "data": {
      "text/plain": [
       "['704258650', '210900213']"
      ]
     },
     "execution_count": 15,
     "metadata": {},
     "output_type": "execute_result"
    }
   ],
   "source": [
    "import re\n",
    "\n",
    "# The text strings to search\n",
    "texts = [\n",
    "'Receipt of Submission - 704258650 - ST V GARRETT JACOB GARING, Randolph County - Circuit Court - Huntsville',\n",
    "    'eNotice - 210900213 - KANSAS CITY V JACKSON FLYNN CONROE, Kansas City Municipal Court'\n",
    "]\n",
    "\n",
    "# Regular expression to extract numbers\n",
    "pattern = r'\\b\\d+\\b'\n",
    "\n",
    "# Extracting numbers\n",
    "extracted_numbers = [extract_number_from_string(text) for text in texts]\n",
    "extracted_numbers"
   ]
  },
  {
   "cell_type": "code",
   "execution_count": 20,
   "metadata": {},
   "outputs": [
    {
     "data": {
      "text/plain": [
       "'\\nDate : 2024-04-15 \\n\\n\\nSubject: Re: Request for Recommendation - DEREK A DICKEMANN - 240065833 \\n\\n\\nBody: Thank you Collin! This sounds great and we are ready to post payment on this one. Have a great rest of your week! Shawn A. Meyer Attorney At Law #72934 Ph: 816.518.8838 Fx:816.873.5315 322 Southwest \\n\\n\\nSender: Shawn-Anthony Meyer \\n\\n\\n'"
      ]
     },
     "execution_count": 20,
     "metadata": {},
     "output_type": "execute_result"
    }
   ],
   "source": [
    "email_template = f\"\"\"\n",
    "Date : {gmail_connector.get_timestamp(email).strftime(\"%Y-%m-%d\")} \\n\n",
    "\n",
    "Subject: {gmail_connector.get_email_subject(email)} \\n\n",
    "\n",
    "Body: {gmail_connector.get_snippet(email)} \\n\n",
    "\n",
    "Sender: {gmail_connector.render_email_sender(gmail_connector.get_sender(email))} \\n\n",
    "\n",
    "\"\"\"\n",
    "email_template"
   ]
  },
  {
   "cell_type": "code",
   "execution_count": 21,
   "metadata": {},
   "outputs": [
    {
     "data": {
      "text/plain": [
       "'Thank you Collin! This sounds great and we are ready to post payment on this one. Have a great rest of your week! Shawn A. Meyer Attorney At Law #72934 Ph: 816.518.8838 Fx:816.873.5315 322 Southwest'"
      ]
     },
     "execution_count": 21,
     "metadata": {},
     "output_type": "execute_result"
    }
   ],
   "source": [
    "gmail_connector.get_snippet(email)"
   ]
  },
  {
   "cell_type": "code",
   "execution_count": 22,
   "metadata": {},
   "outputs": [
    {
     "data": {
      "text/plain": [
       "'240065833'"
      ]
     },
     "execution_count": 22,
     "metadata": {},
     "output_type": "execute_result"
    }
   ],
   "source": [
    "extract_number_from_string(gmail_connector.get_email_subject(email))"
   ]
  },
  {
   "cell_type": "code",
   "execution_count": 23,
   "metadata": {},
   "outputs": [],
   "source": [
    "from src.services.cases import get_cases, get_single_case\n"
   ]
  },
  {
   "cell_type": "code",
   "execution_count": 24,
   "metadata": {},
   "outputs": [
    {
     "data": {
      "text/plain": [
       "Case(case_id='210900213', court_id='CT16', flag=None, urgent=None, participants=['1ykULhAhGlfzgAmgJk0R'], related_cases=None, protection_order=False, parties=[{'other_attorneylist': [], 'pred_code': 'Z^', 'desc': 'Defendant', 'pty_seqno': 2, 'birth_date': '12/22/2003', 'lit_ind': 'Y', 'mid_initial': 'FLYNN', 'pidm': 93472589, 'addr_line1': '204 NW 19TH ST', 'addr_city': 'OKLAHOMA CITY', 'birth_datecode': 'Y', 'desc_code': 'DFT', 'formatted_partyaddress': '204 NW 19TH ST\\nOKLAHOMA CITY, OK 73103', 'last_name': 'CONROE', 'addr_statcode': 'OK', 'co_attorneylist': [], 'formatted_telephone': '', 'attorney_list': [], 'addr_atyp': 'MA', 'formatted_birthdate': '2003', 'prosecuting_atty': False, 'criminal_ind': 'Y', 'sort_seq': 4, 'addr_seqno': 1, 'assoc': 0, 'addr_zip': '73103', 'first_name': 'JACKSON', 'party_type': 'party', 'formatted_partyname': 'CONROE, JACKSON FLYNN', 'criminal_case': True, 'start_date': '03/22/2024'}, {'other_attorneylist': [], 'pred_code': 'Z^', 'desc': 'Municipal Prosecuting Attorney', 'pty_seqno': 1, 'tel_code': 'BU', 'tel_area': '816', 'pidm': 43191, 'addr_city': 'KANSAS CITY', 'addr_line1': \"KCMO CITY PROSECUTOR'S OFFICE\", 'desc_code': 'MPA', 'tel_number': '513-6750', 'last_name': 'MILLER', 'addr_statcode': 'MO', 'co_attorneylist': [], 'formatted_partyaddress': \"KCMO CITY PROSECUTOR'S OFFICE\\n1101 LOCUST STREET\\nKANSAS CITY, MO 64106\", 'addr_line2': '1101 LOCUST STREET', 'formatted_telephone': '(816) 513-6750', 'attorney_list': [], 'addr_atyp': 'BU', 'sort_seq': 8, 'prosecuting_atty': False, 'criminal_ind': 'Y', 'addr_seqno': 1, 'assoc': 0, 'addr_zip': '64106', 'first_name': 'LINDA', 'party_type': 'attorney', 'formatted_partyname': 'MILLER, LINDA', 'criminal_case': True, 'start_date': '03/22/2024'}], disposed=False, legal_fileaccepted=False, paper_accepted=False, confidential=False, display_judgenotes=False, case_notecount=0, display_legalfileviewer=False, display_fileviewer=True, can_userseepublicdocuments=False, can_userseecasedocuments=True, can_userseeenoticehistory=False, can_selectdocket=True, can_seeecflinks=True, can_seelegalfilelinks=True, is_ticket=False, address_a_type='MA', address_city='OKLAHOMA CITY', address_line_1='204 NW 19TH ST', address_seq_no=1, address_state_code='OK', address_zip='73103', birth_date='12/22/2003', birth_date_code='Y', criminal_case=True, criminal_ind='Y', description='Defendant', description_code='DFT', first_name='JACKSON', year_of_birth='2003', formatted_party_address='204 NW 19TH ST\\nOKLAHOMA CITY, OK 73103', formatted_party_name='CONROE, JACKSON FLYNN', formatted_telephone='', last_name='CONROE', lit_ind='Y', middle_name='FLYNN', party_type='party', pidm=93472589, pred_code='Z^', prosecuting_atty=False, pty_seq_no=2, sort_seq=4, age=20, case_desc='KANSAS CITY V JACKSON FLYNN CONROE', court_desc='16th Judicial Circuit', location='Kansas City Municipal', filing_date=datetime.datetime(2024, 3, 22, 0, 0, tzinfo=datetime.timezone.utc), case_date=datetime.datetime(2024, 3, 22, 0, 0, tzinfo=datetime.timezone.utc), formatted_filingdate='03/22/2024', case_type='Municipal/ Ordinance - see Charges', case_security='2', case_typecode='O5', vine_code='347', locn_code='KA', court_code='CT16', vine_display='N', vine_id='210900213', dockets=[{'filing_date': '03/22/2024', 'pred_code': 'ZHESC', 'docket_code': 'SCIR', 'document_id': 0, 'filing_partyfullname': '', 'hrng_outcome': 'N', 'associated_docketinfodetails': [], 'sequence_number': 3, 'can_seecasedocuments': False, 'behalf_ofpartiesnames': '', 'document': [], 'associated_docketscheduledinfo': [{'associated_name': 'MICHAEL C HEFFERNON', 'assoc_filingpartymidinitial': 'C', 'associated_date': '05/01/2024', 'assoc_filingpartylastname': 'HEFFERNON', 'associated_description': 'Initial Appearance', 'document_id': 0, 'assoc_dockseq': 3, 'main_dockseq': 0, 'associated_time': '1:30 PM', 'associated_text': 'Kansas City Municipal', 'assoc_filingpartyfirstname': 'MICHAEL', 'assoc_dtyppredcode': 'C'}], 'whichone': 3, 'docket_desc': 'Initial Appearance', 'dtyp_predcode': 'Z^', 'confidential': False}, {'whichone': 2, 'confidential': False, 'filing_date': '03/22/2024', 'pred_code': 'ZFICA', 'docket_code': 'AUTT', 'document_id': 0, 'filing_partyfullname': 'LINDA MILLER', 'hrng_outcome': 'N', 'associated_docketinfodetails': [{'assoc_docketcode': 'ZFILE', 'associated_description': 'CRIFS/Unredacted Document', 'associated_date': '03/22/2024', 'assoc_dockseq': 2, 'document': [], 'view_doc': 'N', 'main_dockseq': 1, 'conf_ind': 'N', 'document_id': 0}], 'sequence_number': 2, 'can_seecasedocuments': True, 'display_sortseq': '8', 'behalf_ofpartiesnames': '', 'document': [], 'associated_docketscheduledinfo': [], 'filing_partytypecode': 'MPA', 'filing_partyfirstname': 'LINDA', 'event_desc': 'Municipal Prosecuting Attorney', 'docket_desc': 'Information Filed by Citation', 'dtyp_predcode': 'Z^', 'filing_partylastname': 'MILLER'}, {'filing_date': '03/22/2024', 'pred_code': 'ZFILE', 'docket_code': 'FREDI', 'document_id': 0, 'filing_partyfullname': '', 'hrng_outcome': 'N', 'associated_docketinfodetails': [{'assoc_docketcode': 'ZFICA', 'associated_description': 'Information Filed by Citation', 'associated_date': '03/22/2024', 'assoc_dockseq': 2, 'document': [{'docket_seq': 2, 'document_securitylevel': 1, 'record_id': 20743278, 'document_extension': 'PDF', 'document_id': 24438566, 'document_title': 'Document PDF (2)'}], 'view_doc': 'Y', 'main_dockseq': 1, 'conf_ind': 'N', 'document_id': 0}], 'sequence_number': 1, 'can_seecasedocuments': False, 'behalf_ofpartiesnames': '', 'document': [], 'associated_docketscheduledinfo': [], 'whichone': 1, 'docket_desc': 'CRIFS/Unredacted Document', 'dtyp_predcode': 'Z^', 'confidential': False}], documents=[{'document_extension': 'PDF', 'file_path': 'Document PDF (2)?courtCode=CT16&di=24438566.pdf', 'document_id': 24438566, 'document_title': 'Document PDF (2)', 'docket_seq': 2, 'document_securitylevel': 1, 'record_id': 20743278, 'docket_desc': 'Information Filed by Citation'}], charges=[{'charge_description': 'Exceeded Posted Speed Limit (11-15 Mph Over)', 'charge_filingdate': '03/21/2024', 'charge_codeleveldescription': 'Ordinance', 'charge_pidm': '93472589', 'ticket_number': '210900213', 'charge_predcode': 'ZMUN', 'charge_code': 'ORD304.0-411N202154.0', 'sub_case': '210900213', 'charge_number': '1', 'charge_codelevel': 'OR', 'case_id': '210900213', 'ncic_code': '99', 'boundover': False}], judge={'formatted_name': 'HEFFERNON, MICHAEL C', 'middle_initials': 'C', 'first_name': 'MICHAEL', 'last_name': 'HEFFERNON'}, court_type='C', ticket_searchresult={'dip_ind': 'Y', 'ooc_eligible': 'Y', 'na_ind': 'Y'}, fine=None, plea_andpayind='Y', ticket={'case-id': '210900213', 'ticket-posted-speed-limit': None, 'client-birthdate': None, 'client-name': None, 'court-time': None, 'ticket-speed': None, 'court-type': None, 'offense': None, 'court-phone': None, 'client-driver-license': None, 'court-city': None, 'court-jurisdiction': None, 'state': 'MISSOURI, KANSAS CITY MUNICIPAL DIVISION, 16TH JUDICIAL CIRCUIT', 'current-date': 'March 25, 2024'}, ticket_img='210900213.png', status='paid', case_status=None, events=[{'date': DatetimeWithNanoseconds(2024, 3, 29, 16, 45, 39, 112003, tzinfo=datetime.timezone.utc), 'template': 'MO_Entry of Appearance', 'case_id': '210900213', 'document': 'cases/210900213/MO_Entry of Appearance.pdf'}, {'date': DatetimeWithNanoseconds(2024, 3, 29, 16, 48, 5, 229856, tzinfo=datetime.timezone.utc), 'template': 'eoa_customer', 'subject': 'Case Update: Ticket No. 210900213 - Exceeded Posted Speed Limit (11-15 Mph Over)', 'case_id': '210900213', 'email': 'jackson.f.conroe@gmail.com', 'details': {'success': True, 'time_trackable_item_id': 161673406, 'message': {'id': 21571336}}, 'body': 'Hey Jackson,<br/><br/><strong>Here is an update on your case!</strong><br/><br/>1. We filed our entry of appearance and are negotiating with the prosecutor to amend your ticket.<br/>2. Your court date is currently scheduled for 05/01/2024 <strong>@ 1:30 PM</strong>.<br/><br/>At this time, your attendance in court is <strong>NOT</strong> required. We will let you know if this changes and keep you informed on any progress we make in our negotiations with the prosecutor.<br/><br/>As always, free to reach out with any questions or concerns.<br/><br/>Have a great remainder of your day! 😎'}], court_date=None, court_time=None, court_link=None, arrest_date=None, arrest_time=None, where_held=None, gender=None, release_info=None, source=None, custom=None, raw=None, email='jackson.f.conroe@gmail.com', phone='+14057190889')"
      ]
     },
     "execution_count": 24,
     "metadata": {},
     "output_type": "execute_result"
    }
   ],
   "source": [
    "get_single_case(\"210900213\")"
   ]
  },
  {
   "cell_type": "code",
   "execution_count": 30,
   "metadata": {},
   "outputs": [],
   "source": [
    "case_statuses = {\n",
    "    \"filed\": {\n",
    "        \"name\": \"Case Filed\",\n",
    "        \"owner\": \"Client\",\n",
    "        \"mandatory\": True,\n",
    "        \"short_description\": \"Case Filed on Casenet\",\n",
    "        \"internal_status\": \"Case Filed\",\n",
    "        \"client_status\": \"\",\n",
    "        \"next_case_status\": \"\",\n",
    "    },\n",
    "    \"paid\": {\n",
    "        \"name\": \"Case Payment\",\n",
    "        \"owner\": \"Client\",\n",
    "        \"mandatory\": True,\n",
    "        \"flag\": \"todo\",\n",
    "        \"short_description\": \"Client Paid\",\n",
    "        \"internal_status\": \"Payment Received\",\n",
    "        \"client_status\": \"\",\n",
    "        \"next_case_status\": \"REVIEW\",\n",
    "        \"color\": \"pending\",\n",
    "    },\n",
    "    \"review\": {\n",
    "        \"name\": \"Case Review and Consultation\",\n",
    "        \"owner\": \"Lawyer\",\n",
    "        \"mandatory\": True,\n",
    "        \"flag\": \"todo\",\n",
    "        \"short_description\": \"Case Under Review\",\n",
    "        \"internal_status\": \"Under Review\",\n",
    "        \"client_status\": \"\",\n",
    "        \"next_case_status\": \"REJECTED, EOA\",\n",
    "        \"color\": \"orange\",\n",
    "    },\n",
    "    \"rejected\": {\n",
    "        \"name\": \"Case Rejected\",\n",
    "        \"owner\": \"Lawyer\",\n",
    "        \"mandatory\": False,\n",
    "        \"flag\": \"pending\",\n",
    "        \"short_description\": \"Case Rejected\",\n",
    "        \"internal_status\": \"Case cannot be handled by our attorneys\",\n",
    "        \"client_status\": \"\",\n",
    "        \"next_case_status\": \"REFUND\",\n",
    "        \"color\": \"red\",\n",
    "    },\n",
    "    \"refund\": {\n",
    "        \"name\": \"Case Refund\",\n",
    "        \"owner\": \"Lawyer\",\n",
    "        \"mandatory\": False,\n",
    "        \"flag\": \"closed\",\n",
    "        \"short_description\": \"Case Refunded\",\n",
    "        \"internal_status\": \"We initiated a full refund. It should be reflected in your account within 5-10 business days. We apologize for any inconvenience.\",\n",
    "        \"client_status\": \"\",\n",
    "        \"next_case_status\": \"CLOSURE\",\n",
    "        \"color\": \"red\",\n",
    "    },\n",
    "    \"sign_engagement_letter\": {\n",
    "        \"name\": \"Sign Engagement Letter\",\n",
    "        \"owner\": \"Client, Lawyer\",\n",
    "        \"mandatory\": True,\n",
    "        \"flag\": \"pending\",\n",
    "        \"short_description\": \"Engagement Letter Sign-Off\",\n",
    "        \"internal_status\": \"Case Accepted\",\n",
    "        \"client_status\": \"Our Attorneys have accepted your case\",\n",
    "        \"next_case_status\": \"EOA\",\n",
    "        \"color\": \"orange\",\n",
    "    },\n",
    "    \"warrant_status\": {\n",
    "        \"name\": \"Warrant Status\",\n",
    "        \"owner\": \"Lawyer\",\n",
    "        \"mandatory\": False,\n",
    "        \"flag\": \"pending\",\n",
    "        \"short_description\": \"Recall Warrant\",\n",
    "        \"internal_status\": \"Warrant\",\n",
    "        \"client_status\": \"\",\n",
    "        \"next_case_status\": \"REV_INT\",\n",
    "        \"color\": \"orange\",\n",
    "    },\n",
    "    \"eoa\": {\n",
    "        \"name\": \"Entry of Appearance\",\n",
    "        \"owner\": \"Lawyer\",\n",
    "        \"mandatory\": True,\n",
    "        \"flag\": \"todo\",\n",
    "        \"short_description\": \"EOA\",\n",
    "        \"internal_status\": \"Our Attorneys are Working on the Case\",\n",
    "        \"client_status\": \"\",\n",
    "        \"next_case_status\": \"REV_INT, CLIENT_REQUEST\",\n",
    "        \"color\": \"green\",\n",
    "    },\n",
    "    \"client_request\": {\n",
    "        \"name\": \"Documentation Request from the Customer\",\n",
    "        \"owner\": \"Client\",\n",
    "        \"mandatory\": True,\n",
    "        \"flag\": \"pending\",\n",
    "        \"short_description\": \"Client Intake Form\",\n",
    "        \"internal_status\": \"Our Attorneys have requested more information from you on your case\",\n",
    "        \"client_status\": \"\",\n",
    "        \"next_case_status\": \"REV_INT\",\n",
    "        \"color\": \"orange\",\n",
    "    },\n",
    "    \"rev_int\": {\n",
    "        \"name\": \"Case Documentation & Information Gathering\",\n",
    "        \"owner\": \"Lawyer\",\n",
    "        \"mandatory\": True,\n",
    "        \"flag\": \"todo\",\n",
    "        \"short_description\": \"Internal Review\",\n",
    "        \"internal_status\": \"Our Attorneys are gathering documentation to back your case\",\n",
    "        \"client_status\": \"\",\n",
    "        \"next_case_status\": \"DEFENSE_REV\",\n",
    "        \"color\": \"orange\",\n",
    "    },\n",
    "    \"defense_dev\": {\n",
    "        \"name\": \"Case Legal Strategy Development\",\n",
    "        \"owner\": \"Lawyer\",\n",
    "        \"mandatory\": True,\n",
    "        \"flag\": \"pending\",\n",
    "        \"short_description\": \"Review with the Client\",\n",
    "        \"internal_status\": \"Our attorneys are elaborating a strategy to defend your cause\",\n",
    "        \"client_status\": \"\",\n",
    "        \"next_case_status\": \"REC_REQUEST\",\n",
    "        \"color\": \"orange\",\n",
    "    },\n",
    "    \"rec_request\": {\n",
    "        \"name\": \"Case Request for Recommendation\",\n",
    "        \"owner\": \"Lawyer\",\n",
    "        \"mandatory\": True,\n",
    "        \"flag\": \"todo\",\n",
    "        \"short_description\": \"RFR Filing\",\n",
    "        \"internal_status\": \"Attorney has initiated negotiations with the Prosecutor\",\n",
    "        \"client_status\": \"\",\n",
    "        \"next_case_status\": \"REC_RECEIVED, REC_DELAYED, REC_REJECT\",\n",
    "    },\n",
    "    \"rec_received\": {\n",
    "        \"name\": \"Case Request for Recommendation\",\n",
    "        \"owner\": \"Prosecutor\",\n",
    "        \"mandatory\": False,\n",
    "        \"flag\": \"todo\",\n",
    "        \"short_description\": \"Recommendation Received\",\n",
    "        \"internal_status\": \"Attorney has negotiated a favorable plea offer\",\n",
    "        \"client_status\": \"\",\n",
    "        \"next_case_status\": \"REC_REVIEW\",\n",
    "    },\n",
    "    \"rec_reject\": {\n",
    "        \"name\": \"Case Request for Recommendation\",\n",
    "        \"owner\": \"Prosecutor\",\n",
    "        \"mandatory\": False,\n",
    "        \"flag\": \"todo\",\n",
    "        \"short_description\": \"Recommendation Rejected\",\n",
    "        \"internal_status\": \"Case cannot be handled by our attorneys\",\n",
    "        \"client_status\": \"\",\n",
    "        \"next_case_status\": \"REFUND\",\n",
    "    },\n",
    "    \"rec_delay\": {\n",
    "        \"name\": \"Case Request for Recommendation\",\n",
    "        \"owner\": \"Prosecutor\",\n",
    "        \"mandatory\": False,\n",
    "        \"flag\": \"todo\",\n",
    "        \"short_description\": \"Recommendation Delayed\",\n",
    "        \"internal_status\": \"The Prosecutor has delayed providing a plea offer. Please provide the information requested\",\n",
    "        \"client_status\": \"\",\n",
    "        \"next_case_status\": \"CLIENT_REQUEST, REC_RECEIVED, REC_REVIEW\",\n",
    "    },\n",
    "    \"rec_review\": {\n",
    "        \"name\": \"Case Plea Negotiation with the Prosecutor (if applicable)\",\n",
    "        \"owner\": \"Lawyer\",\n",
    "        \"mandatory\": False,\n",
    "        \"flag\": \"todo\",\n",
    "        \"short_description\": \"Recommendation Review\",\n",
    "        \"internal_status\": \"The Attorney has initiated further negotiations with the prosecutor\",\n",
    "        \"client_status\": \"\",\n",
    "        \"next_case_status\": \"REC_REVIEW, REC_PROPOSAL\",\n",
    "    },\n",
    "    \"rec_proposal\": {\n",
    "        \"name\": \"Case Recommendation Proposal\",\n",
    "        \"owner\": \"Client\",\n",
    "        \"mandatory\": True,\n",
    "        \"flag\": \"pending\",\n",
    "        \"short_description\": \"Recommendation Proposed to Client\",\n",
    "        \"internal_status\": \"Attorney has negotiated a favorable plea offer and would like you to review and accept the plea offer\",\n",
    "        \"client_status\": \"\",\n",
    "        \"next_case_status\": \"SIG_REQUIRED\",\n",
    "    },\n",
    "    \"sig_required\": {\n",
    "        \"name\": \"Case pending Signature and Payment\",\n",
    "        \"owner\": \"Client\",\n",
    "        \"mandatory\": True,\n",
    "        \"flag\": \"pending\",\n",
    "        \"short_description\": \"Recommendation pending Signature\",\n",
    "        \"internal_status\": \"Client signature and payment are required to accept the Prosecutor's Plea Offer\",\n",
    "        \"client_status\": \"\",\n",
    "        \"next_case_status\": \"SUB\",\n",
    "    },\n",
    "    \"sub\": {\n",
    "        \"name\": \"Case Recommendation and Payment Submission to Court\",\n",
    "        \"owner\": \"Lawyer\",\n",
    "        \"mandatory\": True,\n",
    "        \"flag\": \"todo\",\n",
    "        \"short_description\": \"Recommendation to Submit to Court\",\n",
    "        \"internal_status\": \"Attorney is submitting the signed plea and payment to the court for approval\",\n",
    "        \"client_status\": \"\",\n",
    "        \"next_case_status\": \"SUB_REVIEW\",\n",
    "    },\n",
    "    \"sub_review\": {\n",
    "        \"name\": \"Case Recommendation and Payment Review by the Court\",\n",
    "        \"owner\": \"Court\",\n",
    "        \"mandatory\": True,\n",
    "        \"flag\": \"pending\",\n",
    "        \"short_description\": \"Recommendation Submission under Review by the Court\",\n",
    "        \"internal_status\": \"Plea Offer is pending Court Approval\",\n",
    "        \"client_status\": \"\",\n",
    "        \"next_case_status\": \"APPEAR, CLOSE\",\n",
    "    },\n",
    "    \"appear\": {\n",
    "        \"name\": \"Court Representation (if applicable)\",\n",
    "        \"owner\": \"Lawyer\",\n",
    "        \"mandatory\": False,\n",
    "        \"flag\": \"pending\",\n",
    "        \"short_description\": \"Court Appearance Required\",\n",
    "        \"internal_status\": \"Court is requiring an appearance to approve the plea\",\n",
    "        \"client_status\": \"\",\n",
    "        \"next_case_status\": \"CLOSE\",\n",
    "    },\n",
    "    \"close\": {\n",
    "        \"name\": \"Case Closure\",\n",
    "        \"owner\": \"Lawyer\",\n",
    "        \"mandatory\": True,\n",
    "        \"flag\": \"pending\",\n",
    "        \"short_description\": \"Close Case on Portal\",\n",
    "        \"internal_status\": \"Congratulations! Case closed\",\n",
    "        \"client_status\": \"\",\n",
    "        \"next_case_status\": \"CLIENT_REVIEW\",\n",
    "    },\n",
    "    \"client_review\": {\n",
    "        \"name\": \"Case Feedback\",\n",
    "        \"owner\": \"Client\",\n",
    "        \"mandatory\": False,\n",
    "        \"flag\": \"closed\",\n",
    "        \"short_description\": \"Client Submits Review\",\n",
    "        \"internal_status\": \"Please provide us with a review and feedback from your experience\",\n",
    "        \"client_status\": \"\",\n",
    "        \"next_case_status\": \"CLIENT_FEEDBACK\",\n",
    "    },\n",
    "}"
   ]
  },
  {
   "cell_type": "code",
   "execution_count": 29,
   "metadata": {},
   "outputs": [
    {
     "name": "stdout",
     "output_type": "stream",
     "text": [
      "18ee207697434a6a\n",
      "Re: Request for Recommendation - DEREK A DICKEMANN - 240065833\n",
      "Thank you Collin! This sounds great and we are ready to post payment on this one. Have a great rest of your week! Shawn A. Meyer Attorney At Law #72934 Ph: 816.518.8838 Fx:816.873.5315 322 Southwest\n",
      "2024-04-15\n",
      "Shawn-Anthony Meyer\n",
      " Kansas City, Missouri 64108     this matter. I look forward to hearing from you soon. ndation, please do not hesitate to let me know. I am eager to provide any assistance necessary to expedite this process. ) for your reference. ran <cvanostran@riversidemo.gov> Subject: Request for Recommendation - DEREK A DICKEMANN - 240065833    *** This is an EXTERNAL email. Please exercise caution. DO NOT open attachments or click links from unknown senders or in an unexpected email. ***    Dear Collin,  that would allow it to be viewed by any individual other than the addressee(s). If the reader of this message is not the intended recipient, you are hereby notified that any unauthorized disclosure, dissemination, distribution, copying or the taking of any action in reliance on the information herein is strictly prohibited. If you have received this communication in error, please immediately notify the sender and delete this message.On Wed, Mar 20, 2024 at 1:39PM Collin VanOstran <cvanostran@riversidemo.gov> wrote:  \n",
      "==>\n",
      "Case Number: 240065833\n",
      "=====================================\n"
     ]
    }
   ],
   "source": [
    "for email in emails:\n",
    "    print(email[\"id\"])\n",
    "    print(gmail_connector.get_email_subject(email))\n",
    "    print(gmail_connector.get_snippet(email))\n",
    "    print(gmail_connector.get_timestamp(email).strftime(\"%Y-%m-%d\"))\n",
    "    print(gmail_connector.render_email_sender(gmail_connector.get_sender(email)))\n",
    "    final_body, text_body = gmail_connector.get_email_html_body(email)\n",
    "    print(text_body)\n",
    "\n",
    "    print(\"==>\")\n",
    "    case_number = extract_number_from_string(gmail_connector.get_email_subject(email))\n",
    "    print(f\"Case Number: {case_number}\")\n",
    "    print(\"=====================================\")\n",
    "\n",
    "    break"
   ]
  },
  {
   "cell_type": "code",
   "execution_count": 33,
   "metadata": {},
   "outputs": [
    {
     "ename": "KeyError",
     "evalue": "'input_variables'",
     "output_type": "error",
     "traceback": [
      "\u001b[0;31m---------------------------------------------------------------------------\u001b[0m",
      "\u001b[0;31mKeyError\u001b[0m                                  Traceback (most recent call last)",
      "Cell \u001b[0;32mIn[33], line 2\u001b[0m\n\u001b[1;32m      1\u001b[0m \u001b[38;5;66;03m# Analyze the email using langchain to extract the stage and summarize the next step owener and action\u001b[39;00m\n\u001b[0;32m----> 2\u001b[0m chain \u001b[38;5;241m=\u001b[39m LLMChain(llm\u001b[38;5;241m=\u001b[39mllm, output_parser\u001b[38;5;241m=\u001b[39mJsonOutputParser(), prompt_template\u001b[38;5;241m=\u001b[39m\u001b[43mPromptTemplate\u001b[49m\u001b[43m(\u001b[49m\u001b[43m)\u001b[49m)\n",
      "File \u001b[0;32m~/Projects/Personal/ticket-washer/venv/lib/python3.11/site-packages/langchain_core/load/serializable.py:120\u001b[0m, in \u001b[0;36mSerializable.__init__\u001b[0;34m(self, **kwargs)\u001b[0m\n\u001b[1;32m    119\u001b[0m \u001b[38;5;28;01mdef\u001b[39;00m \u001b[38;5;21m__init__\u001b[39m(\u001b[38;5;28mself\u001b[39m, \u001b[38;5;241m*\u001b[39m\u001b[38;5;241m*\u001b[39mkwargs: Any) \u001b[38;5;241m-\u001b[39m\u001b[38;5;241m>\u001b[39m \u001b[38;5;28;01mNone\u001b[39;00m:\n\u001b[0;32m--> 120\u001b[0m     \u001b[38;5;28;43msuper\u001b[39;49m\u001b[43m(\u001b[49m\u001b[43m)\u001b[49m\u001b[38;5;241;43m.\u001b[39;49m\u001b[38;5;21;43m__init__\u001b[39;49m\u001b[43m(\u001b[49m\u001b[38;5;241;43m*\u001b[39;49m\u001b[38;5;241;43m*\u001b[39;49m\u001b[43mkwargs\u001b[49m\u001b[43m)\u001b[49m\n\u001b[1;32m    121\u001b[0m     \u001b[38;5;28mself\u001b[39m\u001b[38;5;241m.\u001b[39m_lc_kwargs \u001b[38;5;241m=\u001b[39m kwargs\n",
      "File \u001b[0;32m~/Projects/Personal/ticket-washer/venv/lib/python3.11/site-packages/pydantic/v1/main.py:339\u001b[0m, in \u001b[0;36mBaseModel.__init__\u001b[0;34m(__pydantic_self__, **data)\u001b[0m\n\u001b[1;32m    333\u001b[0m \u001b[38;5;250m\u001b[39m\u001b[38;5;124;03m\"\"\"\u001b[39;00m\n\u001b[1;32m    334\u001b[0m \u001b[38;5;124;03mCreate a new model by parsing and validating input data from keyword arguments.\u001b[39;00m\n\u001b[1;32m    335\u001b[0m \n\u001b[1;32m    336\u001b[0m \u001b[38;5;124;03mRaises ValidationError if the input data cannot be parsed to form a valid model.\u001b[39;00m\n\u001b[1;32m    337\u001b[0m \u001b[38;5;124;03m\"\"\"\u001b[39;00m\n\u001b[1;32m    338\u001b[0m \u001b[38;5;66;03m# Uses something other than `self` the first arg to allow \"self\" as a settable attribute\u001b[39;00m\n\u001b[0;32m--> 339\u001b[0m values, fields_set, validation_error \u001b[38;5;241m=\u001b[39m \u001b[43mvalidate_model\u001b[49m\u001b[43m(\u001b[49m\u001b[43m__pydantic_self__\u001b[49m\u001b[38;5;241;43m.\u001b[39;49m\u001b[38;5;18;43m__class__\u001b[39;49m\u001b[43m,\u001b[49m\u001b[43m \u001b[49m\u001b[43mdata\u001b[49m\u001b[43m)\u001b[49m\n\u001b[1;32m    340\u001b[0m \u001b[38;5;28;01mif\u001b[39;00m validation_error:\n\u001b[1;32m    341\u001b[0m     \u001b[38;5;28;01mraise\u001b[39;00m validation_error\n",
      "File \u001b[0;32m~/Projects/Personal/ticket-washer/venv/lib/python3.11/site-packages/pydantic/v1/main.py:1100\u001b[0m, in \u001b[0;36mvalidate_model\u001b[0;34m(model, input_data, cls)\u001b[0m\n\u001b[1;32m   1098\u001b[0m     \u001b[38;5;28;01mcontinue\u001b[39;00m\n\u001b[1;32m   1099\u001b[0m \u001b[38;5;28;01mtry\u001b[39;00m:\n\u001b[0;32m-> 1100\u001b[0m     values \u001b[38;5;241m=\u001b[39m \u001b[43mvalidator\u001b[49m\u001b[43m(\u001b[49m\u001b[43mcls_\u001b[49m\u001b[43m,\u001b[49m\u001b[43m \u001b[49m\u001b[43mvalues\u001b[49m\u001b[43m)\u001b[49m\n\u001b[1;32m   1101\u001b[0m \u001b[38;5;28;01mexcept\u001b[39;00m (\u001b[38;5;167;01mValueError\u001b[39;00m, \u001b[38;5;167;01mTypeError\u001b[39;00m, \u001b[38;5;167;01mAssertionError\u001b[39;00m) \u001b[38;5;28;01mas\u001b[39;00m exc:\n\u001b[1;32m   1102\u001b[0m     errors\u001b[38;5;241m.\u001b[39mappend(ErrorWrapper(exc, loc\u001b[38;5;241m=\u001b[39mROOT_KEY))\n",
      "File \u001b[0;32m~/Projects/Personal/ticket-washer/venv/lib/python3.11/site-packages/langchain_core/prompts/base.py:132\u001b[0m, in \u001b[0;36mBasePromptTemplate.validate_variable_names\u001b[0;34m(cls, values)\u001b[0m\n\u001b[1;32m    129\u001b[0m \u001b[38;5;129m@root_validator\u001b[39m()\n\u001b[1;32m    130\u001b[0m \u001b[38;5;28;01mdef\u001b[39;00m \u001b[38;5;21mvalidate_variable_names\u001b[39m(\u001b[38;5;28mcls\u001b[39m, values: Dict) \u001b[38;5;241m-\u001b[39m\u001b[38;5;241m>\u001b[39m Dict:\n\u001b[1;32m    131\u001b[0m \u001b[38;5;250m    \u001b[39m\u001b[38;5;124;03m\"\"\"Validate variable names do not include restricted names.\"\"\"\u001b[39;00m\n\u001b[0;32m--> 132\u001b[0m     \u001b[38;5;28;01mif\u001b[39;00m \u001b[38;5;124m\"\u001b[39m\u001b[38;5;124mstop\u001b[39m\u001b[38;5;124m\"\u001b[39m \u001b[38;5;129;01min\u001b[39;00m \u001b[43mvalues\u001b[49m\u001b[43m[\u001b[49m\u001b[38;5;124;43m\"\u001b[39;49m\u001b[38;5;124;43minput_variables\u001b[39;49m\u001b[38;5;124;43m\"\u001b[39;49m\u001b[43m]\u001b[49m:\n\u001b[1;32m    133\u001b[0m         \u001b[38;5;28;01mraise\u001b[39;00m \u001b[38;5;167;01mValueError\u001b[39;00m(\n\u001b[1;32m    134\u001b[0m             \u001b[38;5;124m\"\u001b[39m\u001b[38;5;124mCannot have an input variable named \u001b[39m\u001b[38;5;124m'\u001b[39m\u001b[38;5;124mstop\u001b[39m\u001b[38;5;124m'\u001b[39m\u001b[38;5;124m, as it is used internally,\u001b[39m\u001b[38;5;124m\"\u001b[39m\n\u001b[1;32m    135\u001b[0m             \u001b[38;5;124m\"\u001b[39m\u001b[38;5;124m please rename.\u001b[39m\u001b[38;5;124m\"\u001b[39m\n\u001b[1;32m    136\u001b[0m         )\n\u001b[1;32m    137\u001b[0m     \u001b[38;5;28;01mif\u001b[39;00m \u001b[38;5;124m\"\u001b[39m\u001b[38;5;124mstop\u001b[39m\u001b[38;5;124m\"\u001b[39m \u001b[38;5;129;01min\u001b[39;00m values[\u001b[38;5;124m\"\u001b[39m\u001b[38;5;124mpartial_variables\u001b[39m\u001b[38;5;124m\"\u001b[39m]:\n",
      "\u001b[0;31mKeyError\u001b[0m: 'input_variables'"
     ]
    }
   ],
   "source": [
    "# Analyze the email using langchain to extract the stage and summarize the next step owener and action\n",
    "prompt = PromptTemplate(\n",
    "    \"Analyze the email and extract the case number, stage, next step, owner, and action\"\n",
    ")\n",
    "\n",
    "response = llm.query(prompt)"
   ]
  },
  {
   "cell_type": "code",
   "execution_count": null,
   "metadata": {},
   "outputs": [],
   "source": []
  }
 ],
 "metadata": {
  "kernelspec": {
   "display_name": "venv",
   "language": "python",
   "name": "python3"
  },
  "language_info": {
   "codemirror_mode": {
    "name": "ipython",
    "version": 3
   },
   "file_extension": ".py",
   "mimetype": "text/x-python",
   "name": "python",
   "nbconvert_exporter": "python",
   "pygments_lexer": "ipython3",
   "version": "3.11.8"
  },
  "orig_nbformat": 4,
  "vscode": {
   "interpreter": {
    "hash": "1a9e5d6b0d4dbd8ed8ceb32b514c24b9c78cc6278424fcdbe963f0dd4f12f22e"
   }
  }
 },
 "nbformat": 4,
 "nbformat_minor": 2
}
