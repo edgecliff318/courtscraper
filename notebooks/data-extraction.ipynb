{
 "cells": [
  {
   "cell_type": "code",
   "execution_count": 1,
   "metadata": {},
   "outputs": [
    {
     "name": "stderr",
     "output_type": "stream",
     "text": [
      "/Users/aennassiri/Projects/Personal/ticket-washer/venv/lib/python3.11/site-packages/tqdm/auto.py:21: TqdmWarning: IProgress not found. Please update jupyter and ipywidgets. See https://ipywidgets.readthedocs.io/en/stable/user_install.html\n",
      "  from .autonotebook import tqdm as notebook_tqdm\n"
     ]
    }
   ],
   "source": [
    "from transformers import AutoModelForQuestionAnswering, AutoTokenizer, pipeline"
   ]
  },
  {
   "cell_type": "code",
   "execution_count": 2,
   "metadata": {},
   "outputs": [
    {
     "name": "stderr",
     "output_type": "stream",
     "text": [
      "config.json: 100%|██████████| 835/835 [00:00<00:00, 3.05MB/s]\n",
      "model.safetensors: 100%|██████████| 326M/326M [00:10<00:00, 31.6MB/s] \n",
      "tokenizer_config.json: 100%|██████████| 383/383 [00:00<00:00, 1.54MB/s]\n",
      "vocab.json: 100%|██████████| 798k/798k [00:00<00:00, 1.44MB/s]\n",
      "merges.txt: 100%|██████████| 456k/456k [00:00<00:00, 4.18MB/s]\n",
      "tokenizer.json: 100%|██████████| 1.36M/1.36M [00:00<00:00, 8.04MB/s]\n",
      "special_tokens_map.json: 100%|██████████| 239/239 [00:00<00:00, 1.19MB/s]\n"
     ]
    }
   ],
   "source": [
    "model_name = \"deepset/tinyroberta-squad2\"\n",
    "\n",
    "# a) Get predictions\n",
    "nlp = pipeline(\"question-answering\", model=model_name, tokenizer=model_name)\n",
    "QA_input = {\n",
    "    \"question\": \"Why is model conversion important?\",\n",
    "    \"context\": \"The option to convert models between FARM and transformers gives freedom to the user and let people easily switch between frameworks.\",\n",
    "}\n",
    "res = nlp(QA_input)\n",
    "\n",
    "# b) Load model & tokenizer\n",
    "model = AutoModelForQuestionAnswering.from_pretrained(model_name)\n",
    "tokenizer = AutoTokenizer.from_pretrained(model_name)"
   ]
  },
  {
   "cell_type": "code",
   "execution_count": 3,
   "metadata": {},
   "outputs": [
    {
     "data": {
      "text/plain": [
       "{'score': 0.2624483108520508,\n",
       " 'start': 59,\n",
       " 'end': 132,\n",
       " 'answer': 'gives freedom to the user and let people easily switch between frameworks'}"
      ]
     },
     "execution_count": 3,
     "metadata": {},
     "output_type": "execute_result"
    }
   ],
   "source": [
    "res"
   ]
  },
  {
   "cell_type": "code",
   "execution_count": 25,
   "metadata": {},
   "outputs": [],
   "source": [
    "record = \"5YV0B2Y||| IBRAHIM, MAI MUTASIM MOHAMEDELHADI Citation - Traffic 07/16/2024\\nDefendant Address:\\nIBRAHIM, MAI MUTASIM \\nMOHAMEDELHADI\\n20875 COSWORTH TER\\nSTERLING, VA 20165\\n\\nCharges:\\n1 - EXCEEDING POSTED MAXIMUM SPEED LIMIT: 79 MPH IN A POSTED 70 MPH ZONE\"\n",
    "\n",
    "record = record.replace(\"\\n\", \". \")\n",
    "\n",
    "QA_input = {\n",
    "    \"question\": \"What's the case id?\",\n",
    "    \"context\": record,\n",
    "}\n",
    "res = nlp(QA_input)"
   ]
  },
  {
   "cell_type": "code",
   "execution_count": 26,
   "metadata": {},
   "outputs": [
    {
     "data": {
      "text/plain": [
       "{'score': 0.00874770525842905,\n",
       " 'start': 135,\n",
       " 'end': 153,\n",
       " 'answer': '20875 COSWORTH TER'}"
      ]
     },
     "execution_count": 26,
     "metadata": {},
     "output_type": "execute_result"
    }
   ],
   "source": [
    "res"
   ]
  },
  {
   "cell_type": "code",
   "execution_count": null,
   "metadata": {},
   "outputs": [],
   "source": []
  },
  {
   "cell_type": "code",
   "execution_count": null,
   "metadata": {},
   "outputs": [],
   "source": []
  }
 ],
 "metadata": {
  "kernelspec": {
   "display_name": "venv",
   "language": "python",
   "name": "python3"
  },
  "language_info": {
   "codemirror_mode": {
    "name": "ipython",
    "version": 3
   },
   "file_extension": ".py",
   "mimetype": "text/x-python",
   "name": "python",
   "nbconvert_exporter": "python",
   "pygments_lexer": "ipython3",
   "version": "3.11.8"
  }
 },
 "nbformat": 4,
 "nbformat_minor": 2
}
