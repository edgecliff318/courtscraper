{
 "cells": [
  {
   "cell_type": "code",
   "execution_count": 1,
   "metadata": {},
   "outputs": [
    {
     "name": "stderr",
     "output_type": "stream",
     "text": [
      "/var/folders/c2/zqn3sbnd33j0_q_t7ss20yl40000gq/T/ipykernel_31466/1628142139.py:3: DeprecationWarning: \n",
      "Pyarrow will become a required dependency of pandas in the next major release of pandas (pandas 3.0),\n",
      "(to allow more performant data types, such as the Arrow string type, and better interoperability with other libraries)\n",
      "but was not found to be installed on your system.\n",
      "If this would cause problems for you,\n",
      "please provide us feedback at https://github.com/pandas-dev/pandas/issues/54466\n",
      "        \n",
      "  import pandas as pd\n"
     ]
    }
   ],
   "source": [
    "import sys\n",
    "import os\n",
    "import pandas as pd\n",
    "import datetime"
   ]
  },
  {
   "cell_type": "code",
   "execution_count": 2,
   "metadata": {},
   "outputs": [],
   "source": [
    "sys.path.append(\"..\")\n",
    "os.environ[\"ROOT_PATH\"] = \"/Users/yassine-elazrak/Fubloo.com/app\"\n",
    "os.environ[\"GOOGLE_APPLICATION_CREDENTIALS\"] = \"/Users/yassine-elazrak/Fubloo.com/app/configuration/fubloo-app-1f213ca274de.json\"\n"
   ]
  },
  {
   "cell_type": "code",
   "execution_count": 3,
   "metadata": {},
   "outputs": [],
   "source": [
    "from src.services.leads import get_last_lead"
   ]
  },
  {
   "cell_type": "code",
   "execution_count": 10,
   "metadata": {},
   "outputs": [],
   "source": [
    "leads_not_found = get_last_lead(\n",
    "    start_date=datetime.datetime(2024, 1, 1),\n",
    "    end_date=datetime.datetime(2024, 1, 2),\n",
    "    status=\"not_found\",\n",
    "    limit=100,\n",
    ")"
   ]
  },
  {
   "cell_type": "code",
   "execution_count": 11,
   "metadata": {},
   "outputs": [
    {
     "data": {
      "text/plain": [
       "(107, 34)"
      ]
     },
     "execution_count": 11,
     "metadata": {},
     "output_type": "execute_result"
    }
   ],
   "source": [
    "df = pd.DataFrame([lead.model_dump() for lead in leads_not_found ])\n",
    "df.shape"
   ]
  },
  {
   "cell_type": "code",
   "execution_count": 12,
   "metadata": {},
   "outputs": [],
   "source": [
    "df.to_csv(\"leads_not_found.csv\", index=False)"
   ]
  },
  {
   "cell_type": "code",
   "execution_count": 13,
   "metadata": {},
   "outputs": [
    {
     "data": {
      "text/plain": [
       "(107, 34)"
      ]
     },
     "execution_count": 13,
     "metadata": {},
     "output_type": "execute_result"
    }
   ],
   "source": [
    "df.shape"
   ]
  },
  {
   "cell_type": "code",
   "execution_count": 14,
   "metadata": {},
   "outputs": [
    {
     "data": {
      "text/plain": [
       "id                         107\n",
       "case_id                      0\n",
       "first_name                   0\n",
       "last_name                    0\n",
       "middle_name                 19\n",
       "court_code                   0\n",
       "age                          0\n",
       "year_of_birth                0\n",
       "email                       83\n",
       "phone                      107\n",
       "phones                     107\n",
       "address                    107\n",
       "city                        41\n",
       "state                       41\n",
       "zip_code                    41\n",
       "county                      41\n",
       "creation_date                0\n",
       "last_updated                 0\n",
       "case_date                    0\n",
       "status                       0\n",
       "source                      24\n",
       "charges_description          0\n",
       "disposed                     0\n",
       "carrier                    107\n",
       "notes                      107\n",
       "violation                  107\n",
       "court                      107\n",
       "accidentCheckbox             0\n",
       "commercialDriverLicence      0\n",
       "ticket_img                  84\n",
       "user_id                    107\n",
       "report                     107\n",
       "details                     83\n",
       "cloudtalk_upload             0\n",
       "dtype: int64"
      ]
     },
     "execution_count": 14,
     "metadata": {},
     "output_type": "execute_result"
    }
   ],
   "source": [
    "df.isna().sum()"
   ]
  },
  {
   "cell_type": "code",
   "execution_count": null,
   "metadata": {},
   "outputs": [],
   "source": []
  }
 ],
 "metadata": {
  "kernelspec": {
   "display_name": "venv",
   "language": "python",
   "name": "python3"
  },
  "language_info": {
   "codemirror_mode": {
    "name": "ipython",
    "version": 3
   },
   "file_extension": ".py",
   "mimetype": "text/x-python",
   "name": "python",
   "nbconvert_exporter": "python",
   "pygments_lexer": "ipython3",
   "version": "3.10.13"
  },
  "orig_nbformat": 4,
  "vscode": {
   "interpreter": {
    "hash": "1a9e5d6b0d4dbd8ed8ceb32b514c24b9c78cc6278424fcdbe963f0dd4f12f22e"
   }
  }
 },
 "nbformat": 4,
 "nbformat_minor": 2
}
