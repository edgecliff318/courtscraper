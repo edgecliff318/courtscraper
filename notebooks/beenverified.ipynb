{
 "cells": [
  {
   "cell_type": "code",
   "execution_count": 1,
   "metadata": {},
   "outputs": [],
   "source": [
    "from playwright.async_api import async_playwright\n",
    "from urllib import parse\n",
    "\n",
    "# Update python path to include the parent directory\n",
    "import os\n",
    "import sys\n",
    "import datetime\n",
    "from datetime import timedelta\n",
    "\n",
    "sys.path.append(\"..\")\n",
    "\n",
    "os.environ[\"ROOT_PATH\"] = \"/Users/aennassiri/projects/fubloo/app\"\n",
    "os.environ[\"GOOGLE_APPLICATION_CREDENTIALS\"] = (\n",
    "    \"/Users/aennassiri/projects/fubloo/app/configuration/fubloo-app-1f213ca274de.json\"\n",
    ")"
   ]
  },
  {
   "cell_type": "code",
   "execution_count": 2,
   "metadata": {},
   "outputs": [],
   "source": [
    "import requests\n",
    "\n",
    "import pandas as pd\n",
    "from src.services.leads import get_leads, get_last_lead, patch_lead"
   ]
  },
  {
   "cell_type": "markdown",
   "metadata": {},
   "source": [
    "## Define Variables\n"
   ]
  },
  {
   "cell_type": "code",
   "execution_count": 3,
   "metadata": {},
   "outputs": [],
   "source": [
    "LOGIN_PAGE_URL = \"https://www.beenverified.com/app/login\"\n",
    "HOME_PAGE_URL = \"https://www.beenverified.com/rf/dashboard\"\n",
    "REPORT_PAGE_URL = \"https://www.beenverified.com/api/v5/reports\"\n",
    "SEARCH_PAGE_URL = \"https://www.beenverified.com/rf/search/person\""
   ]
  },
  {
   "cell_type": "code",
   "execution_count": 4,
   "metadata": {},
   "outputs": [],
   "source": [
    "pw = await async_playwright().start()\n",
    "browser = await pw.chromium.launch(headless=False)\n",
    "\n"
   ]
  },
  {
   "cell_type": "code",
   "execution_count": 5,
   "metadata": {},
   "outputs": [
    {
     "data": {
      "text/plain": [
       "<Response url='https://www.beenverified.com/rf/dashboard' request=<Request url='https://www.beenverified.com/rf/dashboard' method='GET'>>"
      ]
     },
     "execution_count": 5,
     "metadata": {},
     "output_type": "execute_result"
    }
   ],
   "source": [
    "context = await browser.new_context(storage_state=\"playwright/.auth/state.json\")\n",
    "page =  await context.new_page()\n",
    "await page.goto(HOME_PAGE_URL)"
   ]
  },
  {
   "cell_type": "markdown",
   "metadata": {},
   "source": [
    "## Search for lead "
   ]
  },
  {
   "cell_type": "code",
   "execution_count": 6,
   "metadata": {},
   "outputs": [],
   "source": [
    "def build_search_url(\n",
    "    first_name,\n",
    "    last_name,\n",
    "    middle_name: str | None,\n",
    "    city: str | None = None,\n",
    "    state: str | None = None,\n",
    "    age: int | None = None,\n",
    "):\n",
    "    params = {}\n",
    "    if city:\n",
    "        params['city'] = city\n",
    "    if state:\n",
    "        params['state'] = state\n",
    "    if age:\n",
    "        params['age'] = age\n",
    "    if first_name:\n",
    "        params['fname'] = first_name\n",
    "    if last_name:\n",
    "        params['ln'] = last_name\n",
    "    if middle_name:\n",
    "        params['mn'] = middle_name\n",
    "    \n",
    "    url = parse.urlencode(params)\n",
    "    url = f\"{SEARCH_PAGE_URL}?{url}\"\n",
    "\n",
    "    return url"
   ]
  },
  {
   "cell_type": "markdown",
   "metadata": {},
   "source": [
    "# get top 5 users"
   ]
  },
  {
   "cell_type": "code",
   "execution_count": 7,
   "metadata": {},
   "outputs": [],
   "source": [
    "def score_of_leads(result, search_query):\n",
    "    score = 0\n",
    "\n",
    "    if search_query.get(\"first_name\").lower() not in result.lower() or search_query.get(\"last_name\").lower() not in result.lower() or \"deceased\" in result.lower():\n",
    "        score = -1\n",
    "        return score\n",
    "\n",
    "    score += result.lower().count(\"alias\")\n",
    "    score += result.lower().count(\"relatives\")\n",
    "    score += result.lower().count(search_query.get(\"city\").lower() if search_query.get(\"city\") else \"\")\n",
    "    score += result.lower().count(search_query.get(\"state\").lower() if search_query.get(\"state\") else \"\")\n",
    "    score += result.lower().count(search_query.get(\"age\").lower() if search_query.get(\"age\") else \"\")\n",
    "    score += result.lower().count(search_query.get(\"middle_name\").lower() if search_query.get(\"middle_name\") else \"\")\n",
    "\n",
    "    return score\n"
   ]
  },
  {
   "cell_type": "markdown",
   "metadata": {},
   "source": [
    "## Get info leasd"
   ]
  },
  {
   "cell_type": "code",
   "execution_count": 8,
   "metadata": {},
   "outputs": [],
   "source": [
    "async def open_report_popup(page, container_user):\n",
    "    async with page.expect_popup() as popup_info:\n",
    "        view_report = await container_user.query_selector(\".css-gnnc3j\")\n",
    "        await view_report.click()\n",
    "        new_page = await popup_info.value\n",
    "        return new_page\n"
   ]
  },
  {
   "cell_type": "code",
   "execution_count": 9,
   "metadata": {},
   "outputs": [],
   "source": [
    "async def open_report_page(page, container_user):\n",
    "    async with page.expect_popup() as popup_info:\n",
    "        view_report = await container_user.query_selector(\".css-gnnc3j\")\n",
    "        await view_report.click()\n",
    "        new_page = await popup_info.value\n",
    "        return new_page\n",
    "\n"
   ]
  },
  {
   "cell_type": "markdown",
   "metadata": {},
   "source": [
    "# Exetra information of the user"
   ]
  },
  {
   "cell_type": "code",
   "execution_count": 10,
   "metadata": {},
   "outputs": [],
   "source": [
    "async def extract_phone_numbers(page):\n",
    "    container_phone = await page.query_selector(\"#phone-numbers-section\")\n",
    "    phone_numbers = await container_phone.query_selector_all(\".css-1vugsqn\")\n",
    "    phone_numbers = [await phone_number.text_content() for phone_number in phone_numbers]\n",
    "    return phone_numbers\n",
    "\n",
    "\n"
   ]
  },
  {
   "cell_type": "code",
   "execution_count": 11,
   "metadata": {},
   "outputs": [],
   "source": [
    "async def extract_addresses(page):\n",
    "    addresses_list = []\n",
    "    container_address = await page.query_selector(\"#address-history-section\")\n",
    "    addresses = await container_address.query_selector_all(\".css-1q4wjho\")\n",
    "    for address in addresses:\n",
    "        address_fields = await address.query_selector_all(\".css-zv7ju9\")\n",
    "        addresses_txt = [await address_field.text_content() for address_field in address_fields]\n",
    "        addresses_list.append(' '.join(addresses_txt))\n",
    "        \n",
    "    return addresses_list\n",
    "\n"
   ]
  },
  {
   "cell_type": "code",
   "execution_count": 12,
   "metadata": {},
   "outputs": [],
   "source": [
    "async def extract_email_list(page):\n",
    "   \n",
    "    email_container = await page.query_selector(\"#email-section\")\n",
    "    email_elements = await email_container.query_selector_all(\".css-1vugsqn\")\n",
    "    email_list = [await email_element.text_content() for email_element in email_elements]\n",
    "    return email_list\n",
    "\n"
   ]
  },
  {
   "cell_type": "code",
   "execution_count": 13,
   "metadata": {},
   "outputs": [],
   "source": [
    "async def get_lead_info(new_page):\n",
    "    extra_phone_numbers = await extract_phone_numbers(new_page)  # noqa: F821\n",
    "    extra_addresses = await extract_addresses(new_page)\n",
    "    extra_emails = await extract_email_list(new_page)\n",
    "    return extra_phone_numbers, extra_addresses, extra_emails\n",
    "\n",
    "# extra_phone_numbers, extra_addresses, extra_emails = await get_lead_info(new_page)\n",
    "# extra_phone_numbers, extra_addresses, extra_emails\n",
    "\n",
    "    \n",
    "    \n",
    "    "
   ]
  },
  {
   "cell_type": "markdown",
   "metadata": {},
   "source": [
    "## Get info of the user"
   ]
  },
  {
   "cell_type": "code",
   "execution_count": 14,
   "metadata": {},
   "outputs": [],
   "source": [
    "# current from (314) 691-4319 to +13146914319\n",
    "def format_phone_number(phone_number):\n",
    "    output = (\n",
    "        phone_number.replace(\"(\", \"\")\n",
    "        .replace(\")\", \"\")\n",
    "        .replace(\" \", \"\")\n",
    "        .replace(\"-\", \"\")\n",
    "    )\n",
    "\n",
    "    if len(output) == 10:\n",
    "        return f\"+1{output}\"\n",
    "    else:\n",
    "        return output"
   ]
  },
  {
   "cell_type": "code",
   "execution_count": 15,
   "metadata": {},
   "outputs": [],
   "source": [
    "consecutive_timeouts = 0\n",
    "\n",
    "async def search_person(\n",
    "    first_name,\n",
    "    last_name,\n",
    "    middle_name,\n",
    "    age,\n",
    "    city=\"\",\n",
    "    state=\"\",\n",
    "    zip=\"\",\n",
    "    addressLine1=\"\",\n",
    "    addressLine2=\"\",\n",
    "):\n",
    "    global consecutive_timeouts\n",
    "    search_query = {\n",
    "        \"first_name\": str(first_name),\n",
    "        \"last_name\": str(last_name),\n",
    "        \"middle_name\": str(middle_name),\n",
    "        \"age\": str(age),\n",
    "        \"city\": str(city),\n",
    "        \"state\": str(state),\n",
    "        \"zip\": str(zip),\n",
    "        \"addressLine1\": str(addressLine1),\n",
    "        \"addressLine2\": str(addressLine2),\n",
    "        \n",
    "    }\n",
    "    # Triggering the search\n",
    "    url = build_search_url(\n",
    "        first_name, last_name, middle_name, city, state, age\n",
    "    )\n",
    "    await page.goto(url)\n",
    "\n",
    "    # Getting results\n",
    "    try:\n",
    "        await page.wait_for_selector(\".css-ts1zsd\")\n",
    "    except Exception as e:\n",
    "        print(\"Timeout\")\n",
    "        consecutive_timeouts += 1\n",
    "        if consecutive_timeouts > 20:\n",
    "            print(\"Too many timeouts\")\n",
    "            return\n",
    "        print(\"No leads found\")\n",
    "        return\n",
    "    container_results = await page.query_selector(\".css-ts1zsd\")\n",
    "    \n",
    "    if container_results is None: \n",
    "        print(\"No leads found\")\n",
    "        return\n",
    "    \n",
    "    try:\n",
    "        await container_results.wait_for_selector(\".css-1mvdt3q\")\n",
    "    except Exception as e:\n",
    "        print(\"Timeout\")\n",
    "        consecutive_timeouts += 1\n",
    "        if consecutive_timeouts > 20:\n",
    "            print(\"Too many timeouts\")\n",
    "            return\n",
    "        print(\"No leads found\")\n",
    "        return\n",
    "    \n",
    "    container_users = await container_results.query_selector_all(\n",
    "        \".css-1mvdt3q\"\n",
    "    )\n",
    "\n",
    "    consecutive_timeouts = 0\n",
    "\n",
    "    # Measure the score for each lead\n",
    "    max_score = -1\n",
    "    max_score_id = -1\n",
    "    for i, lead in enumerate(container_users):\n",
    "        results = await lead.text_content()\n",
    "        score = score_of_leads(results, search_query)\n",
    "        print(f\"Score of lead {i} is {score}\")\n",
    "        if score > max_score:\n",
    "            max_score = score\n",
    "            max_score_id = i\n",
    "\n",
    "    print(f\"Max score is {max_score} for lead {max_score_id}\")\n",
    "\n",
    "    if max_score < 0:\n",
    "        print(\"No leads found\")\n",
    "        return\n",
    "\n",
    "    # Extracting the leads\n",
    "    selected_lead = container_users[max_score_id]\n",
    "    text = await selected_lead.text_content()\n",
    "    print(text)\n",
    "\n",
    "    # Opening the report page\n",
    "    new_page = await open_report_page(page, selected_lead)\n",
    "    await new_page.wait_for_selector(\"#person-overview\", timeout=60000)\n",
    "\n",
    "    # Extracting the extra info\n",
    "    extra_phone_numbers, extra_addresses, extra_emails = await get_lead_info(new_page)\n",
    "    print(extra_phone_numbers, extra_addresses, extra_emails)\n",
    "\n",
    "    results = {\n",
    "        \"phone_numbers\": extra_phone_numbers,\n",
    "        \"addresses\": extra_addresses,\n",
    "        \"emails\": extra_emails\n",
    "    }\n",
    "\n",
    "    for p in context.pages[1:]:\n",
    "        await p.close()\n",
    "\n",
    "    return results"
   ]
  },
  {
   "cell_type": "code",
   "execution_count": 16,
   "metadata": {},
   "outputs": [],
   "source": [
    "today = datetime.datetime.now()"
   ]
  },
  {
   "cell_type": "code",
   "execution_count": 17,
   "metadata": {},
   "outputs": [
    {
     "name": "stderr",
     "output_type": "stream",
     "text": [
      "/Users/aennassiri/projects/fubloo/app/src/services/leads.py:145: UserWarning: Detected filter using positional arguments. Prefer using the 'filter' keyword argument instead.\n",
      "  leads_list = leads_list.where(\"case_date\", \">=\", start_date)\n",
      "/Users/aennassiri/projects/fubloo/app/src/services/leads.py:149: UserWarning: Detected filter using positional arguments. Prefer using the 'filter' keyword argument instead.\n",
      "  leads_list = leads_list.where(\"case_date\", \"<=\", end_date)\n",
      "/Users/aennassiri/projects/fubloo/app/src/services/leads.py:151: UserWarning: Detected filter using positional arguments. Prefer using the 'filter' keyword argument instead.\n",
      "  leads_list = leads_list.where(\"status\", \"==\", status)\n"
     ]
    },
    {
     "name": "stdout",
     "output_type": "stream",
     "text": [
      "Score of lead 0 is 6\n",
      "Score of lead 1 is 3\n",
      "Score of lead 2 is 8\n",
      "Score of lead 3 is 13\n",
      "Score of lead 4 is 11\n",
      "Score of lead 5 is 7\n",
      "Score of lead 6 is 3\n",
      "Score of lead 7 is 10\n",
      "Score of lead 8 is 11\n",
      "Score of lead 9 is 14\n",
      "Score of lead 10 is 3\n",
      "Score of lead 11 is 5\n",
      "Score of lead 12 is 5\n",
      "Score of lead 13 is 3\n",
      "Score of lead 14 is -1\n",
      "Score of lead 15 is -1\n",
      "Score of lead 16 is -1\n",
      "Score of lead 17 is -1\n",
      "Score of lead 18 is -1\n",
      "Score of lead 19 is -1\n",
      "Score of lead 20 is -1\n",
      "Score of lead 21 is -1\n",
      "Score of lead 22 is -1\n",
      "Score of lead 23 is -1\n",
      "Max score is 14 for lead 9\n",
      "Name matchSteven Moore, 79Kansas City, MOBornJan 1945AliasesSteve Eugene Moore, S MooreRelativesSarah E Moody, Beatrice E Moore, David Lee Moore, +2 MoreLocationsKansas City, MO • Springfield, MO • Ozark, MO • +2 moreView Person Report\n"
     ]
    },
    {
     "ename": "CancelledError",
     "evalue": "",
     "output_type": "error",
     "traceback": [
      "\u001b[0;31m---------------------------------------------------------------------------\u001b[0m",
      "\u001b[0;31mCancelledError\u001b[0m                            Traceback (most recent call last)",
      "Cell \u001b[0;32mIn[17], line 15\u001b[0m\n\u001b[1;32m     11\u001b[0m     page\u001b[38;5;241m.\u001b[39mwait_for_timeout(\u001b[38;5;241m100000\u001b[39m)\n\u001b[1;32m     13\u001b[0m lead\u001b[38;5;241m.\u001b[39mstate \u001b[38;5;241m=\u001b[39m lead\u001b[38;5;241m.\u001b[39mstate \u001b[38;5;129;01mor\u001b[39;00m \u001b[38;5;124m\"\u001b[39m\u001b[38;5;124mMO\u001b[39m\u001b[38;5;124m\"\u001b[39m\n\u001b[0;32m---> 15\u001b[0m results \u001b[38;5;241m=\u001b[39m \u001b[38;5;28;01mawait\u001b[39;00m search_person(\n\u001b[1;32m     16\u001b[0m     first_name\u001b[38;5;241m=\u001b[39mlead\u001b[38;5;241m.\u001b[39mfirst_name,\n\u001b[1;32m     17\u001b[0m     last_name\u001b[38;5;241m=\u001b[39mlead\u001b[38;5;241m.\u001b[39mlast_name,\n\u001b[1;32m     18\u001b[0m     middle_name\u001b[38;5;241m=\u001b[39mlead\u001b[38;5;241m.\u001b[39mmiddle_name,\n\u001b[1;32m     19\u001b[0m     age\u001b[38;5;241m=\u001b[39mlead\u001b[38;5;241m.\u001b[39mage,\n\u001b[1;32m     20\u001b[0m     city\u001b[38;5;241m=\u001b[39mlead\u001b[38;5;241m.\u001b[39mcity,\n\u001b[1;32m     21\u001b[0m     state\u001b[38;5;241m=\u001b[39mlead\u001b[38;5;241m.\u001b[39mstate,\n\u001b[1;32m     22\u001b[0m )\n\u001b[1;32m     24\u001b[0m \u001b[38;5;28;01mif\u001b[39;00m results:\n\u001b[1;32m     25\u001b[0m     details \u001b[38;5;241m=\u001b[39m {\n\u001b[1;32m     26\u001b[0m         \u001b[38;5;124m\"\u001b[39m\u001b[38;5;124mphones\u001b[39m\u001b[38;5;124m\"\u001b[39m: [format_phone_number(p) \u001b[38;5;28;01mfor\u001b[39;00m p \u001b[38;5;129;01min\u001b[39;00m results[\u001b[38;5;124m\"\u001b[39m\u001b[38;5;124mphone_numbers\u001b[39m\u001b[38;5;124m\"\u001b[39m]],\n\u001b[1;32m     27\u001b[0m         \u001b[38;5;124m\"\u001b[39m\u001b[38;5;124mphone\u001b[39m\u001b[38;5;124m\"\u001b[39m: {\n\u001b[0;32m   (...)\u001b[0m\n\u001b[1;32m     38\u001b[0m         \u001b[38;5;124m\"\u001b[39m\u001b[38;5;124mstatus\u001b[39m\u001b[38;5;124m\"\u001b[39m: \u001b[38;5;124m\"\u001b[39m\u001b[38;5;124mnot_contacted\u001b[39m\u001b[38;5;124m\"\u001b[39m,\n\u001b[1;32m     39\u001b[0m     }\n",
      "Cell \u001b[0;32mIn[15], line 91\u001b[0m, in \u001b[0;36msearch_person\u001b[0;34m(first_name, last_name, middle_name, age, city, state, zip, addressLine1, addressLine2)\u001b[0m\n\u001b[1;32m     89\u001b[0m \u001b[38;5;66;03m# Opening the report page\u001b[39;00m\n\u001b[1;32m     90\u001b[0m new_page \u001b[38;5;241m=\u001b[39m \u001b[38;5;28;01mawait\u001b[39;00m open_report_page(page, selected_lead)\n\u001b[0;32m---> 91\u001b[0m \u001b[38;5;28;01mawait\u001b[39;00m new_page\u001b[38;5;241m.\u001b[39mwait_for_selector(\u001b[38;5;124m\"\u001b[39m\u001b[38;5;124m#person-overview\u001b[39m\u001b[38;5;124m\"\u001b[39m, timeout\u001b[38;5;241m=\u001b[39m\u001b[38;5;241m60000\u001b[39m)\n\u001b[1;32m     93\u001b[0m \u001b[38;5;66;03m# Extracting the extra info\u001b[39;00m\n\u001b[1;32m     94\u001b[0m extra_phone_numbers, extra_addresses, extra_emails \u001b[38;5;241m=\u001b[39m \u001b[38;5;28;01mawait\u001b[39;00m get_lead_info(new_page)\n",
      "File \u001b[0;32m~/projects/fubloo/app/venv/lib/python3.11/site-packages/playwright/async_api/_generated.py:8314\u001b[0m, in \u001b[0;36mPage.wait_for_selector\u001b[0;34m(self, selector, timeout, state, strict)\u001b[0m\n\u001b[1;32m   8226\u001b[0m \u001b[38;5;28;01masync\u001b[39;00m \u001b[38;5;28;01mdef\u001b[39;00m \u001b[38;5;21mwait_for_selector\u001b[39m(\n\u001b[1;32m   8227\u001b[0m     \u001b[38;5;28mself\u001b[39m,\n\u001b[1;32m   8228\u001b[0m     selector: \u001b[38;5;28mstr\u001b[39m,\n\u001b[0;32m   (...)\u001b[0m\n\u001b[1;32m   8234\u001b[0m     strict: typing\u001b[38;5;241m.\u001b[39mOptional[\u001b[38;5;28mbool\u001b[39m] \u001b[38;5;241m=\u001b[39m \u001b[38;5;28;01mNone\u001b[39;00m\n\u001b[1;32m   8235\u001b[0m ) \u001b[38;5;241m-\u001b[39m\u001b[38;5;241m>\u001b[39m typing\u001b[38;5;241m.\u001b[39mOptional[\u001b[38;5;124m\"\u001b[39m\u001b[38;5;124mElementHandle\u001b[39m\u001b[38;5;124m\"\u001b[39m]:\n\u001b[1;32m   8236\u001b[0m \u001b[38;5;250m    \u001b[39m\u001b[38;5;124;03m\"\"\"Page.wait_for_selector\u001b[39;00m\n\u001b[1;32m   8237\u001b[0m \n\u001b[1;32m   8238\u001b[0m \u001b[38;5;124;03m    Returns when element specified by selector satisfies `state` option. Returns `null` if waiting for `hidden` or\u001b[39;00m\n\u001b[0;32m   (...)\u001b[0m\n\u001b[1;32m   8310\u001b[0m \u001b[38;5;124;03m    Union[ElementHandle, None]\u001b[39;00m\n\u001b[1;32m   8311\u001b[0m \u001b[38;5;124;03m    \"\"\"\u001b[39;00m\n\u001b[1;32m   8313\u001b[0m     \u001b[38;5;28;01mreturn\u001b[39;00m mapping\u001b[38;5;241m.\u001b[39mfrom_impl_nullable(\n\u001b[0;32m-> 8314\u001b[0m         \u001b[38;5;28;01mawait\u001b[39;00m \u001b[38;5;28mself\u001b[39m\u001b[38;5;241m.\u001b[39m_impl_obj\u001b[38;5;241m.\u001b[39mwait_for_selector(\n\u001b[1;32m   8315\u001b[0m             selector\u001b[38;5;241m=\u001b[39mselector, timeout\u001b[38;5;241m=\u001b[39mtimeout, state\u001b[38;5;241m=\u001b[39mstate, strict\u001b[38;5;241m=\u001b[39mstrict\n\u001b[1;32m   8316\u001b[0m         )\n\u001b[1;32m   8317\u001b[0m     )\n",
      "File \u001b[0;32m~/projects/fubloo/app/venv/lib/python3.11/site-packages/playwright/_impl/_page.py:348\u001b[0m, in \u001b[0;36mPage.wait_for_selector\u001b[0;34m(self, selector, timeout, state, strict)\u001b[0m\n\u001b[1;32m    341\u001b[0m \u001b[38;5;28;01masync\u001b[39;00m \u001b[38;5;28;01mdef\u001b[39;00m \u001b[38;5;21mwait_for_selector\u001b[39m(\n\u001b[1;32m    342\u001b[0m     \u001b[38;5;28mself\u001b[39m,\n\u001b[1;32m    343\u001b[0m     selector: \u001b[38;5;28mstr\u001b[39m,\n\u001b[0;32m   (...)\u001b[0m\n\u001b[1;32m    346\u001b[0m     strict: \u001b[38;5;28mbool\u001b[39m \u001b[38;5;241m=\u001b[39m \u001b[38;5;28;01mNone\u001b[39;00m,\n\u001b[1;32m    347\u001b[0m ) \u001b[38;5;241m-\u001b[39m\u001b[38;5;241m>\u001b[39m Optional[ElementHandle]:\n\u001b[0;32m--> 348\u001b[0m     \u001b[38;5;28;01mreturn\u001b[39;00m \u001b[38;5;28;01mawait\u001b[39;00m \u001b[38;5;28mself\u001b[39m\u001b[38;5;241m.\u001b[39m_main_frame\u001b[38;5;241m.\u001b[39mwait_for_selector(\u001b[38;5;241m*\u001b[39m\u001b[38;5;241m*\u001b[39mlocals_to_params(\u001b[38;5;28mlocals\u001b[39m()))\n",
      "File \u001b[0;32m~/projects/fubloo/app/venv/lib/python3.11/site-packages/playwright/_impl/_frame.py:317\u001b[0m, in \u001b[0;36mFrame.wait_for_selector\u001b[0;34m(self, selector, strict, timeout, state)\u001b[0m\n\u001b[1;32m    309\u001b[0m \u001b[38;5;28;01masync\u001b[39;00m \u001b[38;5;28;01mdef\u001b[39;00m \u001b[38;5;21mwait_for_selector\u001b[39m(\n\u001b[1;32m    310\u001b[0m     \u001b[38;5;28mself\u001b[39m,\n\u001b[1;32m    311\u001b[0m     selector: \u001b[38;5;28mstr\u001b[39m,\n\u001b[0;32m   (...)\u001b[0m\n\u001b[1;32m    314\u001b[0m     state: Literal[\u001b[38;5;124m\"\u001b[39m\u001b[38;5;124mattached\u001b[39m\u001b[38;5;124m\"\u001b[39m, \u001b[38;5;124m\"\u001b[39m\u001b[38;5;124mdetached\u001b[39m\u001b[38;5;124m\"\u001b[39m, \u001b[38;5;124m\"\u001b[39m\u001b[38;5;124mhidden\u001b[39m\u001b[38;5;124m\"\u001b[39m, \u001b[38;5;124m\"\u001b[39m\u001b[38;5;124mvisible\u001b[39m\u001b[38;5;124m\"\u001b[39m] \u001b[38;5;241m=\u001b[39m \u001b[38;5;28;01mNone\u001b[39;00m,\n\u001b[1;32m    315\u001b[0m ) \u001b[38;5;241m-\u001b[39m\u001b[38;5;241m>\u001b[39m Optional[ElementHandle]:\n\u001b[1;32m    316\u001b[0m     \u001b[38;5;28;01mreturn\u001b[39;00m from_nullable_channel(\n\u001b[0;32m--> 317\u001b[0m         \u001b[38;5;28;01mawait\u001b[39;00m \u001b[38;5;28mself\u001b[39m\u001b[38;5;241m.\u001b[39m_channel\u001b[38;5;241m.\u001b[39msend(\u001b[38;5;124m\"\u001b[39m\u001b[38;5;124mwaitForSelector\u001b[39m\u001b[38;5;124m\"\u001b[39m, locals_to_params(\u001b[38;5;28mlocals\u001b[39m()))\n\u001b[1;32m    318\u001b[0m     )\n",
      "File \u001b[0;32m~/projects/fubloo/app/venv/lib/python3.11/site-packages/playwright/_impl/_connection.py:62\u001b[0m, in \u001b[0;36mChannel.send\u001b[0;34m(self, method, params)\u001b[0m\n\u001b[1;32m     61\u001b[0m \u001b[38;5;28;01masync\u001b[39;00m \u001b[38;5;28;01mdef\u001b[39;00m \u001b[38;5;21msend\u001b[39m(\u001b[38;5;28mself\u001b[39m, method: \u001b[38;5;28mstr\u001b[39m, params: Dict \u001b[38;5;241m=\u001b[39m \u001b[38;5;28;01mNone\u001b[39;00m) \u001b[38;5;241m-\u001b[39m\u001b[38;5;241m>\u001b[39m Any:\n\u001b[0;32m---> 62\u001b[0m     \u001b[38;5;28;01mreturn\u001b[39;00m \u001b[38;5;28;01mawait\u001b[39;00m \u001b[38;5;28mself\u001b[39m\u001b[38;5;241m.\u001b[39m_connection\u001b[38;5;241m.\u001b[39mwrap_api_call(\n\u001b[1;32m     63\u001b[0m         \u001b[38;5;28;01mlambda\u001b[39;00m: \u001b[38;5;28mself\u001b[39m\u001b[38;5;241m.\u001b[39minner_send(method, params, \u001b[38;5;28;01mFalse\u001b[39;00m)\n\u001b[1;32m     64\u001b[0m     )\n",
      "File \u001b[0;32m~/projects/fubloo/app/venv/lib/python3.11/site-packages/playwright/_impl/_connection.py:492\u001b[0m, in \u001b[0;36mConnection.wrap_api_call\u001b[0;34m(self, cb, is_internal)\u001b[0m\n\u001b[1;32m    490\u001b[0m \u001b[38;5;28mself\u001b[39m\u001b[38;5;241m.\u001b[39m_api_zone\u001b[38;5;241m.\u001b[39mset(_extract_stack_trace_information_from_stack(st, is_internal))\n\u001b[1;32m    491\u001b[0m \u001b[38;5;28;01mtry\u001b[39;00m:\n\u001b[0;32m--> 492\u001b[0m     \u001b[38;5;28;01mreturn\u001b[39;00m \u001b[38;5;28;01mawait\u001b[39;00m cb()\n\u001b[1;32m    493\u001b[0m \u001b[38;5;28;01mfinally\u001b[39;00m:\n\u001b[1;32m    494\u001b[0m     \u001b[38;5;28mself\u001b[39m\u001b[38;5;241m.\u001b[39m_api_zone\u001b[38;5;241m.\u001b[39mset(\u001b[38;5;28;01mNone\u001b[39;00m)\n",
      "File \u001b[0;32m~/projects/fubloo/app/venv/lib/python3.11/site-packages/playwright/_impl/_connection.py:91\u001b[0m, in \u001b[0;36mChannel.inner_send\u001b[0;34m(self, method, params, return_as_dict)\u001b[0m\n\u001b[1;32m     89\u001b[0m     \u001b[38;5;28mself\u001b[39m\u001b[38;5;241m.\u001b[39m_connection\u001b[38;5;241m.\u001b[39m_error \u001b[38;5;241m=\u001b[39m \u001b[38;5;28;01mNone\u001b[39;00m\n\u001b[1;32m     90\u001b[0m     \u001b[38;5;28;01mraise\u001b[39;00m error\n\u001b[0;32m---> 91\u001b[0m done, _ \u001b[38;5;241m=\u001b[39m \u001b[38;5;28;01mawait\u001b[39;00m asyncio\u001b[38;5;241m.\u001b[39mwait(\n\u001b[1;32m     92\u001b[0m     {\n\u001b[1;32m     93\u001b[0m         \u001b[38;5;28mself\u001b[39m\u001b[38;5;241m.\u001b[39m_connection\u001b[38;5;241m.\u001b[39m_transport\u001b[38;5;241m.\u001b[39mon_error_future,\n\u001b[1;32m     94\u001b[0m         callback\u001b[38;5;241m.\u001b[39mfuture,\n\u001b[1;32m     95\u001b[0m     },\n\u001b[1;32m     96\u001b[0m     return_when\u001b[38;5;241m=\u001b[39masyncio\u001b[38;5;241m.\u001b[39mFIRST_COMPLETED,\n\u001b[1;32m     97\u001b[0m )\n\u001b[1;32m     98\u001b[0m \u001b[38;5;28;01mif\u001b[39;00m \u001b[38;5;129;01mnot\u001b[39;00m callback\u001b[38;5;241m.\u001b[39mfuture\u001b[38;5;241m.\u001b[39mdone():\n\u001b[1;32m     99\u001b[0m     callback\u001b[38;5;241m.\u001b[39mfuture\u001b[38;5;241m.\u001b[39mcancel()\n",
      "File \u001b[0;32m/opt/homebrew/Cellar/python@3.11/3.11.3/Frameworks/Python.framework/Versions/3.11/lib/python3.11/asyncio/tasks.py:418\u001b[0m, in \u001b[0;36mwait\u001b[0;34m(fs, timeout, return_when)\u001b[0m\n\u001b[1;32m    415\u001b[0m     \u001b[38;5;28;01mraise\u001b[39;00m \u001b[38;5;167;01mTypeError\u001b[39;00m(\u001b[38;5;124m\"\u001b[39m\u001b[38;5;124mPassing coroutines is forbidden, use tasks explicitly.\u001b[39m\u001b[38;5;124m\"\u001b[39m)\n\u001b[1;32m    417\u001b[0m loop \u001b[38;5;241m=\u001b[39m events\u001b[38;5;241m.\u001b[39mget_running_loop()\n\u001b[0;32m--> 418\u001b[0m \u001b[38;5;28;01mreturn\u001b[39;00m \u001b[38;5;28;01mawait\u001b[39;00m _wait(fs, timeout, return_when, loop)\n",
      "File \u001b[0;32m/opt/homebrew/Cellar/python@3.11/3.11.3/Frameworks/Python.framework/Versions/3.11/lib/python3.11/asyncio/tasks.py:525\u001b[0m, in \u001b[0;36m_wait\u001b[0;34m(fs, timeout, return_when, loop)\u001b[0m\n\u001b[1;32m    522\u001b[0m     f\u001b[38;5;241m.\u001b[39madd_done_callback(_on_completion)\n\u001b[1;32m    524\u001b[0m \u001b[38;5;28;01mtry\u001b[39;00m:\n\u001b[0;32m--> 525\u001b[0m     \u001b[38;5;28;01mawait\u001b[39;00m waiter\n\u001b[1;32m    526\u001b[0m \u001b[38;5;28;01mfinally\u001b[39;00m:\n\u001b[1;32m    527\u001b[0m     \u001b[38;5;28;01mif\u001b[39;00m timeout_handle \u001b[38;5;129;01mis\u001b[39;00m \u001b[38;5;129;01mnot\u001b[39;00m \u001b[38;5;28;01mNone\u001b[39;00m:\n",
      "\u001b[0;31mCancelledError\u001b[0m: "
     ]
    }
   ],
   "source": [
    "while True: \n",
    "    try:\n",
    "        lead = get_last_lead(\n",
    "            start_date=today - timedelta(days=14),\n",
    "            end_date=today + timedelta(days=1),\n",
    "            status=\"new\",\n",
    "            limit=1,\n",
    "        )\n",
    "        if lead is None:\n",
    "            print(\"No leads found. Waiting for new leads\")\n",
    "            page.wait_for_timeout(100000)\n",
    "\n",
    "        lead.state = lead.state or \"MO\"\n",
    "\n",
    "        results = await search_person(\n",
    "            first_name=lead.first_name,\n",
    "            last_name=lead.last_name,\n",
    "            middle_name=lead.middle_name,\n",
    "            age=lead.age,\n",
    "            city=lead.city,\n",
    "            state=lead.state,\n",
    "        )\n",
    "\n",
    "        if results:\n",
    "            details = {\n",
    "                \"phones\": [format_phone_number(p) for p in results[\"phone_numbers\"]],\n",
    "                \"phone\": {\n",
    "                    str(k): {\n",
    "                        \"phone\": format_phone_number(p),\n",
    "                    }\n",
    "                    for k, p in enumerate(results[\"phone_numbers\"])\n",
    "                },\n",
    "                \"emails\": results[\"emails\"],\n",
    "                \"report\": {\n",
    "                    \"addresses\": results[\"addresses\"],\n",
    "                },\n",
    "                \"lead_source\": \"beenverified\",\n",
    "                \"status\": \"not_contacted\",\n",
    "            }\n",
    "            patch_lead(case_id=lead.case_id, **details)\n",
    "\n",
    "        else:\n",
    "            patch_lead(case_id=lead.case_id, status=\"not_found\", lead_source=\"beenverified\")\n",
    "    except Exception as e:\n",
    "        page.wait_for_timeout(100000)"
   ]
  },
  {
   "cell_type": "code",
   "execution_count": null,
   "metadata": {},
   "outputs": [
    {
     "data": {
      "text/plain": [
       "'SOLIS-MARTINEZ__DAVID_39_02_18_2024'"
      ]
     },
     "execution_count": 56,
     "metadata": {},
     "output_type": "execute_result"
    }
   ],
   "source": [
    "lead.case_id"
   ]
  },
  {
   "cell_type": "code",
   "execution_count": null,
   "metadata": {},
   "outputs": [
    {
     "data": {
      "text/plain": [
       "{'phones': ['+12096060589', '+12098921814', '+15104819427', '+13034130557'],\n",
       " 'phone': {'0': {'phone': '+12096060589'},\n",
       "  '1': {'phone': '+12098921814'},\n",
       "  '2': {'phone': '+15104819427'},\n",
       "  '3': {'phone': '+13034130557'}},\n",
       " 'emails': ['karlasol1979@yahoo.com',\n",
       "  'larthatta@gmail.com',\n",
       "  'gulchera124000@yahoo.com'],\n",
       " 'report': {'addresses': ['1346 Pinto Way Patterson, CA 95363',\n",
       "   '1201 Yellowhammer Dr Patterson, CA 95363',\n",
       "   '3563 Franklin Ave Fremont, CA 94538',\n",
       "   '1674 E St Hayward, CA 94541',\n",
       "   '132 Paramatta Dr Patterson, CA 95363',\n",
       "   '15610 Via Granada San Lorenzo, CA 94580',\n",
       "   '606 Trout Creek Ln Patterson, CA 95363',\n",
       "   '15861 Hesperian Blvd San Lorenzo, CA 94580']},\n",
       " 'lead_source': 'beenverified',\n",
       " 'status': 'not_contacted'}"
      ]
     },
     "execution_count": 57,
     "metadata": {},
     "output_type": "execute_result"
    }
   ],
   "source": [
    "details"
   ]
  },
  {
   "cell_type": "code",
   "execution_count": null,
   "metadata": {},
   "outputs": [
    {
     "name": "stderr",
     "output_type": "stream",
     "text": [
      "/Users/aennassiri/Projects/tickettakedown/app/src/services/leads.py:145: UserWarning: Detected filter using positional arguments. Prefer using the 'filter' keyword argument instead.\n",
      "  leads_list = leads_list.where(\"case_date\", \">=\", start_date)\n",
      "/Users/aennassiri/Projects/tickettakedown/app/src/services/leads.py:149: UserWarning: Detected filter using positional arguments. Prefer using the 'filter' keyword argument instead.\n",
      "  leads_list = leads_list.where(\"case_date\", \"<=\", end_date)\n",
      "/Users/aennassiri/Projects/tickettakedown/app/src/services/leads.py:151: UserWarning: Detected filter using positional arguments. Prefer using the 'filter' keyword argument instead.\n",
      "  leads_list = leads_list.where(\"status\", \"==\", status)\n"
     ]
    }
   ],
   "source": [
    "lead = get_last_lead(\n",
    "    start_date=today - timedelta(days=7),\n",
    "    end_date=today + timedelta(days=1),\n",
    "    status=\"new\",\n",
    "    limit=1,\n",
    ")"
   ]
  },
  {
   "cell_type": "code",
   "execution_count": null,
   "metadata": {},
   "outputs": [],
   "source": [
    "await browser.close()\n",
    "await pw.stop()"
   ]
  },
  {
   "cell_type": "code",
   "execution_count": null,
   "metadata": {},
   "outputs": [
    {
     "data": {
      "text/plain": [
       "Lead(id=None, case_id='WATKINS__VINCENT_M_64_02_18_2024', first_name='VINCENT', last_name='WATKINS', middle_name='M', court_code='temp', age=64, year_of_birth=1960, email=None, phone=None, phones=None, address=None, city=None, state=None, zip_code=None, county=None, creation_date=datetime.datetime(2024, 2, 18, 23, 17, 56, 652086), last_updated=DatetimeWithNanoseconds(2024, 2, 18, 10, 1, 10, 749549, tzinfo=datetime.timezone.utc), case_date=datetime.datetime(2024, 2, 18, 0, 0, tzinfo=datetime.timezone.utc), status='new', source='mo_mshp', charges_description='1) FELONY DWI - HABITUAL 2) EXCEEDED POSTED SPEED LIMIT BY 16-19 MPH 3) OPERATE VEH ON HWY WITHOUT VALID LICENSE - 1ST OFFENSE', disposed=False, carrier=None, notes=None, violation=None, court=None, accidentCheckbox=False, commercialDriverLicence=False, ticket_img=None, user_id=None, report=None, details=None, lead_source=None, cloudtalk_upload=False)"
      ]
     },
     "execution_count": 35,
     "metadata": {},
     "output_type": "execute_result"
    }
   ],
   "source": [
    "lead"
   ]
  },
  {
   "cell_type": "code",
   "execution_count": null,
   "metadata": {},
   "outputs": [],
   "source": [
    "lead.state"
   ]
  },
  {
   "cell_type": "code",
   "execution_count": null,
   "metadata": {},
   "outputs": [],
   "source": []
  }
 ],
 "metadata": {
  "kernelspec": {
   "display_name": "fubloo",
   "language": "python",
   "name": "python3"
  },
  "language_info": {
   "codemirror_mode": {
    "name": "ipython",
    "version": 3
   },
   "file_extension": ".py",
   "mimetype": "text/x-python",
   "name": "python",
   "nbconvert_exporter": "python",
   "pygments_lexer": "ipython3",
   "version": "3.11.3"
  }
 },
 "nbformat": 4,
 "nbformat_minor": 2
}
