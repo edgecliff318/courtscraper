{
 "cells": [
  {
   "cell_type": "code",
   "execution_count": 1,
   "metadata": {},
   "outputs": [],
   "source": [
    "from playwright.async_api import async_playwright\n",
    "from urllib import parse\n",
    "\n",
    "# Update python path to include the parent directory\n",
    "import os\n",
    "import sys\n",
    "import datetime\n",
    "from datetime import timedelta\n",
    "\n",
    "sys.path.append(\"..\")\n",
    "\n",
    "os.environ[\"ROOT_PATH\"] = \"/Users/aennassiri/projects/fubloo/app\"\n",
    "os.environ[\"GOOGLE_APPLICATION_CREDENTIALS\"] = (\n",
    "    \"/Users/aennassiri/projects/fubloo/app/configuration/fubloo-app-1f213ca274de.json\"\n",
    ")"
   ]
  },
  {
   "cell_type": "code",
   "execution_count": 2,
   "metadata": {},
   "outputs": [],
   "source": [
    "import requests\n",
    "\n",
    "import pandas as pd\n",
    "from src.services.leads import get_leads, get_last_lead, patch_lead"
   ]
  },
  {
   "cell_type": "markdown",
   "metadata": {},
   "source": [
    "## Define Variables\n"
   ]
  },
  {
   "cell_type": "code",
   "execution_count": 3,
   "metadata": {},
   "outputs": [],
   "source": [
    "LOGIN_PAGE_URL = \"https://www.beenverified.com/app/login\"\n",
    "HOME_PAGE_URL = \"https://www.beenverified.com/rf/dashboard\"\n",
    "REPORT_PAGE_URL = \"https://www.beenverified.com/api/v5/reports\"\n",
    "SEARCH_PAGE_URL = \"https://www.beenverified.com/rf/search/person\""
   ]
  },
  {
   "cell_type": "code",
   "execution_count": 4,
   "metadata": {},
   "outputs": [],
   "source": [
    "pw = await async_playwright().start()\n",
    "browser = await pw.chromium.launch(headless=False)\n",
    "\n"
   ]
  },
  {
   "cell_type": "code",
   "execution_count": 5,
   "metadata": {},
   "outputs": [
    {
     "data": {
      "text/plain": [
       "<Response url='https://www.beenverified.com/rf/dashboard' request=<Request url='https://www.beenverified.com/rf/dashboard' method='GET'>>"
      ]
     },
     "execution_count": 5,
     "metadata": {},
     "output_type": "execute_result"
    }
   ],
   "source": [
    "context = await browser.new_context(storage_state=\"playwright/.auth/state.json\")\n",
    "page =  await context.new_page()\n",
    "await page.goto(HOME_PAGE_URL)"
   ]
  },
  {
   "cell_type": "markdown",
   "metadata": {},
   "source": [
    "## Search for lead "
   ]
  },
  {
   "cell_type": "code",
   "execution_count": 6,
   "metadata": {},
   "outputs": [],
   "source": [
    "def build_search_url(\n",
    "    first_name,\n",
    "    last_name,\n",
    "    middle_name: str | None,\n",
    "    city: str | None = None,\n",
    "    state: str | None = None,\n",
    "    age: int | None = None,\n",
    "):\n",
    "    params = {}\n",
    "    if city:\n",
    "        params['city'] = city\n",
    "    if state:\n",
    "        params['state'] = state\n",
    "    if age:\n",
    "        params['age'] = age\n",
    "    if first_name:\n",
    "        params['fname'] = first_name\n",
    "    if last_name:\n",
    "        params['ln'] = last_name\n",
    "    if middle_name:\n",
    "        params['mn'] = middle_name\n",
    "    \n",
    "    url = parse.urlencode(params)\n",
    "    url = f\"{SEARCH_PAGE_URL}?{url}\"\n",
    "\n",
    "    return url"
   ]
  },
  {
   "cell_type": "markdown",
   "metadata": {},
   "source": [
    "# get top 5 users"
   ]
  },
  {
   "cell_type": "code",
   "execution_count": 7,
   "metadata": {},
   "outputs": [],
   "source": [
    "def score_of_leads(result, search_query):\n",
    "    score = 0\n",
    "\n",
    "    if search_query.get(\"first_name\").lower() not in result.lower() or search_query.get(\"last_name\").lower() not in result.lower() or \"deceased\" in result.lower():\n",
    "        score = -1\n",
    "        return score\n",
    "\n",
    "    score += result.lower().count(\"alias\")\n",
    "    score += result.lower().count(\"relatives\")\n",
    "    score += result.lower().count(search_query.get(\"city\").lower() if search_query.get(\"city\") else \"\")\n",
    "    score += result.lower().count(search_query.get(\"state\").lower() if search_query.get(\"state\") else \"\")\n",
    "    score += result.lower().count(search_query.get(\"age\").lower() if search_query.get(\"age\") else \"\")\n",
    "    score += result.lower().count(search_query.get(\"middle_name\").lower() if search_query.get(\"middle_name\") else \"\")\n",
    "\n",
    "    return score\n"
   ]
  },
  {
   "cell_type": "markdown",
   "metadata": {},
   "source": [
    "## Get info leasd"
   ]
  },
  {
   "cell_type": "code",
   "execution_count": 8,
   "metadata": {},
   "outputs": [],
   "source": [
    "async def open_report_popup(page, container_user):\n",
    "    async with page.expect_popup() as popup_info:\n",
    "        view_report = await container_user.query_selector(\".css-gnnc3j\")\n",
    "        await view_report.click()\n",
    "        new_page = await popup_info.value\n",
    "        return new_page\n"
   ]
  },
  {
   "cell_type": "code",
   "execution_count": 9,
   "metadata": {},
   "outputs": [],
   "source": [
    "async def open_report_page(page, container_user):\n",
    "    async with page.expect_popup() as popup_info:\n",
    "        view_report = await container_user.query_selector(\".css-gnnc3j\")\n",
    "        await view_report.click()\n",
    "        new_page = await popup_info.value\n",
    "        return new_page\n",
    "\n"
   ]
  },
  {
   "cell_type": "markdown",
   "metadata": {},
   "source": [
    "# Exetra information of the user"
   ]
  },
  {
   "cell_type": "code",
   "execution_count": 10,
   "metadata": {},
   "outputs": [],
   "source": [
    "async def extract_phone_numbers(page):\n",
    "    container_phone = await page.query_selector(\"#phone-numbers-section\")\n",
    "    phone_numbers = await container_phone.query_selector_all(\".css-1vugsqn\")\n",
    "    phone_numbers = [await phone_number.text_content() for phone_number in phone_numbers]\n",
    "    return phone_numbers\n",
    "\n"
   ]
  },
  {
   "cell_type": "code",
   "execution_count": 11,
   "metadata": {},
   "outputs": [],
   "source": [
    "async def extract_addresses(page):\n",
    "    addresses_list = []\n",
    "    container_address = await page.query_selector(\"#address-history-section\")\n",
    "    addresses = await container_address.query_selector_all(\".css-1q4wjho\")\n",
    "    for address in addresses:\n",
    "        address_fields = await address.query_selector_all(\".css-zv7ju9\")\n",
    "        addresses_txt = [await address_field.text_content() for address_field in address_fields]\n",
    "        addresses_list.append(' '.join(addresses_txt))\n",
    "        \n",
    "    return addresses_list\n",
    "\n"
   ]
  },
  {
   "cell_type": "code",
   "execution_count": 12,
   "metadata": {},
   "outputs": [],
   "source": [
    "async def extract_email_list(page):\n",
    "   \n",
    "    email_container = await page.query_selector(\"#email-section\")\n",
    "    email_elements = await email_container.query_selector_all(\".css-1vugsqn\")\n",
    "    email_list = [await email_element.text_content() for email_element in email_elements]\n",
    "    return email_list\n",
    "\n"
   ]
  },
  {
   "cell_type": "code",
   "execution_count": 13,
   "metadata": {},
   "outputs": [],
   "source": [
    "async def get_lead_info(new_page):\n",
    "    extra_phone_numbers = await extract_phone_numbers(new_page)  # noqa: F821\n",
    "    extra_addresses = await extract_addresses(new_page)\n",
    "    extra_emails = await extract_email_list(new_page)\n",
    "    return extra_phone_numbers, extra_addresses, extra_emails\n",
    "\n",
    "# extra_phone_numbers, extra_addresses, extra_emails = await get_lead_info(new_page)\n",
    "# extra_phone_numbers, extra_addresses, extra_emails\n",
    "\n",
    "    \n",
    "    \n",
    "    "
   ]
  },
  {
   "cell_type": "markdown",
   "metadata": {},
   "source": [
    "## Get info of the user"
   ]
  },
  {
   "cell_type": "code",
   "execution_count": 14,
   "metadata": {},
   "outputs": [],
   "source": [
    "# current from (314) 691-4319 to +13146914319\n",
    "def format_phone_number(phone_number):\n",
    "    output = (\n",
    "        phone_number.replace(\"(\", \"\")\n",
    "        .replace(\")\", \"\")\n",
    "        .replace(\" \", \"\")\n",
    "        .replace(\"-\", \"\")\n",
    "    )\n",
    "\n",
    "    if len(output) == 10:\n",
    "        return f\"+1{output}\"\n",
    "    else:\n",
    "        return output"
   ]
  },
  {
   "cell_type": "code",
   "execution_count": 15,
   "metadata": {},
   "outputs": [],
   "source": [
    "consecutive_timeouts = 0\n",
    "\n",
    "async def search_person(\n",
    "    first_name,\n",
    "    last_name,\n",
    "    middle_name,\n",
    "    age,\n",
    "    city=\"\",\n",
    "    state=\"\",\n",
    "    zip=\"\",\n",
    "    addressLine1=\"\",\n",
    "    addressLine2=\"\",\n",
    "):\n",
    "    global consecutive_timeouts\n",
    "    search_query = {\n",
    "        \"first_name\": str(first_name),\n",
    "        \"last_name\": str(last_name),\n",
    "        \"middle_name\": str(middle_name),\n",
    "        \"age\": str(age),\n",
    "        \"city\": str(city),\n",
    "        \"state\": str(state),\n",
    "        \"zip\": str(zip),\n",
    "        \"addressLine1\": str(addressLine1),\n",
    "        \"addressLine2\": str(addressLine2),\n",
    "        \n",
    "    }\n",
    "    # Triggering the search\n",
    "    url = build_search_url(\n",
    "        first_name, last_name, middle_name, city, state, age\n",
    "    )\n",
    "    await page.goto(url)\n",
    "\n",
    "    # Getting results\n",
    "    try:\n",
    "        await page.wait_for_selector(\".css-ts1zsd\")\n",
    "    except Exception as e:\n",
    "        print(\"Timeout\")\n",
    "        consecutive_timeouts += 1\n",
    "        if consecutive_timeouts > 20:\n",
    "            print(\"Too many timeouts\")\n",
    "            return\n",
    "        print(\"No leads found\")\n",
    "        return\n",
    "    container_results = await page.query_selector(\".css-ts1zsd\")\n",
    "    \n",
    "    if container_results is None: \n",
    "        print(\"No leads found\")\n",
    "        return\n",
    "    \n",
    "    try:\n",
    "        await container_results.wait_for_selector(\".css-1mvdt3q\")\n",
    "    except Exception as e:\n",
    "        print(\"Timeout\")\n",
    "        consecutive_timeouts += 1\n",
    "        if consecutive_timeouts > 10:\n",
    "            print(\"Too many timeouts\")\n",
    "            return\n",
    "        print(\"No leads found\")\n",
    "        return\n",
    "    \n",
    "    container_users = await container_results.query_selector_all(\n",
    "        \".css-1mvdt3q\"\n",
    "    )\n",
    "\n",
    "    consecutive_timeouts = 0\n",
    "\n",
    "    # Measure the score for each lead\n",
    "    max_score = -1\n",
    "    max_score_id = -1\n",
    "    for i, lead in enumerate(container_users):\n",
    "        results = await lead.text_content()\n",
    "        score = score_of_leads(results, search_query)\n",
    "        print(f\"Score of lead {i} is {score}\")\n",
    "        if score > max_score:\n",
    "            max_score = score\n",
    "            max_score_id = i\n",
    "\n",
    "    print(f\"Max score is {max_score} for lead {max_score_id}\")\n",
    "\n",
    "    if max_score < 0:\n",
    "        print(\"No leads found\")\n",
    "        return\n",
    "\n",
    "    # Extracting the leads\n",
    "    selected_lead = container_users[max_score_id]\n",
    "    text = await selected_lead.text_content()\n",
    "    print(text)\n",
    "\n",
    "    # Opening the report page\n",
    "    new_page = await open_report_page(page, selected_lead)\n",
    "    await new_page.wait_for_selector(\"#person-overview\", timeout=60000)\n",
    "\n",
    "    # Extracting the extra info\n",
    "    extra_phone_numbers, extra_addresses, extra_emails = await get_lead_info(new_page)\n",
    "    print(extra_phone_numbers, extra_addresses, extra_emails)\n",
    "\n",
    "    results = {\n",
    "        \"phone_numbers\": extra_phone_numbers,\n",
    "        \"addresses\": extra_addresses,\n",
    "        \"emails\": extra_emails\n",
    "    }\n",
    "\n",
    "    for p in context.pages[1:]:\n",
    "        await p.close()\n",
    "\n",
    "    return results"
   ]
  },
  {
   "cell_type": "code",
   "execution_count": 16,
   "metadata": {},
   "outputs": [],
   "source": [
    "today = datetime.datetime.now()"
   ]
  },
  {
   "cell_type": "code",
   "execution_count": 17,
   "metadata": {},
   "outputs": [
    {
     "name": "stderr",
     "output_type": "stream",
     "text": [
      "/Users/aennassiri/projects/fubloo/app/src/services/leads.py:145: UserWarning: Detected filter using positional arguments. Prefer using the 'filter' keyword argument instead.\n",
      "  leads_list = leads_list.where(\"case_date\", \">=\", start_date)\n",
      "/Users/aennassiri/projects/fubloo/app/src/services/leads.py:149: UserWarning: Detected filter using positional arguments. Prefer using the 'filter' keyword argument instead.\n",
      "  leads_list = leads_list.where(\"case_date\", \"<=\", end_date)\n",
      "/Users/aennassiri/projects/fubloo/app/src/services/leads.py:151: UserWarning: Detected filter using positional arguments. Prefer using the 'filter' keyword argument instead.\n",
      "  leads_list = leads_list.where(\"status\", \"==\", status)\n"
     ]
    },
    {
     "name": "stdout",
     "output_type": "stream",
     "text": [
      "Score of lead 0 is 7\n",
      "Max score is 7 for lead 0\n",
      "Name matchCatherine R Munson, 34Kansas City, MOBornDec 1989AliasesCatherine R EuwerRelativesJerod R Euwer, Kelsey Nicole Euwer, Peggy A Euwer, +2 MoreLocationsKansas City, MO • Riverside, MOView Person Report\n",
      "['(816) 769-2536'] ['1304 123rd St Kansas City, MO 64165', '10043 Lister Ave Kansas City, MO 64156', '4937 High Dr Riverside, MO 64150', '600 73rd Ter Kansas City, MO 64118', '4936 High Dr Riverside, MO 64150'] []\n",
      "Score of lead 0 is 16\n",
      "Max score is 16 for lead 0\n",
      "Name matchMegan N Rice, 22Excelsior Springs, MOBornJun 2001RelativesJames Anthony Rice, Kelli Jo Rice, Sydney A RiceLocationsExcelsior Springs, MOView Person Report\n",
      "['(816) 503-1721'] ['940 Wornall Rd Excelsior Springs, MO 64024'] []\n",
      "Score of lead 0 is 5\n",
      "Score of lead 1 is 6\n",
      "Max score is 6 for lead 1\n",
      "Name matchJames Vernon Coe, 68Kansas City, MOBorn1956RelativesDennis Delbert Coe, Terri Lynn Coe, Lisa Marie SmithLocationsKansas City, MOView Person Report\n",
      "['(816) 452-3562'] ['3621 53rd St Kansas City, MO 64119', '317 Quincy Ave Kansas City, MO 64124'] []\n",
      "Score of lead 0 is 30\n",
      "Score of lead 1 is 22\n",
      "Score of lead 2 is 19\n",
      "Score of lead 3 is -1\n",
      "Score of lead 4 is -1\n",
      "Score of lead 5 is -1\n",
      "Score of lead 6 is -1\n",
      "Score of lead 7 is -1\n",
      "Score of lead 8 is -1\n",
      "Score of lead 9 is -1\n",
      "Score of lead 10 is -1\n",
      "Score of lead 11 is -1\n",
      "Score of lead 12 is -1\n",
      "Max score is 30 for lead 0\n",
      "Name matchChristina A Wells, 34Lake Saint Louis, MOBornFeb 1990AliasesChristina J Williams, Christina A WilliamsRelativesLisa M Kvislen, Olivia Simone Leonard, Delores E Wells, +2 MoreLocationsLake Saint Louis, MO • Clarksville, MO • Troy, MO • +1 moreView Person Report\n",
      "['(540) 722-1060'] ['3625 Liermann Ave Saint Louis, MO 63116', '520 College St Troy, MO 63379', '413 Bent Oak Dr Lake Saint Louis, MO 63367', '23940 Pike 265 Clarksville, MO 63336'] ['christinalyce@gmail.com', 'ljschob@yahoo.com', 'scott.smith17@cox.net']\n",
      "Score of lead 0 is 2\n",
      "Score of lead 1 is -1\n",
      "Score of lead 2 is -1\n",
      "Score of lead 3 is -1\n",
      "Score of lead 4 is -1\n",
      "Score of lead 5 is -1\n",
      "Score of lead 6 is -1\n",
      "Score of lead 7 is -1\n",
      "Score of lead 8 is -1\n",
      "Score of lead 9 is -1\n",
      "Score of lead 10 is -1\n",
      "Score of lead 11 is -1\n",
      "Score of lead 12 is -1\n",
      "Score of lead 13 is -1\n",
      "Score of lead 14 is -1\n",
      "Score of lead 15 is -1\n",
      "Score of lead 16 is -1\n",
      "Score of lead 17 is -1\n",
      "Score of lead 18 is -1\n",
      "Score of lead 19 is -1\n",
      "Score of lead 20 is -1\n",
      "Score of lead 21 is -1\n",
      "Score of lead 22 is -1\n",
      "Score of lead 23 is -1\n",
      "Score of lead 24 is -1\n",
      "Score of lead 25 is -1\n",
      "Score of lead 26 is -1\n",
      "Score of lead 27 is -1\n",
      "Score of lead 28 is -1\n",
      "Score of lead 29 is -1\n",
      "Score of lead 30 is -1\n",
      "Score of lead 31 is -1\n",
      "Score of lead 32 is -1\n",
      "Score of lead 33 is -1\n",
      "Max score is 2 for lead 0\n",
      "Name matchStas RussuClackamas, ORRelativesOlga V Budey, Kiara A Hoffman, Anastasiya V Pals, +2 MoreLocationsClackamas, OR • Portland, ORView Person Report\n",
      "['(503) 329-1401'] ['10291 Park Mountain Ln Clackamas, OR 97015', '12550 Rose Pkwy Portland, OR 97230', '10827 Mather Rd Clackamas, OR 97015'] []\n"
     ]
    }
   ],
   "source": [
    "from time import sleep\n",
    "\n",
    "sleep(1000)\n",
    "\n",
    "while True:  \n",
    "    try:\n",
    "        lead = get_last_lead(\n",
    "            start_date=today - timedelta(days=30),  \n",
    "            end_date=today + timedelta(days=1),\n",
    "            status=\"new\",\n",
    "            limit=1,\n",
    "        )\n",
    "\n",
    "        patch_lead(case_id=lead.case_id, status=\"processing\")\n",
    "\n",
    "        if lead is None:\n",
    "            print(\"No leads found. Waiting for new leads\")\n",
    "            page.wait_for_timeout(100000)\n",
    "\n",
    "        lead.state = lead.state or \"MO\"\n",
    "\n",
    "        results = await search_person(\n",
    "            first_name=lead.first_name,\n",
    "            last_name=lead.last_name,\n",
    "            middle_name=lead.middle_name,\n",
    "            age=lead.age,\n",
    "            city=lead.city,\n",
    "            state=lead.state,\n",
    "        )\n",
    "\n",
    "        if results:\n",
    "            details = {\n",
    "                \"phones\": [format_phone_number(p) for p in results[\"phone_numbers\"]],\n",
    "                \"phone\": {\n",
    "                    str(k): {\n",
    "                        \"phone\": format_phone_number(p),\n",
    "                    }\n",
    "                    for k, p in enumerate(results[\"phone_numbers\"])\n",
    "                },\n",
    "                \"emails\": results[\"emails\"],\n",
    "                \"report\": {\n",
    "                    \"addresses\": results[\"addresses\"],\n",
    "                },\n",
    "                \"lead_source\": \"beenverified\",\n",
    "                \"status\": \"not_contacted\",\n",
    "            }\n",
    "            patch_lead(case_id=lead.case_id, **details)\n",
    "            await page.wait_for_timeout(60000)\n",
    "        else:\n",
    "            patch_lead(case_id=lead.case_id, status=\"not_found\", lead_source=\"beenverified\")\n",
    "\n",
    "    except Exception as e:\n",
    "        await page.wait_for_timeout(100000)"
   ]
  },
  {
   "cell_type": "code",
   "execution_count": null,
   "metadata": {},
   "outputs": [
    {
     "name": "stderr",
     "output_type": "stream",
     "text": [
      "/Users/aennassiri/projects/fubloo/app/src/services/leads.py:145: UserWarning: Detected filter using positional arguments. Prefer using the 'filter' keyword argument instead.\n",
      "  leads_list = leads_list.where(\"case_date\", \">=\", start_date)\n",
      "/Users/aennassiri/projects/fubloo/app/src/services/leads.py:149: UserWarning: Detected filter using positional arguments. Prefer using the 'filter' keyword argument instead.\n",
      "  leads_list = leads_list.where(\"case_date\", \"<=\", end_date)\n",
      "/Users/aennassiri/projects/fubloo/app/src/services/leads.py:151: UserWarning: Detected filter using positional arguments. Prefer using the 'filter' keyword argument instead.\n",
      "  leads_list = leads_list.where(\"status\", \"==\", status)\n"
     ]
    }
   ],
   "source": [
    "lead = get_last_lead(\n",
    "    start_date=today - timedelta(days=14),\n",
    "    end_date=today + timedelta(days=1),\n",
    "    status=\"new\",\n",
    "    limit=1,\n",
    ")"
   ]
  },
  {
   "cell_type": "code",
   "execution_count": null,
   "metadata": {},
   "outputs": [],
   "source": [
    "lead"
   ]
  },
  {
   "cell_type": "code",
   "execution_count": null,
   "metadata": {},
   "outputs": [
    {
     "data": {
      "text/plain": [
       "'SOLIS-MARTINEZ__DAVID_39_02_18_2024'"
      ]
     },
     "execution_count": 56,
     "metadata": {},
     "output_type": "execute_result"
    }
   ],
   "source": [
    "lead.case_id"
   ]
  },
  {
   "cell_type": "code",
   "execution_count": null,
   "metadata": {},
   "outputs": [
    {
     "data": {
      "text/plain": [
       "{'phones': ['+12096060589', '+12098921814', '+15104819427', '+13034130557'],\n",
       " 'phone': {'0': {'phone': '+12096060589'},\n",
       "  '1': {'phone': '+12098921814'},\n",
       "  '2': {'phone': '+15104819427'},\n",
       "  '3': {'phone': '+13034130557'}},\n",
       " 'emails': ['karlasol1979@yahoo.com',\n",
       "  'larthatta@gmail.com',\n",
       "  'gulchera124000@yahoo.com'],\n",
       " 'report': {'addresses': ['1346 Pinto Way Patterson, CA 95363',\n",
       "   '1201 Yellowhammer Dr Patterson, CA 95363',\n",
       "   '3563 Franklin Ave Fremont, CA 94538',\n",
       "   '1674 E St Hayward, CA 94541',\n",
       "   '132 Paramatta Dr Patterson, CA 95363',\n",
       "   '15610 Via Granada San Lorenzo, CA 94580',\n",
       "   '606 Trout Creek Ln Patterson, CA 95363',\n",
       "   '15861 Hesperian Blvd San Lorenzo, CA 94580']},\n",
       " 'lead_source': 'beenverified',\n",
       " 'status': 'not_contacted'}"
      ]
     },
     "execution_count": 57,
     "metadata": {},
     "output_type": "execute_result"
    }
   ],
   "source": [
    "details"
   ]
  },
  {
   "cell_type": "code",
   "execution_count": null,
   "metadata": {},
   "outputs": [
    {
     "ename": "NameError",
     "evalue": "name 'today' is not defined",
     "output_type": "error",
     "traceback": [
      "\u001b[0;31m---------------------------------------------------------------------------\u001b[0m",
      "\u001b[0;31mNameError\u001b[0m                                 Traceback (most recent call last)",
      "Cell \u001b[0;32mIn[4], line 2\u001b[0m\n\u001b[1;32m      1\u001b[0m lead \u001b[38;5;241m=\u001b[39m get_last_lead(\n\u001b[0;32m----> 2\u001b[0m     start_date\u001b[38;5;241m=\u001b[39m\u001b[43mtoday\u001b[49m \u001b[38;5;241m-\u001b[39m timedelta(days\u001b[38;5;241m=\u001b[39m\u001b[38;5;241m7\u001b[39m),\n\u001b[1;32m      3\u001b[0m     end_date\u001b[38;5;241m=\u001b[39mtoday \u001b[38;5;241m+\u001b[39m timedelta(days\u001b[38;5;241m=\u001b[39m\u001b[38;5;241m1\u001b[39m),\n\u001b[1;32m      4\u001b[0m     status\u001b[38;5;241m=\u001b[39m\u001b[38;5;124m\"\u001b[39m\u001b[38;5;124mnew\u001b[39m\u001b[38;5;124m\"\u001b[39m,\n\u001b[1;32m      5\u001b[0m     limit\u001b[38;5;241m=\u001b[39m\u001b[38;5;241m1\u001b[39m,\n\u001b[1;32m      6\u001b[0m )\n",
      "\u001b[0;31mNameError\u001b[0m: name 'today' is not defined"
     ]
    }
   ],
   "source": [
    "lead = get_last_lead(\n",
    "    start_date=today - timedelta(days=7),\n",
    "    end_date=today + timedelta(days=1),\n",
    "    status=\"new\",\n",
    "    limit=1,\n",
    ")"
   ]
  },
  {
   "cell_type": "code",
   "execution_count": null,
   "metadata": {},
   "outputs": [],
   "source": [
    "await browser.close()\n",
    "await pw.stop()"
   ]
  },
  {
   "cell_type": "code",
   "execution_count": null,
   "metadata": {},
   "outputs": [
    {
     "data": {
      "text/plain": [
       "Lead(id=None, case_id='WATKINS__VINCENT_M_64_02_18_2024', first_name='VINCENT', last_name='WATKINS', middle_name='M', court_code='temp', age=64, year_of_birth=1960, email=None, phone=None, phones=None, address=None, city=None, state=None, zip_code=None, county=None, creation_date=datetime.datetime(2024, 2, 18, 23, 17, 56, 652086), last_updated=DatetimeWithNanoseconds(2024, 2, 18, 10, 1, 10, 749549, tzinfo=datetime.timezone.utc), case_date=datetime.datetime(2024, 2, 18, 0, 0, tzinfo=datetime.timezone.utc), status='new', source='mo_mshp', charges_description='1) FELONY DWI - HABITUAL 2) EXCEEDED POSTED SPEED LIMIT BY 16-19 MPH 3) OPERATE VEH ON HWY WITHOUT VALID LICENSE - 1ST OFFENSE', disposed=False, carrier=None, notes=None, violation=None, court=None, accidentCheckbox=False, commercialDriverLicence=False, ticket_img=None, user_id=None, report=None, details=None, lead_source=None, cloudtalk_upload=False)"
      ]
     },
     "execution_count": 35,
     "metadata": {},
     "output_type": "execute_result"
    }
   ],
   "source": [
    "lead"
   ]
  },
  {
   "cell_type": "code",
   "execution_count": null,
   "metadata": {},
   "outputs": [],
   "source": [
    "lead.state"
   ]
  },
  {
   "cell_type": "code",
   "execution_count": null,
   "metadata": {},
   "outputs": [],
   "source": []
  }
 ],
 "metadata": {
  "kernelspec": {
   "display_name": "fubloo",
   "language": "python",
   "name": "python3"
  },
  "language_info": {
   "codemirror_mode": {
    "name": "ipython",
    "version": 3
   },
   "file_extension": ".py",
   "mimetype": "text/x-python",
   "name": "python",
   "nbconvert_exporter": "python",
   "pygments_lexer": "ipython3",
   "version": "3.11.3"
  }
 },
 "nbformat": 4,
 "nbformat_minor": 2
}
