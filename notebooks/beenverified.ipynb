{
 "cells": [
  {
   "cell_type": "code",
   "execution_count": null,
   "metadata": {},
   "outputs": [],
   "source": [
    "from playwright.async_api import async_playwright\n",
    "import os\n",
    "import json\n"
   ]
  },
  {
   "cell_type": "markdown",
   "metadata": {},
   "source": [
    "## Define Variables\n"
   ]
  },
  {
   "cell_type": "code",
   "execution_count": null,
   "metadata": {},
   "outputs": [],
   "source": [
    "LOGIN_PAGE_URL = \"https://www.beenverified.com/app/login\"\n",
    "HOME_PAGE_URL = \"https://www.beenverified.com/rf/dashboard\"\n",
    "REPORT_PAGE_URL = \"https://www.beenverified.com/api/v5/reports\"\n",
    "SEARCH_PAGE_URL = \"https://www.beenverified.com/rf/search/person\""
   ]
  },
  {
   "cell_type": "code",
   "execution_count": null,
   "metadata": {},
   "outputs": [],
   "source": [
    "pw = await async_playwright().start()\n",
    "browser = await pw.chromium.launch(headless=False)\n",
    "\n"
   ]
  },
  {
   "cell_type": "code",
   "execution_count": null,
   "metadata": {},
   "outputs": [],
   "source": [
    "context = await browser.new_context(storage_state=\"playwright/.auth/state.json\")\n",
    "page =  await context.new_page()\n",
    "await page.goto(HOME_PAGE_URL)\n"
   ]
  },
  {
   "cell_type": "markdown",
   "metadata": {},
   "source": [
    "## Login"
   ]
  },
  {
   "cell_type": "code",
   "execution_count": null,
   "metadata": {},
   "outputs": [],
   "source": [
    "url  = \"https://www.beenverified.com/rf/search/person?age=&city=&fname=Samama&ln=Mahmud&mn=&state=All\"\n",
    "# url = \"https://www.beenverified.com/rf/search/person?age=&city=&fname=BRETT&ln=cox&mn=&state=\"\n",
    "await page.goto(url)"
   ]
  },
  {
   "cell_type": "code",
   "execution_count": null,
   "metadata": {},
   "outputs": [],
   "source": [
    "container_results = await page.query_selector(\".css-ts1zsd\")\n",
    "container_results"
   ]
  },
  {
   "cell_type": "code",
   "execution_count": null,
   "metadata": {},
   "outputs": [],
   "source": []
  },
  {
   "cell_type": "code",
   "execution_count": null,
   "metadata": {},
   "outputs": [],
   "source": [
    "#get the user container \n",
    "container_users = await container_results.query_selector_all(\".css-1mvdt3q\")\n",
    "container_users"
   ]
  },
  {
   "cell_type": "code",
   "execution_count": null,
   "metadata": {},
   "outputs": [],
   "source": [
    "container_user = container_users[0]\n",
    "container_user"
   ]
  },
  {
   "cell_type": "code",
   "execution_count": null,
   "metadata": {},
   "outputs": [],
   "source": [
    "txt = await container_user.text_content()"
   ]
  },
  {
   "cell_type": "code",
   "execution_count": null,
   "metadata": {},
   "outputs": [],
   "source": [
    "'Relatives' in txt"
   ]
  },
  {
   "cell_type": "code",
   "execution_count": null,
   "metadata": {},
   "outputs": [],
   "source": [
    "#go to the report page\n",
    "view_report = await container_user.query_selector(\".css-gnnc3j\")"
   ]
  },
  {
   "cell_type": "code",
   "execution_count": null,
   "metadata": {},
   "outputs": [],
   "source": [
    "view_report"
   ]
  },
  {
   "cell_type": "code",
   "execution_count": null,
   "metadata": {},
   "outputs": [],
   "source": [
    "# await view_report.click()"
   ]
  },
  {
   "cell_type": "code",
   "execution_count": null,
   "metadata": {},
   "outputs": [],
   "source": [
    "async with page.expect_popup() as popup_info:\n",
    "    view_report = await container_user.query_selector(\".css-gnnc3j\")\n",
    "    await view_report.click()# Replace with the actual button selector\n",
    "    new_page = await popup_info.value"
   ]
  },
  {
   "cell_type": "markdown",
   "metadata": {},
   "source": [
    "# get top 5 users"
   ]
  },
  {
   "cell_type": "code",
   "execution_count": null,
   "metadata": {},
   "outputs": [],
   "source": [
    "async def open_report_page(page, container_user):\n",
    "    async with page.expect_popup() as popup_info:\n",
    "        view_report = await container_user.query_selector(\".css-gnnc3j\")\n",
    "        await view_report.click()# Replace with the actual button selector\n",
    "        new_page = await popup_info.value\n",
    "        return new_page\n"
   ]
  },
  {
   "cell_type": "code",
   "execution_count": null,
   "metadata": {},
   "outputs": [],
   "source": [
    "new_page = await open_report_page(page, container_user)\n",
    "new_page.url"
   ]
  },
  {
   "cell_type": "markdown",
   "metadata": {},
   "source": [
    "# Exetra information of the user"
   ]
  },
  {
   "cell_type": "code",
   "execution_count": null,
   "metadata": {},
   "outputs": [],
   "source": [
    "async def extract_phone_numbers(page):\n",
    "    container_phone = await new_page.query_selector(\"#phone-numbers-section\")\n",
    "    phone_numbers = await container_phone.query_selector_all(\".css-1vugsqn\")\n",
    "    phone_numbers = [await phone_number.text_content() for phone_number in phone_numbers]\n",
    "    return phone_numbers\n",
    "\n",
    "await extract_phone_numbers(new_page)\n"
   ]
  },
  {
   "cell_type": "code",
   "execution_count": null,
   "metadata": {},
   "outputs": [],
   "source": [
    "async def extract_addresses(page):\n",
    "    addresses_list = []\n",
    "    container_address = await page.query_selector(\"#address-history-section\")\n",
    "    addresses = await container_address.query_selector_all(\".css-1q4wjho\")\n",
    "    for address in addresses:\n",
    "        address_fields = await address.query_selector_all(\".css-zv7ju9\")\n",
    "        addresses_txt = [await address_field.text_content() for address_field in address_fields]\n",
    "        addresses_list.append(' '.join(addresses_txt))\n",
    "        \n",
    "    return addresses_list\n",
    "\n",
    "await extract_addresses(new_page)\n"
   ]
  },
  {
   "cell_type": "code",
   "execution_count": null,
   "metadata": {},
   "outputs": [],
   "source": [
    "async def extract_email_list(page):\n",
    "    email_container = await page.query_selector(\"#email-section\")\n",
    "    email_elements = await email_container.query_selector_all(\".css-1vugsqn\")\n",
    "    email_list = [await email_element.text_content() for email_element in email_elements]\n",
    "    return email_list\n",
    "\n",
    "await extract_email_list(new_page)\n"
   ]
  },
  {
   "cell_type": "code",
   "execution_count": null,
   "metadata": {},
   "outputs": [],
   "source": [
    "async def get_lead_info(new_page):\n",
    "    extra_phone_numbers = await extract_phone_numbers(new_page)  # noqa: F821\n",
    "    extra_addresses = await extract_addresses(new_page)\n",
    "    extra_emails = await extract_email_list(new_page)\n",
    "    return extra_phone_numbers, extra_addresses, extra_emails\n",
    "\n",
    "extra_phone_numbers, extra_addresses, extra_emails = await get_lead_info(new_page)\n",
    "extra_phone_numbers, extra_addresses, extra_emails\n",
    "\n",
    "    \n",
    "    \n",
    "    "
   ]
  },
  {
   "cell_type": "code",
   "execution_count": null,
   "metadata": {},
   "outputs": [],
   "source": [
    "#phone number\n",
    "container_phone = await new_page.query_selector(\"#phone-numbers-section\")\n",
    "container_phone"
   ]
  },
  {
   "cell_type": "code",
   "execution_count": null,
   "metadata": {},
   "outputs": [],
   "source": [
    "#get the phone number .css-1vugsqn\n",
    "phone_numbers = await container_phone.query_selector_all(\".css-1vugsqn\")\n",
    "phone_numbers"
   ]
  },
  {
   "cell_type": "code",
   "execution_count": null,
   "metadata": {},
   "outputs": [],
   "source": [
    "for phone in phone_numbers:\n",
    "    print(await phone.text_content())\n"
   ]
  },
  {
   "cell_type": "code",
   "execution_count": null,
   "metadata": {},
   "outputs": [],
   "source": [
    "#email #email-section\n",
    "container_email = await new_page.query_selector(\"#email-section\")"
   ]
  },
  {
   "cell_type": "code",
   "execution_count": null,
   "metadata": {},
   "outputs": [],
   "source": [
    "# get the email .css-1vugsqn\n",
    "emails = await container_email.query_selector_all(\".css-1vugsqn\")\n",
    "emails"
   ]
  },
  {
   "cell_type": "code",
   "execution_count": null,
   "metadata": {},
   "outputs": [],
   "source": [
    "for email in emails:\n",
    "    print(await email.text_content())"
   ]
  },
  {
   "cell_type": "code",
   "execution_count": null,
   "metadata": {},
   "outputs": [],
   "source": [
    "#address\n",
    "container_address = await new_page.query_selector(\"#address-history-section\")\n",
    "container_address"
   ]
  },
  {
   "cell_type": "code",
   "execution_count": null,
   "metadata": {},
   "outputs": [],
   "source": [
    "addresses_cells = await container_address.query_selector_all(\".css-1q4wjho\")"
   ]
  },
  {
   "cell_type": "code",
   "execution_count": null,
   "metadata": {},
   "outputs": [],
   "source": [
    "addresse_cell = addresses_cells[0]\n",
    "addresse_cell"
   ]
  },
  {
   "cell_type": "code",
   "execution_count": null,
   "metadata": {},
   "outputs": [],
   "source": [
    "adress = await addresse_cell.query_selector_all(\".css-zv7ju9\")"
   ]
  },
  {
   "cell_type": "code",
   "execution_count": null,
   "metadata": {},
   "outputs": [],
   "source": [
    "for cell in adress:\n",
    "    print(await cell.text_content())"
   ]
  },
  {
   "cell_type": "code",
   "execution_count": null,
   "metadata": {},
   "outputs": [],
   "source": [
    "for addresse_cell in addresses_cells:\n",
    "    addresse = await addresse_cell.query_selector(\".css-zv7ju9\")\n",
    "    print(await addresse.text_content())"
   ]
  },
  {
   "cell_type": "code",
   "execution_count": null,
   "metadata": {},
   "outputs": [],
   "source": [
    "await addresse.text_content()"
   ]
  },
  {
   "cell_type": "code",
   "execution_count": null,
   "metadata": {},
   "outputs": [],
   "source": [
    "await new_page.close()"
   ]
  },
  {
   "cell_type": "code",
   "execution_count": null,
   "metadata": {},
   "outputs": [],
   "source": []
  },
  {
   "cell_type": "code",
   "execution_count": null,
   "metadata": {},
   "outputs": [],
   "source": []
  },
  {
   "cell_type": "code",
   "execution_count": null,
   "metadata": {},
   "outputs": [],
   "source": [
    "await browser.close()\n",
    "await pw.stop()"
   ]
  }
 ],
 "metadata": {
  "kernelspec": {
   "display_name": "fubloo",
   "language": "python",
   "name": "python3"
  },
  "language_info": {
   "codemirror_mode": {
    "name": "ipython",
    "version": 3
   },
   "file_extension": ".py",
   "mimetype": "text/x-python",
   "name": "python",
   "nbconvert_exporter": "python",
   "pygments_lexer": "ipython3",
   "version": "3.10.13"
  }
 },
 "nbformat": 4,
 "nbformat_minor": 2
}
