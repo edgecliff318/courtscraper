{
 "cells": [
  {
   "cell_type": "code",
   "execution_count": 115,
   "metadata": {},
   "outputs": [],
   "source": [
    "from playwright.async_api import async_playwright\n",
    "\n"
   ]
  },
  {
   "cell_type": "markdown",
   "metadata": {},
   "source": [
    "## Define Variables\n"
   ]
  },
  {
   "cell_type": "code",
   "execution_count": 116,
   "metadata": {},
   "outputs": [],
   "source": [
    "LOGIN_PAGE_URL = \"https://www.beenverified.com/app/login\"\n",
    "HOME_PAGE_URL = \"https://www.beenverified.com/rf/dashboard\"\n",
    "REPORT_PAGE_URL = \"https://www.beenverified.com/api/v5/reports\"\n",
    "SEARCH_PAGE_URL = \"https://www.beenverified.com/rf/search/person\""
   ]
  },
  {
   "cell_type": "code",
   "execution_count": 117,
   "metadata": {},
   "outputs": [],
   "source": [
    "pw = await async_playwright().start()\n",
    "browser = await pw.chromium.launch(headless=False)\n",
    "\n"
   ]
  },
  {
   "cell_type": "code",
   "execution_count": 118,
   "metadata": {},
   "outputs": [
    {
     "data": {
      "text/plain": [
       "<Response url='https://www.beenverified.com/rf/dashboard' request=<Request url='https://www.beenverified.com/rf/dashboard' method='GET'>>"
      ]
     },
     "execution_count": 118,
     "metadata": {},
     "output_type": "execute_result"
    }
   ],
   "source": [
    "context = await browser.new_context(storage_state=\"playwright/.auth/state.json\")\n",
    "page =  await context.new_page()\n",
    "await page.goto(HOME_PAGE_URL)\n"
   ]
  },
  {
   "cell_type": "markdown",
   "metadata": {},
   "source": [
    "## Search for lead "
   ]
  },
  {
   "cell_type": "code",
   "execution_count": 119,
   "metadata": {},
   "outputs": [],
   "source": [
    "def build_search_url(first_name, last_name, city: str | None = None, state :str | None = None, age: int | None = None):\n",
    "    url = f\"{SEARCH_PAGE_URL}?age={age}&city={city}&fname={first_name}&ln={last_name}&mn=&state={state}\"\n",
    "    return url\n"
   ]
  },
  {
   "cell_type": "code",
   "execution_count": 120,
   "metadata": {},
   "outputs": [
    {
     "data": {
      "text/plain": [
       "<Response url='https://www.beenverified.com/rf/search/person?age=None&city=&fname=Samama&ln=Mahmud&mn=&state=' request=<Request url='https://www.beenverified.com/rf/search/person?age=None&city=&fname=Samama&ln=Mahmud&mn=&state=' method='GET'>>"
      ]
     },
     "execution_count": 120,
     "metadata": {},
     "output_type": "execute_result"
    }
   ],
   "source": [
    "search_query = {\n",
    "    \"first_name\": \"Samama\",\n",
    "    \"last_name\": \"Mahmud\",\n",
    "    \"city\": \"\",\n",
    "    \"state\": \"\",\n",
    "    \"age\": None\n",
    "}\n",
    "\n",
    "url = build_search_url(search_query[\"first_name\"], search_query[\"last_name\"], search_query[\"city\"], search_query[\"state\"], search_query[\"age\"])\n",
    "await page.goto(url)"
   ]
  },
  {
   "cell_type": "markdown",
   "metadata": {},
   "source": [
    "# get top 5 users"
   ]
  },
  {
   "cell_type": "code",
   "execution_count": 137,
   "metadata": {},
   "outputs": [],
   "source": [
    "def score_of_leads(result, search_query):\n",
    "    score = 0\n",
    "\n",
    "    if search_query.get(\"first_name\").lower() not in result.lower() or search_query.get(\"last_name\").lower() not in result.lower() or \"deceased\" in result.lower():\n",
    "        score = -1\n",
    "        return score\n",
    "\n",
    "    score += result.lower().count(\"alias\")\n",
    "    score += result.lower().count(\"relatives\")\n",
    "    score += result.lower().count(search_query.get(\"city\").lower() if search_query.get(\"city\") else \"\")\n",
    "    score += result.lower().count(search_query.get(\"state\").lower() if search_query.get(\"state\") else \"\")\n",
    "    score += result.lower().count(search_query.get(\"age\").lower() if search_query.get(\"age\") else \"\")\n",
    "    score += result.lower().count(search_query.get(\"middle_name\").lower() if search_query.get(\"middle_name\") else \"\")\n",
    "\n",
    "    return score\n"
   ]
  },
  {
   "cell_type": "code",
   "execution_count": 122,
   "metadata": {},
   "outputs": [
    {
     "data": {
      "text/plain": [
       "<JSHandle preview=JSHandle@node>"
      ]
     },
     "execution_count": 122,
     "metadata": {},
     "output_type": "execute_result"
    }
   ],
   "source": [
    "container_results = await page.query_selector(\".css-ts1zsd\")\n",
    "container_results"
   ]
  },
  {
   "cell_type": "code",
   "execution_count": 123,
   "metadata": {},
   "outputs": [
    {
     "data": {
      "text/plain": [
       "1"
      ]
     },
     "execution_count": 123,
     "metadata": {},
     "output_type": "execute_result"
    }
   ],
   "source": [
    "container_users = await container_results.query_selector_all(\".css-1mvdt3q\")\n",
    "#len of leads matched\n",
    "len(container_users)"
   ]
  },
  {
   "cell_type": "markdown",
   "metadata": {},
   "source": [
    "## filter by score lead\n"
   ]
  },
  {
   "cell_type": "code",
   "execution_count": 133,
   "metadata": {},
   "outputs": [
    {
     "data": {
      "text/plain": [
       "'Name matchSamama B Mahmud, 28Morton Grove, ILBornJul 1995RelativesAbdullah Al Mahmud, Labiba B Mahmud, Sharif Mahmud, +2 MoreLocationsMorton Grove, IL • Milwaukee, WIView Person Report'"
      ]
     },
     "execution_count": 133,
     "metadata": {},
     "output_type": "execute_result"
    }
   ],
   "source": [
    "txt = await container_users[0].text_content()\n",
    "txt"
   ]
  },
  {
   "cell_type": "code",
   "execution_count": 138,
   "metadata": {},
   "outputs": [
    {
     "data": {
      "text/plain": [
       "741"
      ]
     },
     "execution_count": 138,
     "metadata": {},
     "output_type": "execute_result"
    }
   ],
   "source": [
    "#score of leads\n",
    "score_of_leads(txt, search_query)\n"
   ]
  },
  {
   "cell_type": "code",
   "execution_count": 139,
   "metadata": {},
   "outputs": [
    {
     "name": "stdout",
     "output_type": "stream",
     "text": [
      "Name matchSamama B Mahmud, 28Morton Grove, ILBornJul 1995RelativesAbdullah Al Mahmud, Labiba B Mahmud, Sharif Mahmud, +2 MoreLocationsMorton Grove, IL • Milwaukee, WIView Person Report\n",
      "----\n"
     ]
    }
   ],
   "source": [
    "for lead in container_users:\n",
    "    print(await lead.text_content())\n",
    "    print(\"----\")"
   ]
  },
  {
   "cell_type": "markdown",
   "metadata": {},
   "source": [
    "## Get info leasd"
   ]
  },
  {
   "cell_type": "code",
   "execution_count": 70,
   "metadata": {},
   "outputs": [],
   "source": [
    "async def open_report_popup(page, container_user):\n",
    "    async with page.expect_popup() as popup_info:\n",
    "        view_report = await container_user.query_selector(\".css-gnnc3j\")\n",
    "        await view_report.click()\n",
    "        new_page = await popup_info.value\n",
    "        return new_page\n"
   ]
  },
  {
   "cell_type": "code",
   "execution_count": 71,
   "metadata": {},
   "outputs": [],
   "source": [
    "async def open_report_page(page, container_user):\n",
    "    async with page.expect_popup() as popup_info:\n",
    "        view_report = await container_user.query_selector(\".css-gnnc3j\")\n",
    "        await view_report.click()\n",
    "        new_page = await popup_info.value\n",
    "        return new_page\n",
    "\n"
   ]
  },
  {
   "cell_type": "markdown",
   "metadata": {},
   "source": [
    "# Exetra information of the user"
   ]
  },
  {
   "cell_type": "code",
   "execution_count": 74,
   "metadata": {},
   "outputs": [],
   "source": [
    "async def extract_phone_numbers(page):\n",
    "    container_phone = await page.query_selector(\"#phone-numbers-section\")\n",
    "    phone_numbers = await container_phone.query_selector_all(\".css-1vugsqn\")\n",
    "    phone_numbers = [await phone_number.text_content() for phone_number in phone_numbers]\n",
    "    return phone_numbers\n",
    "\n",
    "\n"
   ]
  },
  {
   "cell_type": "code",
   "execution_count": 75,
   "metadata": {},
   "outputs": [],
   "source": [
    "async def extract_addresses(page):\n",
    "    addresses_list = []\n",
    "    container_address = await page.query_selector(\"#address-history-section\")\n",
    "    addresses = await container_address.query_selector_all(\".css-1q4wjho\")\n",
    "    for address in addresses:\n",
    "        address_fields = await address.query_selector_all(\".css-zv7ju9\")\n",
    "        addresses_txt = [await address_field.text_content() for address_field in address_fields]\n",
    "        addresses_list.append(' '.join(addresses_txt))\n",
    "        \n",
    "    return addresses_list\n",
    "\n"
   ]
  },
  {
   "cell_type": "code",
   "execution_count": 105,
   "metadata": {},
   "outputs": [],
   "source": [
    "async def extract_email_list(page):\n",
    "   \n",
    "    email_container = await page.query_selector(\"#email-section\")\n",
    "    email_elements = await email_container.query_selector_all(\".css-1vugsqn\")\n",
    "    email_list = [await email_element.text_content() for email_element in email_elements]\n",
    "    return email_list\n",
    "\n"
   ]
  },
  {
   "cell_type": "code",
   "execution_count": 109,
   "metadata": {},
   "outputs": [],
   "source": [
    "async def get_lead_info(new_page):\n",
    "    extra_phone_numbers = await extract_phone_numbers(new_page)  # noqa: F821\n",
    "    extra_addresses = await extract_addresses(new_page)\n",
    "    extra_emails = await extract_email_list(new_page)\n",
    "    return extra_phone_numbers, extra_addresses, extra_emails\n",
    "\n",
    "# extra_phone_numbers, extra_addresses, extra_emails = await get_lead_info(new_page)\n",
    "# extra_phone_numbers, extra_addresses, extra_emails\n",
    "\n",
    "    \n",
    "    \n",
    "    "
   ]
  },
  {
   "cell_type": "markdown",
   "metadata": {},
   "source": [
    "## Get info of the user"
   ]
  },
  {
   "cell_type": "code",
   "execution_count": 110,
   "metadata": {},
   "outputs": [
    {
     "name": "stdout",
     "output_type": "stream",
     "text": [
      "Name matchSamama B Mahmud, 28Morton Grove, ILBornJul 1995RelativesAbdullah Al Mahmud, Labiba B Mahmud, Sharif Mahmud, +2 MoreLocationsMorton Grove, IL • Milwaukee, WIView Person Report\n",
      "JSHandle@<button tabindex=\"0\" type=\"button\" class=\"MuiButtonBase-…>…</button>\n",
      "['(847) 521-9814', '(847) 581-0171'] ['5808 Keeney St Morton Grove, IL 60053', '811 22nd St Apt 11 Milwaukee, WI 53233'] ['samamamahmud17@gmail.com', 'samamamahmud@yahoo.com', 'samama.mahmud@marquette.edu']\n",
      "----\n"
     ]
    }
   ],
   "source": [
    "for lead in container_users:\n",
    "    print(await lead.text_content())\n",
    "    new_page = await open_report_page(page, lead)\n",
    "    await new_page.wait_for_selector(\"#person-overview\")\n",
    "    extra_phone_numbers, extra_addresses, extra_emails = await get_lead_info(new_page)\n",
    "    print(extra_phone_numbers, extra_addresses, extra_emails)\n",
    "    print(\"----\")\n",
    "    # await new_page.close()"
   ]
  },
  {
   "cell_type": "code",
   "execution_count": 102,
   "metadata": {},
   "outputs": [
    {
     "name": "stdout",
     "output_type": "stream",
     "text": [
      "['(847) 521-9814', '(847) 581-0171'] ['5808 Keeney St Morton Grove, IL 60053', '811 22nd St Apt 11 Milwaukee, WI 53233'] ['samamamahmud17@gmail.com', 'samamamahmud@yahoo.com', 'samama.mahmud@marquette.edu']\n"
     ]
    }
   ],
   "source": [
    "extra_phone_numbers, extra_addresses, extra_emails = await get_lead_info(new_page)\n",
    "print(extra_phone_numbers, extra_addresses, extra_emails)"
   ]
  },
  {
   "cell_type": "code",
   "execution_count": 112,
   "metadata": {},
   "outputs": [],
   "source": [
    "await new_page.close()"
   ]
  },
  {
   "cell_type": "code",
   "execution_count": 113,
   "metadata": {},
   "outputs": [],
   "source": [
    "await browser.close()\n",
    "await pw.stop()"
   ]
  }
 ],
 "metadata": {
  "kernelspec": {
   "display_name": "fubloo",
   "language": "python",
   "name": "python3"
  },
  "language_info": {
   "codemirror_mode": {
    "name": "ipython",
    "version": 3
   },
   "file_extension": ".py",
   "mimetype": "text/x-python",
   "name": "python",
   "nbconvert_exporter": "python",
   "pygments_lexer": "ipython3",
   "version": "3.10.13"
  }
 },
 "nbformat": 4,
 "nbformat_minor": 2
}
