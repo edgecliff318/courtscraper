{
 "cells": [
  {
   "cell_type": "code",
   "execution_count": 1,
   "metadata": {},
   "outputs": [],
   "source": [
    "from playwright.async_api import async_playwright\n",
    "\n",
    "# Update python path to include the parent directory\n",
    "import os\n",
    "import sys\n",
    "import re\n",
    "\n",
    "# Update python path to include the parent directory\n",
    "import os\n",
    "import sys\n",
    "import datetime\n",
    "from datetime import timedelta\n",
    "\n",
    "from rich.console import Console\n",
    "\n",
    "console = Console()\n",
    "\n",
    "sys.path.append(\"..\")\n",
    "\n",
    "os.environ[\"ROOT_PATH\"] = \"/Users/aennassiri/Projects/Personal/ticket-washer\"\n",
    "os.environ[\"GOOGLE_APPLICATION_CREDENTIALS\"] = (\n",
    "    \"/Users/aennassiri/Projects/Personal/ticket-washer/configuration/fubloo-app-1f213ca274de.json\"\n",
    ")"
   ]
  },
  {
   "cell_type": "code",
   "execution_count": 2,
   "metadata": {},
   "outputs": [],
   "source": [
    "import requests\n",
    "\n",
    "import pandas as pd\n",
    "from src.services.leads import get_leads, get_last_lead, patch_lead\n",
    "from src.services.leads import (\n",
    "    get_leads,\n",
    "    get_last_lead,\n",
    "    patch_lead,\n",
    "    LeadsService,\n",
    ")\n",
    "from src.services.cases import get_single_case\n",
    "from src.models import Lead, Case\n",
    "\n",
    "leads_service = LeadsService()"
   ]
  },
  {
   "cell_type": "markdown",
   "metadata": {},
   "source": []
  },
  {
   "cell_type": "markdown",
   "metadata": {},
   "source": []
  },
  {
   "cell_type": "markdown",
   "metadata": {},
   "source": [
    "## Define Variables\n"
   ]
  },
  {
   "cell_type": "code",
   "execution_count": 3,
   "metadata": {},
   "outputs": [],
   "source": [
    "HOME_PAGE_URL = \"https://riskmanagement.lexisnexis.com/app/bps/misc#\""
   ]
  },
  {
   "cell_type": "code",
   "execution_count": 4,
   "metadata": {},
   "outputs": [],
   "source": [
    "pw = await async_playwright().start()\n",
    "browser = await pw.chromium.launch(headless=False, args=[\"--proxy-server=socks5://localhost:9090\"])\n",
    "context = await browser.new_context(\n",
    "        storage_state=\"playwright/.auth/lexis.json\"\n",
    "    )\n"
   ]
  },
  {
   "cell_type": "code",
   "execution_count": 5,
   "metadata": {},
   "outputs": [],
   "source": [
    "async def close_tabs(page):\n",
    "    # Close all the opened tabs button with class remove-tab except the last one\n",
    "    elements = (\n",
    "        await page.get_by_role(\"button\").all()\n",
    "    )\n",
    "\n",
    "    async def get_aria_label(elem):\n",
    "        label = await elem.get_attribute(\"aria-label\")\n",
    "        if label is None:\n",
    "            label = \"\"\n",
    "        return label.lower()\n",
    "\n",
    "    tabs_to_close = [\n",
    "        elem\n",
    "        for elem in elements\n",
    "        if \"close tab\" in await get_aria_label(elem)\n",
    "    ]\n",
    "    if len(tabs_to_close) > 1:\n",
    "        for elem in tabs_to_close[:-1]:\n",
    "            try:\n",
    "                console.log(\"Closing tab\")\n",
    "                await elem.click()\n",
    "                await page.wait_for_timeout(1000)\n",
    "            except:\n",
    "                pass"
   ]
  },
  {
   "cell_type": "code",
   "execution_count": 6,
   "metadata": {},
   "outputs": [],
   "source": [
    "async def search_person(\n",
    "    first_name,\n",
    "    last_name,\n",
    "    middle_name=\"\",\n",
    "    dob=\"\",\n",
    "    city=\"\",\n",
    "    state=\"\",\n",
    "    zip=\"\",\n",
    "    address_line1=\"\",\n",
    "    address_line2=\"\",\n",
    "):\n",
    "\n",
    "    page = await context.new_page()\n",
    "    await page.goto(HOME_PAGE_URL)\n",
    "    # Click on the a link with the attr data-event=\"SEARCH2/SHOW_PHONE_FINDER\"\n",
    "    element = page.get_by_role(\"link\").and_(page.get_by_text(\"Phone Finder\"))\n",
    "    await element.click()\n",
    "\n",
    "    # Wait 5 seconds\n",
    "    await page.wait_for_timeout(5000)\n",
    "\n",
    "    # Close all the opened tabs button with class remove-tab except the last one\n",
    "    await close_tabs(page)\n",
    "\n",
    "    # Fill the form LAST_NAME, FIRST_NAME, MI, STREET_ADDRESS, CITY, STATE, ZIP\n",
    "    await page.fill(\"input[name=LAST_NAME]\", last_name)\n",
    "    await page.fill(\"input[name=FIRST_NAME]\", first_name)\n",
    "    await page.fill(\"input[name=MI]\", middle_name)\n",
    "    await page.fill(\"input[name=STREET_ADDRESS]\", address_line1)\n",
    "    await page.fill(\"input[name=CITY]\", city)\n",
    "    # State is a dropdown\n",
    "    await page.select_option(\"select[name=STATE]\", state)\n",
    "    await page.fill(\"input[name=ZIP]\", zip)\n",
    "\n",
    "    # Select radio PHONE_FINDER_TYPE_B\n",
    "    element = await page.get_by_role(\"radio\").all()\n",
    "    for elem in element:\n",
    "        value = await elem.get_attribute(\"id\")\n",
    "        if value == \"PHONE_FINDER_TYPE_B\":\n",
    "            await elem.click()\n",
    "\n",
    "    # Click on the search button\n",
    "    # Find in the element with id = portal-search-buttons\n",
    "    section = page.locator(\"#portal-search-buttons\")\n",
    "    # Find the button with the text \"Search\"\n",
    "    element = section.get_by_text(\"Search\")\n",
    "    await element.click()\n",
    "\n",
    "    # Await until this elements is visible search-results-row\n",
    "\n",
    "    # Await 30 seconds\n",
    "    await page.wait_for_timeout(5000)\n",
    "\n",
    "    # Find the button download <button type=\"button\" data-placement=\"bottom\" class=\"btn btn-secondary btn-sm download-icon svg-icon-tiny print-download-dialog\" aria-label=\"Download Results\" data-original-title=\"Download Results\" data-download-active-tab=\"767ae742d9f0307032ce888306d2555c\" data-tab_id=\"767ae742d9f0307032ce888306d2555c\" data-type=\"download\"></button>\n",
    "\n",
    "    text = await page.get_by_text(\"No documents were found for your search terms.\").all()\n",
    "\n",
    "    if len(text) > 0:\n",
    "        await page.close()\n",
    "        console.log(\"No documents were found for your search terms.\")\n",
    "        return None\n",
    "\n",
    "    # Click on the download button\n",
    "    element = await page.locator(\"button[data-type=download]\").all()\n",
    "    for elem in element:\n",
    "        await elem.click()\n",
    "        break\n",
    "\n",
    "    # Wqit 5 seconds\n",
    "    await page.wait_for_timeout(5000)\n",
    "    # Select from the dropdown with id DOWNLOAD_FORMAT the option download_format_html\n",
    "    element = page.locator(\"select#DOWNLOAD_FORMAT\").first\n",
    "    await element.select_option(\"HTML\")\n",
    "\n",
    "    async with page.expect_download() as download_info:\n",
    "        element = page.locator(\"button.start-verify-print-download\").first\n",
    "        await element.click()\n",
    "\n",
    "    download = await download_info.value\n",
    "    await download.save_as(\"temp/\" + download.suggested_filename)\n",
    "\n",
    "    # Read the file with filereader\n",
    "    with open(\"temp/\" + download.suggested_filename, \"r\") as file:\n",
    "        data = file.read()\n",
    "\n",
    "    # Close the page\n",
    "\n",
    "    # Extract with re phone numbers with the format 123-456-7890\n",
    "\n",
    "    phones = re.findall(r\"\\d{3}-\\d{3}-\\d{4}\", data)\n",
    "\n",
    "    phones = [\n",
    "        f\"+1{p.replace('-', '')}\"\n",
    "        for p in\n",
    "        set(phones)\n",
    "        ]\n",
    "\n",
    "    details = {\n",
    "        \"phones\": phones,\n",
    "        \"phone\": {\n",
    "            str(k): {\n",
    "                \"phone\": p,\n",
    "            }\n",
    "            for k, p in enumerate(phones)\n",
    "        },\n",
    "        \"email\": None,\n",
    "        \"report\": {\"data\": data},\n",
    "        \"lead_source\": \"lexis_nexis_phone_finder\",\n",
    "    }\n",
    "\n",
    "    await page.close()\n",
    "\n",
    "    return details"
   ]
  },
  {
   "cell_type": "code",
   "execution_count": 7,
   "metadata": {},
   "outputs": [
    {
     "name": "stderr",
     "output_type": "stream",
     "text": [
      "/Users/aennassiri/Projects/Personal/ticket-washer/src/services/leads.py:145: UserWarning: Detected filter using positional arguments. Prefer using the 'filter' keyword argument instead.\n",
      "  leads_list = leads_list.where(\"case_date\", \">=\", start_date)\n",
      "/Users/aennassiri/Projects/Personal/ticket-washer/src/services/leads.py:149: UserWarning: Detected filter using positional arguments. Prefer using the 'filter' keyword argument instead.\n",
      "  leads_list = leads_list.where(\"case_date\", \"<=\", end_date)\n",
      "/Users/aennassiri/Projects/Personal/ticket-washer/src/services/leads.py:151: UserWarning: Detected filter using positional arguments. Prefer using the 'filter' keyword argument instead.\n",
      "  leads_list = leads_list.where(\"status\", \"==\", status)\n"
     ]
    },
    {
     "data": {
      "text/html": [
       "<pre style=\"white-space:pre;overflow-x:auto;line-height:normal;font-family:Menlo,'DejaVu Sans Mono',consolas,'Courier New',monospace\"><span style=\"color: #7fbfbf; text-decoration-color: #7fbfbf\">[14:59:28] </span>Total leads: <span style=\"color: #008080; text-decoration-color: #008080; font-weight: bold\">2977</span>                                                                        <a href=\"file:///var/folders/v0/wzkm0bb11x1b_27rl_172pdr0000gp/T/ipykernel_83711/991286059.py\" target=\"_blank\"><span style=\"color: #7f7f7f; text-decoration-color: #7f7f7f\">991286059.py</span></a><span style=\"color: #7f7f7f; text-decoration-color: #7f7f7f\">:</span><a href=\"file:///var/folders/v0/wzkm0bb11x1b_27rl_172pdr0000gp/T/ipykernel_83711/991286059.py#30\" target=\"_blank\"><span style=\"color: #7f7f7f; text-decoration-color: #7f7f7f\">30</span></a>\n",
       "</pre>\n"
      ],
      "text/plain": [
       "\u001b[2;36m[14:59:28]\u001b[0m\u001b[2;36m \u001b[0mTotal leads: \u001b[1;36m2977\u001b[0m                                                                        \u001b]8;id=505212;file:///var/folders/v0/wzkm0bb11x1b_27rl_172pdr0000gp/T/ipykernel_83711/991286059.py\u001b\\\u001b[2m991286059.py\u001b[0m\u001b]8;;\u001b\\\u001b[2m:\u001b[0m\u001b]8;id=195332;file:///var/folders/v0/wzkm0bb11x1b_27rl_172pdr0000gp/T/ipykernel_83711/991286059.py#30\u001b\\\u001b[2m30\u001b[0m\u001b]8;;\u001b\\\n"
      ]
     },
     "metadata": {},
     "output_type": "display_data"
    }
   ],
   "source": [
    "from src.commands.leads import filter_leads\n",
    "\n",
    "\n",
    "today = datetime.datetime.now()\n",
    "\n",
    "# Get all leads that have been mailed in the last 7 days\n",
    "leads_not_found = get_last_lead(\n",
    "    start_date=today - timedelta(days=33),\n",
    "    end_date=today + timedelta(days=1),\n",
    "    status=\"rpr\",\n",
    "    limit=3000,\n",
    "    search_limit=3000,\n",
    ")\n",
    "\n",
    "if leads_not_found is None:\n",
    "    console.log(\"No leads found\")\n",
    "    # Stop executing the cell\n",
    "    raise SystemExit\n",
    "\n",
    "df = pd.DataFrame(\n",
    "    [lead.model_dump() for lead in leads_not_found if filter_leads(lead)]\n",
    ")\n",
    "\n",
    "\n",
    "# Filter out the leads that have already been searched\n",
    "df[\"middle_name\"] = df[\"middle_name\"].fillna(\"\")\n",
    "df[\"first_name\"] = df[\"first_name\"].fillna(\"\")\n",
    "df[\"last_name\"] = df[\"last_name\"].fillna(\"\")\n",
    "\n",
    "console.log(f\"Total leads: {len(df)}\")\n",
    "\n",
    "df[\"state\"] = df[\"state\"].fillna(\"MO\")\n",
    "\n",
    "# df = df[df[\"state\"] == \"MO\"]\n",
    "df = df[df[\"lead_source\"] != \"lexis_nexis\"]"
   ]
  },
  {
   "cell_type": "code",
   "execution_count": null,
   "metadata": {},
   "outputs": [
    {
     "data": {
      "text/html": [
       "<pre style=\"white-space:pre;overflow-x:auto;line-height:normal;font-family:Menlo,'DejaVu Sans Mono',consolas,'Courier New',monospace\"><span style=\"color: #7fbfbf; text-decoration-color: #7fbfbf\">[14:56:37] </span>Case WILKINSON__GREGORY_T_26_06_07_2024 has no address                                  <a href=\"file:///var/folders/v0/wzkm0bb11x1b_27rl_172pdr0000gp/T/ipykernel_78208/2760839720.py\" target=\"_blank\"><span style=\"color: #7f7f7f; text-decoration-color: #7f7f7f\">2760839720.py</span></a><span style=\"color: #7f7f7f; text-decoration-color: #7f7f7f\">:</span><a href=\"file:///var/folders/v0/wzkm0bb11x1b_27rl_172pdr0000gp/T/ipykernel_78208/2760839720.py#20\" target=\"_blank\"><span style=\"color: #7f7f7f; text-decoration-color: #7f7f7f\">20</span></a>\n",
       "</pre>\n"
      ],
      "text/plain": [
       "\u001b[2;36m[14:56:37]\u001b[0m\u001b[2;36m \u001b[0mCase WILKINSON__GREGORY_T_26_06_07_2024 has no address                                  \u001b]8;id=1678;file:///var/folders/v0/wzkm0bb11x1b_27rl_172pdr0000gp/T/ipykernel_78208/2760839720.py\u001b\\\u001b[2m2760839720.py\u001b[0m\u001b]8;;\u001b\\\u001b[2m:\u001b[0m\u001b]8;id=734098;file:///var/folders/v0/wzkm0bb11x1b_27rl_172pdr0000gp/T/ipykernel_78208/2760839720.py#20\u001b\\\u001b[2m20\u001b[0m\u001b]8;;\u001b\\\n"
      ]
     },
     "metadata": {},
     "output_type": "display_data"
    },
    {
     "data": {
      "text/html": [
       "<pre style=\"white-space:pre;overflow-x:auto;line-height:normal;font-family:Menlo,'DejaVu Sans Mono',consolas,'Courier New',monospace\"><span style=\"color: #7fbfbf; text-decoration-color: #7fbfbf\">[14:56:38] </span>Case WARREN__CHAD_C_40_06_07_2024 has no address                                        <a href=\"file:///var/folders/v0/wzkm0bb11x1b_27rl_172pdr0000gp/T/ipykernel_78208/2760839720.py\" target=\"_blank\"><span style=\"color: #7f7f7f; text-decoration-color: #7f7f7f\">2760839720.py</span></a><span style=\"color: #7f7f7f; text-decoration-color: #7f7f7f\">:</span><a href=\"file:///var/folders/v0/wzkm0bb11x1b_27rl_172pdr0000gp/T/ipykernel_78208/2760839720.py#20\" target=\"_blank\"><span style=\"color: #7f7f7f; text-decoration-color: #7f7f7f\">20</span></a>\n",
       "</pre>\n"
      ],
      "text/plain": [
       "\u001b[2;36m[14:56:38]\u001b[0m\u001b[2;36m \u001b[0mCase WARREN__CHAD_C_40_06_07_2024 has no address                                        \u001b]8;id=203812;file:///var/folders/v0/wzkm0bb11x1b_27rl_172pdr0000gp/T/ipykernel_78208/2760839720.py\u001b\\\u001b[2m2760839720.py\u001b[0m\u001b]8;;\u001b\\\u001b[2m:\u001b[0m\u001b]8;id=466534;file:///var/folders/v0/wzkm0bb11x1b_27rl_172pdr0000gp/T/ipykernel_78208/2760839720.py#20\u001b\\\u001b[2m20\u001b[0m\u001b]8;;\u001b\\\n"
      ]
     },
     "metadata": {},
     "output_type": "display_data"
    },
    {
     "data": {
      "text/html": [
       "<pre style=\"white-space:pre;overflow-x:auto;line-height:normal;font-family:Menlo,'DejaVu Sans Mono',consolas,'Courier New',monospace\"><span style=\"color: #7fbfbf; text-decoration-color: #7fbfbf\">           </span>Case UKAU__IMMY_JOE_27_06_07_2024 has no address                                        <a href=\"file:///var/folders/v0/wzkm0bb11x1b_27rl_172pdr0000gp/T/ipykernel_78208/2760839720.py\" target=\"_blank\"><span style=\"color: #7f7f7f; text-decoration-color: #7f7f7f\">2760839720.py</span></a><span style=\"color: #7f7f7f; text-decoration-color: #7f7f7f\">:</span><a href=\"file:///var/folders/v0/wzkm0bb11x1b_27rl_172pdr0000gp/T/ipykernel_78208/2760839720.py#20\" target=\"_blank\"><span style=\"color: #7f7f7f; text-decoration-color: #7f7f7f\">20</span></a>\n",
       "</pre>\n"
      ],
      "text/plain": [
       "\u001b[2;36m          \u001b[0m\u001b[2;36m \u001b[0mCase UKAU__IMMY_JOE_27_06_07_2024 has no address                                        \u001b]8;id=780060;file:///var/folders/v0/wzkm0bb11x1b_27rl_172pdr0000gp/T/ipykernel_78208/2760839720.py\u001b\\\u001b[2m2760839720.py\u001b[0m\u001b]8;;\u001b\\\u001b[2m:\u001b[0m\u001b]8;id=776843;file:///var/folders/v0/wzkm0bb11x1b_27rl_172pdr0000gp/T/ipykernel_78208/2760839720.py#20\u001b\\\u001b[2m20\u001b[0m\u001b]8;;\u001b\\\n"
      ]
     },
     "metadata": {},
     "output_type": "display_data"
    },
    {
     "data": {
      "text/html": [
       "<pre style=\"white-space:pre;overflow-x:auto;line-height:normal;font-family:Menlo,'DejaVu Sans Mono',consolas,'Courier New',monospace\"><span style=\"color: #7fbfbf; text-decoration-color: #7fbfbf\">[14:56:39] </span>Case SMITH__MICHAEL_R_71_06_07_2024 has no address                                      <a href=\"file:///var/folders/v0/wzkm0bb11x1b_27rl_172pdr0000gp/T/ipykernel_78208/2760839720.py\" target=\"_blank\"><span style=\"color: #7f7f7f; text-decoration-color: #7f7f7f\">2760839720.py</span></a><span style=\"color: #7f7f7f; text-decoration-color: #7f7f7f\">:</span><a href=\"file:///var/folders/v0/wzkm0bb11x1b_27rl_172pdr0000gp/T/ipykernel_78208/2760839720.py#20\" target=\"_blank\"><span style=\"color: #7f7f7f; text-decoration-color: #7f7f7f\">20</span></a>\n",
       "</pre>\n"
      ],
      "text/plain": [
       "\u001b[2;36m[14:56:39]\u001b[0m\u001b[2;36m \u001b[0mCase SMITH__MICHAEL_R_71_06_07_2024 has no address                                      \u001b]8;id=127105;file:///var/folders/v0/wzkm0bb11x1b_27rl_172pdr0000gp/T/ipykernel_78208/2760839720.py\u001b\\\u001b[2m2760839720.py\u001b[0m\u001b]8;;\u001b\\\u001b[2m:\u001b[0m\u001b]8;id=681092;file:///var/folders/v0/wzkm0bb11x1b_27rl_172pdr0000gp/T/ipykernel_78208/2760839720.py#20\u001b\\\u001b[2m20\u001b[0m\u001b]8;;\u001b\\\n"
      ]
     },
     "metadata": {},
     "output_type": "display_data"
    },
    {
     "data": {
      "text/html": [
       "<pre style=\"white-space:pre;overflow-x:auto;line-height:normal;font-family:Menlo,'DejaVu Sans Mono',consolas,'Courier New',monospace\"><span style=\"color: #7fbfbf; text-decoration-color: #7fbfbf\">           </span>Case RIDDLE__RACHAEL_L_34_06_07_2024 has no address                                     <a href=\"file:///var/folders/v0/wzkm0bb11x1b_27rl_172pdr0000gp/T/ipykernel_78208/2760839720.py\" target=\"_blank\"><span style=\"color: #7f7f7f; text-decoration-color: #7f7f7f\">2760839720.py</span></a><span style=\"color: #7f7f7f; text-decoration-color: #7f7f7f\">:</span><a href=\"file:///var/folders/v0/wzkm0bb11x1b_27rl_172pdr0000gp/T/ipykernel_78208/2760839720.py#20\" target=\"_blank\"><span style=\"color: #7f7f7f; text-decoration-color: #7f7f7f\">20</span></a>\n",
       "</pre>\n"
      ],
      "text/plain": [
       "\u001b[2;36m          \u001b[0m\u001b[2;36m \u001b[0mCase RIDDLE__RACHAEL_L_34_06_07_2024 has no address                                     \u001b]8;id=627437;file:///var/folders/v0/wzkm0bb11x1b_27rl_172pdr0000gp/T/ipykernel_78208/2760839720.py\u001b\\\u001b[2m2760839720.py\u001b[0m\u001b]8;;\u001b\\\u001b[2m:\u001b[0m\u001b]8;id=695636;file:///var/folders/v0/wzkm0bb11x1b_27rl_172pdr0000gp/T/ipykernel_78208/2760839720.py#20\u001b\\\u001b[2m20\u001b[0m\u001b]8;;\u001b\\\n"
      ]
     },
     "metadata": {},
     "output_type": "display_data"
    },
    {
     "data": {
      "text/html": [
       "<pre style=\"white-space:pre;overflow-x:auto;line-height:normal;font-family:Menlo,'DejaVu Sans Mono',consolas,'Courier New',monospace\"><span style=\"color: #7fbfbf; text-decoration-color: #7fbfbf\">           </span>Case RICKARD__TIMATHY_A_38_06_07_2024 has no address                                    <a href=\"file:///var/folders/v0/wzkm0bb11x1b_27rl_172pdr0000gp/T/ipykernel_78208/2760839720.py\" target=\"_blank\"><span style=\"color: #7f7f7f; text-decoration-color: #7f7f7f\">2760839720.py</span></a><span style=\"color: #7f7f7f; text-decoration-color: #7f7f7f\">:</span><a href=\"file:///var/folders/v0/wzkm0bb11x1b_27rl_172pdr0000gp/T/ipykernel_78208/2760839720.py#20\" target=\"_blank\"><span style=\"color: #7f7f7f; text-decoration-color: #7f7f7f\">20</span></a>\n",
       "</pre>\n"
      ],
      "text/plain": [
       "\u001b[2;36m          \u001b[0m\u001b[2;36m \u001b[0mCase RICKARD__TIMATHY_A_38_06_07_2024 has no address                                    \u001b]8;id=867775;file:///var/folders/v0/wzkm0bb11x1b_27rl_172pdr0000gp/T/ipykernel_78208/2760839720.py\u001b\\\u001b[2m2760839720.py\u001b[0m\u001b]8;;\u001b\\\u001b[2m:\u001b[0m\u001b]8;id=678624;file:///var/folders/v0/wzkm0bb11x1b_27rl_172pdr0000gp/T/ipykernel_78208/2760839720.py#20\u001b\\\u001b[2m20\u001b[0m\u001b]8;;\u001b\\\n"
      ]
     },
     "metadata": {},
     "output_type": "display_data"
    },
    {
     "data": {
      "text/html": [
       "<pre style=\"white-space:pre;overflow-x:auto;line-height:normal;font-family:Menlo,'DejaVu Sans Mono',consolas,'Courier New',monospace\"><span style=\"color: #7fbfbf; text-decoration-color: #7fbfbf\">           </span>Case LONG__JESSE_D_33_06_07_2024 has no address                                         <a href=\"file:///var/folders/v0/wzkm0bb11x1b_27rl_172pdr0000gp/T/ipykernel_78208/2760839720.py\" target=\"_blank\"><span style=\"color: #7f7f7f; text-decoration-color: #7f7f7f\">2760839720.py</span></a><span style=\"color: #7f7f7f; text-decoration-color: #7f7f7f\">:</span><a href=\"file:///var/folders/v0/wzkm0bb11x1b_27rl_172pdr0000gp/T/ipykernel_78208/2760839720.py#20\" target=\"_blank\"><span style=\"color: #7f7f7f; text-decoration-color: #7f7f7f\">20</span></a>\n",
       "</pre>\n"
      ],
      "text/plain": [
       "\u001b[2;36m          \u001b[0m\u001b[2;36m \u001b[0mCase LONG__JESSE_D_33_06_07_2024 has no address                                         \u001b]8;id=73962;file:///var/folders/v0/wzkm0bb11x1b_27rl_172pdr0000gp/T/ipykernel_78208/2760839720.py\u001b\\\u001b[2m2760839720.py\u001b[0m\u001b]8;;\u001b\\\u001b[2m:\u001b[0m\u001b]8;id=912376;file:///var/folders/v0/wzkm0bb11x1b_27rl_172pdr0000gp/T/ipykernel_78208/2760839720.py#20\u001b\\\u001b[2m20\u001b[0m\u001b]8;;\u001b\\\n"
      ]
     },
     "metadata": {},
     "output_type": "display_data"
    },
    {
     "data": {
      "text/html": [
       "<pre style=\"white-space:pre;overflow-x:auto;line-height:normal;font-family:Menlo,'DejaVu Sans Mono',consolas,'Courier New',monospace\"><span style=\"color: #7fbfbf; text-decoration-color: #7fbfbf\">[14:56:40] </span>Case GROTEGEERS__JR__GLEN_J_52_06_07_2024 has no address                                <a href=\"file:///var/folders/v0/wzkm0bb11x1b_27rl_172pdr0000gp/T/ipykernel_78208/2760839720.py\" target=\"_blank\"><span style=\"color: #7f7f7f; text-decoration-color: #7f7f7f\">2760839720.py</span></a><span style=\"color: #7f7f7f; text-decoration-color: #7f7f7f\">:</span><a href=\"file:///var/folders/v0/wzkm0bb11x1b_27rl_172pdr0000gp/T/ipykernel_78208/2760839720.py#20\" target=\"_blank\"><span style=\"color: #7f7f7f; text-decoration-color: #7f7f7f\">20</span></a>\n",
       "</pre>\n"
      ],
      "text/plain": [
       "\u001b[2;36m[14:56:40]\u001b[0m\u001b[2;36m \u001b[0mCase GROTEGEERS__JR__GLEN_J_52_06_07_2024 has no address                                \u001b]8;id=329734;file:///var/folders/v0/wzkm0bb11x1b_27rl_172pdr0000gp/T/ipykernel_78208/2760839720.py\u001b\\\u001b[2m2760839720.py\u001b[0m\u001b]8;;\u001b\\\u001b[2m:\u001b[0m\u001b]8;id=413668;file:///var/folders/v0/wzkm0bb11x1b_27rl_172pdr0000gp/T/ipykernel_78208/2760839720.py#20\u001b\\\u001b[2m20\u001b[0m\u001b]8;;\u001b\\\n"
      ]
     },
     "metadata": {},
     "output_type": "display_data"
    },
    {
     "data": {
      "text/html": [
       "<pre style=\"white-space:pre;overflow-x:auto;line-height:normal;font-family:Menlo,'DejaVu Sans Mono',consolas,'Courier New',monospace\"><span style=\"color: #7fbfbf; text-decoration-color: #7fbfbf\">           </span>Case GROSSO__DANIEL_J_20_06_07_2024 has no address                                      <a href=\"file:///var/folders/v0/wzkm0bb11x1b_27rl_172pdr0000gp/T/ipykernel_78208/2760839720.py\" target=\"_blank\"><span style=\"color: #7f7f7f; text-decoration-color: #7f7f7f\">2760839720.py</span></a><span style=\"color: #7f7f7f; text-decoration-color: #7f7f7f\">:</span><a href=\"file:///var/folders/v0/wzkm0bb11x1b_27rl_172pdr0000gp/T/ipykernel_78208/2760839720.py#20\" target=\"_blank\"><span style=\"color: #7f7f7f; text-decoration-color: #7f7f7f\">20</span></a>\n",
       "</pre>\n"
      ],
      "text/plain": [
       "\u001b[2;36m          \u001b[0m\u001b[2;36m \u001b[0mCase GROSSO__DANIEL_J_20_06_07_2024 has no address                                      \u001b]8;id=54671;file:///var/folders/v0/wzkm0bb11x1b_27rl_172pdr0000gp/T/ipykernel_78208/2760839720.py\u001b\\\u001b[2m2760839720.py\u001b[0m\u001b]8;;\u001b\\\u001b[2m:\u001b[0m\u001b]8;id=935957;file:///var/folders/v0/wzkm0bb11x1b_27rl_172pdr0000gp/T/ipykernel_78208/2760839720.py#20\u001b\\\u001b[2m20\u001b[0m\u001b]8;;\u001b\\\n"
      ]
     },
     "metadata": {},
     "output_type": "display_data"
    },
    {
     "data": {
      "text/html": [
       "<pre style=\"white-space:pre;overflow-x:auto;line-height:normal;font-family:Menlo,'DejaVu Sans Mono',consolas,'Courier New',monospace\"><span style=\"color: #7fbfbf; text-decoration-color: #7fbfbf\">[14:56:41] </span>Case GOETZ__JAY_W_62_06_07_2024 has no address                                          <a href=\"file:///var/folders/v0/wzkm0bb11x1b_27rl_172pdr0000gp/T/ipykernel_78208/2760839720.py\" target=\"_blank\"><span style=\"color: #7f7f7f; text-decoration-color: #7f7f7f\">2760839720.py</span></a><span style=\"color: #7f7f7f; text-decoration-color: #7f7f7f\">:</span><a href=\"file:///var/folders/v0/wzkm0bb11x1b_27rl_172pdr0000gp/T/ipykernel_78208/2760839720.py#20\" target=\"_blank\"><span style=\"color: #7f7f7f; text-decoration-color: #7f7f7f\">20</span></a>\n",
       "</pre>\n"
      ],
      "text/plain": [
       "\u001b[2;36m[14:56:41]\u001b[0m\u001b[2;36m \u001b[0mCase GOETZ__JAY_W_62_06_07_2024 has no address                                          \u001b]8;id=447494;file:///var/folders/v0/wzkm0bb11x1b_27rl_172pdr0000gp/T/ipykernel_78208/2760839720.py\u001b\\\u001b[2m2760839720.py\u001b[0m\u001b]8;;\u001b\\\u001b[2m:\u001b[0m\u001b]8;id=482356;file:///var/folders/v0/wzkm0bb11x1b_27rl_172pdr0000gp/T/ipykernel_78208/2760839720.py#20\u001b\\\u001b[2m20\u001b[0m\u001b]8;;\u001b\\\n"
      ]
     },
     "metadata": {},
     "output_type": "display_data"
    },
    {
     "data": {
      "text/html": [
       "<pre style=\"white-space:pre;overflow-x:auto;line-height:normal;font-family:Menlo,'DejaVu Sans Mono',consolas,'Courier New',monospace\"><span style=\"color: #7fbfbf; text-decoration-color: #7fbfbf\">           </span>Case BLEVINS__GAGE_M_20_06_07_2024 has no address                                       <a href=\"file:///var/folders/v0/wzkm0bb11x1b_27rl_172pdr0000gp/T/ipykernel_78208/2760839720.py\" target=\"_blank\"><span style=\"color: #7f7f7f; text-decoration-color: #7f7f7f\">2760839720.py</span></a><span style=\"color: #7f7f7f; text-decoration-color: #7f7f7f\">:</span><a href=\"file:///var/folders/v0/wzkm0bb11x1b_27rl_172pdr0000gp/T/ipykernel_78208/2760839720.py#20\" target=\"_blank\"><span style=\"color: #7f7f7f; text-decoration-color: #7f7f7f\">20</span></a>\n",
       "</pre>\n"
      ],
      "text/plain": [
       "\u001b[2;36m          \u001b[0m\u001b[2;36m \u001b[0mCase BLEVINS__GAGE_M_20_06_07_2024 has no address                                       \u001b]8;id=766118;file:///var/folders/v0/wzkm0bb11x1b_27rl_172pdr0000gp/T/ipykernel_78208/2760839720.py\u001b\\\u001b[2m2760839720.py\u001b[0m\u001b]8;;\u001b\\\u001b[2m:\u001b[0m\u001b]8;id=689298;file:///var/folders/v0/wzkm0bb11x1b_27rl_172pdr0000gp/T/ipykernel_78208/2760839720.py#20\u001b\\\u001b[2m20\u001b[0m\u001b]8;;\u001b\\\n"
      ]
     },
     "metadata": {},
     "output_type": "display_data"
    },
    {
     "data": {
      "text/html": [
       "<pre style=\"white-space:pre;overflow-x:auto;line-height:normal;font-family:Menlo,'DejaVu Sans Mono',consolas,'Courier New',monospace\"><span style=\"color: #7fbfbf; text-decoration-color: #7fbfbf\">[14:56:42] </span>Case ANDERSON__MELANIE_M_31_06_07_2024 has no address                                   <a href=\"file:///var/folders/v0/wzkm0bb11x1b_27rl_172pdr0000gp/T/ipykernel_78208/2760839720.py\" target=\"_blank\"><span style=\"color: #7f7f7f; text-decoration-color: #7f7f7f\">2760839720.py</span></a><span style=\"color: #7f7f7f; text-decoration-color: #7f7f7f\">:</span><a href=\"file:///var/folders/v0/wzkm0bb11x1b_27rl_172pdr0000gp/T/ipykernel_78208/2760839720.py#20\" target=\"_blank\"><span style=\"color: #7f7f7f; text-decoration-color: #7f7f7f\">20</span></a>\n",
       "</pre>\n"
      ],
      "text/plain": [
       "\u001b[2;36m[14:56:42]\u001b[0m\u001b[2;36m \u001b[0mCase ANDERSON__MELANIE_M_31_06_07_2024 has no address                                   \u001b]8;id=205802;file:///var/folders/v0/wzkm0bb11x1b_27rl_172pdr0000gp/T/ipykernel_78208/2760839720.py\u001b\\\u001b[2m2760839720.py\u001b[0m\u001b]8;;\u001b\\\u001b[2m:\u001b[0m\u001b]8;id=878445;file:///var/folders/v0/wzkm0bb11x1b_27rl_172pdr0000gp/T/ipykernel_78208/2760839720.py#20\u001b\\\u001b[2m20\u001b[0m\u001b]8;;\u001b\\\n"
      ]
     },
     "metadata": {},
     "output_type": "display_data"
    },
    {
     "data": {
      "text/html": [
       "<pre style=\"white-space:pre;overflow-x:auto;line-height:normal;font-family:Menlo,'DejaVu Sans Mono',consolas,'Courier New',monospace\"><span style=\"color: #7fbfbf; text-decoration-color: #7fbfbf\">           </span>Searching for ALLA GRANT <span style=\"color: #008080; text-decoration-color: #008080; font-weight: bold\">1979.0</span> SEDALIA MO <span style=\"color: #008080; text-decoration-color: #008080; font-weight: bold\">65301</span> <span style=\"color: #008080; text-decoration-color: #008080; font-weight: bold\">301</span> E 4TH ST, APT G                    <a href=\"file:///var/folders/v0/wzkm0bb11x1b_27rl_172pdr0000gp/T/ipykernel_78208/2760839720.py\" target=\"_blank\"><span style=\"color: #7f7f7f; text-decoration-color: #7f7f7f\">2760839720.py</span></a><span style=\"color: #7f7f7f; text-decoration-color: #7f7f7f\">:</span><a href=\"file:///var/folders/v0/wzkm0bb11x1b_27rl_172pdr0000gp/T/ipykernel_78208/2760839720.py#24\" target=\"_blank\"><span style=\"color: #7f7f7f; text-decoration-color: #7f7f7f\">24</span></a>\n",
       "</pre>\n"
      ],
      "text/plain": [
       "\u001b[2;36m          \u001b[0m\u001b[2;36m \u001b[0mSearching for ALLA GRANT \u001b[1;36m1979.0\u001b[0m SEDALIA MO \u001b[1;36m65301\u001b[0m \u001b[1;36m301\u001b[0m E 4TH ST, APT G                    \u001b]8;id=249629;file:///var/folders/v0/wzkm0bb11x1b_27rl_172pdr0000gp/T/ipykernel_78208/2760839720.py\u001b\\\u001b[2m2760839720.py\u001b[0m\u001b]8;;\u001b\\\u001b[2m:\u001b[0m\u001b]8;id=860321;file:///var/folders/v0/wzkm0bb11x1b_27rl_172pdr0000gp/T/ipykernel_78208/2760839720.py#24\u001b\\\u001b[2m24\u001b[0m\u001b]8;;\u001b\\\n"
      ]
     },
     "metadata": {},
     "output_type": "display_data"
    },
    {
     "data": {
      "text/html": [
       "<pre style=\"white-space:pre;overflow-x:auto;line-height:normal;font-family:Menlo,'DejaVu Sans Mono',consolas,'Courier New',monospace\"><span style=\"color: #7fbfbf; text-decoration-color: #7fbfbf\">[14:56:43] </span>Case <span style=\"color: #008080; text-decoration-color: #008080; font-weight: bold\">230511747</span> already exists with status contacted                                     <a href=\"file:///var/folders/v0/wzkm0bb11x1b_27rl_172pdr0000gp/T/ipykernel_78208/2760839720.py\" target=\"_blank\"><span style=\"color: #7f7f7f; text-decoration-color: #7f7f7f\">2760839720.py</span></a><span style=\"color: #7f7f7f; text-decoration-color: #7f7f7f\">:</span><a href=\"file:///var/folders/v0/wzkm0bb11x1b_27rl_172pdr0000gp/T/ipykernel_78208/2760839720.py#52\" target=\"_blank\"><span style=\"color: #7f7f7f; text-decoration-color: #7f7f7f\">52</span></a>\n",
       "</pre>\n"
      ],
      "text/plain": [
       "\u001b[2;36m[14:56:43]\u001b[0m\u001b[2;36m \u001b[0mCase \u001b[1;36m230511747\u001b[0m already exists with status contacted                                     \u001b]8;id=582265;file:///var/folders/v0/wzkm0bb11x1b_27rl_172pdr0000gp/T/ipykernel_78208/2760839720.py\u001b\\\u001b[2m2760839720.py\u001b[0m\u001b]8;;\u001b\\\u001b[2m:\u001b[0m\u001b]8;id=704128;file:///var/folders/v0/wzkm0bb11x1b_27rl_172pdr0000gp/T/ipykernel_78208/2760839720.py#52\u001b\\\u001b[2m52\u001b[0m\u001b]8;;\u001b\\\n"
      ]
     },
     "metadata": {},
     "output_type": "display_data"
    },
    {
     "data": {
      "text/html": [
       "<pre style=\"white-space:pre;overflow-x:auto;line-height:normal;font-family:Menlo,'DejaVu Sans Mono',consolas,'Courier New',monospace\"><span style=\"color: #7fbfbf; text-decoration-color: #7fbfbf\">           </span>Case details ALLA GRANT <span style=\"color: #008080; text-decoration-color: #008080; font-weight: bold\">1979</span> Exceeded Posted Speed Limit <span style=\"font-weight: bold\">(</span><span style=\"color: #008080; text-decoration-color: #008080; font-weight: bold\">16</span>-<span style=\"color: #008080; text-decoration-color: #008080; font-weight: bold\">19</span> Mph Over<span style=\"font-weight: bold\">)</span>               <a href=\"file:///var/folders/v0/wzkm0bb11x1b_27rl_172pdr0000gp/T/ipykernel_78208/2760839720.py\" target=\"_blank\"><span style=\"color: #7f7f7f; text-decoration-color: #7f7f7f\">2760839720.py</span></a><span style=\"color: #7f7f7f; text-decoration-color: #7f7f7f\">:</span><a href=\"file:///var/folders/v0/wzkm0bb11x1b_27rl_172pdr0000gp/T/ipykernel_78208/2760839720.py#55\" target=\"_blank\"><span style=\"color: #7f7f7f; text-decoration-color: #7f7f7f\">55</span></a>\n",
       "</pre>\n"
      ],
      "text/plain": [
       "\u001b[2;36m          \u001b[0m\u001b[2;36m \u001b[0mCase details ALLA GRANT \u001b[1;36m1979\u001b[0m Exceeded Posted Speed Limit \u001b[1m(\u001b[0m\u001b[1;36m16\u001b[0m-\u001b[1;36m19\u001b[0m Mph Over\u001b[1m)\u001b[0m               \u001b]8;id=15096;file:///var/folders/v0/wzkm0bb11x1b_27rl_172pdr0000gp/T/ipykernel_78208/2760839720.py\u001b\\\u001b[2m2760839720.py\u001b[0m\u001b]8;;\u001b\\\u001b[2m:\u001b[0m\u001b]8;id=246740;file:///var/folders/v0/wzkm0bb11x1b_27rl_172pdr0000gp/T/ipykernel_78208/2760839720.py#55\u001b\\\u001b[2m55\u001b[0m\u001b]8;;\u001b\\\n"
      ]
     },
     "metadata": {},
     "output_type": "display_data"
    },
    {
     "data": {
      "text/html": [
       "<pre style=\"white-space:pre;overflow-x:auto;line-height:normal;font-family:Menlo,'DejaVu Sans Mono',consolas,'Courier New',monospace\"><span style=\"color: #7fbfbf; text-decoration-color: #7fbfbf\">           </span>Case WARREN__KENNETH_E_49_06_06_2024 has no address                                     <a href=\"file:///var/folders/v0/wzkm0bb11x1b_27rl_172pdr0000gp/T/ipykernel_78208/2760839720.py\" target=\"_blank\"><span style=\"color: #7f7f7f; text-decoration-color: #7f7f7f\">2760839720.py</span></a><span style=\"color: #7f7f7f; text-decoration-color: #7f7f7f\">:</span><a href=\"file:///var/folders/v0/wzkm0bb11x1b_27rl_172pdr0000gp/T/ipykernel_78208/2760839720.py#20\" target=\"_blank\"><span style=\"color: #7f7f7f; text-decoration-color: #7f7f7f\">20</span></a>\n",
       "</pre>\n"
      ],
      "text/plain": [
       "\u001b[2;36m          \u001b[0m\u001b[2;36m \u001b[0mCase WARREN__KENNETH_E_49_06_06_2024 has no address                                     \u001b]8;id=558732;file:///var/folders/v0/wzkm0bb11x1b_27rl_172pdr0000gp/T/ipykernel_78208/2760839720.py\u001b\\\u001b[2m2760839720.py\u001b[0m\u001b]8;;\u001b\\\u001b[2m:\u001b[0m\u001b]8;id=193152;file:///var/folders/v0/wzkm0bb11x1b_27rl_172pdr0000gp/T/ipykernel_78208/2760839720.py#20\u001b\\\u001b[2m20\u001b[0m\u001b]8;;\u001b\\\n"
      ]
     },
     "metadata": {},
     "output_type": "display_data"
    },
    {
     "data": {
      "text/html": [
       "<pre style=\"white-space:pre;overflow-x:auto;line-height:normal;font-family:Menlo,'DejaVu Sans Mono',consolas,'Courier New',monospace\"><span style=\"color: #7fbfbf; text-decoration-color: #7fbfbf\">[14:56:44] </span>Case EVANS__JAMES_O_40_06_06_2024 has no address                                        <a href=\"file:///var/folders/v0/wzkm0bb11x1b_27rl_172pdr0000gp/T/ipykernel_78208/2760839720.py\" target=\"_blank\"><span style=\"color: #7f7f7f; text-decoration-color: #7f7f7f\">2760839720.py</span></a><span style=\"color: #7f7f7f; text-decoration-color: #7f7f7f\">:</span><a href=\"file:///var/folders/v0/wzkm0bb11x1b_27rl_172pdr0000gp/T/ipykernel_78208/2760839720.py#20\" target=\"_blank\"><span style=\"color: #7f7f7f; text-decoration-color: #7f7f7f\">20</span></a>\n",
       "</pre>\n"
      ],
      "text/plain": [
       "\u001b[2;36m[14:56:44]\u001b[0m\u001b[2;36m \u001b[0mCase EVANS__JAMES_O_40_06_06_2024 has no address                                        \u001b]8;id=272690;file:///var/folders/v0/wzkm0bb11x1b_27rl_172pdr0000gp/T/ipykernel_78208/2760839720.py\u001b\\\u001b[2m2760839720.py\u001b[0m\u001b]8;;\u001b\\\u001b[2m:\u001b[0m\u001b]8;id=629809;file:///var/folders/v0/wzkm0bb11x1b_27rl_172pdr0000gp/T/ipykernel_78208/2760839720.py#20\u001b\\\u001b[2m20\u001b[0m\u001b]8;;\u001b\\\n"
      ]
     },
     "metadata": {},
     "output_type": "display_data"
    },
    {
     "data": {
      "text/html": [
       "<pre style=\"white-space:pre;overflow-x:auto;line-height:normal;font-family:Menlo,'DejaVu Sans Mono',consolas,'Courier New',monospace\"><span style=\"color: #7fbfbf; text-decoration-color: #7fbfbf\">           </span>Case DESHONG__DILLON_M_28_06_06_2024 has no address                                     <a href=\"file:///var/folders/v0/wzkm0bb11x1b_27rl_172pdr0000gp/T/ipykernel_78208/2760839720.py\" target=\"_blank\"><span style=\"color: #7f7f7f; text-decoration-color: #7f7f7f\">2760839720.py</span></a><span style=\"color: #7f7f7f; text-decoration-color: #7f7f7f\">:</span><a href=\"file:///var/folders/v0/wzkm0bb11x1b_27rl_172pdr0000gp/T/ipykernel_78208/2760839720.py#20\" target=\"_blank\"><span style=\"color: #7f7f7f; text-decoration-color: #7f7f7f\">20</span></a>\n",
       "</pre>\n"
      ],
      "text/plain": [
       "\u001b[2;36m          \u001b[0m\u001b[2;36m \u001b[0mCase DESHONG__DILLON_M_28_06_06_2024 has no address                                     \u001b]8;id=540831;file:///var/folders/v0/wzkm0bb11x1b_27rl_172pdr0000gp/T/ipykernel_78208/2760839720.py\u001b\\\u001b[2m2760839720.py\u001b[0m\u001b]8;;\u001b\\\u001b[2m:\u001b[0m\u001b]8;id=580267;file:///var/folders/v0/wzkm0bb11x1b_27rl_172pdr0000gp/T/ipykernel_78208/2760839720.py#20\u001b\\\u001b[2m20\u001b[0m\u001b]8;;\u001b\\\n"
      ]
     },
     "metadata": {},
     "output_type": "display_data"
    },
    {
     "data": {
      "text/html": [
       "<pre style=\"white-space:pre;overflow-x:auto;line-height:normal;font-family:Menlo,'DejaVu Sans Mono',consolas,'Courier New',monospace\"><span style=\"color: #7fbfbf; text-decoration-color: #7fbfbf\">           </span>Case COMPTON__RYAN_O_27_06_06_2024 has no address                                       <a href=\"file:///var/folders/v0/wzkm0bb11x1b_27rl_172pdr0000gp/T/ipykernel_78208/2760839720.py\" target=\"_blank\"><span style=\"color: #7f7f7f; text-decoration-color: #7f7f7f\">2760839720.py</span></a><span style=\"color: #7f7f7f; text-decoration-color: #7f7f7f\">:</span><a href=\"file:///var/folders/v0/wzkm0bb11x1b_27rl_172pdr0000gp/T/ipykernel_78208/2760839720.py#20\" target=\"_blank\"><span style=\"color: #7f7f7f; text-decoration-color: #7f7f7f\">20</span></a>\n",
       "</pre>\n"
      ],
      "text/plain": [
       "\u001b[2;36m          \u001b[0m\u001b[2;36m \u001b[0mCase COMPTON__RYAN_O_27_06_06_2024 has no address                                       \u001b]8;id=276170;file:///var/folders/v0/wzkm0bb11x1b_27rl_172pdr0000gp/T/ipykernel_78208/2760839720.py\u001b\\\u001b[2m2760839720.py\u001b[0m\u001b]8;;\u001b\\\u001b[2m:\u001b[0m\u001b]8;id=187134;file:///var/folders/v0/wzkm0bb11x1b_27rl_172pdr0000gp/T/ipykernel_78208/2760839720.py#20\u001b\\\u001b[2m20\u001b[0m\u001b]8;;\u001b\\\n"
      ]
     },
     "metadata": {},
     "output_type": "display_data"
    },
    {
     "data": {
      "text/html": [
       "<pre style=\"white-space:pre;overflow-x:auto;line-height:normal;font-family:Menlo,'DejaVu Sans Mono',consolas,'Courier New',monospace\"><span style=\"color: #7fbfbf; text-decoration-color: #7fbfbf\">[14:56:45] </span>Case CIESLINSKI__MARISEL_37_06_06_2024 has no address                                   <a href=\"file:///var/folders/v0/wzkm0bb11x1b_27rl_172pdr0000gp/T/ipykernel_78208/2760839720.py\" target=\"_blank\"><span style=\"color: #7f7f7f; text-decoration-color: #7f7f7f\">2760839720.py</span></a><span style=\"color: #7f7f7f; text-decoration-color: #7f7f7f\">:</span><a href=\"file:///var/folders/v0/wzkm0bb11x1b_27rl_172pdr0000gp/T/ipykernel_78208/2760839720.py#20\" target=\"_blank\"><span style=\"color: #7f7f7f; text-decoration-color: #7f7f7f\">20</span></a>\n",
       "</pre>\n"
      ],
      "text/plain": [
       "\u001b[2;36m[14:56:45]\u001b[0m\u001b[2;36m \u001b[0mCase CIESLINSKI__MARISEL_37_06_06_2024 has no address                                   \u001b]8;id=879120;file:///var/folders/v0/wzkm0bb11x1b_27rl_172pdr0000gp/T/ipykernel_78208/2760839720.py\u001b\\\u001b[2m2760839720.py\u001b[0m\u001b]8;;\u001b\\\u001b[2m:\u001b[0m\u001b]8;id=131897;file:///var/folders/v0/wzkm0bb11x1b_27rl_172pdr0000gp/T/ipykernel_78208/2760839720.py#20\u001b\\\u001b[2m20\u001b[0m\u001b]8;;\u001b\\\n"
      ]
     },
     "metadata": {},
     "output_type": "display_data"
    },
    {
     "data": {
      "text/html": [
       "<pre style=\"white-space:pre;overflow-x:auto;line-height:normal;font-family:Menlo,'DejaVu Sans Mono',consolas,'Courier New',monospace\"><span style=\"color: #7fbfbf; text-decoration-color: #7fbfbf\">           </span>Case BECKER__TIMOTHY_E_60_06_06_2024 has no address                                     <a href=\"file:///var/folders/v0/wzkm0bb11x1b_27rl_172pdr0000gp/T/ipykernel_78208/2760839720.py\" target=\"_blank\"><span style=\"color: #7f7f7f; text-decoration-color: #7f7f7f\">2760839720.py</span></a><span style=\"color: #7f7f7f; text-decoration-color: #7f7f7f\">:</span><a href=\"file:///var/folders/v0/wzkm0bb11x1b_27rl_172pdr0000gp/T/ipykernel_78208/2760839720.py#20\" target=\"_blank\"><span style=\"color: #7f7f7f; text-decoration-color: #7f7f7f\">20</span></a>\n",
       "</pre>\n"
      ],
      "text/plain": [
       "\u001b[2;36m          \u001b[0m\u001b[2;36m \u001b[0mCase BECKER__TIMOTHY_E_60_06_06_2024 has no address                                     \u001b]8;id=323514;file:///var/folders/v0/wzkm0bb11x1b_27rl_172pdr0000gp/T/ipykernel_78208/2760839720.py\u001b\\\u001b[2m2760839720.py\u001b[0m\u001b]8;;\u001b\\\u001b[2m:\u001b[0m\u001b]8;id=628318;file:///var/folders/v0/wzkm0bb11x1b_27rl_172pdr0000gp/T/ipykernel_78208/2760839720.py#20\u001b\\\u001b[2m20\u001b[0m\u001b]8;;\u001b\\\n"
      ]
     },
     "metadata": {},
     "output_type": "display_data"
    },
    {
     "data": {
      "text/html": [
       "<pre style=\"white-space:pre;overflow-x:auto;line-height:normal;font-family:Menlo,'DejaVu Sans Mono',consolas,'Courier New',monospace\"><span style=\"color: #7fbfbf; text-decoration-color: #7fbfbf\">           </span>Case BAILEY__JAMES_P_19_06_06_2024 has no address                                       <a href=\"file:///var/folders/v0/wzkm0bb11x1b_27rl_172pdr0000gp/T/ipykernel_78208/2760839720.py\" target=\"_blank\"><span style=\"color: #7f7f7f; text-decoration-color: #7f7f7f\">2760839720.py</span></a><span style=\"color: #7f7f7f; text-decoration-color: #7f7f7f\">:</span><a href=\"file:///var/folders/v0/wzkm0bb11x1b_27rl_172pdr0000gp/T/ipykernel_78208/2760839720.py#20\" target=\"_blank\"><span style=\"color: #7f7f7f; text-decoration-color: #7f7f7f\">20</span></a>\n",
       "</pre>\n"
      ],
      "text/plain": [
       "\u001b[2;36m          \u001b[0m\u001b[2;36m \u001b[0mCase BAILEY__JAMES_P_19_06_06_2024 has no address                                       \u001b]8;id=957795;file:///var/folders/v0/wzkm0bb11x1b_27rl_172pdr0000gp/T/ipykernel_78208/2760839720.py\u001b\\\u001b[2m2760839720.py\u001b[0m\u001b]8;;\u001b\\\u001b[2m:\u001b[0m\u001b]8;id=830718;file:///var/folders/v0/wzkm0bb11x1b_27rl_172pdr0000gp/T/ipykernel_78208/2760839720.py#20\u001b\\\u001b[2m20\u001b[0m\u001b]8;;\u001b\\\n"
      ]
     },
     "metadata": {},
     "output_type": "display_data"
    },
    {
     "data": {
      "text/html": [
       "<pre style=\"white-space:pre;overflow-x:auto;line-height:normal;font-family:Menlo,'DejaVu Sans Mono',consolas,'Courier New',monospace\"><span style=\"color: #7fbfbf; text-decoration-color: #7fbfbf\">[14:56:46] </span>Case ADAMS__SHIANNE_N_27_06_06_2024 has no address                                      <a href=\"file:///var/folders/v0/wzkm0bb11x1b_27rl_172pdr0000gp/T/ipykernel_78208/2760839720.py\" target=\"_blank\"><span style=\"color: #7f7f7f; text-decoration-color: #7f7f7f\">2760839720.py</span></a><span style=\"color: #7f7f7f; text-decoration-color: #7f7f7f\">:</span><a href=\"file:///var/folders/v0/wzkm0bb11x1b_27rl_172pdr0000gp/T/ipykernel_78208/2760839720.py#20\" target=\"_blank\"><span style=\"color: #7f7f7f; text-decoration-color: #7f7f7f\">20</span></a>\n",
       "</pre>\n"
      ],
      "text/plain": [
       "\u001b[2;36m[14:56:46]\u001b[0m\u001b[2;36m \u001b[0mCase ADAMS__SHIANNE_N_27_06_06_2024 has no address                                      \u001b]8;id=888625;file:///var/folders/v0/wzkm0bb11x1b_27rl_172pdr0000gp/T/ipykernel_78208/2760839720.py\u001b\\\u001b[2m2760839720.py\u001b[0m\u001b]8;;\u001b\\\u001b[2m:\u001b[0m\u001b]8;id=332079;file:///var/folders/v0/wzkm0bb11x1b_27rl_172pdr0000gp/T/ipykernel_78208/2760839720.py#20\u001b\\\u001b[2m20\u001b[0m\u001b]8;;\u001b\\\n"
      ]
     },
     "metadata": {},
     "output_type": "display_data"
    },
    {
     "data": {
      "text/html": [
       "<pre style=\"white-space:pre;overflow-x:auto;line-height:normal;font-family:Menlo,'DejaVu Sans Mono',consolas,'Courier New',monospace\"><span style=\"color: #7fbfbf; text-decoration-color: #7fbfbf\">           </span>Searching for JEFFREY WALL <span style=\"color: #008080; text-decoration-color: #008080; font-weight: bold\">1996.0</span> CRYSTAL CITY MO <span style=\"color: #008080; text-decoration-color: #008080; font-weight: bold\">63019</span> <span style=\"color: #008080; text-decoration-color: #008080; font-weight: bold\">421</span> 10TH ST                     <a href=\"file:///var/folders/v0/wzkm0bb11x1b_27rl_172pdr0000gp/T/ipykernel_78208/2760839720.py\" target=\"_blank\"><span style=\"color: #7f7f7f; text-decoration-color: #7f7f7f\">2760839720.py</span></a><span style=\"color: #7f7f7f; text-decoration-color: #7f7f7f\">:</span><a href=\"file:///var/folders/v0/wzkm0bb11x1b_27rl_172pdr0000gp/T/ipykernel_78208/2760839720.py#24\" target=\"_blank\"><span style=\"color: #7f7f7f; text-decoration-color: #7f7f7f\">24</span></a>\n",
       "</pre>\n"
      ],
      "text/plain": [
       "\u001b[2;36m          \u001b[0m\u001b[2;36m \u001b[0mSearching for JEFFREY WALL \u001b[1;36m1996.0\u001b[0m CRYSTAL CITY MO \u001b[1;36m63019\u001b[0m \u001b[1;36m421\u001b[0m 10TH ST                     \u001b]8;id=151749;file:///var/folders/v0/wzkm0bb11x1b_27rl_172pdr0000gp/T/ipykernel_78208/2760839720.py\u001b\\\u001b[2m2760839720.py\u001b[0m\u001b]8;;\u001b\\\u001b[2m:\u001b[0m\u001b]8;id=624252;file:///var/folders/v0/wzkm0bb11x1b_27rl_172pdr0000gp/T/ipykernel_78208/2760839720.py#24\u001b\\\u001b[2m24\u001b[0m\u001b]8;;\u001b\\\n"
      ]
     },
     "metadata": {},
     "output_type": "display_data"
    },
    {
     "data": {
      "text/html": [
       "<pre style=\"white-space:pre;overflow-x:auto;line-height:normal;font-family:Menlo,'DejaVu Sans Mono',consolas,'Courier New',monospace\"><span style=\"color: #7fbfbf; text-decoration-color: #7fbfbf\">[14:56:47] </span>Case <span style=\"color: #008080; text-decoration-color: #008080; font-weight: bold\">230231528</span> already exists with status stop                                          <a href=\"file:///var/folders/v0/wzkm0bb11x1b_27rl_172pdr0000gp/T/ipykernel_78208/2760839720.py\" target=\"_blank\"><span style=\"color: #7f7f7f; text-decoration-color: #7f7f7f\">2760839720.py</span></a><span style=\"color: #7f7f7f; text-decoration-color: #7f7f7f\">:</span><a href=\"file:///var/folders/v0/wzkm0bb11x1b_27rl_172pdr0000gp/T/ipykernel_78208/2760839720.py#52\" target=\"_blank\"><span style=\"color: #7f7f7f; text-decoration-color: #7f7f7f\">52</span></a>\n",
       "</pre>\n"
      ],
      "text/plain": [
       "\u001b[2;36m[14:56:47]\u001b[0m\u001b[2;36m \u001b[0mCase \u001b[1;36m230231528\u001b[0m already exists with status stop                                          \u001b]8;id=724222;file:///var/folders/v0/wzkm0bb11x1b_27rl_172pdr0000gp/T/ipykernel_78208/2760839720.py\u001b\\\u001b[2m2760839720.py\u001b[0m\u001b]8;;\u001b\\\u001b[2m:\u001b[0m\u001b]8;id=447098;file:///var/folders/v0/wzkm0bb11x1b_27rl_172pdr0000gp/T/ipykernel_78208/2760839720.py#52\u001b\\\u001b[2m52\u001b[0m\u001b]8;;\u001b\\\n"
      ]
     },
     "metadata": {},
     "output_type": "display_data"
    },
    {
     "data": {
      "text/html": [
       "<pre style=\"white-space:pre;overflow-x:auto;line-height:normal;font-family:Menlo,'DejaVu Sans Mono',consolas,'Courier New',monospace\"><span style=\"color: #7fbfbf; text-decoration-color: #7fbfbf\">           </span>Case details JEFFREY WALL <span style=\"color: #008080; text-decoration-color: #008080; font-weight: bold\">1996</span> Exceeded Posted Speed Limit <span style=\"font-weight: bold\">(</span><span style=\"color: #008080; text-decoration-color: #008080; font-weight: bold\">16</span>-<span style=\"color: #008080; text-decoration-color: #008080; font-weight: bold\">19</span> Mph Over<span style=\"font-weight: bold\">)</span>             <a href=\"file:///var/folders/v0/wzkm0bb11x1b_27rl_172pdr0000gp/T/ipykernel_78208/2760839720.py\" target=\"_blank\"><span style=\"color: #7f7f7f; text-decoration-color: #7f7f7f\">2760839720.py</span></a><span style=\"color: #7f7f7f; text-decoration-color: #7f7f7f\">:</span><a href=\"file:///var/folders/v0/wzkm0bb11x1b_27rl_172pdr0000gp/T/ipykernel_78208/2760839720.py#55\" target=\"_blank\"><span style=\"color: #7f7f7f; text-decoration-color: #7f7f7f\">55</span></a>\n",
       "</pre>\n"
      ],
      "text/plain": [
       "\u001b[2;36m          \u001b[0m\u001b[2;36m \u001b[0mCase details JEFFREY WALL \u001b[1;36m1996\u001b[0m Exceeded Posted Speed Limit \u001b[1m(\u001b[0m\u001b[1;36m16\u001b[0m-\u001b[1;36m19\u001b[0m Mph Over\u001b[1m)\u001b[0m             \u001b]8;id=187477;file:///var/folders/v0/wzkm0bb11x1b_27rl_172pdr0000gp/T/ipykernel_78208/2760839720.py\u001b\\\u001b[2m2760839720.py\u001b[0m\u001b]8;;\u001b\\\u001b[2m:\u001b[0m\u001b]8;id=382856;file:///var/folders/v0/wzkm0bb11x1b_27rl_172pdr0000gp/T/ipykernel_78208/2760839720.py#55\u001b\\\u001b[2m55\u001b[0m\u001b]8;;\u001b\\\n"
      ]
     },
     "metadata": {},
     "output_type": "display_data"
    },
    {
     "data": {
      "text/html": [
       "<pre style=\"white-space:pre;overflow-x:auto;line-height:normal;font-family:Menlo,'DejaVu Sans Mono',consolas,'Courier New',monospace\"><span style=\"color: #7fbfbf; text-decoration-color: #7fbfbf\">           </span>Searching for WILLIAM WIEST <span style=\"color: #008080; text-decoration-color: #008080; font-weight: bold\">1994.0</span> LENEXA MO <span style=\"color: #008080; text-decoration-color: #008080; font-weight: bold\">66215</span> <span style=\"color: #008080; text-decoration-color: #008080; font-weight: bold\">1209</span> W 92ND ST                       <a href=\"file:///var/folders/v0/wzkm0bb11x1b_27rl_172pdr0000gp/T/ipykernel_78208/2760839720.py\" target=\"_blank\"><span style=\"color: #7f7f7f; text-decoration-color: #7f7f7f\">2760839720.py</span></a><span style=\"color: #7f7f7f; text-decoration-color: #7f7f7f\">:</span><a href=\"file:///var/folders/v0/wzkm0bb11x1b_27rl_172pdr0000gp/T/ipykernel_78208/2760839720.py#24\" target=\"_blank\"><span style=\"color: #7f7f7f; text-decoration-color: #7f7f7f\">24</span></a>\n",
       "</pre>\n"
      ],
      "text/plain": [
       "\u001b[2;36m          \u001b[0m\u001b[2;36m \u001b[0mSearching for WILLIAM WIEST \u001b[1;36m1994.0\u001b[0m LENEXA MO \u001b[1;36m66215\u001b[0m \u001b[1;36m1209\u001b[0m W 92ND ST                       \u001b]8;id=26431;file:///var/folders/v0/wzkm0bb11x1b_27rl_172pdr0000gp/T/ipykernel_78208/2760839720.py\u001b\\\u001b[2m2760839720.py\u001b[0m\u001b]8;;\u001b\\\u001b[2m:\u001b[0m\u001b]8;id=840122;file:///var/folders/v0/wzkm0bb11x1b_27rl_172pdr0000gp/T/ipykernel_78208/2760839720.py#24\u001b\\\u001b[2m24\u001b[0m\u001b]8;;\u001b\\\n"
      ]
     },
     "metadata": {},
     "output_type": "display_data"
    },
    {
     "data": {
      "text/html": [
       "<pre style=\"white-space:pre;overflow-x:auto;line-height:normal;font-family:Menlo,'DejaVu Sans Mono',consolas,'Courier New',monospace\"><span style=\"color: #7fbfbf; text-decoration-color: #7fbfbf\">[14:56:48] </span>Case <span style=\"color: #008080; text-decoration-color: #008080; font-weight: bold\">230237222</span> already exists with status contacted                                     <a href=\"file:///var/folders/v0/wzkm0bb11x1b_27rl_172pdr0000gp/T/ipykernel_78208/2760839720.py\" target=\"_blank\"><span style=\"color: #7f7f7f; text-decoration-color: #7f7f7f\">2760839720.py</span></a><span style=\"color: #7f7f7f; text-decoration-color: #7f7f7f\">:</span><a href=\"file:///var/folders/v0/wzkm0bb11x1b_27rl_172pdr0000gp/T/ipykernel_78208/2760839720.py#52\" target=\"_blank\"><span style=\"color: #7f7f7f; text-decoration-color: #7f7f7f\">52</span></a>\n",
       "</pre>\n"
      ],
      "text/plain": [
       "\u001b[2;36m[14:56:48]\u001b[0m\u001b[2;36m \u001b[0mCase \u001b[1;36m230237222\u001b[0m already exists with status contacted                                     \u001b]8;id=885182;file:///var/folders/v0/wzkm0bb11x1b_27rl_172pdr0000gp/T/ipykernel_78208/2760839720.py\u001b\\\u001b[2m2760839720.py\u001b[0m\u001b]8;;\u001b\\\u001b[2m:\u001b[0m\u001b]8;id=329662;file:///var/folders/v0/wzkm0bb11x1b_27rl_172pdr0000gp/T/ipykernel_78208/2760839720.py#52\u001b\\\u001b[2m52\u001b[0m\u001b]8;;\u001b\\\n"
      ]
     },
     "metadata": {},
     "output_type": "display_data"
    },
    {
     "data": {
      "text/html": [
       "<pre style=\"white-space:pre;overflow-x:auto;line-height:normal;font-family:Menlo,'DejaVu Sans Mono',consolas,'Courier New',monospace\"><span style=\"color: #7fbfbf; text-decoration-color: #7fbfbf\">           </span>Case details WILLIAM WIEST <span style=\"color: #008080; text-decoration-color: #008080; font-weight: bold\">1994</span> Operate Motor Vehicle In Careless And Imprudent Manner  <a href=\"file:///var/folders/v0/wzkm0bb11x1b_27rl_172pdr0000gp/T/ipykernel_78208/2760839720.py\" target=\"_blank\"><span style=\"color: #7f7f7f; text-decoration-color: #7f7f7f\">2760839720.py</span></a><span style=\"color: #7f7f7f; text-decoration-color: #7f7f7f\">:</span><a href=\"file:///var/folders/v0/wzkm0bb11x1b_27rl_172pdr0000gp/T/ipykernel_78208/2760839720.py#55\" target=\"_blank\"><span style=\"color: #7f7f7f; text-decoration-color: #7f7f7f\">55</span></a>\n",
       "</pre>\n"
      ],
      "text/plain": [
       "\u001b[2;36m          \u001b[0m\u001b[2;36m \u001b[0mCase details WILLIAM WIEST \u001b[1;36m1994\u001b[0m Operate Motor Vehicle In Careless And Imprudent Manner  \u001b]8;id=320940;file:///var/folders/v0/wzkm0bb11x1b_27rl_172pdr0000gp/T/ipykernel_78208/2760839720.py\u001b\\\u001b[2m2760839720.py\u001b[0m\u001b]8;;\u001b\\\u001b[2m:\u001b[0m\u001b]8;id=200532;file:///var/folders/v0/wzkm0bb11x1b_27rl_172pdr0000gp/T/ipykernel_78208/2760839720.py#55\u001b\\\u001b[2m55\u001b[0m\u001b]8;;\u001b\\\n"
      ]
     },
     "metadata": {},
     "output_type": "display_data"
    },
    {
     "data": {
      "text/html": [
       "<pre style=\"white-space:pre;overflow-x:auto;line-height:normal;font-family:Menlo,'DejaVu Sans Mono',consolas,'Courier New',monospace\"><span style=\"color: #7fbfbf; text-decoration-color: #7fbfbf\">           </span>Case <span style=\"color: #008080; text-decoration-color: #008080; font-weight: bold\">230237223</span> already exists with status wait                                          <a href=\"file:///var/folders/v0/wzkm0bb11x1b_27rl_172pdr0000gp/T/ipykernel_78208/2760839720.py\" target=\"_blank\"><span style=\"color: #7f7f7f; text-decoration-color: #7f7f7f\">2760839720.py</span></a><span style=\"color: #7f7f7f; text-decoration-color: #7f7f7f\">:</span><a href=\"file:///var/folders/v0/wzkm0bb11x1b_27rl_172pdr0000gp/T/ipykernel_78208/2760839720.py#52\" target=\"_blank\"><span style=\"color: #7f7f7f; text-decoration-color: #7f7f7f\">52</span></a>\n",
       "</pre>\n"
      ],
      "text/plain": [
       "\u001b[2;36m          \u001b[0m\u001b[2;36m \u001b[0mCase \u001b[1;36m230237223\u001b[0m already exists with status wait                                          \u001b]8;id=561492;file:///var/folders/v0/wzkm0bb11x1b_27rl_172pdr0000gp/T/ipykernel_78208/2760839720.py\u001b\\\u001b[2m2760839720.py\u001b[0m\u001b]8;;\u001b\\\u001b[2m:\u001b[0m\u001b]8;id=927157;file:///var/folders/v0/wzkm0bb11x1b_27rl_172pdr0000gp/T/ipykernel_78208/2760839720.py#52\u001b\\\u001b[2m52\u001b[0m\u001b]8;;\u001b\\\n"
      ]
     },
     "metadata": {},
     "output_type": "display_data"
    },
    {
     "data": {
      "text/html": [
       "<pre style=\"white-space:pre;overflow-x:auto;line-height:normal;font-family:Menlo,'DejaVu Sans Mono',consolas,'Courier New',monospace\"><span style=\"color: #7fbfbf; text-decoration-color: #7fbfbf\">           </span>Case details WILLIAM WIEST <span style=\"color: #008080; text-decoration-color: #008080; font-weight: bold\">1994</span> Driving While Revoked Or Suspended                      <a href=\"file:///var/folders/v0/wzkm0bb11x1b_27rl_172pdr0000gp/T/ipykernel_78208/2760839720.py\" target=\"_blank\"><span style=\"color: #7f7f7f; text-decoration-color: #7f7f7f\">2760839720.py</span></a><span style=\"color: #7f7f7f; text-decoration-color: #7f7f7f\">:</span><a href=\"file:///var/folders/v0/wzkm0bb11x1b_27rl_172pdr0000gp/T/ipykernel_78208/2760839720.py#55\" target=\"_blank\"><span style=\"color: #7f7f7f; text-decoration-color: #7f7f7f\">55</span></a>\n",
       "</pre>\n"
      ],
      "text/plain": [
       "\u001b[2;36m          \u001b[0m\u001b[2;36m \u001b[0mCase details WILLIAM WIEST \u001b[1;36m1994\u001b[0m Driving While Revoked Or Suspended                      \u001b]8;id=587778;file:///var/folders/v0/wzkm0bb11x1b_27rl_172pdr0000gp/T/ipykernel_78208/2760839720.py\u001b\\\u001b[2m2760839720.py\u001b[0m\u001b]8;;\u001b\\\u001b[2m:\u001b[0m\u001b]8;id=151111;file:///var/folders/v0/wzkm0bb11x1b_27rl_172pdr0000gp/T/ipykernel_78208/2760839720.py#55\u001b\\\u001b[2m55\u001b[0m\u001b]8;;\u001b\\\n"
      ]
     },
     "metadata": {},
     "output_type": "display_data"
    },
    {
     "data": {
      "text/html": [
       "<pre style=\"white-space:pre;overflow-x:auto;line-height:normal;font-family:Menlo,'DejaVu Sans Mono',consolas,'Courier New',monospace\"><span style=\"color: #7fbfbf; text-decoration-color: #7fbfbf\">           </span>Searching for DUSTEN DOOLEN <span style=\"color: #008080; text-decoration-color: #008080; font-weight: bold\">1981.0</span> FERRELVIEW MO <span style=\"color: #008080; text-decoration-color: #008080; font-weight: bold\">64163</span> <span style=\"color: #008080; text-decoration-color: #008080; font-weight: bold\">206</span> 2ND ST FERRELVIEW            <a href=\"file:///var/folders/v0/wzkm0bb11x1b_27rl_172pdr0000gp/T/ipykernel_78208/2760839720.py\" target=\"_blank\"><span style=\"color: #7f7f7f; text-decoration-color: #7f7f7f\">2760839720.py</span></a><span style=\"color: #7f7f7f; text-decoration-color: #7f7f7f\">:</span><a href=\"file:///var/folders/v0/wzkm0bb11x1b_27rl_172pdr0000gp/T/ipykernel_78208/2760839720.py#24\" target=\"_blank\"><span style=\"color: #7f7f7f; text-decoration-color: #7f7f7f\">24</span></a>\n",
       "</pre>\n"
      ],
      "text/plain": [
       "\u001b[2;36m          \u001b[0m\u001b[2;36m \u001b[0mSearching for DUSTEN DOOLEN \u001b[1;36m1981.0\u001b[0m FERRELVIEW MO \u001b[1;36m64163\u001b[0m \u001b[1;36m206\u001b[0m 2ND ST FERRELVIEW            \u001b]8;id=742468;file:///var/folders/v0/wzkm0bb11x1b_27rl_172pdr0000gp/T/ipykernel_78208/2760839720.py\u001b\\\u001b[2m2760839720.py\u001b[0m\u001b]8;;\u001b\\\u001b[2m:\u001b[0m\u001b]8;id=624422;file:///var/folders/v0/wzkm0bb11x1b_27rl_172pdr0000gp/T/ipykernel_78208/2760839720.py#24\u001b\\\u001b[2m24\u001b[0m\u001b]8;;\u001b\\\n"
      ]
     },
     "metadata": {},
     "output_type": "display_data"
    },
    {
     "data": {
      "text/html": [
       "<pre style=\"white-space:pre;overflow-x:auto;line-height:normal;font-family:Menlo,'DejaVu Sans Mono',consolas,'Courier New',monospace\"><span style=\"color: #7fbfbf; text-decoration-color: #7fbfbf\">[14:56:49] </span>Case <span style=\"color: #008080; text-decoration-color: #008080; font-weight: bold\">210918552</span> already exists with status contacted                                     <a href=\"file:///var/folders/v0/wzkm0bb11x1b_27rl_172pdr0000gp/T/ipykernel_78208/2760839720.py\" target=\"_blank\"><span style=\"color: #7f7f7f; text-decoration-color: #7f7f7f\">2760839720.py</span></a><span style=\"color: #7f7f7f; text-decoration-color: #7f7f7f\">:</span><a href=\"file:///var/folders/v0/wzkm0bb11x1b_27rl_172pdr0000gp/T/ipykernel_78208/2760839720.py#52\" target=\"_blank\"><span style=\"color: #7f7f7f; text-decoration-color: #7f7f7f\">52</span></a>\n",
       "</pre>\n"
      ],
      "text/plain": [
       "\u001b[2;36m[14:56:49]\u001b[0m\u001b[2;36m \u001b[0mCase \u001b[1;36m210918552\u001b[0m already exists with status contacted                                     \u001b]8;id=934906;file:///var/folders/v0/wzkm0bb11x1b_27rl_172pdr0000gp/T/ipykernel_78208/2760839720.py\u001b\\\u001b[2m2760839720.py\u001b[0m\u001b]8;;\u001b\\\u001b[2m:\u001b[0m\u001b]8;id=253992;file:///var/folders/v0/wzkm0bb11x1b_27rl_172pdr0000gp/T/ipykernel_78208/2760839720.py#52\u001b\\\u001b[2m52\u001b[0m\u001b]8;;\u001b\\\n"
      ]
     },
     "metadata": {},
     "output_type": "display_data"
    },
    {
     "data": {
      "text/html": [
       "<pre style=\"white-space:pre;overflow-x:auto;line-height:normal;font-family:Menlo,'DejaVu Sans Mono',consolas,'Courier New',monospace\"><span style=\"color: #7fbfbf; text-decoration-color: #7fbfbf\">           </span>Case details DUSTEN DOOLEN <span style=\"color: #008080; text-decoration-color: #008080; font-weight: bold\">1981</span> Fail To Stop At Stop Sign At Stop Line/Before           <a href=\"file:///var/folders/v0/wzkm0bb11x1b_27rl_172pdr0000gp/T/ipykernel_78208/2760839720.py\" target=\"_blank\"><span style=\"color: #7f7f7f; text-decoration-color: #7f7f7f\">2760839720.py</span></a><span style=\"color: #7f7f7f; text-decoration-color: #7f7f7f\">:</span><a href=\"file:///var/folders/v0/wzkm0bb11x1b_27rl_172pdr0000gp/T/ipykernel_78208/2760839720.py#55\" target=\"_blank\"><span style=\"color: #7f7f7f; text-decoration-color: #7f7f7f\">55</span></a>\n",
       "<span style=\"color: #7fbfbf; text-decoration-color: #7fbfbf\">           </span>Crosswalk/Point Nearest Intersection                                                    <span style=\"color: #7f7f7f; text-decoration-color: #7f7f7f\">                </span>\n",
       "</pre>\n"
      ],
      "text/plain": [
       "\u001b[2;36m          \u001b[0m\u001b[2;36m \u001b[0mCase details DUSTEN DOOLEN \u001b[1;36m1981\u001b[0m Fail To Stop At Stop Sign At Stop Line/Before           \u001b]8;id=532267;file:///var/folders/v0/wzkm0bb11x1b_27rl_172pdr0000gp/T/ipykernel_78208/2760839720.py\u001b\\\u001b[2m2760839720.py\u001b[0m\u001b]8;;\u001b\\\u001b[2m:\u001b[0m\u001b]8;id=867948;file:///var/folders/v0/wzkm0bb11x1b_27rl_172pdr0000gp/T/ipykernel_78208/2760839720.py#55\u001b\\\u001b[2m55\u001b[0m\u001b]8;;\u001b\\\n",
       "\u001b[2;36m           \u001b[0mCrosswalk/Point Nearest Intersection                                                    \u001b[2m                \u001b[0m\n"
      ]
     },
     "metadata": {},
     "output_type": "display_data"
    },
    {
     "data": {
      "text/html": [
       "<pre style=\"white-space:pre;overflow-x:auto;line-height:normal;font-family:Menlo,'DejaVu Sans Mono',consolas,'Courier New',monospace\"><span style=\"color: #7fbfbf; text-decoration-color: #7fbfbf\">[14:56:50] </span>Searching for MARRISSA MEDRANO <span style=\"color: #008080; text-decoration-color: #008080; font-weight: bold\">2000.0</span> FREDERICKTOWN MO <span style=\"color: #008080; text-decoration-color: #008080; font-weight: bold\">63645</span> <span style=\"color: #008080; text-decoration-color: #008080; font-weight: bold\">411</span> MADISON ST. SUITE-C    <a href=\"file:///var/folders/v0/wzkm0bb11x1b_27rl_172pdr0000gp/T/ipykernel_78208/2760839720.py\" target=\"_blank\"><span style=\"color: #7f7f7f; text-decoration-color: #7f7f7f\">2760839720.py</span></a><span style=\"color: #7f7f7f; text-decoration-color: #7f7f7f\">:</span><a href=\"file:///var/folders/v0/wzkm0bb11x1b_27rl_172pdr0000gp/T/ipykernel_78208/2760839720.py#24\" target=\"_blank\"><span style=\"color: #7f7f7f; text-decoration-color: #7f7f7f\">24</span></a>\n",
       "</pre>\n"
      ],
      "text/plain": [
       "\u001b[2;36m[14:56:50]\u001b[0m\u001b[2;36m \u001b[0mSearching for MARRISSA MEDRANO \u001b[1;36m2000.0\u001b[0m FREDERICKTOWN MO \u001b[1;36m63645\u001b[0m \u001b[1;36m411\u001b[0m MADISON ST. SUITE-C    \u001b]8;id=669353;file:///var/folders/v0/wzkm0bb11x1b_27rl_172pdr0000gp/T/ipykernel_78208/2760839720.py\u001b\\\u001b[2m2760839720.py\u001b[0m\u001b]8;;\u001b\\\u001b[2m:\u001b[0m\u001b]8;id=438816;file:///var/folders/v0/wzkm0bb11x1b_27rl_172pdr0000gp/T/ipykernel_78208/2760839720.py#24\u001b\\\u001b[2m24\u001b[0m\u001b]8;;\u001b\\\n"
      ]
     },
     "metadata": {},
     "output_type": "display_data"
    },
    {
     "data": {
      "text/html": [
       "<pre style=\"white-space:pre;overflow-x:auto;line-height:normal;font-family:Menlo,'DejaVu Sans Mono',consolas,'Courier New',monospace\"><span style=\"color: #7fbfbf; text-decoration-color: #7fbfbf\">           </span>Case <span style=\"color: #008080; text-decoration-color: #008080; font-weight: bold\">220239650</span> already exists with status contacted                                     <a href=\"file:///var/folders/v0/wzkm0bb11x1b_27rl_172pdr0000gp/T/ipykernel_78208/2760839720.py\" target=\"_blank\"><span style=\"color: #7f7f7f; text-decoration-color: #7f7f7f\">2760839720.py</span></a><span style=\"color: #7f7f7f; text-decoration-color: #7f7f7f\">:</span><a href=\"file:///var/folders/v0/wzkm0bb11x1b_27rl_172pdr0000gp/T/ipykernel_78208/2760839720.py#52\" target=\"_blank\"><span style=\"color: #7f7f7f; text-decoration-color: #7f7f7f\">52</span></a>\n",
       "</pre>\n"
      ],
      "text/plain": [
       "\u001b[2;36m          \u001b[0m\u001b[2;36m \u001b[0mCase \u001b[1;36m220239650\u001b[0m already exists with status contacted                                     \u001b]8;id=252136;file:///var/folders/v0/wzkm0bb11x1b_27rl_172pdr0000gp/T/ipykernel_78208/2760839720.py\u001b\\\u001b[2m2760839720.py\u001b[0m\u001b]8;;\u001b\\\u001b[2m:\u001b[0m\u001b]8;id=643574;file:///var/folders/v0/wzkm0bb11x1b_27rl_172pdr0000gp/T/ipykernel_78208/2760839720.py#52\u001b\\\u001b[2m52\u001b[0m\u001b]8;;\u001b\\\n"
      ]
     },
     "metadata": {},
     "output_type": "display_data"
    },
    {
     "data": {
      "text/html": [
       "<pre style=\"white-space:pre;overflow-x:auto;line-height:normal;font-family:Menlo,'DejaVu Sans Mono',consolas,'Courier New',monospace\"><span style=\"color: #7fbfbf; text-decoration-color: #7fbfbf\">           </span>Case details MARRISSA MEDRANO <span style=\"color: #008080; text-decoration-color: #008080; font-weight: bold\">2000</span> Failed To Drive Within Single Lane                   <a href=\"file:///var/folders/v0/wzkm0bb11x1b_27rl_172pdr0000gp/T/ipykernel_78208/2760839720.py\" target=\"_blank\"><span style=\"color: #7f7f7f; text-decoration-color: #7f7f7f\">2760839720.py</span></a><span style=\"color: #7f7f7f; text-decoration-color: #7f7f7f\">:</span><a href=\"file:///var/folders/v0/wzkm0bb11x1b_27rl_172pdr0000gp/T/ipykernel_78208/2760839720.py#55\" target=\"_blank\"><span style=\"color: #7f7f7f; text-decoration-color: #7f7f7f\">55</span></a>\n",
       "</pre>\n"
      ],
      "text/plain": [
       "\u001b[2;36m          \u001b[0m\u001b[2;36m \u001b[0mCase details MARRISSA MEDRANO \u001b[1;36m2000\u001b[0m Failed To Drive Within Single Lane                   \u001b]8;id=300341;file:///var/folders/v0/wzkm0bb11x1b_27rl_172pdr0000gp/T/ipykernel_78208/2760839720.py\u001b\\\u001b[2m2760839720.py\u001b[0m\u001b]8;;\u001b\\\u001b[2m:\u001b[0m\u001b]8;id=325666;file:///var/folders/v0/wzkm0bb11x1b_27rl_172pdr0000gp/T/ipykernel_78208/2760839720.py#55\u001b\\\u001b[2m55\u001b[0m\u001b]8;;\u001b\\\n"
      ]
     },
     "metadata": {},
     "output_type": "display_data"
    },
    {
     "data": {
      "text/html": [
       "<pre style=\"white-space:pre;overflow-x:auto;line-height:normal;font-family:Menlo,'DejaVu Sans Mono',consolas,'Courier New',monospace\"><span style=\"color: #7fbfbf; text-decoration-color: #7fbfbf\">           </span>Case UKAU__IMMY_JOE_27_06_07_2024 has no address                                        <a href=\"file:///var/folders/v0/wzkm0bb11x1b_27rl_172pdr0000gp/T/ipykernel_78208/2760839720.py\" target=\"_blank\"><span style=\"color: #7f7f7f; text-decoration-color: #7f7f7f\">2760839720.py</span></a><span style=\"color: #7f7f7f; text-decoration-color: #7f7f7f\">:</span><a href=\"file:///var/folders/v0/wzkm0bb11x1b_27rl_172pdr0000gp/T/ipykernel_78208/2760839720.py#20\" target=\"_blank\"><span style=\"color: #7f7f7f; text-decoration-color: #7f7f7f\">20</span></a>\n",
       "</pre>\n"
      ],
      "text/plain": [
       "\u001b[2;36m          \u001b[0m\u001b[2;36m \u001b[0mCase UKAU__IMMY_JOE_27_06_07_2024 has no address                                        \u001b]8;id=501259;file:///var/folders/v0/wzkm0bb11x1b_27rl_172pdr0000gp/T/ipykernel_78208/2760839720.py\u001b\\\u001b[2m2760839720.py\u001b[0m\u001b]8;;\u001b\\\u001b[2m:\u001b[0m\u001b]8;id=338629;file:///var/folders/v0/wzkm0bb11x1b_27rl_172pdr0000gp/T/ipykernel_78208/2760839720.py#20\u001b\\\u001b[2m20\u001b[0m\u001b]8;;\u001b\\\n"
      ]
     },
     "metadata": {},
     "output_type": "display_data"
    },
    {
     "data": {
      "text/html": [
       "<pre style=\"white-space:pre;overflow-x:auto;line-height:normal;font-family:Menlo,'DejaVu Sans Mono',consolas,'Courier New',monospace\"><span style=\"color: #7fbfbf; text-decoration-color: #7fbfbf\">[14:56:51] </span>Case SMITH__MICHAEL_R_71_06_07_2024 has no address                                      <a href=\"file:///var/folders/v0/wzkm0bb11x1b_27rl_172pdr0000gp/T/ipykernel_78208/2760839720.py\" target=\"_blank\"><span style=\"color: #7f7f7f; text-decoration-color: #7f7f7f\">2760839720.py</span></a><span style=\"color: #7f7f7f; text-decoration-color: #7f7f7f\">:</span><a href=\"file:///var/folders/v0/wzkm0bb11x1b_27rl_172pdr0000gp/T/ipykernel_78208/2760839720.py#20\" target=\"_blank\"><span style=\"color: #7f7f7f; text-decoration-color: #7f7f7f\">20</span></a>\n",
       "</pre>\n"
      ],
      "text/plain": [
       "\u001b[2;36m[14:56:51]\u001b[0m\u001b[2;36m \u001b[0mCase SMITH__MICHAEL_R_71_06_07_2024 has no address                                      \u001b]8;id=670220;file:///var/folders/v0/wzkm0bb11x1b_27rl_172pdr0000gp/T/ipykernel_78208/2760839720.py\u001b\\\u001b[2m2760839720.py\u001b[0m\u001b]8;;\u001b\\\u001b[2m:\u001b[0m\u001b]8;id=961893;file:///var/folders/v0/wzkm0bb11x1b_27rl_172pdr0000gp/T/ipykernel_78208/2760839720.py#20\u001b\\\u001b[2m20\u001b[0m\u001b]8;;\u001b\\\n"
      ]
     },
     "metadata": {},
     "output_type": "display_data"
    },
    {
     "data": {
      "text/html": [
       "<pre style=\"white-space:pre;overflow-x:auto;line-height:normal;font-family:Menlo,'DejaVu Sans Mono',consolas,'Courier New',monospace\"><span style=\"color: #7fbfbf; text-decoration-color: #7fbfbf\">           </span>Case RIDDLE__RACHAEL_L_34_06_07_2024 has no address                                     <a href=\"file:///var/folders/v0/wzkm0bb11x1b_27rl_172pdr0000gp/T/ipykernel_78208/2760839720.py\" target=\"_blank\"><span style=\"color: #7f7f7f; text-decoration-color: #7f7f7f\">2760839720.py</span></a><span style=\"color: #7f7f7f; text-decoration-color: #7f7f7f\">:</span><a href=\"file:///var/folders/v0/wzkm0bb11x1b_27rl_172pdr0000gp/T/ipykernel_78208/2760839720.py#20\" target=\"_blank\"><span style=\"color: #7f7f7f; text-decoration-color: #7f7f7f\">20</span></a>\n",
       "</pre>\n"
      ],
      "text/plain": [
       "\u001b[2;36m          \u001b[0m\u001b[2;36m \u001b[0mCase RIDDLE__RACHAEL_L_34_06_07_2024 has no address                                     \u001b]8;id=781077;file:///var/folders/v0/wzkm0bb11x1b_27rl_172pdr0000gp/T/ipykernel_78208/2760839720.py\u001b\\\u001b[2m2760839720.py\u001b[0m\u001b]8;;\u001b\\\u001b[2m:\u001b[0m\u001b]8;id=971851;file:///var/folders/v0/wzkm0bb11x1b_27rl_172pdr0000gp/T/ipykernel_78208/2760839720.py#20\u001b\\\u001b[2m20\u001b[0m\u001b]8;;\u001b\\\n"
      ]
     },
     "metadata": {},
     "output_type": "display_data"
    },
    {
     "data": {
      "text/html": [
       "<pre style=\"white-space:pre;overflow-x:auto;line-height:normal;font-family:Menlo,'DejaVu Sans Mono',consolas,'Courier New',monospace\"><span style=\"color: #7fbfbf; text-decoration-color: #7fbfbf\">[14:56:52] </span>Case BAILEY__JAMES_P_19_06_06_2024 has no address                                       <a href=\"file:///var/folders/v0/wzkm0bb11x1b_27rl_172pdr0000gp/T/ipykernel_78208/2760839720.py\" target=\"_blank\"><span style=\"color: #7f7f7f; text-decoration-color: #7f7f7f\">2760839720.py</span></a><span style=\"color: #7f7f7f; text-decoration-color: #7f7f7f\">:</span><a href=\"file:///var/folders/v0/wzkm0bb11x1b_27rl_172pdr0000gp/T/ipykernel_78208/2760839720.py#20\" target=\"_blank\"><span style=\"color: #7f7f7f; text-decoration-color: #7f7f7f\">20</span></a>\n",
       "</pre>\n"
      ],
      "text/plain": [
       "\u001b[2;36m[14:56:52]\u001b[0m\u001b[2;36m \u001b[0mCase BAILEY__JAMES_P_19_06_06_2024 has no address                                       \u001b]8;id=393243;file:///var/folders/v0/wzkm0bb11x1b_27rl_172pdr0000gp/T/ipykernel_78208/2760839720.py\u001b\\\u001b[2m2760839720.py\u001b[0m\u001b]8;;\u001b\\\u001b[2m:\u001b[0m\u001b]8;id=43789;file:///var/folders/v0/wzkm0bb11x1b_27rl_172pdr0000gp/T/ipykernel_78208/2760839720.py#20\u001b\\\u001b[2m20\u001b[0m\u001b]8;;\u001b\\\n"
      ]
     },
     "metadata": {},
     "output_type": "display_data"
    },
    {
     "data": {
      "text/html": [
       "<pre style=\"white-space:pre;overflow-x:auto;line-height:normal;font-family:Menlo,'DejaVu Sans Mono',consolas,'Courier New',monospace\"><span style=\"color: #7fbfbf; text-decoration-color: #7fbfbf\">           </span>Case ADAMS__SHIANNE_N_27_06_06_2024 has no address                                      <a href=\"file:///var/folders/v0/wzkm0bb11x1b_27rl_172pdr0000gp/T/ipykernel_78208/2760839720.py\" target=\"_blank\"><span style=\"color: #7f7f7f; text-decoration-color: #7f7f7f\">2760839720.py</span></a><span style=\"color: #7f7f7f; text-decoration-color: #7f7f7f\">:</span><a href=\"file:///var/folders/v0/wzkm0bb11x1b_27rl_172pdr0000gp/T/ipykernel_78208/2760839720.py#20\" target=\"_blank\"><span style=\"color: #7f7f7f; text-decoration-color: #7f7f7f\">20</span></a>\n",
       "</pre>\n"
      ],
      "text/plain": [
       "\u001b[2;36m          \u001b[0m\u001b[2;36m \u001b[0mCase ADAMS__SHIANNE_N_27_06_06_2024 has no address                                      \u001b]8;id=403175;file:///var/folders/v0/wzkm0bb11x1b_27rl_172pdr0000gp/T/ipykernel_78208/2760839720.py\u001b\\\u001b[2m2760839720.py\u001b[0m\u001b]8;;\u001b\\\u001b[2m:\u001b[0m\u001b]8;id=255056;file:///var/folders/v0/wzkm0bb11x1b_27rl_172pdr0000gp/T/ipykernel_78208/2760839720.py#20\u001b\\\u001b[2m20\u001b[0m\u001b]8;;\u001b\\\n"
      ]
     },
     "metadata": {},
     "output_type": "display_data"
    },
    {
     "data": {
      "text/html": [
       "<pre style=\"white-space:pre;overflow-x:auto;line-height:normal;font-family:Menlo,'DejaVu Sans Mono',consolas,'Courier New',monospace\"><span style=\"color: #7fbfbf; text-decoration-color: #7fbfbf\">           </span>Case UKAU__IMMY_JOE_27_06_07_2024 has no address                                        <a href=\"file:///var/folders/v0/wzkm0bb11x1b_27rl_172pdr0000gp/T/ipykernel_78208/2760839720.py\" target=\"_blank\"><span style=\"color: #7f7f7f; text-decoration-color: #7f7f7f\">2760839720.py</span></a><span style=\"color: #7f7f7f; text-decoration-color: #7f7f7f\">:</span><a href=\"file:///var/folders/v0/wzkm0bb11x1b_27rl_172pdr0000gp/T/ipykernel_78208/2760839720.py#20\" target=\"_blank\"><span style=\"color: #7f7f7f; text-decoration-color: #7f7f7f\">20</span></a>\n",
       "</pre>\n"
      ],
      "text/plain": [
       "\u001b[2;36m          \u001b[0m\u001b[2;36m \u001b[0mCase UKAU__IMMY_JOE_27_06_07_2024 has no address                                        \u001b]8;id=226872;file:///var/folders/v0/wzkm0bb11x1b_27rl_172pdr0000gp/T/ipykernel_78208/2760839720.py\u001b\\\u001b[2m2760839720.py\u001b[0m\u001b]8;;\u001b\\\u001b[2m:\u001b[0m\u001b]8;id=864280;file:///var/folders/v0/wzkm0bb11x1b_27rl_172pdr0000gp/T/ipykernel_78208/2760839720.py#20\u001b\\\u001b[2m20\u001b[0m\u001b]8;;\u001b\\\n"
      ]
     },
     "metadata": {},
     "output_type": "display_data"
    },
    {
     "data": {
      "text/html": [
       "<pre style=\"white-space:pre;overflow-x:auto;line-height:normal;font-family:Menlo,'DejaVu Sans Mono',consolas,'Courier New',monospace\"><span style=\"color: #7fbfbf; text-decoration-color: #7fbfbf\">[14:56:53] </span>Case DESHONG__DILLON_M_28_06_06_2024 has no address                                     <a href=\"file:///var/folders/v0/wzkm0bb11x1b_27rl_172pdr0000gp/T/ipykernel_78208/2760839720.py\" target=\"_blank\"><span style=\"color: #7f7f7f; text-decoration-color: #7f7f7f\">2760839720.py</span></a><span style=\"color: #7f7f7f; text-decoration-color: #7f7f7f\">:</span><a href=\"file:///var/folders/v0/wzkm0bb11x1b_27rl_172pdr0000gp/T/ipykernel_78208/2760839720.py#20\" target=\"_blank\"><span style=\"color: #7f7f7f; text-decoration-color: #7f7f7f\">20</span></a>\n",
       "</pre>\n"
      ],
      "text/plain": [
       "\u001b[2;36m[14:56:53]\u001b[0m\u001b[2;36m \u001b[0mCase DESHONG__DILLON_M_28_06_06_2024 has no address                                     \u001b]8;id=798985;file:///var/folders/v0/wzkm0bb11x1b_27rl_172pdr0000gp/T/ipykernel_78208/2760839720.py\u001b\\\u001b[2m2760839720.py\u001b[0m\u001b]8;;\u001b\\\u001b[2m:\u001b[0m\u001b]8;id=785053;file:///var/folders/v0/wzkm0bb11x1b_27rl_172pdr0000gp/T/ipykernel_78208/2760839720.py#20\u001b\\\u001b[2m20\u001b[0m\u001b]8;;\u001b\\\n"
      ]
     },
     "metadata": {},
     "output_type": "display_data"
    },
    {
     "data": {
      "text/html": [
       "<pre style=\"white-space:pre;overflow-x:auto;line-height:normal;font-family:Menlo,'DejaVu Sans Mono',consolas,'Courier New',monospace\"><span style=\"color: #7fbfbf; text-decoration-color: #7fbfbf\">           </span>Case CIESLINSKI__MARISEL_37_06_06_2024 has no address                                   <a href=\"file:///var/folders/v0/wzkm0bb11x1b_27rl_172pdr0000gp/T/ipykernel_78208/2760839720.py\" target=\"_blank\"><span style=\"color: #7f7f7f; text-decoration-color: #7f7f7f\">2760839720.py</span></a><span style=\"color: #7f7f7f; text-decoration-color: #7f7f7f\">:</span><a href=\"file:///var/folders/v0/wzkm0bb11x1b_27rl_172pdr0000gp/T/ipykernel_78208/2760839720.py#20\" target=\"_blank\"><span style=\"color: #7f7f7f; text-decoration-color: #7f7f7f\">20</span></a>\n",
       "</pre>\n"
      ],
      "text/plain": [
       "\u001b[2;36m          \u001b[0m\u001b[2;36m \u001b[0mCase CIESLINSKI__MARISEL_37_06_06_2024 has no address                                   \u001b]8;id=604376;file:///var/folders/v0/wzkm0bb11x1b_27rl_172pdr0000gp/T/ipykernel_78208/2760839720.py\u001b\\\u001b[2m2760839720.py\u001b[0m\u001b]8;;\u001b\\\u001b[2m:\u001b[0m\u001b]8;id=263909;file:///var/folders/v0/wzkm0bb11x1b_27rl_172pdr0000gp/T/ipykernel_78208/2760839720.py#20\u001b\\\u001b[2m20\u001b[0m\u001b]8;;\u001b\\\n"
      ]
     },
     "metadata": {},
     "output_type": "display_data"
    },
    {
     "data": {
      "text/html": [
       "<pre style=\"white-space:pre;overflow-x:auto;line-height:normal;font-family:Menlo,'DejaVu Sans Mono',consolas,'Courier New',monospace\"><span style=\"color: #7fbfbf; text-decoration-color: #7fbfbf\">           </span>Case BAILEY__JAMES_P_19_06_06_2024 has no address                                       <a href=\"file:///var/folders/v0/wzkm0bb11x1b_27rl_172pdr0000gp/T/ipykernel_78208/2760839720.py\" target=\"_blank\"><span style=\"color: #7f7f7f; text-decoration-color: #7f7f7f\">2760839720.py</span></a><span style=\"color: #7f7f7f; text-decoration-color: #7f7f7f\">:</span><a href=\"file:///var/folders/v0/wzkm0bb11x1b_27rl_172pdr0000gp/T/ipykernel_78208/2760839720.py#20\" target=\"_blank\"><span style=\"color: #7f7f7f; text-decoration-color: #7f7f7f\">20</span></a>\n",
       "</pre>\n"
      ],
      "text/plain": [
       "\u001b[2;36m          \u001b[0m\u001b[2;36m \u001b[0mCase BAILEY__JAMES_P_19_06_06_2024 has no address                                       \u001b]8;id=852045;file:///var/folders/v0/wzkm0bb11x1b_27rl_172pdr0000gp/T/ipykernel_78208/2760839720.py\u001b\\\u001b[2m2760839720.py\u001b[0m\u001b]8;;\u001b\\\u001b[2m:\u001b[0m\u001b]8;id=477402;file:///var/folders/v0/wzkm0bb11x1b_27rl_172pdr0000gp/T/ipykernel_78208/2760839720.py#20\u001b\\\u001b[2m20\u001b[0m\u001b]8;;\u001b\\\n"
      ]
     },
     "metadata": {},
     "output_type": "display_data"
    },
    {
     "data": {
      "text/html": [
       "<pre style=\"white-space:pre;overflow-x:auto;line-height:normal;font-family:Menlo,'DejaVu Sans Mono',consolas,'Courier New',monospace\"><span style=\"color: #7fbfbf; text-decoration-color: #7fbfbf\">[14:56:54] </span>Case ADAMS__SHIANNE_N_27_06_06_2024 has no address                                      <a href=\"file:///var/folders/v0/wzkm0bb11x1b_27rl_172pdr0000gp/T/ipykernel_78208/2760839720.py\" target=\"_blank\"><span style=\"color: #7f7f7f; text-decoration-color: #7f7f7f\">2760839720.py</span></a><span style=\"color: #7f7f7f; text-decoration-color: #7f7f7f\">:</span><a href=\"file:///var/folders/v0/wzkm0bb11x1b_27rl_172pdr0000gp/T/ipykernel_78208/2760839720.py#20\" target=\"_blank\"><span style=\"color: #7f7f7f; text-decoration-color: #7f7f7f\">20</span></a>\n",
       "</pre>\n"
      ],
      "text/plain": [
       "\u001b[2;36m[14:56:54]\u001b[0m\u001b[2;36m \u001b[0mCase ADAMS__SHIANNE_N_27_06_06_2024 has no address                                      \u001b]8;id=49306;file:///var/folders/v0/wzkm0bb11x1b_27rl_172pdr0000gp/T/ipykernel_78208/2760839720.py\u001b\\\u001b[2m2760839720.py\u001b[0m\u001b]8;;\u001b\\\u001b[2m:\u001b[0m\u001b]8;id=48868;file:///var/folders/v0/wzkm0bb11x1b_27rl_172pdr0000gp/T/ipykernel_78208/2760839720.py#20\u001b\\\u001b[2m20\u001b[0m\u001b]8;;\u001b\\\n"
      ]
     },
     "metadata": {},
     "output_type": "display_data"
    },
    {
     "data": {
      "text/html": [
       "<pre style=\"white-space:pre;overflow-x:auto;line-height:normal;font-family:Menlo,'DejaVu Sans Mono',consolas,'Courier New',monospace\"><span style=\"color: #7fbfbf; text-decoration-color: #7fbfbf\">           </span>Searching for AUTUMN JOHNSON <span style=\"color: #008080; text-decoration-color: #008080; font-weight: bold\">2003.0</span> KANSAS CITY MO <span style=\"color: #008080; text-decoration-color: #008080; font-weight: bold\">64128</span> <span style=\"color: #008080; text-decoration-color: #008080; font-weight: bold\">3325</span> CHESTNUT AVE              <a href=\"file:///var/folders/v0/wzkm0bb11x1b_27rl_172pdr0000gp/T/ipykernel_78208/2760839720.py\" target=\"_blank\"><span style=\"color: #7f7f7f; text-decoration-color: #7f7f7f\">2760839720.py</span></a><span style=\"color: #7f7f7f; text-decoration-color: #7f7f7f\">:</span><a href=\"file:///var/folders/v0/wzkm0bb11x1b_27rl_172pdr0000gp/T/ipykernel_78208/2760839720.py#24\" target=\"_blank\"><span style=\"color: #7f7f7f; text-decoration-color: #7f7f7f\">24</span></a>\n",
       "</pre>\n"
      ],
      "text/plain": [
       "\u001b[2;36m          \u001b[0m\u001b[2;36m \u001b[0mSearching for AUTUMN JOHNSON \u001b[1;36m2003.0\u001b[0m KANSAS CITY MO \u001b[1;36m64128\u001b[0m \u001b[1;36m3325\u001b[0m CHESTNUT AVE              \u001b]8;id=269134;file:///var/folders/v0/wzkm0bb11x1b_27rl_172pdr0000gp/T/ipykernel_78208/2760839720.py\u001b\\\u001b[2m2760839720.py\u001b[0m\u001b]8;;\u001b\\\u001b[2m:\u001b[0m\u001b]8;id=542205;file:///var/folders/v0/wzkm0bb11x1b_27rl_172pdr0000gp/T/ipykernel_78208/2760839720.py#24\u001b\\\u001b[2m24\u001b[0m\u001b]8;;\u001b\\\n"
      ]
     },
     "metadata": {},
     "output_type": "display_data"
    },
    {
     "data": {
      "text/html": [
       "<pre style=\"white-space:pre;overflow-x:auto;line-height:normal;font-family:Menlo,'DejaVu Sans Mono',consolas,'Courier New',monospace\"><span style=\"color: #7fbfbf; text-decoration-color: #7fbfbf\">[14:56:55] </span>Case <span style=\"color: #008080; text-decoration-color: #008080; font-weight: bold\">210896289</span> already exists with status contacted                                     <a href=\"file:///var/folders/v0/wzkm0bb11x1b_27rl_172pdr0000gp/T/ipykernel_78208/2760839720.py\" target=\"_blank\"><span style=\"color: #7f7f7f; text-decoration-color: #7f7f7f\">2760839720.py</span></a><span style=\"color: #7f7f7f; text-decoration-color: #7f7f7f\">:</span><a href=\"file:///var/folders/v0/wzkm0bb11x1b_27rl_172pdr0000gp/T/ipykernel_78208/2760839720.py#52\" target=\"_blank\"><span style=\"color: #7f7f7f; text-decoration-color: #7f7f7f\">52</span></a>\n",
       "</pre>\n"
      ],
      "text/plain": [
       "\u001b[2;36m[14:56:55]\u001b[0m\u001b[2;36m \u001b[0mCase \u001b[1;36m210896289\u001b[0m already exists with status contacted                                     \u001b]8;id=749333;file:///var/folders/v0/wzkm0bb11x1b_27rl_172pdr0000gp/T/ipykernel_78208/2760839720.py\u001b\\\u001b[2m2760839720.py\u001b[0m\u001b]8;;\u001b\\\u001b[2m:\u001b[0m\u001b]8;id=71652;file:///var/folders/v0/wzkm0bb11x1b_27rl_172pdr0000gp/T/ipykernel_78208/2760839720.py#52\u001b\\\u001b[2m52\u001b[0m\u001b]8;;\u001b\\\n"
      ]
     },
     "metadata": {},
     "output_type": "display_data"
    },
    {
     "data": {
      "text/html": [
       "<pre style=\"white-space:pre;overflow-x:auto;line-height:normal;font-family:Menlo,'DejaVu Sans Mono',consolas,'Courier New',monospace\"><span style=\"color: #7fbfbf; text-decoration-color: #7fbfbf\">           </span>Case details AUTUMN JOHNSON <span style=\"color: #008080; text-decoration-color: #008080; font-weight: bold\">2003</span> Exceeded Posted Speed Limit <span style=\"font-weight: bold\">(</span><span style=\"color: #008080; text-decoration-color: #008080; font-weight: bold\">16</span>-<span style=\"color: #008080; text-decoration-color: #008080; font-weight: bold\">19</span> Mph Over<span style=\"font-weight: bold\">)</span>           <a href=\"file:///var/folders/v0/wzkm0bb11x1b_27rl_172pdr0000gp/T/ipykernel_78208/2760839720.py\" target=\"_blank\"><span style=\"color: #7f7f7f; text-decoration-color: #7f7f7f\">2760839720.py</span></a><span style=\"color: #7f7f7f; text-decoration-color: #7f7f7f\">:</span><a href=\"file:///var/folders/v0/wzkm0bb11x1b_27rl_172pdr0000gp/T/ipykernel_78208/2760839720.py#55\" target=\"_blank\"><span style=\"color: #7f7f7f; text-decoration-color: #7f7f7f\">55</span></a>\n",
       "</pre>\n"
      ],
      "text/plain": [
       "\u001b[2;36m          \u001b[0m\u001b[2;36m \u001b[0mCase details AUTUMN JOHNSON \u001b[1;36m2003\u001b[0m Exceeded Posted Speed Limit \u001b[1m(\u001b[0m\u001b[1;36m16\u001b[0m-\u001b[1;36m19\u001b[0m Mph Over\u001b[1m)\u001b[0m           \u001b]8;id=91032;file:///var/folders/v0/wzkm0bb11x1b_27rl_172pdr0000gp/T/ipykernel_78208/2760839720.py\u001b\\\u001b[2m2760839720.py\u001b[0m\u001b]8;;\u001b\\\u001b[2m:\u001b[0m\u001b]8;id=895692;file:///var/folders/v0/wzkm0bb11x1b_27rl_172pdr0000gp/T/ipykernel_78208/2760839720.py#55\u001b\\\u001b[2m55\u001b[0m\u001b]8;;\u001b\\\n"
      ]
     },
     "metadata": {},
     "output_type": "display_data"
    },
    {
     "data": {
      "text/html": [
       "<pre style=\"white-space:pre;overflow-x:auto;line-height:normal;font-family:Menlo,'DejaVu Sans Mono',consolas,'Courier New',monospace\"><span style=\"color: #7fbfbf; text-decoration-color: #7fbfbf\">           </span>Searching for JACQUE HOWARD <span style=\"color: #008080; text-decoration-color: #008080; font-weight: bold\">1967.0</span> RAYTOWN MO <span style=\"color: #008080; text-decoration-color: #008080; font-weight: bold\">64133</span> <span style=\"color: #008080; text-decoration-color: #008080; font-weight: bold\">9202</span> E 74TH TER                     <a href=\"file:///var/folders/v0/wzkm0bb11x1b_27rl_172pdr0000gp/T/ipykernel_78208/2760839720.py\" target=\"_blank\"><span style=\"color: #7f7f7f; text-decoration-color: #7f7f7f\">2760839720.py</span></a><span style=\"color: #7f7f7f; text-decoration-color: #7f7f7f\">:</span><a href=\"file:///var/folders/v0/wzkm0bb11x1b_27rl_172pdr0000gp/T/ipykernel_78208/2760839720.py#24\" target=\"_blank\"><span style=\"color: #7f7f7f; text-decoration-color: #7f7f7f\">24</span></a>\n",
       "</pre>\n"
      ],
      "text/plain": [
       "\u001b[2;36m          \u001b[0m\u001b[2;36m \u001b[0mSearching for JACQUE HOWARD \u001b[1;36m1967.0\u001b[0m RAYTOWN MO \u001b[1;36m64133\u001b[0m \u001b[1;36m9202\u001b[0m E 74TH TER                     \u001b]8;id=537000;file:///var/folders/v0/wzkm0bb11x1b_27rl_172pdr0000gp/T/ipykernel_78208/2760839720.py\u001b\\\u001b[2m2760839720.py\u001b[0m\u001b]8;;\u001b\\\u001b[2m:\u001b[0m\u001b]8;id=333752;file:///var/folders/v0/wzkm0bb11x1b_27rl_172pdr0000gp/T/ipykernel_78208/2760839720.py#24\u001b\\\u001b[2m24\u001b[0m\u001b]8;;\u001b\\\n"
      ]
     },
     "metadata": {},
     "output_type": "display_data"
    },
    {
     "data": {
      "text/html": [
       "<pre style=\"white-space:pre;overflow-x:auto;line-height:normal;font-family:Menlo,'DejaVu Sans Mono',consolas,'Courier New',monospace\"><span style=\"color: #7fbfbf; text-decoration-color: #7fbfbf\">[14:56:56] </span>Case <span style=\"color: #008080; text-decoration-color: #008080; font-weight: bold\">210910369</span> already exists with status contacted                                     <a href=\"file:///var/folders/v0/wzkm0bb11x1b_27rl_172pdr0000gp/T/ipykernel_78208/2760839720.py\" target=\"_blank\"><span style=\"color: #7f7f7f; text-decoration-color: #7f7f7f\">2760839720.py</span></a><span style=\"color: #7f7f7f; text-decoration-color: #7f7f7f\">:</span><a href=\"file:///var/folders/v0/wzkm0bb11x1b_27rl_172pdr0000gp/T/ipykernel_78208/2760839720.py#52\" target=\"_blank\"><span style=\"color: #7f7f7f; text-decoration-color: #7f7f7f\">52</span></a>\n",
       "</pre>\n"
      ],
      "text/plain": [
       "\u001b[2;36m[14:56:56]\u001b[0m\u001b[2;36m \u001b[0mCase \u001b[1;36m210910369\u001b[0m already exists with status contacted                                     \u001b]8;id=676775;file:///var/folders/v0/wzkm0bb11x1b_27rl_172pdr0000gp/T/ipykernel_78208/2760839720.py\u001b\\\u001b[2m2760839720.py\u001b[0m\u001b]8;;\u001b\\\u001b[2m:\u001b[0m\u001b]8;id=625406;file:///var/folders/v0/wzkm0bb11x1b_27rl_172pdr0000gp/T/ipykernel_78208/2760839720.py#52\u001b\\\u001b[2m52\u001b[0m\u001b]8;;\u001b\\\n"
      ]
     },
     "metadata": {},
     "output_type": "display_data"
    },
    {
     "data": {
      "text/html": [
       "<pre style=\"white-space:pre;overflow-x:auto;line-height:normal;font-family:Menlo,'DejaVu Sans Mono',consolas,'Courier New',monospace\"><span style=\"color: #7fbfbf; text-decoration-color: #7fbfbf\">           </span>Case details JACQUE HOWARD <span style=\"color: #008080; text-decoration-color: #008080; font-weight: bold\">1967</span> Fail To Obey Traffic Control Devices                    <a href=\"file:///var/folders/v0/wzkm0bb11x1b_27rl_172pdr0000gp/T/ipykernel_78208/2760839720.py\" target=\"_blank\"><span style=\"color: #7f7f7f; text-decoration-color: #7f7f7f\">2760839720.py</span></a><span style=\"color: #7f7f7f; text-decoration-color: #7f7f7f\">:</span><a href=\"file:///var/folders/v0/wzkm0bb11x1b_27rl_172pdr0000gp/T/ipykernel_78208/2760839720.py#55\" target=\"_blank\"><span style=\"color: #7f7f7f; text-decoration-color: #7f7f7f\">55</span></a>\n",
       "</pre>\n"
      ],
      "text/plain": [
       "\u001b[2;36m          \u001b[0m\u001b[2;36m \u001b[0mCase details JACQUE HOWARD \u001b[1;36m1967\u001b[0m Fail To Obey Traffic Control Devices                    \u001b]8;id=937038;file:///var/folders/v0/wzkm0bb11x1b_27rl_172pdr0000gp/T/ipykernel_78208/2760839720.py\u001b\\\u001b[2m2760839720.py\u001b[0m\u001b]8;;\u001b\\\u001b[2m:\u001b[0m\u001b]8;id=347782;file:///var/folders/v0/wzkm0bb11x1b_27rl_172pdr0000gp/T/ipykernel_78208/2760839720.py#55\u001b\\\u001b[2m55\u001b[0m\u001b]8;;\u001b\\\n"
      ]
     },
     "metadata": {},
     "output_type": "display_data"
    },
    {
     "data": {
      "text/html": [
       "<pre style=\"white-space:pre;overflow-x:auto;line-height:normal;font-family:Menlo,'DejaVu Sans Mono',consolas,'Courier New',monospace\"><span style=\"color: #7fbfbf; text-decoration-color: #7fbfbf\">           </span>Searching for RILWAN IBITOYE <span style=\"color: #008080; text-decoration-color: #008080; font-weight: bold\">1999.0</span> KANSAS CITY MO <span style=\"color: #008080; text-decoration-color: #008080; font-weight: bold\">64114</span> <span style=\"color: #008080; text-decoration-color: #008080; font-weight: bold\">8419</span> OAK ST                    <a href=\"file:///var/folders/v0/wzkm0bb11x1b_27rl_172pdr0000gp/T/ipykernel_78208/2760839720.py\" target=\"_blank\"><span style=\"color: #7f7f7f; text-decoration-color: #7f7f7f\">2760839720.py</span></a><span style=\"color: #7f7f7f; text-decoration-color: #7f7f7f\">:</span><a href=\"file:///var/folders/v0/wzkm0bb11x1b_27rl_172pdr0000gp/T/ipykernel_78208/2760839720.py#24\" target=\"_blank\"><span style=\"color: #7f7f7f; text-decoration-color: #7f7f7f\">24</span></a>\n",
       "</pre>\n"
      ],
      "text/plain": [
       "\u001b[2;36m          \u001b[0m\u001b[2;36m \u001b[0mSearching for RILWAN IBITOYE \u001b[1;36m1999.0\u001b[0m KANSAS CITY MO \u001b[1;36m64114\u001b[0m \u001b[1;36m8419\u001b[0m OAK ST                    \u001b]8;id=192659;file:///var/folders/v0/wzkm0bb11x1b_27rl_172pdr0000gp/T/ipykernel_78208/2760839720.py\u001b\\\u001b[2m2760839720.py\u001b[0m\u001b]8;;\u001b\\\u001b[2m:\u001b[0m\u001b]8;id=988917;file:///var/folders/v0/wzkm0bb11x1b_27rl_172pdr0000gp/T/ipykernel_78208/2760839720.py#24\u001b\\\u001b[2m24\u001b[0m\u001b]8;;\u001b\\\n"
      ]
     },
     "metadata": {},
     "output_type": "display_data"
    },
    {
     "data": {
      "text/html": [
       "<pre style=\"white-space:pre;overflow-x:auto;line-height:normal;font-family:Menlo,'DejaVu Sans Mono',consolas,'Courier New',monospace\"><span style=\"color: #7fbfbf; text-decoration-color: #7fbfbf\">[14:56:57] </span>Case <span style=\"color: #008080; text-decoration-color: #008080; font-weight: bold\">210893104</span> already exists with status contacted                                     <a href=\"file:///var/folders/v0/wzkm0bb11x1b_27rl_172pdr0000gp/T/ipykernel_78208/2760839720.py\" target=\"_blank\"><span style=\"color: #7f7f7f; text-decoration-color: #7f7f7f\">2760839720.py</span></a><span style=\"color: #7f7f7f; text-decoration-color: #7f7f7f\">:</span><a href=\"file:///var/folders/v0/wzkm0bb11x1b_27rl_172pdr0000gp/T/ipykernel_78208/2760839720.py#52\" target=\"_blank\"><span style=\"color: #7f7f7f; text-decoration-color: #7f7f7f\">52</span></a>\n",
       "</pre>\n"
      ],
      "text/plain": [
       "\u001b[2;36m[14:56:57]\u001b[0m\u001b[2;36m \u001b[0mCase \u001b[1;36m210893104\u001b[0m already exists with status contacted                                     \u001b]8;id=265362;file:///var/folders/v0/wzkm0bb11x1b_27rl_172pdr0000gp/T/ipykernel_78208/2760839720.py\u001b\\\u001b[2m2760839720.py\u001b[0m\u001b]8;;\u001b\\\u001b[2m:\u001b[0m\u001b]8;id=304778;file:///var/folders/v0/wzkm0bb11x1b_27rl_172pdr0000gp/T/ipykernel_78208/2760839720.py#52\u001b\\\u001b[2m52\u001b[0m\u001b]8;;\u001b\\\n"
      ]
     },
     "metadata": {},
     "output_type": "display_data"
    },
    {
     "data": {
      "text/html": [
       "<pre style=\"white-space:pre;overflow-x:auto;line-height:normal;font-family:Menlo,'DejaVu Sans Mono',consolas,'Courier New',monospace\"><span style=\"color: #7fbfbf; text-decoration-color: #7fbfbf\">           </span>Case details RILWAN IBITOYE <span style=\"color: #008080; text-decoration-color: #008080; font-weight: bold\">1999</span> Exceeded Posted Speed Limit <span style=\"font-weight: bold\">(</span><span style=\"color: #008080; text-decoration-color: #008080; font-weight: bold\">6</span>-<span style=\"color: #008080; text-decoration-color: #008080; font-weight: bold\">10</span> Mph Over<span style=\"font-weight: bold\">)</span>            <a href=\"file:///var/folders/v0/wzkm0bb11x1b_27rl_172pdr0000gp/T/ipykernel_78208/2760839720.py\" target=\"_blank\"><span style=\"color: #7f7f7f; text-decoration-color: #7f7f7f\">2760839720.py</span></a><span style=\"color: #7f7f7f; text-decoration-color: #7f7f7f\">:</span><a href=\"file:///var/folders/v0/wzkm0bb11x1b_27rl_172pdr0000gp/T/ipykernel_78208/2760839720.py#55\" target=\"_blank\"><span style=\"color: #7f7f7f; text-decoration-color: #7f7f7f\">55</span></a>\n",
       "</pre>\n"
      ],
      "text/plain": [
       "\u001b[2;36m          \u001b[0m\u001b[2;36m \u001b[0mCase details RILWAN IBITOYE \u001b[1;36m1999\u001b[0m Exceeded Posted Speed Limit \u001b[1m(\u001b[0m\u001b[1;36m6\u001b[0m-\u001b[1;36m10\u001b[0m Mph Over\u001b[1m)\u001b[0m            \u001b]8;id=143765;file:///var/folders/v0/wzkm0bb11x1b_27rl_172pdr0000gp/T/ipykernel_78208/2760839720.py\u001b\\\u001b[2m2760839720.py\u001b[0m\u001b]8;;\u001b\\\u001b[2m:\u001b[0m\u001b]8;id=862205;file:///var/folders/v0/wzkm0bb11x1b_27rl_172pdr0000gp/T/ipykernel_78208/2760839720.py#55\u001b\\\u001b[2m55\u001b[0m\u001b]8;;\u001b\\\n"
      ]
     },
     "metadata": {},
     "output_type": "display_data"
    },
    {
     "data": {
      "text/html": [
       "<pre style=\"white-space:pre;overflow-x:auto;line-height:normal;font-family:Menlo,'DejaVu Sans Mono',consolas,'Courier New',monospace\"><span style=\"color: #7fbfbf; text-decoration-color: #7fbfbf\">           </span>Case <span style=\"color: #008080; text-decoration-color: #008080; font-weight: bold\">230913834</span> has no address                                                           <a href=\"file:///var/folders/v0/wzkm0bb11x1b_27rl_172pdr0000gp/T/ipykernel_78208/2760839720.py\" target=\"_blank\"><span style=\"color: #7f7f7f; text-decoration-color: #7f7f7f\">2760839720.py</span></a><span style=\"color: #7f7f7f; text-decoration-color: #7f7f7f\">:</span><a href=\"file:///var/folders/v0/wzkm0bb11x1b_27rl_172pdr0000gp/T/ipykernel_78208/2760839720.py#20\" target=\"_blank\"><span style=\"color: #7f7f7f; text-decoration-color: #7f7f7f\">20</span></a>\n",
       "</pre>\n"
      ],
      "text/plain": [
       "\u001b[2;36m          \u001b[0m\u001b[2;36m \u001b[0mCase \u001b[1;36m230913834\u001b[0m has no address                                                           \u001b]8;id=253394;file:///var/folders/v0/wzkm0bb11x1b_27rl_172pdr0000gp/T/ipykernel_78208/2760839720.py\u001b\\\u001b[2m2760839720.py\u001b[0m\u001b]8;;\u001b\\\u001b[2m:\u001b[0m\u001b]8;id=58495;file:///var/folders/v0/wzkm0bb11x1b_27rl_172pdr0000gp/T/ipykernel_78208/2760839720.py#20\u001b\\\u001b[2m20\u001b[0m\u001b]8;;\u001b\\\n"
      ]
     },
     "metadata": {},
     "output_type": "display_data"
    },
    {
     "data": {
      "text/html": [
       "<pre style=\"white-space:pre;overflow-x:auto;line-height:normal;font-family:Menlo,'DejaVu Sans Mono',consolas,'Courier New',monospace\"><span style=\"color: #7fbfbf; text-decoration-color: #7fbfbf\">           </span>Case <span style=\"color: #008080; text-decoration-color: #008080; font-weight: bold\">220750492</span> has no address                                                           <a href=\"file:///var/folders/v0/wzkm0bb11x1b_27rl_172pdr0000gp/T/ipykernel_78208/2760839720.py\" target=\"_blank\"><span style=\"color: #7f7f7f; text-decoration-color: #7f7f7f\">2760839720.py</span></a><span style=\"color: #7f7f7f; text-decoration-color: #7f7f7f\">:</span><a href=\"file:///var/folders/v0/wzkm0bb11x1b_27rl_172pdr0000gp/T/ipykernel_78208/2760839720.py#20\" target=\"_blank\"><span style=\"color: #7f7f7f; text-decoration-color: #7f7f7f\">20</span></a>\n",
       "</pre>\n"
      ],
      "text/plain": [
       "\u001b[2;36m          \u001b[0m\u001b[2;36m \u001b[0mCase \u001b[1;36m220750492\u001b[0m has no address                                                           \u001b]8;id=580454;file:///var/folders/v0/wzkm0bb11x1b_27rl_172pdr0000gp/T/ipykernel_78208/2760839720.py\u001b\\\u001b[2m2760839720.py\u001b[0m\u001b]8;;\u001b\\\u001b[2m:\u001b[0m\u001b]8;id=940041;file:///var/folders/v0/wzkm0bb11x1b_27rl_172pdr0000gp/T/ipykernel_78208/2760839720.py#20\u001b\\\u001b[2m20\u001b[0m\u001b]8;;\u001b\\\n"
      ]
     },
     "metadata": {},
     "output_type": "display_data"
    },
    {
     "data": {
      "text/html": [
       "<pre style=\"white-space:pre;overflow-x:auto;line-height:normal;font-family:Menlo,'DejaVu Sans Mono',consolas,'Courier New',monospace\"><span style=\"color: #7fbfbf; text-decoration-color: #7fbfbf\">[14:56:58] </span>Searching for CHRISTOPHER STAGGS <span style=\"color: #008080; text-decoration-color: #008080; font-weight: bold\">1991.0</span> BLUE SPRINGS MO <span style=\"color: #008080; text-decoration-color: #008080; font-weight: bold\">64015</span> <span style=\"color: #008080; text-decoration-color: #008080; font-weight: bold\">1204</span> SW WINPORT DR        <a href=\"file:///var/folders/v0/wzkm0bb11x1b_27rl_172pdr0000gp/T/ipykernel_78208/2760839720.py\" target=\"_blank\"><span style=\"color: #7f7f7f; text-decoration-color: #7f7f7f\">2760839720.py</span></a><span style=\"color: #7f7f7f; text-decoration-color: #7f7f7f\">:</span><a href=\"file:///var/folders/v0/wzkm0bb11x1b_27rl_172pdr0000gp/T/ipykernel_78208/2760839720.py#24\" target=\"_blank\"><span style=\"color: #7f7f7f; text-decoration-color: #7f7f7f\">24</span></a>\n",
       "</pre>\n"
      ],
      "text/plain": [
       "\u001b[2;36m[14:56:58]\u001b[0m\u001b[2;36m \u001b[0mSearching for CHRISTOPHER STAGGS \u001b[1;36m1991.0\u001b[0m BLUE SPRINGS MO \u001b[1;36m64015\u001b[0m \u001b[1;36m1204\u001b[0m SW WINPORT DR        \u001b]8;id=589807;file:///var/folders/v0/wzkm0bb11x1b_27rl_172pdr0000gp/T/ipykernel_78208/2760839720.py\u001b\\\u001b[2m2760839720.py\u001b[0m\u001b]8;;\u001b\\\u001b[2m:\u001b[0m\u001b]8;id=505254;file:///var/folders/v0/wzkm0bb11x1b_27rl_172pdr0000gp/T/ipykernel_78208/2760839720.py#24\u001b\\\u001b[2m24\u001b[0m\u001b]8;;\u001b\\\n"
      ]
     },
     "metadata": {},
     "output_type": "display_data"
    },
    {
     "data": {
      "text/html": [
       "<pre style=\"white-space:pre;overflow-x:auto;line-height:normal;font-family:Menlo,'DejaVu Sans Mono',consolas,'Courier New',monospace\"><span style=\"color: #7fbfbf; text-decoration-color: #7fbfbf\">[14:56:59] </span>Case <span style=\"color: #008080; text-decoration-color: #008080; font-weight: bold\">230237118</span> already exists with status contacted                                     <a href=\"file:///var/folders/v0/wzkm0bb11x1b_27rl_172pdr0000gp/T/ipykernel_78208/2760839720.py\" target=\"_blank\"><span style=\"color: #7f7f7f; text-decoration-color: #7f7f7f\">2760839720.py</span></a><span style=\"color: #7f7f7f; text-decoration-color: #7f7f7f\">:</span><a href=\"file:///var/folders/v0/wzkm0bb11x1b_27rl_172pdr0000gp/T/ipykernel_78208/2760839720.py#52\" target=\"_blank\"><span style=\"color: #7f7f7f; text-decoration-color: #7f7f7f\">52</span></a>\n",
       "</pre>\n"
      ],
      "text/plain": [
       "\u001b[2;36m[14:56:59]\u001b[0m\u001b[2;36m \u001b[0mCase \u001b[1;36m230237118\u001b[0m already exists with status contacted                                     \u001b]8;id=500543;file:///var/folders/v0/wzkm0bb11x1b_27rl_172pdr0000gp/T/ipykernel_78208/2760839720.py\u001b\\\u001b[2m2760839720.py\u001b[0m\u001b]8;;\u001b\\\u001b[2m:\u001b[0m\u001b]8;id=796453;file:///var/folders/v0/wzkm0bb11x1b_27rl_172pdr0000gp/T/ipykernel_78208/2760839720.py#52\u001b\\\u001b[2m52\u001b[0m\u001b]8;;\u001b\\\n"
      ]
     },
     "metadata": {},
     "output_type": "display_data"
    },
    {
     "data": {
      "text/html": [
       "<pre style=\"white-space:pre;overflow-x:auto;line-height:normal;font-family:Menlo,'DejaVu Sans Mono',consolas,'Courier New',monospace\"><span style=\"color: #7fbfbf; text-decoration-color: #7fbfbf\">           </span>Case details CHRISTOPHER STAGGS <span style=\"color: #008080; text-decoration-color: #008080; font-weight: bold\">1991</span> Failed To Drive Right Half Of Rdwy When Rdwy Was   <a href=\"file:///var/folders/v0/wzkm0bb11x1b_27rl_172pdr0000gp/T/ipykernel_78208/2760839720.py\" target=\"_blank\"><span style=\"color: #7f7f7f; text-decoration-color: #7f7f7f\">2760839720.py</span></a><span style=\"color: #7f7f7f; text-decoration-color: #7f7f7f\">:</span><a href=\"file:///var/folders/v0/wzkm0bb11x1b_27rl_172pdr0000gp/T/ipykernel_78208/2760839720.py#55\" target=\"_blank\"><span style=\"color: #7f7f7f; text-decoration-color: #7f7f7f\">55</span></a>\n",
       "<span style=\"color: #7fbfbf; text-decoration-color: #7fbfbf\">           </span>Of Sufficient Width-Resulting In An Accident                                            <span style=\"color: #7f7f7f; text-decoration-color: #7f7f7f\">                </span>\n",
       "</pre>\n"
      ],
      "text/plain": [
       "\u001b[2;36m          \u001b[0m\u001b[2;36m \u001b[0mCase details CHRISTOPHER STAGGS \u001b[1;36m1991\u001b[0m Failed To Drive Right Half Of Rdwy When Rdwy Was   \u001b]8;id=426127;file:///var/folders/v0/wzkm0bb11x1b_27rl_172pdr0000gp/T/ipykernel_78208/2760839720.py\u001b\\\u001b[2m2760839720.py\u001b[0m\u001b]8;;\u001b\\\u001b[2m:\u001b[0m\u001b]8;id=3801;file:///var/folders/v0/wzkm0bb11x1b_27rl_172pdr0000gp/T/ipykernel_78208/2760839720.py#55\u001b\\\u001b[2m55\u001b[0m\u001b]8;;\u001b\\\n",
       "\u001b[2;36m           \u001b[0mOf Sufficient Width-Resulting In An Accident                                            \u001b[2m                \u001b[0m\n"
      ]
     },
     "metadata": {},
     "output_type": "display_data"
    },
    {
     "data": {
      "text/html": [
       "<pre style=\"white-space:pre;overflow-x:auto;line-height:normal;font-family:Menlo,'DejaVu Sans Mono',consolas,'Courier New',monospace\"><span style=\"color: #7fbfbf; text-decoration-color: #7fbfbf\">           </span>Searching for ALONDRA HERNANDEZ <span style=\"color: #008080; text-decoration-color: #008080; font-weight: bold\">1999.0</span> KANSAS CITY MO <span style=\"color: #008080; text-decoration-color: #008080; font-weight: bold\">64124</span> <span style=\"color: #008080; text-decoration-color: #008080; font-weight: bold\">5300</span> SMART AVE              <a href=\"file:///var/folders/v0/wzkm0bb11x1b_27rl_172pdr0000gp/T/ipykernel_78208/2760839720.py\" target=\"_blank\"><span style=\"color: #7f7f7f; text-decoration-color: #7f7f7f\">2760839720.py</span></a><span style=\"color: #7f7f7f; text-decoration-color: #7f7f7f\">:</span><a href=\"file:///var/folders/v0/wzkm0bb11x1b_27rl_172pdr0000gp/T/ipykernel_78208/2760839720.py#24\" target=\"_blank\"><span style=\"color: #7f7f7f; text-decoration-color: #7f7f7f\">24</span></a>\n",
       "</pre>\n"
      ],
      "text/plain": [
       "\u001b[2;36m          \u001b[0m\u001b[2;36m \u001b[0mSearching for ALONDRA HERNANDEZ \u001b[1;36m1999.0\u001b[0m KANSAS CITY MO \u001b[1;36m64124\u001b[0m \u001b[1;36m5300\u001b[0m SMART AVE              \u001b]8;id=223659;file:///var/folders/v0/wzkm0bb11x1b_27rl_172pdr0000gp/T/ipykernel_78208/2760839720.py\u001b\\\u001b[2m2760839720.py\u001b[0m\u001b]8;;\u001b\\\u001b[2m:\u001b[0m\u001b]8;id=871665;file:///var/folders/v0/wzkm0bb11x1b_27rl_172pdr0000gp/T/ipykernel_78208/2760839720.py#24\u001b\\\u001b[2m24\u001b[0m\u001b]8;;\u001b\\\n"
      ]
     },
     "metadata": {},
     "output_type": "display_data"
    },
    {
     "data": {
      "text/html": [
       "<pre style=\"white-space:pre;overflow-x:auto;line-height:normal;font-family:Menlo,'DejaVu Sans Mono',consolas,'Courier New',monospace\"><span style=\"color: #7fbfbf; text-decoration-color: #7fbfbf\">[14:57:00] </span>Case <span style=\"color: #008080; text-decoration-color: #008080; font-weight: bold\">210905738</span> already exists with status contacted                                     <a href=\"file:///var/folders/v0/wzkm0bb11x1b_27rl_172pdr0000gp/T/ipykernel_78208/2760839720.py\" target=\"_blank\"><span style=\"color: #7f7f7f; text-decoration-color: #7f7f7f\">2760839720.py</span></a><span style=\"color: #7f7f7f; text-decoration-color: #7f7f7f\">:</span><a href=\"file:///var/folders/v0/wzkm0bb11x1b_27rl_172pdr0000gp/T/ipykernel_78208/2760839720.py#52\" target=\"_blank\"><span style=\"color: #7f7f7f; text-decoration-color: #7f7f7f\">52</span></a>\n",
       "</pre>\n"
      ],
      "text/plain": [
       "\u001b[2;36m[14:57:00]\u001b[0m\u001b[2;36m \u001b[0mCase \u001b[1;36m210905738\u001b[0m already exists with status contacted                                     \u001b]8;id=547816;file:///var/folders/v0/wzkm0bb11x1b_27rl_172pdr0000gp/T/ipykernel_78208/2760839720.py\u001b\\\u001b[2m2760839720.py\u001b[0m\u001b]8;;\u001b\\\u001b[2m:\u001b[0m\u001b]8;id=247209;file:///var/folders/v0/wzkm0bb11x1b_27rl_172pdr0000gp/T/ipykernel_78208/2760839720.py#52\u001b\\\u001b[2m52\u001b[0m\u001b]8;;\u001b\\\n"
      ]
     },
     "metadata": {},
     "output_type": "display_data"
    },
    {
     "data": {
      "text/html": [
       "<pre style=\"white-space:pre;overflow-x:auto;line-height:normal;font-family:Menlo,'DejaVu Sans Mono',consolas,'Courier New',monospace\"><span style=\"color: #7fbfbf; text-decoration-color: #7fbfbf\">           </span>Case details ALONDRA HERNANDEZ <span style=\"color: #008080; text-decoration-color: #008080; font-weight: bold\">1999</span> Illegal/Improper Turning                            <a href=\"file:///var/folders/v0/wzkm0bb11x1b_27rl_172pdr0000gp/T/ipykernel_78208/2760839720.py\" target=\"_blank\"><span style=\"color: #7f7f7f; text-decoration-color: #7f7f7f\">2760839720.py</span></a><span style=\"color: #7f7f7f; text-decoration-color: #7f7f7f\">:</span><a href=\"file:///var/folders/v0/wzkm0bb11x1b_27rl_172pdr0000gp/T/ipykernel_78208/2760839720.py#55\" target=\"_blank\"><span style=\"color: #7f7f7f; text-decoration-color: #7f7f7f\">55</span></a>\n",
       "</pre>\n"
      ],
      "text/plain": [
       "\u001b[2;36m          \u001b[0m\u001b[2;36m \u001b[0mCase details ALONDRA HERNANDEZ \u001b[1;36m1999\u001b[0m Illegal/Improper Turning                            \u001b]8;id=901368;file:///var/folders/v0/wzkm0bb11x1b_27rl_172pdr0000gp/T/ipykernel_78208/2760839720.py\u001b\\\u001b[2m2760839720.py\u001b[0m\u001b]8;;\u001b\\\u001b[2m:\u001b[0m\u001b]8;id=650981;file:///var/folders/v0/wzkm0bb11x1b_27rl_172pdr0000gp/T/ipykernel_78208/2760839720.py#55\u001b\\\u001b[2m55\u001b[0m\u001b]8;;\u001b\\\n"
      ]
     },
     "metadata": {},
     "output_type": "display_data"
    },
    {
     "data": {
      "text/html": [
       "<pre style=\"white-space:pre;overflow-x:auto;line-height:normal;font-family:Menlo,'DejaVu Sans Mono',consolas,'Courier New',monospace\"><span style=\"color: #7fbfbf; text-decoration-color: #7fbfbf\">           </span>Searching for MICHAEL BUTLER <span style=\"color: #008080; text-decoration-color: #008080; font-weight: bold\">2000.0</span> ST LOUIS MO <span style=\"color: #008080; text-decoration-color: #008080; font-weight: bold\">63138</span> <span style=\"color: #008080; text-decoration-color: #008080; font-weight: bold\">11527</span> PORTSMOUTH DR               <a href=\"file:///var/folders/v0/wzkm0bb11x1b_27rl_172pdr0000gp/T/ipykernel_78208/2760839720.py\" target=\"_blank\"><span style=\"color: #7f7f7f; text-decoration-color: #7f7f7f\">2760839720.py</span></a><span style=\"color: #7f7f7f; text-decoration-color: #7f7f7f\">:</span><a href=\"file:///var/folders/v0/wzkm0bb11x1b_27rl_172pdr0000gp/T/ipykernel_78208/2760839720.py#24\" target=\"_blank\"><span style=\"color: #7f7f7f; text-decoration-color: #7f7f7f\">24</span></a>\n",
       "</pre>\n"
      ],
      "text/plain": [
       "\u001b[2;36m          \u001b[0m\u001b[2;36m \u001b[0mSearching for MICHAEL BUTLER \u001b[1;36m2000.0\u001b[0m ST LOUIS MO \u001b[1;36m63138\u001b[0m \u001b[1;36m11527\u001b[0m PORTSMOUTH DR               \u001b]8;id=450587;file:///var/folders/v0/wzkm0bb11x1b_27rl_172pdr0000gp/T/ipykernel_78208/2760839720.py\u001b\\\u001b[2m2760839720.py\u001b[0m\u001b]8;;\u001b\\\u001b[2m:\u001b[0m\u001b]8;id=435266;file:///var/folders/v0/wzkm0bb11x1b_27rl_172pdr0000gp/T/ipykernel_78208/2760839720.py#24\u001b\\\u001b[2m24\u001b[0m\u001b]8;;\u001b\\\n"
      ]
     },
     "metadata": {},
     "output_type": "display_data"
    },
    {
     "data": {
      "text/html": [
       "<pre style=\"white-space:pre;overflow-x:auto;line-height:normal;font-family:Menlo,'DejaVu Sans Mono',consolas,'Courier New',monospace\"><span style=\"color: #7fbfbf; text-decoration-color: #7fbfbf\">           </span>Case <span style=\"color: #008080; text-decoration-color: #008080; font-weight: bold\">220473851</span> already exists with status contacted                                     <a href=\"file:///var/folders/v0/wzkm0bb11x1b_27rl_172pdr0000gp/T/ipykernel_78208/2760839720.py\" target=\"_blank\"><span style=\"color: #7f7f7f; text-decoration-color: #7f7f7f\">2760839720.py</span></a><span style=\"color: #7f7f7f; text-decoration-color: #7f7f7f\">:</span><a href=\"file:///var/folders/v0/wzkm0bb11x1b_27rl_172pdr0000gp/T/ipykernel_78208/2760839720.py#52\" target=\"_blank\"><span style=\"color: #7f7f7f; text-decoration-color: #7f7f7f\">52</span></a>\n",
       "</pre>\n"
      ],
      "text/plain": [
       "\u001b[2;36m          \u001b[0m\u001b[2;36m \u001b[0mCase \u001b[1;36m220473851\u001b[0m already exists with status contacted                                     \u001b]8;id=532294;file:///var/folders/v0/wzkm0bb11x1b_27rl_172pdr0000gp/T/ipykernel_78208/2760839720.py\u001b\\\u001b[2m2760839720.py\u001b[0m\u001b]8;;\u001b\\\u001b[2m:\u001b[0m\u001b]8;id=318754;file:///var/folders/v0/wzkm0bb11x1b_27rl_172pdr0000gp/T/ipykernel_78208/2760839720.py#52\u001b\\\u001b[2m52\u001b[0m\u001b]8;;\u001b\\\n"
      ]
     },
     "metadata": {},
     "output_type": "display_data"
    },
    {
     "data": {
      "text/html": [
       "<pre style=\"white-space:pre;overflow-x:auto;line-height:normal;font-family:Menlo,'DejaVu Sans Mono',consolas,'Courier New',monospace\"><span style=\"color: #7fbfbf; text-decoration-color: #7fbfbf\">           </span>Case details MICHAEL BUTLER <span style=\"color: #008080; text-decoration-color: #008080; font-weight: bold\">2000</span> Speeding <span style=\"font-weight: bold\">(</span><span style=\"color: #008080; text-decoration-color: #008080; font-weight: bold\">36</span>-<span style=\"color: #008080; text-decoration-color: #008080; font-weight: bold\">40</span> Mph Over<span style=\"font-weight: bold\">)</span>                              <a href=\"file:///var/folders/v0/wzkm0bb11x1b_27rl_172pdr0000gp/T/ipykernel_78208/2760839720.py\" target=\"_blank\"><span style=\"color: #7f7f7f; text-decoration-color: #7f7f7f\">2760839720.py</span></a><span style=\"color: #7f7f7f; text-decoration-color: #7f7f7f\">:</span><a href=\"file:///var/folders/v0/wzkm0bb11x1b_27rl_172pdr0000gp/T/ipykernel_78208/2760839720.py#55\" target=\"_blank\"><span style=\"color: #7f7f7f; text-decoration-color: #7f7f7f\">55</span></a>\n",
       "</pre>\n"
      ],
      "text/plain": [
       "\u001b[2;36m          \u001b[0m\u001b[2;36m \u001b[0mCase details MICHAEL BUTLER \u001b[1;36m2000\u001b[0m Speeding \u001b[1m(\u001b[0m\u001b[1;36m36\u001b[0m-\u001b[1;36m40\u001b[0m Mph Over\u001b[1m)\u001b[0m                              \u001b]8;id=710809;file:///var/folders/v0/wzkm0bb11x1b_27rl_172pdr0000gp/T/ipykernel_78208/2760839720.py\u001b\\\u001b[2m2760839720.py\u001b[0m\u001b]8;;\u001b\\\u001b[2m:\u001b[0m\u001b]8;id=364846;file:///var/folders/v0/wzkm0bb11x1b_27rl_172pdr0000gp/T/ipykernel_78208/2760839720.py#55\u001b\\\u001b[2m55\u001b[0m\u001b]8;;\u001b\\\n"
      ]
     },
     "metadata": {},
     "output_type": "display_data"
    },
    {
     "data": {
      "text/html": [
       "<pre style=\"white-space:pre;overflow-x:auto;line-height:normal;font-family:Menlo,'DejaVu Sans Mono',consolas,'Courier New',monospace\"><span style=\"color: #7fbfbf; text-decoration-color: #7fbfbf\">[14:57:01] </span>Searching for JAMES EASLEY <span style=\"color: #008080; text-decoration-color: #008080; font-weight: bold\">2004.0</span> LEES SUMMIT MO <span style=\"color: #008080; text-decoration-color: #008080; font-weight: bold\">64081</span> <span style=\"color: #008080; text-decoration-color: #008080; font-weight: bold\">2200</span> SW FORESTPARK CIR           <a href=\"file:///var/folders/v0/wzkm0bb11x1b_27rl_172pdr0000gp/T/ipykernel_78208/2760839720.py\" target=\"_blank\"><span style=\"color: #7f7f7f; text-decoration-color: #7f7f7f\">2760839720.py</span></a><span style=\"color: #7f7f7f; text-decoration-color: #7f7f7f\">:</span><a href=\"file:///var/folders/v0/wzkm0bb11x1b_27rl_172pdr0000gp/T/ipykernel_78208/2760839720.py#24\" target=\"_blank\"><span style=\"color: #7f7f7f; text-decoration-color: #7f7f7f\">24</span></a>\n",
       "</pre>\n"
      ],
      "text/plain": [
       "\u001b[2;36m[14:57:01]\u001b[0m\u001b[2;36m \u001b[0mSearching for JAMES EASLEY \u001b[1;36m2004.0\u001b[0m LEES SUMMIT MO \u001b[1;36m64081\u001b[0m \u001b[1;36m2200\u001b[0m SW FORESTPARK CIR           \u001b]8;id=917165;file:///var/folders/v0/wzkm0bb11x1b_27rl_172pdr0000gp/T/ipykernel_78208/2760839720.py\u001b\\\u001b[2m2760839720.py\u001b[0m\u001b]8;;\u001b\\\u001b[2m:\u001b[0m\u001b]8;id=754760;file:///var/folders/v0/wzkm0bb11x1b_27rl_172pdr0000gp/T/ipykernel_78208/2760839720.py#24\u001b\\\u001b[2m24\u001b[0m\u001b]8;;\u001b\\\n"
      ]
     },
     "metadata": {},
     "output_type": "display_data"
    },
    {
     "data": {
      "text/html": [
       "<pre style=\"white-space:pre;overflow-x:auto;line-height:normal;font-family:Menlo,'DejaVu Sans Mono',consolas,'Courier New',monospace\"><span style=\"color: #7fbfbf; text-decoration-color: #7fbfbf\">[14:57:02] </span>Case <span style=\"color: #008080; text-decoration-color: #008080; font-weight: bold\">210263246</span> already exists with status not_prioritized                               <a href=\"file:///var/folders/v0/wzkm0bb11x1b_27rl_172pdr0000gp/T/ipykernel_78208/2760839720.py\" target=\"_blank\"><span style=\"color: #7f7f7f; text-decoration-color: #7f7f7f\">2760839720.py</span></a><span style=\"color: #7f7f7f; text-decoration-color: #7f7f7f\">:</span><a href=\"file:///var/folders/v0/wzkm0bb11x1b_27rl_172pdr0000gp/T/ipykernel_78208/2760839720.py#52\" target=\"_blank\"><span style=\"color: #7f7f7f; text-decoration-color: #7f7f7f\">52</span></a>\n",
       "</pre>\n"
      ],
      "text/plain": [
       "\u001b[2;36m[14:57:02]\u001b[0m\u001b[2;36m \u001b[0mCase \u001b[1;36m210263246\u001b[0m already exists with status not_prioritized                               \u001b]8;id=144556;file:///var/folders/v0/wzkm0bb11x1b_27rl_172pdr0000gp/T/ipykernel_78208/2760839720.py\u001b\\\u001b[2m2760839720.py\u001b[0m\u001b]8;;\u001b\\\u001b[2m:\u001b[0m\u001b]8;id=165903;file:///var/folders/v0/wzkm0bb11x1b_27rl_172pdr0000gp/T/ipykernel_78208/2760839720.py#52\u001b\\\u001b[2m52\u001b[0m\u001b]8;;\u001b\\\n"
      ]
     },
     "metadata": {},
     "output_type": "display_data"
    },
    {
     "data": {
      "text/html": [
       "<pre style=\"white-space:pre;overflow-x:auto;line-height:normal;font-family:Menlo,'DejaVu Sans Mono',consolas,'Courier New',monospace\"><span style=\"color: #7fbfbf; text-decoration-color: #7fbfbf\">           </span>Case details JAMES EASLEY <span style=\"color: #008080; text-decoration-color: #008080; font-weight: bold\">2004</span> Expired Plates                                           <a href=\"file:///var/folders/v0/wzkm0bb11x1b_27rl_172pdr0000gp/T/ipykernel_78208/2760839720.py\" target=\"_blank\"><span style=\"color: #7f7f7f; text-decoration-color: #7f7f7f\">2760839720.py</span></a><span style=\"color: #7f7f7f; text-decoration-color: #7f7f7f\">:</span><a href=\"file:///var/folders/v0/wzkm0bb11x1b_27rl_172pdr0000gp/T/ipykernel_78208/2760839720.py#55\" target=\"_blank\"><span style=\"color: #7f7f7f; text-decoration-color: #7f7f7f\">55</span></a>\n",
       "</pre>\n"
      ],
      "text/plain": [
       "\u001b[2;36m          \u001b[0m\u001b[2;36m \u001b[0mCase details JAMES EASLEY \u001b[1;36m2004\u001b[0m Expired Plates                                           \u001b]8;id=142777;file:///var/folders/v0/wzkm0bb11x1b_27rl_172pdr0000gp/T/ipykernel_78208/2760839720.py\u001b\\\u001b[2m2760839720.py\u001b[0m\u001b]8;;\u001b\\\u001b[2m:\u001b[0m\u001b]8;id=244077;file:///var/folders/v0/wzkm0bb11x1b_27rl_172pdr0000gp/T/ipykernel_78208/2760839720.py#55\u001b\\\u001b[2m55\u001b[0m\u001b]8;;\u001b\\\n"
      ]
     },
     "metadata": {},
     "output_type": "display_data"
    },
    {
     "data": {
      "text/html": [
       "<pre style=\"white-space:pre;overflow-x:auto;line-height:normal;font-family:Menlo,'DejaVu Sans Mono',consolas,'Courier New',monospace\"><span style=\"color: #7fbfbf; text-decoration-color: #7fbfbf\">           </span>Case <span style=\"color: #008080; text-decoration-color: #008080; font-weight: bold\">220629940</span> already exists with status stop                                          <a href=\"file:///var/folders/v0/wzkm0bb11x1b_27rl_172pdr0000gp/T/ipykernel_78208/2760839720.py\" target=\"_blank\"><span style=\"color: #7f7f7f; text-decoration-color: #7f7f7f\">2760839720.py</span></a><span style=\"color: #7f7f7f; text-decoration-color: #7f7f7f\">:</span><a href=\"file:///var/folders/v0/wzkm0bb11x1b_27rl_172pdr0000gp/T/ipykernel_78208/2760839720.py#52\" target=\"_blank\"><span style=\"color: #7f7f7f; text-decoration-color: #7f7f7f\">52</span></a>\n",
       "</pre>\n"
      ],
      "text/plain": [
       "\u001b[2;36m          \u001b[0m\u001b[2;36m \u001b[0mCase \u001b[1;36m220629940\u001b[0m already exists with status stop                                          \u001b]8;id=474516;file:///var/folders/v0/wzkm0bb11x1b_27rl_172pdr0000gp/T/ipykernel_78208/2760839720.py\u001b\\\u001b[2m2760839720.py\u001b[0m\u001b]8;;\u001b\\\u001b[2m:\u001b[0m\u001b]8;id=880943;file:///var/folders/v0/wzkm0bb11x1b_27rl_172pdr0000gp/T/ipykernel_78208/2760839720.py#52\u001b\\\u001b[2m52\u001b[0m\u001b]8;;\u001b\\\n"
      ]
     },
     "metadata": {},
     "output_type": "display_data"
    },
    {
     "data": {
      "text/html": [
       "<pre style=\"white-space:pre;overflow-x:auto;line-height:normal;font-family:Menlo,'DejaVu Sans Mono',consolas,'Courier New',monospace\"><span style=\"color: #7fbfbf; text-decoration-color: #7fbfbf\">           </span>Case details JAMES EASLEY <span style=\"color: #008080; text-decoration-color: #008080; font-weight: bold\">2004</span> Driving While Revoked Or Suspended                       <a href=\"file:///var/folders/v0/wzkm0bb11x1b_27rl_172pdr0000gp/T/ipykernel_78208/2760839720.py\" target=\"_blank\"><span style=\"color: #7f7f7f; text-decoration-color: #7f7f7f\">2760839720.py</span></a><span style=\"color: #7f7f7f; text-decoration-color: #7f7f7f\">:</span><a href=\"file:///var/folders/v0/wzkm0bb11x1b_27rl_172pdr0000gp/T/ipykernel_78208/2760839720.py#55\" target=\"_blank\"><span style=\"color: #7f7f7f; text-decoration-color: #7f7f7f\">55</span></a>\n",
       "</pre>\n"
      ],
      "text/plain": [
       "\u001b[2;36m          \u001b[0m\u001b[2;36m \u001b[0mCase details JAMES EASLEY \u001b[1;36m2004\u001b[0m Driving While Revoked Or Suspended                       \u001b]8;id=397362;file:///var/folders/v0/wzkm0bb11x1b_27rl_172pdr0000gp/T/ipykernel_78208/2760839720.py\u001b\\\u001b[2m2760839720.py\u001b[0m\u001b]8;;\u001b\\\u001b[2m:\u001b[0m\u001b]8;id=163669;file:///var/folders/v0/wzkm0bb11x1b_27rl_172pdr0000gp/T/ipykernel_78208/2760839720.py#55\u001b\\\u001b[2m55\u001b[0m\u001b]8;;\u001b\\\n"
      ]
     },
     "metadata": {},
     "output_type": "display_data"
    },
    {
     "data": {
      "text/html": [
       "<pre style=\"white-space:pre;overflow-x:auto;line-height:normal;font-family:Menlo,'DejaVu Sans Mono',consolas,'Courier New',monospace\"><span style=\"color: #7fbfbf; text-decoration-color: #7fbfbf\">           </span>Searching for ASHLEY GRANDERSON <span style=\"color: #008080; text-decoration-color: #008080; font-weight: bold\">1986.0</span> ST LOUIS MO <span style=\"color: #008080; text-decoration-color: #008080; font-weight: bold\">63146</span> <span style=\"color: #008080; text-decoration-color: #008080; font-weight: bold\">11598</span> WESTPARK PL              <a href=\"file:///var/folders/v0/wzkm0bb11x1b_27rl_172pdr0000gp/T/ipykernel_78208/2760839720.py\" target=\"_blank\"><span style=\"color: #7f7f7f; text-decoration-color: #7f7f7f\">2760839720.py</span></a><span style=\"color: #7f7f7f; text-decoration-color: #7f7f7f\">:</span><a href=\"file:///var/folders/v0/wzkm0bb11x1b_27rl_172pdr0000gp/T/ipykernel_78208/2760839720.py#24\" target=\"_blank\"><span style=\"color: #7f7f7f; text-decoration-color: #7f7f7f\">24</span></a>\n",
       "</pre>\n"
      ],
      "text/plain": [
       "\u001b[2;36m          \u001b[0m\u001b[2;36m \u001b[0mSearching for ASHLEY GRANDERSON \u001b[1;36m1986.0\u001b[0m ST LOUIS MO \u001b[1;36m63146\u001b[0m \u001b[1;36m11598\u001b[0m WESTPARK PL              \u001b]8;id=893619;file:///var/folders/v0/wzkm0bb11x1b_27rl_172pdr0000gp/T/ipykernel_78208/2760839720.py\u001b\\\u001b[2m2760839720.py\u001b[0m\u001b]8;;\u001b\\\u001b[2m:\u001b[0m\u001b]8;id=721630;file:///var/folders/v0/wzkm0bb11x1b_27rl_172pdr0000gp/T/ipykernel_78208/2760839720.py#24\u001b\\\u001b[2m24\u001b[0m\u001b]8;;\u001b\\\n"
      ]
     },
     "metadata": {},
     "output_type": "display_data"
    },
    {
     "data": {
      "text/html": [
       "<pre style=\"white-space:pre;overflow-x:auto;line-height:normal;font-family:Menlo,'DejaVu Sans Mono',consolas,'Courier New',monospace\"><span style=\"color: #7fbfbf; text-decoration-color: #7fbfbf\">[14:57:03] </span>Case <span style=\"color: #008080; text-decoration-color: #008080; font-weight: bold\">210716417</span> already exists with status not_contacted                                 <a href=\"file:///var/folders/v0/wzkm0bb11x1b_27rl_172pdr0000gp/T/ipykernel_78208/2760839720.py\" target=\"_blank\"><span style=\"color: #7f7f7f; text-decoration-color: #7f7f7f\">2760839720.py</span></a><span style=\"color: #7f7f7f; text-decoration-color: #7f7f7f\">:</span><a href=\"file:///var/folders/v0/wzkm0bb11x1b_27rl_172pdr0000gp/T/ipykernel_78208/2760839720.py#52\" target=\"_blank\"><span style=\"color: #7f7f7f; text-decoration-color: #7f7f7f\">52</span></a>\n",
       "</pre>\n"
      ],
      "text/plain": [
       "\u001b[2;36m[14:57:03]\u001b[0m\u001b[2;36m \u001b[0mCase \u001b[1;36m210716417\u001b[0m already exists with status not_contacted                                 \u001b]8;id=339156;file:///var/folders/v0/wzkm0bb11x1b_27rl_172pdr0000gp/T/ipykernel_78208/2760839720.py\u001b\\\u001b[2m2760839720.py\u001b[0m\u001b]8;;\u001b\\\u001b[2m:\u001b[0m\u001b]8;id=153530;file:///var/folders/v0/wzkm0bb11x1b_27rl_172pdr0000gp/T/ipykernel_78208/2760839720.py#52\u001b\\\u001b[2m52\u001b[0m\u001b]8;;\u001b\\\n"
      ]
     },
     "metadata": {},
     "output_type": "display_data"
    },
    {
     "data": {
      "text/html": [
       "<pre style=\"white-space:pre;overflow-x:auto;line-height:normal;font-family:Menlo,'DejaVu Sans Mono',consolas,'Courier New',monospace\"><span style=\"color: #7fbfbf; text-decoration-color: #7fbfbf\">           </span>Case details ASHLEY GRANDERSON <span style=\"color: #008080; text-decoration-color: #008080; font-weight: bold\">1986</span> Exceeded Posted Speed Limit <span style=\"font-weight: bold\">(</span><span style=\"color: #008080; text-decoration-color: #008080; font-weight: bold\">6</span>-<span style=\"color: #008080; text-decoration-color: #008080; font-weight: bold\">10</span> Mph Over<span style=\"font-weight: bold\">)</span>         <a href=\"file:///var/folders/v0/wzkm0bb11x1b_27rl_172pdr0000gp/T/ipykernel_78208/2760839720.py\" target=\"_blank\"><span style=\"color: #7f7f7f; text-decoration-color: #7f7f7f\">2760839720.py</span></a><span style=\"color: #7f7f7f; text-decoration-color: #7f7f7f\">:</span><a href=\"file:///var/folders/v0/wzkm0bb11x1b_27rl_172pdr0000gp/T/ipykernel_78208/2760839720.py#55\" target=\"_blank\"><span style=\"color: #7f7f7f; text-decoration-color: #7f7f7f\">55</span></a>\n",
       "</pre>\n"
      ],
      "text/plain": [
       "\u001b[2;36m          \u001b[0m\u001b[2;36m \u001b[0mCase details ASHLEY GRANDERSON \u001b[1;36m1986\u001b[0m Exceeded Posted Speed Limit \u001b[1m(\u001b[0m\u001b[1;36m6\u001b[0m-\u001b[1;36m10\u001b[0m Mph Over\u001b[1m)\u001b[0m         \u001b]8;id=855639;file:///var/folders/v0/wzkm0bb11x1b_27rl_172pdr0000gp/T/ipykernel_78208/2760839720.py\u001b\\\u001b[2m2760839720.py\u001b[0m\u001b]8;;\u001b\\\u001b[2m:\u001b[0m\u001b]8;id=839792;file:///var/folders/v0/wzkm0bb11x1b_27rl_172pdr0000gp/T/ipykernel_78208/2760839720.py#55\u001b\\\u001b[2m55\u001b[0m\u001b]8;;\u001b\\\n"
      ]
     },
     "metadata": {},
     "output_type": "display_data"
    },
    {
     "data": {
      "text/html": [
       "<pre style=\"white-space:pre;overflow-x:auto;line-height:normal;font-family:Menlo,'DejaVu Sans Mono',consolas,'Courier New',monospace\"><span style=\"color: #7fbfbf; text-decoration-color: #7fbfbf\">           </span>Searching for MATTHEW FUNK <span style=\"color: #008080; text-decoration-color: #008080; font-weight: bold\">1997.0</span> METUCHEN MO <span style=\"color: #008080; text-decoration-color: #008080; font-weight: bold\">08840</span> <span style=\"color: #008080; text-decoration-color: #008080; font-weight: bold\">134</span> ATLANTIC ST                     <a href=\"file:///var/folders/v0/wzkm0bb11x1b_27rl_172pdr0000gp/T/ipykernel_78208/2760839720.py\" target=\"_blank\"><span style=\"color: #7f7f7f; text-decoration-color: #7f7f7f\">2760839720.py</span></a><span style=\"color: #7f7f7f; text-decoration-color: #7f7f7f\">:</span><a href=\"file:///var/folders/v0/wzkm0bb11x1b_27rl_172pdr0000gp/T/ipykernel_78208/2760839720.py#24\" target=\"_blank\"><span style=\"color: #7f7f7f; text-decoration-color: #7f7f7f\">24</span></a>\n",
       "</pre>\n"
      ],
      "text/plain": [
       "\u001b[2;36m          \u001b[0m\u001b[2;36m \u001b[0mSearching for MATTHEW FUNK \u001b[1;36m1997.0\u001b[0m METUCHEN MO \u001b[1;36m08840\u001b[0m \u001b[1;36m134\u001b[0m ATLANTIC ST                     \u001b]8;id=288101;file:///var/folders/v0/wzkm0bb11x1b_27rl_172pdr0000gp/T/ipykernel_78208/2760839720.py\u001b\\\u001b[2m2760839720.py\u001b[0m\u001b]8;;\u001b\\\u001b[2m:\u001b[0m\u001b]8;id=381466;file:///var/folders/v0/wzkm0bb11x1b_27rl_172pdr0000gp/T/ipykernel_78208/2760839720.py#24\u001b\\\u001b[2m24\u001b[0m\u001b]8;;\u001b\\\n"
      ]
     },
     "metadata": {},
     "output_type": "display_data"
    },
    {
     "data": {
      "text/html": [
       "<pre style=\"white-space:pre;overflow-x:auto;line-height:normal;font-family:Menlo,'DejaVu Sans Mono',consolas,'Courier New',monospace\"><span style=\"color: #7fbfbf; text-decoration-color: #7fbfbf\">[14:57:04] </span>Case <span style=\"color: #008080; text-decoration-color: #008080; font-weight: bold\">704353163</span> already exists with status contacted                                     <a href=\"file:///var/folders/v0/wzkm0bb11x1b_27rl_172pdr0000gp/T/ipykernel_78208/2760839720.py\" target=\"_blank\"><span style=\"color: #7f7f7f; text-decoration-color: #7f7f7f\">2760839720.py</span></a><span style=\"color: #7f7f7f; text-decoration-color: #7f7f7f\">:</span><a href=\"file:///var/folders/v0/wzkm0bb11x1b_27rl_172pdr0000gp/T/ipykernel_78208/2760839720.py#52\" target=\"_blank\"><span style=\"color: #7f7f7f; text-decoration-color: #7f7f7f\">52</span></a>\n",
       "</pre>\n"
      ],
      "text/plain": [
       "\u001b[2;36m[14:57:04]\u001b[0m\u001b[2;36m \u001b[0mCase \u001b[1;36m704353163\u001b[0m already exists with status contacted                                     \u001b]8;id=409555;file:///var/folders/v0/wzkm0bb11x1b_27rl_172pdr0000gp/T/ipykernel_78208/2760839720.py\u001b\\\u001b[2m2760839720.py\u001b[0m\u001b]8;;\u001b\\\u001b[2m:\u001b[0m\u001b]8;id=991641;file:///var/folders/v0/wzkm0bb11x1b_27rl_172pdr0000gp/T/ipykernel_78208/2760839720.py#52\u001b\\\u001b[2m52\u001b[0m\u001b]8;;\u001b\\\n"
      ]
     },
     "metadata": {},
     "output_type": "display_data"
    },
    {
     "data": {
      "text/html": [
       "<pre style=\"white-space:pre;overflow-x:auto;line-height:normal;font-family:Menlo,'DejaVu Sans Mono',consolas,'Courier New',monospace\"><span style=\"color: #7fbfbf; text-decoration-color: #7fbfbf\">           </span>Case details MATTHEW FUNK <span style=\"color: #008080; text-decoration-color: #008080; font-weight: bold\">1997</span> Exceeded Posted Speed Limit <span style=\"font-weight: bold\">(</span>Exceeded By <span style=\"color: #008080; text-decoration-color: #008080; font-weight: bold\">20</span> - <span style=\"color: #008080; text-decoration-color: #008080; font-weight: bold\">25</span>  Mph<span style=\"font-weight: bold\">)</span>   <a href=\"file:///var/folders/v0/wzkm0bb11x1b_27rl_172pdr0000gp/T/ipykernel_78208/2760839720.py\" target=\"_blank\"><span style=\"color: #7f7f7f; text-decoration-color: #7f7f7f\">2760839720.py</span></a><span style=\"color: #7f7f7f; text-decoration-color: #7f7f7f\">:</span><a href=\"file:///var/folders/v0/wzkm0bb11x1b_27rl_172pdr0000gp/T/ipykernel_78208/2760839720.py#55\" target=\"_blank\"><span style=\"color: #7f7f7f; text-decoration-color: #7f7f7f\">55</span></a>\n",
       "</pre>\n"
      ],
      "text/plain": [
       "\u001b[2;36m          \u001b[0m\u001b[2;36m \u001b[0mCase details MATTHEW FUNK \u001b[1;36m1997\u001b[0m Exceeded Posted Speed Limit \u001b[1m(\u001b[0mExceeded By \u001b[1;36m20\u001b[0m - \u001b[1;36m25\u001b[0m  Mph\u001b[1m)\u001b[0m   \u001b]8;id=705426;file:///var/folders/v0/wzkm0bb11x1b_27rl_172pdr0000gp/T/ipykernel_78208/2760839720.py\u001b\\\u001b[2m2760839720.py\u001b[0m\u001b]8;;\u001b\\\u001b[2m:\u001b[0m\u001b]8;id=723751;file:///var/folders/v0/wzkm0bb11x1b_27rl_172pdr0000gp/T/ipykernel_78208/2760839720.py#55\u001b\\\u001b[2m55\u001b[0m\u001b]8;;\u001b\\\n"
      ]
     },
     "metadata": {},
     "output_type": "display_data"
    },
    {
     "data": {
      "text/html": [
       "<pre style=\"white-space:pre;overflow-x:auto;line-height:normal;font-family:Menlo,'DejaVu Sans Mono',consolas,'Courier New',monospace\"><span style=\"color: #7fbfbf; text-decoration-color: #7fbfbf\">           </span>Searching for ANDREW MCCARTNEY <span style=\"color: #008080; text-decoration-color: #008080; font-weight: bold\">1991.0</span> KANSAS CITY MO <span style=\"color: #008080; text-decoration-color: #008080; font-weight: bold\">64124</span> <span style=\"color: #008080; text-decoration-color: #008080; font-weight: bold\">702</span> CLEVELAND AVE            <a href=\"file:///var/folders/v0/wzkm0bb11x1b_27rl_172pdr0000gp/T/ipykernel_78208/2760839720.py\" target=\"_blank\"><span style=\"color: #7f7f7f; text-decoration-color: #7f7f7f\">2760839720.py</span></a><span style=\"color: #7f7f7f; text-decoration-color: #7f7f7f\">:</span><a href=\"file:///var/folders/v0/wzkm0bb11x1b_27rl_172pdr0000gp/T/ipykernel_78208/2760839720.py#24\" target=\"_blank\"><span style=\"color: #7f7f7f; text-decoration-color: #7f7f7f\">24</span></a>\n",
       "</pre>\n"
      ],
      "text/plain": [
       "\u001b[2;36m          \u001b[0m\u001b[2;36m \u001b[0mSearching for ANDREW MCCARTNEY \u001b[1;36m1991.0\u001b[0m KANSAS CITY MO \u001b[1;36m64124\u001b[0m \u001b[1;36m702\u001b[0m CLEVELAND AVE            \u001b]8;id=911895;file:///var/folders/v0/wzkm0bb11x1b_27rl_172pdr0000gp/T/ipykernel_78208/2760839720.py\u001b\\\u001b[2m2760839720.py\u001b[0m\u001b]8;;\u001b\\\u001b[2m:\u001b[0m\u001b]8;id=222934;file:///var/folders/v0/wzkm0bb11x1b_27rl_172pdr0000gp/T/ipykernel_78208/2760839720.py#24\u001b\\\u001b[2m24\u001b[0m\u001b]8;;\u001b\\\n"
      ]
     },
     "metadata": {},
     "output_type": "display_data"
    },
    {
     "data": {
      "text/html": [
       "<pre style=\"white-space:pre;overflow-x:auto;line-height:normal;font-family:Menlo,'DejaVu Sans Mono',consolas,'Courier New',monospace\"><span style=\"color: #7fbfbf; text-decoration-color: #7fbfbf\">[14:57:05] </span>Case <span style=\"color: #008080; text-decoration-color: #008080; font-weight: bold\">191095901</span> already exists with status failed                                        <a href=\"file:///var/folders/v0/wzkm0bb11x1b_27rl_172pdr0000gp/T/ipykernel_78208/2760839720.py\" target=\"_blank\"><span style=\"color: #7f7f7f; text-decoration-color: #7f7f7f\">2760839720.py</span></a><span style=\"color: #7f7f7f; text-decoration-color: #7f7f7f\">:</span><a href=\"file:///var/folders/v0/wzkm0bb11x1b_27rl_172pdr0000gp/T/ipykernel_78208/2760839720.py#52\" target=\"_blank\"><span style=\"color: #7f7f7f; text-decoration-color: #7f7f7f\">52</span></a>\n",
       "</pre>\n"
      ],
      "text/plain": [
       "\u001b[2;36m[14:57:05]\u001b[0m\u001b[2;36m \u001b[0mCase \u001b[1;36m191095901\u001b[0m already exists with status failed                                        \u001b]8;id=194498;file:///var/folders/v0/wzkm0bb11x1b_27rl_172pdr0000gp/T/ipykernel_78208/2760839720.py\u001b\\\u001b[2m2760839720.py\u001b[0m\u001b]8;;\u001b\\\u001b[2m:\u001b[0m\u001b]8;id=357987;file:///var/folders/v0/wzkm0bb11x1b_27rl_172pdr0000gp/T/ipykernel_78208/2760839720.py#52\u001b\\\u001b[2m52\u001b[0m\u001b]8;;\u001b\\\n"
      ]
     },
     "metadata": {},
     "output_type": "display_data"
    },
    {
     "data": {
      "text/html": [
       "<pre style=\"white-space:pre;overflow-x:auto;line-height:normal;font-family:Menlo,'DejaVu Sans Mono',consolas,'Courier New',monospace\"><span style=\"color: #7fbfbf; text-decoration-color: #7fbfbf\">           </span>Case details ANDREW MCCARTNEY <span style=\"color: #008080; text-decoration-color: #008080; font-weight: bold\">1991</span> Speeding <span style=\"font-weight: bold\">(</span><span style=\"color: #008080; text-decoration-color: #008080; font-weight: bold\">26</span>-<span style=\"color: #008080; text-decoration-color: #008080; font-weight: bold\">30</span> Mph Over<span style=\"font-weight: bold\">)</span>                            <a href=\"file:///var/folders/v0/wzkm0bb11x1b_27rl_172pdr0000gp/T/ipykernel_78208/2760839720.py\" target=\"_blank\"><span style=\"color: #7f7f7f; text-decoration-color: #7f7f7f\">2760839720.py</span></a><span style=\"color: #7f7f7f; text-decoration-color: #7f7f7f\">:</span><a href=\"file:///var/folders/v0/wzkm0bb11x1b_27rl_172pdr0000gp/T/ipykernel_78208/2760839720.py#55\" target=\"_blank\"><span style=\"color: #7f7f7f; text-decoration-color: #7f7f7f\">55</span></a>\n",
       "</pre>\n"
      ],
      "text/plain": [
       "\u001b[2;36m          \u001b[0m\u001b[2;36m \u001b[0mCase details ANDREW MCCARTNEY \u001b[1;36m1991\u001b[0m Speeding \u001b[1m(\u001b[0m\u001b[1;36m26\u001b[0m-\u001b[1;36m30\u001b[0m Mph Over\u001b[1m)\u001b[0m                            \u001b]8;id=71859;file:///var/folders/v0/wzkm0bb11x1b_27rl_172pdr0000gp/T/ipykernel_78208/2760839720.py\u001b\\\u001b[2m2760839720.py\u001b[0m\u001b]8;;\u001b\\\u001b[2m:\u001b[0m\u001b]8;id=632085;file:///var/folders/v0/wzkm0bb11x1b_27rl_172pdr0000gp/T/ipykernel_78208/2760839720.py#55\u001b\\\u001b[2m55\u001b[0m\u001b]8;;\u001b\\\n"
      ]
     },
     "metadata": {},
     "output_type": "display_data"
    },
    {
     "data": {
      "text/html": [
       "<pre style=\"white-space:pre;overflow-x:auto;line-height:normal;font-family:Menlo,'DejaVu Sans Mono',consolas,'Courier New',monospace\"><span style=\"color: #7fbfbf; text-decoration-color: #7fbfbf\">           </span>Case <span style=\"color: #008080; text-decoration-color: #008080; font-weight: bold\">191095902</span> already exists with status not_prioritized                               <a href=\"file:///var/folders/v0/wzkm0bb11x1b_27rl_172pdr0000gp/T/ipykernel_78208/2760839720.py\" target=\"_blank\"><span style=\"color: #7f7f7f; text-decoration-color: #7f7f7f\">2760839720.py</span></a><span style=\"color: #7f7f7f; text-decoration-color: #7f7f7f\">:</span><a href=\"file:///var/folders/v0/wzkm0bb11x1b_27rl_172pdr0000gp/T/ipykernel_78208/2760839720.py#52\" target=\"_blank\"><span style=\"color: #7f7f7f; text-decoration-color: #7f7f7f\">52</span></a>\n",
       "</pre>\n"
      ],
      "text/plain": [
       "\u001b[2;36m          \u001b[0m\u001b[2;36m \u001b[0mCase \u001b[1;36m191095902\u001b[0m already exists with status not_prioritized                               \u001b]8;id=156954;file:///var/folders/v0/wzkm0bb11x1b_27rl_172pdr0000gp/T/ipykernel_78208/2760839720.py\u001b\\\u001b[2m2760839720.py\u001b[0m\u001b]8;;\u001b\\\u001b[2m:\u001b[0m\u001b]8;id=802467;file:///var/folders/v0/wzkm0bb11x1b_27rl_172pdr0000gp/T/ipykernel_78208/2760839720.py#52\u001b\\\u001b[2m52\u001b[0m\u001b]8;;\u001b\\\n"
      ]
     },
     "metadata": {},
     "output_type": "display_data"
    },
    {
     "data": {
      "text/html": [
       "<pre style=\"white-space:pre;overflow-x:auto;line-height:normal;font-family:Menlo,'DejaVu Sans Mono',consolas,'Courier New',monospace\"><span style=\"color: #7fbfbf; text-decoration-color: #7fbfbf\">           </span>Case details ANDREW MCCARTNEY <span style=\"color: #008080; text-decoration-color: #008080; font-weight: bold\">1991</span> Expired Plates                                       <a href=\"file:///var/folders/v0/wzkm0bb11x1b_27rl_172pdr0000gp/T/ipykernel_78208/2760839720.py\" target=\"_blank\"><span style=\"color: #7f7f7f; text-decoration-color: #7f7f7f\">2760839720.py</span></a><span style=\"color: #7f7f7f; text-decoration-color: #7f7f7f\">:</span><a href=\"file:///var/folders/v0/wzkm0bb11x1b_27rl_172pdr0000gp/T/ipykernel_78208/2760839720.py#55\" target=\"_blank\"><span style=\"color: #7f7f7f; text-decoration-color: #7f7f7f\">55</span></a>\n",
       "</pre>\n"
      ],
      "text/plain": [
       "\u001b[2;36m          \u001b[0m\u001b[2;36m \u001b[0mCase details ANDREW MCCARTNEY \u001b[1;36m1991\u001b[0m Expired Plates                                       \u001b]8;id=760569;file:///var/folders/v0/wzkm0bb11x1b_27rl_172pdr0000gp/T/ipykernel_78208/2760839720.py\u001b\\\u001b[2m2760839720.py\u001b[0m\u001b]8;;\u001b\\\u001b[2m:\u001b[0m\u001b]8;id=341481;file:///var/folders/v0/wzkm0bb11x1b_27rl_172pdr0000gp/T/ipykernel_78208/2760839720.py#55\u001b\\\u001b[2m55\u001b[0m\u001b]8;;\u001b\\\n"
      ]
     },
     "metadata": {},
     "output_type": "display_data"
    },
    {
     "data": {
      "text/html": [
       "<pre style=\"white-space:pre;overflow-x:auto;line-height:normal;font-family:Menlo,'DejaVu Sans Mono',consolas,'Courier New',monospace\"><span style=\"color: #7fbfbf; text-decoration-color: #7fbfbf\">           </span>Searching for PAYTON AGUIRRE <span style=\"color: #008080; text-decoration-color: #008080; font-weight: bold\">2000.0</span> GRAIN VALLEY MO <span style=\"color: #008080; text-decoration-color: #008080; font-weight: bold\">64029</span> <span style=\"color: #008080; text-decoration-color: #008080; font-weight: bold\">1305</span> NW HILLTOP LN            <a href=\"file:///var/folders/v0/wzkm0bb11x1b_27rl_172pdr0000gp/T/ipykernel_78208/2760839720.py\" target=\"_blank\"><span style=\"color: #7f7f7f; text-decoration-color: #7f7f7f\">2760839720.py</span></a><span style=\"color: #7f7f7f; text-decoration-color: #7f7f7f\">:</span><a href=\"file:///var/folders/v0/wzkm0bb11x1b_27rl_172pdr0000gp/T/ipykernel_78208/2760839720.py#24\" target=\"_blank\"><span style=\"color: #7f7f7f; text-decoration-color: #7f7f7f\">24</span></a>\n",
       "</pre>\n"
      ],
      "text/plain": [
       "\u001b[2;36m          \u001b[0m\u001b[2;36m \u001b[0mSearching for PAYTON AGUIRRE \u001b[1;36m2000.0\u001b[0m GRAIN VALLEY MO \u001b[1;36m64029\u001b[0m \u001b[1;36m1305\u001b[0m NW HILLTOP LN            \u001b]8;id=31313;file:///var/folders/v0/wzkm0bb11x1b_27rl_172pdr0000gp/T/ipykernel_78208/2760839720.py\u001b\\\u001b[2m2760839720.py\u001b[0m\u001b]8;;\u001b\\\u001b[2m:\u001b[0m\u001b]8;id=968670;file:///var/folders/v0/wzkm0bb11x1b_27rl_172pdr0000gp/T/ipykernel_78208/2760839720.py#24\u001b\\\u001b[2m24\u001b[0m\u001b]8;;\u001b\\\n"
      ]
     },
     "metadata": {},
     "output_type": "display_data"
    },
    {
     "data": {
      "text/html": [
       "<pre style=\"white-space:pre;overflow-x:auto;line-height:normal;font-family:Menlo,'DejaVu Sans Mono',consolas,'Courier New',monospace\"><span style=\"color: #7fbfbf; text-decoration-color: #7fbfbf\">[14:57:06] </span>Case <span style=\"color: #008080; text-decoration-color: #008080; font-weight: bold\">704109646</span> already exists with status no_phone                                      <a href=\"file:///var/folders/v0/wzkm0bb11x1b_27rl_172pdr0000gp/T/ipykernel_78208/2760839720.py\" target=\"_blank\"><span style=\"color: #7f7f7f; text-decoration-color: #7f7f7f\">2760839720.py</span></a><span style=\"color: #7f7f7f; text-decoration-color: #7f7f7f\">:</span><a href=\"file:///var/folders/v0/wzkm0bb11x1b_27rl_172pdr0000gp/T/ipykernel_78208/2760839720.py#52\" target=\"_blank\"><span style=\"color: #7f7f7f; text-decoration-color: #7f7f7f\">52</span></a>\n",
       "</pre>\n"
      ],
      "text/plain": [
       "\u001b[2;36m[14:57:06]\u001b[0m\u001b[2;36m \u001b[0mCase \u001b[1;36m704109646\u001b[0m already exists with status no_phone                                      \u001b]8;id=899379;file:///var/folders/v0/wzkm0bb11x1b_27rl_172pdr0000gp/T/ipykernel_78208/2760839720.py\u001b\\\u001b[2m2760839720.py\u001b[0m\u001b]8;;\u001b\\\u001b[2m:\u001b[0m\u001b]8;id=936965;file:///var/folders/v0/wzkm0bb11x1b_27rl_172pdr0000gp/T/ipykernel_78208/2760839720.py#52\u001b\\\u001b[2m52\u001b[0m\u001b]8;;\u001b\\\n"
      ]
     },
     "metadata": {},
     "output_type": "display_data"
    },
    {
     "data": {
      "text/html": [
       "<pre style=\"white-space:pre;overflow-x:auto;line-height:normal;font-family:Menlo,'DejaVu Sans Mono',consolas,'Courier New',monospace\"><span style=\"color: #7fbfbf; text-decoration-color: #7fbfbf\">           </span>Case details PAYTON AGUIRRE <span style=\"color: #008080; text-decoration-color: #008080; font-weight: bold\">2000</span> Exceeded Posted Speed Limit <span style=\"font-weight: bold\">(</span>Exceeded By <span style=\"color: #008080; text-decoration-color: #008080; font-weight: bold\">16</span> - <span style=\"color: #008080; text-decoration-color: #008080; font-weight: bold\">19</span> Mph<span style=\"font-weight: bold\">)</span>  <a href=\"file:///var/folders/v0/wzkm0bb11x1b_27rl_172pdr0000gp/T/ipykernel_78208/2760839720.py\" target=\"_blank\"><span style=\"color: #7f7f7f; text-decoration-color: #7f7f7f\">2760839720.py</span></a><span style=\"color: #7f7f7f; text-decoration-color: #7f7f7f\">:</span><a href=\"file:///var/folders/v0/wzkm0bb11x1b_27rl_172pdr0000gp/T/ipykernel_78208/2760839720.py#55\" target=\"_blank\"><span style=\"color: #7f7f7f; text-decoration-color: #7f7f7f\">55</span></a>\n",
       "</pre>\n"
      ],
      "text/plain": [
       "\u001b[2;36m          \u001b[0m\u001b[2;36m \u001b[0mCase details PAYTON AGUIRRE \u001b[1;36m2000\u001b[0m Exceeded Posted Speed Limit \u001b[1m(\u001b[0mExceeded By \u001b[1;36m16\u001b[0m - \u001b[1;36m19\u001b[0m Mph\u001b[1m)\u001b[0m  \u001b]8;id=569583;file:///var/folders/v0/wzkm0bb11x1b_27rl_172pdr0000gp/T/ipykernel_78208/2760839720.py\u001b\\\u001b[2m2760839720.py\u001b[0m\u001b]8;;\u001b\\\u001b[2m:\u001b[0m\u001b]8;id=657131;file:///var/folders/v0/wzkm0bb11x1b_27rl_172pdr0000gp/T/ipykernel_78208/2760839720.py#55\u001b\\\u001b[2m55\u001b[0m\u001b]8;;\u001b\\\n"
      ]
     },
     "metadata": {},
     "output_type": "display_data"
    },
    {
     "data": {
      "text/html": [
       "<pre style=\"white-space:pre;overflow-x:auto;line-height:normal;font-family:Menlo,'DejaVu Sans Mono',consolas,'Courier New',monospace\"><span style=\"color: #7fbfbf; text-decoration-color: #7fbfbf\">           </span>Searching for JORY SWIM <span style=\"color: #008080; text-decoration-color: #008080; font-weight: bold\">1982.0</span> BELTON MO <span style=\"color: #008080; text-decoration-color: #008080; font-weight: bold\">64012</span> <span style=\"color: #008080; text-decoration-color: #008080; font-weight: bold\">15904</span> RYAN DR                            <a href=\"file:///var/folders/v0/wzkm0bb11x1b_27rl_172pdr0000gp/T/ipykernel_78208/2760839720.py\" target=\"_blank\"><span style=\"color: #7f7f7f; text-decoration-color: #7f7f7f\">2760839720.py</span></a><span style=\"color: #7f7f7f; text-decoration-color: #7f7f7f\">:</span><a href=\"file:///var/folders/v0/wzkm0bb11x1b_27rl_172pdr0000gp/T/ipykernel_78208/2760839720.py#24\" target=\"_blank\"><span style=\"color: #7f7f7f; text-decoration-color: #7f7f7f\">24</span></a>\n",
       "</pre>\n"
      ],
      "text/plain": [
       "\u001b[2;36m          \u001b[0m\u001b[2;36m \u001b[0mSearching for JORY SWIM \u001b[1;36m1982.0\u001b[0m BELTON MO \u001b[1;36m64012\u001b[0m \u001b[1;36m15904\u001b[0m RYAN DR                            \u001b]8;id=694684;file:///var/folders/v0/wzkm0bb11x1b_27rl_172pdr0000gp/T/ipykernel_78208/2760839720.py\u001b\\\u001b[2m2760839720.py\u001b[0m\u001b]8;;\u001b\\\u001b[2m:\u001b[0m\u001b]8;id=802232;file:///var/folders/v0/wzkm0bb11x1b_27rl_172pdr0000gp/T/ipykernel_78208/2760839720.py#24\u001b\\\u001b[2m24\u001b[0m\u001b]8;;\u001b\\\n"
      ]
     },
     "metadata": {},
     "output_type": "display_data"
    },
    {
     "data": {
      "text/html": [
       "<pre style=\"white-space:pre;overflow-x:auto;line-height:normal;font-family:Menlo,'DejaVu Sans Mono',consolas,'Courier New',monospace\"><span style=\"color: #7fbfbf; text-decoration-color: #7fbfbf\">[14:57:08] </span>Case <span style=\"color: #008080; text-decoration-color: #008080; font-weight: bold\">210264924</span> already exists with status not_contacted                                 <a href=\"file:///var/folders/v0/wzkm0bb11x1b_27rl_172pdr0000gp/T/ipykernel_78208/2760839720.py\" target=\"_blank\"><span style=\"color: #7f7f7f; text-decoration-color: #7f7f7f\">2760839720.py</span></a><span style=\"color: #7f7f7f; text-decoration-color: #7f7f7f\">:</span><a href=\"file:///var/folders/v0/wzkm0bb11x1b_27rl_172pdr0000gp/T/ipykernel_78208/2760839720.py#52\" target=\"_blank\"><span style=\"color: #7f7f7f; text-decoration-color: #7f7f7f\">52</span></a>\n",
       "</pre>\n"
      ],
      "text/plain": [
       "\u001b[2;36m[14:57:08]\u001b[0m\u001b[2;36m \u001b[0mCase \u001b[1;36m210264924\u001b[0m already exists with status not_contacted                                 \u001b]8;id=946525;file:///var/folders/v0/wzkm0bb11x1b_27rl_172pdr0000gp/T/ipykernel_78208/2760839720.py\u001b\\\u001b[2m2760839720.py\u001b[0m\u001b]8;;\u001b\\\u001b[2m:\u001b[0m\u001b]8;id=128813;file:///var/folders/v0/wzkm0bb11x1b_27rl_172pdr0000gp/T/ipykernel_78208/2760839720.py#52\u001b\\\u001b[2m52\u001b[0m\u001b]8;;\u001b\\\n"
      ]
     },
     "metadata": {},
     "output_type": "display_data"
    },
    {
     "data": {
      "text/html": [
       "<pre style=\"white-space:pre;overflow-x:auto;line-height:normal;font-family:Menlo,'DejaVu Sans Mono',consolas,'Courier New',monospace\"><span style=\"color: #7fbfbf; text-decoration-color: #7fbfbf\">           </span>Case details JORY SWIM <span style=\"color: #008080; text-decoration-color: #008080; font-weight: bold\">1982</span> Exceeded Posted Speed Limit <span style=\"font-weight: bold\">(</span><span style=\"color: #008080; text-decoration-color: #008080; font-weight: bold\">1</span>-<span style=\"color: #008080; text-decoration-color: #008080; font-weight: bold\">5</span> Mph Over<span style=\"font-weight: bold\">)</span>                  <a href=\"file:///var/folders/v0/wzkm0bb11x1b_27rl_172pdr0000gp/T/ipykernel_78208/2760839720.py\" target=\"_blank\"><span style=\"color: #7f7f7f; text-decoration-color: #7f7f7f\">2760839720.py</span></a><span style=\"color: #7f7f7f; text-decoration-color: #7f7f7f\">:</span><a href=\"file:///var/folders/v0/wzkm0bb11x1b_27rl_172pdr0000gp/T/ipykernel_78208/2760839720.py#55\" target=\"_blank\"><span style=\"color: #7f7f7f; text-decoration-color: #7f7f7f\">55</span></a>\n",
       "</pre>\n"
      ],
      "text/plain": [
       "\u001b[2;36m          \u001b[0m\u001b[2;36m \u001b[0mCase details JORY SWIM \u001b[1;36m1982\u001b[0m Exceeded Posted Speed Limit \u001b[1m(\u001b[0m\u001b[1;36m1\u001b[0m-\u001b[1;36m5\u001b[0m Mph Over\u001b[1m)\u001b[0m                  \u001b]8;id=854003;file:///var/folders/v0/wzkm0bb11x1b_27rl_172pdr0000gp/T/ipykernel_78208/2760839720.py\u001b\\\u001b[2m2760839720.py\u001b[0m\u001b]8;;\u001b\\\u001b[2m:\u001b[0m\u001b]8;id=188740;file:///var/folders/v0/wzkm0bb11x1b_27rl_172pdr0000gp/T/ipykernel_78208/2760839720.py#55\u001b\\\u001b[2m55\u001b[0m\u001b]8;;\u001b\\\n"
      ]
     },
     "metadata": {},
     "output_type": "display_data"
    },
    {
     "data": {
      "text/html": [
       "<pre style=\"white-space:pre;overflow-x:auto;line-height:normal;font-family:Menlo,'DejaVu Sans Mono',consolas,'Courier New',monospace\"><span style=\"color: #7fbfbf; text-decoration-color: #7fbfbf\">           </span>Case <span style=\"color: #008080; text-decoration-color: #008080; font-weight: bold\">230448259</span> already exists with status contacted                                     <a href=\"file:///var/folders/v0/wzkm0bb11x1b_27rl_172pdr0000gp/T/ipykernel_78208/2760839720.py\" target=\"_blank\"><span style=\"color: #7f7f7f; text-decoration-color: #7f7f7f\">2760839720.py</span></a><span style=\"color: #7f7f7f; text-decoration-color: #7f7f7f\">:</span><a href=\"file:///var/folders/v0/wzkm0bb11x1b_27rl_172pdr0000gp/T/ipykernel_78208/2760839720.py#52\" target=\"_blank\"><span style=\"color: #7f7f7f; text-decoration-color: #7f7f7f\">52</span></a>\n",
       "</pre>\n"
      ],
      "text/plain": [
       "\u001b[2;36m          \u001b[0m\u001b[2;36m \u001b[0mCase \u001b[1;36m230448259\u001b[0m already exists with status contacted                                     \u001b]8;id=303319;file:///var/folders/v0/wzkm0bb11x1b_27rl_172pdr0000gp/T/ipykernel_78208/2760839720.py\u001b\\\u001b[2m2760839720.py\u001b[0m\u001b]8;;\u001b\\\u001b[2m:\u001b[0m\u001b]8;id=545550;file:///var/folders/v0/wzkm0bb11x1b_27rl_172pdr0000gp/T/ipykernel_78208/2760839720.py#52\u001b\\\u001b[2m52\u001b[0m\u001b]8;;\u001b\\\n"
      ]
     },
     "metadata": {},
     "output_type": "display_data"
    },
    {
     "data": {
      "text/html": [
       "<pre style=\"white-space:pre;overflow-x:auto;line-height:normal;font-family:Menlo,'DejaVu Sans Mono',consolas,'Courier New',monospace\"><span style=\"color: #7fbfbf; text-decoration-color: #7fbfbf\">           </span>Case details JORY SWIM <span style=\"color: #008080; text-decoration-color: #008080; font-weight: bold\">1982</span> Exceeded Posted Speed Limit <span style=\"font-weight: bold\">(</span><span style=\"color: #008080; text-decoration-color: #008080; font-weight: bold\">20</span>-<span style=\"color: #008080; text-decoration-color: #008080; font-weight: bold\">25</span> Mph Over<span style=\"font-weight: bold\">)</span>                <a href=\"file:///var/folders/v0/wzkm0bb11x1b_27rl_172pdr0000gp/T/ipykernel_78208/2760839720.py\" target=\"_blank\"><span style=\"color: #7f7f7f; text-decoration-color: #7f7f7f\">2760839720.py</span></a><span style=\"color: #7f7f7f; text-decoration-color: #7f7f7f\">:</span><a href=\"file:///var/folders/v0/wzkm0bb11x1b_27rl_172pdr0000gp/T/ipykernel_78208/2760839720.py#55\" target=\"_blank\"><span style=\"color: #7f7f7f; text-decoration-color: #7f7f7f\">55</span></a>\n",
       "</pre>\n"
      ],
      "text/plain": [
       "\u001b[2;36m          \u001b[0m\u001b[2;36m \u001b[0mCase details JORY SWIM \u001b[1;36m1982\u001b[0m Exceeded Posted Speed Limit \u001b[1m(\u001b[0m\u001b[1;36m20\u001b[0m-\u001b[1;36m25\u001b[0m Mph Over\u001b[1m)\u001b[0m                \u001b]8;id=850513;file:///var/folders/v0/wzkm0bb11x1b_27rl_172pdr0000gp/T/ipykernel_78208/2760839720.py\u001b\\\u001b[2m2760839720.py\u001b[0m\u001b]8;;\u001b\\\u001b[2m:\u001b[0m\u001b]8;id=406718;file:///var/folders/v0/wzkm0bb11x1b_27rl_172pdr0000gp/T/ipykernel_78208/2760839720.py#55\u001b\\\u001b[2m55\u001b[0m\u001b]8;;\u001b\\\n"
      ]
     },
     "metadata": {},
     "output_type": "display_data"
    },
    {
     "data": {
      "text/html": [
       "<pre style=\"white-space:pre;overflow-x:auto;line-height:normal;font-family:Menlo,'DejaVu Sans Mono',consolas,'Courier New',monospace\"><span style=\"color: #7fbfbf; text-decoration-color: #7fbfbf\">           </span>Searching for LUKE MITCHELL <span style=\"color: #008080; text-decoration-color: #008080; font-weight: bold\">2003.0</span> ST CHARLES MO <span style=\"color: #008080; text-decoration-color: #008080; font-weight: bold\">63304</span>-<span style=\"color: #008080; text-decoration-color: #008080; font-weight: bold\">0415</span> <span style=\"color: #008080; text-decoration-color: #008080; font-weight: bold\">178</span> UPPER MUIRFIELD CT N    <a href=\"file:///var/folders/v0/wzkm0bb11x1b_27rl_172pdr0000gp/T/ipykernel_78208/2760839720.py\" target=\"_blank\"><span style=\"color: #7f7f7f; text-decoration-color: #7f7f7f\">2760839720.py</span></a><span style=\"color: #7f7f7f; text-decoration-color: #7f7f7f\">:</span><a href=\"file:///var/folders/v0/wzkm0bb11x1b_27rl_172pdr0000gp/T/ipykernel_78208/2760839720.py#24\" target=\"_blank\"><span style=\"color: #7f7f7f; text-decoration-color: #7f7f7f\">24</span></a>\n",
       "</pre>\n"
      ],
      "text/plain": [
       "\u001b[2;36m          \u001b[0m\u001b[2;36m \u001b[0mSearching for LUKE MITCHELL \u001b[1;36m2003.0\u001b[0m ST CHARLES MO \u001b[1;36m63304\u001b[0m-\u001b[1;36m0415\u001b[0m \u001b[1;36m178\u001b[0m UPPER MUIRFIELD CT N    \u001b]8;id=967785;file:///var/folders/v0/wzkm0bb11x1b_27rl_172pdr0000gp/T/ipykernel_78208/2760839720.py\u001b\\\u001b[2m2760839720.py\u001b[0m\u001b]8;;\u001b\\\u001b[2m:\u001b[0m\u001b]8;id=247994;file:///var/folders/v0/wzkm0bb11x1b_27rl_172pdr0000gp/T/ipykernel_78208/2760839720.py#24\u001b\\\u001b[2m24\u001b[0m\u001b]8;;\u001b\\\n"
      ]
     },
     "metadata": {},
     "output_type": "display_data"
    },
    {
     "data": {
      "text/html": [
       "<pre style=\"white-space:pre;overflow-x:auto;line-height:normal;font-family:Menlo,'DejaVu Sans Mono',consolas,'Courier New',monospace\"><span style=\"color: #7fbfbf; text-decoration-color: #7fbfbf\">[14:57:09] </span>Case <span style=\"color: #008080; text-decoration-color: #008080; font-weight: bold\">230000913</span> already exists with status contacted                                     <a href=\"file:///var/folders/v0/wzkm0bb11x1b_27rl_172pdr0000gp/T/ipykernel_78208/2760839720.py\" target=\"_blank\"><span style=\"color: #7f7f7f; text-decoration-color: #7f7f7f\">2760839720.py</span></a><span style=\"color: #7f7f7f; text-decoration-color: #7f7f7f\">:</span><a href=\"file:///var/folders/v0/wzkm0bb11x1b_27rl_172pdr0000gp/T/ipykernel_78208/2760839720.py#52\" target=\"_blank\"><span style=\"color: #7f7f7f; text-decoration-color: #7f7f7f\">52</span></a>\n",
       "</pre>\n"
      ],
      "text/plain": [
       "\u001b[2;36m[14:57:09]\u001b[0m\u001b[2;36m \u001b[0mCase \u001b[1;36m230000913\u001b[0m already exists with status contacted                                     \u001b]8;id=198797;file:///var/folders/v0/wzkm0bb11x1b_27rl_172pdr0000gp/T/ipykernel_78208/2760839720.py\u001b\\\u001b[2m2760839720.py\u001b[0m\u001b]8;;\u001b\\\u001b[2m:\u001b[0m\u001b]8;id=398380;file:///var/folders/v0/wzkm0bb11x1b_27rl_172pdr0000gp/T/ipykernel_78208/2760839720.py#52\u001b\\\u001b[2m52\u001b[0m\u001b]8;;\u001b\\\n"
      ]
     },
     "metadata": {},
     "output_type": "display_data"
    },
    {
     "data": {
      "text/html": [
       "<pre style=\"white-space:pre;overflow-x:auto;line-height:normal;font-family:Menlo,'DejaVu Sans Mono',consolas,'Courier New',monospace\"><span style=\"color: #7fbfbf; text-decoration-color: #7fbfbf\">           </span>Case details LUKE MITCHELL <span style=\"color: #008080; text-decoration-color: #008080; font-weight: bold\">2003</span> Exceeded Posted Speed Limit <span style=\"font-weight: bold\">(</span><span style=\"color: #008080; text-decoration-color: #008080; font-weight: bold\">16</span>-<span style=\"color: #008080; text-decoration-color: #008080; font-weight: bold\">19</span> Mph Over<span style=\"font-weight: bold\">)</span>            <a href=\"file:///var/folders/v0/wzkm0bb11x1b_27rl_172pdr0000gp/T/ipykernel_78208/2760839720.py\" target=\"_blank\"><span style=\"color: #7f7f7f; text-decoration-color: #7f7f7f\">2760839720.py</span></a><span style=\"color: #7f7f7f; text-decoration-color: #7f7f7f\">:</span><a href=\"file:///var/folders/v0/wzkm0bb11x1b_27rl_172pdr0000gp/T/ipykernel_78208/2760839720.py#55\" target=\"_blank\"><span style=\"color: #7f7f7f; text-decoration-color: #7f7f7f\">55</span></a>\n",
       "</pre>\n"
      ],
      "text/plain": [
       "\u001b[2;36m          \u001b[0m\u001b[2;36m \u001b[0mCase details LUKE MITCHELL \u001b[1;36m2003\u001b[0m Exceeded Posted Speed Limit \u001b[1m(\u001b[0m\u001b[1;36m16\u001b[0m-\u001b[1;36m19\u001b[0m Mph Over\u001b[1m)\u001b[0m            \u001b]8;id=44608;file:///var/folders/v0/wzkm0bb11x1b_27rl_172pdr0000gp/T/ipykernel_78208/2760839720.py\u001b\\\u001b[2m2760839720.py\u001b[0m\u001b]8;;\u001b\\\u001b[2m:\u001b[0m\u001b]8;id=118450;file:///var/folders/v0/wzkm0bb11x1b_27rl_172pdr0000gp/T/ipykernel_78208/2760839720.py#55\u001b\\\u001b[2m55\u001b[0m\u001b]8;;\u001b\\\n"
      ]
     },
     "metadata": {},
     "output_type": "display_data"
    },
    {
     "data": {
      "text/html": [
       "<pre style=\"white-space:pre;overflow-x:auto;line-height:normal;font-family:Menlo,'DejaVu Sans Mono',consolas,'Courier New',monospace\"><span style=\"color: #7fbfbf; text-decoration-color: #7fbfbf\">           </span>Searching for TINIESHA WEST <span style=\"color: #008080; text-decoration-color: #008080; font-weight: bold\">1995.0</span> KIRKWOOD MO <span style=\"color: #008080; text-decoration-color: #008080; font-weight: bold\">63122</span> <span style=\"color: #008080; text-decoration-color: #008080; font-weight: bold\">325</span> CHICAGO ST                     <a href=\"file:///var/folders/v0/wzkm0bb11x1b_27rl_172pdr0000gp/T/ipykernel_78208/2760839720.py\" target=\"_blank\"><span style=\"color: #7f7f7f; text-decoration-color: #7f7f7f\">2760839720.py</span></a><span style=\"color: #7f7f7f; text-decoration-color: #7f7f7f\">:</span><a href=\"file:///var/folders/v0/wzkm0bb11x1b_27rl_172pdr0000gp/T/ipykernel_78208/2760839720.py#24\" target=\"_blank\"><span style=\"color: #7f7f7f; text-decoration-color: #7f7f7f\">24</span></a>\n",
       "</pre>\n"
      ],
      "text/plain": [
       "\u001b[2;36m          \u001b[0m\u001b[2;36m \u001b[0mSearching for TINIESHA WEST \u001b[1;36m1995.0\u001b[0m KIRKWOOD MO \u001b[1;36m63122\u001b[0m \u001b[1;36m325\u001b[0m CHICAGO ST                     \u001b]8;id=875353;file:///var/folders/v0/wzkm0bb11x1b_27rl_172pdr0000gp/T/ipykernel_78208/2760839720.py\u001b\\\u001b[2m2760839720.py\u001b[0m\u001b]8;;\u001b\\\u001b[2m:\u001b[0m\u001b]8;id=103897;file:///var/folders/v0/wzkm0bb11x1b_27rl_172pdr0000gp/T/ipykernel_78208/2760839720.py#24\u001b\\\u001b[2m24\u001b[0m\u001b]8;;\u001b\\\n"
      ]
     },
     "metadata": {},
     "output_type": "display_data"
    },
    {
     "data": {
      "text/html": [
       "<pre style=\"white-space:pre;overflow-x:auto;line-height:normal;font-family:Menlo,'DejaVu Sans Mono',consolas,'Courier New',monospace\"><span style=\"color: #7fbfbf; text-decoration-color: #7fbfbf\">[14:57:10] </span>Case <span style=\"color: #008080; text-decoration-color: #008080; font-weight: bold\">231116912</span> already exists with status contacted                                     <a href=\"file:///var/folders/v0/wzkm0bb11x1b_27rl_172pdr0000gp/T/ipykernel_78208/2760839720.py\" target=\"_blank\"><span style=\"color: #7f7f7f; text-decoration-color: #7f7f7f\">2760839720.py</span></a><span style=\"color: #7f7f7f; text-decoration-color: #7f7f7f\">:</span><a href=\"file:///var/folders/v0/wzkm0bb11x1b_27rl_172pdr0000gp/T/ipykernel_78208/2760839720.py#52\" target=\"_blank\"><span style=\"color: #7f7f7f; text-decoration-color: #7f7f7f\">52</span></a>\n",
       "</pre>\n"
      ],
      "text/plain": [
       "\u001b[2;36m[14:57:10]\u001b[0m\u001b[2;36m \u001b[0mCase \u001b[1;36m231116912\u001b[0m already exists with status contacted                                     \u001b]8;id=878597;file:///var/folders/v0/wzkm0bb11x1b_27rl_172pdr0000gp/T/ipykernel_78208/2760839720.py\u001b\\\u001b[2m2760839720.py\u001b[0m\u001b]8;;\u001b\\\u001b[2m:\u001b[0m\u001b]8;id=682541;file:///var/folders/v0/wzkm0bb11x1b_27rl_172pdr0000gp/T/ipykernel_78208/2760839720.py#52\u001b\\\u001b[2m52\u001b[0m\u001b]8;;\u001b\\\n"
      ]
     },
     "metadata": {},
     "output_type": "display_data"
    },
    {
     "data": {
      "text/html": [
       "<pre style=\"white-space:pre;overflow-x:auto;line-height:normal;font-family:Menlo,'DejaVu Sans Mono',consolas,'Courier New',monospace\"><span style=\"color: #7fbfbf; text-decoration-color: #7fbfbf\">           </span>Case details TINIESHA WEST <span style=\"color: #008080; text-decoration-color: #008080; font-weight: bold\">1995</span> Exceeded Posted Speed Limit <span style=\"font-weight: bold\">(</span><span style=\"color: #008080; text-decoration-color: #008080; font-weight: bold\">20</span>-<span style=\"color: #008080; text-decoration-color: #008080; font-weight: bold\">25</span> Mph Over<span style=\"font-weight: bold\">)</span>            <a href=\"file:///var/folders/v0/wzkm0bb11x1b_27rl_172pdr0000gp/T/ipykernel_78208/2760839720.py\" target=\"_blank\"><span style=\"color: #7f7f7f; text-decoration-color: #7f7f7f\">2760839720.py</span></a><span style=\"color: #7f7f7f; text-decoration-color: #7f7f7f\">:</span><a href=\"file:///var/folders/v0/wzkm0bb11x1b_27rl_172pdr0000gp/T/ipykernel_78208/2760839720.py#55\" target=\"_blank\"><span style=\"color: #7f7f7f; text-decoration-color: #7f7f7f\">55</span></a>\n",
       "</pre>\n"
      ],
      "text/plain": [
       "\u001b[2;36m          \u001b[0m\u001b[2;36m \u001b[0mCase details TINIESHA WEST \u001b[1;36m1995\u001b[0m Exceeded Posted Speed Limit \u001b[1m(\u001b[0m\u001b[1;36m20\u001b[0m-\u001b[1;36m25\u001b[0m Mph Over\u001b[1m)\u001b[0m            \u001b]8;id=178085;file:///var/folders/v0/wzkm0bb11x1b_27rl_172pdr0000gp/T/ipykernel_78208/2760839720.py\u001b\\\u001b[2m2760839720.py\u001b[0m\u001b]8;;\u001b\\\u001b[2m:\u001b[0m\u001b]8;id=750602;file:///var/folders/v0/wzkm0bb11x1b_27rl_172pdr0000gp/T/ipykernel_78208/2760839720.py#55\u001b\\\u001b[2m55\u001b[0m\u001b]8;;\u001b\\\n"
      ]
     },
     "metadata": {},
     "output_type": "display_data"
    },
    {
     "data": {
      "text/html": [
       "<pre style=\"white-space:pre;overflow-x:auto;line-height:normal;font-family:Menlo,'DejaVu Sans Mono',consolas,'Courier New',monospace\"><span style=\"color: #7fbfbf; text-decoration-color: #7fbfbf\">           </span>Case <span style=\"color: #008080; text-decoration-color: #008080; font-weight: bold\">231116913</span> already exists with status contacted                                     <a href=\"file:///var/folders/v0/wzkm0bb11x1b_27rl_172pdr0000gp/T/ipykernel_78208/2760839720.py\" target=\"_blank\"><span style=\"color: #7f7f7f; text-decoration-color: #7f7f7f\">2760839720.py</span></a><span style=\"color: #7f7f7f; text-decoration-color: #7f7f7f\">:</span><a href=\"file:///var/folders/v0/wzkm0bb11x1b_27rl_172pdr0000gp/T/ipykernel_78208/2760839720.py#52\" target=\"_blank\"><span style=\"color: #7f7f7f; text-decoration-color: #7f7f7f\">52</span></a>\n",
       "</pre>\n"
      ],
      "text/plain": [
       "\u001b[2;36m          \u001b[0m\u001b[2;36m \u001b[0mCase \u001b[1;36m231116913\u001b[0m already exists with status contacted                                     \u001b]8;id=20312;file:///var/folders/v0/wzkm0bb11x1b_27rl_172pdr0000gp/T/ipykernel_78208/2760839720.py\u001b\\\u001b[2m2760839720.py\u001b[0m\u001b]8;;\u001b\\\u001b[2m:\u001b[0m\u001b]8;id=162651;file:///var/folders/v0/wzkm0bb11x1b_27rl_172pdr0000gp/T/ipykernel_78208/2760839720.py#52\u001b\\\u001b[2m52\u001b[0m\u001b]8;;\u001b\\\n"
      ]
     },
     "metadata": {},
     "output_type": "display_data"
    },
    {
     "data": {
      "text/html": [
       "<pre style=\"white-space:pre;overflow-x:auto;line-height:normal;font-family:Menlo,'DejaVu Sans Mono',consolas,'Courier New',monospace\"><span style=\"color: #7fbfbf; text-decoration-color: #7fbfbf\">           </span>Case details TINIESHA WEST <span style=\"color: #008080; text-decoration-color: #008080; font-weight: bold\">1995</span> Expired Plates                                          <a href=\"file:///var/folders/v0/wzkm0bb11x1b_27rl_172pdr0000gp/T/ipykernel_78208/2760839720.py\" target=\"_blank\"><span style=\"color: #7f7f7f; text-decoration-color: #7f7f7f\">2760839720.py</span></a><span style=\"color: #7f7f7f; text-decoration-color: #7f7f7f\">:</span><a href=\"file:///var/folders/v0/wzkm0bb11x1b_27rl_172pdr0000gp/T/ipykernel_78208/2760839720.py#55\" target=\"_blank\"><span style=\"color: #7f7f7f; text-decoration-color: #7f7f7f\">55</span></a>\n",
       "</pre>\n"
      ],
      "text/plain": [
       "\u001b[2;36m          \u001b[0m\u001b[2;36m \u001b[0mCase details TINIESHA WEST \u001b[1;36m1995\u001b[0m Expired Plates                                          \u001b]8;id=444634;file:///var/folders/v0/wzkm0bb11x1b_27rl_172pdr0000gp/T/ipykernel_78208/2760839720.py\u001b\\\u001b[2m2760839720.py\u001b[0m\u001b]8;;\u001b\\\u001b[2m:\u001b[0m\u001b]8;id=548660;file:///var/folders/v0/wzkm0bb11x1b_27rl_172pdr0000gp/T/ipykernel_78208/2760839720.py#55\u001b\\\u001b[2m55\u001b[0m\u001b]8;;\u001b\\\n"
      ]
     },
     "metadata": {},
     "output_type": "display_data"
    },
    {
     "data": {
      "text/html": [
       "<pre style=\"white-space:pre;overflow-x:auto;line-height:normal;font-family:Menlo,'DejaVu Sans Mono',consolas,'Courier New',monospace\"><span style=\"color: #7fbfbf; text-decoration-color: #7fbfbf\">           </span>Searching for DONALD CARROLL <span style=\"color: #008080; text-decoration-color: #008080; font-weight: bold\">1961.0</span> KANSAS CITY MO <span style=\"color: #008080; text-decoration-color: #008080; font-weight: bold\">64126</span> <span style=\"color: #008080; text-decoration-color: #008080; font-weight: bold\">1622</span> FREMONT AVE               <a href=\"file:///var/folders/v0/wzkm0bb11x1b_27rl_172pdr0000gp/T/ipykernel_78208/2760839720.py\" target=\"_blank\"><span style=\"color: #7f7f7f; text-decoration-color: #7f7f7f\">2760839720.py</span></a><span style=\"color: #7f7f7f; text-decoration-color: #7f7f7f\">:</span><a href=\"file:///var/folders/v0/wzkm0bb11x1b_27rl_172pdr0000gp/T/ipykernel_78208/2760839720.py#24\" target=\"_blank\"><span style=\"color: #7f7f7f; text-decoration-color: #7f7f7f\">24</span></a>\n",
       "</pre>\n"
      ],
      "text/plain": [
       "\u001b[2;36m          \u001b[0m\u001b[2;36m \u001b[0mSearching for DONALD CARROLL \u001b[1;36m1961.0\u001b[0m KANSAS CITY MO \u001b[1;36m64126\u001b[0m \u001b[1;36m1622\u001b[0m FREMONT AVE               \u001b]8;id=904769;file:///var/folders/v0/wzkm0bb11x1b_27rl_172pdr0000gp/T/ipykernel_78208/2760839720.py\u001b\\\u001b[2m2760839720.py\u001b[0m\u001b]8;;\u001b\\\u001b[2m:\u001b[0m\u001b]8;id=871993;file:///var/folders/v0/wzkm0bb11x1b_27rl_172pdr0000gp/T/ipykernel_78208/2760839720.py#24\u001b\\\u001b[2m24\u001b[0m\u001b]8;;\u001b\\\n"
      ]
     },
     "metadata": {},
     "output_type": "display_data"
    },
    {
     "data": {
      "text/html": [
       "<pre style=\"white-space:pre;overflow-x:auto;line-height:normal;font-family:Menlo,'DejaVu Sans Mono',consolas,'Courier New',monospace\"><span style=\"color: #7fbfbf; text-decoration-color: #7fbfbf\">[14:57:11] </span>Case <span style=\"color: #008080; text-decoration-color: #008080; font-weight: bold\">210897218</span> already exists with status failed                                        <a href=\"file:///var/folders/v0/wzkm0bb11x1b_27rl_172pdr0000gp/T/ipykernel_78208/2760839720.py\" target=\"_blank\"><span style=\"color: #7f7f7f; text-decoration-color: #7f7f7f\">2760839720.py</span></a><span style=\"color: #7f7f7f; text-decoration-color: #7f7f7f\">:</span><a href=\"file:///var/folders/v0/wzkm0bb11x1b_27rl_172pdr0000gp/T/ipykernel_78208/2760839720.py#52\" target=\"_blank\"><span style=\"color: #7f7f7f; text-decoration-color: #7f7f7f\">52</span></a>\n",
       "</pre>\n"
      ],
      "text/plain": [
       "\u001b[2;36m[14:57:11]\u001b[0m\u001b[2;36m \u001b[0mCase \u001b[1;36m210897218\u001b[0m already exists with status failed                                        \u001b]8;id=437783;file:///var/folders/v0/wzkm0bb11x1b_27rl_172pdr0000gp/T/ipykernel_78208/2760839720.py\u001b\\\u001b[2m2760839720.py\u001b[0m\u001b]8;;\u001b\\\u001b[2m:\u001b[0m\u001b]8;id=479271;file:///var/folders/v0/wzkm0bb11x1b_27rl_172pdr0000gp/T/ipykernel_78208/2760839720.py#52\u001b\\\u001b[2m52\u001b[0m\u001b]8;;\u001b\\\n"
      ]
     },
     "metadata": {},
     "output_type": "display_data"
    },
    {
     "data": {
      "text/html": [
       "<pre style=\"white-space:pre;overflow-x:auto;line-height:normal;font-family:Menlo,'DejaVu Sans Mono',consolas,'Courier New',monospace\"><span style=\"color: #7fbfbf; text-decoration-color: #7fbfbf\">           </span>Case details DONALD CARROLL <span style=\"color: #008080; text-decoration-color: #008080; font-weight: bold\">1961</span> Fail To Obey Traffic Control Devices                   <a href=\"file:///var/folders/v0/wzkm0bb11x1b_27rl_172pdr0000gp/T/ipykernel_78208/2760839720.py\" target=\"_blank\"><span style=\"color: #7f7f7f; text-decoration-color: #7f7f7f\">2760839720.py</span></a><span style=\"color: #7f7f7f; text-decoration-color: #7f7f7f\">:</span><a href=\"file:///var/folders/v0/wzkm0bb11x1b_27rl_172pdr0000gp/T/ipykernel_78208/2760839720.py#55\" target=\"_blank\"><span style=\"color: #7f7f7f; text-decoration-color: #7f7f7f\">55</span></a>\n",
       "</pre>\n"
      ],
      "text/plain": [
       "\u001b[2;36m          \u001b[0m\u001b[2;36m \u001b[0mCase details DONALD CARROLL \u001b[1;36m1961\u001b[0m Fail To Obey Traffic Control Devices                   \u001b]8;id=270751;file:///var/folders/v0/wzkm0bb11x1b_27rl_172pdr0000gp/T/ipykernel_78208/2760839720.py\u001b\\\u001b[2m2760839720.py\u001b[0m\u001b]8;;\u001b\\\u001b[2m:\u001b[0m\u001b]8;id=453751;file:///var/folders/v0/wzkm0bb11x1b_27rl_172pdr0000gp/T/ipykernel_78208/2760839720.py#55\u001b\\\u001b[2m55\u001b[0m\u001b]8;;\u001b\\\n"
      ]
     },
     "metadata": {},
     "output_type": "display_data"
    },
    {
     "data": {
      "text/html": [
       "<pre style=\"white-space:pre;overflow-x:auto;line-height:normal;font-family:Menlo,'DejaVu Sans Mono',consolas,'Courier New',monospace\"><span style=\"color: #7fbfbf; text-decoration-color: #7fbfbf\">           </span>Case <span style=\"color: #008080; text-decoration-color: #008080; font-weight: bold\">230426458</span> already exists with status contacted                                     <a href=\"file:///var/folders/v0/wzkm0bb11x1b_27rl_172pdr0000gp/T/ipykernel_78208/2760839720.py\" target=\"_blank\"><span style=\"color: #7f7f7f; text-decoration-color: #7f7f7f\">2760839720.py</span></a><span style=\"color: #7f7f7f; text-decoration-color: #7f7f7f\">:</span><a href=\"file:///var/folders/v0/wzkm0bb11x1b_27rl_172pdr0000gp/T/ipykernel_78208/2760839720.py#52\" target=\"_blank\"><span style=\"color: #7f7f7f; text-decoration-color: #7f7f7f\">52</span></a>\n",
       "</pre>\n"
      ],
      "text/plain": [
       "\u001b[2;36m          \u001b[0m\u001b[2;36m \u001b[0mCase \u001b[1;36m230426458\u001b[0m already exists with status contacted                                     \u001b]8;id=497661;file:///var/folders/v0/wzkm0bb11x1b_27rl_172pdr0000gp/T/ipykernel_78208/2760839720.py\u001b\\\u001b[2m2760839720.py\u001b[0m\u001b]8;;\u001b\\\u001b[2m:\u001b[0m\u001b]8;id=686841;file:///var/folders/v0/wzkm0bb11x1b_27rl_172pdr0000gp/T/ipykernel_78208/2760839720.py#52\u001b\\\u001b[2m52\u001b[0m\u001b]8;;\u001b\\\n"
      ]
     },
     "metadata": {},
     "output_type": "display_data"
    },
    {
     "data": {
      "text/html": [
       "<pre style=\"white-space:pre;overflow-x:auto;line-height:normal;font-family:Menlo,'DejaVu Sans Mono',consolas,'Courier New',monospace\"><span style=\"color: #7fbfbf; text-decoration-color: #7fbfbf\">           </span>Case details DONALD CARROLL <span style=\"color: #008080; text-decoration-color: #008080; font-weight: bold\">1961</span> Exceeded Posted Speed Limit <span style=\"font-weight: bold\">(</span><span style=\"color: #008080; text-decoration-color: #008080; font-weight: bold\">11</span>-<span style=\"color: #008080; text-decoration-color: #008080; font-weight: bold\">15</span> Mph Over<span style=\"font-weight: bold\">)</span>           <a href=\"file:///var/folders/v0/wzkm0bb11x1b_27rl_172pdr0000gp/T/ipykernel_78208/2760839720.py\" target=\"_blank\"><span style=\"color: #7f7f7f; text-decoration-color: #7f7f7f\">2760839720.py</span></a><span style=\"color: #7f7f7f; text-decoration-color: #7f7f7f\">:</span><a href=\"file:///var/folders/v0/wzkm0bb11x1b_27rl_172pdr0000gp/T/ipykernel_78208/2760839720.py#55\" target=\"_blank\"><span style=\"color: #7f7f7f; text-decoration-color: #7f7f7f\">55</span></a>\n",
       "</pre>\n"
      ],
      "text/plain": [
       "\u001b[2;36m          \u001b[0m\u001b[2;36m \u001b[0mCase details DONALD CARROLL \u001b[1;36m1961\u001b[0m Exceeded Posted Speed Limit \u001b[1m(\u001b[0m\u001b[1;36m11\u001b[0m-\u001b[1;36m15\u001b[0m Mph Over\u001b[1m)\u001b[0m           \u001b]8;id=244056;file:///var/folders/v0/wzkm0bb11x1b_27rl_172pdr0000gp/T/ipykernel_78208/2760839720.py\u001b\\\u001b[2m2760839720.py\u001b[0m\u001b]8;;\u001b\\\u001b[2m:\u001b[0m\u001b]8;id=954760;file:///var/folders/v0/wzkm0bb11x1b_27rl_172pdr0000gp/T/ipykernel_78208/2760839720.py#55\u001b\\\u001b[2m55\u001b[0m\u001b]8;;\u001b\\\n"
      ]
     },
     "metadata": {},
     "output_type": "display_data"
    },
    {
     "data": {
      "text/html": [
       "<pre style=\"white-space:pre;overflow-x:auto;line-height:normal;font-family:Menlo,'DejaVu Sans Mono',consolas,'Courier New',monospace\"><span style=\"color: #7fbfbf; text-decoration-color: #7fbfbf\">[14:57:12] </span>Searching for GARRY VANVELSAN <span style=\"color: #008080; text-decoration-color: #008080; font-weight: bold\">1962.0</span> WARSAW MO <span style=\"color: #008080; text-decoration-color: #008080; font-weight: bold\">65355</span> <span style=\"color: #008080; text-decoration-color: #008080; font-weight: bold\">32987</span> HIGHWAY MM LOT <span style=\"color: #008080; text-decoration-color: #008080; font-weight: bold\">5</span>             <a href=\"file:///var/folders/v0/wzkm0bb11x1b_27rl_172pdr0000gp/T/ipykernel_78208/2760839720.py\" target=\"_blank\"><span style=\"color: #7f7f7f; text-decoration-color: #7f7f7f\">2760839720.py</span></a><span style=\"color: #7f7f7f; text-decoration-color: #7f7f7f\">:</span><a href=\"file:///var/folders/v0/wzkm0bb11x1b_27rl_172pdr0000gp/T/ipykernel_78208/2760839720.py#24\" target=\"_blank\"><span style=\"color: #7f7f7f; text-decoration-color: #7f7f7f\">24</span></a>\n",
       "</pre>\n"
      ],
      "text/plain": [
       "\u001b[2;36m[14:57:12]\u001b[0m\u001b[2;36m \u001b[0mSearching for GARRY VANVELSAN \u001b[1;36m1962.0\u001b[0m WARSAW MO \u001b[1;36m65355\u001b[0m \u001b[1;36m32987\u001b[0m HIGHWAY MM LOT \u001b[1;36m5\u001b[0m             \u001b]8;id=966126;file:///var/folders/v0/wzkm0bb11x1b_27rl_172pdr0000gp/T/ipykernel_78208/2760839720.py\u001b\\\u001b[2m2760839720.py\u001b[0m\u001b]8;;\u001b\\\u001b[2m:\u001b[0m\u001b]8;id=410588;file:///var/folders/v0/wzkm0bb11x1b_27rl_172pdr0000gp/T/ipykernel_78208/2760839720.py#24\u001b\\\u001b[2m24\u001b[0m\u001b]8;;\u001b\\\n"
      ]
     },
     "metadata": {},
     "output_type": "display_data"
    },
    {
     "data": {
      "text/html": [
       "<pre style=\"white-space:pre;overflow-x:auto;line-height:normal;font-family:Menlo,'DejaVu Sans Mono',consolas,'Courier New',monospace\"><span style=\"color: #7fbfbf; text-decoration-color: #7fbfbf\">[14:57:13] </span>Case <span style=\"color: #008080; text-decoration-color: #008080; font-weight: bold\">704323632</span> already exists with status won                                           <a href=\"file:///var/folders/v0/wzkm0bb11x1b_27rl_172pdr0000gp/T/ipykernel_78208/2760839720.py\" target=\"_blank\"><span style=\"color: #7f7f7f; text-decoration-color: #7f7f7f\">2760839720.py</span></a><span style=\"color: #7f7f7f; text-decoration-color: #7f7f7f\">:</span><a href=\"file:///var/folders/v0/wzkm0bb11x1b_27rl_172pdr0000gp/T/ipykernel_78208/2760839720.py#52\" target=\"_blank\"><span style=\"color: #7f7f7f; text-decoration-color: #7f7f7f\">52</span></a>\n",
       "</pre>\n"
      ],
      "text/plain": [
       "\u001b[2;36m[14:57:13]\u001b[0m\u001b[2;36m \u001b[0mCase \u001b[1;36m704323632\u001b[0m already exists with status won                                           \u001b]8;id=321525;file:///var/folders/v0/wzkm0bb11x1b_27rl_172pdr0000gp/T/ipykernel_78208/2760839720.py\u001b\\\u001b[2m2760839720.py\u001b[0m\u001b]8;;\u001b\\\u001b[2m:\u001b[0m\u001b]8;id=104447;file:///var/folders/v0/wzkm0bb11x1b_27rl_172pdr0000gp/T/ipykernel_78208/2760839720.py#52\u001b\\\u001b[2m52\u001b[0m\u001b]8;;\u001b\\\n"
      ]
     },
     "metadata": {},
     "output_type": "display_data"
    },
    {
     "data": {
      "text/html": [
       "<pre style=\"white-space:pre;overflow-x:auto;line-height:normal;font-family:Menlo,'DejaVu Sans Mono',consolas,'Courier New',monospace\"><span style=\"color: #7fbfbf; text-decoration-color: #7fbfbf\">           </span>Case details GARRY VANVELSAN <span style=\"color: #008080; text-decoration-color: #008080; font-weight: bold\">1962</span> Exceeded Posted Speed Limit <span style=\"font-weight: bold\">(</span>Exceeded By <span style=\"color: #008080; text-decoration-color: #008080; font-weight: bold\">26</span>  Mph Or   <a href=\"file:///var/folders/v0/wzkm0bb11x1b_27rl_172pdr0000gp/T/ipykernel_78208/2760839720.py\" target=\"_blank\"><span style=\"color: #7f7f7f; text-decoration-color: #7f7f7f\">2760839720.py</span></a><span style=\"color: #7f7f7f; text-decoration-color: #7f7f7f\">:</span><a href=\"file:///var/folders/v0/wzkm0bb11x1b_27rl_172pdr0000gp/T/ipykernel_78208/2760839720.py#55\" target=\"_blank\"><span style=\"color: #7f7f7f; text-decoration-color: #7f7f7f\">55</span></a>\n",
       "<span style=\"color: #7fbfbf; text-decoration-color: #7fbfbf\">           </span>More<span style=\"font-weight: bold\">)</span>                                                                                   <span style=\"color: #7f7f7f; text-decoration-color: #7f7f7f\">                </span>\n",
       "</pre>\n"
      ],
      "text/plain": [
       "\u001b[2;36m          \u001b[0m\u001b[2;36m \u001b[0mCase details GARRY VANVELSAN \u001b[1;36m1962\u001b[0m Exceeded Posted Speed Limit \u001b[1m(\u001b[0mExceeded By \u001b[1;36m26\u001b[0m  Mph Or   \u001b]8;id=494554;file:///var/folders/v0/wzkm0bb11x1b_27rl_172pdr0000gp/T/ipykernel_78208/2760839720.py\u001b\\\u001b[2m2760839720.py\u001b[0m\u001b]8;;\u001b\\\u001b[2m:\u001b[0m\u001b]8;id=968271;file:///var/folders/v0/wzkm0bb11x1b_27rl_172pdr0000gp/T/ipykernel_78208/2760839720.py#55\u001b\\\u001b[2m55\u001b[0m\u001b]8;;\u001b\\\n",
       "\u001b[2;36m           \u001b[0mMore\u001b[1m)\u001b[0m                                                                                   \u001b[2m                \u001b[0m\n"
      ]
     },
     "metadata": {},
     "output_type": "display_data"
    },
    {
     "data": {
      "text/html": [
       "<pre style=\"white-space:pre;overflow-x:auto;line-height:normal;font-family:Menlo,'DejaVu Sans Mono',consolas,'Courier New',monospace\"><span style=\"color: #7fbfbf; text-decoration-color: #7fbfbf\">           </span>Case <span style=\"color: #008080; text-decoration-color: #008080; font-weight: bold\">704344978</span> already exists with status contacted                                     <a href=\"file:///var/folders/v0/wzkm0bb11x1b_27rl_172pdr0000gp/T/ipykernel_78208/2760839720.py\" target=\"_blank\"><span style=\"color: #7f7f7f; text-decoration-color: #7f7f7f\">2760839720.py</span></a><span style=\"color: #7f7f7f; text-decoration-color: #7f7f7f\">:</span><a href=\"file:///var/folders/v0/wzkm0bb11x1b_27rl_172pdr0000gp/T/ipykernel_78208/2760839720.py#52\" target=\"_blank\"><span style=\"color: #7f7f7f; text-decoration-color: #7f7f7f\">52</span></a>\n",
       "</pre>\n"
      ],
      "text/plain": [
       "\u001b[2;36m          \u001b[0m\u001b[2;36m \u001b[0mCase \u001b[1;36m704344978\u001b[0m already exists with status contacted                                     \u001b]8;id=537989;file:///var/folders/v0/wzkm0bb11x1b_27rl_172pdr0000gp/T/ipykernel_78208/2760839720.py\u001b\\\u001b[2m2760839720.py\u001b[0m\u001b]8;;\u001b\\\u001b[2m:\u001b[0m\u001b]8;id=560220;file:///var/folders/v0/wzkm0bb11x1b_27rl_172pdr0000gp/T/ipykernel_78208/2760839720.py#52\u001b\\\u001b[2m52\u001b[0m\u001b]8;;\u001b\\\n"
      ]
     },
     "metadata": {},
     "output_type": "display_data"
    },
    {
     "data": {
      "text/html": [
       "<pre style=\"white-space:pre;overflow-x:auto;line-height:normal;font-family:Menlo,'DejaVu Sans Mono',consolas,'Courier New',monospace\"><span style=\"color: #7fbfbf; text-decoration-color: #7fbfbf\">           </span>Case details GARRY VANVELSAN <span style=\"color: #008080; text-decoration-color: #008080; font-weight: bold\">1962</span> Exceeded Posted Speed Limit <span style=\"font-weight: bold\">(</span>Exceeded By <span style=\"color: #008080; text-decoration-color: #008080; font-weight: bold\">20</span> - <span style=\"color: #008080; text-decoration-color: #008080; font-weight: bold\">25</span>      <a href=\"file:///var/folders/v0/wzkm0bb11x1b_27rl_172pdr0000gp/T/ipykernel_78208/2760839720.py\" target=\"_blank\"><span style=\"color: #7f7f7f; text-decoration-color: #7f7f7f\">2760839720.py</span></a><span style=\"color: #7f7f7f; text-decoration-color: #7f7f7f\">:</span><a href=\"file:///var/folders/v0/wzkm0bb11x1b_27rl_172pdr0000gp/T/ipykernel_78208/2760839720.py#55\" target=\"_blank\"><span style=\"color: #7f7f7f; text-decoration-color: #7f7f7f\">55</span></a>\n",
       "<span style=\"color: #7fbfbf; text-decoration-color: #7fbfbf\">           </span>Mph<span style=\"font-weight: bold\">)</span>                                                                                    <span style=\"color: #7f7f7f; text-decoration-color: #7f7f7f\">                </span>\n",
       "</pre>\n"
      ],
      "text/plain": [
       "\u001b[2;36m          \u001b[0m\u001b[2;36m \u001b[0mCase details GARRY VANVELSAN \u001b[1;36m1962\u001b[0m Exceeded Posted Speed Limit \u001b[1m(\u001b[0mExceeded By \u001b[1;36m20\u001b[0m - \u001b[1;36m25\u001b[0m      \u001b]8;id=341853;file:///var/folders/v0/wzkm0bb11x1b_27rl_172pdr0000gp/T/ipykernel_78208/2760839720.py\u001b\\\u001b[2m2760839720.py\u001b[0m\u001b]8;;\u001b\\\u001b[2m:\u001b[0m\u001b]8;id=518343;file:///var/folders/v0/wzkm0bb11x1b_27rl_172pdr0000gp/T/ipykernel_78208/2760839720.py#55\u001b\\\u001b[2m55\u001b[0m\u001b]8;;\u001b\\\n",
       "\u001b[2;36m           \u001b[0mMph\u001b[1m)\u001b[0m                                                                                    \u001b[2m                \u001b[0m\n"
      ]
     },
     "metadata": {},
     "output_type": "display_data"
    },
    {
     "data": {
      "text/html": [
       "<pre style=\"white-space:pre;overflow-x:auto;line-height:normal;font-family:Menlo,'DejaVu Sans Mono',consolas,'Courier New',monospace\"><span style=\"color: #7fbfbf; text-decoration-color: #7fbfbf\">           </span>Searching for WESLEY OSBORN <span style=\"color: #008080; text-decoration-color: #008080; font-weight: bold\">1974.0</span> KANSAS CITY MO <span style=\"color: #008080; text-decoration-color: #008080; font-weight: bold\">64119</span> <span style=\"color: #008080; text-decoration-color: #008080; font-weight: bold\">5820</span> N COLORADO AVE             <a href=\"file:///var/folders/v0/wzkm0bb11x1b_27rl_172pdr0000gp/T/ipykernel_78208/2760839720.py\" target=\"_blank\"><span style=\"color: #7f7f7f; text-decoration-color: #7f7f7f\">2760839720.py</span></a><span style=\"color: #7f7f7f; text-decoration-color: #7f7f7f\">:</span><a href=\"file:///var/folders/v0/wzkm0bb11x1b_27rl_172pdr0000gp/T/ipykernel_78208/2760839720.py#24\" target=\"_blank\"><span style=\"color: #7f7f7f; text-decoration-color: #7f7f7f\">24</span></a>\n",
       "</pre>\n"
      ],
      "text/plain": [
       "\u001b[2;36m          \u001b[0m\u001b[2;36m \u001b[0mSearching for WESLEY OSBORN \u001b[1;36m1974.0\u001b[0m KANSAS CITY MO \u001b[1;36m64119\u001b[0m \u001b[1;36m5820\u001b[0m N COLORADO AVE             \u001b]8;id=251377;file:///var/folders/v0/wzkm0bb11x1b_27rl_172pdr0000gp/T/ipykernel_78208/2760839720.py\u001b\\\u001b[2m2760839720.py\u001b[0m\u001b]8;;\u001b\\\u001b[2m:\u001b[0m\u001b]8;id=247509;file:///var/folders/v0/wzkm0bb11x1b_27rl_172pdr0000gp/T/ipykernel_78208/2760839720.py#24\u001b\\\u001b[2m24\u001b[0m\u001b]8;;\u001b\\\n"
      ]
     },
     "metadata": {},
     "output_type": "display_data"
    },
    {
     "data": {
      "text/html": [
       "<pre style=\"white-space:pre;overflow-x:auto;line-height:normal;font-family:Menlo,'DejaVu Sans Mono',consolas,'Courier New',monospace\"><span style=\"color: #7fbfbf; text-decoration-color: #7fbfbf\">[14:57:14] </span>Case <span style=\"color: #008080; text-decoration-color: #008080; font-weight: bold\">230929154</span> already exists with status contacted                                     <a href=\"file:///var/folders/v0/wzkm0bb11x1b_27rl_172pdr0000gp/T/ipykernel_78208/2760839720.py\" target=\"_blank\"><span style=\"color: #7f7f7f; text-decoration-color: #7f7f7f\">2760839720.py</span></a><span style=\"color: #7f7f7f; text-decoration-color: #7f7f7f\">:</span><a href=\"file:///var/folders/v0/wzkm0bb11x1b_27rl_172pdr0000gp/T/ipykernel_78208/2760839720.py#52\" target=\"_blank\"><span style=\"color: #7f7f7f; text-decoration-color: #7f7f7f\">52</span></a>\n",
       "</pre>\n"
      ],
      "text/plain": [
       "\u001b[2;36m[14:57:14]\u001b[0m\u001b[2;36m \u001b[0mCase \u001b[1;36m230929154\u001b[0m already exists with status contacted                                     \u001b]8;id=625293;file:///var/folders/v0/wzkm0bb11x1b_27rl_172pdr0000gp/T/ipykernel_78208/2760839720.py\u001b\\\u001b[2m2760839720.py\u001b[0m\u001b]8;;\u001b\\\u001b[2m:\u001b[0m\u001b]8;id=412242;file:///var/folders/v0/wzkm0bb11x1b_27rl_172pdr0000gp/T/ipykernel_78208/2760839720.py#52\u001b\\\u001b[2m52\u001b[0m\u001b]8;;\u001b\\\n"
      ]
     },
     "metadata": {},
     "output_type": "display_data"
    },
    {
     "data": {
      "text/html": [
       "<pre style=\"white-space:pre;overflow-x:auto;line-height:normal;font-family:Menlo,'DejaVu Sans Mono',consolas,'Courier New',monospace\"><span style=\"color: #7fbfbf; text-decoration-color: #7fbfbf\">           </span>Case details WESLEY OSBORN <span style=\"color: #008080; text-decoration-color: #008080; font-weight: bold\">1974</span> Fail To Stop At Stop Sign At Stop Line/Before           <a href=\"file:///var/folders/v0/wzkm0bb11x1b_27rl_172pdr0000gp/T/ipykernel_78208/2760839720.py\" target=\"_blank\"><span style=\"color: #7f7f7f; text-decoration-color: #7f7f7f\">2760839720.py</span></a><span style=\"color: #7f7f7f; text-decoration-color: #7f7f7f\">:</span><a href=\"file:///var/folders/v0/wzkm0bb11x1b_27rl_172pdr0000gp/T/ipykernel_78208/2760839720.py#55\" target=\"_blank\"><span style=\"color: #7f7f7f; text-decoration-color: #7f7f7f\">55</span></a>\n",
       "<span style=\"color: #7fbfbf; text-decoration-color: #7fbfbf\">           </span>Crosswalk/Point Nearest Intersection                                                    <span style=\"color: #7f7f7f; text-decoration-color: #7f7f7f\">                </span>\n",
       "</pre>\n"
      ],
      "text/plain": [
       "\u001b[2;36m          \u001b[0m\u001b[2;36m \u001b[0mCase details WESLEY OSBORN \u001b[1;36m1974\u001b[0m Fail To Stop At Stop Sign At Stop Line/Before           \u001b]8;id=898354;file:///var/folders/v0/wzkm0bb11x1b_27rl_172pdr0000gp/T/ipykernel_78208/2760839720.py\u001b\\\u001b[2m2760839720.py\u001b[0m\u001b]8;;\u001b\\\u001b[2m:\u001b[0m\u001b]8;id=502272;file:///var/folders/v0/wzkm0bb11x1b_27rl_172pdr0000gp/T/ipykernel_78208/2760839720.py#55\u001b\\\u001b[2m55\u001b[0m\u001b]8;;\u001b\\\n",
       "\u001b[2;36m           \u001b[0mCrosswalk/Point Nearest Intersection                                                    \u001b[2m                \u001b[0m\n"
      ]
     },
     "metadata": {},
     "output_type": "display_data"
    },
    {
     "data": {
      "text/html": [
       "<pre style=\"white-space:pre;overflow-x:auto;line-height:normal;font-family:Menlo,'DejaVu Sans Mono',consolas,'Courier New',monospace\"><span style=\"color: #7fbfbf; text-decoration-color: #7fbfbf\">           </span>Case <span style=\"color: #008080; text-decoration-color: #008080; font-weight: bold\">704365587</span> already exists with status contacted                                     <a href=\"file:///var/folders/v0/wzkm0bb11x1b_27rl_172pdr0000gp/T/ipykernel_78208/2760839720.py\" target=\"_blank\"><span style=\"color: #7f7f7f; text-decoration-color: #7f7f7f\">2760839720.py</span></a><span style=\"color: #7f7f7f; text-decoration-color: #7f7f7f\">:</span><a href=\"file:///var/folders/v0/wzkm0bb11x1b_27rl_172pdr0000gp/T/ipykernel_78208/2760839720.py#52\" target=\"_blank\"><span style=\"color: #7f7f7f; text-decoration-color: #7f7f7f\">52</span></a>\n",
       "</pre>\n"
      ],
      "text/plain": [
       "\u001b[2;36m          \u001b[0m\u001b[2;36m \u001b[0mCase \u001b[1;36m704365587\u001b[0m already exists with status contacted                                     \u001b]8;id=222768;file:///var/folders/v0/wzkm0bb11x1b_27rl_172pdr0000gp/T/ipykernel_78208/2760839720.py\u001b\\\u001b[2m2760839720.py\u001b[0m\u001b]8;;\u001b\\\u001b[2m:\u001b[0m\u001b]8;id=999633;file:///var/folders/v0/wzkm0bb11x1b_27rl_172pdr0000gp/T/ipykernel_78208/2760839720.py#52\u001b\\\u001b[2m52\u001b[0m\u001b]8;;\u001b\\\n"
      ]
     },
     "metadata": {},
     "output_type": "display_data"
    },
    {
     "data": {
      "text/html": [
       "<pre style=\"white-space:pre;overflow-x:auto;line-height:normal;font-family:Menlo,'DejaVu Sans Mono',consolas,'Courier New',monospace\"><span style=\"color: #7fbfbf; text-decoration-color: #7fbfbf\">           </span>Case details WESLEY OSBORN <span style=\"color: #008080; text-decoration-color: #008080; font-weight: bold\">1974</span> Exceeded Posted Speed Limit <span style=\"font-weight: bold\">(</span>Exceeded By <span style=\"color: #008080; text-decoration-color: #008080; font-weight: bold\">20</span> - <span style=\"color: #008080; text-decoration-color: #008080; font-weight: bold\">25</span>  Mph<span style=\"font-weight: bold\">)</span>  <a href=\"file:///var/folders/v0/wzkm0bb11x1b_27rl_172pdr0000gp/T/ipykernel_78208/2760839720.py\" target=\"_blank\"><span style=\"color: #7f7f7f; text-decoration-color: #7f7f7f\">2760839720.py</span></a><span style=\"color: #7f7f7f; text-decoration-color: #7f7f7f\">:</span><a href=\"file:///var/folders/v0/wzkm0bb11x1b_27rl_172pdr0000gp/T/ipykernel_78208/2760839720.py#55\" target=\"_blank\"><span style=\"color: #7f7f7f; text-decoration-color: #7f7f7f\">55</span></a>\n",
       "</pre>\n"
      ],
      "text/plain": [
       "\u001b[2;36m          \u001b[0m\u001b[2;36m \u001b[0mCase details WESLEY OSBORN \u001b[1;36m1974\u001b[0m Exceeded Posted Speed Limit \u001b[1m(\u001b[0mExceeded By \u001b[1;36m20\u001b[0m - \u001b[1;36m25\u001b[0m  Mph\u001b[1m)\u001b[0m  \u001b]8;id=954008;file:///var/folders/v0/wzkm0bb11x1b_27rl_172pdr0000gp/T/ipykernel_78208/2760839720.py\u001b\\\u001b[2m2760839720.py\u001b[0m\u001b]8;;\u001b\\\u001b[2m:\u001b[0m\u001b]8;id=211576;file:///var/folders/v0/wzkm0bb11x1b_27rl_172pdr0000gp/T/ipykernel_78208/2760839720.py#55\u001b\\\u001b[2m55\u001b[0m\u001b]8;;\u001b\\\n"
      ]
     },
     "metadata": {},
     "output_type": "display_data"
    },
    {
     "data": {
      "text/html": [
       "<pre style=\"white-space:pre;overflow-x:auto;line-height:normal;font-family:Menlo,'DejaVu Sans Mono',consolas,'Courier New',monospace\"><span style=\"color: #7fbfbf; text-decoration-color: #7fbfbf\">[14:57:15] </span>Searching for DERRICO WHITFIELD <span style=\"color: #008080; text-decoration-color: #008080; font-weight: bold\">1977.0</span> WENTZVILLE MO <span style=\"color: #008080; text-decoration-color: #008080; font-weight: bold\">63385</span> <span style=\"color: #008080; text-decoration-color: #008080; font-weight: bold\">408</span> WIND CREEK DR            <a href=\"file:///var/folders/v0/wzkm0bb11x1b_27rl_172pdr0000gp/T/ipykernel_78208/2760839720.py\" target=\"_blank\"><span style=\"color: #7f7f7f; text-decoration-color: #7f7f7f\">2760839720.py</span></a><span style=\"color: #7f7f7f; text-decoration-color: #7f7f7f\">:</span><a href=\"file:///var/folders/v0/wzkm0bb11x1b_27rl_172pdr0000gp/T/ipykernel_78208/2760839720.py#24\" target=\"_blank\"><span style=\"color: #7f7f7f; text-decoration-color: #7f7f7f\">24</span></a>\n",
       "</pre>\n"
      ],
      "text/plain": [
       "\u001b[2;36m[14:57:15]\u001b[0m\u001b[2;36m \u001b[0mSearching for DERRICO WHITFIELD \u001b[1;36m1977.0\u001b[0m WENTZVILLE MO \u001b[1;36m63385\u001b[0m \u001b[1;36m408\u001b[0m WIND CREEK DR            \u001b]8;id=345805;file:///var/folders/v0/wzkm0bb11x1b_27rl_172pdr0000gp/T/ipykernel_78208/2760839720.py\u001b\\\u001b[2m2760839720.py\u001b[0m\u001b]8;;\u001b\\\u001b[2m:\u001b[0m\u001b]8;id=310839;file:///var/folders/v0/wzkm0bb11x1b_27rl_172pdr0000gp/T/ipykernel_78208/2760839720.py#24\u001b\\\u001b[2m24\u001b[0m\u001b]8;;\u001b\\\n"
      ]
     },
     "metadata": {},
     "output_type": "display_data"
    },
    {
     "data": {
      "text/html": [
       "<pre style=\"white-space:pre;overflow-x:auto;line-height:normal;font-family:Menlo,'DejaVu Sans Mono',consolas,'Courier New',monospace\"><span style=\"color: #7fbfbf; text-decoration-color: #7fbfbf\">[14:57:16] </span>Case <span style=\"color: #008080; text-decoration-color: #008080; font-weight: bold\">240074744</span> already exists with status contacted                                     <a href=\"file:///var/folders/v0/wzkm0bb11x1b_27rl_172pdr0000gp/T/ipykernel_78208/2760839720.py\" target=\"_blank\"><span style=\"color: #7f7f7f; text-decoration-color: #7f7f7f\">2760839720.py</span></a><span style=\"color: #7f7f7f; text-decoration-color: #7f7f7f\">:</span><a href=\"file:///var/folders/v0/wzkm0bb11x1b_27rl_172pdr0000gp/T/ipykernel_78208/2760839720.py#52\" target=\"_blank\"><span style=\"color: #7f7f7f; text-decoration-color: #7f7f7f\">52</span></a>\n",
       "</pre>\n"
      ],
      "text/plain": [
       "\u001b[2;36m[14:57:16]\u001b[0m\u001b[2;36m \u001b[0mCase \u001b[1;36m240074744\u001b[0m already exists with status contacted                                     \u001b]8;id=31792;file:///var/folders/v0/wzkm0bb11x1b_27rl_172pdr0000gp/T/ipykernel_78208/2760839720.py\u001b\\\u001b[2m2760839720.py\u001b[0m\u001b]8;;\u001b\\\u001b[2m:\u001b[0m\u001b]8;id=483495;file:///var/folders/v0/wzkm0bb11x1b_27rl_172pdr0000gp/T/ipykernel_78208/2760839720.py#52\u001b\\\u001b[2m52\u001b[0m\u001b]8;;\u001b\\\n"
      ]
     },
     "metadata": {},
     "output_type": "display_data"
    },
    {
     "data": {
      "text/html": [
       "<pre style=\"white-space:pre;overflow-x:auto;line-height:normal;font-family:Menlo,'DejaVu Sans Mono',consolas,'Courier New',monospace\"><span style=\"color: #7fbfbf; text-decoration-color: #7fbfbf\">           </span>Case details DERRICO WHITFIELD <span style=\"color: #008080; text-decoration-color: #008080; font-weight: bold\">1977</span> Exceeded Posted Speed Limit <span style=\"font-weight: bold\">(</span><span style=\"color: #008080; text-decoration-color: #008080; font-weight: bold\">20</span>-<span style=\"color: #008080; text-decoration-color: #008080; font-weight: bold\">25</span> Mph Over<span style=\"font-weight: bold\">)</span>        <a href=\"file:///var/folders/v0/wzkm0bb11x1b_27rl_172pdr0000gp/T/ipykernel_78208/2760839720.py\" target=\"_blank\"><span style=\"color: #7f7f7f; text-decoration-color: #7f7f7f\">2760839720.py</span></a><span style=\"color: #7f7f7f; text-decoration-color: #7f7f7f\">:</span><a href=\"file:///var/folders/v0/wzkm0bb11x1b_27rl_172pdr0000gp/T/ipykernel_78208/2760839720.py#55\" target=\"_blank\"><span style=\"color: #7f7f7f; text-decoration-color: #7f7f7f\">55</span></a>\n",
       "</pre>\n"
      ],
      "text/plain": [
       "\u001b[2;36m          \u001b[0m\u001b[2;36m \u001b[0mCase details DERRICO WHITFIELD \u001b[1;36m1977\u001b[0m Exceeded Posted Speed Limit \u001b[1m(\u001b[0m\u001b[1;36m20\u001b[0m-\u001b[1;36m25\u001b[0m Mph Over\u001b[1m)\u001b[0m        \u001b]8;id=317861;file:///var/folders/v0/wzkm0bb11x1b_27rl_172pdr0000gp/T/ipykernel_78208/2760839720.py\u001b\\\u001b[2m2760839720.py\u001b[0m\u001b]8;;\u001b\\\u001b[2m:\u001b[0m\u001b]8;id=728054;file:///var/folders/v0/wzkm0bb11x1b_27rl_172pdr0000gp/T/ipykernel_78208/2760839720.py#55\u001b\\\u001b[2m55\u001b[0m\u001b]8;;\u001b\\\n"
      ]
     },
     "metadata": {},
     "output_type": "display_data"
    },
    {
     "data": {
      "text/html": [
       "<pre style=\"white-space:pre;overflow-x:auto;line-height:normal;font-family:Menlo,'DejaVu Sans Mono',consolas,'Courier New',monospace\"><span style=\"color: #7fbfbf; text-decoration-color: #7fbfbf\">           </span>Searching for BLAKE BIRKENMEIER <span style=\"color: #008080; text-decoration-color: #008080; font-weight: bold\">1988.0</span> ST LOUIS MO <span style=\"color: #008080; text-decoration-color: #008080; font-weight: bold\">63125</span> <span style=\"color: #008080; text-decoration-color: #008080; font-weight: bold\">4309</span> SUNRIDGE DR APT M         <a href=\"file:///var/folders/v0/wzkm0bb11x1b_27rl_172pdr0000gp/T/ipykernel_78208/2760839720.py\" target=\"_blank\"><span style=\"color: #7f7f7f; text-decoration-color: #7f7f7f\">2760839720.py</span></a><span style=\"color: #7f7f7f; text-decoration-color: #7f7f7f\">:</span><a href=\"file:///var/folders/v0/wzkm0bb11x1b_27rl_172pdr0000gp/T/ipykernel_78208/2760839720.py#24\" target=\"_blank\"><span style=\"color: #7f7f7f; text-decoration-color: #7f7f7f\">24</span></a>\n",
       "</pre>\n"
      ],
      "text/plain": [
       "\u001b[2;36m          \u001b[0m\u001b[2;36m \u001b[0mSearching for BLAKE BIRKENMEIER \u001b[1;36m1988.0\u001b[0m ST LOUIS MO \u001b[1;36m63125\u001b[0m \u001b[1;36m4309\u001b[0m SUNRIDGE DR APT M         \u001b]8;id=963166;file:///var/folders/v0/wzkm0bb11x1b_27rl_172pdr0000gp/T/ipykernel_78208/2760839720.py\u001b\\\u001b[2m2760839720.py\u001b[0m\u001b]8;;\u001b\\\u001b[2m:\u001b[0m\u001b]8;id=218941;file:///var/folders/v0/wzkm0bb11x1b_27rl_172pdr0000gp/T/ipykernel_78208/2760839720.py#24\u001b\\\u001b[2m24\u001b[0m\u001b]8;;\u001b\\\n"
      ]
     },
     "metadata": {},
     "output_type": "display_data"
    },
    {
     "data": {
      "text/html": [
       "<pre style=\"white-space:pre;overflow-x:auto;line-height:normal;font-family:Menlo,'DejaVu Sans Mono',consolas,'Courier New',monospace\"><span style=\"color: #7fbfbf; text-decoration-color: #7fbfbf\">[14:57:17] </span>Case <span style=\"color: #008080; text-decoration-color: #008080; font-weight: bold\">220473840</span> already exists with status closed                                        <a href=\"file:///var/folders/v0/wzkm0bb11x1b_27rl_172pdr0000gp/T/ipykernel_78208/2760839720.py\" target=\"_blank\"><span style=\"color: #7f7f7f; text-decoration-color: #7f7f7f\">2760839720.py</span></a><span style=\"color: #7f7f7f; text-decoration-color: #7f7f7f\">:</span><a href=\"file:///var/folders/v0/wzkm0bb11x1b_27rl_172pdr0000gp/T/ipykernel_78208/2760839720.py#52\" target=\"_blank\"><span style=\"color: #7f7f7f; text-decoration-color: #7f7f7f\">52</span></a>\n",
       "</pre>\n"
      ],
      "text/plain": [
       "\u001b[2;36m[14:57:17]\u001b[0m\u001b[2;36m \u001b[0mCase \u001b[1;36m220473840\u001b[0m already exists with status closed                                        \u001b]8;id=549078;file:///var/folders/v0/wzkm0bb11x1b_27rl_172pdr0000gp/T/ipykernel_78208/2760839720.py\u001b\\\u001b[2m2760839720.py\u001b[0m\u001b]8;;\u001b\\\u001b[2m:\u001b[0m\u001b]8;id=983856;file:///var/folders/v0/wzkm0bb11x1b_27rl_172pdr0000gp/T/ipykernel_78208/2760839720.py#52\u001b\\\u001b[2m52\u001b[0m\u001b]8;;\u001b\\\n"
      ]
     },
     "metadata": {},
     "output_type": "display_data"
    },
    {
     "data": {
      "text/html": [
       "<pre style=\"white-space:pre;overflow-x:auto;line-height:normal;font-family:Menlo,'DejaVu Sans Mono',consolas,'Courier New',monospace\"><span style=\"color: #7fbfbf; text-decoration-color: #7fbfbf\">           </span>Case details BLAKE BIRKENMEIER <span style=\"color: #008080; text-decoration-color: #008080; font-weight: bold\">1988</span> Speeding <span style=\"font-weight: bold\">(</span><span style=\"color: #008080; text-decoration-color: #008080; font-weight: bold\">26</span>-<span style=\"color: #008080; text-decoration-color: #008080; font-weight: bold\">30</span> Mph Over<span style=\"font-weight: bold\">)</span>                           <a href=\"file:///var/folders/v0/wzkm0bb11x1b_27rl_172pdr0000gp/T/ipykernel_78208/2760839720.py\" target=\"_blank\"><span style=\"color: #7f7f7f; text-decoration-color: #7f7f7f\">2760839720.py</span></a><span style=\"color: #7f7f7f; text-decoration-color: #7f7f7f\">:</span><a href=\"file:///var/folders/v0/wzkm0bb11x1b_27rl_172pdr0000gp/T/ipykernel_78208/2760839720.py#55\" target=\"_blank\"><span style=\"color: #7f7f7f; text-decoration-color: #7f7f7f\">55</span></a>\n",
       "</pre>\n"
      ],
      "text/plain": [
       "\u001b[2;36m          \u001b[0m\u001b[2;36m \u001b[0mCase details BLAKE BIRKENMEIER \u001b[1;36m1988\u001b[0m Speeding \u001b[1m(\u001b[0m\u001b[1;36m26\u001b[0m-\u001b[1;36m30\u001b[0m Mph Over\u001b[1m)\u001b[0m                           \u001b]8;id=339513;file:///var/folders/v0/wzkm0bb11x1b_27rl_172pdr0000gp/T/ipykernel_78208/2760839720.py\u001b\\\u001b[2m2760839720.py\u001b[0m\u001b]8;;\u001b\\\u001b[2m:\u001b[0m\u001b]8;id=602517;file:///var/folders/v0/wzkm0bb11x1b_27rl_172pdr0000gp/T/ipykernel_78208/2760839720.py#55\u001b\\\u001b[2m55\u001b[0m\u001b]8;;\u001b\\\n"
      ]
     },
     "metadata": {},
     "output_type": "display_data"
    },
    {
     "data": {
      "text/html": [
       "<pre style=\"white-space:pre;overflow-x:auto;line-height:normal;font-family:Menlo,'DejaVu Sans Mono',consolas,'Courier New',monospace\"><span style=\"color: #7fbfbf; text-decoration-color: #7fbfbf\">           </span>Searching for JHAIDYN RICHARDSON <span style=\"color: #008080; text-decoration-color: #008080; font-weight: bold\">2000.0</span> KANSAS CITY MO <span style=\"color: #008080; text-decoration-color: #008080; font-weight: bold\">64155</span> <span style=\"color: #008080; text-decoration-color: #008080; font-weight: bold\">925</span> NE 102ND ST            <a href=\"file:///var/folders/v0/wzkm0bb11x1b_27rl_172pdr0000gp/T/ipykernel_78208/2760839720.py\" target=\"_blank\"><span style=\"color: #7f7f7f; text-decoration-color: #7f7f7f\">2760839720.py</span></a><span style=\"color: #7f7f7f; text-decoration-color: #7f7f7f\">:</span><a href=\"file:///var/folders/v0/wzkm0bb11x1b_27rl_172pdr0000gp/T/ipykernel_78208/2760839720.py#24\" target=\"_blank\"><span style=\"color: #7f7f7f; text-decoration-color: #7f7f7f\">24</span></a>\n",
       "</pre>\n"
      ],
      "text/plain": [
       "\u001b[2;36m          \u001b[0m\u001b[2;36m \u001b[0mSearching for JHAIDYN RICHARDSON \u001b[1;36m2000.0\u001b[0m KANSAS CITY MO \u001b[1;36m64155\u001b[0m \u001b[1;36m925\u001b[0m NE 102ND ST            \u001b]8;id=428624;file:///var/folders/v0/wzkm0bb11x1b_27rl_172pdr0000gp/T/ipykernel_78208/2760839720.py\u001b\\\u001b[2m2760839720.py\u001b[0m\u001b]8;;\u001b\\\u001b[2m:\u001b[0m\u001b]8;id=418782;file:///var/folders/v0/wzkm0bb11x1b_27rl_172pdr0000gp/T/ipykernel_78208/2760839720.py#24\u001b\\\u001b[2m24\u001b[0m\u001b]8;;\u001b\\\n"
      ]
     },
     "metadata": {},
     "output_type": "display_data"
    },
    {
     "data": {
      "text/html": [
       "<pre style=\"white-space:pre;overflow-x:auto;line-height:normal;font-family:Menlo,'DejaVu Sans Mono',consolas,'Courier New',monospace\"><span style=\"color: #7fbfbf; text-decoration-color: #7fbfbf\">[14:57:18] </span>Case <span style=\"color: #008080; text-decoration-color: #008080; font-weight: bold\">210895045</span> already exists with status closed                                        <a href=\"file:///var/folders/v0/wzkm0bb11x1b_27rl_172pdr0000gp/T/ipykernel_78208/2760839720.py\" target=\"_blank\"><span style=\"color: #7f7f7f; text-decoration-color: #7f7f7f\">2760839720.py</span></a><span style=\"color: #7f7f7f; text-decoration-color: #7f7f7f\">:</span><a href=\"file:///var/folders/v0/wzkm0bb11x1b_27rl_172pdr0000gp/T/ipykernel_78208/2760839720.py#52\" target=\"_blank\"><span style=\"color: #7f7f7f; text-decoration-color: #7f7f7f\">52</span></a>\n",
       "</pre>\n"
      ],
      "text/plain": [
       "\u001b[2;36m[14:57:18]\u001b[0m\u001b[2;36m \u001b[0mCase \u001b[1;36m210895045\u001b[0m already exists with status closed                                        \u001b]8;id=595129;file:///var/folders/v0/wzkm0bb11x1b_27rl_172pdr0000gp/T/ipykernel_78208/2760839720.py\u001b\\\u001b[2m2760839720.py\u001b[0m\u001b]8;;\u001b\\\u001b[2m:\u001b[0m\u001b]8;id=228848;file:///var/folders/v0/wzkm0bb11x1b_27rl_172pdr0000gp/T/ipykernel_78208/2760839720.py#52\u001b\\\u001b[2m52\u001b[0m\u001b]8;;\u001b\\\n"
      ]
     },
     "metadata": {},
     "output_type": "display_data"
    },
    {
     "data": {
      "text/html": [
       "<pre style=\"white-space:pre;overflow-x:auto;line-height:normal;font-family:Menlo,'DejaVu Sans Mono',consolas,'Courier New',monospace\"><span style=\"color: #7fbfbf; text-decoration-color: #7fbfbf\">           </span>Case details JHAIDYN RICHARDSON <span style=\"color: #008080; text-decoration-color: #008080; font-weight: bold\">2000</span> Speeding <span style=\"font-weight: bold\">(</span><span style=\"color: #008080; text-decoration-color: #008080; font-weight: bold\">31</span>-<span style=\"color: #008080; text-decoration-color: #008080; font-weight: bold\">35</span> Mph Over<span style=\"font-weight: bold\">)</span>                          <a href=\"file:///var/folders/v0/wzkm0bb11x1b_27rl_172pdr0000gp/T/ipykernel_78208/2760839720.py\" target=\"_blank\"><span style=\"color: #7f7f7f; text-decoration-color: #7f7f7f\">2760839720.py</span></a><span style=\"color: #7f7f7f; text-decoration-color: #7f7f7f\">:</span><a href=\"file:///var/folders/v0/wzkm0bb11x1b_27rl_172pdr0000gp/T/ipykernel_78208/2760839720.py#55\" target=\"_blank\"><span style=\"color: #7f7f7f; text-decoration-color: #7f7f7f\">55</span></a>\n",
       "</pre>\n"
      ],
      "text/plain": [
       "\u001b[2;36m          \u001b[0m\u001b[2;36m \u001b[0mCase details JHAIDYN RICHARDSON \u001b[1;36m2000\u001b[0m Speeding \u001b[1m(\u001b[0m\u001b[1;36m31\u001b[0m-\u001b[1;36m35\u001b[0m Mph Over\u001b[1m)\u001b[0m                          \u001b]8;id=241027;file:///var/folders/v0/wzkm0bb11x1b_27rl_172pdr0000gp/T/ipykernel_78208/2760839720.py\u001b\\\u001b[2m2760839720.py\u001b[0m\u001b]8;;\u001b\\\u001b[2m:\u001b[0m\u001b]8;id=974495;file:///var/folders/v0/wzkm0bb11x1b_27rl_172pdr0000gp/T/ipykernel_78208/2760839720.py#55\u001b\\\u001b[2m55\u001b[0m\u001b]8;;\u001b\\\n"
      ]
     },
     "metadata": {},
     "output_type": "display_data"
    },
    {
     "data": {
      "text/html": [
       "<pre style=\"white-space:pre;overflow-x:auto;line-height:normal;font-family:Menlo,'DejaVu Sans Mono',consolas,'Courier New',monospace\"><span style=\"color: #7fbfbf; text-decoration-color: #7fbfbf\">           </span>Searching for ANTHONY LETIZIA <span style=\"color: #008080; text-decoration-color: #008080; font-weight: bold\">2005.0</span> HIGH RIDGE MO <span style=\"color: #008080; text-decoration-color: #008080; font-weight: bold\">63049</span> <span style=\"color: #008080; text-decoration-color: #008080; font-weight: bold\">2317</span> GLOUCESTER RD             <a href=\"file:///var/folders/v0/wzkm0bb11x1b_27rl_172pdr0000gp/T/ipykernel_78208/2760839720.py\" target=\"_blank\"><span style=\"color: #7f7f7f; text-decoration-color: #7f7f7f\">2760839720.py</span></a><span style=\"color: #7f7f7f; text-decoration-color: #7f7f7f\">:</span><a href=\"file:///var/folders/v0/wzkm0bb11x1b_27rl_172pdr0000gp/T/ipykernel_78208/2760839720.py#24\" target=\"_blank\"><span style=\"color: #7f7f7f; text-decoration-color: #7f7f7f\">24</span></a>\n",
       "</pre>\n"
      ],
      "text/plain": [
       "\u001b[2;36m          \u001b[0m\u001b[2;36m \u001b[0mSearching for ANTHONY LETIZIA \u001b[1;36m2005.0\u001b[0m HIGH RIDGE MO \u001b[1;36m63049\u001b[0m \u001b[1;36m2317\u001b[0m GLOUCESTER RD             \u001b]8;id=469669;file:///var/folders/v0/wzkm0bb11x1b_27rl_172pdr0000gp/T/ipykernel_78208/2760839720.py\u001b\\\u001b[2m2760839720.py\u001b[0m\u001b]8;;\u001b\\\u001b[2m:\u001b[0m\u001b]8;id=53601;file:///var/folders/v0/wzkm0bb11x1b_27rl_172pdr0000gp/T/ipykernel_78208/2760839720.py#24\u001b\\\u001b[2m24\u001b[0m\u001b]8;;\u001b\\\n"
      ]
     },
     "metadata": {},
     "output_type": "display_data"
    },
    {
     "data": {
      "text/html": [
       "<pre style=\"white-space:pre;overflow-x:auto;line-height:normal;font-family:Menlo,'DejaVu Sans Mono',consolas,'Courier New',monospace\"><span style=\"color: #7fbfbf; text-decoration-color: #7fbfbf\">[14:57:20] </span>Case <span style=\"color: #008080; text-decoration-color: #008080; font-weight: bold\">704368250</span> already exists with status contacted                                     <a href=\"file:///var/folders/v0/wzkm0bb11x1b_27rl_172pdr0000gp/T/ipykernel_78208/2760839720.py\" target=\"_blank\"><span style=\"color: #7f7f7f; text-decoration-color: #7f7f7f\">2760839720.py</span></a><span style=\"color: #7f7f7f; text-decoration-color: #7f7f7f\">:</span><a href=\"file:///var/folders/v0/wzkm0bb11x1b_27rl_172pdr0000gp/T/ipykernel_78208/2760839720.py#52\" target=\"_blank\"><span style=\"color: #7f7f7f; text-decoration-color: #7f7f7f\">52</span></a>\n",
       "</pre>\n"
      ],
      "text/plain": [
       "\u001b[2;36m[14:57:20]\u001b[0m\u001b[2;36m \u001b[0mCase \u001b[1;36m704368250\u001b[0m already exists with status contacted                                     \u001b]8;id=351891;file:///var/folders/v0/wzkm0bb11x1b_27rl_172pdr0000gp/T/ipykernel_78208/2760839720.py\u001b\\\u001b[2m2760839720.py\u001b[0m\u001b]8;;\u001b\\\u001b[2m:\u001b[0m\u001b]8;id=614273;file:///var/folders/v0/wzkm0bb11x1b_27rl_172pdr0000gp/T/ipykernel_78208/2760839720.py#52\u001b\\\u001b[2m52\u001b[0m\u001b]8;;\u001b\\\n"
      ]
     },
     "metadata": {},
     "output_type": "display_data"
    },
    {
     "data": {
      "text/html": [
       "<pre style=\"white-space:pre;overflow-x:auto;line-height:normal;font-family:Menlo,'DejaVu Sans Mono',consolas,'Courier New',monospace\"><span style=\"color: #7fbfbf; text-decoration-color: #7fbfbf\">           </span>Case details ANTHONY LETIZIA <span style=\"color: #008080; text-decoration-color: #008080; font-weight: bold\">2005</span> Fail To Drive Within Right Lane Of Hwy With <span style=\"color: #008080; text-decoration-color: #008080; font-weight: bold\">2</span> Or More <a href=\"file:///var/folders/v0/wzkm0bb11x1b_27rl_172pdr0000gp/T/ipykernel_78208/2760839720.py\" target=\"_blank\"><span style=\"color: #7f7f7f; text-decoration-color: #7f7f7f\">2760839720.py</span></a><span style=\"color: #7f7f7f; text-decoration-color: #7f7f7f\">:</span><a href=\"file:///var/folders/v0/wzkm0bb11x1b_27rl_172pdr0000gp/T/ipykernel_78208/2760839720.py#55\" target=\"_blank\"><span style=\"color: #7f7f7f; text-decoration-color: #7f7f7f\">55</span></a>\n",
       "<span style=\"color: #7fbfbf; text-decoration-color: #7fbfbf\">           </span>Lanes In Same Direction                                                                 <span style=\"color: #7f7f7f; text-decoration-color: #7f7f7f\">                </span>\n",
       "</pre>\n"
      ],
      "text/plain": [
       "\u001b[2;36m          \u001b[0m\u001b[2;36m \u001b[0mCase details ANTHONY LETIZIA \u001b[1;36m2005\u001b[0m Fail To Drive Within Right Lane Of Hwy With \u001b[1;36m2\u001b[0m Or More \u001b]8;id=601577;file:///var/folders/v0/wzkm0bb11x1b_27rl_172pdr0000gp/T/ipykernel_78208/2760839720.py\u001b\\\u001b[2m2760839720.py\u001b[0m\u001b]8;;\u001b\\\u001b[2m:\u001b[0m\u001b]8;id=750521;file:///var/folders/v0/wzkm0bb11x1b_27rl_172pdr0000gp/T/ipykernel_78208/2760839720.py#55\u001b\\\u001b[2m55\u001b[0m\u001b]8;;\u001b\\\n",
       "\u001b[2;36m           \u001b[0mLanes In Same Direction                                                                 \u001b[2m                \u001b[0m\n"
      ]
     },
     "metadata": {},
     "output_type": "display_data"
    },
    {
     "data": {
      "text/html": [
       "<pre style=\"white-space:pre;overflow-x:auto;line-height:normal;font-family:Menlo,'DejaVu Sans Mono',consolas,'Courier New',monospace\"><span style=\"color: #7fbfbf; text-decoration-color: #7fbfbf\">           </span>Searching for SHALA JONES <span style=\"color: #008080; text-decoration-color: #008080; font-weight: bold\">2005.0</span> KANSAS CITY MO <span style=\"color: #008080; text-decoration-color: #008080; font-weight: bold\">64110</span> <span style=\"color: #008080; text-decoration-color: #008080; font-weight: bold\">4222</span> FLORA AVE                    <a href=\"file:///var/folders/v0/wzkm0bb11x1b_27rl_172pdr0000gp/T/ipykernel_78208/2760839720.py\" target=\"_blank\"><span style=\"color: #7f7f7f; text-decoration-color: #7f7f7f\">2760839720.py</span></a><span style=\"color: #7f7f7f; text-decoration-color: #7f7f7f\">:</span><a href=\"file:///var/folders/v0/wzkm0bb11x1b_27rl_172pdr0000gp/T/ipykernel_78208/2760839720.py#24\" target=\"_blank\"><span style=\"color: #7f7f7f; text-decoration-color: #7f7f7f\">24</span></a>\n",
       "</pre>\n"
      ],
      "text/plain": [
       "\u001b[2;36m          \u001b[0m\u001b[2;36m \u001b[0mSearching for SHALA JONES \u001b[1;36m2005.0\u001b[0m KANSAS CITY MO \u001b[1;36m64110\u001b[0m \u001b[1;36m4222\u001b[0m FLORA AVE                    \u001b]8;id=311652;file:///var/folders/v0/wzkm0bb11x1b_27rl_172pdr0000gp/T/ipykernel_78208/2760839720.py\u001b\\\u001b[2m2760839720.py\u001b[0m\u001b]8;;\u001b\\\u001b[2m:\u001b[0m\u001b]8;id=775903;file:///var/folders/v0/wzkm0bb11x1b_27rl_172pdr0000gp/T/ipykernel_78208/2760839720.py#24\u001b\\\u001b[2m24\u001b[0m\u001b]8;;\u001b\\\n"
      ]
     },
     "metadata": {},
     "output_type": "display_data"
    },
    {
     "data": {
      "text/html": [
       "<pre style=\"white-space:pre;overflow-x:auto;line-height:normal;font-family:Menlo,'DejaVu Sans Mono',consolas,'Courier New',monospace\"><span style=\"color: #7fbfbf; text-decoration-color: #7fbfbf\">[14:57:21] </span>Case <span style=\"color: #008080; text-decoration-color: #008080; font-weight: bold\">210883829</span> already exists with status contacted                                     <a href=\"file:///var/folders/v0/wzkm0bb11x1b_27rl_172pdr0000gp/T/ipykernel_78208/2760839720.py\" target=\"_blank\"><span style=\"color: #7f7f7f; text-decoration-color: #7f7f7f\">2760839720.py</span></a><span style=\"color: #7f7f7f; text-decoration-color: #7f7f7f\">:</span><a href=\"file:///var/folders/v0/wzkm0bb11x1b_27rl_172pdr0000gp/T/ipykernel_78208/2760839720.py#52\" target=\"_blank\"><span style=\"color: #7f7f7f; text-decoration-color: #7f7f7f\">52</span></a>\n",
       "</pre>\n"
      ],
      "text/plain": [
       "\u001b[2;36m[14:57:21]\u001b[0m\u001b[2;36m \u001b[0mCase \u001b[1;36m210883829\u001b[0m already exists with status contacted                                     \u001b]8;id=980552;file:///var/folders/v0/wzkm0bb11x1b_27rl_172pdr0000gp/T/ipykernel_78208/2760839720.py\u001b\\\u001b[2m2760839720.py\u001b[0m\u001b]8;;\u001b\\\u001b[2m:\u001b[0m\u001b]8;id=395779;file:///var/folders/v0/wzkm0bb11x1b_27rl_172pdr0000gp/T/ipykernel_78208/2760839720.py#52\u001b\\\u001b[2m52\u001b[0m\u001b]8;;\u001b\\\n"
      ]
     },
     "metadata": {},
     "output_type": "display_data"
    },
    {
     "data": {
      "text/html": [
       "<pre style=\"white-space:pre;overflow-x:auto;line-height:normal;font-family:Menlo,'DejaVu Sans Mono',consolas,'Courier New',monospace\"><span style=\"color: #7fbfbf; text-decoration-color: #7fbfbf\">           </span>Case details SHALA JONES <span style=\"color: #008080; text-decoration-color: #008080; font-weight: bold\">2005</span> Expired Plates                                            <a href=\"file:///var/folders/v0/wzkm0bb11x1b_27rl_172pdr0000gp/T/ipykernel_78208/2760839720.py\" target=\"_blank\"><span style=\"color: #7f7f7f; text-decoration-color: #7f7f7f\">2760839720.py</span></a><span style=\"color: #7f7f7f; text-decoration-color: #7f7f7f\">:</span><a href=\"file:///var/folders/v0/wzkm0bb11x1b_27rl_172pdr0000gp/T/ipykernel_78208/2760839720.py#55\" target=\"_blank\"><span style=\"color: #7f7f7f; text-decoration-color: #7f7f7f\">55</span></a>\n",
       "</pre>\n"
      ],
      "text/plain": [
       "\u001b[2;36m          \u001b[0m\u001b[2;36m \u001b[0mCase details SHALA JONES \u001b[1;36m2005\u001b[0m Expired Plates                                            \u001b]8;id=108584;file:///var/folders/v0/wzkm0bb11x1b_27rl_172pdr0000gp/T/ipykernel_78208/2760839720.py\u001b\\\u001b[2m2760839720.py\u001b[0m\u001b]8;;\u001b\\\u001b[2m:\u001b[0m\u001b]8;id=80021;file:///var/folders/v0/wzkm0bb11x1b_27rl_172pdr0000gp/T/ipykernel_78208/2760839720.py#55\u001b\\\u001b[2m55\u001b[0m\u001b]8;;\u001b\\\n"
      ]
     },
     "metadata": {},
     "output_type": "display_data"
    },
    {
     "data": {
      "text/html": [
       "<pre style=\"white-space:pre;overflow-x:auto;line-height:normal;font-family:Menlo,'DejaVu Sans Mono',consolas,'Courier New',monospace\"><span style=\"color: #7fbfbf; text-decoration-color: #7fbfbf\">           </span>Case <span style=\"color: #008080; text-decoration-color: #008080; font-weight: bold\">210883831</span> already exists with status contacted                                     <a href=\"file:///var/folders/v0/wzkm0bb11x1b_27rl_172pdr0000gp/T/ipykernel_78208/2760839720.py\" target=\"_blank\"><span style=\"color: #7f7f7f; text-decoration-color: #7f7f7f\">2760839720.py</span></a><span style=\"color: #7f7f7f; text-decoration-color: #7f7f7f\">:</span><a href=\"file:///var/folders/v0/wzkm0bb11x1b_27rl_172pdr0000gp/T/ipykernel_78208/2760839720.py#52\" target=\"_blank\"><span style=\"color: #7f7f7f; text-decoration-color: #7f7f7f\">52</span></a>\n",
       "</pre>\n"
      ],
      "text/plain": [
       "\u001b[2;36m          \u001b[0m\u001b[2;36m \u001b[0mCase \u001b[1;36m210883831\u001b[0m already exists with status contacted                                     \u001b]8;id=223237;file:///var/folders/v0/wzkm0bb11x1b_27rl_172pdr0000gp/T/ipykernel_78208/2760839720.py\u001b\\\u001b[2m2760839720.py\u001b[0m\u001b]8;;\u001b\\\u001b[2m:\u001b[0m\u001b]8;id=454993;file:///var/folders/v0/wzkm0bb11x1b_27rl_172pdr0000gp/T/ipykernel_78208/2760839720.py#52\u001b\\\u001b[2m52\u001b[0m\u001b]8;;\u001b\\\n"
      ]
     },
     "metadata": {},
     "output_type": "display_data"
    },
    {
     "data": {
      "text/html": [
       "<pre style=\"white-space:pre;overflow-x:auto;line-height:normal;font-family:Menlo,'DejaVu Sans Mono',consolas,'Courier New',monospace\"><span style=\"color: #7fbfbf; text-decoration-color: #7fbfbf\">           </span>Case details SHALA JONES <span style=\"color: #008080; text-decoration-color: #008080; font-weight: bold\">2005</span> Driving While Revoked Or Suspended                        <a href=\"file:///var/folders/v0/wzkm0bb11x1b_27rl_172pdr0000gp/T/ipykernel_78208/2760839720.py\" target=\"_blank\"><span style=\"color: #7f7f7f; text-decoration-color: #7f7f7f\">2760839720.py</span></a><span style=\"color: #7f7f7f; text-decoration-color: #7f7f7f\">:</span><a href=\"file:///var/folders/v0/wzkm0bb11x1b_27rl_172pdr0000gp/T/ipykernel_78208/2760839720.py#55\" target=\"_blank\"><span style=\"color: #7f7f7f; text-decoration-color: #7f7f7f\">55</span></a>\n",
       "</pre>\n"
      ],
      "text/plain": [
       "\u001b[2;36m          \u001b[0m\u001b[2;36m \u001b[0mCase details SHALA JONES \u001b[1;36m2005\u001b[0m Driving While Revoked Or Suspended                        \u001b]8;id=214774;file:///var/folders/v0/wzkm0bb11x1b_27rl_172pdr0000gp/T/ipykernel_78208/2760839720.py\u001b\\\u001b[2m2760839720.py\u001b[0m\u001b]8;;\u001b\\\u001b[2m:\u001b[0m\u001b]8;id=329407;file:///var/folders/v0/wzkm0bb11x1b_27rl_172pdr0000gp/T/ipykernel_78208/2760839720.py#55\u001b\\\u001b[2m55\u001b[0m\u001b]8;;\u001b\\\n"
      ]
     },
     "metadata": {},
     "output_type": "display_data"
    },
    {
     "data": {
      "text/html": [
       "<pre style=\"white-space:pre;overflow-x:auto;line-height:normal;font-family:Menlo,'DejaVu Sans Mono',consolas,'Courier New',monospace\"><span style=\"color: #7fbfbf; text-decoration-color: #7fbfbf\">           </span>Searching for ISAI CHINCHILLA PEREZ <span style=\"color: #008080; text-decoration-color: #008080; font-weight: bold\">1995.0</span> ST LOUIS MO <span style=\"color: #008080; text-decoration-color: #008080; font-weight: bold\">63116</span> <span style=\"color: #008080; text-decoration-color: #008080; font-weight: bold\">4774</span> KINGS DR APT A        <a href=\"file:///var/folders/v0/wzkm0bb11x1b_27rl_172pdr0000gp/T/ipykernel_78208/2760839720.py\" target=\"_blank\"><span style=\"color: #7f7f7f; text-decoration-color: #7f7f7f\">2760839720.py</span></a><span style=\"color: #7f7f7f; text-decoration-color: #7f7f7f\">:</span><a href=\"file:///var/folders/v0/wzkm0bb11x1b_27rl_172pdr0000gp/T/ipykernel_78208/2760839720.py#24\" target=\"_blank\"><span style=\"color: #7f7f7f; text-decoration-color: #7f7f7f\">24</span></a>\n",
       "</pre>\n"
      ],
      "text/plain": [
       "\u001b[2;36m          \u001b[0m\u001b[2;36m \u001b[0mSearching for ISAI CHINCHILLA PEREZ \u001b[1;36m1995.0\u001b[0m ST LOUIS MO \u001b[1;36m63116\u001b[0m \u001b[1;36m4774\u001b[0m KINGS DR APT A        \u001b]8;id=706680;file:///var/folders/v0/wzkm0bb11x1b_27rl_172pdr0000gp/T/ipykernel_78208/2760839720.py\u001b\\\u001b[2m2760839720.py\u001b[0m\u001b]8;;\u001b\\\u001b[2m:\u001b[0m\u001b]8;id=116312;file:///var/folders/v0/wzkm0bb11x1b_27rl_172pdr0000gp/T/ipykernel_78208/2760839720.py#24\u001b\\\u001b[2m24\u001b[0m\u001b]8;;\u001b\\\n"
      ]
     },
     "metadata": {},
     "output_type": "display_data"
    },
    {
     "data": {
      "text/html": [
       "<pre style=\"white-space:pre;overflow-x:auto;line-height:normal;font-family:Menlo,'DejaVu Sans Mono',consolas,'Courier New',monospace\"><span style=\"color: #7fbfbf; text-decoration-color: #7fbfbf\">[14:57:22] </span>Case <span style=\"color: #008080; text-decoration-color: #008080; font-weight: bold\">200375485</span> already exists with status contacted                                     <a href=\"file:///var/folders/v0/wzkm0bb11x1b_27rl_172pdr0000gp/T/ipykernel_78208/2760839720.py\" target=\"_blank\"><span style=\"color: #7f7f7f; text-decoration-color: #7f7f7f\">2760839720.py</span></a><span style=\"color: #7f7f7f; text-decoration-color: #7f7f7f\">:</span><a href=\"file:///var/folders/v0/wzkm0bb11x1b_27rl_172pdr0000gp/T/ipykernel_78208/2760839720.py#52\" target=\"_blank\"><span style=\"color: #7f7f7f; text-decoration-color: #7f7f7f\">52</span></a>\n",
       "</pre>\n"
      ],
      "text/plain": [
       "\u001b[2;36m[14:57:22]\u001b[0m\u001b[2;36m \u001b[0mCase \u001b[1;36m200375485\u001b[0m already exists with status contacted                                     \u001b]8;id=628823;file:///var/folders/v0/wzkm0bb11x1b_27rl_172pdr0000gp/T/ipykernel_78208/2760839720.py\u001b\\\u001b[2m2760839720.py\u001b[0m\u001b]8;;\u001b\\\u001b[2m:\u001b[0m\u001b]8;id=209730;file:///var/folders/v0/wzkm0bb11x1b_27rl_172pdr0000gp/T/ipykernel_78208/2760839720.py#52\u001b\\\u001b[2m52\u001b[0m\u001b]8;;\u001b\\\n"
      ]
     },
     "metadata": {},
     "output_type": "display_data"
    },
    {
     "data": {
      "text/html": [
       "<pre style=\"white-space:pre;overflow-x:auto;line-height:normal;font-family:Menlo,'DejaVu Sans Mono',consolas,'Courier New',monospace\"><span style=\"color: #7fbfbf; text-decoration-color: #7fbfbf\">           </span>Case details ISAI CHINCHILLA PEREZ <span style=\"color: #008080; text-decoration-color: #008080; font-weight: bold\">1995</span> Exceeded Posted Speed Limit <span style=\"font-weight: bold\">(</span><span style=\"color: #008080; text-decoration-color: #008080; font-weight: bold\">6</span>-<span style=\"color: #008080; text-decoration-color: #008080; font-weight: bold\">10</span> Mph Over<span style=\"font-weight: bold\">)</span>     <a href=\"file:///var/folders/v0/wzkm0bb11x1b_27rl_172pdr0000gp/T/ipykernel_78208/2760839720.py\" target=\"_blank\"><span style=\"color: #7f7f7f; text-decoration-color: #7f7f7f\">2760839720.py</span></a><span style=\"color: #7f7f7f; text-decoration-color: #7f7f7f\">:</span><a href=\"file:///var/folders/v0/wzkm0bb11x1b_27rl_172pdr0000gp/T/ipykernel_78208/2760839720.py#55\" target=\"_blank\"><span style=\"color: #7f7f7f; text-decoration-color: #7f7f7f\">55</span></a>\n",
       "</pre>\n"
      ],
      "text/plain": [
       "\u001b[2;36m          \u001b[0m\u001b[2;36m \u001b[0mCase details ISAI CHINCHILLA PEREZ \u001b[1;36m1995\u001b[0m Exceeded Posted Speed Limit \u001b[1m(\u001b[0m\u001b[1;36m6\u001b[0m-\u001b[1;36m10\u001b[0m Mph Over\u001b[1m)\u001b[0m     \u001b]8;id=467444;file:///var/folders/v0/wzkm0bb11x1b_27rl_172pdr0000gp/T/ipykernel_78208/2760839720.py\u001b\\\u001b[2m2760839720.py\u001b[0m\u001b]8;;\u001b\\\u001b[2m:\u001b[0m\u001b]8;id=742542;file:///var/folders/v0/wzkm0bb11x1b_27rl_172pdr0000gp/T/ipykernel_78208/2760839720.py#55\u001b\\\u001b[2m55\u001b[0m\u001b]8;;\u001b\\\n"
      ]
     },
     "metadata": {},
     "output_type": "display_data"
    },
    {
     "data": {
      "text/html": [
       "<pre style=\"white-space:pre;overflow-x:auto;line-height:normal;font-family:Menlo,'DejaVu Sans Mono',consolas,'Courier New',monospace\"><span style=\"color: #7fbfbf; text-decoration-color: #7fbfbf\">           </span>Case GROSSO__DANIEL_J_20_06_07_2024 has no address                                      <a href=\"file:///var/folders/v0/wzkm0bb11x1b_27rl_172pdr0000gp/T/ipykernel_78208/2760839720.py\" target=\"_blank\"><span style=\"color: #7f7f7f; text-decoration-color: #7f7f7f\">2760839720.py</span></a><span style=\"color: #7f7f7f; text-decoration-color: #7f7f7f\">:</span><a href=\"file:///var/folders/v0/wzkm0bb11x1b_27rl_172pdr0000gp/T/ipykernel_78208/2760839720.py#20\" target=\"_blank\"><span style=\"color: #7f7f7f; text-decoration-color: #7f7f7f\">20</span></a>\n",
       "</pre>\n"
      ],
      "text/plain": [
       "\u001b[2;36m          \u001b[0m\u001b[2;36m \u001b[0mCase GROSSO__DANIEL_J_20_06_07_2024 has no address                                      \u001b]8;id=70243;file:///var/folders/v0/wzkm0bb11x1b_27rl_172pdr0000gp/T/ipykernel_78208/2760839720.py\u001b\\\u001b[2m2760839720.py\u001b[0m\u001b]8;;\u001b\\\u001b[2m:\u001b[0m\u001b]8;id=144998;file:///var/folders/v0/wzkm0bb11x1b_27rl_172pdr0000gp/T/ipykernel_78208/2760839720.py#20\u001b\\\u001b[2m20\u001b[0m\u001b]8;;\u001b\\\n"
      ]
     },
     "metadata": {},
     "output_type": "display_data"
    },
    {
     "data": {
      "text/html": [
       "<pre style=\"white-space:pre;overflow-x:auto;line-height:normal;font-family:Menlo,'DejaVu Sans Mono',consolas,'Courier New',monospace\"><span style=\"color: #7fbfbf; text-decoration-color: #7fbfbf\">[14:57:23] </span>Searching for LARRY GRIFFIN <span style=\"color: #008080; text-decoration-color: #008080; font-weight: bold\">1973.0</span> ST LOUIS MO <span style=\"color: #008080; text-decoration-color: #008080; font-weight: bold\">63042</span> <span style=\"color: #008080; text-decoration-color: #008080; font-weight: bold\">4871</span> HERITAGE HEIGHTS CIR          <a href=\"file:///var/folders/v0/wzkm0bb11x1b_27rl_172pdr0000gp/T/ipykernel_78208/2760839720.py\" target=\"_blank\"><span style=\"color: #7f7f7f; text-decoration-color: #7f7f7f\">2760839720.py</span></a><span style=\"color: #7f7f7f; text-decoration-color: #7f7f7f\">:</span><a href=\"file:///var/folders/v0/wzkm0bb11x1b_27rl_172pdr0000gp/T/ipykernel_78208/2760839720.py#24\" target=\"_blank\"><span style=\"color: #7f7f7f; text-decoration-color: #7f7f7f\">24</span></a>\n",
       "</pre>\n"
      ],
      "text/plain": [
       "\u001b[2;36m[14:57:23]\u001b[0m\u001b[2;36m \u001b[0mSearching for LARRY GRIFFIN \u001b[1;36m1973.0\u001b[0m ST LOUIS MO \u001b[1;36m63042\u001b[0m \u001b[1;36m4871\u001b[0m HERITAGE HEIGHTS CIR          \u001b]8;id=430539;file:///var/folders/v0/wzkm0bb11x1b_27rl_172pdr0000gp/T/ipykernel_78208/2760839720.py\u001b\\\u001b[2m2760839720.py\u001b[0m\u001b]8;;\u001b\\\u001b[2m:\u001b[0m\u001b]8;id=959195;file:///var/folders/v0/wzkm0bb11x1b_27rl_172pdr0000gp/T/ipykernel_78208/2760839720.py#24\u001b\\\u001b[2m24\u001b[0m\u001b]8;;\u001b\\\n"
      ]
     },
     "metadata": {},
     "output_type": "display_data"
    },
    {
     "data": {
      "text/html": [
       "<pre style=\"white-space:pre;overflow-x:auto;line-height:normal;font-family:Menlo,'DejaVu Sans Mono',consolas,'Courier New',monospace\"><span style=\"color: #7fbfbf; text-decoration-color: #7fbfbf\">[14:57:24] </span>Case <span style=\"color: #008080; text-decoration-color: #008080; font-weight: bold\">240075146</span> already exists with status won                                           <a href=\"file:///var/folders/v0/wzkm0bb11x1b_27rl_172pdr0000gp/T/ipykernel_78208/2760839720.py\" target=\"_blank\"><span style=\"color: #7f7f7f; text-decoration-color: #7f7f7f\">2760839720.py</span></a><span style=\"color: #7f7f7f; text-decoration-color: #7f7f7f\">:</span><a href=\"file:///var/folders/v0/wzkm0bb11x1b_27rl_172pdr0000gp/T/ipykernel_78208/2760839720.py#52\" target=\"_blank\"><span style=\"color: #7f7f7f; text-decoration-color: #7f7f7f\">52</span></a>\n",
       "</pre>\n"
      ],
      "text/plain": [
       "\u001b[2;36m[14:57:24]\u001b[0m\u001b[2;36m \u001b[0mCase \u001b[1;36m240075146\u001b[0m already exists with status won                                           \u001b]8;id=980505;file:///var/folders/v0/wzkm0bb11x1b_27rl_172pdr0000gp/T/ipykernel_78208/2760839720.py\u001b\\\u001b[2m2760839720.py\u001b[0m\u001b]8;;\u001b\\\u001b[2m:\u001b[0m\u001b]8;id=852429;file:///var/folders/v0/wzkm0bb11x1b_27rl_172pdr0000gp/T/ipykernel_78208/2760839720.py#52\u001b\\\u001b[2m52\u001b[0m\u001b]8;;\u001b\\\n"
      ]
     },
     "metadata": {},
     "output_type": "display_data"
    },
    {
     "data": {
      "text/html": [
       "<pre style=\"white-space:pre;overflow-x:auto;line-height:normal;font-family:Menlo,'DejaVu Sans Mono',consolas,'Courier New',monospace\"><span style=\"color: #7fbfbf; text-decoration-color: #7fbfbf\">           </span>Case details LARRY GRIFFIN <span style=\"color: #008080; text-decoration-color: #008080; font-weight: bold\">1973</span> Exceeded Posted Speed Limit <span style=\"font-weight: bold\">(</span><span style=\"color: #008080; text-decoration-color: #008080; font-weight: bold\">20</span>-<span style=\"color: #008080; text-decoration-color: #008080; font-weight: bold\">25</span> Mph Over<span style=\"font-weight: bold\">)</span>            <a href=\"file:///var/folders/v0/wzkm0bb11x1b_27rl_172pdr0000gp/T/ipykernel_78208/2760839720.py\" target=\"_blank\"><span style=\"color: #7f7f7f; text-decoration-color: #7f7f7f\">2760839720.py</span></a><span style=\"color: #7f7f7f; text-decoration-color: #7f7f7f\">:</span><a href=\"file:///var/folders/v0/wzkm0bb11x1b_27rl_172pdr0000gp/T/ipykernel_78208/2760839720.py#55\" target=\"_blank\"><span style=\"color: #7f7f7f; text-decoration-color: #7f7f7f\">55</span></a>\n",
       "</pre>\n"
      ],
      "text/plain": [
       "\u001b[2;36m          \u001b[0m\u001b[2;36m \u001b[0mCase details LARRY GRIFFIN \u001b[1;36m1973\u001b[0m Exceeded Posted Speed Limit \u001b[1m(\u001b[0m\u001b[1;36m20\u001b[0m-\u001b[1;36m25\u001b[0m Mph Over\u001b[1m)\u001b[0m            \u001b]8;id=940650;file:///var/folders/v0/wzkm0bb11x1b_27rl_172pdr0000gp/T/ipykernel_78208/2760839720.py\u001b\\\u001b[2m2760839720.py\u001b[0m\u001b]8;;\u001b\\\u001b[2m:\u001b[0m\u001b]8;id=715472;file:///var/folders/v0/wzkm0bb11x1b_27rl_172pdr0000gp/T/ipykernel_78208/2760839720.py#55\u001b\\\u001b[2m55\u001b[0m\u001b]8;;\u001b\\\n"
      ]
     },
     "metadata": {},
     "output_type": "display_data"
    },
    {
     "data": {
      "text/html": [
       "<pre style=\"white-space:pre;overflow-x:auto;line-height:normal;font-family:Menlo,'DejaVu Sans Mono',consolas,'Courier New',monospace\"><span style=\"color: #7fbfbf; text-decoration-color: #7fbfbf\">           </span>Searching for JOE SHUMPERT <span style=\"color: #008080; text-decoration-color: #008080; font-weight: bold\">2006.0</span> ST LOUIS MO <span style=\"color: #008080; text-decoration-color: #008080; font-weight: bold\">63115</span> <span style=\"color: #008080; text-decoration-color: #008080; font-weight: bold\">5028</span> N KINGSHIGHWAY BLVD            <a href=\"file:///var/folders/v0/wzkm0bb11x1b_27rl_172pdr0000gp/T/ipykernel_78208/2760839720.py\" target=\"_blank\"><span style=\"color: #7f7f7f; text-decoration-color: #7f7f7f\">2760839720.py</span></a><span style=\"color: #7f7f7f; text-decoration-color: #7f7f7f\">:</span><a href=\"file:///var/folders/v0/wzkm0bb11x1b_27rl_172pdr0000gp/T/ipykernel_78208/2760839720.py#24\" target=\"_blank\"><span style=\"color: #7f7f7f; text-decoration-color: #7f7f7f\">24</span></a>\n",
       "</pre>\n"
      ],
      "text/plain": [
       "\u001b[2;36m          \u001b[0m\u001b[2;36m \u001b[0mSearching for JOE SHUMPERT \u001b[1;36m2006.0\u001b[0m ST LOUIS MO \u001b[1;36m63115\u001b[0m \u001b[1;36m5028\u001b[0m N KINGSHIGHWAY BLVD            \u001b]8;id=946818;file:///var/folders/v0/wzkm0bb11x1b_27rl_172pdr0000gp/T/ipykernel_78208/2760839720.py\u001b\\\u001b[2m2760839720.py\u001b[0m\u001b]8;;\u001b\\\u001b[2m:\u001b[0m\u001b]8;id=746928;file:///var/folders/v0/wzkm0bb11x1b_27rl_172pdr0000gp/T/ipykernel_78208/2760839720.py#24\u001b\\\u001b[2m24\u001b[0m\u001b]8;;\u001b\\\n"
      ]
     },
     "metadata": {},
     "output_type": "display_data"
    },
    {
     "data": {
      "text/html": [
       "<pre style=\"white-space:pre;overflow-x:auto;line-height:normal;font-family:Menlo,'DejaVu Sans Mono',consolas,'Courier New',monospace\"><span style=\"color: #7fbfbf; text-decoration-color: #7fbfbf\">[14:57:25] </span>Case <span style=\"color: #008080; text-decoration-color: #008080; font-weight: bold\">170155150</span> already exists with status contacted                                     <a href=\"file:///var/folders/v0/wzkm0bb11x1b_27rl_172pdr0000gp/T/ipykernel_78208/2760839720.py\" target=\"_blank\"><span style=\"color: #7f7f7f; text-decoration-color: #7f7f7f\">2760839720.py</span></a><span style=\"color: #7f7f7f; text-decoration-color: #7f7f7f\">:</span><a href=\"file:///var/folders/v0/wzkm0bb11x1b_27rl_172pdr0000gp/T/ipykernel_78208/2760839720.py#52\" target=\"_blank\"><span style=\"color: #7f7f7f; text-decoration-color: #7f7f7f\">52</span></a>\n",
       "</pre>\n"
      ],
      "text/plain": [
       "\u001b[2;36m[14:57:25]\u001b[0m\u001b[2;36m \u001b[0mCase \u001b[1;36m170155150\u001b[0m already exists with status contacted                                     \u001b]8;id=78225;file:///var/folders/v0/wzkm0bb11x1b_27rl_172pdr0000gp/T/ipykernel_78208/2760839720.py\u001b\\\u001b[2m2760839720.py\u001b[0m\u001b]8;;\u001b\\\u001b[2m:\u001b[0m\u001b]8;id=989319;file:///var/folders/v0/wzkm0bb11x1b_27rl_172pdr0000gp/T/ipykernel_78208/2760839720.py#52\u001b\\\u001b[2m52\u001b[0m\u001b]8;;\u001b\\\n"
      ]
     },
     "metadata": {},
     "output_type": "display_data"
    },
    {
     "data": {
      "text/html": [
       "<pre style=\"white-space:pre;overflow-x:auto;line-height:normal;font-family:Menlo,'DejaVu Sans Mono',consolas,'Courier New',monospace\"><span style=\"color: #7fbfbf; text-decoration-color: #7fbfbf\">           </span>Case details JOE SHUMPERT <span style=\"color: #008080; text-decoration-color: #008080; font-weight: bold\">2006</span> Oper Veh Without Maintaining Financial Responsibility    <a href=\"file:///var/folders/v0/wzkm0bb11x1b_27rl_172pdr0000gp/T/ipykernel_78208/2760839720.py\" target=\"_blank\"><span style=\"color: #7f7f7f; text-decoration-color: #7f7f7f\">2760839720.py</span></a><span style=\"color: #7f7f7f; text-decoration-color: #7f7f7f\">:</span><a href=\"file:///var/folders/v0/wzkm0bb11x1b_27rl_172pdr0000gp/T/ipykernel_78208/2760839720.py#55\" target=\"_blank\"><span style=\"color: #7f7f7f; text-decoration-color: #7f7f7f\">55</span></a>\n",
       "</pre>\n"
      ],
      "text/plain": [
       "\u001b[2;36m          \u001b[0m\u001b[2;36m \u001b[0mCase details JOE SHUMPERT \u001b[1;36m2006\u001b[0m Oper Veh Without Maintaining Financial Responsibility    \u001b]8;id=208615;file:///var/folders/v0/wzkm0bb11x1b_27rl_172pdr0000gp/T/ipykernel_78208/2760839720.py\u001b\\\u001b[2m2760839720.py\u001b[0m\u001b]8;;\u001b\\\u001b[2m:\u001b[0m\u001b]8;id=365310;file:///var/folders/v0/wzkm0bb11x1b_27rl_172pdr0000gp/T/ipykernel_78208/2760839720.py#55\u001b\\\u001b[2m55\u001b[0m\u001b]8;;\u001b\\\n"
      ]
     },
     "metadata": {},
     "output_type": "display_data"
    },
    {
     "data": {
      "text/html": [
       "<pre style=\"white-space:pre;overflow-x:auto;line-height:normal;font-family:Menlo,'DejaVu Sans Mono',consolas,'Courier New',monospace\"><span style=\"color: #7fbfbf; text-decoration-color: #7fbfbf\">           </span>Searching for TYLER FOLTZ <span style=\"color: #008080; text-decoration-color: #008080; font-weight: bold\">2002.0</span> KANSAS CITY MO <span style=\"color: #008080; text-decoration-color: #008080; font-weight: bold\">64128</span> <span style=\"color: #008080; text-decoration-color: #008080; font-weight: bold\">3205</span> E 31ST ST                    <a href=\"file:///var/folders/v0/wzkm0bb11x1b_27rl_172pdr0000gp/T/ipykernel_78208/2760839720.py\" target=\"_blank\"><span style=\"color: #7f7f7f; text-decoration-color: #7f7f7f\">2760839720.py</span></a><span style=\"color: #7f7f7f; text-decoration-color: #7f7f7f\">:</span><a href=\"file:///var/folders/v0/wzkm0bb11x1b_27rl_172pdr0000gp/T/ipykernel_78208/2760839720.py#24\" target=\"_blank\"><span style=\"color: #7f7f7f; text-decoration-color: #7f7f7f\">24</span></a>\n",
       "</pre>\n"
      ],
      "text/plain": [
       "\u001b[2;36m          \u001b[0m\u001b[2;36m \u001b[0mSearching for TYLER FOLTZ \u001b[1;36m2002.0\u001b[0m KANSAS CITY MO \u001b[1;36m64128\u001b[0m \u001b[1;36m3205\u001b[0m E 31ST ST                    \u001b]8;id=146079;file:///var/folders/v0/wzkm0bb11x1b_27rl_172pdr0000gp/T/ipykernel_78208/2760839720.py\u001b\\\u001b[2m2760839720.py\u001b[0m\u001b]8;;\u001b\\\u001b[2m:\u001b[0m\u001b]8;id=798599;file:///var/folders/v0/wzkm0bb11x1b_27rl_172pdr0000gp/T/ipykernel_78208/2760839720.py#24\u001b\\\u001b[2m24\u001b[0m\u001b]8;;\u001b\\\n"
      ]
     },
     "metadata": {},
     "output_type": "display_data"
    },
    {
     "data": {
      "text/html": [
       "<pre style=\"white-space:pre;overflow-x:auto;line-height:normal;font-family:Menlo,'DejaVu Sans Mono',consolas,'Courier New',monospace\"><span style=\"color: #7fbfbf; text-decoration-color: #7fbfbf\">[14:57:26] </span>Case <span style=\"color: #008080; text-decoration-color: #008080; font-weight: bold\">210894561</span> already exists with status contacted                                     <a href=\"file:///var/folders/v0/wzkm0bb11x1b_27rl_172pdr0000gp/T/ipykernel_78208/2760839720.py\" target=\"_blank\"><span style=\"color: #7f7f7f; text-decoration-color: #7f7f7f\">2760839720.py</span></a><span style=\"color: #7f7f7f; text-decoration-color: #7f7f7f\">:</span><a href=\"file:///var/folders/v0/wzkm0bb11x1b_27rl_172pdr0000gp/T/ipykernel_78208/2760839720.py#52\" target=\"_blank\"><span style=\"color: #7f7f7f; text-decoration-color: #7f7f7f\">52</span></a>\n",
       "</pre>\n"
      ],
      "text/plain": [
       "\u001b[2;36m[14:57:26]\u001b[0m\u001b[2;36m \u001b[0mCase \u001b[1;36m210894561\u001b[0m already exists with status contacted                                     \u001b]8;id=170083;file:///var/folders/v0/wzkm0bb11x1b_27rl_172pdr0000gp/T/ipykernel_78208/2760839720.py\u001b\\\u001b[2m2760839720.py\u001b[0m\u001b]8;;\u001b\\\u001b[2m:\u001b[0m\u001b]8;id=407088;file:///var/folders/v0/wzkm0bb11x1b_27rl_172pdr0000gp/T/ipykernel_78208/2760839720.py#52\u001b\\\u001b[2m52\u001b[0m\u001b]8;;\u001b\\\n"
      ]
     },
     "metadata": {},
     "output_type": "display_data"
    },
    {
     "data": {
      "text/html": [
       "<pre style=\"white-space:pre;overflow-x:auto;line-height:normal;font-family:Menlo,'DejaVu Sans Mono',consolas,'Courier New',monospace\"><span style=\"color: #7fbfbf; text-decoration-color: #7fbfbf\">           </span>Case details TYLER FOLTZ <span style=\"color: #008080; text-decoration-color: #008080; font-weight: bold\">2002</span> Speeding <span style=\"font-weight: bold\">(</span><span style=\"color: #008080; text-decoration-color: #008080; font-weight: bold\">26</span>-<span style=\"color: #008080; text-decoration-color: #008080; font-weight: bold\">30</span> Mph Over<span style=\"font-weight: bold\">)</span>                                 <a href=\"file:///var/folders/v0/wzkm0bb11x1b_27rl_172pdr0000gp/T/ipykernel_78208/2760839720.py\" target=\"_blank\"><span style=\"color: #7f7f7f; text-decoration-color: #7f7f7f\">2760839720.py</span></a><span style=\"color: #7f7f7f; text-decoration-color: #7f7f7f\">:</span><a href=\"file:///var/folders/v0/wzkm0bb11x1b_27rl_172pdr0000gp/T/ipykernel_78208/2760839720.py#55\" target=\"_blank\"><span style=\"color: #7f7f7f; text-decoration-color: #7f7f7f\">55</span></a>\n",
       "</pre>\n"
      ],
      "text/plain": [
       "\u001b[2;36m          \u001b[0m\u001b[2;36m \u001b[0mCase details TYLER FOLTZ \u001b[1;36m2002\u001b[0m Speeding \u001b[1m(\u001b[0m\u001b[1;36m26\u001b[0m-\u001b[1;36m30\u001b[0m Mph Over\u001b[1m)\u001b[0m                                 \u001b]8;id=584026;file:///var/folders/v0/wzkm0bb11x1b_27rl_172pdr0000gp/T/ipykernel_78208/2760839720.py\u001b\\\u001b[2m2760839720.py\u001b[0m\u001b]8;;\u001b\\\u001b[2m:\u001b[0m\u001b]8;id=311166;file:///var/folders/v0/wzkm0bb11x1b_27rl_172pdr0000gp/T/ipykernel_78208/2760839720.py#55\u001b\\\u001b[2m55\u001b[0m\u001b]8;;\u001b\\\n"
      ]
     },
     "metadata": {},
     "output_type": "display_data"
    },
    {
     "data": {
      "text/html": [
       "<pre style=\"white-space:pre;overflow-x:auto;line-height:normal;font-family:Menlo,'DejaVu Sans Mono',consolas,'Courier New',monospace\"><span style=\"color: #7fbfbf; text-decoration-color: #7fbfbf\">           </span>Searching for JAMES PORTER <span style=\"color: #008080; text-decoration-color: #008080; font-weight: bold\">2004.0</span> O FALLON MO <span style=\"color: #008080; text-decoration-color: #008080; font-weight: bold\">63366</span> <span style=\"color: #008080; text-decoration-color: #008080; font-weight: bold\">1721</span> COLLIER BLVD                   <a href=\"file:///var/folders/v0/wzkm0bb11x1b_27rl_172pdr0000gp/T/ipykernel_78208/2760839720.py\" target=\"_blank\"><span style=\"color: #7f7f7f; text-decoration-color: #7f7f7f\">2760839720.py</span></a><span style=\"color: #7f7f7f; text-decoration-color: #7f7f7f\">:</span><a href=\"file:///var/folders/v0/wzkm0bb11x1b_27rl_172pdr0000gp/T/ipykernel_78208/2760839720.py#24\" target=\"_blank\"><span style=\"color: #7f7f7f; text-decoration-color: #7f7f7f\">24</span></a>\n",
       "</pre>\n"
      ],
      "text/plain": [
       "\u001b[2;36m          \u001b[0m\u001b[2;36m \u001b[0mSearching for JAMES PORTER \u001b[1;36m2004.0\u001b[0m O FALLON MO \u001b[1;36m63366\u001b[0m \u001b[1;36m1721\u001b[0m COLLIER BLVD                   \u001b]8;id=246481;file:///var/folders/v0/wzkm0bb11x1b_27rl_172pdr0000gp/T/ipykernel_78208/2760839720.py\u001b\\\u001b[2m2760839720.py\u001b[0m\u001b]8;;\u001b\\\u001b[2m:\u001b[0m\u001b]8;id=344206;file:///var/folders/v0/wzkm0bb11x1b_27rl_172pdr0000gp/T/ipykernel_78208/2760839720.py#24\u001b\\\u001b[2m24\u001b[0m\u001b]8;;\u001b\\\n"
      ]
     },
     "metadata": {},
     "output_type": "display_data"
    },
    {
     "data": {
      "text/html": [
       "<pre style=\"white-space:pre;overflow-x:auto;line-height:normal;font-family:Menlo,'DejaVu Sans Mono',consolas,'Courier New',monospace\"><span style=\"color: #7fbfbf; text-decoration-color: #7fbfbf\">[14:57:27] </span>Case <span style=\"color: #008080; text-decoration-color: #008080; font-weight: bold\">210086537</span> already exists with status contacted                                     <a href=\"file:///var/folders/v0/wzkm0bb11x1b_27rl_172pdr0000gp/T/ipykernel_78208/2760839720.py\" target=\"_blank\"><span style=\"color: #7f7f7f; text-decoration-color: #7f7f7f\">2760839720.py</span></a><span style=\"color: #7f7f7f; text-decoration-color: #7f7f7f\">:</span><a href=\"file:///var/folders/v0/wzkm0bb11x1b_27rl_172pdr0000gp/T/ipykernel_78208/2760839720.py#52\" target=\"_blank\"><span style=\"color: #7f7f7f; text-decoration-color: #7f7f7f\">52</span></a>\n",
       "</pre>\n"
      ],
      "text/plain": [
       "\u001b[2;36m[14:57:27]\u001b[0m\u001b[2;36m \u001b[0mCase \u001b[1;36m210086537\u001b[0m already exists with status contacted                                     \u001b]8;id=738303;file:///var/folders/v0/wzkm0bb11x1b_27rl_172pdr0000gp/T/ipykernel_78208/2760839720.py\u001b\\\u001b[2m2760839720.py\u001b[0m\u001b]8;;\u001b\\\u001b[2m:\u001b[0m\u001b]8;id=778904;file:///var/folders/v0/wzkm0bb11x1b_27rl_172pdr0000gp/T/ipykernel_78208/2760839720.py#52\u001b\\\u001b[2m52\u001b[0m\u001b]8;;\u001b\\\n"
      ]
     },
     "metadata": {},
     "output_type": "display_data"
    },
    {
     "data": {
      "text/html": [
       "<pre style=\"white-space:pre;overflow-x:auto;line-height:normal;font-family:Menlo,'DejaVu Sans Mono',consolas,'Courier New',monospace\"><span style=\"color: #7fbfbf; text-decoration-color: #7fbfbf\">           </span>Case details JAMES PORTER <span style=\"color: #008080; text-decoration-color: #008080; font-weight: bold\">2004</span> Exceeded Posted Speed Limit <span style=\"font-weight: bold\">(</span><span style=\"color: #008080; text-decoration-color: #008080; font-weight: bold\">6</span>-<span style=\"color: #008080; text-decoration-color: #008080; font-weight: bold\">10</span> Mph Over<span style=\"font-weight: bold\">)</span>              <a href=\"file:///var/folders/v0/wzkm0bb11x1b_27rl_172pdr0000gp/T/ipykernel_78208/2760839720.py\" target=\"_blank\"><span style=\"color: #7f7f7f; text-decoration-color: #7f7f7f\">2760839720.py</span></a><span style=\"color: #7f7f7f; text-decoration-color: #7f7f7f\">:</span><a href=\"file:///var/folders/v0/wzkm0bb11x1b_27rl_172pdr0000gp/T/ipykernel_78208/2760839720.py#55\" target=\"_blank\"><span style=\"color: #7f7f7f; text-decoration-color: #7f7f7f\">55</span></a>\n",
       "</pre>\n"
      ],
      "text/plain": [
       "\u001b[2;36m          \u001b[0m\u001b[2;36m \u001b[0mCase details JAMES PORTER \u001b[1;36m2004\u001b[0m Exceeded Posted Speed Limit \u001b[1m(\u001b[0m\u001b[1;36m6\u001b[0m-\u001b[1;36m10\u001b[0m Mph Over\u001b[1m)\u001b[0m              \u001b]8;id=164990;file:///var/folders/v0/wzkm0bb11x1b_27rl_172pdr0000gp/T/ipykernel_78208/2760839720.py\u001b\\\u001b[2m2760839720.py\u001b[0m\u001b]8;;\u001b\\\u001b[2m:\u001b[0m\u001b]8;id=147598;file:///var/folders/v0/wzkm0bb11x1b_27rl_172pdr0000gp/T/ipykernel_78208/2760839720.py#55\u001b\\\u001b[2m55\u001b[0m\u001b]8;;\u001b\\\n"
      ]
     },
     "metadata": {},
     "output_type": "display_data"
    },
    {
     "data": {
      "text/html": [
       "<pre style=\"white-space:pre;overflow-x:auto;line-height:normal;font-family:Menlo,'DejaVu Sans Mono',consolas,'Courier New',monospace\"><span style=\"color: #7fbfbf; text-decoration-color: #7fbfbf\">           </span>Case <span style=\"color: #008080; text-decoration-color: #008080; font-weight: bold\">230370562</span> already exists with status contacted                                     <a href=\"file:///var/folders/v0/wzkm0bb11x1b_27rl_172pdr0000gp/T/ipykernel_78208/2760839720.py\" target=\"_blank\"><span style=\"color: #7f7f7f; text-decoration-color: #7f7f7f\">2760839720.py</span></a><span style=\"color: #7f7f7f; text-decoration-color: #7f7f7f\">:</span><a href=\"file:///var/folders/v0/wzkm0bb11x1b_27rl_172pdr0000gp/T/ipykernel_78208/2760839720.py#52\" target=\"_blank\"><span style=\"color: #7f7f7f; text-decoration-color: #7f7f7f\">52</span></a>\n",
       "</pre>\n"
      ],
      "text/plain": [
       "\u001b[2;36m          \u001b[0m\u001b[2;36m \u001b[0mCase \u001b[1;36m230370562\u001b[0m already exists with status contacted                                     \u001b]8;id=889601;file:///var/folders/v0/wzkm0bb11x1b_27rl_172pdr0000gp/T/ipykernel_78208/2760839720.py\u001b\\\u001b[2m2760839720.py\u001b[0m\u001b]8;;\u001b\\\u001b[2m:\u001b[0m\u001b]8;id=709816;file:///var/folders/v0/wzkm0bb11x1b_27rl_172pdr0000gp/T/ipykernel_78208/2760839720.py#52\u001b\\\u001b[2m52\u001b[0m\u001b]8;;\u001b\\\n"
      ]
     },
     "metadata": {},
     "output_type": "display_data"
    },
    {
     "data": {
      "text/html": [
       "<pre style=\"white-space:pre;overflow-x:auto;line-height:normal;font-family:Menlo,'DejaVu Sans Mono',consolas,'Courier New',monospace\"><span style=\"color: #7fbfbf; text-decoration-color: #7fbfbf\">           </span>Case details JAMES PORTER <span style=\"color: #008080; text-decoration-color: #008080; font-weight: bold\">2004</span> Expired Driver's License                                 <a href=\"file:///var/folders/v0/wzkm0bb11x1b_27rl_172pdr0000gp/T/ipykernel_78208/2760839720.py\" target=\"_blank\"><span style=\"color: #7f7f7f; text-decoration-color: #7f7f7f\">2760839720.py</span></a><span style=\"color: #7f7f7f; text-decoration-color: #7f7f7f\">:</span><a href=\"file:///var/folders/v0/wzkm0bb11x1b_27rl_172pdr0000gp/T/ipykernel_78208/2760839720.py#55\" target=\"_blank\"><span style=\"color: #7f7f7f; text-decoration-color: #7f7f7f\">55</span></a>\n",
       "</pre>\n"
      ],
      "text/plain": [
       "\u001b[2;36m          \u001b[0m\u001b[2;36m \u001b[0mCase details JAMES PORTER \u001b[1;36m2004\u001b[0m Expired Driver's License                                 \u001b]8;id=754831;file:///var/folders/v0/wzkm0bb11x1b_27rl_172pdr0000gp/T/ipykernel_78208/2760839720.py\u001b\\\u001b[2m2760839720.py\u001b[0m\u001b]8;;\u001b\\\u001b[2m:\u001b[0m\u001b]8;id=240523;file:///var/folders/v0/wzkm0bb11x1b_27rl_172pdr0000gp/T/ipykernel_78208/2760839720.py#55\u001b\\\u001b[2m55\u001b[0m\u001b]8;;\u001b\\\n"
      ]
     },
     "metadata": {},
     "output_type": "display_data"
    },
    {
     "data": {
      "text/html": [
       "<pre style=\"white-space:pre;overflow-x:auto;line-height:normal;font-family:Menlo,'DejaVu Sans Mono',consolas,'Courier New',monospace\"><span style=\"color: #7fbfbf; text-decoration-color: #7fbfbf\">           </span>Case <span style=\"color: #008080; text-decoration-color: #008080; font-weight: bold\">240061789</span> already exists with status contacted                                     <a href=\"file:///var/folders/v0/wzkm0bb11x1b_27rl_172pdr0000gp/T/ipykernel_78208/2760839720.py\" target=\"_blank\"><span style=\"color: #7f7f7f; text-decoration-color: #7f7f7f\">2760839720.py</span></a><span style=\"color: #7f7f7f; text-decoration-color: #7f7f7f\">:</span><a href=\"file:///var/folders/v0/wzkm0bb11x1b_27rl_172pdr0000gp/T/ipykernel_78208/2760839720.py#52\" target=\"_blank\"><span style=\"color: #7f7f7f; text-decoration-color: #7f7f7f\">52</span></a>\n",
       "</pre>\n"
      ],
      "text/plain": [
       "\u001b[2;36m          \u001b[0m\u001b[2;36m \u001b[0mCase \u001b[1;36m240061789\u001b[0m already exists with status contacted                                     \u001b]8;id=881092;file:///var/folders/v0/wzkm0bb11x1b_27rl_172pdr0000gp/T/ipykernel_78208/2760839720.py\u001b\\\u001b[2m2760839720.py\u001b[0m\u001b]8;;\u001b\\\u001b[2m:\u001b[0m\u001b]8;id=287763;file:///var/folders/v0/wzkm0bb11x1b_27rl_172pdr0000gp/T/ipykernel_78208/2760839720.py#52\u001b\\\u001b[2m52\u001b[0m\u001b]8;;\u001b\\\n"
      ]
     },
     "metadata": {},
     "output_type": "display_data"
    },
    {
     "data": {
      "text/html": [
       "<pre style=\"white-space:pre;overflow-x:auto;line-height:normal;font-family:Menlo,'DejaVu Sans Mono',consolas,'Courier New',monospace\"><span style=\"color: #7fbfbf; text-decoration-color: #7fbfbf\">           </span>Case details JAMES PORTER <span style=\"color: #008080; text-decoration-color: #008080; font-weight: bold\">2004</span> Exceeded Posted Speed Limit <span style=\"font-weight: bold\">(</span>Exceeded By <span style=\"color: #008080; text-decoration-color: #008080; font-weight: bold\">16</span> - <span style=\"color: #008080; text-decoration-color: #008080; font-weight: bold\">19</span> Mph<span style=\"font-weight: bold\">)</span>    <a href=\"file:///var/folders/v0/wzkm0bb11x1b_27rl_172pdr0000gp/T/ipykernel_78208/2760839720.py\" target=\"_blank\"><span style=\"color: #7f7f7f; text-decoration-color: #7f7f7f\">2760839720.py</span></a><span style=\"color: #7f7f7f; text-decoration-color: #7f7f7f\">:</span><a href=\"file:///var/folders/v0/wzkm0bb11x1b_27rl_172pdr0000gp/T/ipykernel_78208/2760839720.py#55\" target=\"_blank\"><span style=\"color: #7f7f7f; text-decoration-color: #7f7f7f\">55</span></a>\n",
       "</pre>\n"
      ],
      "text/plain": [
       "\u001b[2;36m          \u001b[0m\u001b[2;36m \u001b[0mCase details JAMES PORTER \u001b[1;36m2004\u001b[0m Exceeded Posted Speed Limit \u001b[1m(\u001b[0mExceeded By \u001b[1;36m16\u001b[0m - \u001b[1;36m19\u001b[0m Mph\u001b[1m)\u001b[0m    \u001b]8;id=739718;file:///var/folders/v0/wzkm0bb11x1b_27rl_172pdr0000gp/T/ipykernel_78208/2760839720.py\u001b\\\u001b[2m2760839720.py\u001b[0m\u001b]8;;\u001b\\\u001b[2m:\u001b[0m\u001b]8;id=845790;file:///var/folders/v0/wzkm0bb11x1b_27rl_172pdr0000gp/T/ipykernel_78208/2760839720.py#55\u001b\\\u001b[2m55\u001b[0m\u001b]8;;\u001b\\\n"
      ]
     },
     "metadata": {},
     "output_type": "display_data"
    },
    {
     "data": {
      "text/html": [
       "<pre style=\"white-space:pre;overflow-x:auto;line-height:normal;font-family:Menlo,'DejaVu Sans Mono',consolas,'Courier New',monospace\"><span style=\"color: #7fbfbf; text-decoration-color: #7fbfbf\">           </span>Searching for OMAR LETFORD <span style=\"color: #008080; text-decoration-color: #008080; font-weight: bold\">1980.0</span> VALLEY PARK MO <span style=\"color: #008080; text-decoration-color: #008080; font-weight: bold\">63088</span> <span style=\"color: #008080; text-decoration-color: #008080; font-weight: bold\">280</span> WYNSTAY AVE                  <a href=\"file:///var/folders/v0/wzkm0bb11x1b_27rl_172pdr0000gp/T/ipykernel_78208/2760839720.py\" target=\"_blank\"><span style=\"color: #7f7f7f; text-decoration-color: #7f7f7f\">2760839720.py</span></a><span style=\"color: #7f7f7f; text-decoration-color: #7f7f7f\">:</span><a href=\"file:///var/folders/v0/wzkm0bb11x1b_27rl_172pdr0000gp/T/ipykernel_78208/2760839720.py#24\" target=\"_blank\"><span style=\"color: #7f7f7f; text-decoration-color: #7f7f7f\">24</span></a>\n",
       "</pre>\n"
      ],
      "text/plain": [
       "\u001b[2;36m          \u001b[0m\u001b[2;36m \u001b[0mSearching for OMAR LETFORD \u001b[1;36m1980.0\u001b[0m VALLEY PARK MO \u001b[1;36m63088\u001b[0m \u001b[1;36m280\u001b[0m WYNSTAY AVE                  \u001b]8;id=317698;file:///var/folders/v0/wzkm0bb11x1b_27rl_172pdr0000gp/T/ipykernel_78208/2760839720.py\u001b\\\u001b[2m2760839720.py\u001b[0m\u001b]8;;\u001b\\\u001b[2m:\u001b[0m\u001b]8;id=87508;file:///var/folders/v0/wzkm0bb11x1b_27rl_172pdr0000gp/T/ipykernel_78208/2760839720.py#24\u001b\\\u001b[2m24\u001b[0m\u001b]8;;\u001b\\\n"
      ]
     },
     "metadata": {},
     "output_type": "display_data"
    },
    {
     "data": {
      "text/html": [
       "<pre style=\"white-space:pre;overflow-x:auto;line-height:normal;font-family:Menlo,'DejaVu Sans Mono',consolas,'Courier New',monospace\"><span style=\"color: #7fbfbf; text-decoration-color: #7fbfbf\">[14:57:28] </span>Case <span style=\"color: #008080; text-decoration-color: #008080; font-weight: bold\">231032365</span> already exists with status contacted                                     <a href=\"file:///var/folders/v0/wzkm0bb11x1b_27rl_172pdr0000gp/T/ipykernel_78208/2760839720.py\" target=\"_blank\"><span style=\"color: #7f7f7f; text-decoration-color: #7f7f7f\">2760839720.py</span></a><span style=\"color: #7f7f7f; text-decoration-color: #7f7f7f\">:</span><a href=\"file:///var/folders/v0/wzkm0bb11x1b_27rl_172pdr0000gp/T/ipykernel_78208/2760839720.py#52\" target=\"_blank\"><span style=\"color: #7f7f7f; text-decoration-color: #7f7f7f\">52</span></a>\n",
       "</pre>\n"
      ],
      "text/plain": [
       "\u001b[2;36m[14:57:28]\u001b[0m\u001b[2;36m \u001b[0mCase \u001b[1;36m231032365\u001b[0m already exists with status contacted                                     \u001b]8;id=160240;file:///var/folders/v0/wzkm0bb11x1b_27rl_172pdr0000gp/T/ipykernel_78208/2760839720.py\u001b\\\u001b[2m2760839720.py\u001b[0m\u001b]8;;\u001b\\\u001b[2m:\u001b[0m\u001b]8;id=943323;file:///var/folders/v0/wzkm0bb11x1b_27rl_172pdr0000gp/T/ipykernel_78208/2760839720.py#52\u001b\\\u001b[2m52\u001b[0m\u001b]8;;\u001b\\\n"
      ]
     },
     "metadata": {},
     "output_type": "display_data"
    },
    {
     "data": {
      "text/html": [
       "<pre style=\"white-space:pre;overflow-x:auto;line-height:normal;font-family:Menlo,'DejaVu Sans Mono',consolas,'Courier New',monospace\"><span style=\"color: #7fbfbf; text-decoration-color: #7fbfbf\">           </span>Case details OMAR LETFORD <span style=\"color: #008080; text-decoration-color: #008080; font-weight: bold\">1980</span> Exceeded Posted Speed Limit <span style=\"font-weight: bold\">(</span><span style=\"color: #008080; text-decoration-color: #008080; font-weight: bold\">11</span>-<span style=\"color: #008080; text-decoration-color: #008080; font-weight: bold\">15</span> Mph Over<span style=\"font-weight: bold\">)</span>             <a href=\"file:///var/folders/v0/wzkm0bb11x1b_27rl_172pdr0000gp/T/ipykernel_78208/2760839720.py\" target=\"_blank\"><span style=\"color: #7f7f7f; text-decoration-color: #7f7f7f\">2760839720.py</span></a><span style=\"color: #7f7f7f; text-decoration-color: #7f7f7f\">:</span><a href=\"file:///var/folders/v0/wzkm0bb11x1b_27rl_172pdr0000gp/T/ipykernel_78208/2760839720.py#55\" target=\"_blank\"><span style=\"color: #7f7f7f; text-decoration-color: #7f7f7f\">55</span></a>\n",
       "</pre>\n"
      ],
      "text/plain": [
       "\u001b[2;36m          \u001b[0m\u001b[2;36m \u001b[0mCase details OMAR LETFORD \u001b[1;36m1980\u001b[0m Exceeded Posted Speed Limit \u001b[1m(\u001b[0m\u001b[1;36m11\u001b[0m-\u001b[1;36m15\u001b[0m Mph Over\u001b[1m)\u001b[0m             \u001b]8;id=283081;file:///var/folders/v0/wzkm0bb11x1b_27rl_172pdr0000gp/T/ipykernel_78208/2760839720.py\u001b\\\u001b[2m2760839720.py\u001b[0m\u001b]8;;\u001b\\\u001b[2m:\u001b[0m\u001b]8;id=914731;file:///var/folders/v0/wzkm0bb11x1b_27rl_172pdr0000gp/T/ipykernel_78208/2760839720.py#55\u001b\\\u001b[2m55\u001b[0m\u001b]8;;\u001b\\\n"
      ]
     },
     "metadata": {},
     "output_type": "display_data"
    },
    {
     "data": {
      "text/html": [
       "<pre style=\"white-space:pre;overflow-x:auto;line-height:normal;font-family:Menlo,'DejaVu Sans Mono',consolas,'Courier New',monospace\"><span style=\"color: #7fbfbf; text-decoration-color: #7fbfbf\">           </span>Searching for RENELL STEWART <span style=\"color: #008080; text-decoration-color: #008080; font-weight: bold\">2003.0</span> FLORISSANT MO <span style=\"color: #008080; text-decoration-color: #008080; font-weight: bold\">63033</span> <span style=\"color: #008080; text-decoration-color: #008080; font-weight: bold\">6786</span> PARC CHARLENE DR           <a href=\"file:///var/folders/v0/wzkm0bb11x1b_27rl_172pdr0000gp/T/ipykernel_78208/2760839720.py\" target=\"_blank\"><span style=\"color: #7f7f7f; text-decoration-color: #7f7f7f\">2760839720.py</span></a><span style=\"color: #7f7f7f; text-decoration-color: #7f7f7f\">:</span><a href=\"file:///var/folders/v0/wzkm0bb11x1b_27rl_172pdr0000gp/T/ipykernel_78208/2760839720.py#24\" target=\"_blank\"><span style=\"color: #7f7f7f; text-decoration-color: #7f7f7f\">24</span></a>\n",
       "</pre>\n"
      ],
      "text/plain": [
       "\u001b[2;36m          \u001b[0m\u001b[2;36m \u001b[0mSearching for RENELL STEWART \u001b[1;36m2003.0\u001b[0m FLORISSANT MO \u001b[1;36m63033\u001b[0m \u001b[1;36m6786\u001b[0m PARC CHARLENE DR           \u001b]8;id=11225;file:///var/folders/v0/wzkm0bb11x1b_27rl_172pdr0000gp/T/ipykernel_78208/2760839720.py\u001b\\\u001b[2m2760839720.py\u001b[0m\u001b]8;;\u001b\\\u001b[2m:\u001b[0m\u001b]8;id=395617;file:///var/folders/v0/wzkm0bb11x1b_27rl_172pdr0000gp/T/ipykernel_78208/2760839720.py#24\u001b\\\u001b[2m24\u001b[0m\u001b]8;;\u001b\\\n"
      ]
     },
     "metadata": {},
     "output_type": "display_data"
    },
    {
     "data": {
      "text/html": [
       "<pre style=\"white-space:pre;overflow-x:auto;line-height:normal;font-family:Menlo,'DejaVu Sans Mono',consolas,'Courier New',monospace\"><span style=\"color: #7fbfbf; text-decoration-color: #7fbfbf\">[14:57:29] </span>Case <span style=\"color: #008080; text-decoration-color: #008080; font-weight: bold\">231032408</span> already exists with status contacted                                     <a href=\"file:///var/folders/v0/wzkm0bb11x1b_27rl_172pdr0000gp/T/ipykernel_78208/2760839720.py\" target=\"_blank\"><span style=\"color: #7f7f7f; text-decoration-color: #7f7f7f\">2760839720.py</span></a><span style=\"color: #7f7f7f; text-decoration-color: #7f7f7f\">:</span><a href=\"file:///var/folders/v0/wzkm0bb11x1b_27rl_172pdr0000gp/T/ipykernel_78208/2760839720.py#52\" target=\"_blank\"><span style=\"color: #7f7f7f; text-decoration-color: #7f7f7f\">52</span></a>\n",
       "</pre>\n"
      ],
      "text/plain": [
       "\u001b[2;36m[14:57:29]\u001b[0m\u001b[2;36m \u001b[0mCase \u001b[1;36m231032408\u001b[0m already exists with status contacted                                     \u001b]8;id=420917;file:///var/folders/v0/wzkm0bb11x1b_27rl_172pdr0000gp/T/ipykernel_78208/2760839720.py\u001b\\\u001b[2m2760839720.py\u001b[0m\u001b]8;;\u001b\\\u001b[2m:\u001b[0m\u001b]8;id=966373;file:///var/folders/v0/wzkm0bb11x1b_27rl_172pdr0000gp/T/ipykernel_78208/2760839720.py#52\u001b\\\u001b[2m52\u001b[0m\u001b]8;;\u001b\\\n"
      ]
     },
     "metadata": {},
     "output_type": "display_data"
    },
    {
     "data": {
      "text/html": [
       "<pre style=\"white-space:pre;overflow-x:auto;line-height:normal;font-family:Menlo,'DejaVu Sans Mono',consolas,'Courier New',monospace\"><span style=\"color: #7fbfbf; text-decoration-color: #7fbfbf\">           </span>Case details RENELL STEWART <span style=\"color: #008080; text-decoration-color: #008080; font-weight: bold\">2003</span> Exceeded Posted Speed Limit <span style=\"font-weight: bold\">(</span><span style=\"color: #008080; text-decoration-color: #008080; font-weight: bold\">6</span>-<span style=\"color: #008080; text-decoration-color: #008080; font-weight: bold\">10</span> Mph Over<span style=\"font-weight: bold\">)</span>            <a href=\"file:///var/folders/v0/wzkm0bb11x1b_27rl_172pdr0000gp/T/ipykernel_78208/2760839720.py\" target=\"_blank\"><span style=\"color: #7f7f7f; text-decoration-color: #7f7f7f\">2760839720.py</span></a><span style=\"color: #7f7f7f; text-decoration-color: #7f7f7f\">:</span><a href=\"file:///var/folders/v0/wzkm0bb11x1b_27rl_172pdr0000gp/T/ipykernel_78208/2760839720.py#55\" target=\"_blank\"><span style=\"color: #7f7f7f; text-decoration-color: #7f7f7f\">55</span></a>\n",
       "</pre>\n"
      ],
      "text/plain": [
       "\u001b[2;36m          \u001b[0m\u001b[2;36m \u001b[0mCase details RENELL STEWART \u001b[1;36m2003\u001b[0m Exceeded Posted Speed Limit \u001b[1m(\u001b[0m\u001b[1;36m6\u001b[0m-\u001b[1;36m10\u001b[0m Mph Over\u001b[1m)\u001b[0m            \u001b]8;id=68079;file:///var/folders/v0/wzkm0bb11x1b_27rl_172pdr0000gp/T/ipykernel_78208/2760839720.py\u001b\\\u001b[2m2760839720.py\u001b[0m\u001b]8;;\u001b\\\u001b[2m:\u001b[0m\u001b]8;id=156880;file:///var/folders/v0/wzkm0bb11x1b_27rl_172pdr0000gp/T/ipykernel_78208/2760839720.py#55\u001b\\\u001b[2m55\u001b[0m\u001b]8;;\u001b\\\n"
      ]
     },
     "metadata": {},
     "output_type": "display_data"
    },
    {
     "data": {
      "text/html": [
       "<pre style=\"white-space:pre;overflow-x:auto;line-height:normal;font-family:Menlo,'DejaVu Sans Mono',consolas,'Courier New',monospace\"><span style=\"color: #7fbfbf; text-decoration-color: #7fbfbf\">           </span>Searching for KAMERON CAMPBELL <span style=\"color: #008080; text-decoration-color: #008080; font-weight: bold\">2000.0</span> ST LOUIS MO <span style=\"color: #008080; text-decoration-color: #008080; font-weight: bold\">63107</span> <span style=\"color: #008080; text-decoration-color: #008080; font-weight: bold\">1521</span> PENROSE                    <a href=\"file:///var/folders/v0/wzkm0bb11x1b_27rl_172pdr0000gp/T/ipykernel_78208/2760839720.py\" target=\"_blank\"><span style=\"color: #7f7f7f; text-decoration-color: #7f7f7f\">2760839720.py</span></a><span style=\"color: #7f7f7f; text-decoration-color: #7f7f7f\">:</span><a href=\"file:///var/folders/v0/wzkm0bb11x1b_27rl_172pdr0000gp/T/ipykernel_78208/2760839720.py#24\" target=\"_blank\"><span style=\"color: #7f7f7f; text-decoration-color: #7f7f7f\">24</span></a>\n",
       "</pre>\n"
      ],
      "text/plain": [
       "\u001b[2;36m          \u001b[0m\u001b[2;36m \u001b[0mSearching for KAMERON CAMPBELL \u001b[1;36m2000.0\u001b[0m ST LOUIS MO \u001b[1;36m63107\u001b[0m \u001b[1;36m1521\u001b[0m PENROSE                    \u001b]8;id=815967;file:///var/folders/v0/wzkm0bb11x1b_27rl_172pdr0000gp/T/ipykernel_78208/2760839720.py\u001b\\\u001b[2m2760839720.py\u001b[0m\u001b]8;;\u001b\\\u001b[2m:\u001b[0m\u001b]8;id=2791;file:///var/folders/v0/wzkm0bb11x1b_27rl_172pdr0000gp/T/ipykernel_78208/2760839720.py#24\u001b\\\u001b[2m24\u001b[0m\u001b]8;;\u001b\\\n"
      ]
     },
     "metadata": {},
     "output_type": "display_data"
    },
    {
     "data": {
      "text/html": [
       "<pre style=\"white-space:pre;overflow-x:auto;line-height:normal;font-family:Menlo,'DejaVu Sans Mono',consolas,'Courier New',monospace\"><span style=\"color: #7fbfbf; text-decoration-color: #7fbfbf\">           </span>Case <span style=\"color: #008080; text-decoration-color: #008080; font-weight: bold\">220469049</span> already exists with status contacted                                     <a href=\"file:///var/folders/v0/wzkm0bb11x1b_27rl_172pdr0000gp/T/ipykernel_78208/2760839720.py\" target=\"_blank\"><span style=\"color: #7f7f7f; text-decoration-color: #7f7f7f\">2760839720.py</span></a><span style=\"color: #7f7f7f; text-decoration-color: #7f7f7f\">:</span><a href=\"file:///var/folders/v0/wzkm0bb11x1b_27rl_172pdr0000gp/T/ipykernel_78208/2760839720.py#52\" target=\"_blank\"><span style=\"color: #7f7f7f; text-decoration-color: #7f7f7f\">52</span></a>\n",
       "</pre>\n"
      ],
      "text/plain": [
       "\u001b[2;36m          \u001b[0m\u001b[2;36m \u001b[0mCase \u001b[1;36m220469049\u001b[0m already exists with status contacted                                     \u001b]8;id=851157;file:///var/folders/v0/wzkm0bb11x1b_27rl_172pdr0000gp/T/ipykernel_78208/2760839720.py\u001b\\\u001b[2m2760839720.py\u001b[0m\u001b]8;;\u001b\\\u001b[2m:\u001b[0m\u001b]8;id=9008;file:///var/folders/v0/wzkm0bb11x1b_27rl_172pdr0000gp/T/ipykernel_78208/2760839720.py#52\u001b\\\u001b[2m52\u001b[0m\u001b]8;;\u001b\\\n"
      ]
     },
     "metadata": {},
     "output_type": "display_data"
    },
    {
     "data": {
      "text/html": [
       "<pre style=\"white-space:pre;overflow-x:auto;line-height:normal;font-family:Menlo,'DejaVu Sans Mono',consolas,'Courier New',monospace\"><span style=\"color: #7fbfbf; text-decoration-color: #7fbfbf\">           </span>Case details KAMERON CAMPBELL <span style=\"color: #008080; text-decoration-color: #008080; font-weight: bold\">2000</span> Exceeded Posted Speed Limit <span style=\"font-weight: bold\">(</span><span style=\"color: #008080; text-decoration-color: #008080; font-weight: bold\">20</span>-<span style=\"color: #008080; text-decoration-color: #008080; font-weight: bold\">25</span> Mph Over<span style=\"font-weight: bold\">)</span>         <a href=\"file:///var/folders/v0/wzkm0bb11x1b_27rl_172pdr0000gp/T/ipykernel_78208/2760839720.py\" target=\"_blank\"><span style=\"color: #7f7f7f; text-decoration-color: #7f7f7f\">2760839720.py</span></a><span style=\"color: #7f7f7f; text-decoration-color: #7f7f7f\">:</span><a href=\"file:///var/folders/v0/wzkm0bb11x1b_27rl_172pdr0000gp/T/ipykernel_78208/2760839720.py#55\" target=\"_blank\"><span style=\"color: #7f7f7f; text-decoration-color: #7f7f7f\">55</span></a>\n",
       "</pre>\n"
      ],
      "text/plain": [
       "\u001b[2;36m          \u001b[0m\u001b[2;36m \u001b[0mCase details KAMERON CAMPBELL \u001b[1;36m2000\u001b[0m Exceeded Posted Speed Limit \u001b[1m(\u001b[0m\u001b[1;36m20\u001b[0m-\u001b[1;36m25\u001b[0m Mph Over\u001b[1m)\u001b[0m         \u001b]8;id=46374;file:///var/folders/v0/wzkm0bb11x1b_27rl_172pdr0000gp/T/ipykernel_78208/2760839720.py\u001b\\\u001b[2m2760839720.py\u001b[0m\u001b]8;;\u001b\\\u001b[2m:\u001b[0m\u001b]8;id=358467;file:///var/folders/v0/wzkm0bb11x1b_27rl_172pdr0000gp/T/ipykernel_78208/2760839720.py#55\u001b\\\u001b[2m55\u001b[0m\u001b]8;;\u001b\\\n"
      ]
     },
     "metadata": {},
     "output_type": "display_data"
    },
    {
     "data": {
      "text/html": [
       "<pre style=\"white-space:pre;overflow-x:auto;line-height:normal;font-family:Menlo,'DejaVu Sans Mono',consolas,'Courier New',monospace\"><span style=\"color: #7fbfbf; text-decoration-color: #7fbfbf\">           </span>Case <span style=\"color: #008080; text-decoration-color: #008080; font-weight: bold\">240016097</span> already exists with status contacted                                     <a href=\"file:///var/folders/v0/wzkm0bb11x1b_27rl_172pdr0000gp/T/ipykernel_78208/2760839720.py\" target=\"_blank\"><span style=\"color: #7f7f7f; text-decoration-color: #7f7f7f\">2760839720.py</span></a><span style=\"color: #7f7f7f; text-decoration-color: #7f7f7f\">:</span><a href=\"file:///var/folders/v0/wzkm0bb11x1b_27rl_172pdr0000gp/T/ipykernel_78208/2760839720.py#52\" target=\"_blank\"><span style=\"color: #7f7f7f; text-decoration-color: #7f7f7f\">52</span></a>\n",
       "</pre>\n"
      ],
      "text/plain": [
       "\u001b[2;36m          \u001b[0m\u001b[2;36m \u001b[0mCase \u001b[1;36m240016097\u001b[0m already exists with status contacted                                     \u001b]8;id=428683;file:///var/folders/v0/wzkm0bb11x1b_27rl_172pdr0000gp/T/ipykernel_78208/2760839720.py\u001b\\\u001b[2m2760839720.py\u001b[0m\u001b]8;;\u001b\\\u001b[2m:\u001b[0m\u001b]8;id=644963;file:///var/folders/v0/wzkm0bb11x1b_27rl_172pdr0000gp/T/ipykernel_78208/2760839720.py#52\u001b\\\u001b[2m52\u001b[0m\u001b]8;;\u001b\\\n"
      ]
     },
     "metadata": {},
     "output_type": "display_data"
    },
    {
     "data": {
      "text/html": [
       "<pre style=\"white-space:pre;overflow-x:auto;line-height:normal;font-family:Menlo,'DejaVu Sans Mono',consolas,'Courier New',monospace\"><span style=\"color: #7fbfbf; text-decoration-color: #7fbfbf\">           </span>Case details KAMERON CAMPBELL <span style=\"color: #008080; text-decoration-color: #008080; font-weight: bold\">2000</span> Fail To Obey Traffic Control Devices                 <a href=\"file:///var/folders/v0/wzkm0bb11x1b_27rl_172pdr0000gp/T/ipykernel_78208/2760839720.py\" target=\"_blank\"><span style=\"color: #7f7f7f; text-decoration-color: #7f7f7f\">2760839720.py</span></a><span style=\"color: #7f7f7f; text-decoration-color: #7f7f7f\">:</span><a href=\"file:///var/folders/v0/wzkm0bb11x1b_27rl_172pdr0000gp/T/ipykernel_78208/2760839720.py#55\" target=\"_blank\"><span style=\"color: #7f7f7f; text-decoration-color: #7f7f7f\">55</span></a>\n",
       "</pre>\n"
      ],
      "text/plain": [
       "\u001b[2;36m          \u001b[0m\u001b[2;36m \u001b[0mCase details KAMERON CAMPBELL \u001b[1;36m2000\u001b[0m Fail To Obey Traffic Control Devices                 \u001b]8;id=93988;file:///var/folders/v0/wzkm0bb11x1b_27rl_172pdr0000gp/T/ipykernel_78208/2760839720.py\u001b\\\u001b[2m2760839720.py\u001b[0m\u001b]8;;\u001b\\\u001b[2m:\u001b[0m\u001b]8;id=868451;file:///var/folders/v0/wzkm0bb11x1b_27rl_172pdr0000gp/T/ipykernel_78208/2760839720.py#55\u001b\\\u001b[2m55\u001b[0m\u001b]8;;\u001b\\\n"
      ]
     },
     "metadata": {},
     "output_type": "display_data"
    },
    {
     "data": {
      "text/html": [
       "<pre style=\"white-space:pre;overflow-x:auto;line-height:normal;font-family:Menlo,'DejaVu Sans Mono',consolas,'Courier New',monospace\"><span style=\"color: #7fbfbf; text-decoration-color: #7fbfbf\">           </span>Case WILKINSON__GREGORY_T_26_06_07_2024 has no address                                  <a href=\"file:///var/folders/v0/wzkm0bb11x1b_27rl_172pdr0000gp/T/ipykernel_78208/2760839720.py\" target=\"_blank\"><span style=\"color: #7f7f7f; text-decoration-color: #7f7f7f\">2760839720.py</span></a><span style=\"color: #7f7f7f; text-decoration-color: #7f7f7f\">:</span><a href=\"file:///var/folders/v0/wzkm0bb11x1b_27rl_172pdr0000gp/T/ipykernel_78208/2760839720.py#20\" target=\"_blank\"><span style=\"color: #7f7f7f; text-decoration-color: #7f7f7f\">20</span></a>\n",
       "</pre>\n"
      ],
      "text/plain": [
       "\u001b[2;36m          \u001b[0m\u001b[2;36m \u001b[0mCase WILKINSON__GREGORY_T_26_06_07_2024 has no address                                  \u001b]8;id=251672;file:///var/folders/v0/wzkm0bb11x1b_27rl_172pdr0000gp/T/ipykernel_78208/2760839720.py\u001b\\\u001b[2m2760839720.py\u001b[0m\u001b]8;;\u001b\\\u001b[2m:\u001b[0m\u001b]8;id=705553;file:///var/folders/v0/wzkm0bb11x1b_27rl_172pdr0000gp/T/ipykernel_78208/2760839720.py#20\u001b\\\u001b[2m20\u001b[0m\u001b]8;;\u001b\\\n"
      ]
     },
     "metadata": {},
     "output_type": "display_data"
    },
    {
     "data": {
      "text/html": [
       "<pre style=\"white-space:pre;overflow-x:auto;line-height:normal;font-family:Menlo,'DejaVu Sans Mono',consolas,'Courier New',monospace\"><span style=\"color: #7fbfbf; text-decoration-color: #7fbfbf\">[14:57:30] </span>Case WARREN__CHAD_C_40_06_07_2024 has no address                                        <a href=\"file:///var/folders/v0/wzkm0bb11x1b_27rl_172pdr0000gp/T/ipykernel_78208/2760839720.py\" target=\"_blank\"><span style=\"color: #7f7f7f; text-decoration-color: #7f7f7f\">2760839720.py</span></a><span style=\"color: #7f7f7f; text-decoration-color: #7f7f7f\">:</span><a href=\"file:///var/folders/v0/wzkm0bb11x1b_27rl_172pdr0000gp/T/ipykernel_78208/2760839720.py#20\" target=\"_blank\"><span style=\"color: #7f7f7f; text-decoration-color: #7f7f7f\">20</span></a>\n",
       "</pre>\n"
      ],
      "text/plain": [
       "\u001b[2;36m[14:57:30]\u001b[0m\u001b[2;36m \u001b[0mCase WARREN__CHAD_C_40_06_07_2024 has no address                                        \u001b]8;id=23645;file:///var/folders/v0/wzkm0bb11x1b_27rl_172pdr0000gp/T/ipykernel_78208/2760839720.py\u001b\\\u001b[2m2760839720.py\u001b[0m\u001b]8;;\u001b\\\u001b[2m:\u001b[0m\u001b]8;id=964516;file:///var/folders/v0/wzkm0bb11x1b_27rl_172pdr0000gp/T/ipykernel_78208/2760839720.py#20\u001b\\\u001b[2m20\u001b[0m\u001b]8;;\u001b\\\n"
      ]
     },
     "metadata": {},
     "output_type": "display_data"
    },
    {
     "data": {
      "text/html": [
       "<pre style=\"white-space:pre;overflow-x:auto;line-height:normal;font-family:Menlo,'DejaVu Sans Mono',consolas,'Courier New',monospace\"><span style=\"color: #7fbfbf; text-decoration-color: #7fbfbf\">           </span>Case UKAU__IMMY_JOE_27_06_07_2024 has no address                                        <a href=\"file:///var/folders/v0/wzkm0bb11x1b_27rl_172pdr0000gp/T/ipykernel_78208/2760839720.py\" target=\"_blank\"><span style=\"color: #7f7f7f; text-decoration-color: #7f7f7f\">2760839720.py</span></a><span style=\"color: #7f7f7f; text-decoration-color: #7f7f7f\">:</span><a href=\"file:///var/folders/v0/wzkm0bb11x1b_27rl_172pdr0000gp/T/ipykernel_78208/2760839720.py#20\" target=\"_blank\"><span style=\"color: #7f7f7f; text-decoration-color: #7f7f7f\">20</span></a>\n",
       "</pre>\n"
      ],
      "text/plain": [
       "\u001b[2;36m          \u001b[0m\u001b[2;36m \u001b[0mCase UKAU__IMMY_JOE_27_06_07_2024 has no address                                        \u001b]8;id=835871;file:///var/folders/v0/wzkm0bb11x1b_27rl_172pdr0000gp/T/ipykernel_78208/2760839720.py\u001b\\\u001b[2m2760839720.py\u001b[0m\u001b]8;;\u001b\\\u001b[2m:\u001b[0m\u001b]8;id=427879;file:///var/folders/v0/wzkm0bb11x1b_27rl_172pdr0000gp/T/ipykernel_78208/2760839720.py#20\u001b\\\u001b[2m20\u001b[0m\u001b]8;;\u001b\\\n"
      ]
     },
     "metadata": {},
     "output_type": "display_data"
    },
    {
     "data": {
      "text/html": [
       "<pre style=\"white-space:pre;overflow-x:auto;line-height:normal;font-family:Menlo,'DejaVu Sans Mono',consolas,'Courier New',monospace\"><span style=\"color: #7fbfbf; text-decoration-color: #7fbfbf\">           </span>Case SMITH__MICHAEL_R_71_06_07_2024 has no address                                      <a href=\"file:///var/folders/v0/wzkm0bb11x1b_27rl_172pdr0000gp/T/ipykernel_78208/2760839720.py\" target=\"_blank\"><span style=\"color: #7f7f7f; text-decoration-color: #7f7f7f\">2760839720.py</span></a><span style=\"color: #7f7f7f; text-decoration-color: #7f7f7f\">:</span><a href=\"file:///var/folders/v0/wzkm0bb11x1b_27rl_172pdr0000gp/T/ipykernel_78208/2760839720.py#20\" target=\"_blank\"><span style=\"color: #7f7f7f; text-decoration-color: #7f7f7f\">20</span></a>\n",
       "</pre>\n"
      ],
      "text/plain": [
       "\u001b[2;36m          \u001b[0m\u001b[2;36m \u001b[0mCase SMITH__MICHAEL_R_71_06_07_2024 has no address                                      \u001b]8;id=731419;file:///var/folders/v0/wzkm0bb11x1b_27rl_172pdr0000gp/T/ipykernel_78208/2760839720.py\u001b\\\u001b[2m2760839720.py\u001b[0m\u001b]8;;\u001b\\\u001b[2m:\u001b[0m\u001b]8;id=602446;file:///var/folders/v0/wzkm0bb11x1b_27rl_172pdr0000gp/T/ipykernel_78208/2760839720.py#20\u001b\\\u001b[2m20\u001b[0m\u001b]8;;\u001b\\\n"
      ]
     },
     "metadata": {},
     "output_type": "display_data"
    },
    {
     "data": {
      "text/html": [
       "<pre style=\"white-space:pre;overflow-x:auto;line-height:normal;font-family:Menlo,'DejaVu Sans Mono',consolas,'Courier New',monospace\"><span style=\"color: #7fbfbf; text-decoration-color: #7fbfbf\">           </span>Case RIDDLE__RACHAEL_L_34_06_07_2024 has no address                                     <a href=\"file:///var/folders/v0/wzkm0bb11x1b_27rl_172pdr0000gp/T/ipykernel_78208/2760839720.py\" target=\"_blank\"><span style=\"color: #7f7f7f; text-decoration-color: #7f7f7f\">2760839720.py</span></a><span style=\"color: #7f7f7f; text-decoration-color: #7f7f7f\">:</span><a href=\"file:///var/folders/v0/wzkm0bb11x1b_27rl_172pdr0000gp/T/ipykernel_78208/2760839720.py#20\" target=\"_blank\"><span style=\"color: #7f7f7f; text-decoration-color: #7f7f7f\">20</span></a>\n",
       "</pre>\n"
      ],
      "text/plain": [
       "\u001b[2;36m          \u001b[0m\u001b[2;36m \u001b[0mCase RIDDLE__RACHAEL_L_34_06_07_2024 has no address                                     \u001b]8;id=76334;file:///var/folders/v0/wzkm0bb11x1b_27rl_172pdr0000gp/T/ipykernel_78208/2760839720.py\u001b\\\u001b[2m2760839720.py\u001b[0m\u001b]8;;\u001b\\\u001b[2m:\u001b[0m\u001b]8;id=633362;file:///var/folders/v0/wzkm0bb11x1b_27rl_172pdr0000gp/T/ipykernel_78208/2760839720.py#20\u001b\\\u001b[2m20\u001b[0m\u001b]8;;\u001b\\\n"
      ]
     },
     "metadata": {},
     "output_type": "display_data"
    },
    {
     "data": {
      "text/html": [
       "<pre style=\"white-space:pre;overflow-x:auto;line-height:normal;font-family:Menlo,'DejaVu Sans Mono',consolas,'Courier New',monospace\"><span style=\"color: #7fbfbf; text-decoration-color: #7fbfbf\">           </span>Case RICKARD__TIMATHY_A_38_06_07_2024 has no address                                    <a href=\"file:///var/folders/v0/wzkm0bb11x1b_27rl_172pdr0000gp/T/ipykernel_78208/2760839720.py\" target=\"_blank\"><span style=\"color: #7f7f7f; text-decoration-color: #7f7f7f\">2760839720.py</span></a><span style=\"color: #7f7f7f; text-decoration-color: #7f7f7f\">:</span><a href=\"file:///var/folders/v0/wzkm0bb11x1b_27rl_172pdr0000gp/T/ipykernel_78208/2760839720.py#20\" target=\"_blank\"><span style=\"color: #7f7f7f; text-decoration-color: #7f7f7f\">20</span></a>\n",
       "</pre>\n"
      ],
      "text/plain": [
       "\u001b[2;36m          \u001b[0m\u001b[2;36m \u001b[0mCase RICKARD__TIMATHY_A_38_06_07_2024 has no address                                    \u001b]8;id=300145;file:///var/folders/v0/wzkm0bb11x1b_27rl_172pdr0000gp/T/ipykernel_78208/2760839720.py\u001b\\\u001b[2m2760839720.py\u001b[0m\u001b]8;;\u001b\\\u001b[2m:\u001b[0m\u001b]8;id=18193;file:///var/folders/v0/wzkm0bb11x1b_27rl_172pdr0000gp/T/ipykernel_78208/2760839720.py#20\u001b\\\u001b[2m20\u001b[0m\u001b]8;;\u001b\\\n"
      ]
     },
     "metadata": {},
     "output_type": "display_data"
    },
    {
     "data": {
      "text/html": [
       "<pre style=\"white-space:pre;overflow-x:auto;line-height:normal;font-family:Menlo,'DejaVu Sans Mono',consolas,'Courier New',monospace\"><span style=\"color: #7fbfbf; text-decoration-color: #7fbfbf\">           </span>Case LONG__JESSE_D_33_06_07_2024 has no address                                         <a href=\"file:///var/folders/v0/wzkm0bb11x1b_27rl_172pdr0000gp/T/ipykernel_78208/2760839720.py\" target=\"_blank\"><span style=\"color: #7f7f7f; text-decoration-color: #7f7f7f\">2760839720.py</span></a><span style=\"color: #7f7f7f; text-decoration-color: #7f7f7f\">:</span><a href=\"file:///var/folders/v0/wzkm0bb11x1b_27rl_172pdr0000gp/T/ipykernel_78208/2760839720.py#20\" target=\"_blank\"><span style=\"color: #7f7f7f; text-decoration-color: #7f7f7f\">20</span></a>\n",
       "</pre>\n"
      ],
      "text/plain": [
       "\u001b[2;36m          \u001b[0m\u001b[2;36m \u001b[0mCase LONG__JESSE_D_33_06_07_2024 has no address                                         \u001b]8;id=556139;file:///var/folders/v0/wzkm0bb11x1b_27rl_172pdr0000gp/T/ipykernel_78208/2760839720.py\u001b\\\u001b[2m2760839720.py\u001b[0m\u001b]8;;\u001b\\\u001b[2m:\u001b[0m\u001b]8;id=815392;file:///var/folders/v0/wzkm0bb11x1b_27rl_172pdr0000gp/T/ipykernel_78208/2760839720.py#20\u001b\\\u001b[2m20\u001b[0m\u001b]8;;\u001b\\\n"
      ]
     },
     "metadata": {},
     "output_type": "display_data"
    },
    {
     "data": {
      "text/html": [
       "<pre style=\"white-space:pre;overflow-x:auto;line-height:normal;font-family:Menlo,'DejaVu Sans Mono',consolas,'Courier New',monospace\"><span style=\"color: #7fbfbf; text-decoration-color: #7fbfbf\">           </span>Case GROTEGEERS__JR__GLEN_J_52_06_07_2024 has no address                                <a href=\"file:///var/folders/v0/wzkm0bb11x1b_27rl_172pdr0000gp/T/ipykernel_78208/2760839720.py\" target=\"_blank\"><span style=\"color: #7f7f7f; text-decoration-color: #7f7f7f\">2760839720.py</span></a><span style=\"color: #7f7f7f; text-decoration-color: #7f7f7f\">:</span><a href=\"file:///var/folders/v0/wzkm0bb11x1b_27rl_172pdr0000gp/T/ipykernel_78208/2760839720.py#20\" target=\"_blank\"><span style=\"color: #7f7f7f; text-decoration-color: #7f7f7f\">20</span></a>\n",
       "</pre>\n"
      ],
      "text/plain": [
       "\u001b[2;36m          \u001b[0m\u001b[2;36m \u001b[0mCase GROTEGEERS__JR__GLEN_J_52_06_07_2024 has no address                                \u001b]8;id=248801;file:///var/folders/v0/wzkm0bb11x1b_27rl_172pdr0000gp/T/ipykernel_78208/2760839720.py\u001b\\\u001b[2m2760839720.py\u001b[0m\u001b]8;;\u001b\\\u001b[2m:\u001b[0m\u001b]8;id=974751;file:///var/folders/v0/wzkm0bb11x1b_27rl_172pdr0000gp/T/ipykernel_78208/2760839720.py#20\u001b\\\u001b[2m20\u001b[0m\u001b]8;;\u001b\\\n"
      ]
     },
     "metadata": {},
     "output_type": "display_data"
    },
    {
     "data": {
      "text/html": [
       "<pre style=\"white-space:pre;overflow-x:auto;line-height:normal;font-family:Menlo,'DejaVu Sans Mono',consolas,'Courier New',monospace\"><span style=\"color: #7fbfbf; text-decoration-color: #7fbfbf\">[14:57:31] </span>Case GROSSO__DANIEL_J_20_06_07_2024 has no address                                      <a href=\"file:///var/folders/v0/wzkm0bb11x1b_27rl_172pdr0000gp/T/ipykernel_78208/2760839720.py\" target=\"_blank\"><span style=\"color: #7f7f7f; text-decoration-color: #7f7f7f\">2760839720.py</span></a><span style=\"color: #7f7f7f; text-decoration-color: #7f7f7f\">:</span><a href=\"file:///var/folders/v0/wzkm0bb11x1b_27rl_172pdr0000gp/T/ipykernel_78208/2760839720.py#20\" target=\"_blank\"><span style=\"color: #7f7f7f; text-decoration-color: #7f7f7f\">20</span></a>\n",
       "</pre>\n"
      ],
      "text/plain": [
       "\u001b[2;36m[14:57:31]\u001b[0m\u001b[2;36m \u001b[0mCase GROSSO__DANIEL_J_20_06_07_2024 has no address                                      \u001b]8;id=480788;file:///var/folders/v0/wzkm0bb11x1b_27rl_172pdr0000gp/T/ipykernel_78208/2760839720.py\u001b\\\u001b[2m2760839720.py\u001b[0m\u001b]8;;\u001b\\\u001b[2m:\u001b[0m\u001b]8;id=693690;file:///var/folders/v0/wzkm0bb11x1b_27rl_172pdr0000gp/T/ipykernel_78208/2760839720.py#20\u001b\\\u001b[2m20\u001b[0m\u001b]8;;\u001b\\\n"
      ]
     },
     "metadata": {},
     "output_type": "display_data"
    },
    {
     "data": {
      "text/html": [
       "<pre style=\"white-space:pre;overflow-x:auto;line-height:normal;font-family:Menlo,'DejaVu Sans Mono',consolas,'Courier New',monospace\"><span style=\"color: #7fbfbf; text-decoration-color: #7fbfbf\">           </span>Case GOETZ__JAY_W_62_06_07_2024 has no address                                          <a href=\"file:///var/folders/v0/wzkm0bb11x1b_27rl_172pdr0000gp/T/ipykernel_78208/2760839720.py\" target=\"_blank\"><span style=\"color: #7f7f7f; text-decoration-color: #7f7f7f\">2760839720.py</span></a><span style=\"color: #7f7f7f; text-decoration-color: #7f7f7f\">:</span><a href=\"file:///var/folders/v0/wzkm0bb11x1b_27rl_172pdr0000gp/T/ipykernel_78208/2760839720.py#20\" target=\"_blank\"><span style=\"color: #7f7f7f; text-decoration-color: #7f7f7f\">20</span></a>\n",
       "</pre>\n"
      ],
      "text/plain": [
       "\u001b[2;36m          \u001b[0m\u001b[2;36m \u001b[0mCase GOETZ__JAY_W_62_06_07_2024 has no address                                          \u001b]8;id=424316;file:///var/folders/v0/wzkm0bb11x1b_27rl_172pdr0000gp/T/ipykernel_78208/2760839720.py\u001b\\\u001b[2m2760839720.py\u001b[0m\u001b]8;;\u001b\\\u001b[2m:\u001b[0m\u001b]8;id=678354;file:///var/folders/v0/wzkm0bb11x1b_27rl_172pdr0000gp/T/ipykernel_78208/2760839720.py#20\u001b\\\u001b[2m20\u001b[0m\u001b]8;;\u001b\\\n"
      ]
     },
     "metadata": {},
     "output_type": "display_data"
    },
    {
     "data": {
      "text/html": [
       "<pre style=\"white-space:pre;overflow-x:auto;line-height:normal;font-family:Menlo,'DejaVu Sans Mono',consolas,'Courier New',monospace\"><span style=\"color: #7fbfbf; text-decoration-color: #7fbfbf\">           </span>Case BLEVINS__GAGE_M_20_06_07_2024 has no address                                       <a href=\"file:///var/folders/v0/wzkm0bb11x1b_27rl_172pdr0000gp/T/ipykernel_78208/2760839720.py\" target=\"_blank\"><span style=\"color: #7f7f7f; text-decoration-color: #7f7f7f\">2760839720.py</span></a><span style=\"color: #7f7f7f; text-decoration-color: #7f7f7f\">:</span><a href=\"file:///var/folders/v0/wzkm0bb11x1b_27rl_172pdr0000gp/T/ipykernel_78208/2760839720.py#20\" target=\"_blank\"><span style=\"color: #7f7f7f; text-decoration-color: #7f7f7f\">20</span></a>\n",
       "</pre>\n"
      ],
      "text/plain": [
       "\u001b[2;36m          \u001b[0m\u001b[2;36m \u001b[0mCase BLEVINS__GAGE_M_20_06_07_2024 has no address                                       \u001b]8;id=175705;file:///var/folders/v0/wzkm0bb11x1b_27rl_172pdr0000gp/T/ipykernel_78208/2760839720.py\u001b\\\u001b[2m2760839720.py\u001b[0m\u001b]8;;\u001b\\\u001b[2m:\u001b[0m\u001b]8;id=247860;file:///var/folders/v0/wzkm0bb11x1b_27rl_172pdr0000gp/T/ipykernel_78208/2760839720.py#20\u001b\\\u001b[2m20\u001b[0m\u001b]8;;\u001b\\\n"
      ]
     },
     "metadata": {},
     "output_type": "display_data"
    },
    {
     "data": {
      "text/html": [
       "<pre style=\"white-space:pre;overflow-x:auto;line-height:normal;font-family:Menlo,'DejaVu Sans Mono',consolas,'Courier New',monospace\"><span style=\"color: #7fbfbf; text-decoration-color: #7fbfbf\">           </span>Case ANDERSON__MELANIE_M_31_06_07_2024 has no address                                   <a href=\"file:///var/folders/v0/wzkm0bb11x1b_27rl_172pdr0000gp/T/ipykernel_78208/2760839720.py\" target=\"_blank\"><span style=\"color: #7f7f7f; text-decoration-color: #7f7f7f\">2760839720.py</span></a><span style=\"color: #7f7f7f; text-decoration-color: #7f7f7f\">:</span><a href=\"file:///var/folders/v0/wzkm0bb11x1b_27rl_172pdr0000gp/T/ipykernel_78208/2760839720.py#20\" target=\"_blank\"><span style=\"color: #7f7f7f; text-decoration-color: #7f7f7f\">20</span></a>\n",
       "</pre>\n"
      ],
      "text/plain": [
       "\u001b[2;36m          \u001b[0m\u001b[2;36m \u001b[0mCase ANDERSON__MELANIE_M_31_06_07_2024 has no address                                   \u001b]8;id=348539;file:///var/folders/v0/wzkm0bb11x1b_27rl_172pdr0000gp/T/ipykernel_78208/2760839720.py\u001b\\\u001b[2m2760839720.py\u001b[0m\u001b]8;;\u001b\\\u001b[2m:\u001b[0m\u001b]8;id=649313;file:///var/folders/v0/wzkm0bb11x1b_27rl_172pdr0000gp/T/ipykernel_78208/2760839720.py#20\u001b\\\u001b[2m20\u001b[0m\u001b]8;;\u001b\\\n"
      ]
     },
     "metadata": {},
     "output_type": "display_data"
    },
    {
     "data": {
      "text/html": [
       "<pre style=\"white-space:pre;overflow-x:auto;line-height:normal;font-family:Menlo,'DejaVu Sans Mono',consolas,'Courier New',monospace\"><span style=\"color: #7fbfbf; text-decoration-color: #7fbfbf\">           </span>Searching for AIDAN GAONO <span style=\"color: #008080; text-decoration-color: #008080; font-weight: bold\">2004.0</span> WAYNESVILLE MO <span style=\"color: #008080; text-decoration-color: #008080; font-weight: bold\">65583</span> <span style=\"color: #008080; text-decoration-color: #008080; font-weight: bold\">174</span> JARED STREET                  <a href=\"file:///var/folders/v0/wzkm0bb11x1b_27rl_172pdr0000gp/T/ipykernel_78208/2760839720.py\" target=\"_blank\"><span style=\"color: #7f7f7f; text-decoration-color: #7f7f7f\">2760839720.py</span></a><span style=\"color: #7f7f7f; text-decoration-color: #7f7f7f\">:</span><a href=\"file:///var/folders/v0/wzkm0bb11x1b_27rl_172pdr0000gp/T/ipykernel_78208/2760839720.py#24\" target=\"_blank\"><span style=\"color: #7f7f7f; text-decoration-color: #7f7f7f\">24</span></a>\n",
       "</pre>\n"
      ],
      "text/plain": [
       "\u001b[2;36m          \u001b[0m\u001b[2;36m \u001b[0mSearching for AIDAN GAONO \u001b[1;36m2004.0\u001b[0m WAYNESVILLE MO \u001b[1;36m65583\u001b[0m \u001b[1;36m174\u001b[0m JARED STREET                  \u001b]8;id=15800;file:///var/folders/v0/wzkm0bb11x1b_27rl_172pdr0000gp/T/ipykernel_78208/2760839720.py\u001b\\\u001b[2m2760839720.py\u001b[0m\u001b]8;;\u001b\\\u001b[2m:\u001b[0m\u001b]8;id=596164;file:///var/folders/v0/wzkm0bb11x1b_27rl_172pdr0000gp/T/ipykernel_78208/2760839720.py#24\u001b\\\u001b[2m24\u001b[0m\u001b]8;;\u001b\\\n"
      ]
     },
     "metadata": {},
     "output_type": "display_data"
    },
    {
     "data": {
      "text/html": [
       "<pre style=\"white-space:pre;overflow-x:auto;line-height:normal;font-family:Menlo,'DejaVu Sans Mono',consolas,'Courier New',monospace\"><span style=\"color: #7fbfbf; text-decoration-color: #7fbfbf\">[14:57:32] </span>Case <span style=\"color: #008080; text-decoration-color: #008080; font-weight: bold\">704227834</span> already exists with status contacted                                     <a href=\"file:///var/folders/v0/wzkm0bb11x1b_27rl_172pdr0000gp/T/ipykernel_78208/2760839720.py\" target=\"_blank\"><span style=\"color: #7f7f7f; text-decoration-color: #7f7f7f\">2760839720.py</span></a><span style=\"color: #7f7f7f; text-decoration-color: #7f7f7f\">:</span><a href=\"file:///var/folders/v0/wzkm0bb11x1b_27rl_172pdr0000gp/T/ipykernel_78208/2760839720.py#52\" target=\"_blank\"><span style=\"color: #7f7f7f; text-decoration-color: #7f7f7f\">52</span></a>\n",
       "</pre>\n"
      ],
      "text/plain": [
       "\u001b[2;36m[14:57:32]\u001b[0m\u001b[2;36m \u001b[0mCase \u001b[1;36m704227834\u001b[0m already exists with status contacted                                     \u001b]8;id=689437;file:///var/folders/v0/wzkm0bb11x1b_27rl_172pdr0000gp/T/ipykernel_78208/2760839720.py\u001b\\\u001b[2m2760839720.py\u001b[0m\u001b]8;;\u001b\\\u001b[2m:\u001b[0m\u001b]8;id=299621;file:///var/folders/v0/wzkm0bb11x1b_27rl_172pdr0000gp/T/ipykernel_78208/2760839720.py#52\u001b\\\u001b[2m52\u001b[0m\u001b]8;;\u001b\\\n"
      ]
     },
     "metadata": {},
     "output_type": "display_data"
    },
    {
     "data": {
      "text/html": [
       "<pre style=\"white-space:pre;overflow-x:auto;line-height:normal;font-family:Menlo,'DejaVu Sans Mono',consolas,'Courier New',monospace\"><span style=\"color: #7fbfbf; text-decoration-color: #7fbfbf\">           </span>Case details AIDAN GAONO <span style=\"color: #008080; text-decoration-color: #008080; font-weight: bold\">2004</span> Exceeded Posted Speed Limit <span style=\"font-weight: bold\">(</span>Exceeded By <span style=\"color: #008080; text-decoration-color: #008080; font-weight: bold\">20</span> - <span style=\"color: #008080; text-decoration-color: #008080; font-weight: bold\">25</span>  Mph<span style=\"font-weight: bold\">)</span>    <a href=\"file:///var/folders/v0/wzkm0bb11x1b_27rl_172pdr0000gp/T/ipykernel_78208/2760839720.py\" target=\"_blank\"><span style=\"color: #7f7f7f; text-decoration-color: #7f7f7f\">2760839720.py</span></a><span style=\"color: #7f7f7f; text-decoration-color: #7f7f7f\">:</span><a href=\"file:///var/folders/v0/wzkm0bb11x1b_27rl_172pdr0000gp/T/ipykernel_78208/2760839720.py#55\" target=\"_blank\"><span style=\"color: #7f7f7f; text-decoration-color: #7f7f7f\">55</span></a>\n",
       "</pre>\n"
      ],
      "text/plain": [
       "\u001b[2;36m          \u001b[0m\u001b[2;36m \u001b[0mCase details AIDAN GAONO \u001b[1;36m2004\u001b[0m Exceeded Posted Speed Limit \u001b[1m(\u001b[0mExceeded By \u001b[1;36m20\u001b[0m - \u001b[1;36m25\u001b[0m  Mph\u001b[1m)\u001b[0m    \u001b]8;id=694880;file:///var/folders/v0/wzkm0bb11x1b_27rl_172pdr0000gp/T/ipykernel_78208/2760839720.py\u001b\\\u001b[2m2760839720.py\u001b[0m\u001b]8;;\u001b\\\u001b[2m:\u001b[0m\u001b]8;id=106256;file:///var/folders/v0/wzkm0bb11x1b_27rl_172pdr0000gp/T/ipykernel_78208/2760839720.py#55\u001b\\\u001b[2m55\u001b[0m\u001b]8;;\u001b\\\n"
      ]
     },
     "metadata": {},
     "output_type": "display_data"
    },
    {
     "data": {
      "text/html": [
       "<pre style=\"white-space:pre;overflow-x:auto;line-height:normal;font-family:Menlo,'DejaVu Sans Mono',consolas,'Courier New',monospace\"><span style=\"color: #7fbfbf; text-decoration-color: #7fbfbf\">           </span>Searching for CALEB DERRICK <span style=\"color: #008080; text-decoration-color: #008080; font-weight: bold\">2001.0</span> ROLLA MO <span style=\"color: #008080; text-decoration-color: #008080; font-weight: bold\">65401</span> <span style=\"color: #008080; text-decoration-color: #008080; font-weight: bold\">200</span> N PINE ST                         <a href=\"file:///var/folders/v0/wzkm0bb11x1b_27rl_172pdr0000gp/T/ipykernel_78208/2760839720.py\" target=\"_blank\"><span style=\"color: #7f7f7f; text-decoration-color: #7f7f7f\">2760839720.py</span></a><span style=\"color: #7f7f7f; text-decoration-color: #7f7f7f\">:</span><a href=\"file:///var/folders/v0/wzkm0bb11x1b_27rl_172pdr0000gp/T/ipykernel_78208/2760839720.py#24\" target=\"_blank\"><span style=\"color: #7f7f7f; text-decoration-color: #7f7f7f\">24</span></a>\n",
       "</pre>\n"
      ],
      "text/plain": [
       "\u001b[2;36m          \u001b[0m\u001b[2;36m \u001b[0mSearching for CALEB DERRICK \u001b[1;36m2001.0\u001b[0m ROLLA MO \u001b[1;36m65401\u001b[0m \u001b[1;36m200\u001b[0m N PINE ST                         \u001b]8;id=224511;file:///var/folders/v0/wzkm0bb11x1b_27rl_172pdr0000gp/T/ipykernel_78208/2760839720.py\u001b\\\u001b[2m2760839720.py\u001b[0m\u001b]8;;\u001b\\\u001b[2m:\u001b[0m\u001b]8;id=462769;file:///var/folders/v0/wzkm0bb11x1b_27rl_172pdr0000gp/T/ipykernel_78208/2760839720.py#24\u001b\\\u001b[2m24\u001b[0m\u001b]8;;\u001b\\\n"
      ]
     },
     "metadata": {},
     "output_type": "display_data"
    },
    {
     "data": {
      "text/html": [
       "<pre style=\"white-space:pre;overflow-x:auto;line-height:normal;font-family:Menlo,'DejaVu Sans Mono',consolas,'Courier New',monospace\"><span style=\"color: #7fbfbf; text-decoration-color: #7fbfbf\">           </span>Case <span style=\"color: #008080; text-decoration-color: #008080; font-weight: bold\">704307681</span> already exists with status contacted                                     <a href=\"file:///var/folders/v0/wzkm0bb11x1b_27rl_172pdr0000gp/T/ipykernel_78208/2760839720.py\" target=\"_blank\"><span style=\"color: #7f7f7f; text-decoration-color: #7f7f7f\">2760839720.py</span></a><span style=\"color: #7f7f7f; text-decoration-color: #7f7f7f\">:</span><a href=\"file:///var/folders/v0/wzkm0bb11x1b_27rl_172pdr0000gp/T/ipykernel_78208/2760839720.py#52\" target=\"_blank\"><span style=\"color: #7f7f7f; text-decoration-color: #7f7f7f\">52</span></a>\n",
       "</pre>\n"
      ],
      "text/plain": [
       "\u001b[2;36m          \u001b[0m\u001b[2;36m \u001b[0mCase \u001b[1;36m704307681\u001b[0m already exists with status contacted                                     \u001b]8;id=564196;file:///var/folders/v0/wzkm0bb11x1b_27rl_172pdr0000gp/T/ipykernel_78208/2760839720.py\u001b\\\u001b[2m2760839720.py\u001b[0m\u001b]8;;\u001b\\\u001b[2m:\u001b[0m\u001b]8;id=337966;file:///var/folders/v0/wzkm0bb11x1b_27rl_172pdr0000gp/T/ipykernel_78208/2760839720.py#52\u001b\\\u001b[2m52\u001b[0m\u001b]8;;\u001b\\\n"
      ]
     },
     "metadata": {},
     "output_type": "display_data"
    },
    {
     "data": {
      "text/html": [
       "<pre style=\"white-space:pre;overflow-x:auto;line-height:normal;font-family:Menlo,'DejaVu Sans Mono',consolas,'Courier New',monospace\"><span style=\"color: #7fbfbf; text-decoration-color: #7fbfbf\">           </span>Case details CALEB DERRICK <span style=\"color: #008080; text-decoration-color: #008080; font-weight: bold\">2001</span> Exceeded Posted Speed Limit <span style=\"font-weight: bold\">(</span>Exceeded By <span style=\"color: #008080; text-decoration-color: #008080; font-weight: bold\">11</span> - <span style=\"color: #008080; text-decoration-color: #008080; font-weight: bold\">15</span> Mph<span style=\"font-weight: bold\">)</span>   <a href=\"file:///var/folders/v0/wzkm0bb11x1b_27rl_172pdr0000gp/T/ipykernel_78208/2760839720.py\" target=\"_blank\"><span style=\"color: #7f7f7f; text-decoration-color: #7f7f7f\">2760839720.py</span></a><span style=\"color: #7f7f7f; text-decoration-color: #7f7f7f\">:</span><a href=\"file:///var/folders/v0/wzkm0bb11x1b_27rl_172pdr0000gp/T/ipykernel_78208/2760839720.py#55\" target=\"_blank\"><span style=\"color: #7f7f7f; text-decoration-color: #7f7f7f\">55</span></a>\n",
       "</pre>\n"
      ],
      "text/plain": [
       "\u001b[2;36m          \u001b[0m\u001b[2;36m \u001b[0mCase details CALEB DERRICK \u001b[1;36m2001\u001b[0m Exceeded Posted Speed Limit \u001b[1m(\u001b[0mExceeded By \u001b[1;36m11\u001b[0m - \u001b[1;36m15\u001b[0m Mph\u001b[1m)\u001b[0m   \u001b]8;id=474645;file:///var/folders/v0/wzkm0bb11x1b_27rl_172pdr0000gp/T/ipykernel_78208/2760839720.py\u001b\\\u001b[2m2760839720.py\u001b[0m\u001b]8;;\u001b\\\u001b[2m:\u001b[0m\u001b]8;id=489943;file:///var/folders/v0/wzkm0bb11x1b_27rl_172pdr0000gp/T/ipykernel_78208/2760839720.py#55\u001b\\\u001b[2m55\u001b[0m\u001b]8;;\u001b\\\n"
      ]
     },
     "metadata": {},
     "output_type": "display_data"
    },
    {
     "data": {
      "text/html": [
       "<pre style=\"white-space:pre;overflow-x:auto;line-height:normal;font-family:Menlo,'DejaVu Sans Mono',consolas,'Courier New',monospace\"><span style=\"color: #7fbfbf; text-decoration-color: #7fbfbf\">           </span>Searching for CEDRIC BLAIR <span style=\"color: #008080; text-decoration-color: #008080; font-weight: bold\">1997.0</span> BELLE MO <span style=\"color: #008080; text-decoration-color: #008080; font-weight: bold\">65013</span> <span style=\"color: #008080; text-decoration-color: #008080; font-weight: bold\">705</span> E. 7TH STREET, APT. <span style=\"color: #008080; text-decoration-color: #008080; font-weight: bold\">2</span>              <a href=\"file:///var/folders/v0/wzkm0bb11x1b_27rl_172pdr0000gp/T/ipykernel_78208/2760839720.py\" target=\"_blank\"><span style=\"color: #7f7f7f; text-decoration-color: #7f7f7f\">2760839720.py</span></a><span style=\"color: #7f7f7f; text-decoration-color: #7f7f7f\">:</span><a href=\"file:///var/folders/v0/wzkm0bb11x1b_27rl_172pdr0000gp/T/ipykernel_78208/2760839720.py#24\" target=\"_blank\"><span style=\"color: #7f7f7f; text-decoration-color: #7f7f7f\">24</span></a>\n",
       "</pre>\n"
      ],
      "text/plain": [
       "\u001b[2;36m          \u001b[0m\u001b[2;36m \u001b[0mSearching for CEDRIC BLAIR \u001b[1;36m1997.0\u001b[0m BELLE MO \u001b[1;36m65013\u001b[0m \u001b[1;36m705\u001b[0m E. 7TH STREET, APT. \u001b[1;36m2\u001b[0m              \u001b]8;id=995869;file:///var/folders/v0/wzkm0bb11x1b_27rl_172pdr0000gp/T/ipykernel_78208/2760839720.py\u001b\\\u001b[2m2760839720.py\u001b[0m\u001b]8;;\u001b\\\u001b[2m:\u001b[0m\u001b]8;id=858773;file:///var/folders/v0/wzkm0bb11x1b_27rl_172pdr0000gp/T/ipykernel_78208/2760839720.py#24\u001b\\\u001b[2m24\u001b[0m\u001b]8;;\u001b\\\n"
      ]
     },
     "metadata": {},
     "output_type": "display_data"
    },
    {
     "data": {
      "text/html": [
       "<pre style=\"white-space:pre;overflow-x:auto;line-height:normal;font-family:Menlo,'DejaVu Sans Mono',consolas,'Courier New',monospace\"><span style=\"color: #7fbfbf; text-decoration-color: #7fbfbf\">[14:57:33] </span>Case <span style=\"color: #008080; text-decoration-color: #008080; font-weight: bold\">220593289</span> already exists with status contacted                                     <a href=\"file:///var/folders/v0/wzkm0bb11x1b_27rl_172pdr0000gp/T/ipykernel_78208/2760839720.py\" target=\"_blank\"><span style=\"color: #7f7f7f; text-decoration-color: #7f7f7f\">2760839720.py</span></a><span style=\"color: #7f7f7f; text-decoration-color: #7f7f7f\">:</span><a href=\"file:///var/folders/v0/wzkm0bb11x1b_27rl_172pdr0000gp/T/ipykernel_78208/2760839720.py#52\" target=\"_blank\"><span style=\"color: #7f7f7f; text-decoration-color: #7f7f7f\">52</span></a>\n",
       "</pre>\n"
      ],
      "text/plain": [
       "\u001b[2;36m[14:57:33]\u001b[0m\u001b[2;36m \u001b[0mCase \u001b[1;36m220593289\u001b[0m already exists with status contacted                                     \u001b]8;id=242367;file:///var/folders/v0/wzkm0bb11x1b_27rl_172pdr0000gp/T/ipykernel_78208/2760839720.py\u001b\\\u001b[2m2760839720.py\u001b[0m\u001b]8;;\u001b\\\u001b[2m:\u001b[0m\u001b]8;id=307729;file:///var/folders/v0/wzkm0bb11x1b_27rl_172pdr0000gp/T/ipykernel_78208/2760839720.py#52\u001b\\\u001b[2m52\u001b[0m\u001b]8;;\u001b\\\n"
      ]
     },
     "metadata": {},
     "output_type": "display_data"
    },
    {
     "data": {
      "text/html": [
       "<pre style=\"white-space:pre;overflow-x:auto;line-height:normal;font-family:Menlo,'DejaVu Sans Mono',consolas,'Courier New',monospace\"><span style=\"color: #7fbfbf; text-decoration-color: #7fbfbf\">           </span>Case details CEDRIC BLAIR <span style=\"color: #008080; text-decoration-color: #008080; font-weight: bold\">1997</span> Driving While Revoked Or Suspended                       <a href=\"file:///var/folders/v0/wzkm0bb11x1b_27rl_172pdr0000gp/T/ipykernel_78208/2760839720.py\" target=\"_blank\"><span style=\"color: #7f7f7f; text-decoration-color: #7f7f7f\">2760839720.py</span></a><span style=\"color: #7f7f7f; text-decoration-color: #7f7f7f\">:</span><a href=\"file:///var/folders/v0/wzkm0bb11x1b_27rl_172pdr0000gp/T/ipykernel_78208/2760839720.py#55\" target=\"_blank\"><span style=\"color: #7f7f7f; text-decoration-color: #7f7f7f\">55</span></a>\n",
       "</pre>\n"
      ],
      "text/plain": [
       "\u001b[2;36m          \u001b[0m\u001b[2;36m \u001b[0mCase details CEDRIC BLAIR \u001b[1;36m1997\u001b[0m Driving While Revoked Or Suspended                       \u001b]8;id=105073;file:///var/folders/v0/wzkm0bb11x1b_27rl_172pdr0000gp/T/ipykernel_78208/2760839720.py\u001b\\\u001b[2m2760839720.py\u001b[0m\u001b]8;;\u001b\\\u001b[2m:\u001b[0m\u001b]8;id=232934;file:///var/folders/v0/wzkm0bb11x1b_27rl_172pdr0000gp/T/ipykernel_78208/2760839720.py#55\u001b\\\u001b[2m55\u001b[0m\u001b]8;;\u001b\\\n"
      ]
     },
     "metadata": {},
     "output_type": "display_data"
    },
    {
     "data": {
      "text/html": [
       "<pre style=\"white-space:pre;overflow-x:auto;line-height:normal;font-family:Menlo,'DejaVu Sans Mono',consolas,'Courier New',monospace\"><span style=\"color: #7fbfbf; text-decoration-color: #7fbfbf\">           </span>Searching for TREVOR WENDLETON <span style=\"color: #008080; text-decoration-color: #008080; font-weight: bold\">1995.0</span> MISSION MO <span style=\"color: #008080; text-decoration-color: #008080; font-weight: bold\">66202</span> <span style=\"color: #008080; text-decoration-color: #008080; font-weight: bold\">6201</span> JOHNSON DR APT <span style=\"color: #008080; text-decoration-color: #008080; font-weight: bold\">515</span>          <a href=\"file:///var/folders/v0/wzkm0bb11x1b_27rl_172pdr0000gp/T/ipykernel_78208/2760839720.py\" target=\"_blank\"><span style=\"color: #7f7f7f; text-decoration-color: #7f7f7f\">2760839720.py</span></a><span style=\"color: #7f7f7f; text-decoration-color: #7f7f7f\">:</span><a href=\"file:///var/folders/v0/wzkm0bb11x1b_27rl_172pdr0000gp/T/ipykernel_78208/2760839720.py#24\" target=\"_blank\"><span style=\"color: #7f7f7f; text-decoration-color: #7f7f7f\">24</span></a>\n",
       "</pre>\n"
      ],
      "text/plain": [
       "\u001b[2;36m          \u001b[0m\u001b[2;36m \u001b[0mSearching for TREVOR WENDLETON \u001b[1;36m1995.0\u001b[0m MISSION MO \u001b[1;36m66202\u001b[0m \u001b[1;36m6201\u001b[0m JOHNSON DR APT \u001b[1;36m515\u001b[0m          \u001b]8;id=697939;file:///var/folders/v0/wzkm0bb11x1b_27rl_172pdr0000gp/T/ipykernel_78208/2760839720.py\u001b\\\u001b[2m2760839720.py\u001b[0m\u001b]8;;\u001b\\\u001b[2m:\u001b[0m\u001b]8;id=627890;file:///var/folders/v0/wzkm0bb11x1b_27rl_172pdr0000gp/T/ipykernel_78208/2760839720.py#24\u001b\\\u001b[2m24\u001b[0m\u001b]8;;\u001b\\\n"
      ]
     },
     "metadata": {},
     "output_type": "display_data"
    },
    {
     "data": {
      "text/html": [
       "<pre style=\"white-space:pre;overflow-x:auto;line-height:normal;font-family:Menlo,'DejaVu Sans Mono',consolas,'Courier New',monospace\"><span style=\"color: #7fbfbf; text-decoration-color: #7fbfbf\">           </span>Case <span style=\"color: #008080; text-decoration-color: #008080; font-weight: bold\">704177876</span> already exists with status contacted                                     <a href=\"file:///var/folders/v0/wzkm0bb11x1b_27rl_172pdr0000gp/T/ipykernel_78208/2760839720.py\" target=\"_blank\"><span style=\"color: #7f7f7f; text-decoration-color: #7f7f7f\">2760839720.py</span></a><span style=\"color: #7f7f7f; text-decoration-color: #7f7f7f\">:</span><a href=\"file:///var/folders/v0/wzkm0bb11x1b_27rl_172pdr0000gp/T/ipykernel_78208/2760839720.py#52\" target=\"_blank\"><span style=\"color: #7f7f7f; text-decoration-color: #7f7f7f\">52</span></a>\n",
       "</pre>\n"
      ],
      "text/plain": [
       "\u001b[2;36m          \u001b[0m\u001b[2;36m \u001b[0mCase \u001b[1;36m704177876\u001b[0m already exists with status contacted                                     \u001b]8;id=594111;file:///var/folders/v0/wzkm0bb11x1b_27rl_172pdr0000gp/T/ipykernel_78208/2760839720.py\u001b\\\u001b[2m2760839720.py\u001b[0m\u001b]8;;\u001b\\\u001b[2m:\u001b[0m\u001b]8;id=632071;file:///var/folders/v0/wzkm0bb11x1b_27rl_172pdr0000gp/T/ipykernel_78208/2760839720.py#52\u001b\\\u001b[2m52\u001b[0m\u001b]8;;\u001b\\\n"
      ]
     },
     "metadata": {},
     "output_type": "display_data"
    },
    {
     "data": {
      "text/html": [
       "<pre style=\"white-space:pre;overflow-x:auto;line-height:normal;font-family:Menlo,'DejaVu Sans Mono',consolas,'Courier New',monospace\"><span style=\"color: #7fbfbf; text-decoration-color: #7fbfbf\">           </span>Case details TREVOR WENDLETON <span style=\"color: #008080; text-decoration-color: #008080; font-weight: bold\">1995</span> Exceeded Posted Speed Limit <span style=\"font-weight: bold\">(</span>Exceeded By <span style=\"color: #008080; text-decoration-color: #008080; font-weight: bold\">16</span> - <span style=\"color: #008080; text-decoration-color: #008080; font-weight: bold\">19</span>     <a href=\"file:///var/folders/v0/wzkm0bb11x1b_27rl_172pdr0000gp/T/ipykernel_78208/2760839720.py\" target=\"_blank\"><span style=\"color: #7f7f7f; text-decoration-color: #7f7f7f\">2760839720.py</span></a><span style=\"color: #7f7f7f; text-decoration-color: #7f7f7f\">:</span><a href=\"file:///var/folders/v0/wzkm0bb11x1b_27rl_172pdr0000gp/T/ipykernel_78208/2760839720.py#55\" target=\"_blank\"><span style=\"color: #7f7f7f; text-decoration-color: #7f7f7f\">55</span></a>\n",
       "<span style=\"color: #7fbfbf; text-decoration-color: #7fbfbf\">           </span>Mph<span style=\"font-weight: bold\">)</span>                                                                                    <span style=\"color: #7f7f7f; text-decoration-color: #7f7f7f\">                </span>\n",
       "</pre>\n"
      ],
      "text/plain": [
       "\u001b[2;36m          \u001b[0m\u001b[2;36m \u001b[0mCase details TREVOR WENDLETON \u001b[1;36m1995\u001b[0m Exceeded Posted Speed Limit \u001b[1m(\u001b[0mExceeded By \u001b[1;36m16\u001b[0m - \u001b[1;36m19\u001b[0m     \u001b]8;id=111983;file:///var/folders/v0/wzkm0bb11x1b_27rl_172pdr0000gp/T/ipykernel_78208/2760839720.py\u001b\\\u001b[2m2760839720.py\u001b[0m\u001b]8;;\u001b\\\u001b[2m:\u001b[0m\u001b]8;id=162267;file:///var/folders/v0/wzkm0bb11x1b_27rl_172pdr0000gp/T/ipykernel_78208/2760839720.py#55\u001b\\\u001b[2m55\u001b[0m\u001b]8;;\u001b\\\n",
       "\u001b[2;36m           \u001b[0mMph\u001b[1m)\u001b[0m                                                                                    \u001b[2m                \u001b[0m\n"
      ]
     },
     "metadata": {},
     "output_type": "display_data"
    },
    {
     "data": {
      "text/html": [
       "<pre style=\"white-space:pre;overflow-x:auto;line-height:normal;font-family:Menlo,'DejaVu Sans Mono',consolas,'Courier New',monospace\"><span style=\"color: #7fbfbf; text-decoration-color: #7fbfbf\">           </span>Searching for DANIEL RONDEAU <span style=\"color: #008080; text-decoration-color: #008080; font-weight: bold\">1990.0</span> KANSAS CITY MO <span style=\"color: #008080; text-decoration-color: #008080; font-weight: bold\">64124</span> <span style=\"color: #008080; text-decoration-color: #008080; font-weight: bold\">1800</span> PENDLETON AVE             <a href=\"file:///var/folders/v0/wzkm0bb11x1b_27rl_172pdr0000gp/T/ipykernel_78208/2760839720.py\" target=\"_blank\"><span style=\"color: #7f7f7f; text-decoration-color: #7f7f7f\">2760839720.py</span></a><span style=\"color: #7f7f7f; text-decoration-color: #7f7f7f\">:</span><a href=\"file:///var/folders/v0/wzkm0bb11x1b_27rl_172pdr0000gp/T/ipykernel_78208/2760839720.py#24\" target=\"_blank\"><span style=\"color: #7f7f7f; text-decoration-color: #7f7f7f\">24</span></a>\n",
       "</pre>\n"
      ],
      "text/plain": [
       "\u001b[2;36m          \u001b[0m\u001b[2;36m \u001b[0mSearching for DANIEL RONDEAU \u001b[1;36m1990.0\u001b[0m KANSAS CITY MO \u001b[1;36m64124\u001b[0m \u001b[1;36m1800\u001b[0m PENDLETON AVE             \u001b]8;id=330034;file:///var/folders/v0/wzkm0bb11x1b_27rl_172pdr0000gp/T/ipykernel_78208/2760839720.py\u001b\\\u001b[2m2760839720.py\u001b[0m\u001b]8;;\u001b\\\u001b[2m:\u001b[0m\u001b]8;id=628620;file:///var/folders/v0/wzkm0bb11x1b_27rl_172pdr0000gp/T/ipykernel_78208/2760839720.py#24\u001b\\\u001b[2m24\u001b[0m\u001b]8;;\u001b\\\n"
      ]
     },
     "metadata": {},
     "output_type": "display_data"
    },
    {
     "data": {
      "text/html": [
       "<pre style=\"white-space:pre;overflow-x:auto;line-height:normal;font-family:Menlo,'DejaVu Sans Mono',consolas,'Courier New',monospace\"><span style=\"color: #7fbfbf; text-decoration-color: #7fbfbf\">           </span>Case <span style=\"color: #008080; text-decoration-color: #008080; font-weight: bold\">230000861</span> already exists with status contacted                                     <a href=\"file:///var/folders/v0/wzkm0bb11x1b_27rl_172pdr0000gp/T/ipykernel_78208/2760839720.py\" target=\"_blank\"><span style=\"color: #7f7f7f; text-decoration-color: #7f7f7f\">2760839720.py</span></a><span style=\"color: #7f7f7f; text-decoration-color: #7f7f7f\">:</span><a href=\"file:///var/folders/v0/wzkm0bb11x1b_27rl_172pdr0000gp/T/ipykernel_78208/2760839720.py#52\" target=\"_blank\"><span style=\"color: #7f7f7f; text-decoration-color: #7f7f7f\">52</span></a>\n",
       "</pre>\n"
      ],
      "text/plain": [
       "\u001b[2;36m          \u001b[0m\u001b[2;36m \u001b[0mCase \u001b[1;36m230000861\u001b[0m already exists with status contacted                                     \u001b]8;id=21526;file:///var/folders/v0/wzkm0bb11x1b_27rl_172pdr0000gp/T/ipykernel_78208/2760839720.py\u001b\\\u001b[2m2760839720.py\u001b[0m\u001b]8;;\u001b\\\u001b[2m:\u001b[0m\u001b]8;id=428479;file:///var/folders/v0/wzkm0bb11x1b_27rl_172pdr0000gp/T/ipykernel_78208/2760839720.py#52\u001b\\\u001b[2m52\u001b[0m\u001b]8;;\u001b\\\n"
      ]
     },
     "metadata": {},
     "output_type": "display_data"
    },
    {
     "data": {
      "text/html": [
       "<pre style=\"white-space:pre;overflow-x:auto;line-height:normal;font-family:Menlo,'DejaVu Sans Mono',consolas,'Courier New',monospace\"><span style=\"color: #7fbfbf; text-decoration-color: #7fbfbf\">           </span>Case details DANIEL RONDEAU <span style=\"color: #008080; text-decoration-color: #008080; font-weight: bold\">1990</span> Speeding <span style=\"font-weight: bold\">(</span><span style=\"color: #008080; text-decoration-color: #008080; font-weight: bold\">31</span>-<span style=\"color: #008080; text-decoration-color: #008080; font-weight: bold\">35</span> Mph Over<span style=\"font-weight: bold\">)</span>                              <a href=\"file:///var/folders/v0/wzkm0bb11x1b_27rl_172pdr0000gp/T/ipykernel_78208/2760839720.py\" target=\"_blank\"><span style=\"color: #7f7f7f; text-decoration-color: #7f7f7f\">2760839720.py</span></a><span style=\"color: #7f7f7f; text-decoration-color: #7f7f7f\">:</span><a href=\"file:///var/folders/v0/wzkm0bb11x1b_27rl_172pdr0000gp/T/ipykernel_78208/2760839720.py#55\" target=\"_blank\"><span style=\"color: #7f7f7f; text-decoration-color: #7f7f7f\">55</span></a>\n",
       "</pre>\n"
      ],
      "text/plain": [
       "\u001b[2;36m          \u001b[0m\u001b[2;36m \u001b[0mCase details DANIEL RONDEAU \u001b[1;36m1990\u001b[0m Speeding \u001b[1m(\u001b[0m\u001b[1;36m31\u001b[0m-\u001b[1;36m35\u001b[0m Mph Over\u001b[1m)\u001b[0m                              \u001b]8;id=935894;file:///var/folders/v0/wzkm0bb11x1b_27rl_172pdr0000gp/T/ipykernel_78208/2760839720.py\u001b\\\u001b[2m2760839720.py\u001b[0m\u001b]8;;\u001b\\\u001b[2m:\u001b[0m\u001b]8;id=327222;file:///var/folders/v0/wzkm0bb11x1b_27rl_172pdr0000gp/T/ipykernel_78208/2760839720.py#55\u001b\\\u001b[2m55\u001b[0m\u001b]8;;\u001b\\\n"
      ]
     },
     "metadata": {},
     "output_type": "display_data"
    },
    {
     "data": {
      "text/html": [
       "<pre style=\"white-space:pre;overflow-x:auto;line-height:normal;font-family:Menlo,'DejaVu Sans Mono',consolas,'Courier New',monospace\"><span style=\"color: #7fbfbf; text-decoration-color: #7fbfbf\">           </span>Searching for ALLA GRANT <span style=\"color: #008080; text-decoration-color: #008080; font-weight: bold\">1979.0</span> SEDALIA MO <span style=\"color: #008080; text-decoration-color: #008080; font-weight: bold\">65301</span> <span style=\"color: #008080; text-decoration-color: #008080; font-weight: bold\">301</span> E 4TH ST, APT G                    <a href=\"file:///var/folders/v0/wzkm0bb11x1b_27rl_172pdr0000gp/T/ipykernel_78208/2760839720.py\" target=\"_blank\"><span style=\"color: #7f7f7f; text-decoration-color: #7f7f7f\">2760839720.py</span></a><span style=\"color: #7f7f7f; text-decoration-color: #7f7f7f\">:</span><a href=\"file:///var/folders/v0/wzkm0bb11x1b_27rl_172pdr0000gp/T/ipykernel_78208/2760839720.py#24\" target=\"_blank\"><span style=\"color: #7f7f7f; text-decoration-color: #7f7f7f\">24</span></a>\n",
       "</pre>\n"
      ],
      "text/plain": [
       "\u001b[2;36m          \u001b[0m\u001b[2;36m \u001b[0mSearching for ALLA GRANT \u001b[1;36m1979.0\u001b[0m SEDALIA MO \u001b[1;36m65301\u001b[0m \u001b[1;36m301\u001b[0m E 4TH ST, APT G                    \u001b]8;id=848411;file:///var/folders/v0/wzkm0bb11x1b_27rl_172pdr0000gp/T/ipykernel_78208/2760839720.py\u001b\\\u001b[2m2760839720.py\u001b[0m\u001b]8;;\u001b\\\u001b[2m:\u001b[0m\u001b]8;id=905685;file:///var/folders/v0/wzkm0bb11x1b_27rl_172pdr0000gp/T/ipykernel_78208/2760839720.py#24\u001b\\\u001b[2m24\u001b[0m\u001b]8;;\u001b\\\n"
      ]
     },
     "metadata": {},
     "output_type": "display_data"
    },
    {
     "data": {
      "text/html": [
       "<pre style=\"white-space:pre;overflow-x:auto;line-height:normal;font-family:Menlo,'DejaVu Sans Mono',consolas,'Courier New',monospace\"><span style=\"color: #7fbfbf; text-decoration-color: #7fbfbf\">[14:57:34] </span>Case <span style=\"color: #008080; text-decoration-color: #008080; font-weight: bold\">230511747</span> already exists with status contacted                                     <a href=\"file:///var/folders/v0/wzkm0bb11x1b_27rl_172pdr0000gp/T/ipykernel_78208/2760839720.py\" target=\"_blank\"><span style=\"color: #7f7f7f; text-decoration-color: #7f7f7f\">2760839720.py</span></a><span style=\"color: #7f7f7f; text-decoration-color: #7f7f7f\">:</span><a href=\"file:///var/folders/v0/wzkm0bb11x1b_27rl_172pdr0000gp/T/ipykernel_78208/2760839720.py#52\" target=\"_blank\"><span style=\"color: #7f7f7f; text-decoration-color: #7f7f7f\">52</span></a>\n",
       "</pre>\n"
      ],
      "text/plain": [
       "\u001b[2;36m[14:57:34]\u001b[0m\u001b[2;36m \u001b[0mCase \u001b[1;36m230511747\u001b[0m already exists with status contacted                                     \u001b]8;id=800711;file:///var/folders/v0/wzkm0bb11x1b_27rl_172pdr0000gp/T/ipykernel_78208/2760839720.py\u001b\\\u001b[2m2760839720.py\u001b[0m\u001b]8;;\u001b\\\u001b[2m:\u001b[0m\u001b]8;id=126011;file:///var/folders/v0/wzkm0bb11x1b_27rl_172pdr0000gp/T/ipykernel_78208/2760839720.py#52\u001b\\\u001b[2m52\u001b[0m\u001b]8;;\u001b\\\n"
      ]
     },
     "metadata": {},
     "output_type": "display_data"
    },
    {
     "data": {
      "text/html": [
       "<pre style=\"white-space:pre;overflow-x:auto;line-height:normal;font-family:Menlo,'DejaVu Sans Mono',consolas,'Courier New',monospace\"><span style=\"color: #7fbfbf; text-decoration-color: #7fbfbf\">           </span>Case details ALLA GRANT <span style=\"color: #008080; text-decoration-color: #008080; font-weight: bold\">1979</span> Exceeded Posted Speed Limit <span style=\"font-weight: bold\">(</span><span style=\"color: #008080; text-decoration-color: #008080; font-weight: bold\">16</span>-<span style=\"color: #008080; text-decoration-color: #008080; font-weight: bold\">19</span> Mph Over<span style=\"font-weight: bold\">)</span>               <a href=\"file:///var/folders/v0/wzkm0bb11x1b_27rl_172pdr0000gp/T/ipykernel_78208/2760839720.py\" target=\"_blank\"><span style=\"color: #7f7f7f; text-decoration-color: #7f7f7f\">2760839720.py</span></a><span style=\"color: #7f7f7f; text-decoration-color: #7f7f7f\">:</span><a href=\"file:///var/folders/v0/wzkm0bb11x1b_27rl_172pdr0000gp/T/ipykernel_78208/2760839720.py#55\" target=\"_blank\"><span style=\"color: #7f7f7f; text-decoration-color: #7f7f7f\">55</span></a>\n",
       "</pre>\n"
      ],
      "text/plain": [
       "\u001b[2;36m          \u001b[0m\u001b[2;36m \u001b[0mCase details ALLA GRANT \u001b[1;36m1979\u001b[0m Exceeded Posted Speed Limit \u001b[1m(\u001b[0m\u001b[1;36m16\u001b[0m-\u001b[1;36m19\u001b[0m Mph Over\u001b[1m)\u001b[0m               \u001b]8;id=538416;file:///var/folders/v0/wzkm0bb11x1b_27rl_172pdr0000gp/T/ipykernel_78208/2760839720.py\u001b\\\u001b[2m2760839720.py\u001b[0m\u001b]8;;\u001b\\\u001b[2m:\u001b[0m\u001b]8;id=681264;file:///var/folders/v0/wzkm0bb11x1b_27rl_172pdr0000gp/T/ipykernel_78208/2760839720.py#55\u001b\\\u001b[2m55\u001b[0m\u001b]8;;\u001b\\\n"
      ]
     },
     "metadata": {},
     "output_type": "display_data"
    },
    {
     "data": {
      "text/html": [
       "<pre style=\"white-space:pre;overflow-x:auto;line-height:normal;font-family:Menlo,'DejaVu Sans Mono',consolas,'Courier New',monospace\"><span style=\"color: #7fbfbf; text-decoration-color: #7fbfbf\">           </span>Searching for SHEILA TURNER <span style=\"color: #008080; text-decoration-color: #008080; font-weight: bold\">1976.0</span> WENTZVILLE MO <span style=\"color: #008080; text-decoration-color: #008080; font-weight: bold\">63385</span> <span style=\"color: #008080; text-decoration-color: #008080; font-weight: bold\">2008</span> ARCHWAY DR                  <a href=\"file:///var/folders/v0/wzkm0bb11x1b_27rl_172pdr0000gp/T/ipykernel_78208/2760839720.py\" target=\"_blank\"><span style=\"color: #7f7f7f; text-decoration-color: #7f7f7f\">2760839720.py</span></a><span style=\"color: #7f7f7f; text-decoration-color: #7f7f7f\">:</span><a href=\"file:///var/folders/v0/wzkm0bb11x1b_27rl_172pdr0000gp/T/ipykernel_78208/2760839720.py#24\" target=\"_blank\"><span style=\"color: #7f7f7f; text-decoration-color: #7f7f7f\">24</span></a>\n",
       "</pre>\n"
      ],
      "text/plain": [
       "\u001b[2;36m          \u001b[0m\u001b[2;36m \u001b[0mSearching for SHEILA TURNER \u001b[1;36m1976.0\u001b[0m WENTZVILLE MO \u001b[1;36m63385\u001b[0m \u001b[1;36m2008\u001b[0m ARCHWAY DR                  \u001b]8;id=975619;file:///var/folders/v0/wzkm0bb11x1b_27rl_172pdr0000gp/T/ipykernel_78208/2760839720.py\u001b\\\u001b[2m2760839720.py\u001b[0m\u001b]8;;\u001b\\\u001b[2m:\u001b[0m\u001b]8;id=771444;file:///var/folders/v0/wzkm0bb11x1b_27rl_172pdr0000gp/T/ipykernel_78208/2760839720.py#24\u001b\\\u001b[2m24\u001b[0m\u001b]8;;\u001b\\\n"
      ]
     },
     "metadata": {},
     "output_type": "display_data"
    },
    {
     "data": {
      "text/html": [
       "<pre style=\"white-space:pre;overflow-x:auto;line-height:normal;font-family:Menlo,'DejaVu Sans Mono',consolas,'Courier New',monospace\"><span style=\"color: #7fbfbf; text-decoration-color: #7fbfbf\">[14:57:35] </span>Case <span style=\"color: #008080; text-decoration-color: #008080; font-weight: bold\">230310755</span> already exists with status not_contacted                                 <a href=\"file:///var/folders/v0/wzkm0bb11x1b_27rl_172pdr0000gp/T/ipykernel_78208/2760839720.py\" target=\"_blank\"><span style=\"color: #7f7f7f; text-decoration-color: #7f7f7f\">2760839720.py</span></a><span style=\"color: #7f7f7f; text-decoration-color: #7f7f7f\">:</span><a href=\"file:///var/folders/v0/wzkm0bb11x1b_27rl_172pdr0000gp/T/ipykernel_78208/2760839720.py#52\" target=\"_blank\"><span style=\"color: #7f7f7f; text-decoration-color: #7f7f7f\">52</span></a>\n",
       "</pre>\n"
      ],
      "text/plain": [
       "\u001b[2;36m[14:57:35]\u001b[0m\u001b[2;36m \u001b[0mCase \u001b[1;36m230310755\u001b[0m already exists with status not_contacted                                 \u001b]8;id=404183;file:///var/folders/v0/wzkm0bb11x1b_27rl_172pdr0000gp/T/ipykernel_78208/2760839720.py\u001b\\\u001b[2m2760839720.py\u001b[0m\u001b]8;;\u001b\\\u001b[2m:\u001b[0m\u001b]8;id=805741;file:///var/folders/v0/wzkm0bb11x1b_27rl_172pdr0000gp/T/ipykernel_78208/2760839720.py#52\u001b\\\u001b[2m52\u001b[0m\u001b]8;;\u001b\\\n"
      ]
     },
     "metadata": {},
     "output_type": "display_data"
    },
    {
     "data": {
      "text/html": [
       "<pre style=\"white-space:pre;overflow-x:auto;line-height:normal;font-family:Menlo,'DejaVu Sans Mono',consolas,'Courier New',monospace\"><span style=\"color: #7fbfbf; text-decoration-color: #7fbfbf\">           </span>Case details SHEILA TURNER <span style=\"color: #008080; text-decoration-color: #008080; font-weight: bold\">1976</span> Exceeded Posted Speed Limit <span style=\"font-weight: bold\">(</span><span style=\"color: #008080; text-decoration-color: #008080; font-weight: bold\">16</span>-<span style=\"color: #008080; text-decoration-color: #008080; font-weight: bold\">19</span> Mph Over<span style=\"font-weight: bold\">)</span>            <a href=\"file:///var/folders/v0/wzkm0bb11x1b_27rl_172pdr0000gp/T/ipykernel_78208/2760839720.py\" target=\"_blank\"><span style=\"color: #7f7f7f; text-decoration-color: #7f7f7f\">2760839720.py</span></a><span style=\"color: #7f7f7f; text-decoration-color: #7f7f7f\">:</span><a href=\"file:///var/folders/v0/wzkm0bb11x1b_27rl_172pdr0000gp/T/ipykernel_78208/2760839720.py#55\" target=\"_blank\"><span style=\"color: #7f7f7f; text-decoration-color: #7f7f7f\">55</span></a>\n",
       "</pre>\n"
      ],
      "text/plain": [
       "\u001b[2;36m          \u001b[0m\u001b[2;36m \u001b[0mCase details SHEILA TURNER \u001b[1;36m1976\u001b[0m Exceeded Posted Speed Limit \u001b[1m(\u001b[0m\u001b[1;36m16\u001b[0m-\u001b[1;36m19\u001b[0m Mph Over\u001b[1m)\u001b[0m            \u001b]8;id=745347;file:///var/folders/v0/wzkm0bb11x1b_27rl_172pdr0000gp/T/ipykernel_78208/2760839720.py\u001b\\\u001b[2m2760839720.py\u001b[0m\u001b]8;;\u001b\\\u001b[2m:\u001b[0m\u001b]8;id=666425;file:///var/folders/v0/wzkm0bb11x1b_27rl_172pdr0000gp/T/ipykernel_78208/2760839720.py#55\u001b\\\u001b[2m55\u001b[0m\u001b]8;;\u001b\\\n"
      ]
     },
     "metadata": {},
     "output_type": "display_data"
    },
    {
     "data": {
      "text/html": [
       "<pre style=\"white-space:pre;overflow-x:auto;line-height:normal;font-family:Menlo,'DejaVu Sans Mono',consolas,'Courier New',monospace\"><span style=\"color: #7fbfbf; text-decoration-color: #7fbfbf\">           </span>Searching for BROCK FOWLER <span style=\"color: #008080; text-decoration-color: #008080; font-weight: bold\">1981.0</span> MEXICO MO <span style=\"color: #008080; text-decoration-color: #008080; font-weight: bold\">65265</span> <span style=\"color: #008080; text-decoration-color: #008080; font-weight: bold\">1013</span> S OLIVE ST                       <a href=\"file:///var/folders/v0/wzkm0bb11x1b_27rl_172pdr0000gp/T/ipykernel_78208/2760839720.py\" target=\"_blank\"><span style=\"color: #7f7f7f; text-decoration-color: #7f7f7f\">2760839720.py</span></a><span style=\"color: #7f7f7f; text-decoration-color: #7f7f7f\">:</span><a href=\"file:///var/folders/v0/wzkm0bb11x1b_27rl_172pdr0000gp/T/ipykernel_78208/2760839720.py#24\" target=\"_blank\"><span style=\"color: #7f7f7f; text-decoration-color: #7f7f7f\">24</span></a>\n",
       "</pre>\n"
      ],
      "text/plain": [
       "\u001b[2;36m          \u001b[0m\u001b[2;36m \u001b[0mSearching for BROCK FOWLER \u001b[1;36m1981.0\u001b[0m MEXICO MO \u001b[1;36m65265\u001b[0m \u001b[1;36m1013\u001b[0m S OLIVE ST                       \u001b]8;id=70789;file:///var/folders/v0/wzkm0bb11x1b_27rl_172pdr0000gp/T/ipykernel_78208/2760839720.py\u001b\\\u001b[2m2760839720.py\u001b[0m\u001b]8;;\u001b\\\u001b[2m:\u001b[0m\u001b]8;id=383320;file:///var/folders/v0/wzkm0bb11x1b_27rl_172pdr0000gp/T/ipykernel_78208/2760839720.py#24\u001b\\\u001b[2m24\u001b[0m\u001b]8;;\u001b\\\n"
      ]
     },
     "metadata": {},
     "output_type": "display_data"
    },
    {
     "data": {
      "text/html": [
       "<pre style=\"white-space:pre;overflow-x:auto;line-height:normal;font-family:Menlo,'DejaVu Sans Mono',consolas,'Courier New',monospace\"><span style=\"color: #7fbfbf; text-decoration-color: #7fbfbf\">[14:57:36] </span>Case <span style=\"color: #008080; text-decoration-color: #008080; font-weight: bold\">230767916</span> already exists with status contacted                                     <a href=\"file:///var/folders/v0/wzkm0bb11x1b_27rl_172pdr0000gp/T/ipykernel_78208/2760839720.py\" target=\"_blank\"><span style=\"color: #7f7f7f; text-decoration-color: #7f7f7f\">2760839720.py</span></a><span style=\"color: #7f7f7f; text-decoration-color: #7f7f7f\">:</span><a href=\"file:///var/folders/v0/wzkm0bb11x1b_27rl_172pdr0000gp/T/ipykernel_78208/2760839720.py#52\" target=\"_blank\"><span style=\"color: #7f7f7f; text-decoration-color: #7f7f7f\">52</span></a>\n",
       "</pre>\n"
      ],
      "text/plain": [
       "\u001b[2;36m[14:57:36]\u001b[0m\u001b[2;36m \u001b[0mCase \u001b[1;36m230767916\u001b[0m already exists with status contacted                                     \u001b]8;id=979765;file:///var/folders/v0/wzkm0bb11x1b_27rl_172pdr0000gp/T/ipykernel_78208/2760839720.py\u001b\\\u001b[2m2760839720.py\u001b[0m\u001b]8;;\u001b\\\u001b[2m:\u001b[0m\u001b]8;id=336027;file:///var/folders/v0/wzkm0bb11x1b_27rl_172pdr0000gp/T/ipykernel_78208/2760839720.py#52\u001b\\\u001b[2m52\u001b[0m\u001b]8;;\u001b\\\n"
      ]
     },
     "metadata": {},
     "output_type": "display_data"
    },
    {
     "data": {
      "text/html": [
       "<pre style=\"white-space:pre;overflow-x:auto;line-height:normal;font-family:Menlo,'DejaVu Sans Mono',consolas,'Courier New',monospace\"><span style=\"color: #7fbfbf; text-decoration-color: #7fbfbf\">           </span>Case details BROCK FOWLER <span style=\"color: #008080; text-decoration-color: #008080; font-weight: bold\">1981</span> Exceeded Posted Speed Limit <span style=\"font-weight: bold\">(</span><span style=\"color: #008080; text-decoration-color: #008080; font-weight: bold\">20</span>-<span style=\"color: #008080; text-decoration-color: #008080; font-weight: bold\">25</span> Mph Over<span style=\"font-weight: bold\">)</span>             <a href=\"file:///var/folders/v0/wzkm0bb11x1b_27rl_172pdr0000gp/T/ipykernel_78208/2760839720.py\" target=\"_blank\"><span style=\"color: #7f7f7f; text-decoration-color: #7f7f7f\">2760839720.py</span></a><span style=\"color: #7f7f7f; text-decoration-color: #7f7f7f\">:</span><a href=\"file:///var/folders/v0/wzkm0bb11x1b_27rl_172pdr0000gp/T/ipykernel_78208/2760839720.py#55\" target=\"_blank\"><span style=\"color: #7f7f7f; text-decoration-color: #7f7f7f\">55</span></a>\n",
       "</pre>\n"
      ],
      "text/plain": [
       "\u001b[2;36m          \u001b[0m\u001b[2;36m \u001b[0mCase details BROCK FOWLER \u001b[1;36m1981\u001b[0m Exceeded Posted Speed Limit \u001b[1m(\u001b[0m\u001b[1;36m20\u001b[0m-\u001b[1;36m25\u001b[0m Mph Over\u001b[1m)\u001b[0m             \u001b]8;id=346624;file:///var/folders/v0/wzkm0bb11x1b_27rl_172pdr0000gp/T/ipykernel_78208/2760839720.py\u001b\\\u001b[2m2760839720.py\u001b[0m\u001b]8;;\u001b\\\u001b[2m:\u001b[0m\u001b]8;id=574296;file:///var/folders/v0/wzkm0bb11x1b_27rl_172pdr0000gp/T/ipykernel_78208/2760839720.py#55\u001b\\\u001b[2m55\u001b[0m\u001b]8;;\u001b\\\n"
      ]
     },
     "metadata": {},
     "output_type": "display_data"
    },
    {
     "data": {
      "text/html": [
       "<pre style=\"white-space:pre;overflow-x:auto;line-height:normal;font-family:Menlo,'DejaVu Sans Mono',consolas,'Courier New',monospace\"><span style=\"color: #7fbfbf; text-decoration-color: #7fbfbf\">           </span>Case WARREN__KENNETH_E_49_06_06_2024 has no address                                     <a href=\"file:///var/folders/v0/wzkm0bb11x1b_27rl_172pdr0000gp/T/ipykernel_78208/2760839720.py\" target=\"_blank\"><span style=\"color: #7f7f7f; text-decoration-color: #7f7f7f\">2760839720.py</span></a><span style=\"color: #7f7f7f; text-decoration-color: #7f7f7f\">:</span><a href=\"file:///var/folders/v0/wzkm0bb11x1b_27rl_172pdr0000gp/T/ipykernel_78208/2760839720.py#20\" target=\"_blank\"><span style=\"color: #7f7f7f; text-decoration-color: #7f7f7f\">20</span></a>\n",
       "</pre>\n"
      ],
      "text/plain": [
       "\u001b[2;36m          \u001b[0m\u001b[2;36m \u001b[0mCase WARREN__KENNETH_E_49_06_06_2024 has no address                                     \u001b]8;id=394752;file:///var/folders/v0/wzkm0bb11x1b_27rl_172pdr0000gp/T/ipykernel_78208/2760839720.py\u001b\\\u001b[2m2760839720.py\u001b[0m\u001b]8;;\u001b\\\u001b[2m:\u001b[0m\u001b]8;id=540546;file:///var/folders/v0/wzkm0bb11x1b_27rl_172pdr0000gp/T/ipykernel_78208/2760839720.py#20\u001b\\\u001b[2m20\u001b[0m\u001b]8;;\u001b\\\n"
      ]
     },
     "metadata": {},
     "output_type": "display_data"
    },
    {
     "data": {
      "text/html": [
       "<pre style=\"white-space:pre;overflow-x:auto;line-height:normal;font-family:Menlo,'DejaVu Sans Mono',consolas,'Courier New',monospace\"><span style=\"color: #7fbfbf; text-decoration-color: #7fbfbf\">           </span>Case EVANS__JAMES_O_40_06_06_2024 has no address                                        <a href=\"file:///var/folders/v0/wzkm0bb11x1b_27rl_172pdr0000gp/T/ipykernel_78208/2760839720.py\" target=\"_blank\"><span style=\"color: #7f7f7f; text-decoration-color: #7f7f7f\">2760839720.py</span></a><span style=\"color: #7f7f7f; text-decoration-color: #7f7f7f\">:</span><a href=\"file:///var/folders/v0/wzkm0bb11x1b_27rl_172pdr0000gp/T/ipykernel_78208/2760839720.py#20\" target=\"_blank\"><span style=\"color: #7f7f7f; text-decoration-color: #7f7f7f\">20</span></a>\n",
       "</pre>\n"
      ],
      "text/plain": [
       "\u001b[2;36m          \u001b[0m\u001b[2;36m \u001b[0mCase EVANS__JAMES_O_40_06_06_2024 has no address                                        \u001b]8;id=62606;file:///var/folders/v0/wzkm0bb11x1b_27rl_172pdr0000gp/T/ipykernel_78208/2760839720.py\u001b\\\u001b[2m2760839720.py\u001b[0m\u001b]8;;\u001b\\\u001b[2m:\u001b[0m\u001b]8;id=991696;file:///var/folders/v0/wzkm0bb11x1b_27rl_172pdr0000gp/T/ipykernel_78208/2760839720.py#20\u001b\\\u001b[2m20\u001b[0m\u001b]8;;\u001b\\\n"
      ]
     },
     "metadata": {},
     "output_type": "display_data"
    },
    {
     "data": {
      "text/html": [
       "<pre style=\"white-space:pre;overflow-x:auto;line-height:normal;font-family:Menlo,'DejaVu Sans Mono',consolas,'Courier New',monospace\"><span style=\"color: #7fbfbf; text-decoration-color: #7fbfbf\">           </span>Case DESHONG__DILLON_M_28_06_06_2024 has no address                                     <a href=\"file:///var/folders/v0/wzkm0bb11x1b_27rl_172pdr0000gp/T/ipykernel_78208/2760839720.py\" target=\"_blank\"><span style=\"color: #7f7f7f; text-decoration-color: #7f7f7f\">2760839720.py</span></a><span style=\"color: #7f7f7f; text-decoration-color: #7f7f7f\">:</span><a href=\"file:///var/folders/v0/wzkm0bb11x1b_27rl_172pdr0000gp/T/ipykernel_78208/2760839720.py#20\" target=\"_blank\"><span style=\"color: #7f7f7f; text-decoration-color: #7f7f7f\">20</span></a>\n",
       "</pre>\n"
      ],
      "text/plain": [
       "\u001b[2;36m          \u001b[0m\u001b[2;36m \u001b[0mCase DESHONG__DILLON_M_28_06_06_2024 has no address                                     \u001b]8;id=369562;file:///var/folders/v0/wzkm0bb11x1b_27rl_172pdr0000gp/T/ipykernel_78208/2760839720.py\u001b\\\u001b[2m2760839720.py\u001b[0m\u001b]8;;\u001b\\\u001b[2m:\u001b[0m\u001b]8;id=741951;file:///var/folders/v0/wzkm0bb11x1b_27rl_172pdr0000gp/T/ipykernel_78208/2760839720.py#20\u001b\\\u001b[2m20\u001b[0m\u001b]8;;\u001b\\\n"
      ]
     },
     "metadata": {},
     "output_type": "display_data"
    },
    {
     "data": {
      "text/html": [
       "<pre style=\"white-space:pre;overflow-x:auto;line-height:normal;font-family:Menlo,'DejaVu Sans Mono',consolas,'Courier New',monospace\"><span style=\"color: #7fbfbf; text-decoration-color: #7fbfbf\">           </span>Case COMPTON__RYAN_O_27_06_06_2024 has no address                                       <a href=\"file:///var/folders/v0/wzkm0bb11x1b_27rl_172pdr0000gp/T/ipykernel_78208/2760839720.py\" target=\"_blank\"><span style=\"color: #7f7f7f; text-decoration-color: #7f7f7f\">2760839720.py</span></a><span style=\"color: #7f7f7f; text-decoration-color: #7f7f7f\">:</span><a href=\"file:///var/folders/v0/wzkm0bb11x1b_27rl_172pdr0000gp/T/ipykernel_78208/2760839720.py#20\" target=\"_blank\"><span style=\"color: #7f7f7f; text-decoration-color: #7f7f7f\">20</span></a>\n",
       "</pre>\n"
      ],
      "text/plain": [
       "\u001b[2;36m          \u001b[0m\u001b[2;36m \u001b[0mCase COMPTON__RYAN_O_27_06_06_2024 has no address                                       \u001b]8;id=932623;file:///var/folders/v0/wzkm0bb11x1b_27rl_172pdr0000gp/T/ipykernel_78208/2760839720.py\u001b\\\u001b[2m2760839720.py\u001b[0m\u001b]8;;\u001b\\\u001b[2m:\u001b[0m\u001b]8;id=34014;file:///var/folders/v0/wzkm0bb11x1b_27rl_172pdr0000gp/T/ipykernel_78208/2760839720.py#20\u001b\\\u001b[2m20\u001b[0m\u001b]8;;\u001b\\\n"
      ]
     },
     "metadata": {},
     "output_type": "display_data"
    },
    {
     "data": {
      "text/html": [
       "<pre style=\"white-space:pre;overflow-x:auto;line-height:normal;font-family:Menlo,'DejaVu Sans Mono',consolas,'Courier New',monospace\"><span style=\"color: #7fbfbf; text-decoration-color: #7fbfbf\">[14:57:37] </span>Case CIESLINSKI__MARISEL_37_06_06_2024 has no address                                   <a href=\"file:///var/folders/v0/wzkm0bb11x1b_27rl_172pdr0000gp/T/ipykernel_78208/2760839720.py\" target=\"_blank\"><span style=\"color: #7f7f7f; text-decoration-color: #7f7f7f\">2760839720.py</span></a><span style=\"color: #7f7f7f; text-decoration-color: #7f7f7f\">:</span><a href=\"file:///var/folders/v0/wzkm0bb11x1b_27rl_172pdr0000gp/T/ipykernel_78208/2760839720.py#20\" target=\"_blank\"><span style=\"color: #7f7f7f; text-decoration-color: #7f7f7f\">20</span></a>\n",
       "</pre>\n"
      ],
      "text/plain": [
       "\u001b[2;36m[14:57:37]\u001b[0m\u001b[2;36m \u001b[0mCase CIESLINSKI__MARISEL_37_06_06_2024 has no address                                   \u001b]8;id=197692;file:///var/folders/v0/wzkm0bb11x1b_27rl_172pdr0000gp/T/ipykernel_78208/2760839720.py\u001b\\\u001b[2m2760839720.py\u001b[0m\u001b]8;;\u001b\\\u001b[2m:\u001b[0m\u001b]8;id=772980;file:///var/folders/v0/wzkm0bb11x1b_27rl_172pdr0000gp/T/ipykernel_78208/2760839720.py#20\u001b\\\u001b[2m20\u001b[0m\u001b]8;;\u001b\\\n"
      ]
     },
     "metadata": {},
     "output_type": "display_data"
    },
    {
     "data": {
      "text/html": [
       "<pre style=\"white-space:pre;overflow-x:auto;line-height:normal;font-family:Menlo,'DejaVu Sans Mono',consolas,'Courier New',monospace\"><span style=\"color: #7fbfbf; text-decoration-color: #7fbfbf\">           </span>Case BECKER__TIMOTHY_E_60_06_06_2024 has no address                                     <a href=\"file:///var/folders/v0/wzkm0bb11x1b_27rl_172pdr0000gp/T/ipykernel_78208/2760839720.py\" target=\"_blank\"><span style=\"color: #7f7f7f; text-decoration-color: #7f7f7f\">2760839720.py</span></a><span style=\"color: #7f7f7f; text-decoration-color: #7f7f7f\">:</span><a href=\"file:///var/folders/v0/wzkm0bb11x1b_27rl_172pdr0000gp/T/ipykernel_78208/2760839720.py#20\" target=\"_blank\"><span style=\"color: #7f7f7f; text-decoration-color: #7f7f7f\">20</span></a>\n",
       "</pre>\n"
      ],
      "text/plain": [
       "\u001b[2;36m          \u001b[0m\u001b[2;36m \u001b[0mCase BECKER__TIMOTHY_E_60_06_06_2024 has no address                                     \u001b]8;id=647558;file:///var/folders/v0/wzkm0bb11x1b_27rl_172pdr0000gp/T/ipykernel_78208/2760839720.py\u001b\\\u001b[2m2760839720.py\u001b[0m\u001b]8;;\u001b\\\u001b[2m:\u001b[0m\u001b]8;id=855607;file:///var/folders/v0/wzkm0bb11x1b_27rl_172pdr0000gp/T/ipykernel_78208/2760839720.py#20\u001b\\\u001b[2m20\u001b[0m\u001b]8;;\u001b\\\n"
      ]
     },
     "metadata": {},
     "output_type": "display_data"
    },
    {
     "data": {
      "text/html": [
       "<pre style=\"white-space:pre;overflow-x:auto;line-height:normal;font-family:Menlo,'DejaVu Sans Mono',consolas,'Courier New',monospace\"><span style=\"color: #7fbfbf; text-decoration-color: #7fbfbf\">           </span>Case BAILEY__JAMES_P_19_06_06_2024 has no address                                       <a href=\"file:///var/folders/v0/wzkm0bb11x1b_27rl_172pdr0000gp/T/ipykernel_78208/2760839720.py\" target=\"_blank\"><span style=\"color: #7f7f7f; text-decoration-color: #7f7f7f\">2760839720.py</span></a><span style=\"color: #7f7f7f; text-decoration-color: #7f7f7f\">:</span><a href=\"file:///var/folders/v0/wzkm0bb11x1b_27rl_172pdr0000gp/T/ipykernel_78208/2760839720.py#20\" target=\"_blank\"><span style=\"color: #7f7f7f; text-decoration-color: #7f7f7f\">20</span></a>\n",
       "</pre>\n"
      ],
      "text/plain": [
       "\u001b[2;36m          \u001b[0m\u001b[2;36m \u001b[0mCase BAILEY__JAMES_P_19_06_06_2024 has no address                                       \u001b]8;id=993063;file:///var/folders/v0/wzkm0bb11x1b_27rl_172pdr0000gp/T/ipykernel_78208/2760839720.py\u001b\\\u001b[2m2760839720.py\u001b[0m\u001b]8;;\u001b\\\u001b[2m:\u001b[0m\u001b]8;id=487924;file:///var/folders/v0/wzkm0bb11x1b_27rl_172pdr0000gp/T/ipykernel_78208/2760839720.py#20\u001b\\\u001b[2m20\u001b[0m\u001b]8;;\u001b\\\n"
      ]
     },
     "metadata": {},
     "output_type": "display_data"
    },
    {
     "data": {
      "text/html": [
       "<pre style=\"white-space:pre;overflow-x:auto;line-height:normal;font-family:Menlo,'DejaVu Sans Mono',consolas,'Courier New',monospace\"><span style=\"color: #7fbfbf; text-decoration-color: #7fbfbf\">           </span>Case ADAMS__SHIANNE_N_27_06_06_2024 has no address                                      <a href=\"file:///var/folders/v0/wzkm0bb11x1b_27rl_172pdr0000gp/T/ipykernel_78208/2760839720.py\" target=\"_blank\"><span style=\"color: #7f7f7f; text-decoration-color: #7f7f7f\">2760839720.py</span></a><span style=\"color: #7f7f7f; text-decoration-color: #7f7f7f\">:</span><a href=\"file:///var/folders/v0/wzkm0bb11x1b_27rl_172pdr0000gp/T/ipykernel_78208/2760839720.py#20\" target=\"_blank\"><span style=\"color: #7f7f7f; text-decoration-color: #7f7f7f\">20</span></a>\n",
       "</pre>\n"
      ],
      "text/plain": [
       "\u001b[2;36m          \u001b[0m\u001b[2;36m \u001b[0mCase ADAMS__SHIANNE_N_27_06_06_2024 has no address                                      \u001b]8;id=263830;file:///var/folders/v0/wzkm0bb11x1b_27rl_172pdr0000gp/T/ipykernel_78208/2760839720.py\u001b\\\u001b[2m2760839720.py\u001b[0m\u001b]8;;\u001b\\\u001b[2m:\u001b[0m\u001b]8;id=894126;file:///var/folders/v0/wzkm0bb11x1b_27rl_172pdr0000gp/T/ipykernel_78208/2760839720.py#20\u001b\\\u001b[2m20\u001b[0m\u001b]8;;\u001b\\\n"
      ]
     },
     "metadata": {},
     "output_type": "display_data"
    },
    {
     "data": {
      "text/html": [
       "<pre style=\"white-space:pre;overflow-x:auto;line-height:normal;font-family:Menlo,'DejaVu Sans Mono',consolas,'Courier New',monospace\"><span style=\"color: #7fbfbf; text-decoration-color: #7fbfbf\">           </span>Searching for KAYLEE BROWN <span style=\"color: #008080; text-decoration-color: #008080; font-weight: bold\">2004.0</span> FOLEY MO <span style=\"color: #008080; text-decoration-color: #008080; font-weight: bold\">63347</span> <span style=\"color: #008080; text-decoration-color: #008080; font-weight: bold\">55</span> TALL TREE LANE                      <a href=\"file:///var/folders/v0/wzkm0bb11x1b_27rl_172pdr0000gp/T/ipykernel_78208/2760839720.py\" target=\"_blank\"><span style=\"color: #7f7f7f; text-decoration-color: #7f7f7f\">2760839720.py</span></a><span style=\"color: #7f7f7f; text-decoration-color: #7f7f7f\">:</span><a href=\"file:///var/folders/v0/wzkm0bb11x1b_27rl_172pdr0000gp/T/ipykernel_78208/2760839720.py#24\" target=\"_blank\"><span style=\"color: #7f7f7f; text-decoration-color: #7f7f7f\">24</span></a>\n",
       "</pre>\n"
      ],
      "text/plain": [
       "\u001b[2;36m          \u001b[0m\u001b[2;36m \u001b[0mSearching for KAYLEE BROWN \u001b[1;36m2004.0\u001b[0m FOLEY MO \u001b[1;36m63347\u001b[0m \u001b[1;36m55\u001b[0m TALL TREE LANE                      \u001b]8;id=14235;file:///var/folders/v0/wzkm0bb11x1b_27rl_172pdr0000gp/T/ipykernel_78208/2760839720.py\u001b\\\u001b[2m2760839720.py\u001b[0m\u001b]8;;\u001b\\\u001b[2m:\u001b[0m\u001b]8;id=405598;file:///var/folders/v0/wzkm0bb11x1b_27rl_172pdr0000gp/T/ipykernel_78208/2760839720.py#24\u001b\\\u001b[2m24\u001b[0m\u001b]8;;\u001b\\\n"
      ]
     },
     "metadata": {},
     "output_type": "display_data"
    },
    {
     "data": {
      "text/html": [
       "<pre style=\"white-space:pre;overflow-x:auto;line-height:normal;font-family:Menlo,'DejaVu Sans Mono',consolas,'Courier New',monospace\"><span style=\"color: #7fbfbf; text-decoration-color: #7fbfbf\">[14:57:38] </span>Case <span style=\"color: #008080; text-decoration-color: #008080; font-weight: bold\">704387817</span> already exists with status contacted                                     <a href=\"file:///var/folders/v0/wzkm0bb11x1b_27rl_172pdr0000gp/T/ipykernel_78208/2760839720.py\" target=\"_blank\"><span style=\"color: #7f7f7f; text-decoration-color: #7f7f7f\">2760839720.py</span></a><span style=\"color: #7f7f7f; text-decoration-color: #7f7f7f\">:</span><a href=\"file:///var/folders/v0/wzkm0bb11x1b_27rl_172pdr0000gp/T/ipykernel_78208/2760839720.py#52\" target=\"_blank\"><span style=\"color: #7f7f7f; text-decoration-color: #7f7f7f\">52</span></a>\n",
       "</pre>\n"
      ],
      "text/plain": [
       "\u001b[2;36m[14:57:38]\u001b[0m\u001b[2;36m \u001b[0mCase \u001b[1;36m704387817\u001b[0m already exists with status contacted                                     \u001b]8;id=258507;file:///var/folders/v0/wzkm0bb11x1b_27rl_172pdr0000gp/T/ipykernel_78208/2760839720.py\u001b\\\u001b[2m2760839720.py\u001b[0m\u001b]8;;\u001b\\\u001b[2m:\u001b[0m\u001b]8;id=29229;file:///var/folders/v0/wzkm0bb11x1b_27rl_172pdr0000gp/T/ipykernel_78208/2760839720.py#52\u001b\\\u001b[2m52\u001b[0m\u001b]8;;\u001b\\\n"
      ]
     },
     "metadata": {},
     "output_type": "display_data"
    },
    {
     "data": {
      "text/html": [
       "<pre style=\"white-space:pre;overflow-x:auto;line-height:normal;font-family:Menlo,'DejaVu Sans Mono',consolas,'Courier New',monospace\"><span style=\"color: #7fbfbf; text-decoration-color: #7fbfbf\">           </span>Case details KAYLEE BROWN <span style=\"color: #008080; text-decoration-color: #008080; font-weight: bold\">2004</span> Exceeded Posted Speed Limit <span style=\"font-weight: bold\">(</span>Exceeded By <span style=\"color: #008080; text-decoration-color: #008080; font-weight: bold\">16</span> - <span style=\"color: #008080; text-decoration-color: #008080; font-weight: bold\">19</span> Mph<span style=\"font-weight: bold\">)</span>    <a href=\"file:///var/folders/v0/wzkm0bb11x1b_27rl_172pdr0000gp/T/ipykernel_78208/2760839720.py\" target=\"_blank\"><span style=\"color: #7f7f7f; text-decoration-color: #7f7f7f\">2760839720.py</span></a><span style=\"color: #7f7f7f; text-decoration-color: #7f7f7f\">:</span><a href=\"file:///var/folders/v0/wzkm0bb11x1b_27rl_172pdr0000gp/T/ipykernel_78208/2760839720.py#55\" target=\"_blank\"><span style=\"color: #7f7f7f; text-decoration-color: #7f7f7f\">55</span></a>\n",
       "</pre>\n"
      ],
      "text/plain": [
       "\u001b[2;36m          \u001b[0m\u001b[2;36m \u001b[0mCase details KAYLEE BROWN \u001b[1;36m2004\u001b[0m Exceeded Posted Speed Limit \u001b[1m(\u001b[0mExceeded By \u001b[1;36m16\u001b[0m - \u001b[1;36m19\u001b[0m Mph\u001b[1m)\u001b[0m    \u001b]8;id=713458;file:///var/folders/v0/wzkm0bb11x1b_27rl_172pdr0000gp/T/ipykernel_78208/2760839720.py\u001b\\\u001b[2m2760839720.py\u001b[0m\u001b]8;;\u001b\\\u001b[2m:\u001b[0m\u001b]8;id=542621;file:///var/folders/v0/wzkm0bb11x1b_27rl_172pdr0000gp/T/ipykernel_78208/2760839720.py#55\u001b\\\u001b[2m55\u001b[0m\u001b]8;;\u001b\\\n"
      ]
     },
     "metadata": {},
     "output_type": "display_data"
    },
    {
     "data": {
      "text/html": [
       "<pre style=\"white-space:pre;overflow-x:auto;line-height:normal;font-family:Menlo,'DejaVu Sans Mono',consolas,'Courier New',monospace\"><span style=\"color: #7fbfbf; text-decoration-color: #7fbfbf\">           </span>Searching for KORY BOSWELL <span style=\"color: #008080; text-decoration-color: #008080; font-weight: bold\">2004.0</span> HANNIBAL MO <span style=\"color: #008080; text-decoration-color: #008080; font-weight: bold\">63401</span> <span style=\"color: #008080; text-decoration-color: #008080; font-weight: bold\">1601</span> CATHERINE DR                   <a href=\"file:///var/folders/v0/wzkm0bb11x1b_27rl_172pdr0000gp/T/ipykernel_78208/2760839720.py\" target=\"_blank\"><span style=\"color: #7f7f7f; text-decoration-color: #7f7f7f\">2760839720.py</span></a><span style=\"color: #7f7f7f; text-decoration-color: #7f7f7f\">:</span><a href=\"file:///var/folders/v0/wzkm0bb11x1b_27rl_172pdr0000gp/T/ipykernel_78208/2760839720.py#24\" target=\"_blank\"><span style=\"color: #7f7f7f; text-decoration-color: #7f7f7f\">24</span></a>\n",
       "</pre>\n"
      ],
      "text/plain": [
       "\u001b[2;36m          \u001b[0m\u001b[2;36m \u001b[0mSearching for KORY BOSWELL \u001b[1;36m2004.0\u001b[0m HANNIBAL MO \u001b[1;36m63401\u001b[0m \u001b[1;36m1601\u001b[0m CATHERINE DR                   \u001b]8;id=210952;file:///var/folders/v0/wzkm0bb11x1b_27rl_172pdr0000gp/T/ipykernel_78208/2760839720.py\u001b\\\u001b[2m2760839720.py\u001b[0m\u001b]8;;\u001b\\\u001b[2m:\u001b[0m\u001b]8;id=381386;file:///var/folders/v0/wzkm0bb11x1b_27rl_172pdr0000gp/T/ipykernel_78208/2760839720.py#24\u001b\\\u001b[2m24\u001b[0m\u001b]8;;\u001b\\\n"
      ]
     },
     "metadata": {},
     "output_type": "display_data"
    },
    {
     "data": {
      "text/html": [
       "<pre style=\"white-space:pre;overflow-x:auto;line-height:normal;font-family:Menlo,'DejaVu Sans Mono',consolas,'Courier New',monospace\"><span style=\"color: #7fbfbf; text-decoration-color: #7fbfbf\">           </span>Case <span style=\"color: #008080; text-decoration-color: #008080; font-weight: bold\">704371693</span> already exists with status contacted                                     <a href=\"file:///var/folders/v0/wzkm0bb11x1b_27rl_172pdr0000gp/T/ipykernel_78208/2760839720.py\" target=\"_blank\"><span style=\"color: #7f7f7f; text-decoration-color: #7f7f7f\">2760839720.py</span></a><span style=\"color: #7f7f7f; text-decoration-color: #7f7f7f\">:</span><a href=\"file:///var/folders/v0/wzkm0bb11x1b_27rl_172pdr0000gp/T/ipykernel_78208/2760839720.py#52\" target=\"_blank\"><span style=\"color: #7f7f7f; text-decoration-color: #7f7f7f\">52</span></a>\n",
       "</pre>\n"
      ],
      "text/plain": [
       "\u001b[2;36m          \u001b[0m\u001b[2;36m \u001b[0mCase \u001b[1;36m704371693\u001b[0m already exists with status contacted                                     \u001b]8;id=187365;file:///var/folders/v0/wzkm0bb11x1b_27rl_172pdr0000gp/T/ipykernel_78208/2760839720.py\u001b\\\u001b[2m2760839720.py\u001b[0m\u001b]8;;\u001b\\\u001b[2m:\u001b[0m\u001b]8;id=305136;file:///var/folders/v0/wzkm0bb11x1b_27rl_172pdr0000gp/T/ipykernel_78208/2760839720.py#52\u001b\\\u001b[2m52\u001b[0m\u001b]8;;\u001b\\\n"
      ]
     },
     "metadata": {},
     "output_type": "display_data"
    },
    {
     "data": {
      "text/html": [
       "<pre style=\"white-space:pre;overflow-x:auto;line-height:normal;font-family:Menlo,'DejaVu Sans Mono',consolas,'Courier New',monospace\"><span style=\"color: #7fbfbf; text-decoration-color: #7fbfbf\">           </span>Case details KORY BOSWELL <span style=\"color: #008080; text-decoration-color: #008080; font-weight: bold\">2004</span> Exceeded Posted Speed Limit <span style=\"font-weight: bold\">(</span>Exceeded By <span style=\"color: #008080; text-decoration-color: #008080; font-weight: bold\">16</span> - <span style=\"color: #008080; text-decoration-color: #008080; font-weight: bold\">19</span> Mph<span style=\"font-weight: bold\">)</span>    <a href=\"file:///var/folders/v0/wzkm0bb11x1b_27rl_172pdr0000gp/T/ipykernel_78208/2760839720.py\" target=\"_blank\"><span style=\"color: #7f7f7f; text-decoration-color: #7f7f7f\">2760839720.py</span></a><span style=\"color: #7f7f7f; text-decoration-color: #7f7f7f\">:</span><a href=\"file:///var/folders/v0/wzkm0bb11x1b_27rl_172pdr0000gp/T/ipykernel_78208/2760839720.py#55\" target=\"_blank\"><span style=\"color: #7f7f7f; text-decoration-color: #7f7f7f\">55</span></a>\n",
       "</pre>\n"
      ],
      "text/plain": [
       "\u001b[2;36m          \u001b[0m\u001b[2;36m \u001b[0mCase details KORY BOSWELL \u001b[1;36m2004\u001b[0m Exceeded Posted Speed Limit \u001b[1m(\u001b[0mExceeded By \u001b[1;36m16\u001b[0m - \u001b[1;36m19\u001b[0m Mph\u001b[1m)\u001b[0m    \u001b]8;id=514174;file:///var/folders/v0/wzkm0bb11x1b_27rl_172pdr0000gp/T/ipykernel_78208/2760839720.py\u001b\\\u001b[2m2760839720.py\u001b[0m\u001b]8;;\u001b\\\u001b[2m:\u001b[0m\u001b]8;id=18683;file:///var/folders/v0/wzkm0bb11x1b_27rl_172pdr0000gp/T/ipykernel_78208/2760839720.py#55\u001b\\\u001b[2m55\u001b[0m\u001b]8;;\u001b\\\n"
      ]
     },
     "metadata": {},
     "output_type": "display_data"
    },
    {
     "data": {
      "text/html": [
       "<pre style=\"white-space:pre;overflow-x:auto;line-height:normal;font-family:Menlo,'DejaVu Sans Mono',consolas,'Courier New',monospace\"><span style=\"color: #7fbfbf; text-decoration-color: #7fbfbf\">[14:57:39] </span>Searching for JOHN BARGER <span style=\"color: #008080; text-decoration-color: #008080; font-weight: bold\">1960.0</span> ROSEBUD MO <span style=\"color: #008080; text-decoration-color: #008080; font-weight: bold\">63091</span> <span style=\"color: #008080; text-decoration-color: #008080; font-weight: bold\">3605</span> PUMP STATION ROAD                <a href=\"file:///var/folders/v0/wzkm0bb11x1b_27rl_172pdr0000gp/T/ipykernel_78208/2760839720.py\" target=\"_blank\"><span style=\"color: #7f7f7f; text-decoration-color: #7f7f7f\">2760839720.py</span></a><span style=\"color: #7f7f7f; text-decoration-color: #7f7f7f\">:</span><a href=\"file:///var/folders/v0/wzkm0bb11x1b_27rl_172pdr0000gp/T/ipykernel_78208/2760839720.py#24\" target=\"_blank\"><span style=\"color: #7f7f7f; text-decoration-color: #7f7f7f\">24</span></a>\n",
       "</pre>\n"
      ],
      "text/plain": [
       "\u001b[2;36m[14:57:39]\u001b[0m\u001b[2;36m \u001b[0mSearching for JOHN BARGER \u001b[1;36m1960.0\u001b[0m ROSEBUD MO \u001b[1;36m63091\u001b[0m \u001b[1;36m3605\u001b[0m PUMP STATION ROAD                \u001b]8;id=443107;file:///var/folders/v0/wzkm0bb11x1b_27rl_172pdr0000gp/T/ipykernel_78208/2760839720.py\u001b\\\u001b[2m2760839720.py\u001b[0m\u001b]8;;\u001b\\\u001b[2m:\u001b[0m\u001b]8;id=126026;file:///var/folders/v0/wzkm0bb11x1b_27rl_172pdr0000gp/T/ipykernel_78208/2760839720.py#24\u001b\\\u001b[2m24\u001b[0m\u001b]8;;\u001b\\\n"
      ]
     },
     "metadata": {},
     "output_type": "display_data"
    },
    {
     "data": {
      "text/html": [
       "<pre style=\"white-space:pre;overflow-x:auto;line-height:normal;font-family:Menlo,'DejaVu Sans Mono',consolas,'Courier New',monospace\"><span style=\"color: #7fbfbf; text-decoration-color: #7fbfbf\">[14:57:40] </span>Case <span style=\"color: #008080; text-decoration-color: #008080; font-weight: bold\">210362197</span> already exists with status contacted                                     <a href=\"file:///var/folders/v0/wzkm0bb11x1b_27rl_172pdr0000gp/T/ipykernel_78208/2760839720.py\" target=\"_blank\"><span style=\"color: #7f7f7f; text-decoration-color: #7f7f7f\">2760839720.py</span></a><span style=\"color: #7f7f7f; text-decoration-color: #7f7f7f\">:</span><a href=\"file:///var/folders/v0/wzkm0bb11x1b_27rl_172pdr0000gp/T/ipykernel_78208/2760839720.py#52\" target=\"_blank\"><span style=\"color: #7f7f7f; text-decoration-color: #7f7f7f\">52</span></a>\n",
       "</pre>\n"
      ],
      "text/plain": [
       "\u001b[2;36m[14:57:40]\u001b[0m\u001b[2;36m \u001b[0mCase \u001b[1;36m210362197\u001b[0m already exists with status contacted                                     \u001b]8;id=696368;file:///var/folders/v0/wzkm0bb11x1b_27rl_172pdr0000gp/T/ipykernel_78208/2760839720.py\u001b\\\u001b[2m2760839720.py\u001b[0m\u001b]8;;\u001b\\\u001b[2m:\u001b[0m\u001b]8;id=181192;file:///var/folders/v0/wzkm0bb11x1b_27rl_172pdr0000gp/T/ipykernel_78208/2760839720.py#52\u001b\\\u001b[2m52\u001b[0m\u001b]8;;\u001b\\\n"
      ]
     },
     "metadata": {},
     "output_type": "display_data"
    },
    {
     "data": {
      "text/html": [
       "<pre style=\"white-space:pre;overflow-x:auto;line-height:normal;font-family:Menlo,'DejaVu Sans Mono',consolas,'Courier New',monospace\"><span style=\"color: #7fbfbf; text-decoration-color: #7fbfbf\">           </span>Case details JOHN BARGER <span style=\"color: #008080; text-decoration-color: #008080; font-weight: bold\">1960</span> Fail To Signal/Gave Improper Signal When Stopping/Turning <a href=\"file:///var/folders/v0/wzkm0bb11x1b_27rl_172pdr0000gp/T/ipykernel_78208/2760839720.py\" target=\"_blank\"><span style=\"color: #7f7f7f; text-decoration-color: #7f7f7f\">2760839720.py</span></a><span style=\"color: #7f7f7f; text-decoration-color: #7f7f7f\">:</span><a href=\"file:///var/folders/v0/wzkm0bb11x1b_27rl_172pdr0000gp/T/ipykernel_78208/2760839720.py#55\" target=\"_blank\"><span style=\"color: #7f7f7f; text-decoration-color: #7f7f7f\">55</span></a>\n",
       "<span style=\"color: #7fbfbf; text-decoration-color: #7fbfbf\">           </span>Left Or Right                                                                           <span style=\"color: #7f7f7f; text-decoration-color: #7f7f7f\">                </span>\n",
       "</pre>\n"
      ],
      "text/plain": [
       "\u001b[2;36m          \u001b[0m\u001b[2;36m \u001b[0mCase details JOHN BARGER \u001b[1;36m1960\u001b[0m Fail To Signal/Gave Improper Signal When Stopping/Turning \u001b]8;id=591012;file:///var/folders/v0/wzkm0bb11x1b_27rl_172pdr0000gp/T/ipykernel_78208/2760839720.py\u001b\\\u001b[2m2760839720.py\u001b[0m\u001b]8;;\u001b\\\u001b[2m:\u001b[0m\u001b]8;id=61551;file:///var/folders/v0/wzkm0bb11x1b_27rl_172pdr0000gp/T/ipykernel_78208/2760839720.py#55\u001b\\\u001b[2m55\u001b[0m\u001b]8;;\u001b\\\n",
       "\u001b[2;36m           \u001b[0mLeft Or Right                                                                           \u001b[2m                \u001b[0m\n"
      ]
     },
     "metadata": {},
     "output_type": "display_data"
    },
    {
     "data": {
      "text/html": [
       "<pre style=\"white-space:pre;overflow-x:auto;line-height:normal;font-family:Menlo,'DejaVu Sans Mono',consolas,'Courier New',monospace\"><span style=\"color: #7fbfbf; text-decoration-color: #7fbfbf\">           </span>Case <span style=\"color: #008080; text-decoration-color: #008080; font-weight: bold\">220593157</span> already exists with status contacted                                     <a href=\"file:///var/folders/v0/wzkm0bb11x1b_27rl_172pdr0000gp/T/ipykernel_78208/2760839720.py\" target=\"_blank\"><span style=\"color: #7f7f7f; text-decoration-color: #7f7f7f\">2760839720.py</span></a><span style=\"color: #7f7f7f; text-decoration-color: #7f7f7f\">:</span><a href=\"file:///var/folders/v0/wzkm0bb11x1b_27rl_172pdr0000gp/T/ipykernel_78208/2760839720.py#52\" target=\"_blank\"><span style=\"color: #7f7f7f; text-decoration-color: #7f7f7f\">52</span></a>\n",
       "</pre>\n"
      ],
      "text/plain": [
       "\u001b[2;36m          \u001b[0m\u001b[2;36m \u001b[0mCase \u001b[1;36m220593157\u001b[0m already exists with status contacted                                     \u001b]8;id=644052;file:///var/folders/v0/wzkm0bb11x1b_27rl_172pdr0000gp/T/ipykernel_78208/2760839720.py\u001b\\\u001b[2m2760839720.py\u001b[0m\u001b]8;;\u001b\\\u001b[2m:\u001b[0m\u001b]8;id=900009;file:///var/folders/v0/wzkm0bb11x1b_27rl_172pdr0000gp/T/ipykernel_78208/2760839720.py#52\u001b\\\u001b[2m52\u001b[0m\u001b]8;;\u001b\\\n"
      ]
     },
     "metadata": {},
     "output_type": "display_data"
    },
    {
     "data": {
      "text/html": [
       "<pre style=\"white-space:pre;overflow-x:auto;line-height:normal;font-family:Menlo,'DejaVu Sans Mono',consolas,'Courier New',monospace\"><span style=\"color: #7fbfbf; text-decoration-color: #7fbfbf\">           </span>Case details JOHN BARGER <span style=\"color: #008080; text-decoration-color: #008080; font-weight: bold\">1960</span> Driving While Revoked Or Suspended                        <a href=\"file:///var/folders/v0/wzkm0bb11x1b_27rl_172pdr0000gp/T/ipykernel_78208/2760839720.py\" target=\"_blank\"><span style=\"color: #7f7f7f; text-decoration-color: #7f7f7f\">2760839720.py</span></a><span style=\"color: #7f7f7f; text-decoration-color: #7f7f7f\">:</span><a href=\"file:///var/folders/v0/wzkm0bb11x1b_27rl_172pdr0000gp/T/ipykernel_78208/2760839720.py#55\" target=\"_blank\"><span style=\"color: #7f7f7f; text-decoration-color: #7f7f7f\">55</span></a>\n",
       "</pre>\n"
      ],
      "text/plain": [
       "\u001b[2;36m          \u001b[0m\u001b[2;36m \u001b[0mCase details JOHN BARGER \u001b[1;36m1960\u001b[0m Driving While Revoked Or Suspended                        \u001b]8;id=116311;file:///var/folders/v0/wzkm0bb11x1b_27rl_172pdr0000gp/T/ipykernel_78208/2760839720.py\u001b\\\u001b[2m2760839720.py\u001b[0m\u001b]8;;\u001b\\\u001b[2m:\u001b[0m\u001b]8;id=32720;file:///var/folders/v0/wzkm0bb11x1b_27rl_172pdr0000gp/T/ipykernel_78208/2760839720.py#55\u001b\\\u001b[2m55\u001b[0m\u001b]8;;\u001b\\\n"
      ]
     },
     "metadata": {},
     "output_type": "display_data"
    },
    {
     "data": {
      "text/html": [
       "<pre style=\"white-space:pre;overflow-x:auto;line-height:normal;font-family:Menlo,'DejaVu Sans Mono',consolas,'Courier New',monospace\"><span style=\"color: #7fbfbf; text-decoration-color: #7fbfbf\">           </span>Case <span style=\"color: #008080; text-decoration-color: #008080; font-weight: bold\">220704229</span> already exists with status contacted                                     <a href=\"file:///var/folders/v0/wzkm0bb11x1b_27rl_172pdr0000gp/T/ipykernel_78208/2760839720.py\" target=\"_blank\"><span style=\"color: #7f7f7f; text-decoration-color: #7f7f7f\">2760839720.py</span></a><span style=\"color: #7f7f7f; text-decoration-color: #7f7f7f\">:</span><a href=\"file:///var/folders/v0/wzkm0bb11x1b_27rl_172pdr0000gp/T/ipykernel_78208/2760839720.py#52\" target=\"_blank\"><span style=\"color: #7f7f7f; text-decoration-color: #7f7f7f\">52</span></a>\n",
       "</pre>\n"
      ],
      "text/plain": [
       "\u001b[2;36m          \u001b[0m\u001b[2;36m \u001b[0mCase \u001b[1;36m220704229\u001b[0m already exists with status contacted                                     \u001b]8;id=754272;file:///var/folders/v0/wzkm0bb11x1b_27rl_172pdr0000gp/T/ipykernel_78208/2760839720.py\u001b\\\u001b[2m2760839720.py\u001b[0m\u001b]8;;\u001b\\\u001b[2m:\u001b[0m\u001b]8;id=397752;file:///var/folders/v0/wzkm0bb11x1b_27rl_172pdr0000gp/T/ipykernel_78208/2760839720.py#52\u001b\\\u001b[2m52\u001b[0m\u001b]8;;\u001b\\\n"
      ]
     },
     "metadata": {},
     "output_type": "display_data"
    },
    {
     "data": {
      "text/html": [
       "<pre style=\"white-space:pre;overflow-x:auto;line-height:normal;font-family:Menlo,'DejaVu Sans Mono',consolas,'Courier New',monospace\"><span style=\"color: #7fbfbf; text-decoration-color: #7fbfbf\">           </span>Case details JOHN BARGER <span style=\"color: #008080; text-decoration-color: #008080; font-weight: bold\">1960</span> Driving While Revoked Or Suspended                        <a href=\"file:///var/folders/v0/wzkm0bb11x1b_27rl_172pdr0000gp/T/ipykernel_78208/2760839720.py\" target=\"_blank\"><span style=\"color: #7f7f7f; text-decoration-color: #7f7f7f\">2760839720.py</span></a><span style=\"color: #7f7f7f; text-decoration-color: #7f7f7f\">:</span><a href=\"file:///var/folders/v0/wzkm0bb11x1b_27rl_172pdr0000gp/T/ipykernel_78208/2760839720.py#55\" target=\"_blank\"><span style=\"color: #7f7f7f; text-decoration-color: #7f7f7f\">55</span></a>\n",
       "</pre>\n"
      ],
      "text/plain": [
       "\u001b[2;36m          \u001b[0m\u001b[2;36m \u001b[0mCase details JOHN BARGER \u001b[1;36m1960\u001b[0m Driving While Revoked Or Suspended                        \u001b]8;id=194386;file:///var/folders/v0/wzkm0bb11x1b_27rl_172pdr0000gp/T/ipykernel_78208/2760839720.py\u001b\\\u001b[2m2760839720.py\u001b[0m\u001b]8;;\u001b\\\u001b[2m:\u001b[0m\u001b]8;id=384030;file:///var/folders/v0/wzkm0bb11x1b_27rl_172pdr0000gp/T/ipykernel_78208/2760839720.py#55\u001b\\\u001b[2m55\u001b[0m\u001b]8;;\u001b\\\n"
      ]
     },
     "metadata": {},
     "output_type": "display_data"
    },
    {
     "data": {
      "text/html": [
       "<pre style=\"white-space:pre;overflow-x:auto;line-height:normal;font-family:Menlo,'DejaVu Sans Mono',consolas,'Courier New',monospace\"><span style=\"color: #7fbfbf; text-decoration-color: #7fbfbf\">           </span>Case <span style=\"color: #008080; text-decoration-color: #008080; font-weight: bold\">230520182</span> already exists with status contacted                                     <a href=\"file:///var/folders/v0/wzkm0bb11x1b_27rl_172pdr0000gp/T/ipykernel_78208/2760839720.py\" target=\"_blank\"><span style=\"color: #7f7f7f; text-decoration-color: #7f7f7f\">2760839720.py</span></a><span style=\"color: #7f7f7f; text-decoration-color: #7f7f7f\">:</span><a href=\"file:///var/folders/v0/wzkm0bb11x1b_27rl_172pdr0000gp/T/ipykernel_78208/2760839720.py#52\" target=\"_blank\"><span style=\"color: #7f7f7f; text-decoration-color: #7f7f7f\">52</span></a>\n",
       "</pre>\n"
      ],
      "text/plain": [
       "\u001b[2;36m          \u001b[0m\u001b[2;36m \u001b[0mCase \u001b[1;36m230520182\u001b[0m already exists with status contacted                                     \u001b]8;id=317195;file:///var/folders/v0/wzkm0bb11x1b_27rl_172pdr0000gp/T/ipykernel_78208/2760839720.py\u001b\\\u001b[2m2760839720.py\u001b[0m\u001b]8;;\u001b\\\u001b[2m:\u001b[0m\u001b]8;id=113778;file:///var/folders/v0/wzkm0bb11x1b_27rl_172pdr0000gp/T/ipykernel_78208/2760839720.py#52\u001b\\\u001b[2m52\u001b[0m\u001b]8;;\u001b\\\n"
      ]
     },
     "metadata": {},
     "output_type": "display_data"
    },
    {
     "data": {
      "text/html": [
       "<pre style=\"white-space:pre;overflow-x:auto;line-height:normal;font-family:Menlo,'DejaVu Sans Mono',consolas,'Courier New',monospace\"><span style=\"color: #7fbfbf; text-decoration-color: #7fbfbf\">           </span>Case details JOHN BARGER <span style=\"color: #008080; text-decoration-color: #008080; font-weight: bold\">1960</span> Driving While Revoked Or Suspended                        <a href=\"file:///var/folders/v0/wzkm0bb11x1b_27rl_172pdr0000gp/T/ipykernel_78208/2760839720.py\" target=\"_blank\"><span style=\"color: #7f7f7f; text-decoration-color: #7f7f7f\">2760839720.py</span></a><span style=\"color: #7f7f7f; text-decoration-color: #7f7f7f\">:</span><a href=\"file:///var/folders/v0/wzkm0bb11x1b_27rl_172pdr0000gp/T/ipykernel_78208/2760839720.py#55\" target=\"_blank\"><span style=\"color: #7f7f7f; text-decoration-color: #7f7f7f\">55</span></a>\n",
       "</pre>\n"
      ],
      "text/plain": [
       "\u001b[2;36m          \u001b[0m\u001b[2;36m \u001b[0mCase details JOHN BARGER \u001b[1;36m1960\u001b[0m Driving While Revoked Or Suspended                        \u001b]8;id=544613;file:///var/folders/v0/wzkm0bb11x1b_27rl_172pdr0000gp/T/ipykernel_78208/2760839720.py\u001b\\\u001b[2m2760839720.py\u001b[0m\u001b]8;;\u001b\\\u001b[2m:\u001b[0m\u001b]8;id=949879;file:///var/folders/v0/wzkm0bb11x1b_27rl_172pdr0000gp/T/ipykernel_78208/2760839720.py#55\u001b\\\u001b[2m55\u001b[0m\u001b]8;;\u001b\\\n"
      ]
     },
     "metadata": {},
     "output_type": "display_data"
    },
    {
     "data": {
      "text/html": [
       "<pre style=\"white-space:pre;overflow-x:auto;line-height:normal;font-family:Menlo,'DejaVu Sans Mono',consolas,'Courier New',monospace\"><span style=\"color: #7fbfbf; text-decoration-color: #7fbfbf\">           </span>Searching for CHRISTIAN RADFORD <span style=\"color: #008080; text-decoration-color: #008080; font-weight: bold\">2001.0</span> MOUNTAIN VIEW MO <span style=\"color: #008080; text-decoration-color: #008080; font-weight: bold\">65548</span> <span style=\"color: #008080; text-decoration-color: #008080; font-weight: bold\">2791</span> STATE ROUTE WW       <a href=\"file:///var/folders/v0/wzkm0bb11x1b_27rl_172pdr0000gp/T/ipykernel_78208/2760839720.py\" target=\"_blank\"><span style=\"color: #7f7f7f; text-decoration-color: #7f7f7f\">2760839720.py</span></a><span style=\"color: #7f7f7f; text-decoration-color: #7f7f7f\">:</span><a href=\"file:///var/folders/v0/wzkm0bb11x1b_27rl_172pdr0000gp/T/ipykernel_78208/2760839720.py#24\" target=\"_blank\"><span style=\"color: #7f7f7f; text-decoration-color: #7f7f7f\">24</span></a>\n",
       "</pre>\n"
      ],
      "text/plain": [
       "\u001b[2;36m          \u001b[0m\u001b[2;36m \u001b[0mSearching for CHRISTIAN RADFORD \u001b[1;36m2001.0\u001b[0m MOUNTAIN VIEW MO \u001b[1;36m65548\u001b[0m \u001b[1;36m2791\u001b[0m STATE ROUTE WW       \u001b]8;id=580562;file:///var/folders/v0/wzkm0bb11x1b_27rl_172pdr0000gp/T/ipykernel_78208/2760839720.py\u001b\\\u001b[2m2760839720.py\u001b[0m\u001b]8;;\u001b\\\u001b[2m:\u001b[0m\u001b]8;id=476730;file:///var/folders/v0/wzkm0bb11x1b_27rl_172pdr0000gp/T/ipykernel_78208/2760839720.py#24\u001b\\\u001b[2m24\u001b[0m\u001b]8;;\u001b\\\n"
      ]
     },
     "metadata": {},
     "output_type": "display_data"
    },
    {
     "data": {
      "text/html": [
       "<pre style=\"white-space:pre;overflow-x:auto;line-height:normal;font-family:Menlo,'DejaVu Sans Mono',consolas,'Courier New',monospace\"><span style=\"color: #7fbfbf; text-decoration-color: #7fbfbf\">           </span>Case <span style=\"color: #008080; text-decoration-color: #008080; font-weight: bold\">704396806</span> already exists with status contacted                                     <a href=\"file:///var/folders/v0/wzkm0bb11x1b_27rl_172pdr0000gp/T/ipykernel_78208/2760839720.py\" target=\"_blank\"><span style=\"color: #7f7f7f; text-decoration-color: #7f7f7f\">2760839720.py</span></a><span style=\"color: #7f7f7f; text-decoration-color: #7f7f7f\">:</span><a href=\"file:///var/folders/v0/wzkm0bb11x1b_27rl_172pdr0000gp/T/ipykernel_78208/2760839720.py#52\" target=\"_blank\"><span style=\"color: #7f7f7f; text-decoration-color: #7f7f7f\">52</span></a>\n",
       "</pre>\n"
      ],
      "text/plain": [
       "\u001b[2;36m          \u001b[0m\u001b[2;36m \u001b[0mCase \u001b[1;36m704396806\u001b[0m already exists with status contacted                                     \u001b]8;id=592781;file:///var/folders/v0/wzkm0bb11x1b_27rl_172pdr0000gp/T/ipykernel_78208/2760839720.py\u001b\\\u001b[2m2760839720.py\u001b[0m\u001b]8;;\u001b\\\u001b[2m:\u001b[0m\u001b]8;id=535632;file:///var/folders/v0/wzkm0bb11x1b_27rl_172pdr0000gp/T/ipykernel_78208/2760839720.py#52\u001b\\\u001b[2m52\u001b[0m\u001b]8;;\u001b\\\n"
      ]
     },
     "metadata": {},
     "output_type": "display_data"
    },
    {
     "data": {
      "text/html": [
       "<pre style=\"white-space:pre;overflow-x:auto;line-height:normal;font-family:Menlo,'DejaVu Sans Mono',consolas,'Courier New',monospace\"><span style=\"color: #7fbfbf; text-decoration-color: #7fbfbf\">           </span>Case details CHRISTIAN RADFORD <span style=\"color: #008080; text-decoration-color: #008080; font-weight: bold\">2001</span> Exceeded Posted Speed Limit <span style=\"font-weight: bold\">(</span>Exceeded By <span style=\"color: #008080; text-decoration-color: #008080; font-weight: bold\">16</span> - <span style=\"color: #008080; text-decoration-color: #008080; font-weight: bold\">19</span>    <a href=\"file:///var/folders/v0/wzkm0bb11x1b_27rl_172pdr0000gp/T/ipykernel_78208/2760839720.py\" target=\"_blank\"><span style=\"color: #7f7f7f; text-decoration-color: #7f7f7f\">2760839720.py</span></a><span style=\"color: #7f7f7f; text-decoration-color: #7f7f7f\">:</span><a href=\"file:///var/folders/v0/wzkm0bb11x1b_27rl_172pdr0000gp/T/ipykernel_78208/2760839720.py#55\" target=\"_blank\"><span style=\"color: #7f7f7f; text-decoration-color: #7f7f7f\">55</span></a>\n",
       "<span style=\"color: #7fbfbf; text-decoration-color: #7fbfbf\">           </span>Mph<span style=\"font-weight: bold\">)</span>                                                                                    <span style=\"color: #7f7f7f; text-decoration-color: #7f7f7f\">                </span>\n",
       "</pre>\n"
      ],
      "text/plain": [
       "\u001b[2;36m          \u001b[0m\u001b[2;36m \u001b[0mCase details CHRISTIAN RADFORD \u001b[1;36m2001\u001b[0m Exceeded Posted Speed Limit \u001b[1m(\u001b[0mExceeded By \u001b[1;36m16\u001b[0m - \u001b[1;36m19\u001b[0m    \u001b]8;id=149364;file:///var/folders/v0/wzkm0bb11x1b_27rl_172pdr0000gp/T/ipykernel_78208/2760839720.py\u001b\\\u001b[2m2760839720.py\u001b[0m\u001b]8;;\u001b\\\u001b[2m:\u001b[0m\u001b]8;id=632539;file:///var/folders/v0/wzkm0bb11x1b_27rl_172pdr0000gp/T/ipykernel_78208/2760839720.py#55\u001b\\\u001b[2m55\u001b[0m\u001b]8;;\u001b\\\n",
       "\u001b[2;36m           \u001b[0mMph\u001b[1m)\u001b[0m                                                                                    \u001b[2m                \u001b[0m\n"
      ]
     },
     "metadata": {},
     "output_type": "display_data"
    },
    {
     "data": {
      "text/html": [
       "<pre style=\"white-space:pre;overflow-x:auto;line-height:normal;font-family:Menlo,'DejaVu Sans Mono',consolas,'Courier New',monospace\"><span style=\"color: #7fbfbf; text-decoration-color: #7fbfbf\">           </span>Searching for DAKOTA SMITH <span style=\"color: #008080; text-decoration-color: #008080; font-weight: bold\">1990.0</span> CAMDENTON MO <span style=\"color: #008080; text-decoration-color: #008080; font-weight: bold\">65020</span> <span style=\"color: #008080; text-decoration-color: #008080; font-weight: bold\">222</span> BOOT CIRCLE                    <a href=\"file:///var/folders/v0/wzkm0bb11x1b_27rl_172pdr0000gp/T/ipykernel_78208/2760839720.py\" target=\"_blank\"><span style=\"color: #7f7f7f; text-decoration-color: #7f7f7f\">2760839720.py</span></a><span style=\"color: #7f7f7f; text-decoration-color: #7f7f7f\">:</span><a href=\"file:///var/folders/v0/wzkm0bb11x1b_27rl_172pdr0000gp/T/ipykernel_78208/2760839720.py#24\" target=\"_blank\"><span style=\"color: #7f7f7f; text-decoration-color: #7f7f7f\">24</span></a>\n",
       "</pre>\n"
      ],
      "text/plain": [
       "\u001b[2;36m          \u001b[0m\u001b[2;36m \u001b[0mSearching for DAKOTA SMITH \u001b[1;36m1990.0\u001b[0m CAMDENTON MO \u001b[1;36m65020\u001b[0m \u001b[1;36m222\u001b[0m BOOT CIRCLE                    \u001b]8;id=213154;file:///var/folders/v0/wzkm0bb11x1b_27rl_172pdr0000gp/T/ipykernel_78208/2760839720.py\u001b\\\u001b[2m2760839720.py\u001b[0m\u001b]8;;\u001b\\\u001b[2m:\u001b[0m\u001b]8;id=634458;file:///var/folders/v0/wzkm0bb11x1b_27rl_172pdr0000gp/T/ipykernel_78208/2760839720.py#24\u001b\\\u001b[2m24\u001b[0m\u001b]8;;\u001b\\\n"
      ]
     },
     "metadata": {},
     "output_type": "display_data"
    },
    {
     "data": {
      "text/html": [
       "<pre style=\"white-space:pre;overflow-x:auto;line-height:normal;font-family:Menlo,'DejaVu Sans Mono',consolas,'Courier New',monospace\"><span style=\"color: #7fbfbf; text-decoration-color: #7fbfbf\">           </span>Case <span style=\"color: #008080; text-decoration-color: #008080; font-weight: bold\">220645751</span> already exists with status contacted                                     <a href=\"file:///var/folders/v0/wzkm0bb11x1b_27rl_172pdr0000gp/T/ipykernel_78208/2760839720.py\" target=\"_blank\"><span style=\"color: #7f7f7f; text-decoration-color: #7f7f7f\">2760839720.py</span></a><span style=\"color: #7f7f7f; text-decoration-color: #7f7f7f\">:</span><a href=\"file:///var/folders/v0/wzkm0bb11x1b_27rl_172pdr0000gp/T/ipykernel_78208/2760839720.py#52\" target=\"_blank\"><span style=\"color: #7f7f7f; text-decoration-color: #7f7f7f\">52</span></a>\n",
       "</pre>\n"
      ],
      "text/plain": [
       "\u001b[2;36m          \u001b[0m\u001b[2;36m \u001b[0mCase \u001b[1;36m220645751\u001b[0m already exists with status contacted                                     \u001b]8;id=384106;file:///var/folders/v0/wzkm0bb11x1b_27rl_172pdr0000gp/T/ipykernel_78208/2760839720.py\u001b\\\u001b[2m2760839720.py\u001b[0m\u001b]8;;\u001b\\\u001b[2m:\u001b[0m\u001b]8;id=584552;file:///var/folders/v0/wzkm0bb11x1b_27rl_172pdr0000gp/T/ipykernel_78208/2760839720.py#52\u001b\\\u001b[2m52\u001b[0m\u001b]8;;\u001b\\\n"
      ]
     },
     "metadata": {},
     "output_type": "display_data"
    },
    {
     "data": {
      "text/html": [
       "<pre style=\"white-space:pre;overflow-x:auto;line-height:normal;font-family:Menlo,'DejaVu Sans Mono',consolas,'Courier New',monospace\"><span style=\"color: #7fbfbf; text-decoration-color: #7fbfbf\">           </span>Case details DAKOTA SMITH <span style=\"color: #008080; text-decoration-color: #008080; font-weight: bold\">1990</span> Exceeded Posted Speed Limit <span style=\"font-weight: bold\">(</span><span style=\"color: #008080; text-decoration-color: #008080; font-weight: bold\">16</span>-<span style=\"color: #008080; text-decoration-color: #008080; font-weight: bold\">19</span> Mph Over<span style=\"font-weight: bold\">)</span>             <a href=\"file:///var/folders/v0/wzkm0bb11x1b_27rl_172pdr0000gp/T/ipykernel_78208/2760839720.py\" target=\"_blank\"><span style=\"color: #7f7f7f; text-decoration-color: #7f7f7f\">2760839720.py</span></a><span style=\"color: #7f7f7f; text-decoration-color: #7f7f7f\">:</span><a href=\"file:///var/folders/v0/wzkm0bb11x1b_27rl_172pdr0000gp/T/ipykernel_78208/2760839720.py#55\" target=\"_blank\"><span style=\"color: #7f7f7f; text-decoration-color: #7f7f7f\">55</span></a>\n",
       "</pre>\n"
      ],
      "text/plain": [
       "\u001b[2;36m          \u001b[0m\u001b[2;36m \u001b[0mCase details DAKOTA SMITH \u001b[1;36m1990\u001b[0m Exceeded Posted Speed Limit \u001b[1m(\u001b[0m\u001b[1;36m16\u001b[0m-\u001b[1;36m19\u001b[0m Mph Over\u001b[1m)\u001b[0m             \u001b]8;id=360926;file:///var/folders/v0/wzkm0bb11x1b_27rl_172pdr0000gp/T/ipykernel_78208/2760839720.py\u001b\\\u001b[2m2760839720.py\u001b[0m\u001b]8;;\u001b\\\u001b[2m:\u001b[0m\u001b]8;id=566216;file:///var/folders/v0/wzkm0bb11x1b_27rl_172pdr0000gp/T/ipykernel_78208/2760839720.py#55\u001b\\\u001b[2m55\u001b[0m\u001b]8;;\u001b\\\n"
      ]
     },
     "metadata": {},
     "output_type": "display_data"
    },
    {
     "data": {
      "text/html": [
       "<pre style=\"white-space:pre;overflow-x:auto;line-height:normal;font-family:Menlo,'DejaVu Sans Mono',consolas,'Courier New',monospace\"><span style=\"color: #7fbfbf; text-decoration-color: #7fbfbf\">           </span>Case <span style=\"color: #008080; text-decoration-color: #008080; font-weight: bold\">704374216</span> already exists with status contacted                                     <a href=\"file:///var/folders/v0/wzkm0bb11x1b_27rl_172pdr0000gp/T/ipykernel_78208/2760839720.py\" target=\"_blank\"><span style=\"color: #7f7f7f; text-decoration-color: #7f7f7f\">2760839720.py</span></a><span style=\"color: #7f7f7f; text-decoration-color: #7f7f7f\">:</span><a href=\"file:///var/folders/v0/wzkm0bb11x1b_27rl_172pdr0000gp/T/ipykernel_78208/2760839720.py#52\" target=\"_blank\"><span style=\"color: #7f7f7f; text-decoration-color: #7f7f7f\">52</span></a>\n",
       "</pre>\n"
      ],
      "text/plain": [
       "\u001b[2;36m          \u001b[0m\u001b[2;36m \u001b[0mCase \u001b[1;36m704374216\u001b[0m already exists with status contacted                                     \u001b]8;id=501924;file:///var/folders/v0/wzkm0bb11x1b_27rl_172pdr0000gp/T/ipykernel_78208/2760839720.py\u001b\\\u001b[2m2760839720.py\u001b[0m\u001b]8;;\u001b\\\u001b[2m:\u001b[0m\u001b]8;id=578280;file:///var/folders/v0/wzkm0bb11x1b_27rl_172pdr0000gp/T/ipykernel_78208/2760839720.py#52\u001b\\\u001b[2m52\u001b[0m\u001b]8;;\u001b\\\n"
      ]
     },
     "metadata": {},
     "output_type": "display_data"
    },
    {
     "data": {
      "text/html": [
       "<pre style=\"white-space:pre;overflow-x:auto;line-height:normal;font-family:Menlo,'DejaVu Sans Mono',consolas,'Courier New',monospace\"><span style=\"color: #7fbfbf; text-decoration-color: #7fbfbf\">           </span>Case details DAKOTA SMITH <span style=\"color: #008080; text-decoration-color: #008080; font-weight: bold\">1990</span> Exceeded Posted Speed Limit <span style=\"font-weight: bold\">(</span>Exceeded By <span style=\"color: #008080; text-decoration-color: #008080; font-weight: bold\">20</span> - <span style=\"color: #008080; text-decoration-color: #008080; font-weight: bold\">25</span>  Mph<span style=\"font-weight: bold\">)</span>   <a href=\"file:///var/folders/v0/wzkm0bb11x1b_27rl_172pdr0000gp/T/ipykernel_78208/2760839720.py\" target=\"_blank\"><span style=\"color: #7f7f7f; text-decoration-color: #7f7f7f\">2760839720.py</span></a><span style=\"color: #7f7f7f; text-decoration-color: #7f7f7f\">:</span><a href=\"file:///var/folders/v0/wzkm0bb11x1b_27rl_172pdr0000gp/T/ipykernel_78208/2760839720.py#55\" target=\"_blank\"><span style=\"color: #7f7f7f; text-decoration-color: #7f7f7f\">55</span></a>\n",
       "</pre>\n"
      ],
      "text/plain": [
       "\u001b[2;36m          \u001b[0m\u001b[2;36m \u001b[0mCase details DAKOTA SMITH \u001b[1;36m1990\u001b[0m Exceeded Posted Speed Limit \u001b[1m(\u001b[0mExceeded By \u001b[1;36m20\u001b[0m - \u001b[1;36m25\u001b[0m  Mph\u001b[1m)\u001b[0m   \u001b]8;id=170720;file:///var/folders/v0/wzkm0bb11x1b_27rl_172pdr0000gp/T/ipykernel_78208/2760839720.py\u001b\\\u001b[2m2760839720.py\u001b[0m\u001b]8;;\u001b\\\u001b[2m:\u001b[0m\u001b]8;id=662970;file:///var/folders/v0/wzkm0bb11x1b_27rl_172pdr0000gp/T/ipykernel_78208/2760839720.py#55\u001b\\\u001b[2m55\u001b[0m\u001b]8;;\u001b\\\n"
      ]
     },
     "metadata": {},
     "output_type": "display_data"
    },
    {
     "data": {
      "text/html": [
       "<pre style=\"white-space:pre;overflow-x:auto;line-height:normal;font-family:Menlo,'DejaVu Sans Mono',consolas,'Courier New',monospace\"><span style=\"color: #7fbfbf; text-decoration-color: #7fbfbf\">[14:57:41] </span>Searching for CRISTINA SCALLEY <span style=\"color: #008080; text-decoration-color: #008080; font-weight: bold\">2003.0</span> BOLIVAR MO <span style=\"color: #008080; text-decoration-color: #008080; font-weight: bold\">65613</span> <span style=\"color: #008080; text-decoration-color: #008080; font-weight: bold\">717</span> E LOCUST ST                  <a href=\"file:///var/folders/v0/wzkm0bb11x1b_27rl_172pdr0000gp/T/ipykernel_78208/2760839720.py\" target=\"_blank\"><span style=\"color: #7f7f7f; text-decoration-color: #7f7f7f\">2760839720.py</span></a><span style=\"color: #7f7f7f; text-decoration-color: #7f7f7f\">:</span><a href=\"file:///var/folders/v0/wzkm0bb11x1b_27rl_172pdr0000gp/T/ipykernel_78208/2760839720.py#24\" target=\"_blank\"><span style=\"color: #7f7f7f; text-decoration-color: #7f7f7f\">24</span></a>\n",
       "</pre>\n"
      ],
      "text/plain": [
       "\u001b[2;36m[14:57:41]\u001b[0m\u001b[2;36m \u001b[0mSearching for CRISTINA SCALLEY \u001b[1;36m2003.0\u001b[0m BOLIVAR MO \u001b[1;36m65613\u001b[0m \u001b[1;36m717\u001b[0m E LOCUST ST                  \u001b]8;id=201089;file:///var/folders/v0/wzkm0bb11x1b_27rl_172pdr0000gp/T/ipykernel_78208/2760839720.py\u001b\\\u001b[2m2760839720.py\u001b[0m\u001b]8;;\u001b\\\u001b[2m:\u001b[0m\u001b]8;id=851007;file:///var/folders/v0/wzkm0bb11x1b_27rl_172pdr0000gp/T/ipykernel_78208/2760839720.py#24\u001b\\\u001b[2m24\u001b[0m\u001b]8;;\u001b\\\n"
      ]
     },
     "metadata": {},
     "output_type": "display_data"
    },
    {
     "data": {
      "text/html": [
       "<pre style=\"white-space:pre;overflow-x:auto;line-height:normal;font-family:Menlo,'DejaVu Sans Mono',consolas,'Courier New',monospace\"><span style=\"color: #7fbfbf; text-decoration-color: #7fbfbf\">           </span>Case <span style=\"color: #008080; text-decoration-color: #008080; font-weight: bold\">704216749</span> already exists with status contacted                                     <a href=\"file:///var/folders/v0/wzkm0bb11x1b_27rl_172pdr0000gp/T/ipykernel_78208/2760839720.py\" target=\"_blank\"><span style=\"color: #7f7f7f; text-decoration-color: #7f7f7f\">2760839720.py</span></a><span style=\"color: #7f7f7f; text-decoration-color: #7f7f7f\">:</span><a href=\"file:///var/folders/v0/wzkm0bb11x1b_27rl_172pdr0000gp/T/ipykernel_78208/2760839720.py#52\" target=\"_blank\"><span style=\"color: #7f7f7f; text-decoration-color: #7f7f7f\">52</span></a>\n",
       "</pre>\n"
      ],
      "text/plain": [
       "\u001b[2;36m          \u001b[0m\u001b[2;36m \u001b[0mCase \u001b[1;36m704216749\u001b[0m already exists with status contacted                                     \u001b]8;id=203110;file:///var/folders/v0/wzkm0bb11x1b_27rl_172pdr0000gp/T/ipykernel_78208/2760839720.py\u001b\\\u001b[2m2760839720.py\u001b[0m\u001b]8;;\u001b\\\u001b[2m:\u001b[0m\u001b]8;id=755060;file:///var/folders/v0/wzkm0bb11x1b_27rl_172pdr0000gp/T/ipykernel_78208/2760839720.py#52\u001b\\\u001b[2m52\u001b[0m\u001b]8;;\u001b\\\n"
      ]
     },
     "metadata": {},
     "output_type": "display_data"
    },
    {
     "data": {
      "text/html": [
       "<pre style=\"white-space:pre;overflow-x:auto;line-height:normal;font-family:Menlo,'DejaVu Sans Mono',consolas,'Courier New',monospace\"><span style=\"color: #7fbfbf; text-decoration-color: #7fbfbf\">           </span>Case details CRISTINA SCALLEY <span style=\"color: #008080; text-decoration-color: #008080; font-weight: bold\">2003</span> Exceeded Posted Speed Limit <span style=\"font-weight: bold\">(</span>Exceeded By <span style=\"color: #008080; text-decoration-color: #008080; font-weight: bold\">11</span> - <span style=\"color: #008080; text-decoration-color: #008080; font-weight: bold\">15</span>     <a href=\"file:///var/folders/v0/wzkm0bb11x1b_27rl_172pdr0000gp/T/ipykernel_78208/2760839720.py\" target=\"_blank\"><span style=\"color: #7f7f7f; text-decoration-color: #7f7f7f\">2760839720.py</span></a><span style=\"color: #7f7f7f; text-decoration-color: #7f7f7f\">:</span><a href=\"file:///var/folders/v0/wzkm0bb11x1b_27rl_172pdr0000gp/T/ipykernel_78208/2760839720.py#55\" target=\"_blank\"><span style=\"color: #7f7f7f; text-decoration-color: #7f7f7f\">55</span></a>\n",
       "<span style=\"color: #7fbfbf; text-decoration-color: #7fbfbf\">           </span>Mph<span style=\"font-weight: bold\">)</span>                                                                                    <span style=\"color: #7f7f7f; text-decoration-color: #7f7f7f\">                </span>\n",
       "</pre>\n"
      ],
      "text/plain": [
       "\u001b[2;36m          \u001b[0m\u001b[2;36m \u001b[0mCase details CRISTINA SCALLEY \u001b[1;36m2003\u001b[0m Exceeded Posted Speed Limit \u001b[1m(\u001b[0mExceeded By \u001b[1;36m11\u001b[0m - \u001b[1;36m15\u001b[0m     \u001b]8;id=777216;file:///var/folders/v0/wzkm0bb11x1b_27rl_172pdr0000gp/T/ipykernel_78208/2760839720.py\u001b\\\u001b[2m2760839720.py\u001b[0m\u001b]8;;\u001b\\\u001b[2m:\u001b[0m\u001b]8;id=805936;file:///var/folders/v0/wzkm0bb11x1b_27rl_172pdr0000gp/T/ipykernel_78208/2760839720.py#55\u001b\\\u001b[2m55\u001b[0m\u001b]8;;\u001b\\\n",
       "\u001b[2;36m           \u001b[0mMph\u001b[1m)\u001b[0m                                                                                    \u001b[2m                \u001b[0m\n"
      ]
     },
     "metadata": {},
     "output_type": "display_data"
    },
    {
     "data": {
      "text/html": [
       "<pre style=\"white-space:pre;overflow-x:auto;line-height:normal;font-family:Menlo,'DejaVu Sans Mono',consolas,'Courier New',monospace\"><span style=\"color: #7fbfbf; text-decoration-color: #7fbfbf\">           </span>Searching for GARRY VANVELSAN <span style=\"color: #008080; text-decoration-color: #008080; font-weight: bold\">1962.0</span> BLUE SPRINGS MO <span style=\"color: #008080; text-decoration-color: #008080; font-weight: bold\">64015</span> <span style=\"color: #008080; text-decoration-color: #008080; font-weight: bold\">1011</span> STONECREEK DR           <a href=\"file:///var/folders/v0/wzkm0bb11x1b_27rl_172pdr0000gp/T/ipykernel_78208/2760839720.py\" target=\"_blank\"><span style=\"color: #7f7f7f; text-decoration-color: #7f7f7f\">2760839720.py</span></a><span style=\"color: #7f7f7f; text-decoration-color: #7f7f7f\">:</span><a href=\"file:///var/folders/v0/wzkm0bb11x1b_27rl_172pdr0000gp/T/ipykernel_78208/2760839720.py#24\" target=\"_blank\"><span style=\"color: #7f7f7f; text-decoration-color: #7f7f7f\">24</span></a>\n",
       "</pre>\n"
      ],
      "text/plain": [
       "\u001b[2;36m          \u001b[0m\u001b[2;36m \u001b[0mSearching for GARRY VANVELSAN \u001b[1;36m1962.0\u001b[0m BLUE SPRINGS MO \u001b[1;36m64015\u001b[0m \u001b[1;36m1011\u001b[0m STONECREEK DR           \u001b]8;id=655592;file:///var/folders/v0/wzkm0bb11x1b_27rl_172pdr0000gp/T/ipykernel_78208/2760839720.py\u001b\\\u001b[2m2760839720.py\u001b[0m\u001b]8;;\u001b\\\u001b[2m:\u001b[0m\u001b]8;id=912321;file:///var/folders/v0/wzkm0bb11x1b_27rl_172pdr0000gp/T/ipykernel_78208/2760839720.py#24\u001b\\\u001b[2m24\u001b[0m\u001b]8;;\u001b\\\n"
      ]
     },
     "metadata": {},
     "output_type": "display_data"
    },
    {
     "data": {
      "text/html": [
       "<pre style=\"white-space:pre;overflow-x:auto;line-height:normal;font-family:Menlo,'DejaVu Sans Mono',consolas,'Courier New',monospace\"><span style=\"color: #7fbfbf; text-decoration-color: #7fbfbf\">[14:57:42] </span>Case <span style=\"color: #008080; text-decoration-color: #008080; font-weight: bold\">704323632</span> already exists with status won                                           <a href=\"file:///var/folders/v0/wzkm0bb11x1b_27rl_172pdr0000gp/T/ipykernel_78208/2760839720.py\" target=\"_blank\"><span style=\"color: #7f7f7f; text-decoration-color: #7f7f7f\">2760839720.py</span></a><span style=\"color: #7f7f7f; text-decoration-color: #7f7f7f\">:</span><a href=\"file:///var/folders/v0/wzkm0bb11x1b_27rl_172pdr0000gp/T/ipykernel_78208/2760839720.py#52\" target=\"_blank\"><span style=\"color: #7f7f7f; text-decoration-color: #7f7f7f\">52</span></a>\n",
       "</pre>\n"
      ],
      "text/plain": [
       "\u001b[2;36m[14:57:42]\u001b[0m\u001b[2;36m \u001b[0mCase \u001b[1;36m704323632\u001b[0m already exists with status won                                           \u001b]8;id=120284;file:///var/folders/v0/wzkm0bb11x1b_27rl_172pdr0000gp/T/ipykernel_78208/2760839720.py\u001b\\\u001b[2m2760839720.py\u001b[0m\u001b]8;;\u001b\\\u001b[2m:\u001b[0m\u001b]8;id=751241;file:///var/folders/v0/wzkm0bb11x1b_27rl_172pdr0000gp/T/ipykernel_78208/2760839720.py#52\u001b\\\u001b[2m52\u001b[0m\u001b]8;;\u001b\\\n"
      ]
     },
     "metadata": {},
     "output_type": "display_data"
    },
    {
     "data": {
      "text/html": [
       "<pre style=\"white-space:pre;overflow-x:auto;line-height:normal;font-family:Menlo,'DejaVu Sans Mono',consolas,'Courier New',monospace\"><span style=\"color: #7fbfbf; text-decoration-color: #7fbfbf\">           </span>Case details GARRY VANVELSAN <span style=\"color: #008080; text-decoration-color: #008080; font-weight: bold\">1962</span> Exceeded Posted Speed Limit <span style=\"font-weight: bold\">(</span>Exceeded By <span style=\"color: #008080; text-decoration-color: #008080; font-weight: bold\">26</span>  Mph Or   <a href=\"file:///var/folders/v0/wzkm0bb11x1b_27rl_172pdr0000gp/T/ipykernel_78208/2760839720.py\" target=\"_blank\"><span style=\"color: #7f7f7f; text-decoration-color: #7f7f7f\">2760839720.py</span></a><span style=\"color: #7f7f7f; text-decoration-color: #7f7f7f\">:</span><a href=\"file:///var/folders/v0/wzkm0bb11x1b_27rl_172pdr0000gp/T/ipykernel_78208/2760839720.py#55\" target=\"_blank\"><span style=\"color: #7f7f7f; text-decoration-color: #7f7f7f\">55</span></a>\n",
       "<span style=\"color: #7fbfbf; text-decoration-color: #7fbfbf\">           </span>More<span style=\"font-weight: bold\">)</span>                                                                                   <span style=\"color: #7f7f7f; text-decoration-color: #7f7f7f\">                </span>\n",
       "</pre>\n"
      ],
      "text/plain": [
       "\u001b[2;36m          \u001b[0m\u001b[2;36m \u001b[0mCase details GARRY VANVELSAN \u001b[1;36m1962\u001b[0m Exceeded Posted Speed Limit \u001b[1m(\u001b[0mExceeded By \u001b[1;36m26\u001b[0m  Mph Or   \u001b]8;id=439633;file:///var/folders/v0/wzkm0bb11x1b_27rl_172pdr0000gp/T/ipykernel_78208/2760839720.py\u001b\\\u001b[2m2760839720.py\u001b[0m\u001b]8;;\u001b\\\u001b[2m:\u001b[0m\u001b]8;id=502738;file:///var/folders/v0/wzkm0bb11x1b_27rl_172pdr0000gp/T/ipykernel_78208/2760839720.py#55\u001b\\\u001b[2m55\u001b[0m\u001b]8;;\u001b\\\n",
       "\u001b[2;36m           \u001b[0mMore\u001b[1m)\u001b[0m                                                                                   \u001b[2m                \u001b[0m\n"
      ]
     },
     "metadata": {},
     "output_type": "display_data"
    },
    {
     "data": {
      "text/html": [
       "<pre style=\"white-space:pre;overflow-x:auto;line-height:normal;font-family:Menlo,'DejaVu Sans Mono',consolas,'Courier New',monospace\"><span style=\"color: #7fbfbf; text-decoration-color: #7fbfbf\">           </span>Case <span style=\"color: #008080; text-decoration-color: #008080; font-weight: bold\">704344978</span> already exists with status contacted                                     <a href=\"file:///var/folders/v0/wzkm0bb11x1b_27rl_172pdr0000gp/T/ipykernel_78208/2760839720.py\" target=\"_blank\"><span style=\"color: #7f7f7f; text-decoration-color: #7f7f7f\">2760839720.py</span></a><span style=\"color: #7f7f7f; text-decoration-color: #7f7f7f\">:</span><a href=\"file:///var/folders/v0/wzkm0bb11x1b_27rl_172pdr0000gp/T/ipykernel_78208/2760839720.py#52\" target=\"_blank\"><span style=\"color: #7f7f7f; text-decoration-color: #7f7f7f\">52</span></a>\n",
       "</pre>\n"
      ],
      "text/plain": [
       "\u001b[2;36m          \u001b[0m\u001b[2;36m \u001b[0mCase \u001b[1;36m704344978\u001b[0m already exists with status contacted                                     \u001b]8;id=426313;file:///var/folders/v0/wzkm0bb11x1b_27rl_172pdr0000gp/T/ipykernel_78208/2760839720.py\u001b\\\u001b[2m2760839720.py\u001b[0m\u001b]8;;\u001b\\\u001b[2m:\u001b[0m\u001b]8;id=148926;file:///var/folders/v0/wzkm0bb11x1b_27rl_172pdr0000gp/T/ipykernel_78208/2760839720.py#52\u001b\\\u001b[2m52\u001b[0m\u001b]8;;\u001b\\\n"
      ]
     },
     "metadata": {},
     "output_type": "display_data"
    },
    {
     "data": {
      "text/html": [
       "<pre style=\"white-space:pre;overflow-x:auto;line-height:normal;font-family:Menlo,'DejaVu Sans Mono',consolas,'Courier New',monospace\"><span style=\"color: #7fbfbf; text-decoration-color: #7fbfbf\">           </span>Case details GARRY VANVELSAN <span style=\"color: #008080; text-decoration-color: #008080; font-weight: bold\">1962</span> Exceeded Posted Speed Limit <span style=\"font-weight: bold\">(</span>Exceeded By <span style=\"color: #008080; text-decoration-color: #008080; font-weight: bold\">20</span> - <span style=\"color: #008080; text-decoration-color: #008080; font-weight: bold\">25</span>      <a href=\"file:///var/folders/v0/wzkm0bb11x1b_27rl_172pdr0000gp/T/ipykernel_78208/2760839720.py\" target=\"_blank\"><span style=\"color: #7f7f7f; text-decoration-color: #7f7f7f\">2760839720.py</span></a><span style=\"color: #7f7f7f; text-decoration-color: #7f7f7f\">:</span><a href=\"file:///var/folders/v0/wzkm0bb11x1b_27rl_172pdr0000gp/T/ipykernel_78208/2760839720.py#55\" target=\"_blank\"><span style=\"color: #7f7f7f; text-decoration-color: #7f7f7f\">55</span></a>\n",
       "<span style=\"color: #7fbfbf; text-decoration-color: #7fbfbf\">           </span>Mph<span style=\"font-weight: bold\">)</span>                                                                                    <span style=\"color: #7f7f7f; text-decoration-color: #7f7f7f\">                </span>\n",
       "</pre>\n"
      ],
      "text/plain": [
       "\u001b[2;36m          \u001b[0m\u001b[2;36m \u001b[0mCase details GARRY VANVELSAN \u001b[1;36m1962\u001b[0m Exceeded Posted Speed Limit \u001b[1m(\u001b[0mExceeded By \u001b[1;36m20\u001b[0m - \u001b[1;36m25\u001b[0m      \u001b]8;id=423071;file:///var/folders/v0/wzkm0bb11x1b_27rl_172pdr0000gp/T/ipykernel_78208/2760839720.py\u001b\\\u001b[2m2760839720.py\u001b[0m\u001b]8;;\u001b\\\u001b[2m:\u001b[0m\u001b]8;id=659841;file:///var/folders/v0/wzkm0bb11x1b_27rl_172pdr0000gp/T/ipykernel_78208/2760839720.py#55\u001b\\\u001b[2m55\u001b[0m\u001b]8;;\u001b\\\n",
       "\u001b[2;36m           \u001b[0mMph\u001b[1m)\u001b[0m                                                                                    \u001b[2m                \u001b[0m\n"
      ]
     },
     "metadata": {},
     "output_type": "display_data"
    },
    {
     "data": {
      "text/html": [
       "<pre style=\"white-space:pre;overflow-x:auto;line-height:normal;font-family:Menlo,'DejaVu Sans Mono',consolas,'Courier New',monospace\"><span style=\"color: #7fbfbf; text-decoration-color: #7fbfbf\">           </span>Searching for COLE DAVIS <span style=\"color: #008080; text-decoration-color: #008080; font-weight: bold\">2004.0</span> BOLIVAR MO <span style=\"color: #008080; text-decoration-color: #008080; font-weight: bold\">65613</span> <span style=\"color: #008080; text-decoration-color: #008080; font-weight: bold\">1650</span> E 512H RD                         <a href=\"file:///var/folders/v0/wzkm0bb11x1b_27rl_172pdr0000gp/T/ipykernel_78208/2760839720.py\" target=\"_blank\"><span style=\"color: #7f7f7f; text-decoration-color: #7f7f7f\">2760839720.py</span></a><span style=\"color: #7f7f7f; text-decoration-color: #7f7f7f\">:</span><a href=\"file:///var/folders/v0/wzkm0bb11x1b_27rl_172pdr0000gp/T/ipykernel_78208/2760839720.py#24\" target=\"_blank\"><span style=\"color: #7f7f7f; text-decoration-color: #7f7f7f\">24</span></a>\n",
       "</pre>\n"
      ],
      "text/plain": [
       "\u001b[2;36m          \u001b[0m\u001b[2;36m \u001b[0mSearching for COLE DAVIS \u001b[1;36m2004.0\u001b[0m BOLIVAR MO \u001b[1;36m65613\u001b[0m \u001b[1;36m1650\u001b[0m E 512H RD                         \u001b]8;id=279166;file:///var/folders/v0/wzkm0bb11x1b_27rl_172pdr0000gp/T/ipykernel_78208/2760839720.py\u001b\\\u001b[2m2760839720.py\u001b[0m\u001b]8;;\u001b\\\u001b[2m:\u001b[0m\u001b]8;id=938562;file:///var/folders/v0/wzkm0bb11x1b_27rl_172pdr0000gp/T/ipykernel_78208/2760839720.py#24\u001b\\\u001b[2m24\u001b[0m\u001b]8;;\u001b\\\n"
      ]
     },
     "metadata": {},
     "output_type": "display_data"
    },
    {
     "data": {
      "text/html": [
       "<pre style=\"white-space:pre;overflow-x:auto;line-height:normal;font-family:Menlo,'DejaVu Sans Mono',consolas,'Courier New',monospace\"><span style=\"color: #7fbfbf; text-decoration-color: #7fbfbf\">[14:57:43] </span>Case <span style=\"color: #008080; text-decoration-color: #008080; font-weight: bold\">704179815</span> already exists with status not_contacted                                 <a href=\"file:///var/folders/v0/wzkm0bb11x1b_27rl_172pdr0000gp/T/ipykernel_78208/2760839720.py\" target=\"_blank\"><span style=\"color: #7f7f7f; text-decoration-color: #7f7f7f\">2760839720.py</span></a><span style=\"color: #7f7f7f; text-decoration-color: #7f7f7f\">:</span><a href=\"file:///var/folders/v0/wzkm0bb11x1b_27rl_172pdr0000gp/T/ipykernel_78208/2760839720.py#52\" target=\"_blank\"><span style=\"color: #7f7f7f; text-decoration-color: #7f7f7f\">52</span></a>\n",
       "</pre>\n"
      ],
      "text/plain": [
       "\u001b[2;36m[14:57:43]\u001b[0m\u001b[2;36m \u001b[0mCase \u001b[1;36m704179815\u001b[0m already exists with status not_contacted                                 \u001b]8;id=184989;file:///var/folders/v0/wzkm0bb11x1b_27rl_172pdr0000gp/T/ipykernel_78208/2760839720.py\u001b\\\u001b[2m2760839720.py\u001b[0m\u001b]8;;\u001b\\\u001b[2m:\u001b[0m\u001b]8;id=356844;file:///var/folders/v0/wzkm0bb11x1b_27rl_172pdr0000gp/T/ipykernel_78208/2760839720.py#52\u001b\\\u001b[2m52\u001b[0m\u001b]8;;\u001b\\\n"
      ]
     },
     "metadata": {},
     "output_type": "display_data"
    },
    {
     "data": {
      "text/html": [
       "<pre style=\"white-space:pre;overflow-x:auto;line-height:normal;font-family:Menlo,'DejaVu Sans Mono',consolas,'Courier New',monospace\"><span style=\"color: #7fbfbf; text-decoration-color: #7fbfbf\">           </span>Case details COLE DAVIS <span style=\"color: #008080; text-decoration-color: #008080; font-weight: bold\">2004</span> Exceeded Posted Speed Limit <span style=\"font-weight: bold\">(</span>Exceeded By <span style=\"color: #008080; text-decoration-color: #008080; font-weight: bold\">20</span> - <span style=\"color: #008080; text-decoration-color: #008080; font-weight: bold\">25</span>  Mph<span style=\"font-weight: bold\">)</span>     <a href=\"file:///var/folders/v0/wzkm0bb11x1b_27rl_172pdr0000gp/T/ipykernel_78208/2760839720.py\" target=\"_blank\"><span style=\"color: #7f7f7f; text-decoration-color: #7f7f7f\">2760839720.py</span></a><span style=\"color: #7f7f7f; text-decoration-color: #7f7f7f\">:</span><a href=\"file:///var/folders/v0/wzkm0bb11x1b_27rl_172pdr0000gp/T/ipykernel_78208/2760839720.py#55\" target=\"_blank\"><span style=\"color: #7f7f7f; text-decoration-color: #7f7f7f\">55</span></a>\n",
       "</pre>\n"
      ],
      "text/plain": [
       "\u001b[2;36m          \u001b[0m\u001b[2;36m \u001b[0mCase details COLE DAVIS \u001b[1;36m2004\u001b[0m Exceeded Posted Speed Limit \u001b[1m(\u001b[0mExceeded By \u001b[1;36m20\u001b[0m - \u001b[1;36m25\u001b[0m  Mph\u001b[1m)\u001b[0m     \u001b]8;id=335359;file:///var/folders/v0/wzkm0bb11x1b_27rl_172pdr0000gp/T/ipykernel_78208/2760839720.py\u001b\\\u001b[2m2760839720.py\u001b[0m\u001b]8;;\u001b\\\u001b[2m:\u001b[0m\u001b]8;id=65358;file:///var/folders/v0/wzkm0bb11x1b_27rl_172pdr0000gp/T/ipykernel_78208/2760839720.py#55\u001b\\\u001b[2m55\u001b[0m\u001b]8;;\u001b\\\n"
      ]
     },
     "metadata": {},
     "output_type": "display_data"
    },
    {
     "data": {
      "text/html": [
       "<pre style=\"white-space:pre;overflow-x:auto;line-height:normal;font-family:Menlo,'DejaVu Sans Mono',consolas,'Courier New',monospace\"><span style=\"color: #7fbfbf; text-decoration-color: #7fbfbf\">           </span>Searching for ALEXANDRIA BRUMBAUGH <span style=\"color: #008080; text-decoration-color: #008080; font-weight: bold\">1991.0</span> ST CHARLES MO <span style=\"color: #008080; text-decoration-color: #008080; font-weight: bold\">63303</span> <span style=\"color: #008080; text-decoration-color: #008080; font-weight: bold\">12</span> EAGLE CREST LN         <a href=\"file:///var/folders/v0/wzkm0bb11x1b_27rl_172pdr0000gp/T/ipykernel_78208/2760839720.py\" target=\"_blank\"><span style=\"color: #7f7f7f; text-decoration-color: #7f7f7f\">2760839720.py</span></a><span style=\"color: #7f7f7f; text-decoration-color: #7f7f7f\">:</span><a href=\"file:///var/folders/v0/wzkm0bb11x1b_27rl_172pdr0000gp/T/ipykernel_78208/2760839720.py#24\" target=\"_blank\"><span style=\"color: #7f7f7f; text-decoration-color: #7f7f7f\">24</span></a>\n",
       "</pre>\n"
      ],
      "text/plain": [
       "\u001b[2;36m          \u001b[0m\u001b[2;36m \u001b[0mSearching for ALEXANDRIA BRUMBAUGH \u001b[1;36m1991.0\u001b[0m ST CHARLES MO \u001b[1;36m63303\u001b[0m \u001b[1;36m12\u001b[0m EAGLE CREST LN         \u001b]8;id=611897;file:///var/folders/v0/wzkm0bb11x1b_27rl_172pdr0000gp/T/ipykernel_78208/2760839720.py\u001b\\\u001b[2m2760839720.py\u001b[0m\u001b]8;;\u001b\\\u001b[2m:\u001b[0m\u001b]8;id=888170;file:///var/folders/v0/wzkm0bb11x1b_27rl_172pdr0000gp/T/ipykernel_78208/2760839720.py#24\u001b\\\u001b[2m24\u001b[0m\u001b]8;;\u001b\\\n"
      ]
     },
     "metadata": {},
     "output_type": "display_data"
    },
    {
     "data": {
      "text/html": [
       "<pre style=\"white-space:pre;overflow-x:auto;line-height:normal;font-family:Menlo,'DejaVu Sans Mono',consolas,'Courier New',monospace\"><span style=\"color: #7fbfbf; text-decoration-color: #7fbfbf\">[14:57:44] </span>Case <span style=\"color: #008080; text-decoration-color: #008080; font-weight: bold\">704145039</span> already exists with status contacted                                     <a href=\"file:///var/folders/v0/wzkm0bb11x1b_27rl_172pdr0000gp/T/ipykernel_78208/2760839720.py\" target=\"_blank\"><span style=\"color: #7f7f7f; text-decoration-color: #7f7f7f\">2760839720.py</span></a><span style=\"color: #7f7f7f; text-decoration-color: #7f7f7f\">:</span><a href=\"file:///var/folders/v0/wzkm0bb11x1b_27rl_172pdr0000gp/T/ipykernel_78208/2760839720.py#52\" target=\"_blank\"><span style=\"color: #7f7f7f; text-decoration-color: #7f7f7f\">52</span></a>\n",
       "</pre>\n"
      ],
      "text/plain": [
       "\u001b[2;36m[14:57:44]\u001b[0m\u001b[2;36m \u001b[0mCase \u001b[1;36m704145039\u001b[0m already exists with status contacted                                     \u001b]8;id=839275;file:///var/folders/v0/wzkm0bb11x1b_27rl_172pdr0000gp/T/ipykernel_78208/2760839720.py\u001b\\\u001b[2m2760839720.py\u001b[0m\u001b]8;;\u001b\\\u001b[2m:\u001b[0m\u001b]8;id=317036;file:///var/folders/v0/wzkm0bb11x1b_27rl_172pdr0000gp/T/ipykernel_78208/2760839720.py#52\u001b\\\u001b[2m52\u001b[0m\u001b]8;;\u001b\\\n"
      ]
     },
     "metadata": {},
     "output_type": "display_data"
    },
    {
     "data": {
      "text/html": [
       "<pre style=\"white-space:pre;overflow-x:auto;line-height:normal;font-family:Menlo,'DejaVu Sans Mono',consolas,'Courier New',monospace\"><span style=\"color: #7fbfbf; text-decoration-color: #7fbfbf\">           </span>Case details ALEXANDRIA BRUMBAUGH <span style=\"color: #008080; text-decoration-color: #008080; font-weight: bold\">1991</span> Exceeded Posted Speed Limit <span style=\"font-weight: bold\">(</span>Exceeded By <span style=\"color: #008080; text-decoration-color: #008080; font-weight: bold\">20</span> - <span style=\"color: #008080; text-decoration-color: #008080; font-weight: bold\">25</span> <a href=\"file:///var/folders/v0/wzkm0bb11x1b_27rl_172pdr0000gp/T/ipykernel_78208/2760839720.py\" target=\"_blank\"><span style=\"color: #7f7f7f; text-decoration-color: #7f7f7f\">2760839720.py</span></a><span style=\"color: #7f7f7f; text-decoration-color: #7f7f7f\">:</span><a href=\"file:///var/folders/v0/wzkm0bb11x1b_27rl_172pdr0000gp/T/ipykernel_78208/2760839720.py#55\" target=\"_blank\"><span style=\"color: #7f7f7f; text-decoration-color: #7f7f7f\">55</span></a>\n",
       "<span style=\"color: #7fbfbf; text-decoration-color: #7fbfbf\">           </span>Mph<span style=\"font-weight: bold\">)</span>                                                                                    <span style=\"color: #7f7f7f; text-decoration-color: #7f7f7f\">                </span>\n",
       "</pre>\n"
      ],
      "text/plain": [
       "\u001b[2;36m          \u001b[0m\u001b[2;36m \u001b[0mCase details ALEXANDRIA BRUMBAUGH \u001b[1;36m1991\u001b[0m Exceeded Posted Speed Limit \u001b[1m(\u001b[0mExceeded By \u001b[1;36m20\u001b[0m - \u001b[1;36m25\u001b[0m \u001b]8;id=333700;file:///var/folders/v0/wzkm0bb11x1b_27rl_172pdr0000gp/T/ipykernel_78208/2760839720.py\u001b\\\u001b[2m2760839720.py\u001b[0m\u001b]8;;\u001b\\\u001b[2m:\u001b[0m\u001b]8;id=242063;file:///var/folders/v0/wzkm0bb11x1b_27rl_172pdr0000gp/T/ipykernel_78208/2760839720.py#55\u001b\\\u001b[2m55\u001b[0m\u001b]8;;\u001b\\\n",
       "\u001b[2;36m           \u001b[0mMph\u001b[1m)\u001b[0m                                                                                    \u001b[2m                \u001b[0m\n"
      ]
     },
     "metadata": {},
     "output_type": "display_data"
    },
    {
     "data": {
      "text/html": [
       "<pre style=\"white-space:pre;overflow-x:auto;line-height:normal;font-family:Menlo,'DejaVu Sans Mono',consolas,'Courier New',monospace\"><span style=\"color: #7fbfbf; text-decoration-color: #7fbfbf\">           </span>Searching for BILLY HALSEY <span style=\"color: #008080; text-decoration-color: #008080; font-weight: bold\">1970.0</span> ODESSA MO <span style=\"color: #008080; text-decoration-color: #008080; font-weight: bold\">64076</span> <span style=\"color: #008080; text-decoration-color: #008080; font-weight: bold\">6323</span> GILLEN RD                        <a href=\"file:///var/folders/v0/wzkm0bb11x1b_27rl_172pdr0000gp/T/ipykernel_78208/2760839720.py\" target=\"_blank\"><span style=\"color: #7f7f7f; text-decoration-color: #7f7f7f\">2760839720.py</span></a><span style=\"color: #7f7f7f; text-decoration-color: #7f7f7f\">:</span><a href=\"file:///var/folders/v0/wzkm0bb11x1b_27rl_172pdr0000gp/T/ipykernel_78208/2760839720.py#24\" target=\"_blank\"><span style=\"color: #7f7f7f; text-decoration-color: #7f7f7f\">24</span></a>\n",
       "</pre>\n"
      ],
      "text/plain": [
       "\u001b[2;36m          \u001b[0m\u001b[2;36m \u001b[0mSearching for BILLY HALSEY \u001b[1;36m1970.0\u001b[0m ODESSA MO \u001b[1;36m64076\u001b[0m \u001b[1;36m6323\u001b[0m GILLEN RD                        \u001b]8;id=312970;file:///var/folders/v0/wzkm0bb11x1b_27rl_172pdr0000gp/T/ipykernel_78208/2760839720.py\u001b\\\u001b[2m2760839720.py\u001b[0m\u001b]8;;\u001b\\\u001b[2m:\u001b[0m\u001b]8;id=346075;file:///var/folders/v0/wzkm0bb11x1b_27rl_172pdr0000gp/T/ipykernel_78208/2760839720.py#24\u001b\\\u001b[2m24\u001b[0m\u001b]8;;\u001b\\\n"
      ]
     },
     "metadata": {},
     "output_type": "display_data"
    },
    {
     "data": {
      "text/html": [
       "<pre style=\"white-space:pre;overflow-x:auto;line-height:normal;font-family:Menlo,'DejaVu Sans Mono',consolas,'Courier New',monospace\"><span style=\"color: #7fbfbf; text-decoration-color: #7fbfbf\">[14:57:45] </span>Case 24BCYMU00026 already exists with status not_contacted                              <a href=\"file:///var/folders/v0/wzkm0bb11x1b_27rl_172pdr0000gp/T/ipykernel_78208/2760839720.py\" target=\"_blank\"><span style=\"color: #7f7f7f; text-decoration-color: #7f7f7f\">2760839720.py</span></a><span style=\"color: #7f7f7f; text-decoration-color: #7f7f7f\">:</span><a href=\"file:///var/folders/v0/wzkm0bb11x1b_27rl_172pdr0000gp/T/ipykernel_78208/2760839720.py#52\" target=\"_blank\"><span style=\"color: #7f7f7f; text-decoration-color: #7f7f7f\">52</span></a>\n",
       "</pre>\n"
      ],
      "text/plain": [
       "\u001b[2;36m[14:57:45]\u001b[0m\u001b[2;36m \u001b[0mCase 24BCYMU00026 already exists with status not_contacted                              \u001b]8;id=52941;file:///var/folders/v0/wzkm0bb11x1b_27rl_172pdr0000gp/T/ipykernel_78208/2760839720.py\u001b\\\u001b[2m2760839720.py\u001b[0m\u001b]8;;\u001b\\\u001b[2m:\u001b[0m\u001b]8;id=803586;file:///var/folders/v0/wzkm0bb11x1b_27rl_172pdr0000gp/T/ipykernel_78208/2760839720.py#52\u001b\\\u001b[2m52\u001b[0m\u001b]8;;\u001b\\\n"
      ]
     },
     "metadata": {},
     "output_type": "display_data"
    },
    {
     "data": {
      "text/html": [
       "<pre style=\"white-space:pre;overflow-x:auto;line-height:normal;font-family:Menlo,'DejaVu Sans Mono',consolas,'Courier New',monospace\"><span style=\"color: #7fbfbf; text-decoration-color: #7fbfbf\">           </span>Case details BILLY HALSEY <span style=\"color: #008080; text-decoration-color: #008080; font-weight: bold\">1970</span> Failed To Register Vehicle                               <a href=\"file:///var/folders/v0/wzkm0bb11x1b_27rl_172pdr0000gp/T/ipykernel_78208/2760839720.py\" target=\"_blank\"><span style=\"color: #7f7f7f; text-decoration-color: #7f7f7f\">2760839720.py</span></a><span style=\"color: #7f7f7f; text-decoration-color: #7f7f7f\">:</span><a href=\"file:///var/folders/v0/wzkm0bb11x1b_27rl_172pdr0000gp/T/ipykernel_78208/2760839720.py#55\" target=\"_blank\"><span style=\"color: #7f7f7f; text-decoration-color: #7f7f7f\">55</span></a>\n",
       "</pre>\n"
      ],
      "text/plain": [
       "\u001b[2;36m          \u001b[0m\u001b[2;36m \u001b[0mCase details BILLY HALSEY \u001b[1;36m1970\u001b[0m Failed To Register Vehicle                               \u001b]8;id=291780;file:///var/folders/v0/wzkm0bb11x1b_27rl_172pdr0000gp/T/ipykernel_78208/2760839720.py\u001b\\\u001b[2m2760839720.py\u001b[0m\u001b]8;;\u001b\\\u001b[2m:\u001b[0m\u001b]8;id=912573;file:///var/folders/v0/wzkm0bb11x1b_27rl_172pdr0000gp/T/ipykernel_78208/2760839720.py#55\u001b\\\u001b[2m55\u001b[0m\u001b]8;;\u001b\\\n"
      ]
     },
     "metadata": {},
     "output_type": "display_data"
    },
    {
     "data": {
      "text/html": [
       "<pre style=\"white-space:pre;overflow-x:auto;line-height:normal;font-family:Menlo,'DejaVu Sans Mono',consolas,'Courier New',monospace\"><span style=\"color: #7fbfbf; text-decoration-color: #7fbfbf\">           </span>Searching for CLAUDIO MELGAREJO <span style=\"color: #008080; text-decoration-color: #008080; font-weight: bold\">1961.0</span> KANSAS CITY MO <span style=\"color: #008080; text-decoration-color: #008080; font-weight: bold\">64118</span> <span style=\"color: #008080; text-decoration-color: #008080; font-weight: bold\">1901</span> NE 55TH TERR           <a href=\"file:///var/folders/v0/wzkm0bb11x1b_27rl_172pdr0000gp/T/ipykernel_78208/2760839720.py\" target=\"_blank\"><span style=\"color: #7f7f7f; text-decoration-color: #7f7f7f\">2760839720.py</span></a><span style=\"color: #7f7f7f; text-decoration-color: #7f7f7f\">:</span><a href=\"file:///var/folders/v0/wzkm0bb11x1b_27rl_172pdr0000gp/T/ipykernel_78208/2760839720.py#24\" target=\"_blank\"><span style=\"color: #7f7f7f; text-decoration-color: #7f7f7f\">24</span></a>\n",
       "</pre>\n"
      ],
      "text/plain": [
       "\u001b[2;36m          \u001b[0m\u001b[2;36m \u001b[0mSearching for CLAUDIO MELGAREJO \u001b[1;36m1961.0\u001b[0m KANSAS CITY MO \u001b[1;36m64118\u001b[0m \u001b[1;36m1901\u001b[0m NE 55TH TERR           \u001b]8;id=90783;file:///var/folders/v0/wzkm0bb11x1b_27rl_172pdr0000gp/T/ipykernel_78208/2760839720.py\u001b\\\u001b[2m2760839720.py\u001b[0m\u001b]8;;\u001b\\\u001b[2m:\u001b[0m\u001b]8;id=538406;file:///var/folders/v0/wzkm0bb11x1b_27rl_172pdr0000gp/T/ipykernel_78208/2760839720.py#24\u001b\\\u001b[2m24\u001b[0m\u001b]8;;\u001b\\\n"
      ]
     },
     "metadata": {},
     "output_type": "display_data"
    },
    {
     "data": {
      "text/html": [
       "<pre style=\"white-space:pre;overflow-x:auto;line-height:normal;font-family:Menlo,'DejaVu Sans Mono',consolas,'Courier New',monospace\"><span style=\"color: #7fbfbf; text-decoration-color: #7fbfbf\">           </span>Case <span style=\"color: #008080; text-decoration-color: #008080; font-weight: bold\">161172493</span> already exists with status contacted                                     <a href=\"file:///var/folders/v0/wzkm0bb11x1b_27rl_172pdr0000gp/T/ipykernel_78208/2760839720.py\" target=\"_blank\"><span style=\"color: #7f7f7f; text-decoration-color: #7f7f7f\">2760839720.py</span></a><span style=\"color: #7f7f7f; text-decoration-color: #7f7f7f\">:</span><a href=\"file:///var/folders/v0/wzkm0bb11x1b_27rl_172pdr0000gp/T/ipykernel_78208/2760839720.py#52\" target=\"_blank\"><span style=\"color: #7f7f7f; text-decoration-color: #7f7f7f\">52</span></a>\n",
       "</pre>\n"
      ],
      "text/plain": [
       "\u001b[2;36m          \u001b[0m\u001b[2;36m \u001b[0mCase \u001b[1;36m161172493\u001b[0m already exists with status contacted                                     \u001b]8;id=991976;file:///var/folders/v0/wzkm0bb11x1b_27rl_172pdr0000gp/T/ipykernel_78208/2760839720.py\u001b\\\u001b[2m2760839720.py\u001b[0m\u001b]8;;\u001b\\\u001b[2m:\u001b[0m\u001b]8;id=843153;file:///var/folders/v0/wzkm0bb11x1b_27rl_172pdr0000gp/T/ipykernel_78208/2760839720.py#52\u001b\\\u001b[2m52\u001b[0m\u001b]8;;\u001b\\\n"
      ]
     },
     "metadata": {},
     "output_type": "display_data"
    },
    {
     "data": {
      "text/html": [
       "<pre style=\"white-space:pre;overflow-x:auto;line-height:normal;font-family:Menlo,'DejaVu Sans Mono',consolas,'Courier New',monospace\"><span style=\"color: #7fbfbf; text-decoration-color: #7fbfbf\">           </span>Case details CLAUDIO MELGAREJO <span style=\"color: #008080; text-decoration-color: #008080; font-weight: bold\">1961</span> Oper A Motor Vehicle In A Careless And Imprudent    <a href=\"file:///var/folders/v0/wzkm0bb11x1b_27rl_172pdr0000gp/T/ipykernel_78208/2760839720.py\" target=\"_blank\"><span style=\"color: #7f7f7f; text-decoration-color: #7f7f7f\">2760839720.py</span></a><span style=\"color: #7f7f7f; text-decoration-color: #7f7f7f\">:</span><a href=\"file:///var/folders/v0/wzkm0bb11x1b_27rl_172pdr0000gp/T/ipykernel_78208/2760839720.py#55\" target=\"_blank\"><span style=\"color: #7f7f7f; text-decoration-color: #7f7f7f\">55</span></a>\n",
       "<span style=\"color: #7fbfbf; text-decoration-color: #7fbfbf\">           </span>Manner                                                                                  <span style=\"color: #7f7f7f; text-decoration-color: #7f7f7f\">                </span>\n",
       "</pre>\n"
      ],
      "text/plain": [
       "\u001b[2;36m          \u001b[0m\u001b[2;36m \u001b[0mCase details CLAUDIO MELGAREJO \u001b[1;36m1961\u001b[0m Oper A Motor Vehicle In A Careless And Imprudent    \u001b]8;id=206595;file:///var/folders/v0/wzkm0bb11x1b_27rl_172pdr0000gp/T/ipykernel_78208/2760839720.py\u001b\\\u001b[2m2760839720.py\u001b[0m\u001b]8;;\u001b\\\u001b[2m:\u001b[0m\u001b]8;id=501088;file:///var/folders/v0/wzkm0bb11x1b_27rl_172pdr0000gp/T/ipykernel_78208/2760839720.py#55\u001b\\\u001b[2m55\u001b[0m\u001b]8;;\u001b\\\n",
       "\u001b[2;36m           \u001b[0mManner                                                                                  \u001b[2m                \u001b[0m\n"
      ]
     },
     "metadata": {},
     "output_type": "display_data"
    },
    {
     "data": {
      "text/html": [
       "<pre style=\"white-space:pre;overflow-x:auto;line-height:normal;font-family:Menlo,'DejaVu Sans Mono',consolas,'Courier New',monospace\"><span style=\"color: #7fbfbf; text-decoration-color: #7fbfbf\">           </span>Searching for EVAN CASON <span style=\"color: #008080; text-decoration-color: #008080; font-weight: bold\">1996.0</span> COLUMBIA MO <span style=\"color: #008080; text-decoration-color: #008080; font-weight: bold\">65202</span> <span style=\"color: #008080; text-decoration-color: #008080; font-weight: bold\">138</span>                                   <a href=\"file:///var/folders/v0/wzkm0bb11x1b_27rl_172pdr0000gp/T/ipykernel_78208/2760839720.py\" target=\"_blank\"><span style=\"color: #7f7f7f; text-decoration-color: #7f7f7f\">2760839720.py</span></a><span style=\"color: #7f7f7f; text-decoration-color: #7f7f7f\">:</span><a href=\"file:///var/folders/v0/wzkm0bb11x1b_27rl_172pdr0000gp/T/ipykernel_78208/2760839720.py#24\" target=\"_blank\"><span style=\"color: #7f7f7f; text-decoration-color: #7f7f7f\">24</span></a>\n",
       "</pre>\n"
      ],
      "text/plain": [
       "\u001b[2;36m          \u001b[0m\u001b[2;36m \u001b[0mSearching for EVAN CASON \u001b[1;36m1996.0\u001b[0m COLUMBIA MO \u001b[1;36m65202\u001b[0m \u001b[1;36m138\u001b[0m                                   \u001b]8;id=27584;file:///var/folders/v0/wzkm0bb11x1b_27rl_172pdr0000gp/T/ipykernel_78208/2760839720.py\u001b\\\u001b[2m2760839720.py\u001b[0m\u001b]8;;\u001b\\\u001b[2m:\u001b[0m\u001b]8;id=416448;file:///var/folders/v0/wzkm0bb11x1b_27rl_172pdr0000gp/T/ipykernel_78208/2760839720.py#24\u001b\\\u001b[2m24\u001b[0m\u001b]8;;\u001b\\\n"
      ]
     },
     "metadata": {},
     "output_type": "display_data"
    },
    {
     "data": {
      "text/html": [
       "<pre style=\"white-space:pre;overflow-x:auto;line-height:normal;font-family:Menlo,'DejaVu Sans Mono',consolas,'Courier New',monospace\"><span style=\"color: #7fbfbf; text-decoration-color: #7fbfbf\">[14:57:46] </span>Case <span style=\"color: #008080; text-decoration-color: #008080; font-weight: bold\">230006791</span> already exists with status not_contacted                                 <a href=\"file:///var/folders/v0/wzkm0bb11x1b_27rl_172pdr0000gp/T/ipykernel_78208/2760839720.py\" target=\"_blank\"><span style=\"color: #7f7f7f; text-decoration-color: #7f7f7f\">2760839720.py</span></a><span style=\"color: #7f7f7f; text-decoration-color: #7f7f7f\">:</span><a href=\"file:///var/folders/v0/wzkm0bb11x1b_27rl_172pdr0000gp/T/ipykernel_78208/2760839720.py#52\" target=\"_blank\"><span style=\"color: #7f7f7f; text-decoration-color: #7f7f7f\">52</span></a>\n",
       "</pre>\n"
      ],
      "text/plain": [
       "\u001b[2;36m[14:57:46]\u001b[0m\u001b[2;36m \u001b[0mCase \u001b[1;36m230006791\u001b[0m already exists with status not_contacted                                 \u001b]8;id=80221;file:///var/folders/v0/wzkm0bb11x1b_27rl_172pdr0000gp/T/ipykernel_78208/2760839720.py\u001b\\\u001b[2m2760839720.py\u001b[0m\u001b]8;;\u001b\\\u001b[2m:\u001b[0m\u001b]8;id=268671;file:///var/folders/v0/wzkm0bb11x1b_27rl_172pdr0000gp/T/ipykernel_78208/2760839720.py#52\u001b\\\u001b[2m52\u001b[0m\u001b]8;;\u001b\\\n"
      ]
     },
     "metadata": {},
     "output_type": "display_data"
    },
    {
     "data": {
      "text/html": [
       "<pre style=\"white-space:pre;overflow-x:auto;line-height:normal;font-family:Menlo,'DejaVu Sans Mono',consolas,'Courier New',monospace\"><span style=\"color: #7fbfbf; text-decoration-color: #7fbfbf\">           </span>Case details EVAN CASON <span style=\"color: #008080; text-decoration-color: #008080; font-weight: bold\">1996</span> Exceeded Posted Speed Limit <span style=\"font-weight: bold\">(</span><span style=\"color: #008080; text-decoration-color: #008080; font-weight: bold\">1</span>-<span style=\"color: #008080; text-decoration-color: #008080; font-weight: bold\">5</span> Mph Over<span style=\"font-weight: bold\">)</span>                 <a href=\"file:///var/folders/v0/wzkm0bb11x1b_27rl_172pdr0000gp/T/ipykernel_78208/2760839720.py\" target=\"_blank\"><span style=\"color: #7f7f7f; text-decoration-color: #7f7f7f\">2760839720.py</span></a><span style=\"color: #7f7f7f; text-decoration-color: #7f7f7f\">:</span><a href=\"file:///var/folders/v0/wzkm0bb11x1b_27rl_172pdr0000gp/T/ipykernel_78208/2760839720.py#55\" target=\"_blank\"><span style=\"color: #7f7f7f; text-decoration-color: #7f7f7f\">55</span></a>\n",
       "</pre>\n"
      ],
      "text/plain": [
       "\u001b[2;36m          \u001b[0m\u001b[2;36m \u001b[0mCase details EVAN CASON \u001b[1;36m1996\u001b[0m Exceeded Posted Speed Limit \u001b[1m(\u001b[0m\u001b[1;36m1\u001b[0m-\u001b[1;36m5\u001b[0m Mph Over\u001b[1m)\u001b[0m                 \u001b]8;id=381845;file:///var/folders/v0/wzkm0bb11x1b_27rl_172pdr0000gp/T/ipykernel_78208/2760839720.py\u001b\\\u001b[2m2760839720.py\u001b[0m\u001b]8;;\u001b\\\u001b[2m:\u001b[0m\u001b]8;id=304028;file:///var/folders/v0/wzkm0bb11x1b_27rl_172pdr0000gp/T/ipykernel_78208/2760839720.py#55\u001b\\\u001b[2m55\u001b[0m\u001b]8;;\u001b\\\n"
      ]
     },
     "metadata": {},
     "output_type": "display_data"
    },
    {
     "data": {
      "text/html": [
       "<pre style=\"white-space:pre;overflow-x:auto;line-height:normal;font-family:Menlo,'DejaVu Sans Mono',consolas,'Courier New',monospace\"><span style=\"color: #7fbfbf; text-decoration-color: #7fbfbf\">           </span>Searching for SHANE WOOD <span style=\"color: #008080; text-decoration-color: #008080; font-weight: bold\">1970.0</span> INDEPENDENCE MO <span style=\"color: #008080; text-decoration-color: #008080; font-weight: bold\">64052</span> <span style=\"color: #008080; text-decoration-color: #008080; font-weight: bold\">10701</span> E 32ND ST S                 <a href=\"file:///var/folders/v0/wzkm0bb11x1b_27rl_172pdr0000gp/T/ipykernel_78208/2760839720.py\" target=\"_blank\"><span style=\"color: #7f7f7f; text-decoration-color: #7f7f7f\">2760839720.py</span></a><span style=\"color: #7f7f7f; text-decoration-color: #7f7f7f\">:</span><a href=\"file:///var/folders/v0/wzkm0bb11x1b_27rl_172pdr0000gp/T/ipykernel_78208/2760839720.py#24\" target=\"_blank\"><span style=\"color: #7f7f7f; text-decoration-color: #7f7f7f\">24</span></a>\n",
       "</pre>\n"
      ],
      "text/plain": [
       "\u001b[2;36m          \u001b[0m\u001b[2;36m \u001b[0mSearching for SHANE WOOD \u001b[1;36m1970.0\u001b[0m INDEPENDENCE MO \u001b[1;36m64052\u001b[0m \u001b[1;36m10701\u001b[0m E 32ND ST S                 \u001b]8;id=455036;file:///var/folders/v0/wzkm0bb11x1b_27rl_172pdr0000gp/T/ipykernel_78208/2760839720.py\u001b\\\u001b[2m2760839720.py\u001b[0m\u001b]8;;\u001b\\\u001b[2m:\u001b[0m\u001b]8;id=949718;file:///var/folders/v0/wzkm0bb11x1b_27rl_172pdr0000gp/T/ipykernel_78208/2760839720.py#24\u001b\\\u001b[2m24\u001b[0m\u001b]8;;\u001b\\\n"
      ]
     },
     "metadata": {},
     "output_type": "display_data"
    },
    {
     "data": {
      "text/html": [
       "<pre style=\"white-space:pre;overflow-x:auto;line-height:normal;font-family:Menlo,'DejaVu Sans Mono',consolas,'Courier New',monospace\"><span style=\"color: #7fbfbf; text-decoration-color: #7fbfbf\">           </span>Case <span style=\"color: #008080; text-decoration-color: #008080; font-weight: bold\">230453469</span> already exists with status contacted                                     <a href=\"file:///var/folders/v0/wzkm0bb11x1b_27rl_172pdr0000gp/T/ipykernel_78208/2760839720.py\" target=\"_blank\"><span style=\"color: #7f7f7f; text-decoration-color: #7f7f7f\">2760839720.py</span></a><span style=\"color: #7f7f7f; text-decoration-color: #7f7f7f\">:</span><a href=\"file:///var/folders/v0/wzkm0bb11x1b_27rl_172pdr0000gp/T/ipykernel_78208/2760839720.py#52\" target=\"_blank\"><span style=\"color: #7f7f7f; text-decoration-color: #7f7f7f\">52</span></a>\n",
       "</pre>\n"
      ],
      "text/plain": [
       "\u001b[2;36m          \u001b[0m\u001b[2;36m \u001b[0mCase \u001b[1;36m230453469\u001b[0m already exists with status contacted                                     \u001b]8;id=276406;file:///var/folders/v0/wzkm0bb11x1b_27rl_172pdr0000gp/T/ipykernel_78208/2760839720.py\u001b\\\u001b[2m2760839720.py\u001b[0m\u001b]8;;\u001b\\\u001b[2m:\u001b[0m\u001b]8;id=626401;file:///var/folders/v0/wzkm0bb11x1b_27rl_172pdr0000gp/T/ipykernel_78208/2760839720.py#52\u001b\\\u001b[2m52\u001b[0m\u001b]8;;\u001b\\\n"
      ]
     },
     "metadata": {},
     "output_type": "display_data"
    },
    {
     "data": {
      "text/html": [
       "<pre style=\"white-space:pre;overflow-x:auto;line-height:normal;font-family:Menlo,'DejaVu Sans Mono',consolas,'Courier New',monospace\"><span style=\"color: #7fbfbf; text-decoration-color: #7fbfbf\">           </span>Case details SHANE WOOD <span style=\"color: #008080; text-decoration-color: #008080; font-weight: bold\">1970</span> Exceeded Posted Speed Limit <span style=\"font-weight: bold\">(</span><span style=\"color: #008080; text-decoration-color: #008080; font-weight: bold\">20</span>-<span style=\"color: #008080; text-decoration-color: #008080; font-weight: bold\">25</span> Mph Over<span style=\"font-weight: bold\">)</span>               <a href=\"file:///var/folders/v0/wzkm0bb11x1b_27rl_172pdr0000gp/T/ipykernel_78208/2760839720.py\" target=\"_blank\"><span style=\"color: #7f7f7f; text-decoration-color: #7f7f7f\">2760839720.py</span></a><span style=\"color: #7f7f7f; text-decoration-color: #7f7f7f\">:</span><a href=\"file:///var/folders/v0/wzkm0bb11x1b_27rl_172pdr0000gp/T/ipykernel_78208/2760839720.py#55\" target=\"_blank\"><span style=\"color: #7f7f7f; text-decoration-color: #7f7f7f\">55</span></a>\n",
       "</pre>\n"
      ],
      "text/plain": [
       "\u001b[2;36m          \u001b[0m\u001b[2;36m \u001b[0mCase details SHANE WOOD \u001b[1;36m1970\u001b[0m Exceeded Posted Speed Limit \u001b[1m(\u001b[0m\u001b[1;36m20\u001b[0m-\u001b[1;36m25\u001b[0m Mph Over\u001b[1m)\u001b[0m               \u001b]8;id=671338;file:///var/folders/v0/wzkm0bb11x1b_27rl_172pdr0000gp/T/ipykernel_78208/2760839720.py\u001b\\\u001b[2m2760839720.py\u001b[0m\u001b]8;;\u001b\\\u001b[2m:\u001b[0m\u001b]8;id=880957;file:///var/folders/v0/wzkm0bb11x1b_27rl_172pdr0000gp/T/ipykernel_78208/2760839720.py#55\u001b\\\u001b[2m55\u001b[0m\u001b]8;;\u001b\\\n"
      ]
     },
     "metadata": {},
     "output_type": "display_data"
    },
    {
     "data": {
      "text/html": [
       "<pre style=\"white-space:pre;overflow-x:auto;line-height:normal;font-family:Menlo,'DejaVu Sans Mono',consolas,'Courier New',monospace\"><span style=\"color: #7fbfbf; text-decoration-color: #7fbfbf\">[14:57:47] </span>Searching for DOMINIC HAYNES <span style=\"color: #008080; text-decoration-color: #008080; font-weight: bold\">1997.0</span> INDEPENDENCE MO <span style=\"color: #008080; text-decoration-color: #008080; font-weight: bold\">64050</span> <span style=\"color: #008080; text-decoration-color: #008080; font-weight: bold\">1125</span> S DODGION ST             <a href=\"file:///var/folders/v0/wzkm0bb11x1b_27rl_172pdr0000gp/T/ipykernel_78208/2760839720.py\" target=\"_blank\"><span style=\"color: #7f7f7f; text-decoration-color: #7f7f7f\">2760839720.py</span></a><span style=\"color: #7f7f7f; text-decoration-color: #7f7f7f\">:</span><a href=\"file:///var/folders/v0/wzkm0bb11x1b_27rl_172pdr0000gp/T/ipykernel_78208/2760839720.py#24\" target=\"_blank\"><span style=\"color: #7f7f7f; text-decoration-color: #7f7f7f\">24</span></a>\n",
       "</pre>\n"
      ],
      "text/plain": [
       "\u001b[2;36m[14:57:47]\u001b[0m\u001b[2;36m \u001b[0mSearching for DOMINIC HAYNES \u001b[1;36m1997.0\u001b[0m INDEPENDENCE MO \u001b[1;36m64050\u001b[0m \u001b[1;36m1125\u001b[0m S DODGION ST             \u001b]8;id=816640;file:///var/folders/v0/wzkm0bb11x1b_27rl_172pdr0000gp/T/ipykernel_78208/2760839720.py\u001b\\\u001b[2m2760839720.py\u001b[0m\u001b]8;;\u001b\\\u001b[2m:\u001b[0m\u001b]8;id=155640;file:///var/folders/v0/wzkm0bb11x1b_27rl_172pdr0000gp/T/ipykernel_78208/2760839720.py#24\u001b\\\u001b[2m24\u001b[0m\u001b]8;;\u001b\\\n"
      ]
     },
     "metadata": {},
     "output_type": "display_data"
    },
    {
     "data": {
      "text/html": [
       "<pre style=\"white-space:pre;overflow-x:auto;line-height:normal;font-family:Menlo,'DejaVu Sans Mono',consolas,'Courier New',monospace\"><span style=\"color: #7fbfbf; text-decoration-color: #7fbfbf\">           </span>Case <span style=\"color: #008080; text-decoration-color: #008080; font-weight: bold\">230448450</span> already exists with status contacted                                     <a href=\"file:///var/folders/v0/wzkm0bb11x1b_27rl_172pdr0000gp/T/ipykernel_78208/2760839720.py\" target=\"_blank\"><span style=\"color: #7f7f7f; text-decoration-color: #7f7f7f\">2760839720.py</span></a><span style=\"color: #7f7f7f; text-decoration-color: #7f7f7f\">:</span><a href=\"file:///var/folders/v0/wzkm0bb11x1b_27rl_172pdr0000gp/T/ipykernel_78208/2760839720.py#52\" target=\"_blank\"><span style=\"color: #7f7f7f; text-decoration-color: #7f7f7f\">52</span></a>\n",
       "</pre>\n"
      ],
      "text/plain": [
       "\u001b[2;36m          \u001b[0m\u001b[2;36m \u001b[0mCase \u001b[1;36m230448450\u001b[0m already exists with status contacted                                     \u001b]8;id=338946;file:///var/folders/v0/wzkm0bb11x1b_27rl_172pdr0000gp/T/ipykernel_78208/2760839720.py\u001b\\\u001b[2m2760839720.py\u001b[0m\u001b]8;;\u001b\\\u001b[2m:\u001b[0m\u001b]8;id=546420;file:///var/folders/v0/wzkm0bb11x1b_27rl_172pdr0000gp/T/ipykernel_78208/2760839720.py#52\u001b\\\u001b[2m52\u001b[0m\u001b]8;;\u001b\\\n"
      ]
     },
     "metadata": {},
     "output_type": "display_data"
    },
    {
     "data": {
      "text/html": [
       "<pre style=\"white-space:pre;overflow-x:auto;line-height:normal;font-family:Menlo,'DejaVu Sans Mono',consolas,'Courier New',monospace\"><span style=\"color: #7fbfbf; text-decoration-color: #7fbfbf\">           </span>Case details DOMINIC HAYNES <span style=\"color: #008080; text-decoration-color: #008080; font-weight: bold\">1997</span> Exceeded Posted Speed Limit <span style=\"font-weight: bold\">(</span><span style=\"color: #008080; text-decoration-color: #008080; font-weight: bold\">16</span>-<span style=\"color: #008080; text-decoration-color: #008080; font-weight: bold\">19</span> Mph Over<span style=\"font-weight: bold\">)</span>           <a href=\"file:///var/folders/v0/wzkm0bb11x1b_27rl_172pdr0000gp/T/ipykernel_78208/2760839720.py\" target=\"_blank\"><span style=\"color: #7f7f7f; text-decoration-color: #7f7f7f\">2760839720.py</span></a><span style=\"color: #7f7f7f; text-decoration-color: #7f7f7f\">:</span><a href=\"file:///var/folders/v0/wzkm0bb11x1b_27rl_172pdr0000gp/T/ipykernel_78208/2760839720.py#55\" target=\"_blank\"><span style=\"color: #7f7f7f; text-decoration-color: #7f7f7f\">55</span></a>\n",
       "</pre>\n"
      ],
      "text/plain": [
       "\u001b[2;36m          \u001b[0m\u001b[2;36m \u001b[0mCase details DOMINIC HAYNES \u001b[1;36m1997\u001b[0m Exceeded Posted Speed Limit \u001b[1m(\u001b[0m\u001b[1;36m16\u001b[0m-\u001b[1;36m19\u001b[0m Mph Over\u001b[1m)\u001b[0m           \u001b]8;id=644271;file:///var/folders/v0/wzkm0bb11x1b_27rl_172pdr0000gp/T/ipykernel_78208/2760839720.py\u001b\\\u001b[2m2760839720.py\u001b[0m\u001b]8;;\u001b\\\u001b[2m:\u001b[0m\u001b]8;id=700260;file:///var/folders/v0/wzkm0bb11x1b_27rl_172pdr0000gp/T/ipykernel_78208/2760839720.py#55\u001b\\\u001b[2m55\u001b[0m\u001b]8;;\u001b\\\n"
      ]
     },
     "metadata": {},
     "output_type": "display_data"
    },
    {
     "data": {
      "text/html": [
       "<pre style=\"white-space:pre;overflow-x:auto;line-height:normal;font-family:Menlo,'DejaVu Sans Mono',consolas,'Courier New',monospace\"><span style=\"color: #7fbfbf; text-decoration-color: #7fbfbf\">           </span>Searching for AUTUMN JOHNSON <span style=\"color: #008080; text-decoration-color: #008080; font-weight: bold\">2003.0</span> KANSAS CITY MO <span style=\"color: #008080; text-decoration-color: #008080; font-weight: bold\">64128</span> <span style=\"color: #008080; text-decoration-color: #008080; font-weight: bold\">3325</span> CHESTNUT AVE              <a href=\"file:///var/folders/v0/wzkm0bb11x1b_27rl_172pdr0000gp/T/ipykernel_78208/2760839720.py\" target=\"_blank\"><span style=\"color: #7f7f7f; text-decoration-color: #7f7f7f\">2760839720.py</span></a><span style=\"color: #7f7f7f; text-decoration-color: #7f7f7f\">:</span><a href=\"file:///var/folders/v0/wzkm0bb11x1b_27rl_172pdr0000gp/T/ipykernel_78208/2760839720.py#24\" target=\"_blank\"><span style=\"color: #7f7f7f; text-decoration-color: #7f7f7f\">24</span></a>\n",
       "</pre>\n"
      ],
      "text/plain": [
       "\u001b[2;36m          \u001b[0m\u001b[2;36m \u001b[0mSearching for AUTUMN JOHNSON \u001b[1;36m2003.0\u001b[0m KANSAS CITY MO \u001b[1;36m64128\u001b[0m \u001b[1;36m3325\u001b[0m CHESTNUT AVE              \u001b]8;id=563944;file:///var/folders/v0/wzkm0bb11x1b_27rl_172pdr0000gp/T/ipykernel_78208/2760839720.py\u001b\\\u001b[2m2760839720.py\u001b[0m\u001b]8;;\u001b\\\u001b[2m:\u001b[0m\u001b]8;id=506113;file:///var/folders/v0/wzkm0bb11x1b_27rl_172pdr0000gp/T/ipykernel_78208/2760839720.py#24\u001b\\\u001b[2m24\u001b[0m\u001b]8;;\u001b\\\n"
      ]
     },
     "metadata": {},
     "output_type": "display_data"
    },
    {
     "data": {
      "text/html": [
       "<pre style=\"white-space:pre;overflow-x:auto;line-height:normal;font-family:Menlo,'DejaVu Sans Mono',consolas,'Courier New',monospace\"><span style=\"color: #7fbfbf; text-decoration-color: #7fbfbf\">[14:57:48] </span>Case <span style=\"color: #008080; text-decoration-color: #008080; font-weight: bold\">210896289</span> already exists with status contacted                                     <a href=\"file:///var/folders/v0/wzkm0bb11x1b_27rl_172pdr0000gp/T/ipykernel_78208/2760839720.py\" target=\"_blank\"><span style=\"color: #7f7f7f; text-decoration-color: #7f7f7f\">2760839720.py</span></a><span style=\"color: #7f7f7f; text-decoration-color: #7f7f7f\">:</span><a href=\"file:///var/folders/v0/wzkm0bb11x1b_27rl_172pdr0000gp/T/ipykernel_78208/2760839720.py#52\" target=\"_blank\"><span style=\"color: #7f7f7f; text-decoration-color: #7f7f7f\">52</span></a>\n",
       "</pre>\n"
      ],
      "text/plain": [
       "\u001b[2;36m[14:57:48]\u001b[0m\u001b[2;36m \u001b[0mCase \u001b[1;36m210896289\u001b[0m already exists with status contacted                                     \u001b]8;id=818659;file:///var/folders/v0/wzkm0bb11x1b_27rl_172pdr0000gp/T/ipykernel_78208/2760839720.py\u001b\\\u001b[2m2760839720.py\u001b[0m\u001b]8;;\u001b\\\u001b[2m:\u001b[0m\u001b]8;id=401823;file:///var/folders/v0/wzkm0bb11x1b_27rl_172pdr0000gp/T/ipykernel_78208/2760839720.py#52\u001b\\\u001b[2m52\u001b[0m\u001b]8;;\u001b\\\n"
      ]
     },
     "metadata": {},
     "output_type": "display_data"
    },
    {
     "data": {
      "text/html": [
       "<pre style=\"white-space:pre;overflow-x:auto;line-height:normal;font-family:Menlo,'DejaVu Sans Mono',consolas,'Courier New',monospace\"><span style=\"color: #7fbfbf; text-decoration-color: #7fbfbf\">           </span>Case details AUTUMN JOHNSON <span style=\"color: #008080; text-decoration-color: #008080; font-weight: bold\">2003</span> Exceeded Posted Speed Limit <span style=\"font-weight: bold\">(</span><span style=\"color: #008080; text-decoration-color: #008080; font-weight: bold\">16</span>-<span style=\"color: #008080; text-decoration-color: #008080; font-weight: bold\">19</span> Mph Over<span style=\"font-weight: bold\">)</span>           <a href=\"file:///var/folders/v0/wzkm0bb11x1b_27rl_172pdr0000gp/T/ipykernel_78208/2760839720.py\" target=\"_blank\"><span style=\"color: #7f7f7f; text-decoration-color: #7f7f7f\">2760839720.py</span></a><span style=\"color: #7f7f7f; text-decoration-color: #7f7f7f\">:</span><a href=\"file:///var/folders/v0/wzkm0bb11x1b_27rl_172pdr0000gp/T/ipykernel_78208/2760839720.py#55\" target=\"_blank\"><span style=\"color: #7f7f7f; text-decoration-color: #7f7f7f\">55</span></a>\n",
       "</pre>\n"
      ],
      "text/plain": [
       "\u001b[2;36m          \u001b[0m\u001b[2;36m \u001b[0mCase details AUTUMN JOHNSON \u001b[1;36m2003\u001b[0m Exceeded Posted Speed Limit \u001b[1m(\u001b[0m\u001b[1;36m16\u001b[0m-\u001b[1;36m19\u001b[0m Mph Over\u001b[1m)\u001b[0m           \u001b]8;id=123593;file:///var/folders/v0/wzkm0bb11x1b_27rl_172pdr0000gp/T/ipykernel_78208/2760839720.py\u001b\\\u001b[2m2760839720.py\u001b[0m\u001b]8;;\u001b\\\u001b[2m:\u001b[0m\u001b]8;id=353749;file:///var/folders/v0/wzkm0bb11x1b_27rl_172pdr0000gp/T/ipykernel_78208/2760839720.py#55\u001b\\\u001b[2m55\u001b[0m\u001b]8;;\u001b\\\n"
      ]
     },
     "metadata": {},
     "output_type": "display_data"
    },
    {
     "data": {
      "text/html": [
       "<pre style=\"white-space:pre;overflow-x:auto;line-height:normal;font-family:Menlo,'DejaVu Sans Mono',consolas,'Courier New',monospace\"><span style=\"color: #7fbfbf; text-decoration-color: #7fbfbf\">           </span>Searching for CANDACE CLAUSSEN <span style=\"color: #008080; text-decoration-color: #008080; font-weight: bold\">1971.0</span> CHILLICOTHE MO <span style=\"color: #008080; text-decoration-color: #008080; font-weight: bold\">64601</span> <span style=\"color: #008080; text-decoration-color: #008080; font-weight: bold\">10621</span> LIV <span style=\"color: #008080; text-decoration-color: #008080; font-weight: bold\">229</span>                <a href=\"file:///var/folders/v0/wzkm0bb11x1b_27rl_172pdr0000gp/T/ipykernel_78208/2760839720.py\" target=\"_blank\"><span style=\"color: #7f7f7f; text-decoration-color: #7f7f7f\">2760839720.py</span></a><span style=\"color: #7f7f7f; text-decoration-color: #7f7f7f\">:</span><a href=\"file:///var/folders/v0/wzkm0bb11x1b_27rl_172pdr0000gp/T/ipykernel_78208/2760839720.py#24\" target=\"_blank\"><span style=\"color: #7f7f7f; text-decoration-color: #7f7f7f\">24</span></a>\n",
       "</pre>\n"
      ],
      "text/plain": [
       "\u001b[2;36m          \u001b[0m\u001b[2;36m \u001b[0mSearching for CANDACE CLAUSSEN \u001b[1;36m1971.0\u001b[0m CHILLICOTHE MO \u001b[1;36m64601\u001b[0m \u001b[1;36m10621\u001b[0m LIV \u001b[1;36m229\u001b[0m                \u001b]8;id=364844;file:///var/folders/v0/wzkm0bb11x1b_27rl_172pdr0000gp/T/ipykernel_78208/2760839720.py\u001b\\\u001b[2m2760839720.py\u001b[0m\u001b]8;;\u001b\\\u001b[2m:\u001b[0m\u001b]8;id=225625;file:///var/folders/v0/wzkm0bb11x1b_27rl_172pdr0000gp/T/ipykernel_78208/2760839720.py#24\u001b\\\u001b[2m24\u001b[0m\u001b]8;;\u001b\\\n"
      ]
     },
     "metadata": {},
     "output_type": "display_data"
    },
    {
     "data": {
      "text/html": [
       "<pre style=\"white-space:pre;overflow-x:auto;line-height:normal;font-family:Menlo,'DejaVu Sans Mono',consolas,'Courier New',monospace\"><span style=\"color: #7fbfbf; text-decoration-color: #7fbfbf\">[14:57:49] </span>Case <span style=\"color: #008080; text-decoration-color: #008080; font-weight: bold\">704197937</span> already exists with status contacted                                     <a href=\"file:///var/folders/v0/wzkm0bb11x1b_27rl_172pdr0000gp/T/ipykernel_78208/2760839720.py\" target=\"_blank\"><span style=\"color: #7f7f7f; text-decoration-color: #7f7f7f\">2760839720.py</span></a><span style=\"color: #7f7f7f; text-decoration-color: #7f7f7f\">:</span><a href=\"file:///var/folders/v0/wzkm0bb11x1b_27rl_172pdr0000gp/T/ipykernel_78208/2760839720.py#52\" target=\"_blank\"><span style=\"color: #7f7f7f; text-decoration-color: #7f7f7f\">52</span></a>\n",
       "</pre>\n"
      ],
      "text/plain": [
       "\u001b[2;36m[14:57:49]\u001b[0m\u001b[2;36m \u001b[0mCase \u001b[1;36m704197937\u001b[0m already exists with status contacted                                     \u001b]8;id=581303;file:///var/folders/v0/wzkm0bb11x1b_27rl_172pdr0000gp/T/ipykernel_78208/2760839720.py\u001b\\\u001b[2m2760839720.py\u001b[0m\u001b]8;;\u001b\\\u001b[2m:\u001b[0m\u001b]8;id=148686;file:///var/folders/v0/wzkm0bb11x1b_27rl_172pdr0000gp/T/ipykernel_78208/2760839720.py#52\u001b\\\u001b[2m52\u001b[0m\u001b]8;;\u001b\\\n"
      ]
     },
     "metadata": {},
     "output_type": "display_data"
    },
    {
     "data": {
      "text/html": [
       "<pre style=\"white-space:pre;overflow-x:auto;line-height:normal;font-family:Menlo,'DejaVu Sans Mono',consolas,'Courier New',monospace\"><span style=\"color: #7fbfbf; text-decoration-color: #7fbfbf\">           </span>Case details CANDACE CLAUSSEN <span style=\"color: #008080; text-decoration-color: #008080; font-weight: bold\">1971</span> Exceeded Posted Speed Limit <span style=\"font-weight: bold\">(</span>Exceeded By <span style=\"color: #008080; text-decoration-color: #008080; font-weight: bold\">11</span> - <span style=\"color: #008080; text-decoration-color: #008080; font-weight: bold\">15</span>     <a href=\"file:///var/folders/v0/wzkm0bb11x1b_27rl_172pdr0000gp/T/ipykernel_78208/2760839720.py\" target=\"_blank\"><span style=\"color: #7f7f7f; text-decoration-color: #7f7f7f\">2760839720.py</span></a><span style=\"color: #7f7f7f; text-decoration-color: #7f7f7f\">:</span><a href=\"file:///var/folders/v0/wzkm0bb11x1b_27rl_172pdr0000gp/T/ipykernel_78208/2760839720.py#55\" target=\"_blank\"><span style=\"color: #7f7f7f; text-decoration-color: #7f7f7f\">55</span></a>\n",
       "<span style=\"color: #7fbfbf; text-decoration-color: #7fbfbf\">           </span>Mph<span style=\"font-weight: bold\">)</span>                                                                                    <span style=\"color: #7f7f7f; text-decoration-color: #7f7f7f\">                </span>\n",
       "</pre>\n"
      ],
      "text/plain": [
       "\u001b[2;36m          \u001b[0m\u001b[2;36m \u001b[0mCase details CANDACE CLAUSSEN \u001b[1;36m1971\u001b[0m Exceeded Posted Speed Limit \u001b[1m(\u001b[0mExceeded By \u001b[1;36m11\u001b[0m - \u001b[1;36m15\u001b[0m     \u001b]8;id=131800;file:///var/folders/v0/wzkm0bb11x1b_27rl_172pdr0000gp/T/ipykernel_78208/2760839720.py\u001b\\\u001b[2m2760839720.py\u001b[0m\u001b]8;;\u001b\\\u001b[2m:\u001b[0m\u001b]8;id=976633;file:///var/folders/v0/wzkm0bb11x1b_27rl_172pdr0000gp/T/ipykernel_78208/2760839720.py#55\u001b\\\u001b[2m55\u001b[0m\u001b]8;;\u001b\\\n",
       "\u001b[2;36m           \u001b[0mMph\u001b[1m)\u001b[0m                                                                                    \u001b[2m                \u001b[0m\n"
      ]
     },
     "metadata": {},
     "output_type": "display_data"
    },
    {
     "data": {
      "text/html": [
       "<pre style=\"white-space:pre;overflow-x:auto;line-height:normal;font-family:Menlo,'DejaVu Sans Mono',consolas,'Courier New',monospace\"><span style=\"color: #7fbfbf; text-decoration-color: #7fbfbf\">           </span>Searching for ARIC HOWE <span style=\"color: #008080; text-decoration-color: #008080; font-weight: bold\">1971.0</span> RAYMORE MO <span style=\"color: #008080; text-decoration-color: #008080; font-weight: bold\">64083</span> <span style=\"color: #008080; text-decoration-color: #008080; font-weight: bold\">1602</span> FARVIEW RD                         <a href=\"file:///var/folders/v0/wzkm0bb11x1b_27rl_172pdr0000gp/T/ipykernel_78208/2760839720.py\" target=\"_blank\"><span style=\"color: #7f7f7f; text-decoration-color: #7f7f7f\">2760839720.py</span></a><span style=\"color: #7f7f7f; text-decoration-color: #7f7f7f\">:</span><a href=\"file:///var/folders/v0/wzkm0bb11x1b_27rl_172pdr0000gp/T/ipykernel_78208/2760839720.py#24\" target=\"_blank\"><span style=\"color: #7f7f7f; text-decoration-color: #7f7f7f\">24</span></a>\n",
       "</pre>\n"
      ],
      "text/plain": [
       "\u001b[2;36m          \u001b[0m\u001b[2;36m \u001b[0mSearching for ARIC HOWE \u001b[1;36m1971.0\u001b[0m RAYMORE MO \u001b[1;36m64083\u001b[0m \u001b[1;36m1602\u001b[0m FARVIEW RD                         \u001b]8;id=746113;file:///var/folders/v0/wzkm0bb11x1b_27rl_172pdr0000gp/T/ipykernel_78208/2760839720.py\u001b\\\u001b[2m2760839720.py\u001b[0m\u001b]8;;\u001b\\\u001b[2m:\u001b[0m\u001b]8;id=12003;file:///var/folders/v0/wzkm0bb11x1b_27rl_172pdr0000gp/T/ipykernel_78208/2760839720.py#24\u001b\\\u001b[2m24\u001b[0m\u001b]8;;\u001b\\\n"
      ]
     },
     "metadata": {},
     "output_type": "display_data"
    },
    {
     "data": {
      "text/html": [
       "<pre style=\"white-space:pre;overflow-x:auto;line-height:normal;font-family:Menlo,'DejaVu Sans Mono',consolas,'Courier New',monospace\"><span style=\"color: #7fbfbf; text-decoration-color: #7fbfbf\">           </span>Case <span style=\"color: #008080; text-decoration-color: #008080; font-weight: bold\">230278957</span> already exists with status not_contacted                                 <a href=\"file:///var/folders/v0/wzkm0bb11x1b_27rl_172pdr0000gp/T/ipykernel_78208/2760839720.py\" target=\"_blank\"><span style=\"color: #7f7f7f; text-decoration-color: #7f7f7f\">2760839720.py</span></a><span style=\"color: #7f7f7f; text-decoration-color: #7f7f7f\">:</span><a href=\"file:///var/folders/v0/wzkm0bb11x1b_27rl_172pdr0000gp/T/ipykernel_78208/2760839720.py#52\" target=\"_blank\"><span style=\"color: #7f7f7f; text-decoration-color: #7f7f7f\">52</span></a>\n",
       "</pre>\n"
      ],
      "text/plain": [
       "\u001b[2;36m          \u001b[0m\u001b[2;36m \u001b[0mCase \u001b[1;36m230278957\u001b[0m already exists with status not_contacted                                 \u001b]8;id=582449;file:///var/folders/v0/wzkm0bb11x1b_27rl_172pdr0000gp/T/ipykernel_78208/2760839720.py\u001b\\\u001b[2m2760839720.py\u001b[0m\u001b]8;;\u001b\\\u001b[2m:\u001b[0m\u001b]8;id=424182;file:///var/folders/v0/wzkm0bb11x1b_27rl_172pdr0000gp/T/ipykernel_78208/2760839720.py#52\u001b\\\u001b[2m52\u001b[0m\u001b]8;;\u001b\\\n"
      ]
     },
     "metadata": {},
     "output_type": "display_data"
    },
    {
     "data": {
      "text/html": [
       "<pre style=\"white-space:pre;overflow-x:auto;line-height:normal;font-family:Menlo,'DejaVu Sans Mono',consolas,'Courier New',monospace\"><span style=\"color: #7fbfbf; text-decoration-color: #7fbfbf\">           </span>Case details ARIC HOWE <span style=\"color: #008080; text-decoration-color: #008080; font-weight: bold\">1971</span> Exceeded Posted Speed Limit <span style=\"font-weight: bold\">(</span><span style=\"color: #008080; text-decoration-color: #008080; font-weight: bold\">1</span>-<span style=\"color: #008080; text-decoration-color: #008080; font-weight: bold\">5</span> Mph Over<span style=\"font-weight: bold\">)</span>                  <a href=\"file:///var/folders/v0/wzkm0bb11x1b_27rl_172pdr0000gp/T/ipykernel_78208/2760839720.py\" target=\"_blank\"><span style=\"color: #7f7f7f; text-decoration-color: #7f7f7f\">2760839720.py</span></a><span style=\"color: #7f7f7f; text-decoration-color: #7f7f7f\">:</span><a href=\"file:///var/folders/v0/wzkm0bb11x1b_27rl_172pdr0000gp/T/ipykernel_78208/2760839720.py#55\" target=\"_blank\"><span style=\"color: #7f7f7f; text-decoration-color: #7f7f7f\">55</span></a>\n",
       "</pre>\n"
      ],
      "text/plain": [
       "\u001b[2;36m          \u001b[0m\u001b[2;36m \u001b[0mCase details ARIC HOWE \u001b[1;36m1971\u001b[0m Exceeded Posted Speed Limit \u001b[1m(\u001b[0m\u001b[1;36m1\u001b[0m-\u001b[1;36m5\u001b[0m Mph Over\u001b[1m)\u001b[0m                  \u001b]8;id=346354;file:///var/folders/v0/wzkm0bb11x1b_27rl_172pdr0000gp/T/ipykernel_78208/2760839720.py\u001b\\\u001b[2m2760839720.py\u001b[0m\u001b]8;;\u001b\\\u001b[2m:\u001b[0m\u001b]8;id=949184;file:///var/folders/v0/wzkm0bb11x1b_27rl_172pdr0000gp/T/ipykernel_78208/2760839720.py#55\u001b\\\u001b[2m55\u001b[0m\u001b]8;;\u001b\\\n"
      ]
     },
     "metadata": {},
     "output_type": "display_data"
    },
    {
     "data": {
      "text/html": [
       "<pre style=\"white-space:pre;overflow-x:auto;line-height:normal;font-family:Menlo,'DejaVu Sans Mono',consolas,'Courier New',monospace\"><span style=\"color: #7fbfbf; text-decoration-color: #7fbfbf\">           </span>Searching for TOMMY BRANCH <span style=\"color: #008080; text-decoration-color: #008080; font-weight: bold\">2004.0</span> KANSAS CITY MO <span style=\"color: #008080; text-decoration-color: #008080; font-weight: bold\">64109</span> <span style=\"color: #008080; text-decoration-color: #008080; font-weight: bold\">3425</span> PARK AVE                    <a href=\"file:///var/folders/v0/wzkm0bb11x1b_27rl_172pdr0000gp/T/ipykernel_78208/2760839720.py\" target=\"_blank\"><span style=\"color: #7f7f7f; text-decoration-color: #7f7f7f\">2760839720.py</span></a><span style=\"color: #7f7f7f; text-decoration-color: #7f7f7f\">:</span><a href=\"file:///var/folders/v0/wzkm0bb11x1b_27rl_172pdr0000gp/T/ipykernel_78208/2760839720.py#24\" target=\"_blank\"><span style=\"color: #7f7f7f; text-decoration-color: #7f7f7f\">24</span></a>\n",
       "</pre>\n"
      ],
      "text/plain": [
       "\u001b[2;36m          \u001b[0m\u001b[2;36m \u001b[0mSearching for TOMMY BRANCH \u001b[1;36m2004.0\u001b[0m KANSAS CITY MO \u001b[1;36m64109\u001b[0m \u001b[1;36m3425\u001b[0m PARK AVE                    \u001b]8;id=112891;file:///var/folders/v0/wzkm0bb11x1b_27rl_172pdr0000gp/T/ipykernel_78208/2760839720.py\u001b\\\u001b[2m2760839720.py\u001b[0m\u001b]8;;\u001b\\\u001b[2m:\u001b[0m\u001b]8;id=250453;file:///var/folders/v0/wzkm0bb11x1b_27rl_172pdr0000gp/T/ipykernel_78208/2760839720.py#24\u001b\\\u001b[2m24\u001b[0m\u001b]8;;\u001b\\\n"
      ]
     },
     "metadata": {},
     "output_type": "display_data"
    },
    {
     "data": {
      "text/html": [
       "<pre style=\"white-space:pre;overflow-x:auto;line-height:normal;font-family:Menlo,'DejaVu Sans Mono',consolas,'Courier New',monospace\"><span style=\"color: #7fbfbf; text-decoration-color: #7fbfbf\">[14:57:50] </span>Case <span style=\"color: #008080; text-decoration-color: #008080; font-weight: bold\">210912275</span> already exists with status contacted                                     <a href=\"file:///var/folders/v0/wzkm0bb11x1b_27rl_172pdr0000gp/T/ipykernel_78208/2760839720.py\" target=\"_blank\"><span style=\"color: #7f7f7f; text-decoration-color: #7f7f7f\">2760839720.py</span></a><span style=\"color: #7f7f7f; text-decoration-color: #7f7f7f\">:</span><a href=\"file:///var/folders/v0/wzkm0bb11x1b_27rl_172pdr0000gp/T/ipykernel_78208/2760839720.py#52\" target=\"_blank\"><span style=\"color: #7f7f7f; text-decoration-color: #7f7f7f\">52</span></a>\n",
       "</pre>\n"
      ],
      "text/plain": [
       "\u001b[2;36m[14:57:50]\u001b[0m\u001b[2;36m \u001b[0mCase \u001b[1;36m210912275\u001b[0m already exists with status contacted                                     \u001b]8;id=582955;file:///var/folders/v0/wzkm0bb11x1b_27rl_172pdr0000gp/T/ipykernel_78208/2760839720.py\u001b\\\u001b[2m2760839720.py\u001b[0m\u001b]8;;\u001b\\\u001b[2m:\u001b[0m\u001b]8;id=222631;file:///var/folders/v0/wzkm0bb11x1b_27rl_172pdr0000gp/T/ipykernel_78208/2760839720.py#52\u001b\\\u001b[2m52\u001b[0m\u001b]8;;\u001b\\\n"
      ]
     },
     "metadata": {},
     "output_type": "display_data"
    },
    {
     "data": {
      "text/html": [
       "<pre style=\"white-space:pre;overflow-x:auto;line-height:normal;font-family:Menlo,'DejaVu Sans Mono',consolas,'Courier New',monospace\"><span style=\"color: #7fbfbf; text-decoration-color: #7fbfbf\">           </span>Case details TOMMY BRANCH <span style=\"color: #008080; text-decoration-color: #008080; font-weight: bold\">2004</span> Operate Motor Vehicle In Careless And Imprudent Manner   <a href=\"file:///var/folders/v0/wzkm0bb11x1b_27rl_172pdr0000gp/T/ipykernel_78208/2760839720.py\" target=\"_blank\"><span style=\"color: #7f7f7f; text-decoration-color: #7f7f7f\">2760839720.py</span></a><span style=\"color: #7f7f7f; text-decoration-color: #7f7f7f\">:</span><a href=\"file:///var/folders/v0/wzkm0bb11x1b_27rl_172pdr0000gp/T/ipykernel_78208/2760839720.py#55\" target=\"_blank\"><span style=\"color: #7f7f7f; text-decoration-color: #7f7f7f\">55</span></a>\n",
       "</pre>\n"
      ],
      "text/plain": [
       "\u001b[2;36m          \u001b[0m\u001b[2;36m \u001b[0mCase details TOMMY BRANCH \u001b[1;36m2004\u001b[0m Operate Motor Vehicle In Careless And Imprudent Manner   \u001b]8;id=938229;file:///var/folders/v0/wzkm0bb11x1b_27rl_172pdr0000gp/T/ipykernel_78208/2760839720.py\u001b\\\u001b[2m2760839720.py\u001b[0m\u001b]8;;\u001b\\\u001b[2m:\u001b[0m\u001b]8;id=458713;file:///var/folders/v0/wzkm0bb11x1b_27rl_172pdr0000gp/T/ipykernel_78208/2760839720.py#55\u001b\\\u001b[2m55\u001b[0m\u001b]8;;\u001b\\\n"
      ]
     },
     "metadata": {},
     "output_type": "display_data"
    },
    {
     "data": {
      "text/html": [
       "<pre style=\"white-space:pre;overflow-x:auto;line-height:normal;font-family:Menlo,'DejaVu Sans Mono',consolas,'Courier New',monospace\"><span style=\"color: #7fbfbf; text-decoration-color: #7fbfbf\">           </span>Searching for JACQUE HOWARD <span style=\"color: #008080; text-decoration-color: #008080; font-weight: bold\">1967.0</span> RAYTOWN MO <span style=\"color: #008080; text-decoration-color: #008080; font-weight: bold\">64133</span> <span style=\"color: #008080; text-decoration-color: #008080; font-weight: bold\">9202</span> E 74TH TER                     <a href=\"file:///var/folders/v0/wzkm0bb11x1b_27rl_172pdr0000gp/T/ipykernel_78208/2760839720.py\" target=\"_blank\"><span style=\"color: #7f7f7f; text-decoration-color: #7f7f7f\">2760839720.py</span></a><span style=\"color: #7f7f7f; text-decoration-color: #7f7f7f\">:</span><a href=\"file:///var/folders/v0/wzkm0bb11x1b_27rl_172pdr0000gp/T/ipykernel_78208/2760839720.py#24\" target=\"_blank\"><span style=\"color: #7f7f7f; text-decoration-color: #7f7f7f\">24</span></a>\n",
       "</pre>\n"
      ],
      "text/plain": [
       "\u001b[2;36m          \u001b[0m\u001b[2;36m \u001b[0mSearching for JACQUE HOWARD \u001b[1;36m1967.0\u001b[0m RAYTOWN MO \u001b[1;36m64133\u001b[0m \u001b[1;36m9202\u001b[0m E 74TH TER                     \u001b]8;id=575714;file:///var/folders/v0/wzkm0bb11x1b_27rl_172pdr0000gp/T/ipykernel_78208/2760839720.py\u001b\\\u001b[2m2760839720.py\u001b[0m\u001b]8;;\u001b\\\u001b[2m:\u001b[0m\u001b]8;id=892274;file:///var/folders/v0/wzkm0bb11x1b_27rl_172pdr0000gp/T/ipykernel_78208/2760839720.py#24\u001b\\\u001b[2m24\u001b[0m\u001b]8;;\u001b\\\n"
      ]
     },
     "metadata": {},
     "output_type": "display_data"
    },
    {
     "data": {
      "text/html": [
       "<pre style=\"white-space:pre;overflow-x:auto;line-height:normal;font-family:Menlo,'DejaVu Sans Mono',consolas,'Courier New',monospace\"><span style=\"color: #7fbfbf; text-decoration-color: #7fbfbf\">[14:57:51] </span>Case <span style=\"color: #008080; text-decoration-color: #008080; font-weight: bold\">210910369</span> already exists with status contacted                                     <a href=\"file:///var/folders/v0/wzkm0bb11x1b_27rl_172pdr0000gp/T/ipykernel_78208/2760839720.py\" target=\"_blank\"><span style=\"color: #7f7f7f; text-decoration-color: #7f7f7f\">2760839720.py</span></a><span style=\"color: #7f7f7f; text-decoration-color: #7f7f7f\">:</span><a href=\"file:///var/folders/v0/wzkm0bb11x1b_27rl_172pdr0000gp/T/ipykernel_78208/2760839720.py#52\" target=\"_blank\"><span style=\"color: #7f7f7f; text-decoration-color: #7f7f7f\">52</span></a>\n",
       "</pre>\n"
      ],
      "text/plain": [
       "\u001b[2;36m[14:57:51]\u001b[0m\u001b[2;36m \u001b[0mCase \u001b[1;36m210910369\u001b[0m already exists with status contacted                                     \u001b]8;id=12238;file:///var/folders/v0/wzkm0bb11x1b_27rl_172pdr0000gp/T/ipykernel_78208/2760839720.py\u001b\\\u001b[2m2760839720.py\u001b[0m\u001b]8;;\u001b\\\u001b[2m:\u001b[0m\u001b]8;id=328899;file:///var/folders/v0/wzkm0bb11x1b_27rl_172pdr0000gp/T/ipykernel_78208/2760839720.py#52\u001b\\\u001b[2m52\u001b[0m\u001b]8;;\u001b\\\n"
      ]
     },
     "metadata": {},
     "output_type": "display_data"
    },
    {
     "data": {
      "text/html": [
       "<pre style=\"white-space:pre;overflow-x:auto;line-height:normal;font-family:Menlo,'DejaVu Sans Mono',consolas,'Courier New',monospace\"><span style=\"color: #7fbfbf; text-decoration-color: #7fbfbf\">           </span>Case details JACQUE HOWARD <span style=\"color: #008080; text-decoration-color: #008080; font-weight: bold\">1967</span> Fail To Obey Traffic Control Devices                    <a href=\"file:///var/folders/v0/wzkm0bb11x1b_27rl_172pdr0000gp/T/ipykernel_78208/2760839720.py\" target=\"_blank\"><span style=\"color: #7f7f7f; text-decoration-color: #7f7f7f\">2760839720.py</span></a><span style=\"color: #7f7f7f; text-decoration-color: #7f7f7f\">:</span><a href=\"file:///var/folders/v0/wzkm0bb11x1b_27rl_172pdr0000gp/T/ipykernel_78208/2760839720.py#55\" target=\"_blank\"><span style=\"color: #7f7f7f; text-decoration-color: #7f7f7f\">55</span></a>\n",
       "</pre>\n"
      ],
      "text/plain": [
       "\u001b[2;36m          \u001b[0m\u001b[2;36m \u001b[0mCase details JACQUE HOWARD \u001b[1;36m1967\u001b[0m Fail To Obey Traffic Control Devices                    \u001b]8;id=4743;file:///var/folders/v0/wzkm0bb11x1b_27rl_172pdr0000gp/T/ipykernel_78208/2760839720.py\u001b\\\u001b[2m2760839720.py\u001b[0m\u001b]8;;\u001b\\\u001b[2m:\u001b[0m\u001b]8;id=892234;file:///var/folders/v0/wzkm0bb11x1b_27rl_172pdr0000gp/T/ipykernel_78208/2760839720.py#55\u001b\\\u001b[2m55\u001b[0m\u001b]8;;\u001b\\\n"
      ]
     },
     "metadata": {},
     "output_type": "display_data"
    },
    {
     "data": {
      "text/html": [
       "<pre style=\"white-space:pre;overflow-x:auto;line-height:normal;font-family:Menlo,'DejaVu Sans Mono',consolas,'Courier New',monospace\"><span style=\"color: #7fbfbf; text-decoration-color: #7fbfbf\">           </span>Searching for RILWAN IBITOYE <span style=\"color: #008080; text-decoration-color: #008080; font-weight: bold\">1999.0</span> KANSAS CITY MO <span style=\"color: #008080; text-decoration-color: #008080; font-weight: bold\">64114</span> <span style=\"color: #008080; text-decoration-color: #008080; font-weight: bold\">8419</span> OAK ST                    <a href=\"file:///var/folders/v0/wzkm0bb11x1b_27rl_172pdr0000gp/T/ipykernel_78208/2760839720.py\" target=\"_blank\"><span style=\"color: #7f7f7f; text-decoration-color: #7f7f7f\">2760839720.py</span></a><span style=\"color: #7f7f7f; text-decoration-color: #7f7f7f\">:</span><a href=\"file:///var/folders/v0/wzkm0bb11x1b_27rl_172pdr0000gp/T/ipykernel_78208/2760839720.py#24\" target=\"_blank\"><span style=\"color: #7f7f7f; text-decoration-color: #7f7f7f\">24</span></a>\n",
       "</pre>\n"
      ],
      "text/plain": [
       "\u001b[2;36m          \u001b[0m\u001b[2;36m \u001b[0mSearching for RILWAN IBITOYE \u001b[1;36m1999.0\u001b[0m KANSAS CITY MO \u001b[1;36m64114\u001b[0m \u001b[1;36m8419\u001b[0m OAK ST                    \u001b]8;id=6601;file:///var/folders/v0/wzkm0bb11x1b_27rl_172pdr0000gp/T/ipykernel_78208/2760839720.py\u001b\\\u001b[2m2760839720.py\u001b[0m\u001b]8;;\u001b\\\u001b[2m:\u001b[0m\u001b]8;id=825296;file:///var/folders/v0/wzkm0bb11x1b_27rl_172pdr0000gp/T/ipykernel_78208/2760839720.py#24\u001b\\\u001b[2m24\u001b[0m\u001b]8;;\u001b\\\n"
      ]
     },
     "metadata": {},
     "output_type": "display_data"
    },
    {
     "data": {
      "text/html": [
       "<pre style=\"white-space:pre;overflow-x:auto;line-height:normal;font-family:Menlo,'DejaVu Sans Mono',consolas,'Courier New',monospace\"><span style=\"color: #7fbfbf; text-decoration-color: #7fbfbf\">           </span>Case <span style=\"color: #008080; text-decoration-color: #008080; font-weight: bold\">210893104</span> already exists with status contacted                                     <a href=\"file:///var/folders/v0/wzkm0bb11x1b_27rl_172pdr0000gp/T/ipykernel_78208/2760839720.py\" target=\"_blank\"><span style=\"color: #7f7f7f; text-decoration-color: #7f7f7f\">2760839720.py</span></a><span style=\"color: #7f7f7f; text-decoration-color: #7f7f7f\">:</span><a href=\"file:///var/folders/v0/wzkm0bb11x1b_27rl_172pdr0000gp/T/ipykernel_78208/2760839720.py#52\" target=\"_blank\"><span style=\"color: #7f7f7f; text-decoration-color: #7f7f7f\">52</span></a>\n",
       "</pre>\n"
      ],
      "text/plain": [
       "\u001b[2;36m          \u001b[0m\u001b[2;36m \u001b[0mCase \u001b[1;36m210893104\u001b[0m already exists with status contacted                                     \u001b]8;id=496312;file:///var/folders/v0/wzkm0bb11x1b_27rl_172pdr0000gp/T/ipykernel_78208/2760839720.py\u001b\\\u001b[2m2760839720.py\u001b[0m\u001b]8;;\u001b\\\u001b[2m:\u001b[0m\u001b]8;id=421505;file:///var/folders/v0/wzkm0bb11x1b_27rl_172pdr0000gp/T/ipykernel_78208/2760839720.py#52\u001b\\\u001b[2m52\u001b[0m\u001b]8;;\u001b\\\n"
      ]
     },
     "metadata": {},
     "output_type": "display_data"
    },
    {
     "data": {
      "text/html": [
       "<pre style=\"white-space:pre;overflow-x:auto;line-height:normal;font-family:Menlo,'DejaVu Sans Mono',consolas,'Courier New',monospace\"><span style=\"color: #7fbfbf; text-decoration-color: #7fbfbf\">           </span>Case details RILWAN IBITOYE <span style=\"color: #008080; text-decoration-color: #008080; font-weight: bold\">1999</span> Exceeded Posted Speed Limit <span style=\"font-weight: bold\">(</span><span style=\"color: #008080; text-decoration-color: #008080; font-weight: bold\">6</span>-<span style=\"color: #008080; text-decoration-color: #008080; font-weight: bold\">10</span> Mph Over<span style=\"font-weight: bold\">)</span>            <a href=\"file:///var/folders/v0/wzkm0bb11x1b_27rl_172pdr0000gp/T/ipykernel_78208/2760839720.py\" target=\"_blank\"><span style=\"color: #7f7f7f; text-decoration-color: #7f7f7f\">2760839720.py</span></a><span style=\"color: #7f7f7f; text-decoration-color: #7f7f7f\">:</span><a href=\"file:///var/folders/v0/wzkm0bb11x1b_27rl_172pdr0000gp/T/ipykernel_78208/2760839720.py#55\" target=\"_blank\"><span style=\"color: #7f7f7f; text-decoration-color: #7f7f7f\">55</span></a>\n",
       "</pre>\n"
      ],
      "text/plain": [
       "\u001b[2;36m          \u001b[0m\u001b[2;36m \u001b[0mCase details RILWAN IBITOYE \u001b[1;36m1999\u001b[0m Exceeded Posted Speed Limit \u001b[1m(\u001b[0m\u001b[1;36m6\u001b[0m-\u001b[1;36m10\u001b[0m Mph Over\u001b[1m)\u001b[0m            \u001b]8;id=407352;file:///var/folders/v0/wzkm0bb11x1b_27rl_172pdr0000gp/T/ipykernel_78208/2760839720.py\u001b\\\u001b[2m2760839720.py\u001b[0m\u001b]8;;\u001b\\\u001b[2m:\u001b[0m\u001b]8;id=535959;file:///var/folders/v0/wzkm0bb11x1b_27rl_172pdr0000gp/T/ipykernel_78208/2760839720.py#55\u001b\\\u001b[2m55\u001b[0m\u001b]8;;\u001b\\\n"
      ]
     },
     "metadata": {},
     "output_type": "display_data"
    },
    {
     "data": {
      "text/html": [
       "<pre style=\"white-space:pre;overflow-x:auto;line-height:normal;font-family:Menlo,'DejaVu Sans Mono',consolas,'Courier New',monospace\"><span style=\"color: #7fbfbf; text-decoration-color: #7fbfbf\">           </span>Searching for SAMANTHA STRUBBERG <span style=\"color: #008080; text-decoration-color: #008080; font-weight: bold\">1988.0</span> IMPERIAL MO <span style=\"color: #008080; text-decoration-color: #008080; font-weight: bold\">63052</span> <span style=\"color: #008080; text-decoration-color: #008080; font-weight: bold\">3663</span> GAIL DR                  <a href=\"file:///var/folders/v0/wzkm0bb11x1b_27rl_172pdr0000gp/T/ipykernel_78208/2760839720.py\" target=\"_blank\"><span style=\"color: #7f7f7f; text-decoration-color: #7f7f7f\">2760839720.py</span></a><span style=\"color: #7f7f7f; text-decoration-color: #7f7f7f\">:</span><a href=\"file:///var/folders/v0/wzkm0bb11x1b_27rl_172pdr0000gp/T/ipykernel_78208/2760839720.py#24\" target=\"_blank\"><span style=\"color: #7f7f7f; text-decoration-color: #7f7f7f\">24</span></a>\n",
       "</pre>\n"
      ],
      "text/plain": [
       "\u001b[2;36m          \u001b[0m\u001b[2;36m \u001b[0mSearching for SAMANTHA STRUBBERG \u001b[1;36m1988.0\u001b[0m IMPERIAL MO \u001b[1;36m63052\u001b[0m \u001b[1;36m3663\u001b[0m GAIL DR                  \u001b]8;id=318244;file:///var/folders/v0/wzkm0bb11x1b_27rl_172pdr0000gp/T/ipykernel_78208/2760839720.py\u001b\\\u001b[2m2760839720.py\u001b[0m\u001b]8;;\u001b\\\u001b[2m:\u001b[0m\u001b]8;id=88011;file:///var/folders/v0/wzkm0bb11x1b_27rl_172pdr0000gp/T/ipykernel_78208/2760839720.py#24\u001b\\\u001b[2m24\u001b[0m\u001b]8;;\u001b\\\n"
      ]
     },
     "metadata": {},
     "output_type": "display_data"
    },
    {
     "data": {
      "text/html": [
       "<pre style=\"white-space:pre;overflow-x:auto;line-height:normal;font-family:Menlo,'DejaVu Sans Mono',consolas,'Courier New',monospace\"><span style=\"color: #7fbfbf; text-decoration-color: #7fbfbf\">[14:57:52] </span>Case <span style=\"color: #008080; text-decoration-color: #008080; font-weight: bold\">230898780</span> already exists with status contacted                                     <a href=\"file:///var/folders/v0/wzkm0bb11x1b_27rl_172pdr0000gp/T/ipykernel_78208/2760839720.py\" target=\"_blank\"><span style=\"color: #7f7f7f; text-decoration-color: #7f7f7f\">2760839720.py</span></a><span style=\"color: #7f7f7f; text-decoration-color: #7f7f7f\">:</span><a href=\"file:///var/folders/v0/wzkm0bb11x1b_27rl_172pdr0000gp/T/ipykernel_78208/2760839720.py#52\" target=\"_blank\"><span style=\"color: #7f7f7f; text-decoration-color: #7f7f7f\">52</span></a>\n",
       "</pre>\n"
      ],
      "text/plain": [
       "\u001b[2;36m[14:57:52]\u001b[0m\u001b[2;36m \u001b[0mCase \u001b[1;36m230898780\u001b[0m already exists with status contacted                                     \u001b]8;id=989391;file:///var/folders/v0/wzkm0bb11x1b_27rl_172pdr0000gp/T/ipykernel_78208/2760839720.py\u001b\\\u001b[2m2760839720.py\u001b[0m\u001b]8;;\u001b\\\u001b[2m:\u001b[0m\u001b]8;id=575137;file:///var/folders/v0/wzkm0bb11x1b_27rl_172pdr0000gp/T/ipykernel_78208/2760839720.py#52\u001b\\\u001b[2m52\u001b[0m\u001b]8;;\u001b\\\n"
      ]
     },
     "metadata": {},
     "output_type": "display_data"
    },
    {
     "data": {
      "text/html": [
       "<pre style=\"white-space:pre;overflow-x:auto;line-height:normal;font-family:Menlo,'DejaVu Sans Mono',consolas,'Courier New',monospace\"><span style=\"color: #7fbfbf; text-decoration-color: #7fbfbf\">           </span>Case details SAMANTHA STRUBBERG <span style=\"color: #008080; text-decoration-color: #008080; font-weight: bold\">1988</span> Exceeded Posted Speed Limit <span style=\"font-weight: bold\">(</span><span style=\"color: #008080; text-decoration-color: #008080; font-weight: bold\">16</span>-<span style=\"color: #008080; text-decoration-color: #008080; font-weight: bold\">19</span> Mph Over<span style=\"font-weight: bold\">)</span>       <a href=\"file:///var/folders/v0/wzkm0bb11x1b_27rl_172pdr0000gp/T/ipykernel_78208/2760839720.py\" target=\"_blank\"><span style=\"color: #7f7f7f; text-decoration-color: #7f7f7f\">2760839720.py</span></a><span style=\"color: #7f7f7f; text-decoration-color: #7f7f7f\">:</span><a href=\"file:///var/folders/v0/wzkm0bb11x1b_27rl_172pdr0000gp/T/ipykernel_78208/2760839720.py#55\" target=\"_blank\"><span style=\"color: #7f7f7f; text-decoration-color: #7f7f7f\">55</span></a>\n",
       "</pre>\n"
      ],
      "text/plain": [
       "\u001b[2;36m          \u001b[0m\u001b[2;36m \u001b[0mCase details SAMANTHA STRUBBERG \u001b[1;36m1988\u001b[0m Exceeded Posted Speed Limit \u001b[1m(\u001b[0m\u001b[1;36m16\u001b[0m-\u001b[1;36m19\u001b[0m Mph Over\u001b[1m)\u001b[0m       \u001b]8;id=386556;file:///var/folders/v0/wzkm0bb11x1b_27rl_172pdr0000gp/T/ipykernel_78208/2760839720.py\u001b\\\u001b[2m2760839720.py\u001b[0m\u001b]8;;\u001b\\\u001b[2m:\u001b[0m\u001b]8;id=39144;file:///var/folders/v0/wzkm0bb11x1b_27rl_172pdr0000gp/T/ipykernel_78208/2760839720.py#55\u001b\\\u001b[2m55\u001b[0m\u001b]8;;\u001b\\\n"
      ]
     },
     "metadata": {},
     "output_type": "display_data"
    },
    {
     "data": {
      "text/html": [
       "<pre style=\"white-space:pre;overflow-x:auto;line-height:normal;font-family:Menlo,'DejaVu Sans Mono',consolas,'Courier New',monospace\"><span style=\"color: #7fbfbf; text-decoration-color: #7fbfbf\">           </span>Searching for ADAM HICKS <span style=\"color: #008080; text-decoration-color: #008080; font-weight: bold\">2007.0</span> BELLE MO <span style=\"color: #008080; text-decoration-color: #008080; font-weight: bold\">65013</span> <span style=\"color: #008080; text-decoration-color: #008080; font-weight: bold\">31741</span> MARIES ROAD <span style=\"color: #008080; text-decoration-color: #008080; font-weight: bold\">317</span>                    <a href=\"file:///var/folders/v0/wzkm0bb11x1b_27rl_172pdr0000gp/T/ipykernel_78208/2760839720.py\" target=\"_blank\"><span style=\"color: #7f7f7f; text-decoration-color: #7f7f7f\">2760839720.py</span></a><span style=\"color: #7f7f7f; text-decoration-color: #7f7f7f\">:</span><a href=\"file:///var/folders/v0/wzkm0bb11x1b_27rl_172pdr0000gp/T/ipykernel_78208/2760839720.py#24\" target=\"_blank\"><span style=\"color: #7f7f7f; text-decoration-color: #7f7f7f\">24</span></a>\n",
       "</pre>\n"
      ],
      "text/plain": [
       "\u001b[2;36m          \u001b[0m\u001b[2;36m \u001b[0mSearching for ADAM HICKS \u001b[1;36m2007.0\u001b[0m BELLE MO \u001b[1;36m65013\u001b[0m \u001b[1;36m31741\u001b[0m MARIES ROAD \u001b[1;36m317\u001b[0m                    \u001b]8;id=989424;file:///var/folders/v0/wzkm0bb11x1b_27rl_172pdr0000gp/T/ipykernel_78208/2760839720.py\u001b\\\u001b[2m2760839720.py\u001b[0m\u001b]8;;\u001b\\\u001b[2m:\u001b[0m\u001b]8;id=865318;file:///var/folders/v0/wzkm0bb11x1b_27rl_172pdr0000gp/T/ipykernel_78208/2760839720.py#24\u001b\\\u001b[2m24\u001b[0m\u001b]8;;\u001b\\\n"
      ]
     },
     "metadata": {},
     "output_type": "display_data"
    },
    {
     "data": {
      "text/html": [
       "<pre style=\"white-space:pre;overflow-x:auto;line-height:normal;font-family:Menlo,'DejaVu Sans Mono',consolas,'Courier New',monospace\"><span style=\"color: #7fbfbf; text-decoration-color: #7fbfbf\">[14:57:53] </span>Case <span style=\"color: #008080; text-decoration-color: #008080; font-weight: bold\">220593253</span> already exists with status contacted                                     <a href=\"file:///var/folders/v0/wzkm0bb11x1b_27rl_172pdr0000gp/T/ipykernel_78208/2760839720.py\" target=\"_blank\"><span style=\"color: #7f7f7f; text-decoration-color: #7f7f7f\">2760839720.py</span></a><span style=\"color: #7f7f7f; text-decoration-color: #7f7f7f\">:</span><a href=\"file:///var/folders/v0/wzkm0bb11x1b_27rl_172pdr0000gp/T/ipykernel_78208/2760839720.py#52\" target=\"_blank\"><span style=\"color: #7f7f7f; text-decoration-color: #7f7f7f\">52</span></a>\n",
       "</pre>\n"
      ],
      "text/plain": [
       "\u001b[2;36m[14:57:53]\u001b[0m\u001b[2;36m \u001b[0mCase \u001b[1;36m220593253\u001b[0m already exists with status contacted                                     \u001b]8;id=75496;file:///var/folders/v0/wzkm0bb11x1b_27rl_172pdr0000gp/T/ipykernel_78208/2760839720.py\u001b\\\u001b[2m2760839720.py\u001b[0m\u001b]8;;\u001b\\\u001b[2m:\u001b[0m\u001b]8;id=577685;file:///var/folders/v0/wzkm0bb11x1b_27rl_172pdr0000gp/T/ipykernel_78208/2760839720.py#52\u001b\\\u001b[2m52\u001b[0m\u001b]8;;\u001b\\\n"
      ]
     },
     "metadata": {},
     "output_type": "display_data"
    },
    {
     "data": {
      "text/html": [
       "<pre style=\"white-space:pre;overflow-x:auto;line-height:normal;font-family:Menlo,'DejaVu Sans Mono',consolas,'Courier New',monospace\"><span style=\"color: #7fbfbf; text-decoration-color: #7fbfbf\">           </span>Case details ADAM HICKS <span style=\"color: #008080; text-decoration-color: #008080; font-weight: bold\">2007</span> Exceeded Posted Speed Limit <span style=\"font-weight: bold\">(</span><span style=\"color: #008080; text-decoration-color: #008080; font-weight: bold\">11</span>-<span style=\"color: #008080; text-decoration-color: #008080; font-weight: bold\">15</span> Mph Over<span style=\"font-weight: bold\">)</span>               <a href=\"file:///var/folders/v0/wzkm0bb11x1b_27rl_172pdr0000gp/T/ipykernel_78208/2760839720.py\" target=\"_blank\"><span style=\"color: #7f7f7f; text-decoration-color: #7f7f7f\">2760839720.py</span></a><span style=\"color: #7f7f7f; text-decoration-color: #7f7f7f\">:</span><a href=\"file:///var/folders/v0/wzkm0bb11x1b_27rl_172pdr0000gp/T/ipykernel_78208/2760839720.py#55\" target=\"_blank\"><span style=\"color: #7f7f7f; text-decoration-color: #7f7f7f\">55</span></a>\n",
       "</pre>\n"
      ],
      "text/plain": [
       "\u001b[2;36m          \u001b[0m\u001b[2;36m \u001b[0mCase details ADAM HICKS \u001b[1;36m2007\u001b[0m Exceeded Posted Speed Limit \u001b[1m(\u001b[0m\u001b[1;36m11\u001b[0m-\u001b[1;36m15\u001b[0m Mph Over\u001b[1m)\u001b[0m               \u001b]8;id=207390;file:///var/folders/v0/wzkm0bb11x1b_27rl_172pdr0000gp/T/ipykernel_78208/2760839720.py\u001b\\\u001b[2m2760839720.py\u001b[0m\u001b]8;;\u001b\\\u001b[2m:\u001b[0m\u001b]8;id=463841;file:///var/folders/v0/wzkm0bb11x1b_27rl_172pdr0000gp/T/ipykernel_78208/2760839720.py#55\u001b\\\u001b[2m55\u001b[0m\u001b]8;;\u001b\\\n"
      ]
     },
     "metadata": {},
     "output_type": "display_data"
    },
    {
     "data": {
      "text/html": [
       "<pre style=\"white-space:pre;overflow-x:auto;line-height:normal;font-family:Menlo,'DejaVu Sans Mono',consolas,'Courier New',monospace\"><span style=\"color: #7fbfbf; text-decoration-color: #7fbfbf\">           </span>Searching for JEFFREY WALL <span style=\"color: #008080; text-decoration-color: #008080; font-weight: bold\">1996.0</span> CRYSTAL CITY MO <span style=\"color: #008080; text-decoration-color: #008080; font-weight: bold\">63019</span> <span style=\"color: #008080; text-decoration-color: #008080; font-weight: bold\">421</span> 10TH ST                     <a href=\"file:///var/folders/v0/wzkm0bb11x1b_27rl_172pdr0000gp/T/ipykernel_78208/2760839720.py\" target=\"_blank\"><span style=\"color: #7f7f7f; text-decoration-color: #7f7f7f\">2760839720.py</span></a><span style=\"color: #7f7f7f; text-decoration-color: #7f7f7f\">:</span><a href=\"file:///var/folders/v0/wzkm0bb11x1b_27rl_172pdr0000gp/T/ipykernel_78208/2760839720.py#24\" target=\"_blank\"><span style=\"color: #7f7f7f; text-decoration-color: #7f7f7f\">24</span></a>\n",
       "</pre>\n"
      ],
      "text/plain": [
       "\u001b[2;36m          \u001b[0m\u001b[2;36m \u001b[0mSearching for JEFFREY WALL \u001b[1;36m1996.0\u001b[0m CRYSTAL CITY MO \u001b[1;36m63019\u001b[0m \u001b[1;36m421\u001b[0m 10TH ST                     \u001b]8;id=752600;file:///var/folders/v0/wzkm0bb11x1b_27rl_172pdr0000gp/T/ipykernel_78208/2760839720.py\u001b\\\u001b[2m2760839720.py\u001b[0m\u001b]8;;\u001b\\\u001b[2m:\u001b[0m\u001b]8;id=954069;file:///var/folders/v0/wzkm0bb11x1b_27rl_172pdr0000gp/T/ipykernel_78208/2760839720.py#24\u001b\\\u001b[2m24\u001b[0m\u001b]8;;\u001b\\\n"
      ]
     },
     "metadata": {},
     "output_type": "display_data"
    },
    {
     "data": {
      "text/html": [
       "<pre style=\"white-space:pre;overflow-x:auto;line-height:normal;font-family:Menlo,'DejaVu Sans Mono',consolas,'Courier New',monospace\"><span style=\"color: #7fbfbf; text-decoration-color: #7fbfbf\">[14:57:54] </span>Case <span style=\"color: #008080; text-decoration-color: #008080; font-weight: bold\">230231528</span> already exists with status stop                                          <a href=\"file:///var/folders/v0/wzkm0bb11x1b_27rl_172pdr0000gp/T/ipykernel_78208/2760839720.py\" target=\"_blank\"><span style=\"color: #7f7f7f; text-decoration-color: #7f7f7f\">2760839720.py</span></a><span style=\"color: #7f7f7f; text-decoration-color: #7f7f7f\">:</span><a href=\"file:///var/folders/v0/wzkm0bb11x1b_27rl_172pdr0000gp/T/ipykernel_78208/2760839720.py#52\" target=\"_blank\"><span style=\"color: #7f7f7f; text-decoration-color: #7f7f7f\">52</span></a>\n",
       "</pre>\n"
      ],
      "text/plain": [
       "\u001b[2;36m[14:57:54]\u001b[0m\u001b[2;36m \u001b[0mCase \u001b[1;36m230231528\u001b[0m already exists with status stop                                          \u001b]8;id=168416;file:///var/folders/v0/wzkm0bb11x1b_27rl_172pdr0000gp/T/ipykernel_78208/2760839720.py\u001b\\\u001b[2m2760839720.py\u001b[0m\u001b]8;;\u001b\\\u001b[2m:\u001b[0m\u001b]8;id=18956;file:///var/folders/v0/wzkm0bb11x1b_27rl_172pdr0000gp/T/ipykernel_78208/2760839720.py#52\u001b\\\u001b[2m52\u001b[0m\u001b]8;;\u001b\\\n"
      ]
     },
     "metadata": {},
     "output_type": "display_data"
    },
    {
     "data": {
      "text/html": [
       "<pre style=\"white-space:pre;overflow-x:auto;line-height:normal;font-family:Menlo,'DejaVu Sans Mono',consolas,'Courier New',monospace\"><span style=\"color: #7fbfbf; text-decoration-color: #7fbfbf\">           </span>Case details JEFFREY WALL <span style=\"color: #008080; text-decoration-color: #008080; font-weight: bold\">1996</span> Exceeded Posted Speed Limit <span style=\"font-weight: bold\">(</span><span style=\"color: #008080; text-decoration-color: #008080; font-weight: bold\">16</span>-<span style=\"color: #008080; text-decoration-color: #008080; font-weight: bold\">19</span> Mph Over<span style=\"font-weight: bold\">)</span>             <a href=\"file:///var/folders/v0/wzkm0bb11x1b_27rl_172pdr0000gp/T/ipykernel_78208/2760839720.py\" target=\"_blank\"><span style=\"color: #7f7f7f; text-decoration-color: #7f7f7f\">2760839720.py</span></a><span style=\"color: #7f7f7f; text-decoration-color: #7f7f7f\">:</span><a href=\"file:///var/folders/v0/wzkm0bb11x1b_27rl_172pdr0000gp/T/ipykernel_78208/2760839720.py#55\" target=\"_blank\"><span style=\"color: #7f7f7f; text-decoration-color: #7f7f7f\">55</span></a>\n",
       "</pre>\n"
      ],
      "text/plain": [
       "\u001b[2;36m          \u001b[0m\u001b[2;36m \u001b[0mCase details JEFFREY WALL \u001b[1;36m1996\u001b[0m Exceeded Posted Speed Limit \u001b[1m(\u001b[0m\u001b[1;36m16\u001b[0m-\u001b[1;36m19\u001b[0m Mph Over\u001b[1m)\u001b[0m             \u001b]8;id=177421;file:///var/folders/v0/wzkm0bb11x1b_27rl_172pdr0000gp/T/ipykernel_78208/2760839720.py\u001b\\\u001b[2m2760839720.py\u001b[0m\u001b]8;;\u001b\\\u001b[2m:\u001b[0m\u001b]8;id=403073;file:///var/folders/v0/wzkm0bb11x1b_27rl_172pdr0000gp/T/ipykernel_78208/2760839720.py#55\u001b\\\u001b[2m55\u001b[0m\u001b]8;;\u001b\\\n"
      ]
     },
     "metadata": {},
     "output_type": "display_data"
    },
    {
     "data": {
      "text/html": [
       "<pre style=\"white-space:pre;overflow-x:auto;line-height:normal;font-family:Menlo,'DejaVu Sans Mono',consolas,'Courier New',monospace\"><span style=\"color: #7fbfbf; text-decoration-color: #7fbfbf\">           </span>Searching for DAVID HALL <span style=\"color: #008080; text-decoration-color: #008080; font-weight: bold\">1978.0</span> BOLIVAR MO <span style=\"color: #008080; text-decoration-color: #008080; font-weight: bold\">65613</span> <span style=\"color: #008080; text-decoration-color: #008080; font-weight: bold\">1871</span> E MT GILEAD RD #L                 <a href=\"file:///var/folders/v0/wzkm0bb11x1b_27rl_172pdr0000gp/T/ipykernel_78208/2760839720.py\" target=\"_blank\"><span style=\"color: #7f7f7f; text-decoration-color: #7f7f7f\">2760839720.py</span></a><span style=\"color: #7f7f7f; text-decoration-color: #7f7f7f\">:</span><a href=\"file:///var/folders/v0/wzkm0bb11x1b_27rl_172pdr0000gp/T/ipykernel_78208/2760839720.py#24\" target=\"_blank\"><span style=\"color: #7f7f7f; text-decoration-color: #7f7f7f\">24</span></a>\n",
       "</pre>\n"
      ],
      "text/plain": [
       "\u001b[2;36m          \u001b[0m\u001b[2;36m \u001b[0mSearching for DAVID HALL \u001b[1;36m1978.0\u001b[0m BOLIVAR MO \u001b[1;36m65613\u001b[0m \u001b[1;36m1871\u001b[0m E MT GILEAD RD #L                 \u001b]8;id=600170;file:///var/folders/v0/wzkm0bb11x1b_27rl_172pdr0000gp/T/ipykernel_78208/2760839720.py\u001b\\\u001b[2m2760839720.py\u001b[0m\u001b]8;;\u001b\\\u001b[2m:\u001b[0m\u001b]8;id=582030;file:///var/folders/v0/wzkm0bb11x1b_27rl_172pdr0000gp/T/ipykernel_78208/2760839720.py#24\u001b\\\u001b[2m24\u001b[0m\u001b]8;;\u001b\\\n"
      ]
     },
     "metadata": {},
     "output_type": "display_data"
    },
    {
     "data": {
      "text/html": [
       "<pre style=\"white-space:pre;overflow-x:auto;line-height:normal;font-family:Menlo,'DejaVu Sans Mono',consolas,'Courier New',monospace\"><span style=\"color: #7fbfbf; text-decoration-color: #7fbfbf\">[14:57:55] </span>Case <span style=\"color: #008080; text-decoration-color: #008080; font-weight: bold\">191177130</span> already exists with status not_contacted                                 <a href=\"file:///var/folders/v0/wzkm0bb11x1b_27rl_172pdr0000gp/T/ipykernel_78208/2760839720.py\" target=\"_blank\"><span style=\"color: #7f7f7f; text-decoration-color: #7f7f7f\">2760839720.py</span></a><span style=\"color: #7f7f7f; text-decoration-color: #7f7f7f\">:</span><a href=\"file:///var/folders/v0/wzkm0bb11x1b_27rl_172pdr0000gp/T/ipykernel_78208/2760839720.py#52\" target=\"_blank\"><span style=\"color: #7f7f7f; text-decoration-color: #7f7f7f\">52</span></a>\n",
       "</pre>\n"
      ],
      "text/plain": [
       "\u001b[2;36m[14:57:55]\u001b[0m\u001b[2;36m \u001b[0mCase \u001b[1;36m191177130\u001b[0m already exists with status not_contacted                                 \u001b]8;id=386910;file:///var/folders/v0/wzkm0bb11x1b_27rl_172pdr0000gp/T/ipykernel_78208/2760839720.py\u001b\\\u001b[2m2760839720.py\u001b[0m\u001b]8;;\u001b\\\u001b[2m:\u001b[0m\u001b]8;id=268153;file:///var/folders/v0/wzkm0bb11x1b_27rl_172pdr0000gp/T/ipykernel_78208/2760839720.py#52\u001b\\\u001b[2m52\u001b[0m\u001b]8;;\u001b\\\n"
      ]
     },
     "metadata": {},
     "output_type": "display_data"
    },
    {
     "data": {
      "text/html": [
       "<pre style=\"white-space:pre;overflow-x:auto;line-height:normal;font-family:Menlo,'DejaVu Sans Mono',consolas,'Courier New',monospace\"><span style=\"color: #7fbfbf; text-decoration-color: #7fbfbf\">           </span>Case details DAVID HALL <span style=\"color: #008080; text-decoration-color: #008080; font-weight: bold\">1978</span> Failed To Register Vehicle                                 <a href=\"file:///var/folders/v0/wzkm0bb11x1b_27rl_172pdr0000gp/T/ipykernel_78208/2760839720.py\" target=\"_blank\"><span style=\"color: #7f7f7f; text-decoration-color: #7f7f7f\">2760839720.py</span></a><span style=\"color: #7f7f7f; text-decoration-color: #7f7f7f\">:</span><a href=\"file:///var/folders/v0/wzkm0bb11x1b_27rl_172pdr0000gp/T/ipykernel_78208/2760839720.py#55\" target=\"_blank\"><span style=\"color: #7f7f7f; text-decoration-color: #7f7f7f\">55</span></a>\n",
       "</pre>\n"
      ],
      "text/plain": [
       "\u001b[2;36m          \u001b[0m\u001b[2;36m \u001b[0mCase details DAVID HALL \u001b[1;36m1978\u001b[0m Failed To Register Vehicle                                 \u001b]8;id=310051;file:///var/folders/v0/wzkm0bb11x1b_27rl_172pdr0000gp/T/ipykernel_78208/2760839720.py\u001b\\\u001b[2m2760839720.py\u001b[0m\u001b]8;;\u001b\\\u001b[2m:\u001b[0m\u001b]8;id=39114;file:///var/folders/v0/wzkm0bb11x1b_27rl_172pdr0000gp/T/ipykernel_78208/2760839720.py#55\u001b\\\u001b[2m55\u001b[0m\u001b]8;;\u001b\\\n"
      ]
     },
     "metadata": {},
     "output_type": "display_data"
    },
    {
     "data": {
      "text/html": [
       "<pre style=\"white-space:pre;overflow-x:auto;line-height:normal;font-family:Menlo,'DejaVu Sans Mono',consolas,'Courier New',monospace\"><span style=\"color: #7fbfbf; text-decoration-color: #7fbfbf\">           </span>Case <span style=\"color: #008080; text-decoration-color: #008080; font-weight: bold\">191177131</span> already exists with status not_contacted                                 <a href=\"file:///var/folders/v0/wzkm0bb11x1b_27rl_172pdr0000gp/T/ipykernel_78208/2760839720.py\" target=\"_blank\"><span style=\"color: #7f7f7f; text-decoration-color: #7f7f7f\">2760839720.py</span></a><span style=\"color: #7f7f7f; text-decoration-color: #7f7f7f\">:</span><a href=\"file:///var/folders/v0/wzkm0bb11x1b_27rl_172pdr0000gp/T/ipykernel_78208/2760839720.py#52\" target=\"_blank\"><span style=\"color: #7f7f7f; text-decoration-color: #7f7f7f\">52</span></a>\n",
       "</pre>\n"
      ],
      "text/plain": [
       "\u001b[2;36m          \u001b[0m\u001b[2;36m \u001b[0mCase \u001b[1;36m191177131\u001b[0m already exists with status not_contacted                                 \u001b]8;id=112287;file:///var/folders/v0/wzkm0bb11x1b_27rl_172pdr0000gp/T/ipykernel_78208/2760839720.py\u001b\\\u001b[2m2760839720.py\u001b[0m\u001b]8;;\u001b\\\u001b[2m:\u001b[0m\u001b]8;id=747235;file:///var/folders/v0/wzkm0bb11x1b_27rl_172pdr0000gp/T/ipykernel_78208/2760839720.py#52\u001b\\\u001b[2m52\u001b[0m\u001b]8;;\u001b\\\n"
      ]
     },
     "metadata": {},
     "output_type": "display_data"
    },
    {
     "data": {
      "text/html": [
       "<pre style=\"white-space:pre;overflow-x:auto;line-height:normal;font-family:Menlo,'DejaVu Sans Mono',consolas,'Courier New',monospace\"><span style=\"color: #7fbfbf; text-decoration-color: #7fbfbf\">           </span>Case details DAVID HALL <span style=\"color: #008080; text-decoration-color: #008080; font-weight: bold\">1978</span> Oper Veh Without Maintaining Financial Responsibility      <a href=\"file:///var/folders/v0/wzkm0bb11x1b_27rl_172pdr0000gp/T/ipykernel_78208/2760839720.py\" target=\"_blank\"><span style=\"color: #7f7f7f; text-decoration-color: #7f7f7f\">2760839720.py</span></a><span style=\"color: #7f7f7f; text-decoration-color: #7f7f7f\">:</span><a href=\"file:///var/folders/v0/wzkm0bb11x1b_27rl_172pdr0000gp/T/ipykernel_78208/2760839720.py#55\" target=\"_blank\"><span style=\"color: #7f7f7f; text-decoration-color: #7f7f7f\">55</span></a>\n",
       "</pre>\n"
      ],
      "text/plain": [
       "\u001b[2;36m          \u001b[0m\u001b[2;36m \u001b[0mCase details DAVID HALL \u001b[1;36m1978\u001b[0m Oper Veh Without Maintaining Financial Responsibility      \u001b]8;id=780090;file:///var/folders/v0/wzkm0bb11x1b_27rl_172pdr0000gp/T/ipykernel_78208/2760839720.py\u001b\\\u001b[2m2760839720.py\u001b[0m\u001b]8;;\u001b\\\u001b[2m:\u001b[0m\u001b]8;id=971566;file:///var/folders/v0/wzkm0bb11x1b_27rl_172pdr0000gp/T/ipykernel_78208/2760839720.py#55\u001b\\\u001b[2m55\u001b[0m\u001b]8;;\u001b\\\n"
      ]
     },
     "metadata": {},
     "output_type": "display_data"
    },
    {
     "data": {
      "text/html": [
       "<pre style=\"white-space:pre;overflow-x:auto;line-height:normal;font-family:Menlo,'DejaVu Sans Mono',consolas,'Courier New',monospace\"><span style=\"color: #7fbfbf; text-decoration-color: #7fbfbf\">           </span>Searching for DEVON RILEY <span style=\"color: #008080; text-decoration-color: #008080; font-weight: bold\">2002.0</span> RAYTOWN MO <span style=\"color: #008080; text-decoration-color: #008080; font-weight: bold\">64133</span> <span style=\"color: #008080; text-decoration-color: #008080; font-weight: bold\">7154</span> WOODSON RD                       <a href=\"file:///var/folders/v0/wzkm0bb11x1b_27rl_172pdr0000gp/T/ipykernel_78208/2760839720.py\" target=\"_blank\"><span style=\"color: #7f7f7f; text-decoration-color: #7f7f7f\">2760839720.py</span></a><span style=\"color: #7f7f7f; text-decoration-color: #7f7f7f\">:</span><a href=\"file:///var/folders/v0/wzkm0bb11x1b_27rl_172pdr0000gp/T/ipykernel_78208/2760839720.py#24\" target=\"_blank\"><span style=\"color: #7f7f7f; text-decoration-color: #7f7f7f\">24</span></a>\n",
       "</pre>\n"
      ],
      "text/plain": [
       "\u001b[2;36m          \u001b[0m\u001b[2;36m \u001b[0mSearching for DEVON RILEY \u001b[1;36m2002.0\u001b[0m RAYTOWN MO \u001b[1;36m64133\u001b[0m \u001b[1;36m7154\u001b[0m WOODSON RD                       \u001b]8;id=145468;file:///var/folders/v0/wzkm0bb11x1b_27rl_172pdr0000gp/T/ipykernel_78208/2760839720.py\u001b\\\u001b[2m2760839720.py\u001b[0m\u001b]8;;\u001b\\\u001b[2m:\u001b[0m\u001b]8;id=618716;file:///var/folders/v0/wzkm0bb11x1b_27rl_172pdr0000gp/T/ipykernel_78208/2760839720.py#24\u001b\\\u001b[2m24\u001b[0m\u001b]8;;\u001b\\\n"
      ]
     },
     "metadata": {},
     "output_type": "display_data"
    },
    {
     "data": {
      "text/html": [
       "<pre style=\"white-space:pre;overflow-x:auto;line-height:normal;font-family:Menlo,'DejaVu Sans Mono',consolas,'Courier New',monospace\"><span style=\"color: #7fbfbf; text-decoration-color: #7fbfbf\">[14:57:56] </span>Case <span style=\"color: #008080; text-decoration-color: #008080; font-weight: bold\">240225787</span> already exists with status contacted                                     <a href=\"file:///var/folders/v0/wzkm0bb11x1b_27rl_172pdr0000gp/T/ipykernel_78208/2760839720.py\" target=\"_blank\"><span style=\"color: #7f7f7f; text-decoration-color: #7f7f7f\">2760839720.py</span></a><span style=\"color: #7f7f7f; text-decoration-color: #7f7f7f\">:</span><a href=\"file:///var/folders/v0/wzkm0bb11x1b_27rl_172pdr0000gp/T/ipykernel_78208/2760839720.py#52\" target=\"_blank\"><span style=\"color: #7f7f7f; text-decoration-color: #7f7f7f\">52</span></a>\n",
       "</pre>\n"
      ],
      "text/plain": [
       "\u001b[2;36m[14:57:56]\u001b[0m\u001b[2;36m \u001b[0mCase \u001b[1;36m240225787\u001b[0m already exists with status contacted                                     \u001b]8;id=784249;file:///var/folders/v0/wzkm0bb11x1b_27rl_172pdr0000gp/T/ipykernel_78208/2760839720.py\u001b\\\u001b[2m2760839720.py\u001b[0m\u001b]8;;\u001b\\\u001b[2m:\u001b[0m\u001b]8;id=137975;file:///var/folders/v0/wzkm0bb11x1b_27rl_172pdr0000gp/T/ipykernel_78208/2760839720.py#52\u001b\\\u001b[2m52\u001b[0m\u001b]8;;\u001b\\\n"
      ]
     },
     "metadata": {},
     "output_type": "display_data"
    },
    {
     "data": {
      "text/html": [
       "<pre style=\"white-space:pre;overflow-x:auto;line-height:normal;font-family:Menlo,'DejaVu Sans Mono',consolas,'Courier New',monospace\"><span style=\"color: #7fbfbf; text-decoration-color: #7fbfbf\">           </span>Case details DEVON RILEY <span style=\"color: #008080; text-decoration-color: #008080; font-weight: bold\">2002</span> Exceeded Posted Speed Limit <span style=\"font-weight: bold\">(</span><span style=\"color: #008080; text-decoration-color: #008080; font-weight: bold\">11</span>-<span style=\"color: #008080; text-decoration-color: #008080; font-weight: bold\">15</span> Mph Over<span style=\"font-weight: bold\">)</span>              <a href=\"file:///var/folders/v0/wzkm0bb11x1b_27rl_172pdr0000gp/T/ipykernel_78208/2760839720.py\" target=\"_blank\"><span style=\"color: #7f7f7f; text-decoration-color: #7f7f7f\">2760839720.py</span></a><span style=\"color: #7f7f7f; text-decoration-color: #7f7f7f\">:</span><a href=\"file:///var/folders/v0/wzkm0bb11x1b_27rl_172pdr0000gp/T/ipykernel_78208/2760839720.py#55\" target=\"_blank\"><span style=\"color: #7f7f7f; text-decoration-color: #7f7f7f\">55</span></a>\n",
       "</pre>\n"
      ],
      "text/plain": [
       "\u001b[2;36m          \u001b[0m\u001b[2;36m \u001b[0mCase details DEVON RILEY \u001b[1;36m2002\u001b[0m Exceeded Posted Speed Limit \u001b[1m(\u001b[0m\u001b[1;36m11\u001b[0m-\u001b[1;36m15\u001b[0m Mph Over\u001b[1m)\u001b[0m              \u001b]8;id=909809;file:///var/folders/v0/wzkm0bb11x1b_27rl_172pdr0000gp/T/ipykernel_78208/2760839720.py\u001b\\\u001b[2m2760839720.py\u001b[0m\u001b]8;;\u001b\\\u001b[2m:\u001b[0m\u001b]8;id=742148;file:///var/folders/v0/wzkm0bb11x1b_27rl_172pdr0000gp/T/ipykernel_78208/2760839720.py#55\u001b\\\u001b[2m55\u001b[0m\u001b]8;;\u001b\\\n"
      ]
     },
     "metadata": {},
     "output_type": "display_data"
    },
    {
     "data": {
      "text/html": [
       "<pre style=\"white-space:pre;overflow-x:auto;line-height:normal;font-family:Menlo,'DejaVu Sans Mono',consolas,'Courier New',monospace\"><span style=\"color: #7fbfbf; text-decoration-color: #7fbfbf\">           </span>Searching for EDITH RUTIAGA <span style=\"color: #008080; text-decoration-color: #008080; font-weight: bold\">1976.0</span> PRAIRIE VILLAGE MO <span style=\"color: #008080; text-decoration-color: #008080; font-weight: bold\">66208</span> <span style=\"color: #008080; text-decoration-color: #008080; font-weight: bold\">2309</span> W 71ST TER             <a href=\"file:///var/folders/v0/wzkm0bb11x1b_27rl_172pdr0000gp/T/ipykernel_78208/2760839720.py\" target=\"_blank\"><span style=\"color: #7f7f7f; text-decoration-color: #7f7f7f\">2760839720.py</span></a><span style=\"color: #7f7f7f; text-decoration-color: #7f7f7f\">:</span><a href=\"file:///var/folders/v0/wzkm0bb11x1b_27rl_172pdr0000gp/T/ipykernel_78208/2760839720.py#24\" target=\"_blank\"><span style=\"color: #7f7f7f; text-decoration-color: #7f7f7f\">24</span></a>\n",
       "</pre>\n"
      ],
      "text/plain": [
       "\u001b[2;36m          \u001b[0m\u001b[2;36m \u001b[0mSearching for EDITH RUTIAGA \u001b[1;36m1976.0\u001b[0m PRAIRIE VILLAGE MO \u001b[1;36m66208\u001b[0m \u001b[1;36m2309\u001b[0m W 71ST TER             \u001b]8;id=620203;file:///var/folders/v0/wzkm0bb11x1b_27rl_172pdr0000gp/T/ipykernel_78208/2760839720.py\u001b\\\u001b[2m2760839720.py\u001b[0m\u001b]8;;\u001b\\\u001b[2m:\u001b[0m\u001b]8;id=367561;file:///var/folders/v0/wzkm0bb11x1b_27rl_172pdr0000gp/T/ipykernel_78208/2760839720.py#24\u001b\\\u001b[2m24\u001b[0m\u001b]8;;\u001b\\\n"
      ]
     },
     "metadata": {},
     "output_type": "display_data"
    },
    {
     "data": {
      "text/html": [
       "<pre style=\"white-space:pre;overflow-x:auto;line-height:normal;font-family:Menlo,'DejaVu Sans Mono',consolas,'Courier New',monospace\"><span style=\"color: #7fbfbf; text-decoration-color: #7fbfbf\">[14:57:57] </span>Case <span style=\"color: #008080; text-decoration-color: #008080; font-weight: bold\">704123539</span> already exists with status not_contacted                                 <a href=\"file:///var/folders/v0/wzkm0bb11x1b_27rl_172pdr0000gp/T/ipykernel_78208/2760839720.py\" target=\"_blank\"><span style=\"color: #7f7f7f; text-decoration-color: #7f7f7f\">2760839720.py</span></a><span style=\"color: #7f7f7f; text-decoration-color: #7f7f7f\">:</span><a href=\"file:///var/folders/v0/wzkm0bb11x1b_27rl_172pdr0000gp/T/ipykernel_78208/2760839720.py#52\" target=\"_blank\"><span style=\"color: #7f7f7f; text-decoration-color: #7f7f7f\">52</span></a>\n",
       "</pre>\n"
      ],
      "text/plain": [
       "\u001b[2;36m[14:57:57]\u001b[0m\u001b[2;36m \u001b[0mCase \u001b[1;36m704123539\u001b[0m already exists with status not_contacted                                 \u001b]8;id=618815;file:///var/folders/v0/wzkm0bb11x1b_27rl_172pdr0000gp/T/ipykernel_78208/2760839720.py\u001b\\\u001b[2m2760839720.py\u001b[0m\u001b]8;;\u001b\\\u001b[2m:\u001b[0m\u001b]8;id=394153;file:///var/folders/v0/wzkm0bb11x1b_27rl_172pdr0000gp/T/ipykernel_78208/2760839720.py#52\u001b\\\u001b[2m52\u001b[0m\u001b]8;;\u001b\\\n"
      ]
     },
     "metadata": {},
     "output_type": "display_data"
    },
    {
     "data": {
      "text/html": [
       "<pre style=\"white-space:pre;overflow-x:auto;line-height:normal;font-family:Menlo,'DejaVu Sans Mono',consolas,'Courier New',monospace\"><span style=\"color: #7fbfbf; text-decoration-color: #7fbfbf\">           </span>Case details EDITH RUTIAGA <span style=\"color: #008080; text-decoration-color: #008080; font-weight: bold\">1976</span> Exceeded Posted Speed Limit <span style=\"font-weight: bold\">(</span>Exceeded By <span style=\"color: #008080; text-decoration-color: #008080; font-weight: bold\">16</span> - <span style=\"color: #008080; text-decoration-color: #008080; font-weight: bold\">19</span> Mph<span style=\"font-weight: bold\">)</span>   <a href=\"file:///var/folders/v0/wzkm0bb11x1b_27rl_172pdr0000gp/T/ipykernel_78208/2760839720.py\" target=\"_blank\"><span style=\"color: #7f7f7f; text-decoration-color: #7f7f7f\">2760839720.py</span></a><span style=\"color: #7f7f7f; text-decoration-color: #7f7f7f\">:</span><a href=\"file:///var/folders/v0/wzkm0bb11x1b_27rl_172pdr0000gp/T/ipykernel_78208/2760839720.py#55\" target=\"_blank\"><span style=\"color: #7f7f7f; text-decoration-color: #7f7f7f\">55</span></a>\n",
       "</pre>\n"
      ],
      "text/plain": [
       "\u001b[2;36m          \u001b[0m\u001b[2;36m \u001b[0mCase details EDITH RUTIAGA \u001b[1;36m1976\u001b[0m Exceeded Posted Speed Limit \u001b[1m(\u001b[0mExceeded By \u001b[1;36m16\u001b[0m - \u001b[1;36m19\u001b[0m Mph\u001b[1m)\u001b[0m   \u001b]8;id=688262;file:///var/folders/v0/wzkm0bb11x1b_27rl_172pdr0000gp/T/ipykernel_78208/2760839720.py\u001b\\\u001b[2m2760839720.py\u001b[0m\u001b]8;;\u001b\\\u001b[2m:\u001b[0m\u001b]8;id=939484;file:///var/folders/v0/wzkm0bb11x1b_27rl_172pdr0000gp/T/ipykernel_78208/2760839720.py#55\u001b\\\u001b[2m55\u001b[0m\u001b]8;;\u001b\\\n"
      ]
     },
     "metadata": {},
     "output_type": "display_data"
    },
    {
     "data": {
      "text/html": [
       "<pre style=\"white-space:pre;overflow-x:auto;line-height:normal;font-family:Menlo,'DejaVu Sans Mono',consolas,'Courier New',monospace\"><span style=\"color: #7fbfbf; text-decoration-color: #7fbfbf\">           </span>Searching for ROBERT HAYWARD <span style=\"color: #008080; text-decoration-color: #008080; font-weight: bold\">1979.0</span> SALISBURY MO <span style=\"color: #008080; text-decoration-color: #008080; font-weight: bold\">65281</span> <span style=\"color: #008080; text-decoration-color: #008080; font-weight: bold\">28941</span> MUNCAS AVE                 <a href=\"file:///var/folders/v0/wzkm0bb11x1b_27rl_172pdr0000gp/T/ipykernel_78208/2760839720.py\" target=\"_blank\"><span style=\"color: #7f7f7f; text-decoration-color: #7f7f7f\">2760839720.py</span></a><span style=\"color: #7f7f7f; text-decoration-color: #7f7f7f\">:</span><a href=\"file:///var/folders/v0/wzkm0bb11x1b_27rl_172pdr0000gp/T/ipykernel_78208/2760839720.py#24\" target=\"_blank\"><span style=\"color: #7f7f7f; text-decoration-color: #7f7f7f\">24</span></a>\n",
       "</pre>\n"
      ],
      "text/plain": [
       "\u001b[2;36m          \u001b[0m\u001b[2;36m \u001b[0mSearching for ROBERT HAYWARD \u001b[1;36m1979.0\u001b[0m SALISBURY MO \u001b[1;36m65281\u001b[0m \u001b[1;36m28941\u001b[0m MUNCAS AVE                 \u001b]8;id=610469;file:///var/folders/v0/wzkm0bb11x1b_27rl_172pdr0000gp/T/ipykernel_78208/2760839720.py\u001b\\\u001b[2m2760839720.py\u001b[0m\u001b]8;;\u001b\\\u001b[2m:\u001b[0m\u001b]8;id=903463;file:///var/folders/v0/wzkm0bb11x1b_27rl_172pdr0000gp/T/ipykernel_78208/2760839720.py#24\u001b\\\u001b[2m24\u001b[0m\u001b]8;;\u001b\\\n"
      ]
     },
     "metadata": {},
     "output_type": "display_data"
    },
    {
     "data": {
      "text/html": [
       "<pre style=\"white-space:pre;overflow-x:auto;line-height:normal;font-family:Menlo,'DejaVu Sans Mono',consolas,'Courier New',monospace\"><span style=\"color: #7fbfbf; text-decoration-color: #7fbfbf\">           </span>Case <span style=\"color: #008080; text-decoration-color: #008080; font-weight: bold\">704391178</span> already exists with status contacted                                     <a href=\"file:///var/folders/v0/wzkm0bb11x1b_27rl_172pdr0000gp/T/ipykernel_78208/2760839720.py\" target=\"_blank\"><span style=\"color: #7f7f7f; text-decoration-color: #7f7f7f\">2760839720.py</span></a><span style=\"color: #7f7f7f; text-decoration-color: #7f7f7f\">:</span><a href=\"file:///var/folders/v0/wzkm0bb11x1b_27rl_172pdr0000gp/T/ipykernel_78208/2760839720.py#52\" target=\"_blank\"><span style=\"color: #7f7f7f; text-decoration-color: #7f7f7f\">52</span></a>\n",
       "</pre>\n"
      ],
      "text/plain": [
       "\u001b[2;36m          \u001b[0m\u001b[2;36m \u001b[0mCase \u001b[1;36m704391178\u001b[0m already exists with status contacted                                     \u001b]8;id=441709;file:///var/folders/v0/wzkm0bb11x1b_27rl_172pdr0000gp/T/ipykernel_78208/2760839720.py\u001b\\\u001b[2m2760839720.py\u001b[0m\u001b]8;;\u001b\\\u001b[2m:\u001b[0m\u001b]8;id=457320;file:///var/folders/v0/wzkm0bb11x1b_27rl_172pdr0000gp/T/ipykernel_78208/2760839720.py#52\u001b\\\u001b[2m52\u001b[0m\u001b]8;;\u001b\\\n"
      ]
     },
     "metadata": {},
     "output_type": "display_data"
    },
    {
     "data": {
      "text/html": [
       "<pre style=\"white-space:pre;overflow-x:auto;line-height:normal;font-family:Menlo,'DejaVu Sans Mono',consolas,'Courier New',monospace\"><span style=\"color: #7fbfbf; text-decoration-color: #7fbfbf\">           </span>Case details ROBERT HAYWARD <span style=\"color: #008080; text-decoration-color: #008080; font-weight: bold\">1979</span> Exceeded Posted Speed Limit <span style=\"font-weight: bold\">(</span>Exceeded By <span style=\"color: #008080; text-decoration-color: #008080; font-weight: bold\">11</span> - <span style=\"color: #008080; text-decoration-color: #008080; font-weight: bold\">15</span> Mph<span style=\"font-weight: bold\">)</span>  <a href=\"file:///var/folders/v0/wzkm0bb11x1b_27rl_172pdr0000gp/T/ipykernel_78208/2760839720.py\" target=\"_blank\"><span style=\"color: #7f7f7f; text-decoration-color: #7f7f7f\">2760839720.py</span></a><span style=\"color: #7f7f7f; text-decoration-color: #7f7f7f\">:</span><a href=\"file:///var/folders/v0/wzkm0bb11x1b_27rl_172pdr0000gp/T/ipykernel_78208/2760839720.py#55\" target=\"_blank\"><span style=\"color: #7f7f7f; text-decoration-color: #7f7f7f\">55</span></a>\n",
       "</pre>\n"
      ],
      "text/plain": [
       "\u001b[2;36m          \u001b[0m\u001b[2;36m \u001b[0mCase details ROBERT HAYWARD \u001b[1;36m1979\u001b[0m Exceeded Posted Speed Limit \u001b[1m(\u001b[0mExceeded By \u001b[1;36m11\u001b[0m - \u001b[1;36m15\u001b[0m Mph\u001b[1m)\u001b[0m  \u001b]8;id=588859;file:///var/folders/v0/wzkm0bb11x1b_27rl_172pdr0000gp/T/ipykernel_78208/2760839720.py\u001b\\\u001b[2m2760839720.py\u001b[0m\u001b]8;;\u001b\\\u001b[2m:\u001b[0m\u001b]8;id=907991;file:///var/folders/v0/wzkm0bb11x1b_27rl_172pdr0000gp/T/ipykernel_78208/2760839720.py#55\u001b\\\u001b[2m55\u001b[0m\u001b]8;;\u001b\\\n"
      ]
     },
     "metadata": {},
     "output_type": "display_data"
    },
    {
     "data": {
      "text/html": [
       "<pre style=\"white-space:pre;overflow-x:auto;line-height:normal;font-family:Menlo,'DejaVu Sans Mono',consolas,'Courier New',monospace\"><span style=\"color: #7fbfbf; text-decoration-color: #7fbfbf\">[14:57:58] </span>Searching for KAYLA GRUENDER <span style=\"color: #008080; text-decoration-color: #008080; font-weight: bold\">1991.0</span> FULTON MO <span style=\"color: #008080; text-decoration-color: #008080; font-weight: bold\">65251</span> <span style=\"color: #008080; text-decoration-color: #008080; font-weight: bold\">4577</span> HICKORY HOMESTEAD DR           <a href=\"file:///var/folders/v0/wzkm0bb11x1b_27rl_172pdr0000gp/T/ipykernel_78208/2760839720.py\" target=\"_blank\"><span style=\"color: #7f7f7f; text-decoration-color: #7f7f7f\">2760839720.py</span></a><span style=\"color: #7f7f7f; text-decoration-color: #7f7f7f\">:</span><a href=\"file:///var/folders/v0/wzkm0bb11x1b_27rl_172pdr0000gp/T/ipykernel_78208/2760839720.py#24\" target=\"_blank\"><span style=\"color: #7f7f7f; text-decoration-color: #7f7f7f\">24</span></a>\n",
       "</pre>\n"
      ],
      "text/plain": [
       "\u001b[2;36m[14:57:58]\u001b[0m\u001b[2;36m \u001b[0mSearching for KAYLA GRUENDER \u001b[1;36m1991.0\u001b[0m FULTON MO \u001b[1;36m65251\u001b[0m \u001b[1;36m4577\u001b[0m HICKORY HOMESTEAD DR           \u001b]8;id=207630;file:///var/folders/v0/wzkm0bb11x1b_27rl_172pdr0000gp/T/ipykernel_78208/2760839720.py\u001b\\\u001b[2m2760839720.py\u001b[0m\u001b]8;;\u001b\\\u001b[2m:\u001b[0m\u001b]8;id=560126;file:///var/folders/v0/wzkm0bb11x1b_27rl_172pdr0000gp/T/ipykernel_78208/2760839720.py#24\u001b\\\u001b[2m24\u001b[0m\u001b]8;;\u001b\\\n"
      ]
     },
     "metadata": {},
     "output_type": "display_data"
    },
    {
     "data": {
      "text/html": [
       "<pre style=\"white-space:pre;overflow-x:auto;line-height:normal;font-family:Menlo,'DejaVu Sans Mono',consolas,'Courier New',monospace\"><span style=\"color: #7fbfbf; text-decoration-color: #7fbfbf\">           </span>Case <span style=\"color: #008080; text-decoration-color: #008080; font-weight: bold\">200958195</span> already exists with status contacted                                     <a href=\"file:///var/folders/v0/wzkm0bb11x1b_27rl_172pdr0000gp/T/ipykernel_78208/2760839720.py\" target=\"_blank\"><span style=\"color: #7f7f7f; text-decoration-color: #7f7f7f\">2760839720.py</span></a><span style=\"color: #7f7f7f; text-decoration-color: #7f7f7f\">:</span><a href=\"file:///var/folders/v0/wzkm0bb11x1b_27rl_172pdr0000gp/T/ipykernel_78208/2760839720.py#52\" target=\"_blank\"><span style=\"color: #7f7f7f; text-decoration-color: #7f7f7f\">52</span></a>\n",
       "</pre>\n"
      ],
      "text/plain": [
       "\u001b[2;36m          \u001b[0m\u001b[2;36m \u001b[0mCase \u001b[1;36m200958195\u001b[0m already exists with status contacted                                     \u001b]8;id=15451;file:///var/folders/v0/wzkm0bb11x1b_27rl_172pdr0000gp/T/ipykernel_78208/2760839720.py\u001b\\\u001b[2m2760839720.py\u001b[0m\u001b]8;;\u001b\\\u001b[2m:\u001b[0m\u001b]8;id=729982;file:///var/folders/v0/wzkm0bb11x1b_27rl_172pdr0000gp/T/ipykernel_78208/2760839720.py#52\u001b\\\u001b[2m52\u001b[0m\u001b]8;;\u001b\\\n"
      ]
     },
     "metadata": {},
     "output_type": "display_data"
    },
    {
     "data": {
      "text/html": [
       "<pre style=\"white-space:pre;overflow-x:auto;line-height:normal;font-family:Menlo,'DejaVu Sans Mono',consolas,'Courier New',monospace\"><span style=\"color: #7fbfbf; text-decoration-color: #7fbfbf\">           </span>Case details KAYLA GRUENDER <span style=\"color: #008080; text-decoration-color: #008080; font-weight: bold\">1991</span> Exceeded Posted Speed Limit <span style=\"font-weight: bold\">(</span><span style=\"color: #008080; text-decoration-color: #008080; font-weight: bold\">11</span>-<span style=\"color: #008080; text-decoration-color: #008080; font-weight: bold\">15</span> Mph Over<span style=\"font-weight: bold\">)</span>           <a href=\"file:///var/folders/v0/wzkm0bb11x1b_27rl_172pdr0000gp/T/ipykernel_78208/2760839720.py\" target=\"_blank\"><span style=\"color: #7f7f7f; text-decoration-color: #7f7f7f\">2760839720.py</span></a><span style=\"color: #7f7f7f; text-decoration-color: #7f7f7f\">:</span><a href=\"file:///var/folders/v0/wzkm0bb11x1b_27rl_172pdr0000gp/T/ipykernel_78208/2760839720.py#55\" target=\"_blank\"><span style=\"color: #7f7f7f; text-decoration-color: #7f7f7f\">55</span></a>\n",
       "</pre>\n"
      ],
      "text/plain": [
       "\u001b[2;36m          \u001b[0m\u001b[2;36m \u001b[0mCase details KAYLA GRUENDER \u001b[1;36m1991\u001b[0m Exceeded Posted Speed Limit \u001b[1m(\u001b[0m\u001b[1;36m11\u001b[0m-\u001b[1;36m15\u001b[0m Mph Over\u001b[1m)\u001b[0m           \u001b]8;id=450515;file:///var/folders/v0/wzkm0bb11x1b_27rl_172pdr0000gp/T/ipykernel_78208/2760839720.py\u001b\\\u001b[2m2760839720.py\u001b[0m\u001b]8;;\u001b\\\u001b[2m:\u001b[0m\u001b]8;id=731429;file:///var/folders/v0/wzkm0bb11x1b_27rl_172pdr0000gp/T/ipykernel_78208/2760839720.py#55\u001b\\\u001b[2m55\u001b[0m\u001b]8;;\u001b\\\n"
      ]
     },
     "metadata": {},
     "output_type": "display_data"
    },
    {
     "data": {
      "text/html": [
       "<pre style=\"white-space:pre;overflow-x:auto;line-height:normal;font-family:Menlo,'DejaVu Sans Mono',consolas,'Courier New',monospace\"><span style=\"color: #7fbfbf; text-decoration-color: #7fbfbf\">           </span>Case <span style=\"color: #008080; text-decoration-color: #008080; font-weight: bold\">704377981</span> already exists with status contacted                                     <a href=\"file:///var/folders/v0/wzkm0bb11x1b_27rl_172pdr0000gp/T/ipykernel_78208/2760839720.py\" target=\"_blank\"><span style=\"color: #7f7f7f; text-decoration-color: #7f7f7f\">2760839720.py</span></a><span style=\"color: #7f7f7f; text-decoration-color: #7f7f7f\">:</span><a href=\"file:///var/folders/v0/wzkm0bb11x1b_27rl_172pdr0000gp/T/ipykernel_78208/2760839720.py#52\" target=\"_blank\"><span style=\"color: #7f7f7f; text-decoration-color: #7f7f7f\">52</span></a>\n",
       "</pre>\n"
      ],
      "text/plain": [
       "\u001b[2;36m          \u001b[0m\u001b[2;36m \u001b[0mCase \u001b[1;36m704377981\u001b[0m already exists with status contacted                                     \u001b]8;id=230412;file:///var/folders/v0/wzkm0bb11x1b_27rl_172pdr0000gp/T/ipykernel_78208/2760839720.py\u001b\\\u001b[2m2760839720.py\u001b[0m\u001b]8;;\u001b\\\u001b[2m:\u001b[0m\u001b]8;id=315692;file:///var/folders/v0/wzkm0bb11x1b_27rl_172pdr0000gp/T/ipykernel_78208/2760839720.py#52\u001b\\\u001b[2m52\u001b[0m\u001b]8;;\u001b\\\n"
      ]
     },
     "metadata": {},
     "output_type": "display_data"
    },
    {
     "data": {
      "text/html": [
       "<pre style=\"white-space:pre;overflow-x:auto;line-height:normal;font-family:Menlo,'DejaVu Sans Mono',consolas,'Courier New',monospace\"><span style=\"color: #7fbfbf; text-decoration-color: #7fbfbf\">           </span>Case details KAYLA GRUENDER <span style=\"color: #008080; text-decoration-color: #008080; font-weight: bold\">1991</span> Exceeded Posted Speed Limit <span style=\"font-weight: bold\">(</span>Exceeded By <span style=\"color: #008080; text-decoration-color: #008080; font-weight: bold\">20</span> - <span style=\"color: #008080; text-decoration-color: #008080; font-weight: bold\">25</span>  Mph<span style=\"font-weight: bold\">)</span> <a href=\"file:///var/folders/v0/wzkm0bb11x1b_27rl_172pdr0000gp/T/ipykernel_78208/2760839720.py\" target=\"_blank\"><span style=\"color: #7f7f7f; text-decoration-color: #7f7f7f\">2760839720.py</span></a><span style=\"color: #7f7f7f; text-decoration-color: #7f7f7f\">:</span><a href=\"file:///var/folders/v0/wzkm0bb11x1b_27rl_172pdr0000gp/T/ipykernel_78208/2760839720.py#55\" target=\"_blank\"><span style=\"color: #7f7f7f; text-decoration-color: #7f7f7f\">55</span></a>\n",
       "</pre>\n"
      ],
      "text/plain": [
       "\u001b[2;36m          \u001b[0m\u001b[2;36m \u001b[0mCase details KAYLA GRUENDER \u001b[1;36m1991\u001b[0m Exceeded Posted Speed Limit \u001b[1m(\u001b[0mExceeded By \u001b[1;36m20\u001b[0m - \u001b[1;36m25\u001b[0m  Mph\u001b[1m)\u001b[0m \u001b]8;id=747245;file:///var/folders/v0/wzkm0bb11x1b_27rl_172pdr0000gp/T/ipykernel_78208/2760839720.py\u001b\\\u001b[2m2760839720.py\u001b[0m\u001b]8;;\u001b\\\u001b[2m:\u001b[0m\u001b]8;id=347148;file:///var/folders/v0/wzkm0bb11x1b_27rl_172pdr0000gp/T/ipykernel_78208/2760839720.py#55\u001b\\\u001b[2m55\u001b[0m\u001b]8;;\u001b\\\n"
      ]
     },
     "metadata": {},
     "output_type": "display_data"
    },
    {
     "data": {
      "text/html": [
       "<pre style=\"white-space:pre;overflow-x:auto;line-height:normal;font-family:Menlo,'DejaVu Sans Mono',consolas,'Courier New',monospace\"><span style=\"color: #7fbfbf; text-decoration-color: #7fbfbf\">           </span>Searching for KARL ASHLEY <span style=\"color: #008080; text-decoration-color: #008080; font-weight: bold\">1983.0</span> JOPLIN MO <span style=\"color: #008080; text-decoration-color: #008080; font-weight: bold\">64804</span> <span style=\"color: #008080; text-decoration-color: #008080; font-weight: bold\">2640</span> E 34TH ST                         <a href=\"file:///var/folders/v0/wzkm0bb11x1b_27rl_172pdr0000gp/T/ipykernel_78208/2760839720.py\" target=\"_blank\"><span style=\"color: #7f7f7f; text-decoration-color: #7f7f7f\">2760839720.py</span></a><span style=\"color: #7f7f7f; text-decoration-color: #7f7f7f\">:</span><a href=\"file:///var/folders/v0/wzkm0bb11x1b_27rl_172pdr0000gp/T/ipykernel_78208/2760839720.py#24\" target=\"_blank\"><span style=\"color: #7f7f7f; text-decoration-color: #7f7f7f\">24</span></a>\n",
       "</pre>\n"
      ],
      "text/plain": [
       "\u001b[2;36m          \u001b[0m\u001b[2;36m \u001b[0mSearching for KARL ASHLEY \u001b[1;36m1983.0\u001b[0m JOPLIN MO \u001b[1;36m64804\u001b[0m \u001b[1;36m2640\u001b[0m E 34TH ST                         \u001b]8;id=166730;file:///var/folders/v0/wzkm0bb11x1b_27rl_172pdr0000gp/T/ipykernel_78208/2760839720.py\u001b\\\u001b[2m2760839720.py\u001b[0m\u001b]8;;\u001b\\\u001b[2m:\u001b[0m\u001b]8;id=506074;file:///var/folders/v0/wzkm0bb11x1b_27rl_172pdr0000gp/T/ipykernel_78208/2760839720.py#24\u001b\\\u001b[2m24\u001b[0m\u001b]8;;\u001b\\\n"
      ]
     },
     "metadata": {},
     "output_type": "display_data"
    },
    {
     "data": {
      "text/html": [
       "<pre style=\"white-space:pre;overflow-x:auto;line-height:normal;font-family:Menlo,'DejaVu Sans Mono',consolas,'Courier New',monospace\"><span style=\"color: #7fbfbf; text-decoration-color: #7fbfbf\">[14:57:59] </span>Case ASHLEY__KARL_J_41_05_29_2024 already exists with status contacted                  <a href=\"file:///var/folders/v0/wzkm0bb11x1b_27rl_172pdr0000gp/T/ipykernel_78208/2760839720.py\" target=\"_blank\"><span style=\"color: #7f7f7f; text-decoration-color: #7f7f7f\">2760839720.py</span></a><span style=\"color: #7f7f7f; text-decoration-color: #7f7f7f\">:</span><a href=\"file:///var/folders/v0/wzkm0bb11x1b_27rl_172pdr0000gp/T/ipykernel_78208/2760839720.py#52\" target=\"_blank\"><span style=\"color: #7f7f7f; text-decoration-color: #7f7f7f\">52</span></a>\n",
       "</pre>\n"
      ],
      "text/plain": [
       "\u001b[2;36m[14:57:59]\u001b[0m\u001b[2;36m \u001b[0mCase ASHLEY__KARL_J_41_05_29_2024 already exists with status contacted                  \u001b]8;id=220000;file:///var/folders/v0/wzkm0bb11x1b_27rl_172pdr0000gp/T/ipykernel_78208/2760839720.py\u001b\\\u001b[2m2760839720.py\u001b[0m\u001b]8;;\u001b\\\u001b[2m:\u001b[0m\u001b]8;id=837033;file:///var/folders/v0/wzkm0bb11x1b_27rl_172pdr0000gp/T/ipykernel_78208/2760839720.py#52\u001b\\\u001b[2m52\u001b[0m\u001b]8;;\u001b\\\n"
      ]
     },
     "metadata": {},
     "output_type": "display_data"
    },
    {
     "data": {
      "text/html": [
       "<pre style=\"white-space:pre;overflow-x:auto;line-height:normal;font-family:Menlo,'DejaVu Sans Mono',consolas,'Courier New',monospace\"><span style=\"color: #7fbfbf; text-decoration-color: #7fbfbf\">           </span>Case details KARL ASHLEY <span style=\"color: #008080; text-decoration-color: #008080; font-weight: bold\">1983</span> <span style=\"color: #008080; text-decoration-color: #008080; font-weight: bold\">1</span>-DWI                                                     <a href=\"file:///var/folders/v0/wzkm0bb11x1b_27rl_172pdr0000gp/T/ipykernel_78208/2760839720.py\" target=\"_blank\"><span style=\"color: #7f7f7f; text-decoration-color: #7f7f7f\">2760839720.py</span></a><span style=\"color: #7f7f7f; text-decoration-color: #7f7f7f\">:</span><a href=\"file:///var/folders/v0/wzkm0bb11x1b_27rl_172pdr0000gp/T/ipykernel_78208/2760839720.py#55\" target=\"_blank\"><span style=\"color: #7f7f7f; text-decoration-color: #7f7f7f\">55</span></a>\n",
       "</pre>\n"
      ],
      "text/plain": [
       "\u001b[2;36m          \u001b[0m\u001b[2;36m \u001b[0mCase details KARL ASHLEY \u001b[1;36m1983\u001b[0m \u001b[1;36m1\u001b[0m-DWI                                                     \u001b]8;id=545885;file:///var/folders/v0/wzkm0bb11x1b_27rl_172pdr0000gp/T/ipykernel_78208/2760839720.py\u001b\\\u001b[2m2760839720.py\u001b[0m\u001b]8;;\u001b\\\u001b[2m:\u001b[0m\u001b]8;id=854030;file:///var/folders/v0/wzkm0bb11x1b_27rl_172pdr0000gp/T/ipykernel_78208/2760839720.py#55\u001b\\\u001b[2m55\u001b[0m\u001b]8;;\u001b\\\n"
      ]
     },
     "metadata": {},
     "output_type": "display_data"
    },
    {
     "data": {
      "text/html": [
       "<pre style=\"white-space:pre;overflow-x:auto;line-height:normal;font-family:Menlo,'DejaVu Sans Mono',consolas,'Courier New',monospace\"><span style=\"color: #7fbfbf; text-decoration-color: #7fbfbf\">           </span>Searching for LASHANIC PATTERSON <span style=\"color: #008080; text-decoration-color: #008080; font-weight: bold\">1992.0</span> CAPE GIRARDEAU MO <span style=\"color: #008080; text-decoration-color: #008080; font-weight: bold\">63701</span> <span style=\"color: #008080; text-decoration-color: #008080; font-weight: bold\">2831</span> WHITENER ST APT <span style=\"color: #008080; text-decoration-color: #008080; font-weight: bold\">3</span>  <a href=\"file:///var/folders/v0/wzkm0bb11x1b_27rl_172pdr0000gp/T/ipykernel_78208/2760839720.py\" target=\"_blank\"><span style=\"color: #7f7f7f; text-decoration-color: #7f7f7f\">2760839720.py</span></a><span style=\"color: #7f7f7f; text-decoration-color: #7f7f7f\">:</span><a href=\"file:///var/folders/v0/wzkm0bb11x1b_27rl_172pdr0000gp/T/ipykernel_78208/2760839720.py#24\" target=\"_blank\"><span style=\"color: #7f7f7f; text-decoration-color: #7f7f7f\">24</span></a>\n",
       "</pre>\n"
      ],
      "text/plain": [
       "\u001b[2;36m          \u001b[0m\u001b[2;36m \u001b[0mSearching for LASHANIC PATTERSON \u001b[1;36m1992.0\u001b[0m CAPE GIRARDEAU MO \u001b[1;36m63701\u001b[0m \u001b[1;36m2831\u001b[0m WHITENER ST APT \u001b[1;36m3\u001b[0m  \u001b]8;id=737737;file:///var/folders/v0/wzkm0bb11x1b_27rl_172pdr0000gp/T/ipykernel_78208/2760839720.py\u001b\\\u001b[2m2760839720.py\u001b[0m\u001b]8;;\u001b\\\u001b[2m:\u001b[0m\u001b]8;id=677976;file:///var/folders/v0/wzkm0bb11x1b_27rl_172pdr0000gp/T/ipykernel_78208/2760839720.py#24\u001b\\\u001b[2m24\u001b[0m\u001b]8;;\u001b\\\n"
      ]
     },
     "metadata": {},
     "output_type": "display_data"
    },
    {
     "data": {
      "text/html": [
       "<pre style=\"white-space:pre;overflow-x:auto;line-height:normal;font-family:Menlo,'DejaVu Sans Mono',consolas,'Courier New',monospace\"><span style=\"color: #7fbfbf; text-decoration-color: #7fbfbf\">[14:58:00] </span>Case <span style=\"color: #008080; text-decoration-color: #008080; font-weight: bold\">200443282</span> already exists with status lost                                          <a href=\"file:///var/folders/v0/wzkm0bb11x1b_27rl_172pdr0000gp/T/ipykernel_78208/2760839720.py\" target=\"_blank\"><span style=\"color: #7f7f7f; text-decoration-color: #7f7f7f\">2760839720.py</span></a><span style=\"color: #7f7f7f; text-decoration-color: #7f7f7f\">:</span><a href=\"file:///var/folders/v0/wzkm0bb11x1b_27rl_172pdr0000gp/T/ipykernel_78208/2760839720.py#52\" target=\"_blank\"><span style=\"color: #7f7f7f; text-decoration-color: #7f7f7f\">52</span></a>\n",
       "</pre>\n"
      ],
      "text/plain": [
       "\u001b[2;36m[14:58:00]\u001b[0m\u001b[2;36m \u001b[0mCase \u001b[1;36m200443282\u001b[0m already exists with status lost                                          \u001b]8;id=311483;file:///var/folders/v0/wzkm0bb11x1b_27rl_172pdr0000gp/T/ipykernel_78208/2760839720.py\u001b\\\u001b[2m2760839720.py\u001b[0m\u001b]8;;\u001b\\\u001b[2m:\u001b[0m\u001b]8;id=946329;file:///var/folders/v0/wzkm0bb11x1b_27rl_172pdr0000gp/T/ipykernel_78208/2760839720.py#52\u001b\\\u001b[2m52\u001b[0m\u001b]8;;\u001b\\\n"
      ]
     },
     "metadata": {},
     "output_type": "display_data"
    },
    {
     "data": {
      "text/html": [
       "<pre style=\"white-space:pre;overflow-x:auto;line-height:normal;font-family:Menlo,'DejaVu Sans Mono',consolas,'Courier New',monospace\"><span style=\"color: #7fbfbf; text-decoration-color: #7fbfbf\">           </span>Case details LASHANIC PATTERSON <span style=\"color: #008080; text-decoration-color: #008080; font-weight: bold\">1992</span> Expired Driver's License                           <a href=\"file:///var/folders/v0/wzkm0bb11x1b_27rl_172pdr0000gp/T/ipykernel_78208/2760839720.py\" target=\"_blank\"><span style=\"color: #7f7f7f; text-decoration-color: #7f7f7f\">2760839720.py</span></a><span style=\"color: #7f7f7f; text-decoration-color: #7f7f7f\">:</span><a href=\"file:///var/folders/v0/wzkm0bb11x1b_27rl_172pdr0000gp/T/ipykernel_78208/2760839720.py#55\" target=\"_blank\"><span style=\"color: #7f7f7f; text-decoration-color: #7f7f7f\">55</span></a>\n",
       "</pre>\n"
      ],
      "text/plain": [
       "\u001b[2;36m          \u001b[0m\u001b[2;36m \u001b[0mCase details LASHANIC PATTERSON \u001b[1;36m1992\u001b[0m Expired Driver's License                           \u001b]8;id=197743;file:///var/folders/v0/wzkm0bb11x1b_27rl_172pdr0000gp/T/ipykernel_78208/2760839720.py\u001b\\\u001b[2m2760839720.py\u001b[0m\u001b]8;;\u001b\\\u001b[2m:\u001b[0m\u001b]8;id=378185;file:///var/folders/v0/wzkm0bb11x1b_27rl_172pdr0000gp/T/ipykernel_78208/2760839720.py#55\u001b\\\u001b[2m55\u001b[0m\u001b]8;;\u001b\\\n"
      ]
     },
     "metadata": {},
     "output_type": "display_data"
    },
    {
     "data": {
      "text/html": [
       "<pre style=\"white-space:pre;overflow-x:auto;line-height:normal;font-family:Menlo,'DejaVu Sans Mono',consolas,'Courier New',monospace\"><span style=\"color: #7fbfbf; text-decoration-color: #7fbfbf\">           </span>Searching for MANAIA LANGI <span style=\"color: #008080; text-decoration-color: #008080; font-weight: bold\">1985.0</span> BROOKFIELD MO <span style=\"color: #008080; text-decoration-color: #008080; font-weight: bold\">64628</span> <span style=\"color: #008080; text-decoration-color: #008080; font-weight: bold\">407</span> ELLIOT ST                     <a href=\"file:///var/folders/v0/wzkm0bb11x1b_27rl_172pdr0000gp/T/ipykernel_78208/2760839720.py\" target=\"_blank\"><span style=\"color: #7f7f7f; text-decoration-color: #7f7f7f\">2760839720.py</span></a><span style=\"color: #7f7f7f; text-decoration-color: #7f7f7f\">:</span><a href=\"file:///var/folders/v0/wzkm0bb11x1b_27rl_172pdr0000gp/T/ipykernel_78208/2760839720.py#24\" target=\"_blank\"><span style=\"color: #7f7f7f; text-decoration-color: #7f7f7f\">24</span></a>\n",
       "</pre>\n"
      ],
      "text/plain": [
       "\u001b[2;36m          \u001b[0m\u001b[2;36m \u001b[0mSearching for MANAIA LANGI \u001b[1;36m1985.0\u001b[0m BROOKFIELD MO \u001b[1;36m64628\u001b[0m \u001b[1;36m407\u001b[0m ELLIOT ST                     \u001b]8;id=395512;file:///var/folders/v0/wzkm0bb11x1b_27rl_172pdr0000gp/T/ipykernel_78208/2760839720.py\u001b\\\u001b[2m2760839720.py\u001b[0m\u001b]8;;\u001b\\\u001b[2m:\u001b[0m\u001b]8;id=106209;file:///var/folders/v0/wzkm0bb11x1b_27rl_172pdr0000gp/T/ipykernel_78208/2760839720.py#24\u001b\\\u001b[2m24\u001b[0m\u001b]8;;\u001b\\\n"
      ]
     },
     "metadata": {},
     "output_type": "display_data"
    },
    {
     "data": {
      "text/html": [
       "<pre style=\"white-space:pre;overflow-x:auto;line-height:normal;font-family:Menlo,'DejaVu Sans Mono',consolas,'Courier New',monospace\"><span style=\"color: #7fbfbf; text-decoration-color: #7fbfbf\">[14:58:33] </span>Error searching for MANAIA LANGI <span style=\"color: #008080; text-decoration-color: #008080; font-weight: bold\">1985.0</span>                                                 <a href=\"file:///var/folders/v0/wzkm0bb11x1b_27rl_172pdr0000gp/T/ipykernel_78208/2760839720.py\" target=\"_blank\"><span style=\"color: #7f7f7f; text-decoration-color: #7f7f7f\">2760839720.py</span></a><span style=\"color: #7f7f7f; text-decoration-color: #7f7f7f\">:</span><a href=\"file:///var/folders/v0/wzkm0bb11x1b_27rl_172pdr0000gp/T/ipykernel_78208/2760839720.py#85\" target=\"_blank\"><span style=\"color: #7f7f7f; text-decoration-color: #7f7f7f\">85</span></a>\n",
       "</pre>\n"
      ],
      "text/plain": [
       "\u001b[2;36m[14:58:33]\u001b[0m\u001b[2;36m \u001b[0mError searching for MANAIA LANGI \u001b[1;36m1985.0\u001b[0m                                                 \u001b]8;id=610933;file:///var/folders/v0/wzkm0bb11x1b_27rl_172pdr0000gp/T/ipykernel_78208/2760839720.py\u001b\\\u001b[2m2760839720.py\u001b[0m\u001b]8;;\u001b\\\u001b[2m:\u001b[0m\u001b]8;id=552958;file:///var/folders/v0/wzkm0bb11x1b_27rl_172pdr0000gp/T/ipykernel_78208/2760839720.py#85\u001b\\\u001b[2m85\u001b[0m\u001b]8;;\u001b\\\n"
      ]
     },
     "metadata": {},
     "output_type": "display_data"
    },
    {
     "data": {
      "text/html": [
       "<pre style=\"white-space:pre;overflow-x:auto;line-height:normal;font-family:Menlo,'DejaVu Sans Mono',consolas,'Courier New',monospace\"><span style=\"color: #7fbfbf; text-decoration-color: #7fbfbf\">           </span>Locator.click: Timeout 30000ms exceeded.                                                <a href=\"file:///var/folders/v0/wzkm0bb11x1b_27rl_172pdr0000gp/T/ipykernel_78208/2760839720.py\" target=\"_blank\"><span style=\"color: #7f7f7f; text-decoration-color: #7f7f7f\">2760839720.py</span></a><span style=\"color: #7f7f7f; text-decoration-color: #7f7f7f\">:</span><a href=\"file:///var/folders/v0/wzkm0bb11x1b_27rl_172pdr0000gp/T/ipykernel_78208/2760839720.py#86\" target=\"_blank\"><span style=\"color: #7f7f7f; text-decoration-color: #7f7f7f\">86</span></a>\n",
       "<span style=\"color: #7fbfbf; text-decoration-color: #7fbfbf\">           </span>Call log:                                                                               <span style=\"color: #7f7f7f; text-decoration-color: #7f7f7f\">                </span>\n",
       "<span style=\"color: #7fbfbf; text-decoration-color: #7fbfbf\">           </span>waiting for <span style=\"color: #800080; text-decoration-color: #800080; font-weight: bold\">get_by_role</span><span style=\"font-weight: bold\">(</span><span style=\"color: #008000; text-decoration-color: #008000\">\"link\"</span><span style=\"font-weight: bold\">)</span><span style=\"color: #800080; text-decoration-color: #800080; font-weight: bold\">.and_</span><span style=\"font-weight: bold\">(</span><span style=\"color: #800080; text-decoration-color: #800080; font-weight: bold\">get_by_text</span><span style=\"font-weight: bold\">(</span><span style=\"color: #008000; text-decoration-color: #008000\">\"Phone Finder\"</span><span style=\"font-weight: bold\">))</span>                       <span style=\"color: #7f7f7f; text-decoration-color: #7f7f7f\">                </span>\n",
       "<span style=\"color: #7fbfbf; text-decoration-color: #7fbfbf\">           </span>                                                                                        <span style=\"color: #7f7f7f; text-decoration-color: #7f7f7f\">                </span>\n",
       "</pre>\n"
      ],
      "text/plain": [
       "\u001b[2;36m          \u001b[0m\u001b[2;36m \u001b[0mLocator.click: Timeout 30000ms exceeded.                                                \u001b]8;id=859860;file:///var/folders/v0/wzkm0bb11x1b_27rl_172pdr0000gp/T/ipykernel_78208/2760839720.py\u001b\\\u001b[2m2760839720.py\u001b[0m\u001b]8;;\u001b\\\u001b[2m:\u001b[0m\u001b]8;id=655517;file:///var/folders/v0/wzkm0bb11x1b_27rl_172pdr0000gp/T/ipykernel_78208/2760839720.py#86\u001b\\\u001b[2m86\u001b[0m\u001b]8;;\u001b\\\n",
       "\u001b[2;36m           \u001b[0mCall log:                                                                               \u001b[2m                \u001b[0m\n",
       "\u001b[2;36m           \u001b[0mwaiting for \u001b[1;35mget_by_role\u001b[0m\u001b[1m(\u001b[0m\u001b[32m\"link\"\u001b[0m\u001b[1m)\u001b[0m\u001b[1;35m.and_\u001b[0m\u001b[1m(\u001b[0m\u001b[1;35mget_by_text\u001b[0m\u001b[1m(\u001b[0m\u001b[32m\"Phone Finder\"\u001b[0m\u001b[1m)\u001b[0m\u001b[1m)\u001b[0m                       \u001b[2m                \u001b[0m\n",
       "\u001b[2;36m           \u001b[0m                                                                                        \u001b[2m                \u001b[0m\n"
      ]
     },
     "metadata": {},
     "output_type": "display_data"
    },
    {
     "data": {
      "text/html": [
       "<pre style=\"white-space:pre;overflow-x:auto;line-height:normal;font-family:Menlo,'DejaVu Sans Mono',consolas,'Courier New',monospace\"><span style=\"color: #7fbfbf; text-decoration-color: #7fbfbf\">           </span>No details found for MANAIA LANGI <span style=\"color: #008080; text-decoration-color: #008080; font-weight: bold\">1985.0</span>                                               <a href=\"file:///var/folders/v0/wzkm0bb11x1b_27rl_172pdr0000gp/T/ipykernel_78208/2760839720.py\" target=\"_blank\"><span style=\"color: #7f7f7f; text-decoration-color: #7f7f7f\">2760839720.py</span></a><span style=\"color: #7f7f7f; text-decoration-color: #7f7f7f\">:</span><a href=\"file:///var/folders/v0/wzkm0bb11x1b_27rl_172pdr0000gp/T/ipykernel_78208/2760839720.py#111\" target=\"_blank\"><span style=\"color: #7f7f7f; text-decoration-color: #7f7f7f\">111</span></a>\n",
       "</pre>\n"
      ],
      "text/plain": [
       "\u001b[2;36m          \u001b[0m\u001b[2;36m \u001b[0mNo details found for MANAIA LANGI \u001b[1;36m1985.0\u001b[0m                                               \u001b]8;id=544511;file:///var/folders/v0/wzkm0bb11x1b_27rl_172pdr0000gp/T/ipykernel_78208/2760839720.py\u001b\\\u001b[2m2760839720.py\u001b[0m\u001b]8;;\u001b\\\u001b[2m:\u001b[0m\u001b]8;id=153938;file:///var/folders/v0/wzkm0bb11x1b_27rl_172pdr0000gp/T/ipykernel_78208/2760839720.py#111\u001b\\\u001b[2m111\u001b[0m\u001b]8;;\u001b\\\n"
      ]
     },
     "metadata": {},
     "output_type": "display_data"
    },
    {
     "data": {
      "text/html": [
       "<pre style=\"white-space:pre;overflow-x:auto;line-height:normal;font-family:Menlo,'DejaVu Sans Mono',consolas,'Courier New',monospace\"><span style=\"color: #7fbfbf; text-decoration-color: #7fbfbf\">[14:58:34] </span>Searching for WILLIAM KLINE <span style=\"color: #008080; text-decoration-color: #008080; font-weight: bold\">1988.0</span> INDEPENDENCE MO <span style=\"color: #008080; text-decoration-color: #008080; font-weight: bold\">64057</span> <span style=\"color: #008080; text-decoration-color: #008080; font-weight: bold\">19004</span> E 37TH TER S APT <span style=\"color: #008080; text-decoration-color: #008080; font-weight: bold\">1</span>       <a href=\"file:///var/folders/v0/wzkm0bb11x1b_27rl_172pdr0000gp/T/ipykernel_78208/2760839720.py\" target=\"_blank\"><span style=\"color: #7f7f7f; text-decoration-color: #7f7f7f\">2760839720.py</span></a><span style=\"color: #7f7f7f; text-decoration-color: #7f7f7f\">:</span><a href=\"file:///var/folders/v0/wzkm0bb11x1b_27rl_172pdr0000gp/T/ipykernel_78208/2760839720.py#24\" target=\"_blank\"><span style=\"color: #7f7f7f; text-decoration-color: #7f7f7f\">24</span></a>\n",
       "</pre>\n"
      ],
      "text/plain": [
       "\u001b[2;36m[14:58:34]\u001b[0m\u001b[2;36m \u001b[0mSearching for WILLIAM KLINE \u001b[1;36m1988.0\u001b[0m INDEPENDENCE MO \u001b[1;36m64057\u001b[0m \u001b[1;36m19004\u001b[0m E 37TH TER S APT \u001b[1;36m1\u001b[0m       \u001b]8;id=471315;file:///var/folders/v0/wzkm0bb11x1b_27rl_172pdr0000gp/T/ipykernel_78208/2760839720.py\u001b\\\u001b[2m2760839720.py\u001b[0m\u001b]8;;\u001b\\\u001b[2m:\u001b[0m\u001b]8;id=4853;file:///var/folders/v0/wzkm0bb11x1b_27rl_172pdr0000gp/T/ipykernel_78208/2760839720.py#24\u001b\\\u001b[2m24\u001b[0m\u001b]8;;\u001b\\\n"
      ]
     },
     "metadata": {},
     "output_type": "display_data"
    },
    {
     "data": {
      "text/html": [
       "<pre style=\"white-space:pre;overflow-x:auto;line-height:normal;font-family:Menlo,'DejaVu Sans Mono',consolas,'Courier New',monospace\"><span style=\"color: #7fbfbf; text-decoration-color: #7fbfbf\">[14:59:04] </span>Error searching for WILLIAM KLINE <span style=\"color: #008080; text-decoration-color: #008080; font-weight: bold\">1988.0</span>                                                <a href=\"file:///var/folders/v0/wzkm0bb11x1b_27rl_172pdr0000gp/T/ipykernel_78208/2760839720.py\" target=\"_blank\"><span style=\"color: #7f7f7f; text-decoration-color: #7f7f7f\">2760839720.py</span></a><span style=\"color: #7f7f7f; text-decoration-color: #7f7f7f\">:</span><a href=\"file:///var/folders/v0/wzkm0bb11x1b_27rl_172pdr0000gp/T/ipykernel_78208/2760839720.py#85\" target=\"_blank\"><span style=\"color: #7f7f7f; text-decoration-color: #7f7f7f\">85</span></a>\n",
       "</pre>\n"
      ],
      "text/plain": [
       "\u001b[2;36m[14:59:04]\u001b[0m\u001b[2;36m \u001b[0mError searching for WILLIAM KLINE \u001b[1;36m1988.0\u001b[0m                                                \u001b]8;id=356132;file:///var/folders/v0/wzkm0bb11x1b_27rl_172pdr0000gp/T/ipykernel_78208/2760839720.py\u001b\\\u001b[2m2760839720.py\u001b[0m\u001b]8;;\u001b\\\u001b[2m:\u001b[0m\u001b]8;id=501089;file:///var/folders/v0/wzkm0bb11x1b_27rl_172pdr0000gp/T/ipykernel_78208/2760839720.py#85\u001b\\\u001b[2m85\u001b[0m\u001b]8;;\u001b\\\n"
      ]
     },
     "metadata": {},
     "output_type": "display_data"
    },
    {
     "data": {
      "text/html": [
       "<pre style=\"white-space:pre;overflow-x:auto;line-height:normal;font-family:Menlo,'DejaVu Sans Mono',consolas,'Courier New',monospace\"><span style=\"color: #7fbfbf; text-decoration-color: #7fbfbf\">           </span>Locator.click: Timeout 30000ms exceeded.                                                <a href=\"file:///var/folders/v0/wzkm0bb11x1b_27rl_172pdr0000gp/T/ipykernel_78208/2760839720.py\" target=\"_blank\"><span style=\"color: #7f7f7f; text-decoration-color: #7f7f7f\">2760839720.py</span></a><span style=\"color: #7f7f7f; text-decoration-color: #7f7f7f\">:</span><a href=\"file:///var/folders/v0/wzkm0bb11x1b_27rl_172pdr0000gp/T/ipykernel_78208/2760839720.py#86\" target=\"_blank\"><span style=\"color: #7f7f7f; text-decoration-color: #7f7f7f\">86</span></a>\n",
       "<span style=\"color: #7fbfbf; text-decoration-color: #7fbfbf\">           </span>Call log:                                                                               <span style=\"color: #7f7f7f; text-decoration-color: #7f7f7f\">                </span>\n",
       "<span style=\"color: #7fbfbf; text-decoration-color: #7fbfbf\">           </span>waiting for <span style=\"color: #800080; text-decoration-color: #800080; font-weight: bold\">get_by_role</span><span style=\"font-weight: bold\">(</span><span style=\"color: #008000; text-decoration-color: #008000\">\"link\"</span><span style=\"font-weight: bold\">)</span><span style=\"color: #800080; text-decoration-color: #800080; font-weight: bold\">.and_</span><span style=\"font-weight: bold\">(</span><span style=\"color: #800080; text-decoration-color: #800080; font-weight: bold\">get_by_text</span><span style=\"font-weight: bold\">(</span><span style=\"color: #008000; text-decoration-color: #008000\">\"Phone Finder\"</span><span style=\"font-weight: bold\">))</span>                       <span style=\"color: #7f7f7f; text-decoration-color: #7f7f7f\">                </span>\n",
       "<span style=\"color: #7fbfbf; text-decoration-color: #7fbfbf\">           </span>                                                                                        <span style=\"color: #7f7f7f; text-decoration-color: #7f7f7f\">                </span>\n",
       "</pre>\n"
      ],
      "text/plain": [
       "\u001b[2;36m          \u001b[0m\u001b[2;36m \u001b[0mLocator.click: Timeout 30000ms exceeded.                                                \u001b]8;id=333872;file:///var/folders/v0/wzkm0bb11x1b_27rl_172pdr0000gp/T/ipykernel_78208/2760839720.py\u001b\\\u001b[2m2760839720.py\u001b[0m\u001b]8;;\u001b\\\u001b[2m:\u001b[0m\u001b]8;id=331152;file:///var/folders/v0/wzkm0bb11x1b_27rl_172pdr0000gp/T/ipykernel_78208/2760839720.py#86\u001b\\\u001b[2m86\u001b[0m\u001b]8;;\u001b\\\n",
       "\u001b[2;36m           \u001b[0mCall log:                                                                               \u001b[2m                \u001b[0m\n",
       "\u001b[2;36m           \u001b[0mwaiting for \u001b[1;35mget_by_role\u001b[0m\u001b[1m(\u001b[0m\u001b[32m\"link\"\u001b[0m\u001b[1m)\u001b[0m\u001b[1;35m.and_\u001b[0m\u001b[1m(\u001b[0m\u001b[1;35mget_by_text\u001b[0m\u001b[1m(\u001b[0m\u001b[32m\"Phone Finder\"\u001b[0m\u001b[1m)\u001b[0m\u001b[1m)\u001b[0m                       \u001b[2m                \u001b[0m\n",
       "\u001b[2;36m           \u001b[0m                                                                                        \u001b[2m                \u001b[0m\n"
      ]
     },
     "metadata": {},
     "output_type": "display_data"
    },
    {
     "data": {
      "text/html": [
       "<pre style=\"white-space:pre;overflow-x:auto;line-height:normal;font-family:Menlo,'DejaVu Sans Mono',consolas,'Courier New',monospace\"><span style=\"color: #7fbfbf; text-decoration-color: #7fbfbf\">           </span>No details found for WILLIAM KLINE <span style=\"color: #008080; text-decoration-color: #008080; font-weight: bold\">1988.0</span>                                              <a href=\"file:///var/folders/v0/wzkm0bb11x1b_27rl_172pdr0000gp/T/ipykernel_78208/2760839720.py\" target=\"_blank\"><span style=\"color: #7f7f7f; text-decoration-color: #7f7f7f\">2760839720.py</span></a><span style=\"color: #7f7f7f; text-decoration-color: #7f7f7f\">:</span><a href=\"file:///var/folders/v0/wzkm0bb11x1b_27rl_172pdr0000gp/T/ipykernel_78208/2760839720.py#111\" target=\"_blank\"><span style=\"color: #7f7f7f; text-decoration-color: #7f7f7f\">111</span></a>\n",
       "</pre>\n"
      ],
      "text/plain": [
       "\u001b[2;36m          \u001b[0m\u001b[2;36m \u001b[0mNo details found for WILLIAM KLINE \u001b[1;36m1988.0\u001b[0m                                              \u001b]8;id=494755;file:///var/folders/v0/wzkm0bb11x1b_27rl_172pdr0000gp/T/ipykernel_78208/2760839720.py\u001b\\\u001b[2m2760839720.py\u001b[0m\u001b]8;;\u001b\\\u001b[2m:\u001b[0m\u001b]8;id=835164;file:///var/folders/v0/wzkm0bb11x1b_27rl_172pdr0000gp/T/ipykernel_78208/2760839720.py#111\u001b\\\u001b[2m111\u001b[0m\u001b]8;;\u001b\\\n"
      ]
     },
     "metadata": {},
     "output_type": "display_data"
    },
    {
     "data": {
      "text/html": [
       "<pre style=\"white-space:pre;overflow-x:auto;line-height:normal;font-family:Menlo,'DejaVu Sans Mono',consolas,'Courier New',monospace\"><span style=\"color: #7fbfbf; text-decoration-color: #7fbfbf\">[14:59:05] </span>Searching for MARKENIS MOORE <span style=\"color: #008080; text-decoration-color: #008080; font-weight: bold\">1984.0</span> MEMPHIS MO <span style=\"color: #008080; text-decoration-color: #008080; font-weight: bold\">38118</span> <span style=\"color: #008080; text-decoration-color: #008080; font-weight: bold\">3024</span> ARRENDALE ST                  <a href=\"file:///var/folders/v0/wzkm0bb11x1b_27rl_172pdr0000gp/T/ipykernel_78208/2760839720.py\" target=\"_blank\"><span style=\"color: #7f7f7f; text-decoration-color: #7f7f7f\">2760839720.py</span></a><span style=\"color: #7f7f7f; text-decoration-color: #7f7f7f\">:</span><a href=\"file:///var/folders/v0/wzkm0bb11x1b_27rl_172pdr0000gp/T/ipykernel_78208/2760839720.py#24\" target=\"_blank\"><span style=\"color: #7f7f7f; text-decoration-color: #7f7f7f\">24</span></a>\n",
       "</pre>\n"
      ],
      "text/plain": [
       "\u001b[2;36m[14:59:05]\u001b[0m\u001b[2;36m \u001b[0mSearching for MARKENIS MOORE \u001b[1;36m1984.0\u001b[0m MEMPHIS MO \u001b[1;36m38118\u001b[0m \u001b[1;36m3024\u001b[0m ARRENDALE ST                  \u001b]8;id=210113;file:///var/folders/v0/wzkm0bb11x1b_27rl_172pdr0000gp/T/ipykernel_78208/2760839720.py\u001b\\\u001b[2m2760839720.py\u001b[0m\u001b]8;;\u001b\\\u001b[2m:\u001b[0m\u001b]8;id=826135;file:///var/folders/v0/wzkm0bb11x1b_27rl_172pdr0000gp/T/ipykernel_78208/2760839720.py#24\u001b\\\u001b[2m24\u001b[0m\u001b]8;;\u001b\\\n"
      ]
     },
     "metadata": {},
     "output_type": "display_data"
    }
   ],
   "source": [
    "cases_outputs = {}\n",
    "\n",
    "for case, case_details in df.iterrows():\n",
    "    # Get the case details\n",
    "    first_name = case_details[\"first_name\"]\n",
    "    last_name = case_details[\"last_name\"]\n",
    "    middle_name = case_details[\"middle_name\"]\n",
    "    dob = case_details[\"year_of_birth\"]\n",
    "    key = case_details[\"case_id\"]\n",
    "\n",
    "    # Get the case details from casenet\n",
    "    case_info = get_single_case(case_id=key)\n",
    "    city = case_details[\"city\"] or case_info.address_city or \"\"\n",
    "    state = case_details[\"state\"] or case_info.address_state_code or \"MO\"\n",
    "    zip = case_details[\"zip_code\"] or case_info.address_zip or \"\"\n",
    "    address_line1 = case_details[\"address\"] or case_info.address_line_1 or \"\"\n",
    "    address_line2 = \"\"\n",
    "\n",
    "    if address_line1 == \"\":\n",
    "        console.log(f\"Case {key} has no address\")\n",
    "        continue\n",
    "\n",
    "    # Search if a case with first name, last name, middle name, dob, exists\n",
    "    console.log(\n",
    "        f\"Searching for {first_name} {last_name} {dob} {city} {state} {zip} {address_line1} {address_line2}\"\n",
    "    )\n",
    "\n",
    "    # Check if the case already exists in the database\n",
    "    try:\n",
    "        cases_search = leads_service.get_items(\n",
    "            first_name=first_name,\n",
    "            last_name=last_name,\n",
    "            middle_name=middle_name,\n",
    "            year_of_birth=dob,\n",
    "        )\n",
    "    except Exception as e:\n",
    "        console.log(f\"Error searching for {first_name} {last_name} {dob}\")\n",
    "        console.log(e)\n",
    "        cases_search = None\n",
    "\n",
    "    if cases_search is not None:\n",
    "        stop_search = False\n",
    "        for case_found in cases_search:\n",
    "            if (\n",
    "                case_found.status != \"not_found\"\n",
    "                and case_found.status != \"mailed\"\n",
    "                and case_found.status != \"not_contacted_prioritized\"\n",
    "                and case_found.status != \"not_valid\"\n",
    "                and case_found.status != \"stop\"\n",
    "                and case_found.status != \"contacted\"\n",
    "                and case_found.status != \"wait\"\n",
    "                and case_found.phone is not None\n",
    "            ):\n",
    "                console.log(\n",
    "                    f\"Case {case_found.case_id} already exists with status {case_found.status}\"\n",
    "                )\n",
    "                console.log(\n",
    "                    f\"Case details {case_found.first_name} {case_found.last_name} {case_found.year_of_birth} {case_found.charges_description}\"\n",
    "                )\n",
    "                details = {\n",
    "                    \"status\": \"not_contacted_prioritized\",\n",
    "                    \"phones\": case_found.phones,\n",
    "                    \"email\": case_found.email,\n",
    "                    \"phone\": case_found.phone,\n",
    "                    \"report\": case_found.report,\n",
    "                    \"lead_source\": case_found.lead_source,\n",
    "                }\n",
    "                stop_search = True\n",
    "        if stop_search:\n",
    "            cases_outputs[key] = \"Found in the database\"\n",
    "            continue\n",
    "\n",
    "    # Search for the person in Lexis Nexis\n",
    "    try:\n",
    "        details = await search_person(\n",
    "            first_name,\n",
    "            last_name,\n",
    "            middle_name,\n",
    "            dob,\n",
    "            city,\n",
    "            state=state,\n",
    "            zip=zip,\n",
    "            address_line1=address_line1,\n",
    "            address_line2=address_line2,\n",
    "        )\n",
    "    except Exception as e:\n",
    "        console.log(f\"Error searching for {first_name} {last_name} {dob}\")\n",
    "        console.log(e)\n",
    "        for page in context.pages:\n",
    "            await page.close()\n",
    "        details = None\n",
    "\n",
    "    # Update the case with the details\n",
    "    if details is not None:\n",
    "        if (\n",
    "            details.get(\"phones\") is not None\n",
    "            and len(details.get(\"phones\")) > 0\n",
    "        ):\n",
    "            console.log(\n",
    "                f\"Found a good record for {first_name} {last_name} {dob} - in Lexis Nexis\"\n",
    "            )\n",
    "            details[\"status\"] = \"not_contacted_prioritized\"\n",
    "            cases_outputs[key] = \"Found in Lexis Nexis\"\n",
    "        else:\n",
    "            details[\"status\"] = \"not_found\"\n",
    "            console.log(\n",
    "                f\"No records found for {first_name} {last_name} {dob}. Found similar records\"\n",
    "            )\n",
    "            cases_outputs[key] = \"Not Found in Lexis Nexis\"\n",
    "        patch_lead(case_id=key, **details)\n",
    "\n",
    "    else:\n",
    "        console.log(f\"No details found for {first_name} {last_name} {dob}\")\n",
    "        details = {\n",
    "            \"status\": \"not_found\",\n",
    "            \"lead_source\": \"lexis_nexis_phone_finder\",\n",
    "        }\n",
    "        cases_outputs[key] = \"Not Found in Lexis Nexis\"\n",
    "        patch_lead(case_id=key, **details)"
   ]
  },
  {
   "cell_type": "code",
   "execution_count": null,
   "metadata": {},
   "outputs": [],
   "source": [
    "df = pd.DataFrame(\n",
    "    cases_outputs.items(),\n",
    "    columns=[\"case_id\", \"status\"],\n",
    ").groupby(\"status\").count()"
   ]
  },
  {
   "cell_type": "code",
   "execution_count": null,
   "metadata": {},
   "outputs": [
    {
     "data": {
      "text/html": [
       "<div>\n",
       "<style scoped>\n",
       "    .dataframe tbody tr th:only-of-type {\n",
       "        vertical-align: middle;\n",
       "    }\n",
       "\n",
       "    .dataframe tbody tr th {\n",
       "        vertical-align: top;\n",
       "    }\n",
       "\n",
       "    .dataframe thead th {\n",
       "        text-align: right;\n",
       "    }\n",
       "</style>\n",
       "<table border=\"1\" class=\"dataframe\">\n",
       "  <thead>\n",
       "    <tr style=\"text-align: right;\">\n",
       "      <th></th>\n",
       "      <th>case_id</th>\n",
       "    </tr>\n",
       "    <tr>\n",
       "      <th>status</th>\n",
       "      <th></th>\n",
       "    </tr>\n",
       "  </thead>\n",
       "  <tbody>\n",
       "    <tr>\n",
       "      <th>Found in Lexis Nexis</th>\n",
       "      <td>109</td>\n",
       "    </tr>\n",
       "    <tr>\n",
       "      <th>Found in the database</th>\n",
       "      <td>63</td>\n",
       "    </tr>\n",
       "    <tr>\n",
       "      <th>Not Found in Lexis Nexis</th>\n",
       "      <td>106</td>\n",
       "    </tr>\n",
       "  </tbody>\n",
       "</table>\n",
       "</div>"
      ],
      "text/plain": [
       "                          case_id\n",
       "status                           \n",
       "Found in Lexis Nexis          109\n",
       "Found in the database          63\n",
       "Not Found in Lexis Nexis      106"
      ]
     },
     "execution_count": 10,
     "metadata": {},
     "output_type": "execute_result"
    }
   ],
   "source": [
    "df"
   ]
  },
  {
   "cell_type": "code",
   "execution_count": null,
   "metadata": {},
   "outputs": [],
   "source": [
    "lexis_nexis_phone_finder_leads = leads_service.get_items(\n",
    "    lead_source=\"lexis_nexis_phone_finder\"\n",
    ")\n",
    "results = pd.DataFrame(\n",
    "    [lead.model_dump() for lead in lexis_nexis_phone_finder_leads]\n",
    ")\n",
    "    "
   ]
  },
  {
   "cell_type": "code",
   "execution_count": null,
   "metadata": {},
   "outputs": [
    {
     "data": {
      "text/html": [
       "<div>\n",
       "<style scoped>\n",
       "    .dataframe tbody tr th:only-of-type {\n",
       "        vertical-align: middle;\n",
       "    }\n",
       "\n",
       "    .dataframe tbody tr th {\n",
       "        vertical-align: top;\n",
       "    }\n",
       "\n",
       "    .dataframe thead th {\n",
       "        text-align: right;\n",
       "    }\n",
       "</style>\n",
       "<table border=\"1\" class=\"dataframe\">\n",
       "  <thead>\n",
       "    <tr style=\"text-align: right;\">\n",
       "      <th></th>\n",
       "      <th>id</th>\n",
       "      <th>case_id</th>\n",
       "      <th>first_name</th>\n",
       "      <th>last_name</th>\n",
       "      <th>middle_name</th>\n",
       "      <th>court_code</th>\n",
       "      <th>age</th>\n",
       "      <th>year_of_birth</th>\n",
       "      <th>phone</th>\n",
       "      <th>phones</th>\n",
       "      <th>...</th>\n",
       "      <th>violation</th>\n",
       "      <th>court</th>\n",
       "      <th>accidentCheckbox</th>\n",
       "      <th>commercialDriverLicence</th>\n",
       "      <th>ticket_img</th>\n",
       "      <th>user_id</th>\n",
       "      <th>report</th>\n",
       "      <th>details</th>\n",
       "      <th>lead_source</th>\n",
       "      <th>cloudtalk_upload</th>\n",
       "    </tr>\n",
       "    <tr>\n",
       "      <th>status</th>\n",
       "      <th></th>\n",
       "      <th></th>\n",
       "      <th></th>\n",
       "      <th></th>\n",
       "      <th></th>\n",
       "      <th></th>\n",
       "      <th></th>\n",
       "      <th></th>\n",
       "      <th></th>\n",
       "      <th></th>\n",
       "      <th></th>\n",
       "      <th></th>\n",
       "      <th></th>\n",
       "      <th></th>\n",
       "      <th></th>\n",
       "      <th></th>\n",
       "      <th></th>\n",
       "      <th></th>\n",
       "      <th></th>\n",
       "      <th></th>\n",
       "      <th></th>\n",
       "    </tr>\n",
       "  </thead>\n",
       "  <tbody>\n",
       "    <tr>\n",
       "      <th>not_contacted_prioritized</th>\n",
       "      <td>88</td>\n",
       "      <td>88</td>\n",
       "      <td>88</td>\n",
       "      <td>88</td>\n",
       "      <td>80</td>\n",
       "      <td>88</td>\n",
       "      <td>88</td>\n",
       "      <td>88</td>\n",
       "      <td>88</td>\n",
       "      <td>88</td>\n",
       "      <td>...</td>\n",
       "      <td>0</td>\n",
       "      <td>0</td>\n",
       "      <td>88</td>\n",
       "      <td>88</td>\n",
       "      <td>0</td>\n",
       "      <td>0</td>\n",
       "      <td>88</td>\n",
       "      <td>88</td>\n",
       "      <td>88</td>\n",
       "      <td>88</td>\n",
       "    </tr>\n",
       "    <tr>\n",
       "      <th>not_found</th>\n",
       "      <td>17</td>\n",
       "      <td>17</td>\n",
       "      <td>17</td>\n",
       "      <td>17</td>\n",
       "      <td>15</td>\n",
       "      <td>17</td>\n",
       "      <td>16</td>\n",
       "      <td>16</td>\n",
       "      <td>17</td>\n",
       "      <td>17</td>\n",
       "      <td>...</td>\n",
       "      <td>0</td>\n",
       "      <td>0</td>\n",
       "      <td>17</td>\n",
       "      <td>17</td>\n",
       "      <td>0</td>\n",
       "      <td>0</td>\n",
       "      <td>17</td>\n",
       "      <td>11</td>\n",
       "      <td>17</td>\n",
       "      <td>17</td>\n",
       "    </tr>\n",
       "  </tbody>\n",
       "</table>\n",
       "<p>2 rows × 34 columns</p>\n",
       "</div>"
      ],
      "text/plain": [
       "                           id  case_id  first_name  last_name  middle_name  \\\n",
       "status                                                                       \n",
       "not_contacted_prioritized  88       88          88         88           80   \n",
       "not_found                  17       17          17         17           15   \n",
       "\n",
       "                           court_code  age  year_of_birth  phone  phones  ...  \\\n",
       "status                                                                    ...   \n",
       "not_contacted_prioritized          88   88             88     88      88  ...   \n",
       "not_found                          17   16             16     17      17  ...   \n",
       "\n",
       "                           violation  court  accidentCheckbox  \\\n",
       "status                                                          \n",
       "not_contacted_prioritized          0      0                88   \n",
       "not_found                          0      0                17   \n",
       "\n",
       "                           commercialDriverLicence  ticket_img  user_id  \\\n",
       "status                                                                    \n",
       "not_contacted_prioritized                       88           0        0   \n",
       "not_found                                       17           0        0   \n",
       "\n",
       "                           report  details  lead_source  cloudtalk_upload  \n",
       "status                                                                     \n",
       "not_contacted_prioritized      88       88           88                88  \n",
       "not_found                      17       11           17                17  \n",
       "\n",
       "[2 rows x 34 columns]"
      ]
     },
     "execution_count": 12,
     "metadata": {},
     "output_type": "execute_result"
    }
   ],
   "source": [
    "results.groupby(\"status\").count()"
   ]
  },
  {
   "cell_type": "code",
   "execution_count": null,
   "metadata": {},
   "outputs": [],
   "source": []
  }
 ],
 "metadata": {
  "kernelspec": {
   "display_name": "fubloo",
   "language": "python",
   "name": "python3"
  },
  "language_info": {
   "codemirror_mode": {
    "name": "ipython",
    "version": 3
   },
   "file_extension": ".py",
   "mimetype": "text/x-python",
   "name": "python",
   "nbconvert_exporter": "python",
   "pygments_lexer": "ipython3",
   "version": "3.11.8"
  }
 },
 "nbformat": 4,
 "nbformat_minor": 2
}
