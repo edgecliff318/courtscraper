{
 "cells": [
  {
   "cell_type": "code",
   "execution_count": null,
   "metadata": {},
   "outputs": [],
   "source": [
    "import sys\n",
    "import os\n",
    "import pandas as pd\n",
    "import datetime\n",
    "\n",
    "import typesense\n",
    "from pprint import pprint\n",
    "# first_name,last_name,middle_name,charges,case_date,filing_date\n"
   ]
  },
  {
   "cell_type": "code",
   "execution_count": null,
   "metadata": {},
   "outputs": [],
   "source": [
    "from src.services.cases import get_cases"
   ]
  },
  {
   "cell_type": "code",
   "execution_count": null,
   "metadata": {},
   "outputs": [],
   "source": [
    "sys.path.append(\"..\")\n",
    "os.environ[\"ROOT_PATH\"] = \"/Users/yassine-elazrak/Fubloo.com/app\"\n",
    "os.environ[\"GOOGLE_APPLICATION_CREDENTIALS\"] = \"/Users/yassine-elazrak/Fubloo.com/app/configuration/fubloo-app-1f213ca274de.json\"\n"
   ]
  },
  {
   "cell_type": "code",
   "execution_count": null,
   "metadata": {},
   "outputs": [],
   "source": [
    "cases_found = get_cases(\n",
    "    start_date=datetime.datetime(2024, 1, 1),\n",
    "    end_date=datetime.datetime(2024, 1, 2)\n",
    ")"
   ]
  },
  {
   "cell_type": "code",
   "execution_count": null,
   "metadata": {},
   "outputs": [],
   "source": [
    "cases_found"
   ]
  },
  {
   "cell_type": "code",
   "execution_count": null,
   "metadata": {},
   "outputs": [],
   "source": [
    "def concat_dict_values(dict_list):\n",
    "    if dict_list is None:\n",
    "        return \"\"\n",
    "    \n",
    "    concatenated_string = \"\"\n",
    "    for dictionary in dict_list:\n",
    "        for value in dictionary.values():\n",
    "            concatenated_string += str(value) + \" \" \n",
    "    return concatenated_string.strip() "
   ]
  },
  {
   "cell_type": "code",
   "execution_count": null,
   "metadata": {},
   "outputs": [],
   "source": [
    "\n",
    "client = typesense.Client({\n",
    "  'api_key': 'Cw3AX4YbY!?QK7z',\n",
    "  'nodes': [{\n",
    "    'host': 'app.fubloo.com',\n",
    "    'port': '443',\n",
    "    'path': '/typesense',\n",
    "    'protocol': 'https'\n",
    "  }],\n",
    "  'connection_timeout_seconds': 2\n",
    "})"
   ]
  },
  {
   "cell_type": "code",
   "execution_count": null,
   "metadata": {},
   "outputs": [],
   "source": [
    "schema = {\n",
    "  'name': 'cases',\n",
    "  'fields': [\n",
    "    {'name': 'case_id', 'type': 'string'},\n",
    "    {'name': 'formatted_party_address', 'type': 'string'},\n",
    "    {'name': 'formatted_party_name', 'type': 'string'},\n",
    "    {'name': 'court_id', 'type': 'string'},\n",
    "    {'name': 'description', 'type': 'string'},\n",
    "    {'name': 'first_name', 'type': 'string'},\n",
    "    {'name': 'last_name', 'type': 'string', 'facet': True},\n",
    "    {'name': 'middle_name', 'type': 'string'},\n",
    "    {'name': 'charges', 'type': 'string'},\n",
    "    {'name': 'case_date', 'type': 'string', 'facet': True},\n",
    "    {'name': 'filing_date', 'type': 'string', 'facet': True},\n",
    "    {'name': 'case_date_timestamp', 'type': 'int32'}\n",
    "  ],\n",
    "  'default_sorting_field': 'case_date_timestamp'\n",
    "}"
   ]
  },
  {
   "cell_type": "code",
   "execution_count": null,
   "metadata": {},
   "outputs": [],
   "source": [
    "create_response = client.collections.create(schema)\n",
    "create_response"
   ]
  },
  {
   "cell_type": "markdown",
   "metadata": {},
   "source": [
    "## Create document"
   ]
  },
  {
   "cell_type": "code",
   "execution_count": null,
   "metadata": {},
   "outputs": [],
   "source": [
    "# for case in cases_found:\n",
    "#     case_json =  case.model_dump(exclude_none=True)\n",
    "#     charges = concat_dict_values(case_json.get(\"charges\",\"\"))\n",
    "#     case_date = case_json.get(\"case_date_timestamp\")\n",
    "#     if case_date is None:\n",
    "#         case_date = datetime.today()\n",
    "#     document = {\n",
    "#         \"id\": case_json.get(\"case_id\",\"\"),\n",
    "#         \"case_id\": case_json.get(\"case_id\",\"\"),\n",
    "#         'formatted_party_address': case_json.get(\"formatted_party_address\",\"\"),\n",
    "#         'formatted_party_name': case_json.get(\"formatted_party_name\",\"\"),\n",
    "#         'court_id': case_json.get(\"court_id\",\"\"),\n",
    "#         'description': case_json.get(\"description\",\"\"),\n",
    "#         'first_name': case_json.get(\"first_name\",\"\"),\n",
    "#         'last_name': case_json.get(\"last_name\",\"\"),\n",
    "#         'middle_name': case_json.get(\"middle_name\",\"\"),\n",
    "#         'case_date': str(case_date),\n",
    "#         'filing_date': str(case_json.get(\"filing_date\",\"\")),\n",
    "#         \"charges\":\"\",\n",
    "#         'case_date_timestamp': int(case_date.timestamp()),\n",
    "#     } \n",
    "    \n",
    "#     client.collections['cases'].documents.create(document)\n",
    "\n",
    "    "
   ]
  },
  {
   "cell_type": "code",
   "execution_count": null,
   "metadata": {},
   "outputs": [],
   "source": [
    "from datetime import datetime\n",
    "\n",
    "def get_case_document(case):\n",
    "    case_json = case.model_dump(exclude_none=True)\n",
    "    charges = concat_dict_values(case_json.get(\"charges\", \"\"))\n",
    "    \n",
    "    case_date = case_json.get(\"case_date_timestamp\")\n",
    "    case_date = datetime.fromtimestamp(case_date) if case_date else datetime.today()\n",
    "\n",
    "    return {\n",
    "        \"id\": case_json.get(\"case_id\", \"\"),\n",
    "        \"case_id\": case_json.get(\"case_id\", \"\"),\n",
    "        'formatted_party_address': case_json.get(\"formatted_party_address\", \"\"),\n",
    "        'formatted_party_name': case_json.get(\"formatted_party_name\", \"\"),\n",
    "        'court_id': case_json.get(\"court_id\", \"\"),\n",
    "        'description': case_json.get(\"description\", \"\"),\n",
    "        'first_name': case_json.get(\"first_name\", \"\"),\n",
    "        'last_name': case_json.get(\"last_name\", \"\"),\n",
    "        'middle_name': case_json.get(\"middle_name\", \"\"),\n",
    "        'case_date': str(case_date),\n",
    "        'filing_date': str(case_json.get(\"filing_date\", \"\")),\n",
    "        \"charges\": charges,\n",
    "        'case_date_timestamp': int(case_date.timestamp()),\n",
    "    }\n"
   ]
  },
  {
   "cell_type": "code",
   "execution_count": null,
   "metadata": {},
   "outputs": [],
   "source": []
  },
  {
   "cell_type": "code",
   "execution_count": null,
   "metadata": {},
   "outputs": [],
   "source": [
    "for case in cases_found:\n",
    "    case_id = case.model_dump(exclude_none=True).get(\"case_id\", \"\")\n",
    "    \n",
    "    # Check if a document with this case_id already exists\n",
    "    existing_doc = client.collections['cases'].documents[case_id].retrieve()\n",
    "    if existing_doc:\n",
    "        print(f\"Document with ID {case_id} already exists, skipping.\")\n",
    "        continue\n",
    "\n",
    "    # If it doesn't exist, create a new document\n",
    "    document = get_case_document(case)\n",
    "    client.collections['cases'].documents.create(document)"
   ]
  },
  {
   "cell_type": "code",
   "execution_count": null,
   "metadata": {},
   "outputs": [],
   "source": [
    "# client.collections['cases'].documents.retrieve(case_id)\n",
    "print(client.collections['cases'].documents.get('24TRs10000001')) #.retrieve()\n"
   ]
  },
  {
   "cell_type": "markdown",
   "metadata": {},
   "source": [
    "## Searchbale search parameters"
   ]
  },
  {
   "cell_type": "code",
   "execution_count": null,
   "metadata": {},
   "outputs": [],
   "source": [
    "search_parameters = {\n",
    "  'q'         : 'le',\n",
    "  'query_by'  : 'last_name ',\n",
    "  'sort_by'   : 'case_date_timestamp:desc'\n",
    "}"
   ]
  },
  {
   "cell_type": "code",
   "execution_count": null,
   "metadata": {},
   "outputs": [],
   "source": [
    "res = client.collections['cases'].documents.search(search_parameters)\n",
    "\n",
    "print(res)"
   ]
  },
  {
   "cell_type": "code",
   "execution_count": null,
   "metadata": {},
   "outputs": [],
   "source": [
    "pprint(client.collections.retrieve())\n"
   ]
  },
  {
   "cell_type": "code",
   "execution_count": null,
   "metadata": {},
   "outputs": [],
   "source": [
    "#delete colections \n",
    "client.collections[\"cases\"].delete()\n"
   ]
  },
  {
   "cell_type": "code",
   "execution_count": null,
   "metadata": {},
   "outputs": [],
   "source": []
  },
  {
   "cell_type": "code",
   "execution_count": null,
   "metadata": {},
   "outputs": [],
   "source": [
    "charges = [{'charge_offense': {'description': 'INOPERABLE TAIL LIGHT', 'jurisdiction': 'CHICAGO POLICE DEPT', 'degree': 'Traffic', 'statute': 'MCC-9-76-050CC'}, 'filed_date': '01/01/2024', 'filing_agency_description': 'Chicago Police Department', 'citation_number': 'TX011287', 'current_charge_num': '1', 'case_party_id': 0, 'amended_date': None, 'charge_id': 57777786, 'offense_date': '12/31/2023', 'party_id': 76769652}, {'charge_offense': {'description': 'DRIVING ON SUSPENDED LICENSE', 'jurisdiction': 'CHICAGO POLICE DEPT', 'degree': 'Class A Misdemeanor', 'statute': '625 ILCS 5/6-303(a)'}, 'filed_date': '01/01/2024', 'filing_agency_description': 'Chicago Police Department', 'citation_number': 'TX011288', 'current_charge_num': '2', 'case_party_id': 0, 'amended_date': None, 'charge_id': 57777787, 'offense_date': '12/31/2023', 'party_id': 76769652}, {'charge_offense': {'description': 'OPERATE UNINSURED MTR VEHICLE', 'jurisdiction': 'CHICAGO POLICE DEPT', 'degree': 'Petty Offense', 'statute': '625 ILCS 5/3-707(a)'}, 'filed_date': '01/01/2024', 'filing_agency_description': 'Chicago Police Department', 'citation_number': 'TX001289', 'current_charge_num': '3', 'case_party_id': 0, 'amended_date': None, 'charge_id': 57777791, 'offense_date': '12/31/2023', 'party_id': 76769652}]\n"
   ]
  },
  {
   "cell_type": "code",
   "execution_count": null,
   "metadata": {},
   "outputs": [],
   "source": [
    "concat_dict_values(charges)"
   ]
  },
  {
   "cell_type": "code",
   "execution_count": null,
   "metadata": {},
   "outputs": [],
   "source": [
    "client.collections['casess'].retrieve()"
   ]
  },
  {
   "cell_type": "code",
   "execution_count": null,
   "metadata": {},
   "outputs": [],
   "source": []
  }
 ],
 "metadata": {
  "kernelspec": {
   "display_name": "fubloo",
   "language": "python",
   "name": "python3"
  },
  "language_info": {
   "codemirror_mode": {
    "name": "ipython",
    "version": 3
   },
   "file_extension": ".py",
   "mimetype": "text/x-python",
   "name": "python",
   "nbconvert_exporter": "python",
   "pygments_lexer": "ipython3",
   "version": "3.10.13"
  }
 },
 "nbformat": 4,
 "nbformat_minor": 2
}
