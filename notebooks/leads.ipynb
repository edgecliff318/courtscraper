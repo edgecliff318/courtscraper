{
 "cells": [
  {
   "cell_type": "code",
   "execution_count": 2,
   "metadata": {},
   "outputs": [],
   "source": [
    "import pandas as pd\n",
    "from src.services.leads import get_leads, get_last_lead\n",
    "from src.services.cases import get_many_cases\n",
    "from collections.abc import MutableMapping\n",
    "import datetime"
   ]
  },
  {
   "cell_type": "markdown",
   "metadata": {},
   "source": [
    "## Data Loading"
   ]
  },
  {
   "cell_type": "code",
   "execution_count": 3,
   "metadata": {},
   "outputs": [
    {
     "name": "stderr",
     "output_type": "stream",
     "text": [
      "/Users/aennassiri/Projects/Personal/ticket-washer/src/services/leads.py:104: UserWarning: Detected filter using positional arguments. Prefer using the 'filter' keyword argument instead.\n",
      "  leads_list = leads_list.where(\"case_date\", \">=\", start_date)\n",
      "/Users/aennassiri/Projects/Personal/ticket-washer/src/services/leads.py:108: UserWarning: Detected filter using positional arguments. Prefer using the 'filter' keyword argument instead.\n",
      "  leads_list = leads_list.where(\"case_date\", \"<=\", end_date)\n",
      "/Users/aennassiri/Projects/Personal/ticket-washer/src/services/leads.py:110: UserWarning: Detected filter using positional arguments. Prefer using the 'filter' keyword argument instead.\n",
      "  leads_list = leads_list.where(\"status\", \"==\", status)\n"
     ]
    }
   ],
   "source": [
    "leads_not_found = get_last_lead(\n",
    "    start_date=datetime.datetime(2023, 11, 15),\n",
    "    end_date=datetime.datetime(2023, 11, 3),\n",
    "    status='not_found',\n",
    "    limit=500\n",
    ")"
   ]
  },
  {
   "cell_type": "code",
   "execution_count": 4,
   "metadata": {},
   "outputs": [
    {
     "ename": "TypeError",
     "evalue": "object of type 'NoneType' has no len()",
     "output_type": "error",
     "traceback": [
      "\u001b[0;31m---------------------------------------------------------------------------\u001b[0m",
      "\u001b[0;31mTypeError\u001b[0m                                 Traceback (most recent call last)",
      "Cell \u001b[0;32mIn[4], line 1\u001b[0m\n\u001b[0;32m----> 1\u001b[0m \u001b[38;5;28;43mlen\u001b[39;49m\u001b[43m(\u001b[49m\u001b[43mleads_not_found\u001b[49m\u001b[43m)\u001b[49m\n",
      "\u001b[0;31mTypeError\u001b[0m: object of type 'NoneType' has no len()"
     ]
    }
   ],
   "source": [
    "len(leads_not_found)"
   ]
  },
  {
   "cell_type": "code",
   "execution_count": 5,
   "metadata": {},
   "outputs": [
    {
     "ename": "TypeError",
     "evalue": "object of type 'NoneType' has no len()",
     "output_type": "error",
     "traceback": [
      "\u001b[0;31m---------------------------------------------------------------------------\u001b[0m",
      "\u001b[0;31mTypeError\u001b[0m                                 Traceback (most recent call last)",
      "Cell \u001b[0;32mIn[5], line 6\u001b[0m\n\u001b[1;32m      2\u001b[0m \u001b[38;5;28;01mfrom\u001b[39;00m \u001b[38;5;21;01msrc\u001b[39;00m\u001b[38;5;21;01m.\u001b[39;00m\u001b[38;5;21;01mcomponents\u001b[39;00m\u001b[38;5;21;01m.\u001b[39;00m\u001b[38;5;21;01mleads\u001b[39;00m \u001b[38;5;28;01mimport\u001b[39;00m lead\n\u001b[1;32m      5\u001b[0m cases \u001b[38;5;241m=\u001b[39m []\n\u001b[0;32m----> 6\u001b[0m \u001b[38;5;28;01mfor\u001b[39;00m i \u001b[38;5;129;01min\u001b[39;00m \u001b[38;5;28mrange\u001b[39m(\u001b[38;5;241m0\u001b[39m, \u001b[38;5;28;43mlen\u001b[39;49m\u001b[43m(\u001b[49m\u001b[43mleads_not_found\u001b[49m\u001b[43m)\u001b[49m, \u001b[38;5;241m30\u001b[39m):\n\u001b[1;32m      7\u001b[0m     cases \u001b[38;5;241m+\u001b[39m\u001b[38;5;241m=\u001b[39m get_many_cases(\n\u001b[1;32m      8\u001b[0m         [lead\u001b[38;5;241m.\u001b[39mcase_id \u001b[38;5;28;01mfor\u001b[39;00m lead \u001b[38;5;129;01min\u001b[39;00m leads_not_found[i : i \u001b[38;5;241m+\u001b[39m \u001b[38;5;241m30\u001b[39m]]\n\u001b[1;32m      9\u001b[0m     )\n\u001b[1;32m     11\u001b[0m cases \u001b[38;5;241m=\u001b[39m [c \u001b[38;5;28;01mfor\u001b[39;00m c \u001b[38;5;129;01min\u001b[39;00m cases \u001b[38;5;28;01mif\u001b[39;00m c\u001b[38;5;241m.\u001b[39maddress_state_code \u001b[38;5;129;01mis\u001b[39;00m \u001b[38;5;129;01mnot\u001b[39;00m \u001b[38;5;28;01mNone\u001b[39;00m]\n",
      "\u001b[0;31mTypeError\u001b[0m: object of type 'NoneType' has no len()"
     ]
    }
   ],
   "source": [
    "# Get cases 30 by 30\n",
    "from src.components.leads import lead\n",
    "\n",
    "\n",
    "cases = []\n",
    "for i in range(0, len(leads_not_found), 30):\n",
    "    cases += get_many_cases(\n",
    "        [lead.case_id for lead in leads_not_found[i : i + 30]]\n",
    "    )\n",
    "\n",
    "cases = [c for c in cases if c.address_state_code is not None]"
   ]
  },
  {
   "cell_type": "code",
   "execution_count": 60,
   "metadata": {},
   "outputs": [],
   "source": [
    "cases = cases[:500]"
   ]
  },
  {
   "cell_type": "code",
   "execution_count": 61,
   "metadata": {},
   "outputs": [],
   "source": [
    "leads_not_found = get_last_lead(\n",
    "    start_date=datetime.datetime(2023, 10, 15),\n",
    "    end_date=datetime.datetime(2023, 11, 1),\n",
    "    status=\"contacted\",\n",
    "    limit=500,\n",
    ")"
   ]
  },
  {
   "cell_type": "code",
   "execution_count": 62,
   "metadata": {},
   "outputs": [],
   "source": [
    "for i in range(0, len(leads_not_found), 30):\n",
    "    cases += get_many_cases(\n",
    "        [lead.case_id for lead in leads_not_found[i : i + 30]]\n",
    "    )"
   ]
  },
  {
   "cell_type": "code",
   "execution_count": 63,
   "metadata": {},
   "outputs": [],
   "source": [
    "cases = [c for c in cases if c.address_state_code is not None]"
   ]
  },
  {
   "cell_type": "code",
   "execution_count": 64,
   "metadata": {},
   "outputs": [],
   "source": [
    "cases = cases[:1001]"
   ]
  },
  {
   "cell_type": "code",
   "execution_count": 65,
   "metadata": {},
   "outputs": [],
   "source": [
    "df = pd.DataFrame([case.model_dump() for case in cases])"
   ]
  },
  {
   "cell_type": "code",
   "execution_count": 66,
   "metadata": {},
   "outputs": [
    {
     "data": {
      "text/plain": [
       "Index(['case_id', 'court_id', 'participants', 'related_cases',\n",
       "       'protection_order', 'parties', 'disposed', 'legal_fileaccepted',\n",
       "       'paper_accepted', 'confidential', 'display_judgenotes',\n",
       "       'case_notecount', 'display_legalfileviewer', 'display_fileviewer',\n",
       "       'can_userseepublicdocuments', 'can_userseecasedocuments',\n",
       "       'can_userseeenoticehistory', 'can_selectdocket', 'can_seeecflinks',\n",
       "       'can_seelegalfilelinks', 'is_ticket', 'address_a_type', 'address_city',\n",
       "       'address_line_1', 'address_seq_no', 'address_state_code', 'address_zip',\n",
       "       'birth_date', 'birth_date_code', 'criminal_case', 'criminal_ind',\n",
       "       'description', 'description_code', 'first_name', 'year_of_birth',\n",
       "       'formatted_party_address', 'formatted_party_name',\n",
       "       'formatted_telephone', 'last_name', 'lit_ind', 'middle_name',\n",
       "       'party_type', 'pidm', 'pred_code', 'prosecuting_atty', 'pty_seq_no',\n",
       "       'sort_seq', 'age', 'case_desc', 'court_desc', 'location', 'filing_date',\n",
       "       'case_date', 'formatted_filingdate', 'case_type', 'case_security',\n",
       "       'case_typecode', 'vine_code', 'locn_code', 'court_code', 'vine_display',\n",
       "       'vine_id', 'dockets', 'documents', 'charges', 'judge', 'court_type',\n",
       "       'ticket_searchresult', 'fine', 'plea_andpayind', 'ticket', 'ticket_img',\n",
       "       'status', 'events', 'court_date', 'court_time', 'court_link',\n",
       "       'arrest_date', 'arrest_time', 'where_held', 'gender', 'release_info',\n",
       "       'source', 'custom'],\n",
       "      dtype='object')"
      ]
     },
     "execution_count": 66,
     "metadata": {},
     "output_type": "execute_result"
    }
   ],
   "source": [
    "df.columns"
   ]
  },
  {
   "cell_type": "code",
   "execution_count": 67,
   "metadata": {},
   "outputs": [
    {
     "data": {
      "text/plain": [
       "\"['case_id', 'court_id', 'participants', 'related_cases',\\n    'protection_order', 'parties', 'disposed', 'legal_fileaccepted',\\n    'paper_accepted', 'confidential', 'display_judgenotes',\\n    'case_notecount', 'display_legalfileviewer', 'display_fileviewer',\\n    'can_userseepublicdocuments', 'can_userseecasedocuments',\\n    'can_userseeenoticehistory', 'can_selectdocket', 'can_seeecflinks',\\n    'can_seelegalfilelinks', 'is_ticket', 'address_a_type', 'address_city',\\n    'address_line_1', 'address_seq_no', 'address_state_code', 'address_zip',\\n    'birth_date', 'birth_date_code', 'criminal_case', 'criminal_ind',\\n    'description', 'description_code', 'first_name', 'year_of_birth',\\n    'formatted_party_address', 'formatted_party_name',\\n    'formatted_telephone', 'last_name', 'lit_ind', 'middle_name',\\n    'party_type', 'pidm', 'pred_code', 'prosecuting_atty', 'pty_seq_no',\\n    'sort_seq', 'age', 'case_desc', 'court_desc', 'location', 'filing_date',\\n    'case_date', 'formatted_filingdate', 'case_type', 'case_security',\\n    'case_typecode', 'vine_code', 'locn_code', 'court_code', 'vine_display',\\n    'vine_id', 'dockets', 'documents', 'charges', 'judge', 'court_type',\\n    'ticket_searchresult', 'fine', 'plea_andpayind', 'ticket', 'ticket_img',\\n    'status', 'events', 'court_date', 'court_time', 'court_link',\\n    'arrest_date', 'arrest_time', 'where_held', 'gender', 'release_info',\\n    'source', 'custom']\\n\""
      ]
     },
     "execution_count": 67,
     "metadata": {},
     "output_type": "execute_result"
    }
   ],
   "source": [
    "# Fields\n",
    "\"\"\"['case_id', 'court_id', 'participants', 'related_cases',\n",
    "    'protection_order', 'parties', 'disposed', 'legal_fileaccepted',\n",
    "    'paper_accepted', 'confidential', 'display_judgenotes',\n",
    "    'case_notecount', 'display_legalfileviewer', 'display_fileviewer',\n",
    "    'can_userseepublicdocuments', 'can_userseecasedocuments',\n",
    "    'can_userseeenoticehistory', 'can_selectdocket', 'can_seeecflinks',\n",
    "    'can_seelegalfilelinks', 'is_ticket', 'address_a_type', 'address_city',\n",
    "    'address_line_1', 'address_seq_no', 'address_state_code', 'address_zip',\n",
    "    'birth_date', 'birth_date_code', 'criminal_case', 'criminal_ind',\n",
    "    'description', 'description_code', 'first_name', 'year_of_birth',\n",
    "    'formatted_party_address', 'formatted_party_name',\n",
    "    'formatted_telephone', 'last_name', 'lit_ind', 'middle_name',\n",
    "    'party_type', 'pidm', 'pred_code', 'prosecuting_atty', 'pty_seq_no',\n",
    "    'sort_seq', 'age', 'case_desc', 'court_desc', 'location', 'filing_date',\n",
    "    'case_date', 'formatted_filingdate', 'case_type', 'case_security',\n",
    "    'case_typecode', 'vine_code', 'locn_code', 'court_code', 'vine_display',\n",
    "    'vine_id', 'dockets', 'documents', 'charges', 'judge', 'court_type',\n",
    "    'ticket_searchresult', 'fine', 'plea_andpayind', 'ticket', 'ticket_img',\n",
    "    'status', 'events', 'court_date', 'court_time', 'court_link',\n",
    "    'arrest_date', 'arrest_time', 'where_held', 'gender', 'release_info',\n",
    "    'source', 'custom']\n",
    "\"\"\""
   ]
  },
  {
   "cell_type": "code",
   "execution_count": 87,
   "metadata": {},
   "outputs": [],
   "source": [
    "# Target fields first_name\tlast_name\tstreet\tsuite\tcity\tstate\tpostal_code\tmailing_street\n",
    "cases_not_found_fields = df[\n",
    "    [\n",
    "        \"case_id\",\n",
    "        \"first_name\",\n",
    "        \"last_name\",\n",
    "        \"middle_name\",\n",
    "        \"address_line_1\",\n",
    "        \"address_city\",\n",
    "        \"address_state_code\",\n",
    "        \"address_zip\",\n",
    "        \"formatted_party_address\",\n",
    "    ]\n",
    "].rename(\n",
    "    columns={\n",
    "        \"address_line_1\": \"street\",\n",
    "        \"address_state_code\": \"state\",\n",
    "        \"address_zip\": \"postal_code\",\n",
    "        \"address_city\": \"city\",\n",
    "        \"formatted_party_address\": \"mailing_street\",\n",
    "    }\n",
    ")"
   ]
  },
  {
   "cell_type": "code",
   "execution_count": 88,
   "metadata": {},
   "outputs": [],
   "source": [
    "# Remove the \\n from the mailing_street\n",
    "cases_not_found_fields.mailing_street = cases_not_found_fields.mailing_street.apply(\n",
    "    lambda x: x.replace(\"\\n\", \"\") if isinstance(x, str) else x\n",
    ")"
   ]
  },
  {
   "cell_type": "code",
   "execution_count": 89,
   "metadata": {},
   "outputs": [],
   "source": [
    "cases_not_found_fields.to_csv(\"cases.csv\", index=False)"
   ]
  },
  {
   "cell_type": "code",
   "execution_count": 90,
   "metadata": {},
   "outputs": [],
   "source": [
    "\n",
    "def flatten(dictionary, parent_key=\"\", separator=\"_\"):\n",
    "    items = []\n",
    "    for key, value in dictionary.items():\n",
    "        new_key = parent_key + separator + key if parent_key else key\n",
    "        if isinstance(value, MutableMapping):\n",
    "            items.extend(flatten(value, new_key, separator=separator).items())\n",
    "        else:\n",
    "            items.append((new_key, value))\n",
    "    return dict(items)\n"
   ]
  },
  {
   "cell_type": "code",
   "execution_count": null,
   "metadata": {},
   "outputs": [],
   "source": []
  }
 ],
 "metadata": {
  "kernelspec": {
   "display_name": "venv",
   "language": "python",
   "name": "python3"
  },
  "language_info": {
   "codemirror_mode": {
    "name": "ipython",
    "version": 3
   },
   "file_extension": ".py",
   "mimetype": "text/x-python",
   "name": "python",
   "nbconvert_exporter": "python",
   "pygments_lexer": "ipython3",
   "version": "3.11.6"
  },
  "orig_nbformat": 4
 },
 "nbformat": 4,
 "nbformat_minor": 2
}
