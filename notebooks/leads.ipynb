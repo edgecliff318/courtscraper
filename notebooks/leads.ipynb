{
 "cells": [
  {
   "cell_type": "code",
   "execution_count": null,
   "metadata": {},
   "outputs": [],
   "source": [
    "# Update python path to include the parent directory\n",
    "import sys\n",
    "\n",
    "sys.path.append(\"..\")"
   ]
  },
  {
   "cell_type": "code",
   "execution_count": null,
   "metadata": {},
   "outputs": [],
   "source": [
    "import pandas as pd\n",
    "from src.services.leads import get_leads, get_last_lead\n",
    "from src.services.cases import get_many_cases\n",
    "from collections.abc import MutableMapping\n",
    "import datetime"
   ]
  },
  {
   "cell_type": "markdown",
   "metadata": {},
   "source": []
  },
  {
   "cell_type": "markdown",
   "metadata": {},
   "source": [
    "## Data Loading"
   ]
  },
  {
   "cell_type": "code",
   "execution_count": null,
   "metadata": {},
   "outputs": [],
   "source": [
    "leads_not_found = get_last_lead(\n",
    "    start_date=datetime.datetime(2024, 1, 1),\n",
    "    end_date=datetime.datetime(2024, 1, 1),\n",
    "    status=\"not_found\",\n",
    "    limit=500,\n",
    ")"
   ]
  },
  {
   "cell_type": "code",
   "execution_count": null,
   "metadata": {},
   "outputs": [],
   "source": [
    "leads_not_found"
   ]
  },
  {
   "cell_type": "code",
   "execution_count": null,
   "metadata": {},
   "outputs": [],
   "source": [
    "len(leads_not_found)"
   ]
  },
  {
   "cell_type": "code",
   "execution_count": null,
   "metadata": {},
   "outputs": [],
   "source": [
    "# Get cases 30 by 30\n",
    "from src.components.leads import lead\n",
    "\n",
    "\n",
    "cases = []\n",
    "for i in range(0, len(leads_not_found), 30):\n",
    "    cases += get_many_cases(\n",
    "        [lead.case_id for lead in leads_not_found[i : i + 30]]\n",
    "    )\n",
    "\n",
    "cases = [c for c in cases if c.address_state_code is not None]"
   ]
  },
  {
   "cell_type": "code",
   "execution_count": null,
   "metadata": {},
   "outputs": [],
   "source": [
    "cases = cases[:500]"
   ]
  },
  {
   "cell_type": "code",
   "execution_count": null,
   "metadata": {},
   "outputs": [],
   "source": [
    "leads_not_found = get_last_lead(\n",
    "    start_date=datetime.datetime(2023, 10, 15),\n",
    "    end_date=datetime.datetime(2023, 11, 1),\n",
    "    status=\"contacted\",\n",
    "    limit=500,\n",
    ")"
   ]
  },
  {
   "cell_type": "code",
   "execution_count": null,
   "metadata": {},
   "outputs": [],
   "source": [
    "for i in range(0, len(leads_not_found), 30):\n",
    "    cases += get_many_cases(\n",
    "        [lead.case_id for lead in leads_not_found[i : i + 30]]\n",
    "    )"
   ]
  },
  {
   "cell_type": "code",
   "execution_count": null,
   "metadata": {},
   "outputs": [],
   "source": [
    "cases = [c for c in cases if c.address_state_code is not None]"
   ]
  },
  {
   "cell_type": "code",
   "execution_count": null,
   "metadata": {},
   "outputs": [],
   "source": [
    "cases = cases[:1001]"
   ]
  },
  {
   "cell_type": "code",
   "execution_count": null,
   "metadata": {},
   "outputs": [],
   "source": [
    "df = pd.DataFrame([case.model_dump() for case in cases])"
   ]
  },
  {
   "cell_type": "code",
   "execution_count": null,
   "metadata": {},
   "outputs": [],
   "source": [
    "df.columns"
   ]
  },
  {
   "cell_type": "code",
   "execution_count": null,
   "metadata": {},
   "outputs": [],
   "source": [
    "# Fields\n",
    "\"\"\"['case_id', 'court_id', 'participants', 'related_cases',\n",
    "    'protection_order', 'parties', 'disposed', 'legal_fileaccepted',\n",
    "    'paper_accepted', 'confidential', 'display_judgenotes',\n",
    "    'case_notecount', 'display_legalfileviewer', 'display_fileviewer',\n",
    "    'can_userseepublicdocuments', 'can_userseecasedocuments',\n",
    "    'can_userseeenoticehistory', 'can_selectdocket', 'can_seeecflinks',\n",
    "    'can_seelegalfilelinks', 'is_ticket', 'address_a_type', 'address_city',\n",
    "    'address_line_1', 'address_seq_no', 'address_state_code', 'address_zip',\n",
    "    'birth_date', 'birth_date_code', 'criminal_case', 'criminal_ind',\n",
    "    'description', 'description_code', 'first_name', 'year_of_birth',\n",
    "    'formatted_party_address', 'formatted_party_name',\n",
    "    'formatted_telephone', 'last_name', 'lit_ind', 'middle_name',\n",
    "    'party_type', 'pidm', 'pred_code', 'prosecuting_atty', 'pty_seq_no',\n",
    "    'sort_seq', 'age', 'case_desc', 'court_desc', 'location', 'filing_date',\n",
    "    'case_date', 'formatted_filingdate', 'case_type', 'case_security',\n",
    "    'case_typecode', 'vine_code', 'locn_code', 'court_code', 'vine_display',\n",
    "    'vine_id', 'dockets', 'documents', 'charges', 'judge', 'court_type',\n",
    "    'ticket_searchresult', 'fine', 'plea_andpayind', 'ticket', 'ticket_img',\n",
    "    'status', 'events', 'court_date', 'court_time', 'court_link',\n",
    "    'arrest_date', 'arrest_time', 'where_held', 'gender', 'release_info',\n",
    "    'source', 'custom']\n",
    "\"\"\""
   ]
  },
  {
   "cell_type": "code",
   "execution_count": null,
   "metadata": {},
   "outputs": [],
   "source": [
    "# Target fields first_name\tlast_name\tstreet\tsuite\tcity\tstate\tpostal_code\tmailing_street\n",
    "cases_not_found_fields = df[\n",
    "    [\n",
    "        \"case_id\",\n",
    "        \"first_name\",\n",
    "        \"last_name\",\n",
    "        \"middle_name\",\n",
    "        \"address_line_1\",\n",
    "        \"address_city\",\n",
    "        \"address_state_code\",\n",
    "        \"address_zip\",\n",
    "        \"formatted_party_address\",\n",
    "    ]\n",
    "].rename(\n",
    "    columns={\n",
    "        \"address_line_1\": \"street\",\n",
    "        \"address_state_code\": \"state\",\n",
    "        \"address_zip\": \"postal_code\",\n",
    "        \"address_city\": \"city\",\n",
    "        \"formatted_party_address\": \"mailing_street\",\n",
    "    }\n",
    ")"
   ]
  },
  {
   "cell_type": "code",
   "execution_count": null,
   "metadata": {},
   "outputs": [],
   "source": [
    "# Remove the \\n from the mailing_street\n",
    "cases_not_found_fields.mailing_street = cases_not_found_fields.mailing_street.apply(\n",
    "    lambda x: x.replace(\"\\n\", \"\") if isinstance(x, str) else x\n",
    ")"
   ]
  },
  {
   "cell_type": "code",
   "execution_count": null,
   "metadata": {},
   "outputs": [],
   "source": [
    "cases_not_found_fields.to_csv(\"cases.csv\", index=False)"
   ]
  },
  {
   "cell_type": "code",
   "execution_count": null,
   "metadata": {},
   "outputs": [],
   "source": [
    "\n",
    "def flatten(dictionary, parent_key=\"\", separator=\"_\"):\n",
    "    items = []\n",
    "    for key, value in dictionary.items():\n",
    "        new_key = parent_key + separator + key if parent_key else key\n",
    "        if isinstance(value, MutableMapping):\n",
    "            items.extend(flatten(value, new_key, separator=separator).items())\n",
    "        else:\n",
    "            items.append((new_key, value))\n",
    "    return dict(items)\n"
   ]
  },
  {
   "cell_type": "markdown",
   "metadata": {},
   "source": [
    "# Leads Analysis"
   ]
  },
  {
   "cell_type": "code",
   "execution_count": null,
   "metadata": {},
   "outputs": [],
   "source": [
    "leads_data_week_1 = get_leads(\n",
    "    start_date=datetime.datetime(2024, 1, 1),\n",
    "    end_date=datetime.datetime(2024, 1, 7),\n",
    ")"
   ]
  },
  {
   "cell_type": "code",
   "execution_count": null,
   "metadata": {},
   "outputs": [],
   "source": [
    "len(leads_data_week_1)"
   ]
  },
  {
   "cell_type": "code",
   "execution_count": null,
   "metadata": {},
   "outputs": [],
   "source": [
    "leads_data_week_2 = get_leads(\n",
    "    start_date=datetime.datetime(2024, 1, 8),\n",
    "    end_date=datetime.datetime(2024, 1, 14),\n",
    ")"
   ]
  },
  {
   "cell_type": "code",
   "execution_count": null,
   "metadata": {},
   "outputs": [],
   "source": [
    "len(leads_data_week_2)"
   ]
  },
  {
   "cell_type": "code",
   "execution_count": null,
   "metadata": {},
   "outputs": [],
   "source": [
    "df = pd.concat(\n",
    "    [\n",
    "        pd.DataFrame([lead.model_dump() for lead in leads_data_week_1]),\n",
    "        pd.DataFrame([lead.model_dump() for lead in leads_data_week_2]),\n",
    "    ]\n",
    ")"
   ]
  },
  {
   "cell_type": "code",
   "execution_count": null,
   "metadata": {},
   "outputs": [],
   "source": [
    "df[df.court_code == \"IL_COOK\"].case_id.map(lambda x : x[:8]).value_counts()"
   ]
  },
  {
   "cell_type": "code",
   "execution_count": null,
   "metadata": {},
   "outputs": [],
   "source": [
    "df[df.court_code == \"IL_COOK\"].case_id"
   ]
  },
  {
   "cell_type": "code",
   "execution_count": null,
   "metadata": {},
   "outputs": [],
   "source": [
    "df.state.fillna(\"MO\", inplace=True)"
   ]
  },
  {
   "cell_type": "code",
   "execution_count": null,
   "metadata": {},
   "outputs": [],
   "source": [
    "df[\"week\"] = df.case_date.apply(lambda x: x.isocalendar()[1])"
   ]
  },
  {
   "cell_type": "code",
   "execution_count": null,
   "metadata": {},
   "outputs": [],
   "source": [
    "df.groupby([\"week\", \"status\"]).case_id.count().to_csv(\"scraping.csv\")"
   ]
  },
  {
   "cell_type": "code",
   "execution_count": null,
   "metadata": {},
   "outputs": [],
   "source": [
    "df"
   ]
  },
  {
   "cell_type": "code",
   "execution_count": null,
   "metadata": {},
   "outputs": [],
   "source": []
  }
 ],
 "metadata": {
  "kernelspec": {
   "display_name": "venv",
   "language": "python",
   "name": "python3"
  },
  "language_info": {
   "codemirror_mode": {
    "name": "ipython",
    "version": 3
   },
   "file_extension": ".py",
   "mimetype": "text/x-python",
   "name": "python",
   "nbconvert_exporter": "python",
   "pygments_lexer": "ipython3",
   "version": "3.10.13"
  },
  "orig_nbformat": 4
 },
 "nbformat": 4,
 "nbformat_minor": 2
}
