{
 "cells": [
  {
   "cell_type": "code",
   "execution_count": 1,
   "metadata": {},
   "outputs": [
    {
     "name": "stdout",
     "output_type": "stream",
     "text": [
      "/Users/aennassiri/Projects/Personal/ticket-washer/src/core/config.py\n",
      "ROOT_PATH: /Users/aennassiri/Projects/Personal/ticket-washer\n",
      "ROOT_PATH: /Users/aennassiri/Projects/Personal/ticket-washer\n"
     ]
    }
   ],
   "source": [
    "import pandas as pd\n",
    "from src.services.cases import get_cases, get_single_case\n",
    "from src.models.cases import Case\n",
    "from collections.abc import MutableMapping\n",
    "import datetime"
   ]
  },
  {
   "cell_type": "markdown",
   "metadata": {},
   "source": [
    "## Data Loading"
   ]
  },
  {
   "cell_type": "code",
   "execution_count": 2,
   "metadata": {},
   "outputs": [
    {
     "name": "stderr",
     "output_type": "stream",
     "text": [
      "/Users/aennassiri/Projects/Personal/ticket-washer/venv/lib/python3.11/site-packages/google/cloud/firestore_v1/base_collection.py:290: UserWarning: Detected filter using positional arguments. Prefer using the 'filter' keyword argument instead.\n",
      "  return query.where(field_path, op_string, value)\n",
      "/Users/aennassiri/Projects/Personal/ticket-washer/src/services/cases.py:35: UserWarning: Detected filter using positional arguments. Prefer using the 'filter' keyword argument instead.\n",
      "  cases_list = cases_list.where(\n"
     ]
    }
   ],
   "source": [
    "cases = get_cases(\n",
    "    start_date=datetime.datetime(2023, 10, 1), \n",
    "    end_date=datetime.datetime(2023, 11, 9)\n",
    ")"
   ]
  },
  {
   "cell_type": "code",
   "execution_count": 4,
   "metadata": {},
   "outputs": [],
   "source": [
    "cases_deep_copy = [case.model_copy() for case in cases]\n",
    "\n",
    "# cases = [case.model_copy() for case in cases_deep_copy]"
   ]
  },
  {
   "cell_type": "code",
   "execution_count": 5,
   "metadata": {},
   "outputs": [],
   "source": [
    "\n",
    "def flatten(dictionary, parent_key=\"\", separator=\"_\"):\n",
    "    items = []\n",
    "    for key, value in dictionary.items():\n",
    "        new_key = parent_key + separator + key if parent_key else key\n",
    "        if isinstance(value, MutableMapping):\n",
    "            items.extend(flatten(value, new_key, separator=separator).items())\n",
    "        else:\n",
    "            items.append((new_key, value))\n",
    "    return dict(items)\n"
   ]
  },
  {
   "cell_type": "code",
   "execution_count": 6,
   "metadata": {},
   "outputs": [],
   "source": [
    "def get_case_dict(case: Case):\n",
    "    court_date = None\n",
    "    court_time = None\n",
    "    case_data = flatten(case.model_dump())\n",
    "\n",
    "    # Transform case location\n",
    "    location = case.location\n",
    "    if location is None:\n",
    "        location = \"\"\n",
    "\n",
    "    court_desc = case.court_desc\n",
    "    if court_desc is None:\n",
    "        court_desc = \"\"\n",
    "\n",
    "    if \"municipal\" in court_desc.lower() or \"municipal\" in location.lower():\n",
    "        case_data[\"city\"] = location.lower().replace(\"municipal\", \"\").upper()\n",
    "        case_data[\"location\"] = \"MUNICIPAL\"\n",
    "    elif \"circuit\" in court_desc.lower() or \"circuit\" in location.lower():\n",
    "        case_data[\"city\"] = location.lower().replace(\"circuit\", \"\").upper()\n",
    "        if \"county\" not in case_data[\"city\"].lower():\n",
    "            case_data[\"city\"] += \" COUNTY\"\n",
    "        case_data[\"location\"] = \"CIRCUIT\"\n",
    "    \n",
    "    case_data[\"city\"] = case_data.get(\"city\", \"\").replace(\"COURT\", \"\")\n",
    "    \n",
    "\n",
    "    # Adding the current date short\n",
    "    case_data[\"current_date_short\"] = (\n",
    "        datetime.datetime.now().strftime(\"%B %d, %Y\").upper()\n",
    "    )\n",
    "\n",
    "    # Adding charges \n",
    "    charges = case_data.get(\"charges\", [{\"charge_description\": \"\"}])\n",
    "    if charges:\n",
    "        case_data[\"charges_description\"] = charges[0].get(\"charge_description\", \"\")\n",
    "    else: \n",
    "        case_data[\"charges_description\"] = \"\"\n",
    "\n",
    "    # Adding the court date and time\n",
    "    emails = []\n",
    "\n",
    "    if case.dockets is not None:\n",
    "        for docket in case.dockets:\n",
    "            if docket.get(\"enotice\") is not None: \n",
    "                    print(\"enotic in here\")\n",
    "                    emails = [email.get(\"email\") for email in docket.get(\"enotice\", [])]\n",
    "            if \"initial\" in docket.get(\"docket_desc\", \"\").lower():\n",
    "                # Get the associated_docketscheduledinfo\n",
    "                schedule = docket.get(\"associated_docketscheduledinfo\", {})\n",
    "                if isinstance(schedule, list) and len(schedule) > 0:\n",
    "                    schedule = schedule.pop()\n",
    "                else:\n",
    "                    schedule = {}\n",
    "                court_date = schedule.get(\"associated_date\", \"\")\n",
    "                court_time = schedule.get(\"associated_time\", \"\")\n",
    "                break\n",
    "\n",
    "    judge = None\n",
    "\n",
    "    if case.judge is not None:\n",
    "        middle_name = case.judge.get(\"middle_name\", None)\n",
    "        if middle_name is None:\n",
    "            judge = f\"{case.judge.get('first_name', '')} {case.judge.get('last_name', '')}\"\n",
    "        else:\n",
    "            judge = f\"{case.judge.get('first_name', '')} {middle_name} {case.judge.get('last_name', '')}\"\n",
    "\n",
    "\n",
    "    output = {\n",
    "        \"case_id\": case.case_id,\n",
    "        \"first_name\": case.first_name,\n",
    "        \"last_name\": case.last_name,\n",
    "        \"middle_name\": case.middle_name,\n",
    "        \"location\": case.location,\n",
    "        \"birth_date\": case.birth_date,\n",
    "        \"court_date\": court_date,\n",
    "        \"court_time\": court_time,\n",
    "        \"judge\": judge,\n",
    "        \"current_date\": case_data.get(\"current_date_short\", \"\"),\n",
    "        \"city\": case_data.get(\"city\", \"\"),\n",
    "        \"location\": case_data.get(\"location\", \"\"),\n",
    "        \"location_original\": location,\n",
    "        \"charges_description\": case_data.get(\"charges_description\", \"\"),\n",
    "        \"emails\": emails\n",
    "    }\n",
    "    return output"
   ]
  },
  {
   "cell_type": "code",
   "execution_count": 7,
   "metadata": {},
   "outputs": [],
   "source": [
    "cases_df = pd.DataFrame([get_case_dict(c) for c in cases])"
   ]
  },
  {
   "cell_type": "code",
   "execution_count": 8,
   "metadata": {},
   "outputs": [
    {
     "data": {
      "text/plain": [
       "judge\n",
       "GARRY HELM              1215\n",
       "KEVIN KELLY             1062\n",
       "WENDY GARRISON          1011\n",
       "WILLIAM BUCHHOLZ         805\n",
       "EVAN SULLIVAN            753\n",
       "                        ... \n",
       "JOEL MILLER                1\n",
       "JENNIFER FISHER            1\n",
       "CHRISTOPHER STINNETT       1\n",
       "BENJAMIN THOMPSON          1\n",
       "ANDREW BRISCOE             1\n",
       "Name: count, Length: 296, dtype: int64"
      ]
     },
     "execution_count": 8,
     "metadata": {},
     "output_type": "execute_result"
    }
   ],
   "source": [
    "cases_df.judge.value_counts()"
   ]
  },
  {
   "cell_type": "code",
   "execution_count": 16,
   "metadata": {},
   "outputs": [],
   "source": [
    "cases_df.drop(columns=\"emails\", inplace=True)"
   ]
  },
  {
   "cell_type": "code",
   "execution_count": 17,
   "metadata": {},
   "outputs": [
    {
     "data": {
      "text/plain": [
       "location_original           judge           charges_description                                                              \n",
       "Springfield Municipal       WENDY GARRISON  Parking Violation                                                                    293\n",
       "St Louis Co Municipal       EVAN SULLIVAN   Oper Veh Without Maintaining Financial Responsibility                                270\n",
       "Springfield Municipal       WENDY GARRISON  Exceeded Posted Speed Limit (11-15 Mph Over)                                         202\n",
       "Maryland Heights Municipal  KEVIN KELLY     Oper Veh Without Maintaining Financial Responsibility                                191\n",
       "                                            Exceeded Posted Speed Limit (20-25 Mph Over)                                         187\n",
       "                                                                                                                                ... \n",
       "Liberty Municipal           THOMAS CAPPS    Speeding (26-30 Mph Over)                                                              1\n",
       "                                            Speeding - School Zone (16-20 Mph Over)                                                1\n",
       "                                            Vicious Animal - Cause Serious Injury/Death To A Person                                1\n",
       "Linn                        WILLIAM DEVOY   Authorized Or Knowingly Permitted Person To Drive Mtr Veh Who Had No Legal Rights      1\n",
       "Lathrop Municipal           KIMBERLY BROWN  Driving While Revoked Or Suspended                                                     1\n",
       "Name: case_id, Length: 6630, dtype: int64"
      ]
     },
     "execution_count": 17,
     "metadata": {},
     "output_type": "execute_result"
    }
   ],
   "source": [
    "cases_df.groupby([\"location_original\",\"judge\", \"charges_description\"]).case_id.count().sort_values(ascending=False)"
   ]
  },
  {
   "cell_type": "code",
   "execution_count": 52,
   "metadata": {},
   "outputs": [],
   "source": [
    "cases_df.charges_description.value_counts()\n",
    "\n",
    "exclude = [\n",
    "    \"expired plates\",\n",
    "    \"oper veh without\",\n",
    "    \"parking\",\n",
    "    \"seat belt\",\n",
    "    \"failed to register\",\n",
    "    \"failed to register vehicle\",\n",
    "    \"failure to register motor vehicle\",\n",
    "    \"stealing/larceny/theft\",\n",
    "    \"trespass\",\n",
    "    \"vehicle license/inspection/title\",\n",
    "    \"nuisance violation\",\n",
    "    \"driver of mtr veh failed to wear properly adjusted/ fastened safety belt\",\n",
    "    \"assault\",\n",
    "    \"resisting arrest\",\n",
    "    \"shoplifting\",\n",
    "    \"defective equipment\",\n",
    "    \"animal at large\",\n",
    "    \"equipment violation\",\n",
    "    \"possess drug paraphernalia\",\n",
    "    \"domestic assault\",\n",
    "]"
   ]
  },
  {
   "cell_type": "code",
   "execution_count": 55,
   "metadata": {},
   "outputs": [],
   "source": [
    "charges_count = cases_df[~cases_df.charges_description.map(lambda x: x.lower()).isin(exclude)].charges_description.value_counts()"
   ]
  },
  {
   "cell_type": "code",
   "execution_count": 57,
   "metadata": {},
   "outputs": [
    {
     "data": {
      "text/plain": [
       "charges_description\n",
       "Exceeded Posted Speed Limit (11-15 Mph Over)                                                                           1793\n",
       "Exceeded Posted Speed Limit (20-25 Mph Over)                                                                           1611\n",
       "Exceeded Posted Speed Limit (16-19 Mph Over)                                                                           1543\n",
       "Exceeded Posted Speed Limit (Exceeded By 11 - 15 Mph)                                                                  1473\n",
       "Exceeded Posted Speed Limit (Exceeded By 16 - 19 Mph)                                                                  1400\n",
       "Exceeded Posted Speed Limit (Exceeded By 20 - 25  Mph)                                                                 1390\n",
       "                                                                                                                        974\n",
       "Driving While Revoked Or Suspended                                                                                      675\n",
       "Fail To Stop At Stop Sign At Stop Line/Before Crosswalk/Point Nearest Intersection                                      643\n",
       "Operate Vehicle On Highway Without Valid Or No License                                                                  511\n",
       "Exceeded Posted Speed Limit (Exceeded By 6-10 Mph)                                                                      399\n",
       "Exceeded Posted Speed Limit (6-10 Mph Over)                                                                             376\n",
       "Exceeded Posted Speed Limit (1-5 Mph Over)                                                                              348\n",
       "Exceeded Posted Speed Limit (Exceeded By 26  Mph Or More)                                                               340\n",
       "Speeding (26-30 Mph Over)                                                                                               293\n",
       "Dwi - Alcohol                                                                                                           265\n",
       "Fail To Obey Traffic Control Devices                                                                                    250\n",
       "Red Light Violation                                                                                                     218\n",
       "Expired Driver's License                                                                                                186\n",
       "Improper Lane Use                                                                                                       152\n",
       "Display/Possess Plates Of Another                                                                                       151\n",
       "Followed Another Vehicle Too Closely                                                                                    145\n",
       "Display Unlawful Plates                                                                                                 142\n",
       "Miscellaneous Ordinance Violation                                                                                       142\n",
       "Operate Motor Vehicle In Careless And Imprudent Manner                                                                  141\n",
       "Weight On Tandem Axle Exceeded 34,000 Lbs                                                                               139\n",
       "Failed To Yield                                                                                                         135\n",
       "Fail To Signal/Gave Improper Signal When Stopping/ Turning Left Or Right                                                123\n",
       "Operate Motor Veh W/Vis Reducing Material Applied To Windshield/Excess Vision Reducing Matrl Applied To Side Window     115\n",
       "Failed To Drive Within Single Lane                                                                                      111\n",
       "Name: count, dtype: int64"
      ]
     },
     "execution_count": 57,
     "metadata": {},
     "output_type": "execute_result"
    }
   ],
   "source": [
    "charges_count.head(30)"
   ]
  },
  {
   "cell_type": "code",
   "execution_count": 67,
   "metadata": {},
   "outputs": [],
   "source": [
    "charges_to_filter = charges_count[\n",
    "    (charges_count > 112)\n",
    " ].index"
   ]
  },
  {
   "cell_type": "code",
   "execution_count": 72,
   "metadata": {},
   "outputs": [],
   "source": [
    "cases_df[cases_df.charges_description.isin(charges_to_filter)].groupby(\n",
    "    [\"location_original\", \"judge\", \"charges_description\"]\n",
    ").case_id.count().sort_values(ascending=False).to_csv(\"work_rules.csv\")"
   ]
  },
  {
   "cell_type": "code",
   "execution_count": 136,
   "metadata": {},
   "outputs": [
    {
     "data": {
      "text/html": [
       "<div>\n",
       "<style scoped>\n",
       "    .dataframe tbody tr th:only-of-type {\n",
       "        vertical-align: middle;\n",
       "    }\n",
       "\n",
       "    .dataframe tbody tr th {\n",
       "        vertical-align: top;\n",
       "    }\n",
       "\n",
       "    .dataframe thead th {\n",
       "        text-align: right;\n",
       "    }\n",
       "</style>\n",
       "<table border=\"1\" class=\"dataframe\">\n",
       "  <thead>\n",
       "    <tr style=\"text-align: right;\">\n",
       "      <th></th>\n",
       "      <th>case_id</th>\n",
       "      <th>first_name</th>\n",
       "      <th>last_name</th>\n",
       "      <th>middle_name</th>\n",
       "      <th>location</th>\n",
       "      <th>birth_date</th>\n",
       "      <th>court_date</th>\n",
       "      <th>court_time</th>\n",
       "      <th>judge</th>\n",
       "      <th>current_date</th>\n",
       "      <th>city</th>\n",
       "      <th>location_original</th>\n",
       "      <th>charges_description</th>\n",
       "      <th>emails</th>\n",
       "    </tr>\n",
       "  </thead>\n",
       "  <tbody>\n",
       "    <tr>\n",
       "      <th>count</th>\n",
       "      <td>9302</td>\n",
       "      <td>9265</td>\n",
       "      <td>9302</td>\n",
       "      <td>8111</td>\n",
       "      <td>9113</td>\n",
       "      <td>9011</td>\n",
       "      <td>9030</td>\n",
       "      <td>9030</td>\n",
       "      <td>9059</td>\n",
       "      <td>9302</td>\n",
       "      <td>9302</td>\n",
       "      <td>9302</td>\n",
       "      <td>9302</td>\n",
       "      <td>9302</td>\n",
       "    </tr>\n",
       "    <tr>\n",
       "      <th>unique</th>\n",
       "      <td>9302</td>\n",
       "      <td>2784</td>\n",
       "      <td>4935</td>\n",
       "      <td>1864</td>\n",
       "      <td>2</td>\n",
       "      <td>6045</td>\n",
       "      <td>76</td>\n",
       "      <td>32</td>\n",
       "      <td>240</td>\n",
       "      <td>1</td>\n",
       "      <td>305</td>\n",
       "      <td>305</td>\n",
       "      <td>247</td>\n",
       "      <td>1</td>\n",
       "    </tr>\n",
       "    <tr>\n",
       "      <th>top</th>\n",
       "      <td>120266318</td>\n",
       "      <td>MICHAEL</td>\n",
       "      <td>SMITH</td>\n",
       "      <td>MARIE</td>\n",
       "      <td>MUNICIPAL</td>\n",
       "      <td>01/01/0001</td>\n",
       "      <td>11/01/2023</td>\n",
       "      <td>9:00 AM</td>\n",
       "      <td>GARRY HELM</td>\n",
       "      <td>SEPTEMBER 29, 2023</td>\n",
       "      <td>INDEPENDENCE</td>\n",
       "      <td>Independence Municipal</td>\n",
       "      <td>Expired Plates</td>\n",
       "      <td>[]</td>\n",
       "    </tr>\n",
       "    <tr>\n",
       "      <th>freq</th>\n",
       "      <td>1</td>\n",
       "      <td>148</td>\n",
       "      <td>95</td>\n",
       "      <td>244</td>\n",
       "      <td>6419</td>\n",
       "      <td>144</td>\n",
       "      <td>542</td>\n",
       "      <td>2846</td>\n",
       "      <td>346</td>\n",
       "      <td>9302</td>\n",
       "      <td>476</td>\n",
       "      <td>476</td>\n",
       "      <td>687</td>\n",
       "      <td>9302</td>\n",
       "    </tr>\n",
       "  </tbody>\n",
       "</table>\n",
       "</div>"
      ],
      "text/plain": [
       "          case_id first_name last_name middle_name   location  birth_date  \\\n",
       "count        9302       9265      9302        8111       9113        9011   \n",
       "unique       9302       2784      4935        1864          2        6045   \n",
       "top     120266318    MICHAEL     SMITH       MARIE  MUNICIPAL  01/01/0001   \n",
       "freq            1        148        95         244       6419         144   \n",
       "\n",
       "        court_date court_time       judge        current_date           city  \\\n",
       "count         9030       9030        9059                9302           9302   \n",
       "unique          76         32         240                   1            305   \n",
       "top     11/01/2023    9:00 AM  GARRY HELM  SEPTEMBER 29, 2023  INDEPENDENCE    \n",
       "freq           542       2846         346                9302            476   \n",
       "\n",
       "             location_original charges_description emails  \n",
       "count                     9302                9302   9302  \n",
       "unique                     305                 247      1  \n",
       "top     Independence Municipal      Expired Plates     []  \n",
       "freq                       476                 687   9302  "
      ]
     },
     "execution_count": 136,
     "metadata": {},
     "output_type": "execute_result"
    }
   ],
   "source": [
    "cases_df.describe()"
   ]
  },
  {
   "cell_type": "code",
   "execution_count": 137,
   "metadata": {},
   "outputs": [],
   "source": [
    "cases_df.to_csv(\"cases.csv\", index=False)"
   ]
  },
  {
   "cell_type": "code",
   "execution_count": 138,
   "metadata": {},
   "outputs": [],
   "source": [
    "case  = get_single_case(\"704214538\")"
   ]
  },
  {
   "cell_type": "code",
   "execution_count": 139,
   "metadata": {},
   "outputs": [
    {
     "data": {
      "text/plain": [
       "'{\"case_id\":\"704214538\",\"court_id\":\"SMPDB0005_CT44\",\"participants\":[\"InbqrNIkfNR7Xeh5vZcA\",\"yg4GNTLwK0e9pcRIv4Ee\"],\"related_cases\":null,\"protection_order\":false,\"parties\":[{\"other_attorneylist\":[],\"pred_code\":\"ZZ\",\"desc\":\"Defendant\",\"pty_seqno\":2,\"birth_date\":\"09/16/2000\",\"lit_ind\":\"Y\",\"mid_initial\":\"EDWIN\",\"pidm\":90154411,\"addr_line1\":\"101 JURY LN\",\"addr_city\":\"BRANSON\",\"birth_datecode\":\"Y\",\"desc_code\":\"DFT\",\"formatted_partyaddress\":\"101 JURY LN\\\\nBRANSON, MO 65616\",\"last_name\":\"DEHART\",\"addr_statcode\":\"MO\",\"co_attorneylist\":[],\"formatted_telephone\":\"\",\"attorney_list\":[],\"addr_atyp\":\"MA\",\"formatted_birthdate\":\"2000\",\"prosecuting_atty\":false,\"criminal_ind\":\"N\",\"sort_seq\":4,\"addr_seqno\":1,\"assoc\":0,\"addr_zip\":\"65616\",\"first_name\":\"DORIAN\",\"party_type\":\"party\",\"formatted_partyname\":\"DEHART, DORIAN EDWIN\",\"criminal_case\":false},{\"addr_statcode\":\"MO\",\"other_attorneylist\":[],\"co_attorneylist\":[],\"pred_code\":\"ZZ\",\"desc\":\"Prosecuting Attorney\",\"addr_line2\":\"COURTHOUSE 2ND FLOOR\",\"pty_seqno\":1,\"formatted_telephone\":\"\",\"attorney_list\":[],\"addr_atyp\":\"BU\",\"sort_seq\":8,\"prosecuting_atty\":false,\"criminal_ind\":\"N\",\"addr_seqno\":1,\"assoc\":0,\"addr_zip\":\"65667\",\"first_name\":\"JOHN\",\"mid_initial\":\"ANDREW\",\"addr_line1\":\"125 COURT SQUARE\",\"formatted_partyname\":\"TYRRELL, JOHN ANDREW\",\"criminal_case\":false,\"party_type\":\"attorney\",\"pidm\":90007495,\"addr_city\":\"HARTVILLE\",\"desc_code\":\"PA\",\"formatted_partyaddress\":\"125 COURT SQUARE\\\\nCOURTHOUSE 2ND FLOOR\\\\nHARTVILLE, MO 65667\",\"last_name\":\"TYRRELL\"}],\"disposed\":false,\"legal_fileaccepted\":false,\"paper_accepted\":false,\"confidential\":false,\"display_judgenotes\":false,\"case_notecount\":0,\"display_legalfileviewer\":false,\"display_fileviewer\":true,\"can_userseepublicdocuments\":false,\"can_userseecasedocuments\":true,\"can_userseeenoticehistory\":false,\"can_selectdocket\":true,\"can_seeecflinks\":true,\"can_seelegalfilelinks\":true,\"is_ticket\":false,\"address_a_type\":\"MA\",\"address_city\":\"BRANSON\",\"address_line_1\":\"101 JURY LN\",\"address_seq_no\":1,\"address_state_code\":\"MO\",\"address_zip\":\"65616\",\"birth_date\":\"09/16/2000\",\"birth_date_code\":\"Y\",\"criminal_case\":false,\"criminal_ind\":\"N\",\"description\":\"Defendant\",\"description_code\":\"DFT\",\"first_name\":\"DORIAN\",\"year_of_birth\":\"2000\",\"formatted_party_address\":\"101 JURY LN\\\\nBRANSON, MO 65616\",\"formatted_party_name\":\"DEHART, DORIAN EDWIN\",\"formatted_telephone\":\"\",\"last_name\":\"DEHART\",\"lit_ind\":\"Y\",\"middle_name\":\"EDWIN\",\"party_type\":\"party\",\"pidm\":90154411,\"pred_code\":\"ZZ\",\"prosecuting_atty\":false,\"pty_seq_no\":2,\"sort_seq\":4,\"age\":23,\"case_desc\":\"ST V DORIAN EDWIN DEHART\",\"court_desc\":\"44th Judicial Circuit\",\"location\":\"Wright\",\"filing_date\":\"2023-09-24T00:00:00Z\",\"case_date\":\"2023-09-24T00:00:00Z\",\"formatted_filingdate\":\"09/24/2023\",\"case_type\":\"Criminal/Infract.- see Charges\",\"case_security\":\"1\",\"case_typecode\":\"T2\",\"vine_code\":\"412\",\"locn_code\":\"WR\",\"court_code\":\"SMPDB0005_CT44\",\"vine_display\":\"Y\",\"vine_id\":\"704214538\",\"dockets\":[{\"filing_date\":\"09/24/2023\",\"pred_code\":\"ZHESC\",\"docket_code\":\"SCIR\",\"document_id\":0,\"filing_partyfullname\":\"\",\"hrng_outcome\":\"N\",\"associated_docketinfodetails\":[],\"sequence_number\":4,\"can_seecasedocuments\":false,\"behalf_ofpartiesnames\":\"\",\"document\":[],\"associated_docketscheduledinfo\":[{\"associated_name\":\"LYNETTE B VEENSTRA\",\"assoc_filingpartymidinitial\":\"B\",\"associated_date\":\"10/11/2023\",\"assoc_filingpartylastname\":\"VEENSTRA\",\"associated_description\":\"Initial Appearance\",\"document_id\":0,\"assoc_dockseq\":4,\"main_dockseq\":0,\"associated_time\":\"1:00 PM\",\"associated_text\":\"Wright\",\"assoc_filingpartyfirstname\":\"LYNETTE\",\"assoc_dtyppredcode\":\"C\"}],\"whichone\":4,\"docket_desc\":\"Initial Appearance\",\"dtyp_predcode\":\"ZZ\",\"confidential\":false},{\"confidential\":false,\"filing_date\":\"09/24/2023\",\"pred_code\":\"ZFILE\",\"docket_code\":\"FINSH\",\"document_id\":0,\"filing_partyfullname\":\"JOHN ANDREW TYRRELL\",\"hrng_outcome\":\"N\",\"associated_docketinfodetails\":[],\"sequence_number\":3,\"can_seecasedocuments\":false,\"display_sortseq\":\"8\",\"filing_partymidinitial\":\"ANDREW\",\"behalf_ofpartiesnames\":\"\",\"document\":[],\"associated_docketscheduledinfo\":[],\"whichone\":3,\"filing_partyfirstname\":\"JOHN\",\"event_desc\":\"Prosecuting Attorney\",\"docket_desc\":\"Confid Filing Info Sheet Filed\",\"dtyp_predcode\":\"ZZ\",\"filing_partylastname\":\"TYRRELL\"},{\"confidential\":false,\"filing_date\":\"09/24/2023\",\"pred_code\":\"ZFICA\",\"docket_code\":\"AUTT\",\"document_id\":0,\"filing_partyfullname\":\"JOHN ANDREW TYRRELL\",\"hrng_outcome\":\"N\",\"associated_docketinfodetails\":[],\"sequence_number\":2,\"can_seecasedocuments\":true,\"display_sortseq\":\"8\",\"filing_partymidinitial\":\"ANDREW\",\"behalf_ofpartiesnames\":\"\",\"document\":[],\"associated_docketscheduledinfo\":[],\"whichone\":2,\"filing_partyfirstname\":\"JOHN\",\"event_desc\":\"Prosecuting Attorney\",\"docket_desc\":\"Information Filed by Citation\",\"dtyp_predcode\":\"ZZ\",\"filing_partylastname\":\"TYRRELL\"},{\"filing_date\":\"09/24/2023\",\"pred_code\":\"ZFILE\",\"docket_code\":\"FREDI\",\"document_id\":0,\"filing_partyfullname\":\"\",\"hrng_outcome\":\"N\",\"associated_docketinfodetails\":[],\"sequence_number\":1,\"can_seecasedocuments\":false,\"behalf_ofpartiesnames\":\"\",\"document\":[],\"associated_docketscheduledinfo\":[],\"whichone\":1,\"docket_desc\":\"CRIFS/Unredacted Document\",\"dtyp_predcode\":\"ZZ\",\"confidential\":false}],\"documents\":[{\"document_extension\":\"PDF\",\"file_path\":\"230459564_704214538_Uniform_Citation_Redacted?courtCode=SMPDB0005_CT44&di=1249877.pdf\",\"document_id\":1249877,\"document_title\":\"230459564_704214538_Uniform_Citation_Redacted\",\"docket_seq\":2,\"document_securitylevel\":1,\"docket_desc\":\"Information Filed by Citation\"}],\"charges\":[{\"boundover\":false,\"charge_filingdate\":\"08/24/2023\",\"charge_codeleveldescription\":\"Misdemeanor C\",\"charge_pidm\":\"90154411\",\"ticket_number\":\"704214538\",\"charge_predcode\":\"ZSPE\",\"charge_code\":\"304.010-004N199954.0\",\"sub_case\":\"704214538\",\"case_id\":\"704214538\",\"ncic_code\":\"05\",\"charge_number\":\"1\",\"charge_codelevel\":\"MC\",\"statute_number\":\"304.010\",\"charge_description\":\"Exceeded Posted Speed Limit (Exceeded By 11 - 15 Mph)\"}],\"judge\":{\"formatted_name\":\"VEENSTRA, LYNETTE B\",\"middle_initials\":\"B\",\"first_name\":\"LYNETTE\",\"last_name\":\"VEENSTRA\"},\"court_type\":\"C\",\"ticket_searchresult\":{\"ooc_eligible\":\"Y\",\"na_ind\":\"Y\"},\"fine\":{\"default_courtcost\":71.5,\"total_amount\":\"142.00\",\"total_vbfineamount\":70.5},\"plea_andpayind\":\"Y\",\"ticket\":{\"case-id\":\"704214538\",\"ticket-posted-speed-limit\":null,\"client-birthdate\":\"August 24, 2023\",\"client-name\":null,\"court-time\":\"August 24, 2023\",\"ticket-speed\":null,\"court-type\":\"CIRCUIT\",\"offense\":null,\"court-phone\":\"(417) 741-7121\",\"client-driver-license\":\"EMPLOYER\",\"court-city\":\" MO\",\"court-jurisdiction\":null,\"state\":\"MISSOURI\",\"current-date\":\"September 26, 2023\"},\"ticket_img\":\"704214538.png\",\"status\":null,\"events\":[{\"date\":\"2023-09-28T18:12:14.186190Z\",\"template\":\"MO_Entry of Appearance\",\"case_id\":\"704214538\",\"document\":\"cases/704214538/MO_Entry of Appearance.pdf\"},{\"date\":\"2023-09-28T18:17:41.225438Z\",\"template\":\"MO_Motion for Continuance - No Contact with Prosecutor\",\"case_id\":\"704214538\",\"document\":\"cases/704214538/MO_Motion for Continuance - No Contact with Prosecutor.pdf\"},{\"date\":\"2023-09-28T18:18:19.622293Z\",\"template\":\"MO_Proposed Order Granting Motion for Continuance \",\"case_id\":\"704214538\",\"document\":\"cases/704214538/MO_Proposed Order Granting Motion for Continuance .pdf\"}],\"court_date\":null,\"court_time\":null,\"court_link\":null,\"arrest_date\":null,\"arrest_time\":null,\"where_held\":null,\"gender\":null,\"release_info\":null,\"source\":null}'"
      ]
     },
     "execution_count": 139,
     "metadata": {},
     "output_type": "execute_result"
    }
   ],
   "source": [
    "case.model_dump_json()"
   ]
  },
  {
   "cell_type": "code",
   "execution_count": null,
   "metadata": {},
   "outputs": [],
   "source": []
  }
 ],
 "metadata": {
  "kernelspec": {
   "display_name": "venv",
   "language": "python",
   "name": "python3"
  },
  "language_info": {
   "codemirror_mode": {
    "name": "ipython",
    "version": 3
   },
   "file_extension": ".py",
   "mimetype": "text/x-python",
   "name": "python",
   "nbconvert_exporter": "python",
   "pygments_lexer": "ipython3",
   "version": "3.11.6"
  },
  "orig_nbformat": 4
 },
 "nbformat": 4,
 "nbformat_minor": 2
}
