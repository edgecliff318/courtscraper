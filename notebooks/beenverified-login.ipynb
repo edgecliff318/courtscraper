{
 "cells": [
  {
   "cell_type": "code",
   "execution_count": 1,
   "metadata": {},
   "outputs": [],
   "source": [
    "from playwright.async_api import async_playwright\n",
    "import os\n",
    "import json\n"
   ]
  },
  {
   "cell_type": "markdown",
   "metadata": {},
   "source": [
    "## Define Variables\n"
   ]
  },
  {
   "cell_type": "code",
   "execution_count": 2,
   "metadata": {},
   "outputs": [],
   "source": [
    "LOGIN_PAGE_URL = \"https://www.beenverified.com/app/login\"\n",
    "HOME_PAGE_URL = \"https://www.beenverified.com\"\n",
    "REPORT_PAGE_URL = \"https://www.beenverified.com/api/v5/reports\"\n",
    "SEARCH_PAGE_URL = \"https://www.beenverified.com/rf/search/person\"\n",
    "#\n",
    "EMAIL=\"TTDwoman@gmail.com\"\n",
    "PASSWORD=\"0TTD2023!\""
   ]
  },
  {
   "cell_type": "code",
   "execution_count": 3,
   "metadata": {},
   "outputs": [],
   "source": [
    "pw = await async_playwright().start()\n",
    "browser = await pw.chromium.launch(headless=False)\n",
    "\n",
    "USER_AGENT = \"Mozilla/5.0 (Windows NT 10.0; Win64; x64) AppleWebKit/537.36 (KHTML, like Gecko) Chrome/88.0.4324.150 Safari/537.36\"\n",
    "\n"
   ]
  },
  {
   "cell_type": "code",
   "execution_count": 4,
   "metadata": {},
   "outputs": [],
   "source": [
    "context = await browser.new_context(user_agent=USER_AGENT)\n",
    "page =  await context.new_page()"
   ]
  },
  {
   "cell_type": "markdown",
   "metadata": {},
   "source": [
    "## Login"
   ]
  },
  {
   "cell_type": "code",
   "execution_count": 11,
   "metadata": {},
   "outputs": [
    {
     "data": {
      "text/plain": [
       "<Response url='https://www.beenverified.com/' request=<Request url='https://www.beenverified.com/' method='GET'>>"
      ]
     },
     "execution_count": 11,
     "metadata": {},
     "output_type": "execute_result"
    }
   ],
   "source": [
    "await page.goto(HOME_PAGE_URL)\n"
   ]
  },
  {
   "cell_type": "code",
   "execution_count": 6,
   "metadata": {},
   "outputs": [
    {
     "data": {
      "text/plain": [
       "<Response url='https://www.beenverified.com/rf/dashboard' request=<Request url='https://www.beenverified.com/rf/dashboard' method='GET'>>"
      ]
     },
     "execution_count": 6,
     "metadata": {},
     "output_type": "execute_result"
    }
   ],
   "source": [
    "await page.goto(\"https://www.beenverified.com/rf/dashboard\")"
   ]
  },
  {
   "cell_type": "code",
   "execution_count": 7,
   "metadata": {},
   "outputs": [
    {
     "data": {
      "text/plain": [
       "{'cookies': [{'name': 'flw_dat',\n",
       "   'value': 'eyJmbG93X2NhdGVnb3J5IjoiaG9tZXBhZ2UiLCJmbG93X3R5cGUiOiJwZW9w%0AbGUiLCJmbG93X3VpZCI6ImExOTc2MyIsInBhZ2VfY2F0ZWdvcnkiOiJsYW5k%0AaW5nIn0%3D%0A',\n",
       "   'domain': 'www.beenverified.com',\n",
       "   'path': '/',\n",
       "   'expires': -1,\n",
       "   'httpOnly': False,\n",
       "   'secure': False,\n",
       "   'sameSite': 'Lax'},\n",
       "  {'name': '__cf_bm',\n",
       "   'value': 'Obf_8q0wtz2tLPVkdkkSogpHh03GpjIqEyFVSwmyDYI-1709329426-1.0.1.1-r6EsP4tRuQnOUfRSLdDHp2Q5s2mcEPa6jTZVdgsTPuHsAu8jejaexJOlLiIroEM095gfAQCLYxGH502Kzjfi4g',\n",
       "   'domain': '.beenverified.com',\n",
       "   'path': '/',\n",
       "   'expires': 1709331226.209193,\n",
       "   'httpOnly': True,\n",
       "   'secure': True,\n",
       "   'sameSite': 'None'},\n",
       "  {'name': '__cf_bm',\n",
       "   'value': 'KVa_XFQcV5SkkLVbBs8RtZCTTvn4lJ2NsBOw.1Xs1m0-1709329427-1.0.1.1-GGvRvOGI4e1PGHcnvBW1IlI2nDkLL4i.WlbHwb0NLl2xxbGjks9v5O2R5sIxsWiuubNhwy6j5fBJgZW_6gMFCQ',\n",
       "   'domain': '.ltvops.com',\n",
       "   'path': '/',\n",
       "   'expires': 1709331227.508841,\n",
       "   'httpOnly': True,\n",
       "   'secure': True,\n",
       "   'sameSite': 'None'},\n",
       "  {'name': 'bv_sess',\n",
       "   'value': '5ca5dc10-3ba1-4d04-80c1-222e1b2b9e35',\n",
       "   'domain': '.beenverified.com',\n",
       "   'path': '/',\n",
       "   'expires': 1740847426,\n",
       "   'httpOnly': False,\n",
       "   'secure': False,\n",
       "   'sameSite': 'Lax'},\n",
       "  {'name': 'bv_ref',\n",
       "   'value': '',\n",
       "   'domain': '.beenverified.com',\n",
       "   'path': '/',\n",
       "   'expires': 1713199426,\n",
       "   'httpOnly': False,\n",
       "   'secure': False,\n",
       "   'sameSite': 'Lax'},\n",
       "  {'name': 'bv_ent',\n",
       "   'value': 'https://www.beenverified.com/',\n",
       "   'domain': '.beenverified.com',\n",
       "   'path': '/',\n",
       "   'expires': 1713199426,\n",
       "   'httpOnly': False,\n",
       "   'secure': False,\n",
       "   'sameSite': 'Lax'},\n",
       "  {'name': 'bv_dat',\n",
       "   'value': '1709329428.048',\n",
       "   'domain': '.beenverified.com',\n",
       "   'path': '/',\n",
       "   'expires': 1713199426,\n",
       "   'httpOnly': False,\n",
       "   'secure': False,\n",
       "   'sameSite': 'Lax'},\n",
       "  {'name': 'bv_sup',\n",
       "   'value': 'https://www.beenverified.com/',\n",
       "   'domain': '.beenverified.com',\n",
       "   'path': '/',\n",
       "   'expires': 1713199426,\n",
       "   'httpOnly': False,\n",
       "   'secure': False,\n",
       "   'sameSite': 'Lax'},\n",
       "  {'name': '_gid',\n",
       "   'value': 'GA1.2.1542686914.1709329429',\n",
       "   'domain': '.beenverified.com',\n",
       "   'path': '/',\n",
       "   'expires': 1709415829,\n",
       "   'httpOnly': False,\n",
       "   'secure': False,\n",
       "   'sameSite': 'Lax'},\n",
       "  {'name': '_dc_gtm_UA-546951-7',\n",
       "   'value': '1',\n",
       "   'domain': '.beenverified.com',\n",
       "   'path': '/',\n",
       "   'expires': 1709329489,\n",
       "   'httpOnly': False,\n",
       "   'secure': False,\n",
       "   'sameSite': 'Lax'},\n",
       "  {'name': '_gcl_au',\n",
       "   'value': '1.1.904827991.1709329430',\n",
       "   'domain': '.beenverified.com',\n",
       "   'path': '/',\n",
       "   'expires': 1717105430,\n",
       "   'httpOnly': False,\n",
       "   'secure': False,\n",
       "   'sameSite': 'Lax'},\n",
       "  {'name': 'flow_type',\n",
       "   'value': 'people',\n",
       "   'domain': '.beenverified.com',\n",
       "   'path': '/',\n",
       "   'expires': 1709415829,\n",
       "   'httpOnly': False,\n",
       "   'secure': False,\n",
       "   'sameSite': 'Lax'},\n",
       "  {'name': '_ga',\n",
       "   'value': 'GA1.2.1218606019.1709329429',\n",
       "   'domain': '.beenverified.com',\n",
       "   'path': '/',\n",
       "   'expires': 1743889429.825091,\n",
       "   'httpOnly': False,\n",
       "   'secure': False,\n",
       "   'sameSite': 'Lax'},\n",
       "  {'name': 'bv_ref',\n",
       "   'value': '',\n",
       "   'domain': '.www.beenverified.com',\n",
       "   'path': '/',\n",
       "   'expires': 1713213832,\n",
       "   'httpOnly': False,\n",
       "   'secure': False,\n",
       "   'sameSite': 'Lax'},\n",
       "  {'name': 'bv_ent',\n",
       "   'value': 'https://www.beenverified.com/rf/dashboard',\n",
       "   'domain': '.www.beenverified.com',\n",
       "   'path': '/',\n",
       "   'expires': 1713213832,\n",
       "   'httpOnly': False,\n",
       "   'secure': False,\n",
       "   'sameSite': 'Lax'},\n",
       "  {'name': 'bv_dat',\n",
       "   'value': '1709329432.024',\n",
       "   'domain': '.www.beenverified.com',\n",
       "   'path': '/',\n",
       "   'expires': 1713213832,\n",
       "   'httpOnly': False,\n",
       "   'secure': False,\n",
       "   'sameSite': 'Lax'},\n",
       "  {'name': '_ga',\n",
       "   'value': 'GA1.1.1218606019.1709329429',\n",
       "   'domain': 'www.beenverified.com',\n",
       "   'path': '/',\n",
       "   'expires': 1743889432.035135,\n",
       "   'httpOnly': False,\n",
       "   'secure': False,\n",
       "   'sameSite': 'Lax'},\n",
       "  {'name': '_gid',\n",
       "   'value': 'GA1.1.1542686914.1709329429',\n",
       "   'domain': 'www.beenverified.com',\n",
       "   'path': '/',\n",
       "   'expires': 1709415832,\n",
       "   'httpOnly': False,\n",
       "   'secure': False,\n",
       "   'sameSite': 'Lax'},\n",
       "  {'name': '_hjSessionUser_25826',\n",
       "   'value': 'eyJpZCI6ImUyNmFkZTA4LTE2NGUtNTMwOC05MThlLTI4ZDEyMjBiNWZjNiIsImNyZWF0ZWQiOjE3MDkzMjk0MzIxNTMsImV4aXN0aW5nIjpmYWxzZX0=',\n",
       "   'domain': '.beenverified.com',\n",
       "   'path': '/',\n",
       "   'expires': 1740865432,\n",
       "   'httpOnly': False,\n",
       "   'secure': True,\n",
       "   'sameSite': 'None'},\n",
       "  {'name': '_hjSession_25826',\n",
       "   'value': 'eyJpZCI6ImI1YTMyNzQ0LTNjN2QtNDVhYi1hNjA4LWFjYWNjYjMxY2VjNCIsImMiOjE3MDkzMjk0MzIxNTQsInMiOjAsInIiOjAsInNiIjowLCJzciI6MCwic2UiOjAsImZzIjoxLCJzcCI6MX0=',\n",
       "   'domain': '.beenverified.com',\n",
       "   'path': '/',\n",
       "   'expires': 1709331232,\n",
       "   'httpOnly': False,\n",
       "   'secure': True,\n",
       "   'sameSite': 'None'},\n",
       "  {'name': '_hjHasCachedUserAttributes',\n",
       "   'value': 'true',\n",
       "   'domain': 'www.beenverified.com',\n",
       "   'path': '/',\n",
       "   'expires': -1,\n",
       "   'httpOnly': False,\n",
       "   'secure': True,\n",
       "   'sameSite': 'None'},\n",
       "  {'name': '_beenverified3_session',\n",
       "   'value': 'VHlWN0ZISjZQZmlvWTNzWElRcEhBRXBzMUxVNE1pRXRWUFdQOEZPSktQb0xUMmJsS3M2TUtjK2s2bEZFNHNQM0IyMXQzQmhkaHFvcGdJM3JwMzYzaU51c0dRUkZrN0pnc3l6b0dBVWxlUDlyUGNvZ0V5MWlOK0tmODNJL29RdCs1NzJoa1F0c3k3NkZrUXNmMWVaV3RkK082ZkNGY2pMcENrdUNtVnA2S2lOTjFBckpGZzNUUGJOcDhLbENRSFZMLS1FSGFDOGgwZkhzRmxkK3hxalRPRjZnPT0%3D--7c1d1aea7c057d772f761601fda116802e40e9a7',\n",
       "   'domain': 'www.beenverified.com',\n",
       "   'path': '/',\n",
       "   'expires': 1713213832.360334,\n",
       "   'httpOnly': True,\n",
       "   'secure': True,\n",
       "   'sameSite': 'Lax'},\n",
       "  {'name': 'ts',\n",
       "   'value': 'vreXpYrS%3D1803937432%26vteXpYrS%3D1709331232%26vr%3Dfbf9413418d0aa58d145d2e1fcb51a00%26vt%3Dfbf9413418d0aa58d145d2e1fcb519ff',\n",
       "   'domain': '.paypal.com',\n",
       "   'path': '/',\n",
       "   'expires': 1743889432.734755,\n",
       "   'httpOnly': True,\n",
       "   'secure': True,\n",
       "   'sameSite': 'None'},\n",
       "  {'name': 'ts_c',\n",
       "   'value': 'vr%3Dfbf9413418d0aa58d145d2e1fcb51a00%26vt%3Dfbf9413418d0aa58d145d2e1fcb519ff',\n",
       "   'domain': '.paypal.com',\n",
       "   'path': '/',\n",
       "   'expires': 1743889432.73483,\n",
       "   'httpOnly': False,\n",
       "   'secure': True,\n",
       "   'sameSite': 'None'},\n",
       "  {'name': '_ga_LBVP7VLK40',\n",
       "   'value': 'GS1.1.1709329429.1.1.1709329433.56.0.0',\n",
       "   'domain': '.beenverified.com',\n",
       "   'path': '/',\n",
       "   'expires': 1743889433.094563,\n",
       "   'httpOnly': False,\n",
       "   'secure': True,\n",
       "   'sameSite': 'None'},\n",
       "  {'name': 'NID',\n",
       "   'value': '512=saQBw4F0VAC1QIS5kS850oOprU1qLheit1tN9iyaiXJIr-law4aLsMYFZ4kmELGfGLu37QNOMe67OuR8f7ouLEscaqP1lEizcyVOySDHkZsI03rd4YZkFHaB-UTaR6kHHzdtrwPRwxY5sP7WS4WJtX_S1A_-J8i86wWdFZmb6MM',\n",
       "   'domain': '.google.com',\n",
       "   'path': '/',\n",
       "   'expires': 1725140633.467783,\n",
       "   'httpOnly': True,\n",
       "   'secure': True,\n",
       "   'sameSite': 'None'},\n",
       "  {'name': 'tatari-cookie-test',\n",
       "   'value': '78980743',\n",
       "   'domain': 'www.beenverified.com',\n",
       "   'path': '/',\n",
       "   'expires': 1743889434.061988,\n",
       "   'httpOnly': False,\n",
       "   'secure': False,\n",
       "   'sameSite': 'Lax'},\n",
       "  {'name': 'tatari-session-cookie',\n",
       "   'value': '4ed2b3a3-2c26-27ee-314b-cdf60a1850d1',\n",
       "   'domain': '.beenverified.com',\n",
       "   'path': '/',\n",
       "   'expires': 1743889434.070117,\n",
       "   'httpOnly': False,\n",
       "   'secure': False,\n",
       "   'sameSite': 'Lax'},\n",
       "  {'name': 't-ip',\n",
       "   'value': '1',\n",
       "   'domain': '.beenverified.com',\n",
       "   'path': '/',\n",
       "   'expires': 1709329734,\n",
       "   'httpOnly': False,\n",
       "   'secure': False,\n",
       "   'sameSite': 'Lax'}],\n",
       " 'origins': [{'origin': 'https://www.beenverified.com',\n",
       "   'localStorage': [{'name': '_hjUserAttributes',\n",
       "     'value': 'eyJhdHRyaWJ1dGVzIjp7InVzZXJfY29kZSI6bnVsbCwidXRtX2NhbXBhaWduIjpudWxsLCJ1dG1fc291cmNlIjpudWxsfSwidXNlcklkIjoiNWNhNWRjMTAtM2JhMS00ZDA0LTgwYzEtMjIyZTFiMmI5ZTM1In0='},\n",
       "    {'name': 'gbFeaturesCache',\n",
       "     'value': '[[\"https://gbbv.beenverified.com||sdk-sH9Cly3zfuFM9mdc\",{\"data\":{\"status\":200,\"features\":{},\"experiments\":[],\"dateUpdated\":\"2024-03-01T20:59:43.863Z\",\"encryptedFeatures\":\"7kP8YO1hIHrNNyZ0bY/RoA==.vBjx5frkk2uz9LgesNQ7qxK+u1al7gV7iDmio6zTQlj0jNNCaJET9mE4UmRtlpL0fuLVOEU2ZXZXB1EP5LxjJweDPdYB+rj/UhjrpPl3hLr2cuguWkO4h10LOpPigu0A4Ucv7zZjB2NlFfEk1HDuuANJT0CrTyiVANjpKLmxItOVutNtg/3l8n+/X27/UkYrn2naVNGgXGfctWEPoMfRSr1cCUIm8pL8cBqac3k/5OljJp6/oF6F7B40zsPTl2m0M/XNCpvr0EexZtRZn5qHeh4aGRNS3A8dRz0tR1IKv2FDjoLlIfVdctamLVLOs77XyuxirosO2ea01X07K8Z83Gh8elrFq1Q6t+WDiTbmEJ7OHeaTSqenmKQCo2gIXgVXU/HuD1qYxwmSSznvqJOuZmPoPa4FIxC3bWDojej81cv610npBag+P74AVfm0RELlmG1C2BwDSEBk/6W2zHwaXnZiB3+HNpiTOa4kgwxbS16Y8vNDjBfq6CI6AsfFxruQRyG7NE3VmP0P8xgTBu4ui6uc7VIvtC9Im3VUQ9ff5HI9dIOBjGNfSXcJRGZHXXqMyI8eCYJGTShbG+PXqDI0gWgn9vM0HhsiPrZIpRs00QsF1E7XHZqPlW6sEKydd+BlLnqSnURadDey3RZaR38ZBfy5vkKBSX2GKaLr4k3y8nuFHAJZ7UFDTTxtwSV8+bdW1SYVo06BHHCICZqVziX/VGoGYGU8h3npoIUqaA4f2nvv9zFm/LqKbUgMJZY98GQU+965XEROeWKcijz2N5FLCagqvLIHad3s6CLlT34AgsunP4N3wTd6gCRnhhJ24Hh1CndU05qZ2LJIh4i6spg6gL8+ozh51NOyUaT0+PlpJ1N9PqnY30siVSsqUEehsqDTZTTqMHMLaLKa16KfVxep8IZ9o4dz4icoyp6bl136hhVRhbV0Y3t+gpjTyjCX37hl46+7O/O9bA3KlArlwcLWYuTVFDSkrr8kqR4sdEh5Fc8Y2DKd6DFKAY23RdI81FcQoMmSzC36oT6tWhuu/W+PeZ39rdXdix9iCz74xHglIw+xH+7krWI5y8rfUBJHKk7M/BNYu7ftEKeqPQqRgd+SoE25SM3klFYd01BXFehxDXFQaCGBUvh7+0l3KedpnJeEaAKMAquUn8NLcajk8K6S+w9atxEKw6A5dbH7M9gksuPRpbX+REbRgu/TJvJBrydoTwnUBhOpTMthq5n57WCZRtnaoHMvuQ28iuiXCuAlezHgNX3Gc7Js7rd1hyPTgiVfA6DDUKEF06oRE00CrcAFrXyGDxruH4vOJ+vDgtLu4wfw9PbsjxuZ9XOg/VcPwwnz4q3KAytt+eDPF0hwK3oXDTRYsKf3prLDG/dToK3JoE3BBdVM1HHOlzbgUQU+A14cc25cVCm5lI2byqLXvcSdv/Wk/QqQ3Y55KVUS5GNIpJ8=\",\"encryptedExperiments\":\"h47DJs6zi/ZF9SiavkzWVQ==.KomaSQSyOrIm3WTFJGqCOQ==\"},\"version\":\"2024-03-01T20:59:43.863Z\",\"staleAt\":\"2024-03-01T21:44:52.474Z\",\"sse\":true}]]'},\n",
       "    {'name': '__paypal_storage__',\n",
       "     'value': '{\"id\":\"uid_8d4790f8fd_mje6ndm6nte\",\"__paypal_session__\":{\"guid\":\"uid_8d38b610b9_mje6ndm6nte\",\"created\":1709329431479},\"rememberedFunding\":[]}'}]}]}"
      ]
     },
     "execution_count": 7,
     "metadata": {},
     "output_type": "execute_result"
    }
   ],
   "source": [
    "await page.wait_for_load_state()\n",
    "state =  await context.storage_state()\n",
    "state\n"
   ]
  },
  {
   "cell_type": "code",
   "execution_count": 9,
   "metadata": {},
   "outputs": [],
   "source": [
    "os.makedirs('playwright/.auth', exist_ok=True)\n",
    "with open('playwright/.auth/state_2.json', 'w') as f:\n",
    "    json.dump(state, f)\n"
   ]
  },
  {
   "cell_type": "code",
   "execution_count": 10,
   "metadata": {},
   "outputs": [],
   "source": [
    "context = await browser.new_context(\n",
    "    storage_state=\"playwright/.auth/state_2.json\"\n",
    ")\n",
    "page =  await context.new_page()"
   ]
  },
  {
   "cell_type": "code",
   "execution_count": null,
   "metadata": {},
   "outputs": [],
   "source": []
  },
  {
   "cell_type": "code",
   "execution_count": null,
   "metadata": {},
   "outputs": [],
   "source": [
    "await browser.close()\n",
    "await pw.stop()"
   ]
  }
 ],
 "metadata": {
  "kernelspec": {
   "display_name": "fubloo",
   "language": "python",
   "name": "python3"
  },
  "language_info": {
   "codemirror_mode": {
    "name": "ipython",
    "version": 3
   },
   "file_extension": ".py",
   "mimetype": "text/x-python",
   "name": "python",
   "nbconvert_exporter": "python",
   "pygments_lexer": "ipython3",
   "version": "3.11.3"
  }
 },
 "nbformat": 4,
 "nbformat_minor": 2
}
