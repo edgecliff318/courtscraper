{
 "cells": [
  {
   "cell_type": "code",
   "execution_count": 24,
   "metadata": {},
   "outputs": [],
   "source": [
    "from playwright.async_api import async_playwright\n",
    "from playwright_stealth import stealth_sync , stealth_async\n"
   ]
  },
  {
   "cell_type": "code",
   "execution_count": 25,
   "metadata": {},
   "outputs": [],
   "source": [
    "\n",
    "pw = await async_playwright().start()\n",
    "browser = await pw.chromium.launch(headless=False)\n"
   ]
  },
  {
   "cell_type": "code",
   "execution_count": 29,
   "metadata": {},
   "outputs": [],
   "source": [
    "import os\n",
    "os.makedirs('playwright/.auth', exist_ok=True)\n",
    "if os.path.exists('playwright/.auth/state.json'):\n",
    "    context = await browser.new_context(storage_state=\"playwright/.auth/state.json\")\n",
    "    page = await context.new_page()\n"
   ]
  },
  {
   "cell_type": "code",
   "execution_count": 43,
   "metadata": {},
   "outputs": [],
   "source": [
    "async def extract_info(page):\n",
    "    container = await page.query_selector('.e1usz6i03')\n",
    "    element = await container.query_selector('#phone-number-content')\n",
    "    phone_number  = await element.inner_text()\n",
    "    return phone_number"
   ]
  },
  {
   "cell_type": "code",
   "execution_count": 31,
   "metadata": {},
   "outputs": [],
   "source": [
    "async def search_person(page, firstName, lastName, middleName=\"\", city=None, state=None):\n",
    "    # https://www.spokeo.com/Samama-Mahmud?middle_name=B\n",
    "    url = f\"https://www.spokeo.com/{firstName}-{lastName}?middle_name={middleName}\"\n",
    "    await page.goto(url)    \n",
    "    link_elements = await page.query_selector_all('.e1ndw42t0')\n",
    "    links = [\n",
    "        link_element.get_attribute('href')\n",
    "        for link_element in link_elements\n",
    "    ]\n",
    "    return links"
   ]
  },
  {
   "cell_type": "code",
   "execution_count": 32,
   "metadata": {},
   "outputs": [],
   "source": [
    "firstName = \"Samama\"\n",
    "lastName = \"Mahmud\"\n",
    "middleName = \"B\"\n",
    "user_page  = await search_person(page,firstName, lastName,middleName)\n"
   ]
  },
  {
   "cell_type": "code",
   "execution_count": 33,
   "metadata": {},
   "outputs": [
    {
     "data": {
      "text/plain": [
       "<Response url='https://www.spokeo.com/Samama-Mahmud/Wisconsin/Milwaukee/p2015111502099087352946730813837' request=<Request url='https://www.spokeo.com/Samama-Mahmud/Wisconsin/Milwaukee/p2015111502099087352946730813837' method='GET'>>"
      ]
     },
     "execution_count": 33,
     "metadata": {},
     "output_type": "execute_result"
    }
   ],
   "source": [
    "url_user = \"https://www.spokeo.com/Samama-Mahmud/Wisconsin/Milwaukee/p2015111502099087352946730813837\"\n",
    "await page.goto(url_user)  \n",
    "\n"
   ]
  },
  {
   "cell_type": "code",
   "execution_count": 36,
   "metadata": {},
   "outputs": [
    {
     "data": {
      "text/plain": [
       "<JSHandle preview=JSHandle@node>"
      ]
     },
     "execution_count": 36,
     "metadata": {},
     "output_type": "execute_result"
    }
   ],
   "source": [
    "# phone_number = await extract_info(page)\n",
    "# phone_number\n",
    "\n",
    "container = await page.query_selector('.e1usz6i03')\n",
    "container"
   ]
  },
  {
   "cell_type": "code",
   "execution_count": 39,
   "metadata": {},
   "outputs": [],
   "source": [
    "el = await container.query_selector('#phone-number-content')"
   ]
  },
  {
   "cell_type": "code",
   "execution_count": 41,
   "metadata": {},
   "outputs": [
    {
     "data": {
      "text/plain": [
       "'(847) 581-0171'"
      ]
     },
     "execution_count": 41,
     "metadata": {},
     "output_type": "execute_result"
    }
   ],
   "source": [
    "await el.inner_text()"
   ]
  },
  {
   "cell_type": "code",
   "execution_count": 42,
   "metadata": {},
   "outputs": [],
   "source": [
    "await browser.close()\n",
    "await pw.stop()"
   ]
  },
  {
   "cell_type": "code",
   "execution_count": null,
   "metadata": {},
   "outputs": [],
   "source": []
  }
 ],
 "metadata": {
  "kernelspec": {
   "display_name": "fubloo",
   "language": "python",
   "name": "python3"
  },
  "language_info": {
   "codemirror_mode": {
    "name": "ipython",
    "version": 3
   },
   "file_extension": ".py",
   "mimetype": "text/x-python",
   "name": "python",
   "nbconvert_exporter": "python",
   "pygments_lexer": "ipython3",
   "version": "3.10.13"
  }
 },
 "nbformat": 4,
 "nbformat_minor": 2
}
