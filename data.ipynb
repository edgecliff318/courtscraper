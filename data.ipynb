{
 "cells": [
  {
   "cell_type": "code",
   "execution_count": 1,
   "metadata": {},
   "outputs": [],
   "source": [
    "import pandas as pd\n",
    "import plotly.express as px\n",
    "import json "
   ]
  },
  {
   "cell_type": "code",
   "execution_count": 2,
   "metadata": {},
   "outputs": [],
   "source": [
    "import jinja2\n",
    "from IPython.core.display import HTML"
   ]
  },
  {
   "cell_type": "code",
   "execution_count": 3,
   "metadata": {},
   "outputs": [],
   "source": [
    "with open(\"leads.json\", \"r\") as f:\n",
    "    data_raw = json.load(f)"
   ]
  },
  {
   "cell_type": "code",
   "execution_count": 4,
   "metadata": {},
   "outputs": [],
   "source": [
    "data = pd.DataFrame(data_raw.values())"
   ]
  },
  {
   "cell_type": "code",
   "execution_count": 5,
   "metadata": {},
   "outputs": [
    {
     "data": {
      "application/vnd.plotly.v1+json": {
       "config": {
        "plotlyServerURL": "https://plot.ly"
       },
       "data": [
        {
         "alignmentgroup": "True",
         "hovertemplate": "variable=case_id<br>court_name=%{x}<br>value=%{y}<extra></extra>",
         "legendgroup": "case_id",
         "marker": {
          "color": "#636efa",
          "pattern": {
           "shape": ""
          }
         },
         "name": "case_id",
         "offsetgroup": "case_id",
         "orientation": "v",
         "showlegend": true,
         "textposition": "auto",
         "type": "bar",
         "x": [
          "Clay County - 7th Judicial Circuit",
          "Crawford County - 42nd Judicial Circuit",
          "Greene County - 31st Judicial Circuit",
          "Jackson County - 16th Judicial Circuit"
         ],
         "xaxis": "x",
         "y": [
          236,
          9,
          34,
          892
         ],
         "yaxis": "y"
        }
       ],
       "layout": {
        "barmode": "relative",
        "legend": {
         "title": {
          "text": "variable"
         },
         "tracegroupgap": 0
        },
        "template": {
         "data": {
          "bar": [
           {
            "error_x": {
             "color": "#2a3f5f"
            },
            "error_y": {
             "color": "#2a3f5f"
            },
            "marker": {
             "line": {
              "color": "#E5ECF6",
              "width": 0.5
             },
             "pattern": {
              "fillmode": "overlay",
              "size": 10,
              "solidity": 0.2
             }
            },
            "type": "bar"
           }
          ],
          "barpolar": [
           {
            "marker": {
             "line": {
              "color": "#E5ECF6",
              "width": 0.5
             },
             "pattern": {
              "fillmode": "overlay",
              "size": 10,
              "solidity": 0.2
             }
            },
            "type": "barpolar"
           }
          ],
          "carpet": [
           {
            "aaxis": {
             "endlinecolor": "#2a3f5f",
             "gridcolor": "white",
             "linecolor": "white",
             "minorgridcolor": "white",
             "startlinecolor": "#2a3f5f"
            },
            "baxis": {
             "endlinecolor": "#2a3f5f",
             "gridcolor": "white",
             "linecolor": "white",
             "minorgridcolor": "white",
             "startlinecolor": "#2a3f5f"
            },
            "type": "carpet"
           }
          ],
          "choropleth": [
           {
            "colorbar": {
             "outlinewidth": 0,
             "ticks": ""
            },
            "type": "choropleth"
           }
          ],
          "contour": [
           {
            "colorbar": {
             "outlinewidth": 0,
             "ticks": ""
            },
            "colorscale": [
             [
              0,
              "#0d0887"
             ],
             [
              0.1111111111111111,
              "#46039f"
             ],
             [
              0.2222222222222222,
              "#7201a8"
             ],
             [
              0.3333333333333333,
              "#9c179e"
             ],
             [
              0.4444444444444444,
              "#bd3786"
             ],
             [
              0.5555555555555556,
              "#d8576b"
             ],
             [
              0.6666666666666666,
              "#ed7953"
             ],
             [
              0.7777777777777778,
              "#fb9f3a"
             ],
             [
              0.8888888888888888,
              "#fdca26"
             ],
             [
              1,
              "#f0f921"
             ]
            ],
            "type": "contour"
           }
          ],
          "contourcarpet": [
           {
            "colorbar": {
             "outlinewidth": 0,
             "ticks": ""
            },
            "type": "contourcarpet"
           }
          ],
          "heatmap": [
           {
            "colorbar": {
             "outlinewidth": 0,
             "ticks": ""
            },
            "colorscale": [
             [
              0,
              "#0d0887"
             ],
             [
              0.1111111111111111,
              "#46039f"
             ],
             [
              0.2222222222222222,
              "#7201a8"
             ],
             [
              0.3333333333333333,
              "#9c179e"
             ],
             [
              0.4444444444444444,
              "#bd3786"
             ],
             [
              0.5555555555555556,
              "#d8576b"
             ],
             [
              0.6666666666666666,
              "#ed7953"
             ],
             [
              0.7777777777777778,
              "#fb9f3a"
             ],
             [
              0.8888888888888888,
              "#fdca26"
             ],
             [
              1,
              "#f0f921"
             ]
            ],
            "type": "heatmap"
           }
          ],
          "heatmapgl": [
           {
            "colorbar": {
             "outlinewidth": 0,
             "ticks": ""
            },
            "colorscale": [
             [
              0,
              "#0d0887"
             ],
             [
              0.1111111111111111,
              "#46039f"
             ],
             [
              0.2222222222222222,
              "#7201a8"
             ],
             [
              0.3333333333333333,
              "#9c179e"
             ],
             [
              0.4444444444444444,
              "#bd3786"
             ],
             [
              0.5555555555555556,
              "#d8576b"
             ],
             [
              0.6666666666666666,
              "#ed7953"
             ],
             [
              0.7777777777777778,
              "#fb9f3a"
             ],
             [
              0.8888888888888888,
              "#fdca26"
             ],
             [
              1,
              "#f0f921"
             ]
            ],
            "type": "heatmapgl"
           }
          ],
          "histogram": [
           {
            "marker": {
             "pattern": {
              "fillmode": "overlay",
              "size": 10,
              "solidity": 0.2
             }
            },
            "type": "histogram"
           }
          ],
          "histogram2d": [
           {
            "colorbar": {
             "outlinewidth": 0,
             "ticks": ""
            },
            "colorscale": [
             [
              0,
              "#0d0887"
             ],
             [
              0.1111111111111111,
              "#46039f"
             ],
             [
              0.2222222222222222,
              "#7201a8"
             ],
             [
              0.3333333333333333,
              "#9c179e"
             ],
             [
              0.4444444444444444,
              "#bd3786"
             ],
             [
              0.5555555555555556,
              "#d8576b"
             ],
             [
              0.6666666666666666,
              "#ed7953"
             ],
             [
              0.7777777777777778,
              "#fb9f3a"
             ],
             [
              0.8888888888888888,
              "#fdca26"
             ],
             [
              1,
              "#f0f921"
             ]
            ],
            "type": "histogram2d"
           }
          ],
          "histogram2dcontour": [
           {
            "colorbar": {
             "outlinewidth": 0,
             "ticks": ""
            },
            "colorscale": [
             [
              0,
              "#0d0887"
             ],
             [
              0.1111111111111111,
              "#46039f"
             ],
             [
              0.2222222222222222,
              "#7201a8"
             ],
             [
              0.3333333333333333,
              "#9c179e"
             ],
             [
              0.4444444444444444,
              "#bd3786"
             ],
             [
              0.5555555555555556,
              "#d8576b"
             ],
             [
              0.6666666666666666,
              "#ed7953"
             ],
             [
              0.7777777777777778,
              "#fb9f3a"
             ],
             [
              0.8888888888888888,
              "#fdca26"
             ],
             [
              1,
              "#f0f921"
             ]
            ],
            "type": "histogram2dcontour"
           }
          ],
          "mesh3d": [
           {
            "colorbar": {
             "outlinewidth": 0,
             "ticks": ""
            },
            "type": "mesh3d"
           }
          ],
          "parcoords": [
           {
            "line": {
             "colorbar": {
              "outlinewidth": 0,
              "ticks": ""
             }
            },
            "type": "parcoords"
           }
          ],
          "pie": [
           {
            "automargin": true,
            "type": "pie"
           }
          ],
          "scatter": [
           {
            "marker": {
             "colorbar": {
              "outlinewidth": 0,
              "ticks": ""
             }
            },
            "type": "scatter"
           }
          ],
          "scatter3d": [
           {
            "line": {
             "colorbar": {
              "outlinewidth": 0,
              "ticks": ""
             }
            },
            "marker": {
             "colorbar": {
              "outlinewidth": 0,
              "ticks": ""
             }
            },
            "type": "scatter3d"
           }
          ],
          "scattercarpet": [
           {
            "marker": {
             "colorbar": {
              "outlinewidth": 0,
              "ticks": ""
             }
            },
            "type": "scattercarpet"
           }
          ],
          "scattergeo": [
           {
            "marker": {
             "colorbar": {
              "outlinewidth": 0,
              "ticks": ""
             }
            },
            "type": "scattergeo"
           }
          ],
          "scattergl": [
           {
            "marker": {
             "colorbar": {
              "outlinewidth": 0,
              "ticks": ""
             }
            },
            "type": "scattergl"
           }
          ],
          "scattermapbox": [
           {
            "marker": {
             "colorbar": {
              "outlinewidth": 0,
              "ticks": ""
             }
            },
            "type": "scattermapbox"
           }
          ],
          "scatterpolar": [
           {
            "marker": {
             "colorbar": {
              "outlinewidth": 0,
              "ticks": ""
             }
            },
            "type": "scatterpolar"
           }
          ],
          "scatterpolargl": [
           {
            "marker": {
             "colorbar": {
              "outlinewidth": 0,
              "ticks": ""
             }
            },
            "type": "scatterpolargl"
           }
          ],
          "scatterternary": [
           {
            "marker": {
             "colorbar": {
              "outlinewidth": 0,
              "ticks": ""
             }
            },
            "type": "scatterternary"
           }
          ],
          "surface": [
           {
            "colorbar": {
             "outlinewidth": 0,
             "ticks": ""
            },
            "colorscale": [
             [
              0,
              "#0d0887"
             ],
             [
              0.1111111111111111,
              "#46039f"
             ],
             [
              0.2222222222222222,
              "#7201a8"
             ],
             [
              0.3333333333333333,
              "#9c179e"
             ],
             [
              0.4444444444444444,
              "#bd3786"
             ],
             [
              0.5555555555555556,
              "#d8576b"
             ],
             [
              0.6666666666666666,
              "#ed7953"
             ],
             [
              0.7777777777777778,
              "#fb9f3a"
             ],
             [
              0.8888888888888888,
              "#fdca26"
             ],
             [
              1,
              "#f0f921"
             ]
            ],
            "type": "surface"
           }
          ],
          "table": [
           {
            "cells": {
             "fill": {
              "color": "#EBF0F8"
             },
             "line": {
              "color": "white"
             }
            },
            "header": {
             "fill": {
              "color": "#C8D4E3"
             },
             "line": {
              "color": "white"
             }
            },
            "type": "table"
           }
          ]
         },
         "layout": {
          "annotationdefaults": {
           "arrowcolor": "#2a3f5f",
           "arrowhead": 0,
           "arrowwidth": 1
          },
          "autotypenumbers": "strict",
          "coloraxis": {
           "colorbar": {
            "outlinewidth": 0,
            "ticks": ""
           }
          },
          "colorscale": {
           "diverging": [
            [
             0,
             "#8e0152"
            ],
            [
             0.1,
             "#c51b7d"
            ],
            [
             0.2,
             "#de77ae"
            ],
            [
             0.3,
             "#f1b6da"
            ],
            [
             0.4,
             "#fde0ef"
            ],
            [
             0.5,
             "#f7f7f7"
            ],
            [
             0.6,
             "#e6f5d0"
            ],
            [
             0.7,
             "#b8e186"
            ],
            [
             0.8,
             "#7fbc41"
            ],
            [
             0.9,
             "#4d9221"
            ],
            [
             1,
             "#276419"
            ]
           ],
           "sequential": [
            [
             0,
             "#0d0887"
            ],
            [
             0.1111111111111111,
             "#46039f"
            ],
            [
             0.2222222222222222,
             "#7201a8"
            ],
            [
             0.3333333333333333,
             "#9c179e"
            ],
            [
             0.4444444444444444,
             "#bd3786"
            ],
            [
             0.5555555555555556,
             "#d8576b"
            ],
            [
             0.6666666666666666,
             "#ed7953"
            ],
            [
             0.7777777777777778,
             "#fb9f3a"
            ],
            [
             0.8888888888888888,
             "#fdca26"
            ],
            [
             1,
             "#f0f921"
            ]
           ],
           "sequentialminus": [
            [
             0,
             "#0d0887"
            ],
            [
             0.1111111111111111,
             "#46039f"
            ],
            [
             0.2222222222222222,
             "#7201a8"
            ],
            [
             0.3333333333333333,
             "#9c179e"
            ],
            [
             0.4444444444444444,
             "#bd3786"
            ],
            [
             0.5555555555555556,
             "#d8576b"
            ],
            [
             0.6666666666666666,
             "#ed7953"
            ],
            [
             0.7777777777777778,
             "#fb9f3a"
            ],
            [
             0.8888888888888888,
             "#fdca26"
            ],
            [
             1,
             "#f0f921"
            ]
           ]
          },
          "colorway": [
           "#636efa",
           "#EF553B",
           "#00cc96",
           "#ab63fa",
           "#FFA15A",
           "#19d3f3",
           "#FF6692",
           "#B6E880",
           "#FF97FF",
           "#FECB52"
          ],
          "font": {
           "color": "#2a3f5f"
          },
          "geo": {
           "bgcolor": "white",
           "lakecolor": "white",
           "landcolor": "#E5ECF6",
           "showlakes": true,
           "showland": true,
           "subunitcolor": "white"
          },
          "hoverlabel": {
           "align": "left"
          },
          "hovermode": "closest",
          "mapbox": {
           "style": "light"
          },
          "paper_bgcolor": "white",
          "plot_bgcolor": "#E5ECF6",
          "polar": {
           "angularaxis": {
            "gridcolor": "white",
            "linecolor": "white",
            "ticks": ""
           },
           "bgcolor": "#E5ECF6",
           "radialaxis": {
            "gridcolor": "white",
            "linecolor": "white",
            "ticks": ""
           }
          },
          "scene": {
           "xaxis": {
            "backgroundcolor": "#E5ECF6",
            "gridcolor": "white",
            "gridwidth": 2,
            "linecolor": "white",
            "showbackground": true,
            "ticks": "",
            "zerolinecolor": "white"
           },
           "yaxis": {
            "backgroundcolor": "#E5ECF6",
            "gridcolor": "white",
            "gridwidth": 2,
            "linecolor": "white",
            "showbackground": true,
            "ticks": "",
            "zerolinecolor": "white"
           },
           "zaxis": {
            "backgroundcolor": "#E5ECF6",
            "gridcolor": "white",
            "gridwidth": 2,
            "linecolor": "white",
            "showbackground": true,
            "ticks": "",
            "zerolinecolor": "white"
           }
          },
          "shapedefaults": {
           "line": {
            "color": "#2a3f5f"
           }
          },
          "ternary": {
           "aaxis": {
            "gridcolor": "white",
            "linecolor": "white",
            "ticks": ""
           },
           "baxis": {
            "gridcolor": "white",
            "linecolor": "white",
            "ticks": ""
           },
           "bgcolor": "#E5ECF6",
           "caxis": {
            "gridcolor": "white",
            "linecolor": "white",
            "ticks": ""
           }
          },
          "title": {
           "x": 0.05
          },
          "xaxis": {
           "automargin": true,
           "gridcolor": "white",
           "linecolor": "white",
           "ticks": "",
           "title": {
            "standoff": 15
           },
           "zerolinecolor": "white",
           "zerolinewidth": 2
          },
          "yaxis": {
           "automargin": true,
           "gridcolor": "white",
           "linecolor": "white",
           "ticks": "",
           "title": {
            "standoff": 15
           },
           "zerolinecolor": "white",
           "zerolinewidth": 2
          }
         }
        },
        "title": {
         "text": "Leads by county"
        },
        "xaxis": {
         "anchor": "y",
         "domain": [
          0,
          1
         ],
         "title": {
          "text": "court_name"
         }
        },
        "yaxis": {
         "anchor": "x",
         "domain": [
          0,
          1
         ],
         "title": {
          "text": "value"
         }
        }
       }
      }
     },
     "metadata": {},
     "output_type": "display_data"
    }
   ],
   "source": [
    "# Show in a graph the len of the data by county and by date \n",
    "fig = px.bar(data.groupby(\"court_name\").case_id.count(), title=\"Leads by county\")\n",
    "fig.show()"
   ]
  },
  {
   "cell_type": "code",
   "execution_count": 6,
   "metadata": {},
   "outputs": [],
   "source": [
    "data[\"interactions_counts\"] = data.interactions.map(lambda x: int(len(x)>=1) if isinstance(x, list) else 0)"
   ]
  },
  {
   "cell_type": "code",
   "execution_count": 7,
   "metadata": {},
   "outputs": [
    {
     "data": {
      "application/vnd.plotly.v1+json": {
       "config": {
        "plotlyServerURL": "https://plot.ly"
       },
       "data": [
        {
         "alignmentgroup": "True",
         "hovertemplate": "variable=interactions_counts<br>case_date=%{x}<br>value=%{y}<extra></extra>",
         "legendgroup": "interactions_counts",
         "marker": {
          "color": "red",
          "pattern": {
           "shape": ""
          }
         },
         "name": "interactions_counts",
         "offsetgroup": "interactions_counts",
         "orientation": "v",
         "showlegend": true,
         "textposition": "auto",
         "type": "bar",
         "x": [
          "2023-01-20",
          "2023-01-23",
          "2023-01-24",
          "2023-01-30",
          "2023-01-31",
          "2023-02-01",
          "2023-02-02",
          "2023-02-03"
         ],
         "xaxis": "x",
         "y": [
          44,
          4,
          106,
          6,
          7,
          39,
          38,
          0
         ],
         "yaxis": "y"
        },
        {
         "alignmentgroup": "True",
         "hovertemplate": "variable=case_id<br>case_date=%{x}<br>value=%{y}<extra></extra>",
         "legendgroup": "case_id",
         "marker": {
          "color": "#636efa",
          "pattern": {
           "shape": ""
          }
         },
         "name": "case_id",
         "offsetgroup": "case_id",
         "orientation": "v",
         "showlegend": true,
         "textposition": "auto",
         "type": "bar",
         "x": [
          "2023-01-20",
          "2023-01-23",
          "2023-01-24",
          "2023-01-30",
          "2023-01-31",
          "2023-02-01",
          "2023-02-02",
          "2023-02-03"
         ],
         "xaxis": "x",
         "y": [
          184,
          22,
          269,
          23,
          44,
          214,
          233,
          182
         ],
         "yaxis": "y"
        }
       ],
       "layout": {
        "barmode": "relative",
        "legend": {
         "title": {
          "text": "variable"
         },
         "tracegroupgap": 0
        },
        "template": {
         "data": {
          "bar": [
           {
            "error_x": {
             "color": "#2a3f5f"
            },
            "error_y": {
             "color": "#2a3f5f"
            },
            "marker": {
             "line": {
              "color": "#E5ECF6",
              "width": 0.5
             },
             "pattern": {
              "fillmode": "overlay",
              "size": 10,
              "solidity": 0.2
             }
            },
            "type": "bar"
           }
          ],
          "barpolar": [
           {
            "marker": {
             "line": {
              "color": "#E5ECF6",
              "width": 0.5
             },
             "pattern": {
              "fillmode": "overlay",
              "size": 10,
              "solidity": 0.2
             }
            },
            "type": "barpolar"
           }
          ],
          "carpet": [
           {
            "aaxis": {
             "endlinecolor": "#2a3f5f",
             "gridcolor": "white",
             "linecolor": "white",
             "minorgridcolor": "white",
             "startlinecolor": "#2a3f5f"
            },
            "baxis": {
             "endlinecolor": "#2a3f5f",
             "gridcolor": "white",
             "linecolor": "white",
             "minorgridcolor": "white",
             "startlinecolor": "#2a3f5f"
            },
            "type": "carpet"
           }
          ],
          "choropleth": [
           {
            "colorbar": {
             "outlinewidth": 0,
             "ticks": ""
            },
            "type": "choropleth"
           }
          ],
          "contour": [
           {
            "colorbar": {
             "outlinewidth": 0,
             "ticks": ""
            },
            "colorscale": [
             [
              0,
              "#0d0887"
             ],
             [
              0.1111111111111111,
              "#46039f"
             ],
             [
              0.2222222222222222,
              "#7201a8"
             ],
             [
              0.3333333333333333,
              "#9c179e"
             ],
             [
              0.4444444444444444,
              "#bd3786"
             ],
             [
              0.5555555555555556,
              "#d8576b"
             ],
             [
              0.6666666666666666,
              "#ed7953"
             ],
             [
              0.7777777777777778,
              "#fb9f3a"
             ],
             [
              0.8888888888888888,
              "#fdca26"
             ],
             [
              1,
              "#f0f921"
             ]
            ],
            "type": "contour"
           }
          ],
          "contourcarpet": [
           {
            "colorbar": {
             "outlinewidth": 0,
             "ticks": ""
            },
            "type": "contourcarpet"
           }
          ],
          "heatmap": [
           {
            "colorbar": {
             "outlinewidth": 0,
             "ticks": ""
            },
            "colorscale": [
             [
              0,
              "#0d0887"
             ],
             [
              0.1111111111111111,
              "#46039f"
             ],
             [
              0.2222222222222222,
              "#7201a8"
             ],
             [
              0.3333333333333333,
              "#9c179e"
             ],
             [
              0.4444444444444444,
              "#bd3786"
             ],
             [
              0.5555555555555556,
              "#d8576b"
             ],
             [
              0.6666666666666666,
              "#ed7953"
             ],
             [
              0.7777777777777778,
              "#fb9f3a"
             ],
             [
              0.8888888888888888,
              "#fdca26"
             ],
             [
              1,
              "#f0f921"
             ]
            ],
            "type": "heatmap"
           }
          ],
          "heatmapgl": [
           {
            "colorbar": {
             "outlinewidth": 0,
             "ticks": ""
            },
            "colorscale": [
             [
              0,
              "#0d0887"
             ],
             [
              0.1111111111111111,
              "#46039f"
             ],
             [
              0.2222222222222222,
              "#7201a8"
             ],
             [
              0.3333333333333333,
              "#9c179e"
             ],
             [
              0.4444444444444444,
              "#bd3786"
             ],
             [
              0.5555555555555556,
              "#d8576b"
             ],
             [
              0.6666666666666666,
              "#ed7953"
             ],
             [
              0.7777777777777778,
              "#fb9f3a"
             ],
             [
              0.8888888888888888,
              "#fdca26"
             ],
             [
              1,
              "#f0f921"
             ]
            ],
            "type": "heatmapgl"
           }
          ],
          "histogram": [
           {
            "marker": {
             "pattern": {
              "fillmode": "overlay",
              "size": 10,
              "solidity": 0.2
             }
            },
            "type": "histogram"
           }
          ],
          "histogram2d": [
           {
            "colorbar": {
             "outlinewidth": 0,
             "ticks": ""
            },
            "colorscale": [
             [
              0,
              "#0d0887"
             ],
             [
              0.1111111111111111,
              "#46039f"
             ],
             [
              0.2222222222222222,
              "#7201a8"
             ],
             [
              0.3333333333333333,
              "#9c179e"
             ],
             [
              0.4444444444444444,
              "#bd3786"
             ],
             [
              0.5555555555555556,
              "#d8576b"
             ],
             [
              0.6666666666666666,
              "#ed7953"
             ],
             [
              0.7777777777777778,
              "#fb9f3a"
             ],
             [
              0.8888888888888888,
              "#fdca26"
             ],
             [
              1,
              "#f0f921"
             ]
            ],
            "type": "histogram2d"
           }
          ],
          "histogram2dcontour": [
           {
            "colorbar": {
             "outlinewidth": 0,
             "ticks": ""
            },
            "colorscale": [
             [
              0,
              "#0d0887"
             ],
             [
              0.1111111111111111,
              "#46039f"
             ],
             [
              0.2222222222222222,
              "#7201a8"
             ],
             [
              0.3333333333333333,
              "#9c179e"
             ],
             [
              0.4444444444444444,
              "#bd3786"
             ],
             [
              0.5555555555555556,
              "#d8576b"
             ],
             [
              0.6666666666666666,
              "#ed7953"
             ],
             [
              0.7777777777777778,
              "#fb9f3a"
             ],
             [
              0.8888888888888888,
              "#fdca26"
             ],
             [
              1,
              "#f0f921"
             ]
            ],
            "type": "histogram2dcontour"
           }
          ],
          "mesh3d": [
           {
            "colorbar": {
             "outlinewidth": 0,
             "ticks": ""
            },
            "type": "mesh3d"
           }
          ],
          "parcoords": [
           {
            "line": {
             "colorbar": {
              "outlinewidth": 0,
              "ticks": ""
             }
            },
            "type": "parcoords"
           }
          ],
          "pie": [
           {
            "automargin": true,
            "type": "pie"
           }
          ],
          "scatter": [
           {
            "marker": {
             "colorbar": {
              "outlinewidth": 0,
              "ticks": ""
             }
            },
            "type": "scatter"
           }
          ],
          "scatter3d": [
           {
            "line": {
             "colorbar": {
              "outlinewidth": 0,
              "ticks": ""
             }
            },
            "marker": {
             "colorbar": {
              "outlinewidth": 0,
              "ticks": ""
             }
            },
            "type": "scatter3d"
           }
          ],
          "scattercarpet": [
           {
            "marker": {
             "colorbar": {
              "outlinewidth": 0,
              "ticks": ""
             }
            },
            "type": "scattercarpet"
           }
          ],
          "scattergeo": [
           {
            "marker": {
             "colorbar": {
              "outlinewidth": 0,
              "ticks": ""
             }
            },
            "type": "scattergeo"
           }
          ],
          "scattergl": [
           {
            "marker": {
             "colorbar": {
              "outlinewidth": 0,
              "ticks": ""
             }
            },
            "type": "scattergl"
           }
          ],
          "scattermapbox": [
           {
            "marker": {
             "colorbar": {
              "outlinewidth": 0,
              "ticks": ""
             }
            },
            "type": "scattermapbox"
           }
          ],
          "scatterpolar": [
           {
            "marker": {
             "colorbar": {
              "outlinewidth": 0,
              "ticks": ""
             }
            },
            "type": "scatterpolar"
           }
          ],
          "scatterpolargl": [
           {
            "marker": {
             "colorbar": {
              "outlinewidth": 0,
              "ticks": ""
             }
            },
            "type": "scatterpolargl"
           }
          ],
          "scatterternary": [
           {
            "marker": {
             "colorbar": {
              "outlinewidth": 0,
              "ticks": ""
             }
            },
            "type": "scatterternary"
           }
          ],
          "surface": [
           {
            "colorbar": {
             "outlinewidth": 0,
             "ticks": ""
            },
            "colorscale": [
             [
              0,
              "#0d0887"
             ],
             [
              0.1111111111111111,
              "#46039f"
             ],
             [
              0.2222222222222222,
              "#7201a8"
             ],
             [
              0.3333333333333333,
              "#9c179e"
             ],
             [
              0.4444444444444444,
              "#bd3786"
             ],
             [
              0.5555555555555556,
              "#d8576b"
             ],
             [
              0.6666666666666666,
              "#ed7953"
             ],
             [
              0.7777777777777778,
              "#fb9f3a"
             ],
             [
              0.8888888888888888,
              "#fdca26"
             ],
             [
              1,
              "#f0f921"
             ]
            ],
            "type": "surface"
           }
          ],
          "table": [
           {
            "cells": {
             "fill": {
              "color": "#EBF0F8"
             },
             "line": {
              "color": "white"
             }
            },
            "header": {
             "fill": {
              "color": "#C8D4E3"
             },
             "line": {
              "color": "white"
             }
            },
            "type": "table"
           }
          ]
         },
         "layout": {
          "annotationdefaults": {
           "arrowcolor": "#2a3f5f",
           "arrowhead": 0,
           "arrowwidth": 1
          },
          "autotypenumbers": "strict",
          "coloraxis": {
           "colorbar": {
            "outlinewidth": 0,
            "ticks": ""
           }
          },
          "colorscale": {
           "diverging": [
            [
             0,
             "#8e0152"
            ],
            [
             0.1,
             "#c51b7d"
            ],
            [
             0.2,
             "#de77ae"
            ],
            [
             0.3,
             "#f1b6da"
            ],
            [
             0.4,
             "#fde0ef"
            ],
            [
             0.5,
             "#f7f7f7"
            ],
            [
             0.6,
             "#e6f5d0"
            ],
            [
             0.7,
             "#b8e186"
            ],
            [
             0.8,
             "#7fbc41"
            ],
            [
             0.9,
             "#4d9221"
            ],
            [
             1,
             "#276419"
            ]
           ],
           "sequential": [
            [
             0,
             "#0d0887"
            ],
            [
             0.1111111111111111,
             "#46039f"
            ],
            [
             0.2222222222222222,
             "#7201a8"
            ],
            [
             0.3333333333333333,
             "#9c179e"
            ],
            [
             0.4444444444444444,
             "#bd3786"
            ],
            [
             0.5555555555555556,
             "#d8576b"
            ],
            [
             0.6666666666666666,
             "#ed7953"
            ],
            [
             0.7777777777777778,
             "#fb9f3a"
            ],
            [
             0.8888888888888888,
             "#fdca26"
            ],
            [
             1,
             "#f0f921"
            ]
           ],
           "sequentialminus": [
            [
             0,
             "#0d0887"
            ],
            [
             0.1111111111111111,
             "#46039f"
            ],
            [
             0.2222222222222222,
             "#7201a8"
            ],
            [
             0.3333333333333333,
             "#9c179e"
            ],
            [
             0.4444444444444444,
             "#bd3786"
            ],
            [
             0.5555555555555556,
             "#d8576b"
            ],
            [
             0.6666666666666666,
             "#ed7953"
            ],
            [
             0.7777777777777778,
             "#fb9f3a"
            ],
            [
             0.8888888888888888,
             "#fdca26"
            ],
            [
             1,
             "#f0f921"
            ]
           ]
          },
          "colorway": [
           "#636efa",
           "#EF553B",
           "#00cc96",
           "#ab63fa",
           "#FFA15A",
           "#19d3f3",
           "#FF6692",
           "#B6E880",
           "#FF97FF",
           "#FECB52"
          ],
          "font": {
           "color": "#2a3f5f"
          },
          "geo": {
           "bgcolor": "white",
           "lakecolor": "white",
           "landcolor": "#E5ECF6",
           "showlakes": true,
           "showland": true,
           "subunitcolor": "white"
          },
          "hoverlabel": {
           "align": "left"
          },
          "hovermode": "closest",
          "mapbox": {
           "style": "light"
          },
          "paper_bgcolor": "white",
          "plot_bgcolor": "#E5ECF6",
          "polar": {
           "angularaxis": {
            "gridcolor": "white",
            "linecolor": "white",
            "ticks": ""
           },
           "bgcolor": "#E5ECF6",
           "radialaxis": {
            "gridcolor": "white",
            "linecolor": "white",
            "ticks": ""
           }
          },
          "scene": {
           "xaxis": {
            "backgroundcolor": "#E5ECF6",
            "gridcolor": "white",
            "gridwidth": 2,
            "linecolor": "white",
            "showbackground": true,
            "ticks": "",
            "zerolinecolor": "white"
           },
           "yaxis": {
            "backgroundcolor": "#E5ECF6",
            "gridcolor": "white",
            "gridwidth": 2,
            "linecolor": "white",
            "showbackground": true,
            "ticks": "",
            "zerolinecolor": "white"
           },
           "zaxis": {
            "backgroundcolor": "#E5ECF6",
            "gridcolor": "white",
            "gridwidth": 2,
            "linecolor": "white",
            "showbackground": true,
            "ticks": "",
            "zerolinecolor": "white"
           }
          },
          "shapedefaults": {
           "line": {
            "color": "#2a3f5f"
           }
          },
          "ternary": {
           "aaxis": {
            "gridcolor": "white",
            "linecolor": "white",
            "ticks": ""
           },
           "baxis": {
            "gridcolor": "white",
            "linecolor": "white",
            "ticks": ""
           },
           "bgcolor": "#E5ECF6",
           "caxis": {
            "gridcolor": "white",
            "linecolor": "white",
            "ticks": ""
           }
          },
          "title": {
           "x": 0.05
          },
          "xaxis": {
           "automargin": true,
           "gridcolor": "white",
           "linecolor": "white",
           "ticks": "",
           "title": {
            "standoff": 15
           },
           "zerolinecolor": "white",
           "zerolinewidth": 2
          },
          "yaxis": {
           "automargin": true,
           "gridcolor": "white",
           "linecolor": "white",
           "ticks": "",
           "title": {
            "standoff": 15
           },
           "zerolinecolor": "white",
           "zerolinewidth": 2
          }
         }
        },
        "title": {
         "text": "Interactions by date"
        },
        "xaxis": {
         "anchor": "y",
         "domain": [
          0,
          1
         ],
         "title": {
          "text": "case_date"
         }
        },
        "yaxis": {
         "anchor": "x",
         "domain": [
          0,
          1
         ],
         "title": {
          "text": "value"
         }
        }
       }
      }
     },
     "metadata": {},
     "output_type": "display_data"
    }
   ],
   "source": [
    "# Plot the bars of the interactions by date from the total amount of cases \n",
    "interactions = data.groupby(\"case_date\").agg({\"interactions_counts\": \"sum\", \"case_id\": \"count\"})\n",
    "interactions[\"interactions_per_case\"] = interactions.interactions_counts / interactions.case_id\n",
    "fig = px.bar(data.groupby(\"case_date\").interactions_counts.sum(), title=\"Interactions by date\", color_discrete_sequence=[\"red\"])\n",
    "# Add the total number of cases by date in red\n",
    "fig.add_trace(px.bar(data.groupby(\"case_date\").case_id.count(), title=\"Cases by date\").data[0])\n",
    "fig.show()"
   ]
  },
  {
   "cell_type": "code",
   "execution_count": 54,
   "metadata": {},
   "outputs": [
    {
     "data": {
      "text/html": [
       "<div>\n",
       "<style scoped>\n",
       "    .dataframe tbody tr th:only-of-type {\n",
       "        vertical-align: middle;\n",
       "    }\n",
       "\n",
       "    .dataframe tbody tr th {\n",
       "        vertical-align: top;\n",
       "    }\n",
       "\n",
       "    .dataframe thead th {\n",
       "        text-align: right;\n",
       "    }\n",
       "</style>\n",
       "<table border=\"1\" class=\"dataframe\">\n",
       "  <thead>\n",
       "    <tr style=\"text-align: right;\">\n",
       "      <th></th>\n",
       "      <th>case_id</th>\n",
       "      <th>case_type</th>\n",
       "      <th>court_code</th>\n",
       "      <th>court_name</th>\n",
       "      <th>case_date</th>\n",
       "      <th>first_name</th>\n",
       "      <th>last_name</th>\n",
       "      <th>been_verified</th>\n",
       "      <th>age</th>\n",
       "      <th>year_of_birth</th>\n",
       "      <th>charges</th>\n",
       "      <th>details</th>\n",
       "      <th>email</th>\n",
       "      <th>phone</th>\n",
       "      <th>interactions</th>\n",
       "      <th>interactions_counts</th>\n",
       "    </tr>\n",
       "  </thead>\n",
       "  <tbody>\n",
       "    <tr>\n",
       "      <th>0</th>\n",
       "      <td>220306490</td>\n",
       "      <td>Traffic%2FMunicipal</td>\n",
       "      <td>SMPDB0001_CT07</td>\n",
       "      <td>Clay County - 7th Judicial Circuit</td>\n",
       "      <td>2023-01-20</td>\n",
       "      <td>MADISON</td>\n",
       "      <td>RAY</td>\n",
       "      <td>True</td>\n",
       "      <td>29</td>\n",
       "      <td>1994</td>\n",
       "      <td>Fail To Stop At Stop Sign At Stop Line/Before ...</td>\n",
       "      <td>Madison D Ray\\nAge 31 years old\\nBorn October ...</td>\n",
       "      <td>DKRAYLOVESJESUS@GMAIL.COM</td>\n",
       "      <td>(417) 838-7987</td>\n",
       "      <td>[]</td>\n",
       "      <td>0</td>\n",
       "    </tr>\n",
       "    <tr>\n",
       "      <th>1</th>\n",
       "      <td>190095621</td>\n",
       "      <td>Traffic%2FMunicipal</td>\n",
       "      <td>SMPDB0001_CT07</td>\n",
       "      <td>Clay County - 7th Judicial Circuit</td>\n",
       "      <td>2023-01-20</td>\n",
       "      <td>JASON</td>\n",
       "      <td>WISDOM</td>\n",
       "      <td>True</td>\n",
       "      <td></td>\n",
       "      <td>[WISDOM, JASON R, Defendant   \\n\\n\\n\\n\\n\\n\\n\\n...</td>\n",
       "      <td>Miscellaneous Parking Violation \\r{ Ordinance ...</td>\n",
       "      <td>Jason Wisdom\\nAge 21 years old\\nBorn August 20...</td>\n",
       "      <td>jasonwisdom77@gmail.com</td>\n",
       "      <td>(573) 480-1786</td>\n",
       "      <td>NaN</td>\n",
       "      <td>0</td>\n",
       "    </tr>\n",
       "    <tr>\n",
       "      <th>2</th>\n",
       "      <td>190099770</td>\n",
       "      <td>Traffic%2FMunicipal</td>\n",
       "      <td>SMPDB0001_CT07</td>\n",
       "      <td>Clay County - 7th Judicial Circuit</td>\n",
       "      <td>2023-01-20</td>\n",
       "      <td>ISRAEL</td>\n",
       "      <td>CHACON</td>\n",
       "      <td>True</td>\n",
       "      <td></td>\n",
       "      <td>[CHACON, ISRAEL, Defendant   \\n\\n\\n\\n\\n\\n\\n\\n\\...</td>\n",
       "      <td>Parking Violation \\r{ Ordinance RSMo: Not Avai...</td>\n",
       "      <td>Israel Chacon\\nAge 27 years old\\nBorn November...</td>\n",
       "      <td>ISRABB1995@GMAIL.COM</td>\n",
       "      <td>No phone numbers found</td>\n",
       "      <td>NaN</td>\n",
       "      <td>0</td>\n",
       "    </tr>\n",
       "    <tr>\n",
       "      <th>3</th>\n",
       "      <td>190095620</td>\n",
       "      <td>Traffic%2FMunicipal</td>\n",
       "      <td>SMPDB0001_CT07</td>\n",
       "      <td>Clay County - 7th Judicial Circuit</td>\n",
       "      <td>2023-01-20</td>\n",
       "      <td>JASON</td>\n",
       "      <td>WISDOM</td>\n",
       "      <td>True</td>\n",
       "      <td></td>\n",
       "      <td>[WISDOM, JASON R, Defendant   \\n\\n\\n\\n\\n\\n\\n\\n...</td>\n",
       "      <td>Handicapped Parking Violation \\r{ Ordinance RS...</td>\n",
       "      <td>Jason Wisdom\\nAge 21 years old\\nBorn August 20...</td>\n",
       "      <td>jasonwisdom77@gmail.com</td>\n",
       "      <td>(573) 480-1786</td>\n",
       "      <td>NaN</td>\n",
       "      <td>0</td>\n",
       "    </tr>\n",
       "    <tr>\n",
       "      <th>4</th>\n",
       "      <td>190098041</td>\n",
       "      <td>Traffic%2FMunicipal</td>\n",
       "      <td>SMPDB0001_CT07</td>\n",
       "      <td>Clay County - 7th Judicial Circuit</td>\n",
       "      <td>2023-01-20</td>\n",
       "      <td>GHEIA</td>\n",
       "      <td>TURK</td>\n",
       "      <td>True</td>\n",
       "      <td></td>\n",
       "      <td>[TURK, GHEIA S, Defendant   \\n\\n\\n\\n\\n\\n\\n\\n\\n...</td>\n",
       "      <td>Miscellaneous Parking Violation \\r{ Ordinance ...</td>\n",
       "      <td>Gheia Shonta Johnson\\nAge 44 years old\\nBorn A...</td>\n",
       "      <td>SHONYSHON6@YAHOO.COM</td>\n",
       "      <td>(816) 516-1712</td>\n",
       "      <td>NaN</td>\n",
       "      <td>0</td>\n",
       "    </tr>\n",
       "    <tr>\n",
       "      <th>...</th>\n",
       "      <td>...</td>\n",
       "      <td>...</td>\n",
       "      <td>...</td>\n",
       "      <td>...</td>\n",
       "      <td>...</td>\n",
       "      <td>...</td>\n",
       "      <td>...</td>\n",
       "      <td>...</td>\n",
       "      <td>...</td>\n",
       "      <td>...</td>\n",
       "      <td>...</td>\n",
       "      <td>...</td>\n",
       "      <td>...</td>\n",
       "      <td>...</td>\n",
       "      <td>...</td>\n",
       "      <td>...</td>\n",
       "    </tr>\n",
       "    <tr>\n",
       "      <th>570</th>\n",
       "      <td>220252945</td>\n",
       "      <td>Traffic%2FMunicipal</td>\n",
       "      <td>CT16</td>\n",
       "      <td>Jackson County - 16th Judicial Circuit</td>\n",
       "      <td>2023-02-01</td>\n",
       "      <td>LISA</td>\n",
       "      <td>TUCKER</td>\n",
       "      <td>True</td>\n",
       "      <td>44</td>\n",
       "      <td>1979</td>\n",
       "      <td>Animal License \\r{ Ordinance RSMo: Not Availab...</td>\n",
       "      <td>Lisa D Johnson\\nAge 42 years old\\nBorn Novembe...</td>\n",
       "      <td>BRUNOMAN520@GMAIL.COM</td>\n",
       "      <td>(417) 489-4366</td>\n",
       "      <td>NaN</td>\n",
       "      <td>0</td>\n",
       "    </tr>\n",
       "    <tr>\n",
       "      <th>571</th>\n",
       "      <td>220252946</td>\n",
       "      <td>Traffic%2FMunicipal</td>\n",
       "      <td>CT16</td>\n",
       "      <td>Jackson County - 16th Judicial Circuit</td>\n",
       "      <td>2023-02-01</td>\n",
       "      <td>LISA</td>\n",
       "      <td>TUCKER</td>\n",
       "      <td>True</td>\n",
       "      <td>44</td>\n",
       "      <td>1979</td>\n",
       "      <td>Animal License \\r{ Ordinance RSMo: Not Availab...</td>\n",
       "      <td>Lisa D Johnson\\nAge 42 years old\\nBorn Novembe...</td>\n",
       "      <td>BRUNOMAN520@GMAIL.COM</td>\n",
       "      <td>(417) 489-4366</td>\n",
       "      <td>NaN</td>\n",
       "      <td>0</td>\n",
       "    </tr>\n",
       "    <tr>\n",
       "      <th>572</th>\n",
       "      <td>210324008</td>\n",
       "      <td>Traffic%2FMunicipal</td>\n",
       "      <td>CT16</td>\n",
       "      <td>Jackson County - 16th Judicial Circuit</td>\n",
       "      <td>2023-02-01</td>\n",
       "      <td>EVERETT</td>\n",
       "      <td>WILLIAMS</td>\n",
       "      <td>True</td>\n",
       "      <td>30</td>\n",
       "      <td>1993</td>\n",
       "      <td>Dwi - Alcohol \\r{ Ordinance RSMo: Not Available }</td>\n",
       "      <td>Everett L Williams\\nAge 31 years old\\nBorn 199...</td>\n",
       "      <td>chrsshea@gmail.com</td>\n",
       "      <td>No phone numbers found</td>\n",
       "      <td>NaN</td>\n",
       "      <td>0</td>\n",
       "    </tr>\n",
       "    <tr>\n",
       "      <th>573</th>\n",
       "      <td>210333626</td>\n",
       "      <td>Traffic%2FMunicipal</td>\n",
       "      <td>CT16</td>\n",
       "      <td>Jackson County - 16th Judicial Circuit</td>\n",
       "      <td>2023-02-01</td>\n",
       "      <td>CHAD</td>\n",
       "      <td>ESRY</td>\n",
       "      <td>True</td>\n",
       "      <td>35</td>\n",
       "      <td>1988</td>\n",
       "      <td>Driver Of Mtr Veh Failed To Wear Properly Adju...</td>\n",
       "      <td>Chad Dustin Esry\\nAge 34 years old\\nBorn April...</td>\n",
       "      <td>ESRY43CHAD43@GMAIL.COM</td>\n",
       "      <td>(816) 824-2981</td>\n",
       "      <td>NaN</td>\n",
       "      <td>0</td>\n",
       "    </tr>\n",
       "    <tr>\n",
       "      <th>574</th>\n",
       "      <td>210333546</td>\n",
       "      <td>Traffic%2FMunicipal</td>\n",
       "      <td>CT16</td>\n",
       "      <td>Jackson County - 16th Judicial Circuit</td>\n",
       "      <td>2023-02-01</td>\n",
       "      <td>CLAYTON</td>\n",
       "      <td>MARTIN</td>\n",
       "      <td>True</td>\n",
       "      <td>39</td>\n",
       "      <td>1984</td>\n",
       "      <td>Exceeded Posted Speed Limit (1-5 Mph Over) \\r{...</td>\n",
       "      <td>Clayton W Martin Jr\\nAge 38 years old\\nBorn Au...</td>\n",
       "      <td>No email addresses found</td>\n",
       "      <td>(816) 716-2411</td>\n",
       "      <td>NaN</td>\n",
       "      <td>0</td>\n",
       "    </tr>\n",
       "  </tbody>\n",
       "</table>\n",
       "<p>575 rows × 16 columns</p>\n",
       "</div>"
      ],
      "text/plain": [
       "       case_id            case_type      court_code  \\\n",
       "0    220306490  Traffic%2FMunicipal  SMPDB0001_CT07   \n",
       "1    190095621  Traffic%2FMunicipal  SMPDB0001_CT07   \n",
       "2    190099770  Traffic%2FMunicipal  SMPDB0001_CT07   \n",
       "3    190095620  Traffic%2FMunicipal  SMPDB0001_CT07   \n",
       "4    190098041  Traffic%2FMunicipal  SMPDB0001_CT07   \n",
       "..         ...                  ...             ...   \n",
       "570  220252945  Traffic%2FMunicipal            CT16   \n",
       "571  220252946  Traffic%2FMunicipal            CT16   \n",
       "572  210324008  Traffic%2FMunicipal            CT16   \n",
       "573  210333626  Traffic%2FMunicipal            CT16   \n",
       "574  210333546  Traffic%2FMunicipal            CT16   \n",
       "\n",
       "                                 court_name   case_date first_name last_name  \\\n",
       "0        Clay County - 7th Judicial Circuit  2023-01-20    MADISON       RAY   \n",
       "1        Clay County - 7th Judicial Circuit  2023-01-20      JASON    WISDOM   \n",
       "2        Clay County - 7th Judicial Circuit  2023-01-20     ISRAEL    CHACON   \n",
       "3        Clay County - 7th Judicial Circuit  2023-01-20      JASON    WISDOM   \n",
       "4        Clay County - 7th Judicial Circuit  2023-01-20      GHEIA      TURK   \n",
       "..                                      ...         ...        ...       ...   \n",
       "570  Jackson County - 16th Judicial Circuit  2023-02-01       LISA    TUCKER   \n",
       "571  Jackson County - 16th Judicial Circuit  2023-02-01       LISA    TUCKER   \n",
       "572  Jackson County - 16th Judicial Circuit  2023-02-01    EVERETT  WILLIAMS   \n",
       "573  Jackson County - 16th Judicial Circuit  2023-02-01       CHAD      ESRY   \n",
       "574  Jackson County - 16th Judicial Circuit  2023-02-01    CLAYTON    MARTIN   \n",
       "\n",
       "     been_verified age                                      year_of_birth  \\\n",
       "0             True  29                                               1994   \n",
       "1             True      [WISDOM, JASON R, Defendant   \\n\\n\\n\\n\\n\\n\\n\\n...   \n",
       "2             True      [CHACON, ISRAEL, Defendant   \\n\\n\\n\\n\\n\\n\\n\\n\\...   \n",
       "3             True      [WISDOM, JASON R, Defendant   \\n\\n\\n\\n\\n\\n\\n\\n...   \n",
       "4             True      [TURK, GHEIA S, Defendant   \\n\\n\\n\\n\\n\\n\\n\\n\\n...   \n",
       "..             ...  ..                                                ...   \n",
       "570           True  44                                               1979   \n",
       "571           True  44                                               1979   \n",
       "572           True  30                                               1993   \n",
       "573           True  35                                               1988   \n",
       "574           True  39                                               1984   \n",
       "\n",
       "                                               charges  \\\n",
       "0    Fail To Stop At Stop Sign At Stop Line/Before ...   \n",
       "1    Miscellaneous Parking Violation \\r{ Ordinance ...   \n",
       "2    Parking Violation \\r{ Ordinance RSMo: Not Avai...   \n",
       "3    Handicapped Parking Violation \\r{ Ordinance RS...   \n",
       "4    Miscellaneous Parking Violation \\r{ Ordinance ...   \n",
       "..                                                 ...   \n",
       "570  Animal License \\r{ Ordinance RSMo: Not Availab...   \n",
       "571  Animal License \\r{ Ordinance RSMo: Not Availab...   \n",
       "572  Dwi - Alcohol \\r{ Ordinance RSMo: Not Available }   \n",
       "573  Driver Of Mtr Veh Failed To Wear Properly Adju...   \n",
       "574  Exceeded Posted Speed Limit (1-5 Mph Over) \\r{...   \n",
       "\n",
       "                                               details  \\\n",
       "0    Madison D Ray\\nAge 31 years old\\nBorn October ...   \n",
       "1    Jason Wisdom\\nAge 21 years old\\nBorn August 20...   \n",
       "2    Israel Chacon\\nAge 27 years old\\nBorn November...   \n",
       "3    Jason Wisdom\\nAge 21 years old\\nBorn August 20...   \n",
       "4    Gheia Shonta Johnson\\nAge 44 years old\\nBorn A...   \n",
       "..                                                 ...   \n",
       "570  Lisa D Johnson\\nAge 42 years old\\nBorn Novembe...   \n",
       "571  Lisa D Johnson\\nAge 42 years old\\nBorn Novembe...   \n",
       "572  Everett L Williams\\nAge 31 years old\\nBorn 199...   \n",
       "573  Chad Dustin Esry\\nAge 34 years old\\nBorn April...   \n",
       "574  Clayton W Martin Jr\\nAge 38 years old\\nBorn Au...   \n",
       "\n",
       "                         email                   phone interactions  \\\n",
       "0    DKRAYLOVESJESUS@GMAIL.COM          (417) 838-7987           []   \n",
       "1      jasonwisdom77@gmail.com          (573) 480-1786          NaN   \n",
       "2         ISRABB1995@GMAIL.COM  No phone numbers found          NaN   \n",
       "3      jasonwisdom77@gmail.com          (573) 480-1786          NaN   \n",
       "4         SHONYSHON6@YAHOO.COM          (816) 516-1712          NaN   \n",
       "..                         ...                     ...          ...   \n",
       "570      BRUNOMAN520@GMAIL.COM          (417) 489-4366          NaN   \n",
       "571      BRUNOMAN520@GMAIL.COM          (417) 489-4366          NaN   \n",
       "572         chrsshea@gmail.com  No phone numbers found          NaN   \n",
       "573     ESRY43CHAD43@GMAIL.COM          (816) 824-2981          NaN   \n",
       "574   No email addresses found          (816) 716-2411          NaN   \n",
       "\n",
       "     interactions_counts  \n",
       "0                      0  \n",
       "1                      0  \n",
       "2                      0  \n",
       "3                      0  \n",
       "4                      0  \n",
       "..                   ...  \n",
       "570                    0  \n",
       "571                    0  \n",
       "572                    0  \n",
       "573                    0  \n",
       "574                    0  \n",
       "\n",
       "[575 rows x 16 columns]"
      ]
     },
     "execution_count": 54,
     "metadata": {},
     "output_type": "execute_result"
    }
   ],
   "source": [
    "data"
   ]
  },
  {
   "cell_type": "code",
   "execution_count": 55,
   "metadata": {},
   "outputs": [
    {
     "name": "stdout",
     "output_type": "stream",
     "text": [
      "75.30% of the cases have a phone number\n"
     ]
    }
   ],
   "source": [
    "# How many phone numbers we get\n",
    "cases_with_phone_nb = data.phone.map(lambda x: 1 if \"no\" not in x.lower() else 0).sum() / data.case_id.count()\n",
    "print(f\"{cases_with_phone_nb*100:.2f}% of the cases have a phone number\")\n"
   ]
  },
  {
   "cell_type": "code",
   "execution_count": 69,
   "metadata": {},
   "outputs": [
    {
     "data": {
      "text/html": [
       "\n",
       "\n",
       "    <h2>Clay County - 7th Judicial Circuit</h2>\n",
       "    <p>Number of leads: 199</p>\n",
       "    <p>Number of leads contacted: 35</p>\n",
       "    <p>Number of leads contacted in percentage: 17.59%</p>\n",
       "    <p>Number of leads with phone number: 68.84%</p>\n",
       "\n",
       "    <h2>Crawford County - 42nd Judicial Circuit</h2>\n",
       "    <p>Number of leads: 6</p>\n",
       "    <p>Number of leads contacted: 4</p>\n",
       "    <p>Number of leads contacted in percentage: 66.67%</p>\n",
       "    <p>Number of leads with phone number: 83.33%</p>\n",
       "\n",
       "    <h2>Jackson County - 16th Judicial Circuit</h2>\n",
       "    <p>Number of leads: 370</p>\n",
       "    <p>Number of leads contacted: 120</p>\n",
       "    <p>Number of leads contacted in percentage: 32.43%</p>\n",
       "    <p>Number of leads with phone number: 78.65%</p>\n"
      ],
      "text/plain": [
       "<IPython.core.display.HTML object>"
      ]
     },
     "execution_count": 69,
     "metadata": {},
     "output_type": "execute_result"
    }
   ],
   "source": [
    "statistics_html_template = \"\"\"\n",
    "{% for county, county_data in data.items() %}\n",
    "    <h2>{{county}}</h2>\n",
    "    <p>Number of leads: {{county_data[\"cases\"]}}</p>\n",
    "    <p>Number of leads contacted: {{county_data[\"interactions\"]}}</p>\n",
    "    <p>Number of leads contacted in percentage: {{county_data[\"interactions_per_case\"]}}</p>\n",
    "    <p>Number of leads with phone number: {{county_data[\"cases_with_phone_nb\"]}}</p>\n",
    "{% endfor %}\n",
    "\"\"\"\n",
    "\n",
    "template = jinja2.Template(statistics_html_template)\n",
    "data_output = {}\n",
    "for county, county_data in data.groupby(\"court_name\"):\n",
    "    data_output[county] = {\n",
    "        \"cases\": county_data.case_id.count(),\n",
    "        \"interactions\": f\"{county_data.interactions_counts.sum():.0f}\",\n",
    "        \"interactions_per_case\": f\"{100*county_data.interactions_counts.sum() / county_data.case_id.count():.2f}%\",\n",
    "        \"cases_with_phone_nb\": f\"{100*county_data.phone.map(lambda x: 1 if 'no' not in x.lower() else 0).sum() / county_data.case_id.count():.2f}%\"\n",
    "    }\n",
    "\n",
    "HTML(template.render(data=data_output))\n"
   ]
  },
  {
   "cell_type": "code",
   "execution_count": null,
   "metadata": {},
   "outputs": [],
   "source": []
  }
 ],
 "metadata": {
  "kernelspec": {
   "display_name": "venv",
   "language": "python",
   "name": "python3"
  },
  "language_info": {
   "codemirror_mode": {
    "name": "ipython",
    "version": 3
   },
   "file_extension": ".py",
   "mimetype": "text/x-python",
   "name": "python",
   "nbconvert_exporter": "python",
   "pygments_lexer": "ipython3",
   "version": "3.9.15"
  },
  "orig_nbformat": 4,
  "vscode": {
   "interpreter": {
    "hash": "1a9e5d6b0d4dbd8ed8ceb32b514c24b9c78cc6278424fcdbe963f0dd4f12f22e"
   }
  }
 },
 "nbformat": 4,
 "nbformat_minor": 2
}
